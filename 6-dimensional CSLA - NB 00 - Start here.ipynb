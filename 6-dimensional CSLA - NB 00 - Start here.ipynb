{
 "cells": [
  {
   "cell_type": "markdown",
   "metadata": {},
   "source": [
    "# 6-dimensional CSLA - NB 00 - Start here\n",
    "\n",
    "This notebook is adjointed to the article \"The moduli space of left invariant metrics on six-dimensional characteristically solvable Lie algebras\" by I. Cardoso, A. Cosgaya, and S. Reggiani. Here we will state the code for the basic Sagemath objects and definitions to perform the computations for the article, hence the need to *start here*.\n"
   ]
  },
  {
   "cell_type": "markdown",
   "metadata": {},
   "source": [
    "## 1. Structure coefficients and construction of the Lie Algebras\n",
    "\n",
    "We start by loading a Sagemaht object which contains a dictionary whose keys are the algebra names and whose values are the structure coefficient 6-list. This dictionary has already been defined hence there is no need to entry the data each time."
   ]
  },
  {
   "cell_type": "code",
   "execution_count": 1,
   "metadata": {},
   "outputs": [
    {
     "data": {
      "text/plain": [
       "{'h1': ['0', '0', '0', '0', '0', '0'],\n",
       " 'h2': ['0', '0', '0', '0', '12', '34'],\n",
       " 'h3': ['0', '0', '0', '0', '0', '12+34'],\n",
       " 'h4': ['0', '0', '0', '0', '12', '14+23'],\n",
       " 'h5': ['0', '0', '0', '0', '13+42', '14+23'],\n",
       " 'h6': ['0', '0', '0', '0', '12', '13'],\n",
       " 'h7': ['0', '0', '0', '12', '13', '23'],\n",
       " 'h8': ['0', '0', '0', '0', '0', '12'],\n",
       " 'h9': ['0', '0', '0', '0', '12', '14+25'],\n",
       " 'h10': ['0', '0', '0', '12', '13', '14'],\n",
       " 'h11': ['0', '0', '0', '12', '13', '14+23'],\n",
       " 'h12': ['0', '0', '0', '12', '13', '24'],\n",
       " 'h13': ['0', '0', '0', '12', '13+14', '24'],\n",
       " 'h14': ['0', '0', '0', '12', '14', '13+42'],\n",
       " 'h15': ['0', '0', '0', '12', '13+42', '14+23'],\n",
       " 'h16': ['0', '0', '0', '12', '14', '24'],\n",
       " 'h17': ['0', '0', '0', '0', '12', '15'],\n",
       " 'h18': ['0', '0', '0', '12', '13', '14+35'],\n",
       " 'h19+': ['0', '0', '0', '12', '23', '14+35'],\n",
       " 'h19-': ['0', '0', '0', '12', '23', '14-35'],\n",
       " 'h20': ['0', '0', '0', '0', '12', '15+34'],\n",
       " 'h21': ['0', '0', '0', '12', '14', '15'],\n",
       " 'h22': ['0', '0', '0', '12', '14', '15+24'],\n",
       " 'h23': ['0', '0', '12', '13', '23', '14'],\n",
       " 'h24': ['0', '0', '0', '12', '14', '15+23+24'],\n",
       " 'h25': ['0', '0', '0', '12', '14', '15+23'],\n",
       " 'h26+': ['0', '0', '12', '13', '23', '14+25'],\n",
       " 'h26-': ['0', '0', '12', '13', '23', '14-25'],\n",
       " 'h27': ['0', '0', '0', '12', '14-23', '15+34'],\n",
       " 'h28': ['0', '0', '12', '13', '14', '15'],\n",
       " 'h29': ['0', '0', '12', '13', '14', '23+15'],\n",
       " 'h30': ['0', '0', '12', '13', '14+23', '24+15'],\n",
       " 'h31': ['0', '0', '12', '13', '14', '34+52'],\n",
       " 'h32': ['0', '0', '12', '13', '14+23', '34+52']}"
      ]
     },
     "execution_count": 1,
     "metadata": {},
     "output_type": "execute_result"
    }
   ],
   "source": [
    "algebras_nums_dict = load('algebras_nums_dict')\n",
    "algebras_nums_dict"
   ]
  },
  {
   "cell_type": "markdown",
   "metadata": {},
   "source": [
    "Next we see the code for the function that will take each list of structure coeficients and turn it into a Lie Algebra for Sagemath."
   ]
  },
  {
   "cell_type": "code",
   "execution_count": 2,
   "metadata": {},
   "outputs": [],
   "source": [
    "def coef_str(nums):\n",
    "    '''Input: A list containing the strings of numbers according to\n",
    "    the Salamon classification Output: A dictionary containing the\n",
    "    structure coefficient as required by the LieAlgebra class\n",
    "\n",
    "    '''\n",
    "    coef_str_dict = dict()\n",
    "    for k in range(6):\n",
    "        st = nums[k].replace(\" \", \"\")\n",
    "        sg = -1 \n",
    "        if len(st) == 2:\n",
    "            coef_str_dict[(\"e\"+st[0], \"e\"+st[1])] = {\"e\"+str(k+1) : sg }\n",
    "        elif len(st) == 5:\n",
    "            coef_str_dict[(\"e\"+st[0], \"e\"+st[1])] = {\"e\"+str(k+1) : sg }\n",
    "            if st[2] == \"-\":\n",
    "                sg = 1\n",
    "                coef_str_dict[(\"e\"+st[3], \"e\"+st[4])] = {\"e\"+str(k+1) : sg }\n",
    "            else:\n",
    "                coef_str_dict[(\"e\"+st[3], \"e\"+st[4])] = {\"e\"+str(k+1) : sg }\n",
    "        if len(st) == 8:\n",
    "            coef_str_dict[(\"e\"+st[0], \"e\"+st[1])] = {\"e\"+str(k+1) : sg }\n",
    "            coef_str_dict[(\"e\"+st[3], \"e\"+st[4])] = {\"e\"+str(k+1) : sg }\n",
    "            coef_str_dict[(\"e\"+st[6], \"e\"+st[7])] = {\"e\"+str(k+1) : sg }\n",
    "    return coef_str_dict"
   ]
  },
  {
   "cell_type": "markdown",
   "metadata": {},
   "source": [
    "The function **construct_the_algebra** inputs a key from the dictionary. It creates various (global) variables related to the Lie Algebra, which are self-understood from the code itself."
   ]
  },
  {
   "cell_type": "code",
   "execution_count": 3,
   "metadata": {},
   "outputs": [],
   "source": [
    "def construct_the_algebra(algebra_name):    \n",
    "    global alg_name\n",
    "    alg_name = algebra_name\n",
    "    global label\n",
    "    label = algebras_nums_dict[alg_name]\n",
    "    global ce\n",
    "    ce = coef_str(label)\n",
    "    global ce_dict\n",
    "    ce_dict = { alg_name : ce}\n",
    "    global alg\n",
    "    alg.<e1,e2,e3,e4,e5,e6> = LieAlgebra(SR, ce, nilpotent=True )\n",
    "    global basis\n",
    "    basis = alg.basis().values()\n",
    "    global der_basis\n",
    "    der_basis= alg.derivations_basis()\n",
    "    global der_dim\n",
    "    der_dim= len(der_basis)\n",
    "    global der_vars\n",
    "    der_vars = [var(\"d\"+str(i)) for i in range(der_dim)]\n",
    "    global der_gen\n",
    "    der_gen = sum(der_vars[i] * der_basis[i] for i in range(der_dim))\n",
    "    global Center\n",
    "    Center = alg.center()\n",
    "    global Center_dim\n",
    "    Center_dim = Center.dimension()\n",
    "    global Derivated\n",
    "    Derivated = alg.derived_subalgebra()\n",
    "    global Derivated_dim\n",
    "    Derivated_dim = Derivated.dimension()"
   ]
  },
  {
   "cell_type": "markdown",
   "metadata": {},
   "source": [
    "## 2. The algebra of derivations\n",
    "\n",
    "Among the global variables one finds a few related to the algebra of derivations.\n",
    "\n",
    "The function **generic_derivations** which we define below will give us the expression for a generic derivation. It also detects which of them have a lower triangular expression, and for that we define a few more functions."
   ]
  },
  {
   "cell_type": "code",
   "execution_count": 4,
   "metadata": {},
   "outputs": [],
   "source": [
    "def is_square(M):\n",
    "    return M.nrows() == M.ncols()\n",
    "def is_lower_triang(M):\n",
    "    a = 0\n",
    "    if is_square(M) == True:\n",
    "        n = M.ncols()\n",
    "        for i in range(n):\n",
    "            for j in range(i+1,n):\n",
    "                if M[i,j] != 0:\n",
    "                    a = a+1\n",
    "        return a == 0\n",
    "    else:\n",
    "        print('The matrix is not square.')\n",
    "def is_s_lower_triang(M):\n",
    "    a = 0\n",
    "    if is_square(M) == True:\n",
    "        n = M.ncols()\n",
    "        for i in range(n):\n",
    "            for j in range(i,n):\n",
    "                if M[i,j] != 0:\n",
    "                    a = a+1\n",
    "        return a == 0\n",
    "    else:\n",
    "        print('The matrix is not square.')\n",
    "def is_upper_triang(M):\n",
    "    a = 0\n",
    "    if is_square(M) == True:\n",
    "        n = M.ncols()\n",
    "        for i in range(n):\n",
    "            for j in range(i):\n",
    "                if M[i,j] != 0:\n",
    "                    a = a+1\n",
    "        return a == 0\n",
    "    else:\n",
    "        print('The matrix is not square.')\n",
    "def is_diagonal(M):\n",
    "    a = False\n",
    "    if is_lower_triang(M) == True:\n",
    "        if is_upper_triang(M) == True:\n",
    "            a = True\n",
    "    return a"
   ]
  },
  {
   "cell_type": "code",
   "execution_count": 5,
   "metadata": {},
   "outputs": [],
   "source": [
    "def generic_derivations(algebra_name):\n",
    "    construct_the_algebra(algebra_name)\n",
    "    global der_basis_diag\n",
    "    der_basis_diag = []\n",
    "    global index_der_basis_diag\n",
    "    index_der_basis_diag = []\n",
    "    global der_basis_slt\n",
    "    der_basis_slt = []\n",
    "    global index_der_basis_slt\n",
    "    index_der_basis_slt = []\n",
    "    for i in range(der_dim):\n",
    "            deri = der_basis[i]\n",
    "            if is_diagonal(deri) == True:\n",
    "                der_basis_diag.append(deri)\n",
    "                index_der_basis_diag.append(i)\n",
    "            if is_s_lower_triang(deri) == True:\n",
    "                der_basis_slt.append(deri)\n",
    "                index_der_basis_slt.append(i)\n",
    "    global der_gen_diag\n",
    "    der_gen_diag = diagonal_matrix(der_gen.diagonal()) #generic diagonal derivation\n",
    "    global der_gen_slt\n",
    "    der_gen_slt = der_gen - der_gen_diag #generic strictly triangular derivation\n",
    "    global der_vars_diag\n",
    "    der_vars_diag = [der_vars[i] for i in index_der_basis_diag]\n",
    "    global der_vars_slt\n",
    "    der_vars_slt = [der_vars[i] for i in index_der_basis_slt]"
   ]
  },
  {
   "cell_type": "markdown",
   "metadata": {},
   "source": [
    "By aid of this function we are able to find which of the Lie Algebras of the list are CLSA. Moreover, each generic matrix is represented by a lower triangular matrix. This result is stated in Proposition 2.1 and a separate notebook will be given to show this result."
   ]
  },
  {
   "cell_type": "markdown",
   "metadata": {},
   "source": [
    "The next portion of code will update the dictionary to the notation for the structure coefficients obtained after performing the suitable change of basis for the algebras $\\mathfrak{h}_9$, $\\mathfrak{h}_{18}$, $\\mathfrak{h}_{19}^+$ and $\\mathfrak{h}_{26}^-$, according to Proposition 2.1. "
   ]
  },
  {
   "cell_type": "code",
   "execution_count": 6,
   "metadata": {},
   "outputs": [],
   "source": [
    "algebras_nums_dict_bis = { 'h9_bis' : [ '0', '0' , '0', '0', '21', '15+23'],\n",
    "                           'h9_tris' :  [ '0' , '0' , '0' , '0' , '12', '51+23' ],\n",
    "                           'h18_bis' : [ '0', '0' , '0', '12', '13', '15+24'],\n",
    "                           'h19+_bis' : [ '0', '0' , '0', '32', '12', '14+35'],\n",
    "                           'h19+_tris' : [ '0', '0' , '0' , '23' , '21', '14+35'],\n",
    "                           'h26-_bis' : [ '0', '0' , '12', '31', '32', '15+24']}\n",
    "\n",
    "algebras_nums_dict.update(algebras_nums_dict_bis)"
   ]
  },
  {
   "cell_type": "markdown",
   "metadata": {},
   "source": [
    "A list of the names of the CSLA is also already stored in an object. We load it and make some useful new variables."
   ]
  },
  {
   "cell_type": "code",
   "execution_count": 7,
   "metadata": {},
   "outputs": [],
   "source": [
    "names_lower = load('Names_Lower_Algs_of_der_list.sobj')\n",
    "names_bis = ['h9_bis','h18_bis','h19+_bis','h26-_bis']\n",
    "names_tris = ['h9_bis','h9_tris', 'h18_bis','h19+_bis', 'h19+_tris', 'h26-_bis']\n",
    "names = names_lower + names_tris\n",
    "algebras_nums_l = {key: algebras_nums_dict[key] for key in names}"
   ]
  },
  {
   "cell_type": "markdown",
   "metadata": {},
   "source": [
    "## 3. The generic automorphisms for CLSA"
   ]
  },
  {
   "cell_type": "markdown",
   "metadata": {},
   "source": [
    "Next we share the code that constructs the generic automorphism for a CLSA. Please note that this algorithm strongly uses that the generic derivations have a lower triangular matrix form."
   ]
  },
  {
   "cell_type": "code",
   "execution_count": 8,
   "metadata": {},
   "outputs": [],
   "source": [
    "def first_appearence(matriz, variables):\n",
    "    coefficient_dict = {}\n",
    "    for d in variables:\n",
    "        coefficient_dict[d] = sorted(matriz.find(lambda coef: coef == d,indices=True))[0]\n",
    "    return coefficient_dict\n",
    "\n",
    "def generic_automorphisms(algebra_name):\n",
    "#    construct_the_algebra(algebra_name)\n",
    "    generic_derivations(algebra_name)\n",
    "    global auto_gen\n",
    "    auto_gen = exp(der_gen)\n",
    "    global aut_gen_slt\n",
    "    aut_gen_slt = exp(der_gen_slt)\n",
    "    global aut_gen_diag\n",
    "    aut_gen_diag = exp(der_gen_diag)\n",
    "    global aut_vars\n",
    "    aut_vars =  [var(\"a\"+str(i)) for i in range(der_dim)]\n",
    "    global aut_vars_diag\n",
    "    aut_vars_diag = [aut_vars[i] for i in index_der_basis_diag]\n",
    "    global aut_vars_slt\n",
    "    aut_vars_slt = [aut_vars[i] for i in index_der_basis_slt]\n",
    "    global der_vars_coeffs\n",
    "    der_vars_coeffs = first_appearence(der_gen,der_vars)\n",
    "    A = aut_gen_slt\n",
    "    for k in range(len(der_vars_slt)):\n",
    "        d = der_vars_slt[k]\n",
    "        a = aut_vars_slt[k]\n",
    "        i,j = der_vars_coeffs[d]\n",
    "        A = A.subs(d==a-A[i,j]+d)\n",
    "    global aut_gen_diag_list \n",
    "    aut_gen_diag_list = [exp(der_vars_diag[k] * der_basis_diag[k]).subs(der_vars_diag[k]==log(aut_vars_diag[k])) for k in range(len(der_vars_diag))]\n",
    "    for A_diag in aut_gen_diag_list:\n",
    "        A = A * A_diag\n",
    "        for k in range(len(aut_vars_slt)):\n",
    "            d = der_vars_slt[k]\n",
    "            a = aut_vars_slt[k]\n",
    "            i,j = der_vars_coeffs[d]\n",
    "            A = A.subs(a==a/(A[i,j]/a))\n",
    "    A.simplify_full()\n",
    "    global aut_gen\n",
    "    aut_gen = A.simplify_full()"
   ]
  },
  {
   "cell_type": "markdown",
   "metadata": {},
   "source": [
    "## 4. The generic metrics for CSLA\n",
    "\n",
    "Finally the next function will construct the matrix for a generic metric. Again, this algorithm relies on the basis expression for the derivations and the automorphisms."
   ]
  },
  {
   "cell_type": "code",
   "execution_count": 9,
   "metadata": {},
   "outputs": [],
   "source": [
    "def generic_metric(algebra_name):\n",
    "#    construct_the_algebra(algebra_name)\n",
    "#    generic_derivations(algebra_name)\n",
    "    generic_automorphisms(algebra_name)\n",
    "    global aut_vars_coeffs\n",
    "    aut_vars_coeffs = first_appearence(aut_gen,aut_vars)\n",
    "    global Sigma\n",
    "    Sigma = identity_matrix(SR, 6)\n",
    "    aut_vars_coeffs_values = aut_vars_coeffs.values()\n",
    "    count = 0\n",
    "    for i in range(6):\n",
    "        for j in range(i+1):\n",
    "            if (i,j) not in aut_vars_coeffs_values:\n",
    "                Sigma[i,j]=var(\"s\"+str(count))\n",
    "                count += 1\n",
    "    global g\n",
    "    g = transpose(Sigma)*Sigma\n"
   ]
  },
  {
   "cell_type": "markdown",
   "metadata": {},
   "source": [
    "Finally, we point out that all of the above code is contained in the file \"CSLA.sage\", which is loaded in several of the notebooks for the article."
   ]
  },
  {
   "cell_type": "markdown",
   "metadata": {},
   "source": [
    "---\n",
    "\n",
    "This notebook corresponds to the article \"The moduli space of left-invariant metrics on six-dimensional characteristically solvable nilmanifolds\" by I. Cardoso, A. Cosgaya, and S. Reggiani (2024)."
   ]
  }
 ],
 "metadata": {
  "kernelspec": {
   "display_name": "SageMath 9.3",
   "language": "sage",
   "name": "sagemath"
  },
  "language_info": {
   "codemirror_mode": {
    "name": "ipython",
    "version": 3
   },
   "file_extension": ".py",
   "mimetype": "text/x-python",
   "name": "python",
   "nbconvert_exporter": "python",
   "pygments_lexer": "ipython3",
   "version": "3.7.10"
  }
 },
 "nbformat": 4,
 "nbformat_minor": 4
}

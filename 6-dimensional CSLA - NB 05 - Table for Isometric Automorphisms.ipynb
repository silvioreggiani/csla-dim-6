{
 "cells": [
  {
   "cell_type": "code",
   "execution_count": 1,
   "metadata": {},
   "outputs": [],
   "source": [
    "%display latex"
   ]
  },
  {
   "cell_type": "markdown",
   "metadata": {},
   "source": [
    "# 6-dimensional CSLA - NB 05 - Table for isometric automorphisms"
   ]
  },
  {
   "cell_type": "markdown",
   "metadata": {},
   "source": [
    "In this notebook we obtain the information compiled in Tables 6 and 7 from the article.\n",
    "\n",
    "We will build a table which shows for each algebra and the generic $\\sigma$ that gives place to a metric, the number of free non diagonal variables $nd(\\sigma)$ from $\\sigma$, and according to the amount of zero substitutions of these parameters, the amount of subgroups from $D$ that arise from the computation of the isometric automorphisms, which are in turn isomorphic to $\\mathbb{Z}_{2}^{k}$, for $k=0,1,2,3$."
   ]
  },
  {
   "cell_type": "markdown",
   "metadata": {},
   "source": [
    "---"
   ]
  },
  {
   "cell_type": "markdown",
   "metadata": {},
   "source": [
    "Let us start by modifying the list `names` defined in `CSLA.sage` with a representative for each CSLA. This list is now ordered with the lexicographic order."
   ]
  },
  {
   "cell_type": "code",
   "execution_count": 2,
   "metadata": {},
   "outputs": [
    {
     "data": {
      "text/html": [
       "<html><script type=\"math/tex; mode=display\">\\newcommand{\\Bold}[1]{\\mathbf{#1}}\\left[\\verb|h9_tris|, \\verb|h10|, \\verb|h11|, \\verb|h12|, \\verb|h13|, \\verb|h14|, \\verb|h18_bis|, \\verb|h19+_tris|, \\verb|h21|, \\verb|h22|, \\verb|h23|, \\verb|h24|, \\verb|h25|, \\verb|h26-_bis|, \\verb|h27|, \\verb|h28|, \\verb|h29|, \\verb|h30|, \\verb|h31|, \\verb|h32|\\right]</script></html>"
      ],
      "text/latex": [
       "$$\\newcommand{\\Bold}[1]{\\mathbf{#1}}\\left[\\verb|h9_tris|, \\verb|h10|, \\verb|h11|, \\verb|h12|, \\verb|h13|, \\verb|h14|, \\verb|h18_bis|, \\verb|h19+_tris|, \\verb|h21|, \\verb|h22|, \\verb|h23|, \\verb|h24|, \\verb|h25|, \\verb|h26-_bis|, \\verb|h27|, \\verb|h28|, \\verb|h29|, \\verb|h30|, \\verb|h31|, \\verb|h32|\\right]$$"
      ],
      "text/plain": [
       "['h9_tris',\n",
       " 'h10',\n",
       " 'h11',\n",
       " 'h12',\n",
       " 'h13',\n",
       " 'h14',\n",
       " 'h18_bis',\n",
       " 'h19+_tris',\n",
       " 'h21',\n",
       " 'h22',\n",
       " 'h23',\n",
       " 'h24',\n",
       " 'h25',\n",
       " 'h26-_bis',\n",
       " 'h27',\n",
       " 'h28',\n",
       " 'h29',\n",
       " 'h30',\n",
       " 'h31',\n",
       " 'h32']"
      ]
     },
     "execution_count": 2,
     "metadata": {},
     "output_type": "execute_result"
    }
   ],
   "source": [
    "load(\"CSLA.sage\")\n",
    "names.sort()\n",
    "names.remove(\"h9_bis\")\n",
    "names.remove(\"h19+_bis\")\n",
    "names = [names[-1]] + names[:-1]\n",
    "names"
   ]
  },
  {
   "cell_type": "markdown",
   "metadata": {},
   "source": [
    "Since we are not going to recall $\\mathfrak{h}_{13}$, $\\mathfrak{h}_{19}^{+}$ and $\\mathfrak{h}_{26}^-$, we just pop them out from the list."
   ]
  },
  {
   "cell_type": "code",
   "execution_count": 3,
   "metadata": {},
   "outputs": [
    {
     "data": {
      "text/html": [
       "<html><script type=\"math/tex; mode=display\">\\newcommand{\\Bold}[1]{\\mathbf{#1}}\\left[\\verb|h9_tris|, \\verb|h10|, \\verb|h11|, \\verb|h12|, \\verb|h14|, \\verb|h18_bis|, \\verb|h21|, \\verb|h22|, \\verb|h23|, \\verb|h24|, \\verb|h25|, \\verb|h27|, \\verb|h28|, \\verb|h29|, \\verb|h30|, \\verb|h31|, \\verb|h32|\\right]</script></html>"
      ],
      "text/latex": [
       "$$\\newcommand{\\Bold}[1]{\\mathbf{#1}}\\left[\\verb|h9_tris|, \\verb|h10|, \\verb|h11|, \\verb|h12|, \\verb|h14|, \\verb|h18_bis|, \\verb|h21|, \\verb|h22|, \\verb|h23|, \\verb|h24|, \\verb|h25|, \\verb|h27|, \\verb|h28|, \\verb|h29|, \\verb|h30|, \\verb|h31|, \\verb|h32|\\right]$$"
      ],
      "text/plain": [
       "['h9_tris',\n",
       " 'h10',\n",
       " 'h11',\n",
       " 'h12',\n",
       " 'h14',\n",
       " 'h18_bis',\n",
       " 'h21',\n",
       " 'h22',\n",
       " 'h23',\n",
       " 'h24',\n",
       " 'h25',\n",
       " 'h27',\n",
       " 'h28',\n",
       " 'h29',\n",
       " 'h30',\n",
       " 'h31',\n",
       " 'h32']"
      ]
     },
     "execution_count": 3,
     "metadata": {},
     "output_type": "execute_result"
    }
   ],
   "source": [
    "# Warning: running more than once this cell will arise an error \n",
    "#          that won't affect the desired result\n",
    "names.pop(names.index('h26-_bis'))\n",
    "names.pop(names.index('h19+_tris'))\n",
    "names.pop(names.index('h13'))\n",
    "names"
   ]
  },
  {
   "cell_type": "markdown",
   "metadata": {},
   "source": [
    "---"
   ]
  },
  {
   "cell_type": "markdown",
   "metadata": {},
   "source": [
    "In order to illustrate the algorithm, we follow an example throughout its steps."
   ]
  },
  {
   "cell_type": "markdown",
   "metadata": {},
   "source": [
    "We start by defining a function which imputs an algebra (its name) from the list and returns a generic diagonal automorphism."
   ]
  },
  {
   "cell_type": "code",
   "execution_count": 4,
   "metadata": {},
   "outputs": [],
   "source": [
    "def generic_diagonal_automorphisms(name):\n",
    "    #Warning: construct_the_algebra(name) and generic_automorphisms(name) must be preloaded\n",
    "    global A\n",
    "    A = aut_gen\n",
    "    for a in aut_vars:\n",
    "        if not (a in aut_vars_diag):\n",
    "            A = A.subs(a==0)\n",
    "    return A  "
   ]
  },
  {
   "cell_type": "code",
   "execution_count": 5,
   "metadata": {},
   "outputs": [
    {
     "data": {
      "text/html": [
       "h9_tris"
      ],
      "text/plain": [
       "'h9_tris'"
      ]
     },
     "execution_count": 5,
     "metadata": {},
     "output_type": "execute_result"
    }
   ],
   "source": [
    "construct_the_algebra(names[0])\n",
    "alg_name"
   ]
  },
  {
   "cell_type": "code",
   "execution_count": 6,
   "metadata": {},
   "outputs": [
    {
     "data": {
      "text/html": [
       "<html><script type=\"math/tex; mode=display\">\\newcommand{\\Bold}[1]{\\mathbf{#1}}\\left(\\begin{array}{rrrrrr}\n",
       "a_{0} & 0 & 0 & 0 & 0 & 0 \\\\\n",
       "a_{1} & a_{2} & 0 & 0 & 0 & 0 \\\\\n",
       "a_{3} & a_{4} & a_{0}^{2} & 0 & 0 & 0 \\\\\n",
       "a_{5} & a_{6} & a_{7} & a_{8} & 0 & 0 \\\\\n",
       "a_{9} & a_{10} & a_{0} a_{1} & 0 & a_{0} a_{2} & 0 \\\\\n",
       "a_{11} & a_{12} & a_{13} & a_{14} & -a_{0} a_{10} - a_{2} a_{3} + a_{1} a_{4} & a_{0}^{2} a_{2}\n",
       "\\end{array}\\right)</script></html>"
      ],
      "text/latex": [
       "$$\\newcommand{\\Bold}[1]{\\mathbf{#1}}\\left(\\begin{array}{rrrrrr}\n",
       "a_{0} & 0 & 0 & 0 & 0 & 0 \\\\\n",
       "a_{1} & a_{2} & 0 & 0 & 0 & 0 \\\\\n",
       "a_{3} & a_{4} & a_{0}^{2} & 0 & 0 & 0 \\\\\n",
       "a_{5} & a_{6} & a_{7} & a_{8} & 0 & 0 \\\\\n",
       "a_{9} & a_{10} & a_{0} a_{1} & 0 & a_{0} a_{2} & 0 \\\\\n",
       "a_{11} & a_{12} & a_{13} & a_{14} & -a_{0} a_{10} - a_{2} a_{3} + a_{1} a_{4} & a_{0}^{2} a_{2}\n",
       "\\end{array}\\right)$$"
      ],
      "text/plain": [
       "[                     a0                       0                       0                       0                       0                       0]\n",
       "[                     a1                      a2                       0                       0                       0                       0]\n",
       "[                     a3                      a4                    a0^2                       0                       0                       0]\n",
       "[                     a5                      a6                      a7                      a8                       0                       0]\n",
       "[                     a9                     a10                   a0*a1                       0                   a0*a2                       0]\n",
       "[                    a11                     a12                     a13                     a14 -a0*a10 - a2*a3 + a1*a4                 a0^2*a2]"
      ]
     },
     "execution_count": 6,
     "metadata": {},
     "output_type": "execute_result"
    }
   ],
   "source": [
    "generic_automorphisms(alg_name)\n",
    "aut_gen"
   ]
  },
  {
   "cell_type": "code",
   "execution_count": 7,
   "metadata": {},
   "outputs": [
    {
     "data": {
      "text/html": [
       "<html><script type=\"math/tex; mode=display\">\\newcommand{\\Bold}[1]{\\mathbf{#1}}\\left(\\begin{array}{rrrrrr}\n",
       "a_{0} & 0 & 0 & 0 & 0 & 0 \\\\\n",
       "0 & a_{2} & 0 & 0 & 0 & 0 \\\\\n",
       "0 & 0 & a_{0}^{2} & 0 & 0 & 0 \\\\\n",
       "0 & 0 & 0 & a_{8} & 0 & 0 \\\\\n",
       "0 & 0 & 0 & 0 & a_{0} a_{2} & 0 \\\\\n",
       "0 & 0 & 0 & 0 & 0 & a_{0}^{2} a_{2}\n",
       "\\end{array}\\right)</script></html>"
      ],
      "text/latex": [
       "$$\\newcommand{\\Bold}[1]{\\mathbf{#1}}\\left(\\begin{array}{rrrrrr}\n",
       "a_{0} & 0 & 0 & 0 & 0 & 0 \\\\\n",
       "0 & a_{2} & 0 & 0 & 0 & 0 \\\\\n",
       "0 & 0 & a_{0}^{2} & 0 & 0 & 0 \\\\\n",
       "0 & 0 & 0 & a_{8} & 0 & 0 \\\\\n",
       "0 & 0 & 0 & 0 & a_{0} a_{2} & 0 \\\\\n",
       "0 & 0 & 0 & 0 & 0 & a_{0}^{2} a_{2}\n",
       "\\end{array}\\right)$$"
      ],
      "text/plain": [
       "[     a0       0       0       0       0       0]\n",
       "[      0      a2       0       0       0       0]\n",
       "[      0       0    a0^2       0       0       0]\n",
       "[      0       0       0      a8       0       0]\n",
       "[      0       0       0       0   a0*a2       0]\n",
       "[      0       0       0       0       0 a0^2*a2]"
      ]
     },
     "execution_count": 7,
     "metadata": {},
     "output_type": "execute_result"
    }
   ],
   "source": [
    "generic_diagonal_automorphisms(alg_name)"
   ]
  },
  {
   "cell_type": "markdown",
   "metadata": {},
   "source": [
    "From the above generic diagonal automorphism, since we know that for a metric obtained from $\\sigma$ the isometric automorphisms are in $D$, we construct our candidates list by setting all of the possible combinations with each free diagonal value equal to $\\pm 1$. "
   ]
  },
  {
   "cell_type": "code",
   "execution_count": 8,
   "metadata": {},
   "outputs": [],
   "source": [
    "def candidates_for_orthogonal_automorphisms(name):\n",
    "    global orthogonal_aut_canonical\n",
    "    len_aut_vars_diag = len(aut_vars_diag)\n",
    "    index_minus_one_set = {x for x in range(len_aut_vars_diag)}\n",
    "    orthogonal_subs = []\n",
    "    for conj in powerset(index_minus_one_set):\n",
    "            orthogonal_subs_conj = {a:1 for a in aut_vars_diag}\n",
    "            for index in conj:\n",
    "                    orthogonal_subs_conj[aut_vars_diag[index]] = -1\n",
    "            orthogonal_subs.append(orthogonal_subs_conj)\n",
    "    orthogonal_aut_canonical = [A.subs(sbst) for sbst in orthogonal_subs]\n",
    "    return orthogonal_aut_canonical"
   ]
  },
  {
   "cell_type": "code",
   "execution_count": 9,
   "metadata": {},
   "outputs": [
    {
     "data": {
      "text/html": [
       "<html><script type=\"math/tex; mode=display\">\\newcommand{\\Bold}[1]{\\mathbf{#1}}\\left[\\left(\\begin{array}{rrrrrr}\n",
       "1 & 0 & 0 & 0 & 0 & 0 \\\\\n",
       "0 & 1 & 0 & 0 & 0 & 0 \\\\\n",
       "0 & 0 & 1 & 0 & 0 & 0 \\\\\n",
       "0 & 0 & 0 & 1 & 0 & 0 \\\\\n",
       "0 & 0 & 0 & 0 & 1 & 0 \\\\\n",
       "0 & 0 & 0 & 0 & 0 & 1\n",
       "\\end{array}\\right), \\left(\\begin{array}{rrrrrr}\n",
       "-1 & 0 & 0 & 0 & 0 & 0 \\\\\n",
       "0 & 1 & 0 & 0 & 0 & 0 \\\\\n",
       "0 & 0 & 1 & 0 & 0 & 0 \\\\\n",
       "0 & 0 & 0 & 1 & 0 & 0 \\\\\n",
       "0 & 0 & 0 & 0 & -1 & 0 \\\\\n",
       "0 & 0 & 0 & 0 & 0 & 1\n",
       "\\end{array}\\right), \\left(\\begin{array}{rrrrrr}\n",
       "1 & 0 & 0 & 0 & 0 & 0 \\\\\n",
       "0 & -1 & 0 & 0 & 0 & 0 \\\\\n",
       "0 & 0 & 1 & 0 & 0 & 0 \\\\\n",
       "0 & 0 & 0 & 1 & 0 & 0 \\\\\n",
       "0 & 0 & 0 & 0 & -1 & 0 \\\\\n",
       "0 & 0 & 0 & 0 & 0 & -1\n",
       "\\end{array}\\right), \\left(\\begin{array}{rrrrrr}\n",
       "-1 & 0 & 0 & 0 & 0 & 0 \\\\\n",
       "0 & -1 & 0 & 0 & 0 & 0 \\\\\n",
       "0 & 0 & 1 & 0 & 0 & 0 \\\\\n",
       "0 & 0 & 0 & 1 & 0 & 0 \\\\\n",
       "0 & 0 & 0 & 0 & 1 & 0 \\\\\n",
       "0 & 0 & 0 & 0 & 0 & -1\n",
       "\\end{array}\\right), \\left(\\begin{array}{rrrrrr}\n",
       "1 & 0 & 0 & 0 & 0 & 0 \\\\\n",
       "0 & 1 & 0 & 0 & 0 & 0 \\\\\n",
       "0 & 0 & 1 & 0 & 0 & 0 \\\\\n",
       "0 & 0 & 0 & -1 & 0 & 0 \\\\\n",
       "0 & 0 & 0 & 0 & 1 & 0 \\\\\n",
       "0 & 0 & 0 & 0 & 0 & 1\n",
       "\\end{array}\\right), \\left(\\begin{array}{rrrrrr}\n",
       "-1 & 0 & 0 & 0 & 0 & 0 \\\\\n",
       "0 & 1 & 0 & 0 & 0 & 0 \\\\\n",
       "0 & 0 & 1 & 0 & 0 & 0 \\\\\n",
       "0 & 0 & 0 & -1 & 0 & 0 \\\\\n",
       "0 & 0 & 0 & 0 & -1 & 0 \\\\\n",
       "0 & 0 & 0 & 0 & 0 & 1\n",
       "\\end{array}\\right), \\left(\\begin{array}{rrrrrr}\n",
       "1 & 0 & 0 & 0 & 0 & 0 \\\\\n",
       "0 & -1 & 0 & 0 & 0 & 0 \\\\\n",
       "0 & 0 & 1 & 0 & 0 & 0 \\\\\n",
       "0 & 0 & 0 & -1 & 0 & 0 \\\\\n",
       "0 & 0 & 0 & 0 & -1 & 0 \\\\\n",
       "0 & 0 & 0 & 0 & 0 & -1\n",
       "\\end{array}\\right), \\left(\\begin{array}{rrrrrr}\n",
       "-1 & 0 & 0 & 0 & 0 & 0 \\\\\n",
       "0 & -1 & 0 & 0 & 0 & 0 \\\\\n",
       "0 & 0 & 1 & 0 & 0 & 0 \\\\\n",
       "0 & 0 & 0 & -1 & 0 & 0 \\\\\n",
       "0 & 0 & 0 & 0 & 1 & 0 \\\\\n",
       "0 & 0 & 0 & 0 & 0 & -1\n",
       "\\end{array}\\right)\\right]</script></html>"
      ],
      "text/latex": [
       "$$\\newcommand{\\Bold}[1]{\\mathbf{#1}}\\left[\\left(\\begin{array}{rrrrrr}\n",
       "1 & 0 & 0 & 0 & 0 & 0 \\\\\n",
       "0 & 1 & 0 & 0 & 0 & 0 \\\\\n",
       "0 & 0 & 1 & 0 & 0 & 0 \\\\\n",
       "0 & 0 & 0 & 1 & 0 & 0 \\\\\n",
       "0 & 0 & 0 & 0 & 1 & 0 \\\\\n",
       "0 & 0 & 0 & 0 & 0 & 1\n",
       "\\end{array}\\right), \\left(\\begin{array}{rrrrrr}\n",
       "-1 & 0 & 0 & 0 & 0 & 0 \\\\\n",
       "0 & 1 & 0 & 0 & 0 & 0 \\\\\n",
       "0 & 0 & 1 & 0 & 0 & 0 \\\\\n",
       "0 & 0 & 0 & 1 & 0 & 0 \\\\\n",
       "0 & 0 & 0 & 0 & -1 & 0 \\\\\n",
       "0 & 0 & 0 & 0 & 0 & 1\n",
       "\\end{array}\\right), \\left(\\begin{array}{rrrrrr}\n",
       "1 & 0 & 0 & 0 & 0 & 0 \\\\\n",
       "0 & -1 & 0 & 0 & 0 & 0 \\\\\n",
       "0 & 0 & 1 & 0 & 0 & 0 \\\\\n",
       "0 & 0 & 0 & 1 & 0 & 0 \\\\\n",
       "0 & 0 & 0 & 0 & -1 & 0 \\\\\n",
       "0 & 0 & 0 & 0 & 0 & -1\n",
       "\\end{array}\\right), \\left(\\begin{array}{rrrrrr}\n",
       "-1 & 0 & 0 & 0 & 0 & 0 \\\\\n",
       "0 & -1 & 0 & 0 & 0 & 0 \\\\\n",
       "0 & 0 & 1 & 0 & 0 & 0 \\\\\n",
       "0 & 0 & 0 & 1 & 0 & 0 \\\\\n",
       "0 & 0 & 0 & 0 & 1 & 0 \\\\\n",
       "0 & 0 & 0 & 0 & 0 & -1\n",
       "\\end{array}\\right), \\left(\\begin{array}{rrrrrr}\n",
       "1 & 0 & 0 & 0 & 0 & 0 \\\\\n",
       "0 & 1 & 0 & 0 & 0 & 0 \\\\\n",
       "0 & 0 & 1 & 0 & 0 & 0 \\\\\n",
       "0 & 0 & 0 & -1 & 0 & 0 \\\\\n",
       "0 & 0 & 0 & 0 & 1 & 0 \\\\\n",
       "0 & 0 & 0 & 0 & 0 & 1\n",
       "\\end{array}\\right), \\left(\\begin{array}{rrrrrr}\n",
       "-1 & 0 & 0 & 0 & 0 & 0 \\\\\n",
       "0 & 1 & 0 & 0 & 0 & 0 \\\\\n",
       "0 & 0 & 1 & 0 & 0 & 0 \\\\\n",
       "0 & 0 & 0 & -1 & 0 & 0 \\\\\n",
       "0 & 0 & 0 & 0 & -1 & 0 \\\\\n",
       "0 & 0 & 0 & 0 & 0 & 1\n",
       "\\end{array}\\right), \\left(\\begin{array}{rrrrrr}\n",
       "1 & 0 & 0 & 0 & 0 & 0 \\\\\n",
       "0 & -1 & 0 & 0 & 0 & 0 \\\\\n",
       "0 & 0 & 1 & 0 & 0 & 0 \\\\\n",
       "0 & 0 & 0 & -1 & 0 & 0 \\\\\n",
       "0 & 0 & 0 & 0 & -1 & 0 \\\\\n",
       "0 & 0 & 0 & 0 & 0 & -1\n",
       "\\end{array}\\right), \\left(\\begin{array}{rrrrrr}\n",
       "-1 & 0 & 0 & 0 & 0 & 0 \\\\\n",
       "0 & -1 & 0 & 0 & 0 & 0 \\\\\n",
       "0 & 0 & 1 & 0 & 0 & 0 \\\\\n",
       "0 & 0 & 0 & -1 & 0 & 0 \\\\\n",
       "0 & 0 & 0 & 0 & 1 & 0 \\\\\n",
       "0 & 0 & 0 & 0 & 0 & -1\n",
       "\\end{array}\\right)\\right]$$"
      ],
      "text/plain": [
       "[\n",
       "[1 0 0 0 0 0]  [-1  0  0  0  0  0]  [ 1  0  0  0  0  0]\n",
       "[0 1 0 0 0 0]  [ 0  1  0  0  0  0]  [ 0 -1  0  0  0  0]\n",
       "[0 0 1 0 0 0]  [ 0  0  1  0  0  0]  [ 0  0  1  0  0  0]\n",
       "[0 0 0 1 0 0]  [ 0  0  0  1  0  0]  [ 0  0  0  1  0  0]\n",
       "[0 0 0 0 1 0]  [ 0  0  0  0 -1  0]  [ 0  0  0  0 -1  0]\n",
       "[0 0 0 0 0 1], [ 0  0  0  0  0  1], [ 0  0  0  0  0 -1],\n",
       "\n",
       "[-1  0  0  0  0  0]  [ 1  0  0  0  0  0]  [-1  0  0  0  0  0]\n",
       "[ 0 -1  0  0  0  0]  [ 0  1  0  0  0  0]  [ 0  1  0  0  0  0]\n",
       "[ 0  0  1  0  0  0]  [ 0  0  1  0  0  0]  [ 0  0  1  0  0  0]\n",
       "[ 0  0  0  1  0  0]  [ 0  0  0 -1  0  0]  [ 0  0  0 -1  0  0]\n",
       "[ 0  0  0  0  1  0]  [ 0  0  0  0  1  0]  [ 0  0  0  0 -1  0]\n",
       "[ 0  0  0  0  0 -1], [ 0  0  0  0  0  1], [ 0  0  0  0  0  1],\n",
       "\n",
       "[ 1  0  0  0  0  0]  [-1  0  0  0  0  0]\n",
       "[ 0 -1  0  0  0  0]  [ 0 -1  0  0  0  0]\n",
       "[ 0  0  1  0  0  0]  [ 0  0  1  0  0  0]\n",
       "[ 0  0  0 -1  0  0]  [ 0  0  0 -1  0  0]\n",
       "[ 0  0  0  0 -1  0]  [ 0  0  0  0  1  0]\n",
       "[ 0  0  0  0  0 -1], [ 0  0  0  0  0 -1]\n",
       "]"
      ]
     },
     "execution_count": 9,
     "metadata": {},
     "output_type": "execute_result"
    }
   ],
   "source": [
    "candidates_for_orthogonal_automorphisms(alg_name)"
   ]
  },
  {
   "cell_type": "markdown",
   "metadata": {},
   "source": [
    "We now obtain the list of free parameters from $\\Sigma$ which are allowed to be equal to $0$, that is, those who are not diagonal."
   ]
  },
  {
   "cell_type": "code",
   "execution_count": 10,
   "metadata": {},
   "outputs": [],
   "source": [
    "def non_diag_param(name):\n",
    "    generic_metric(name)\n",
    "    return (Sigma - diagonal_matrix(Sigma.diagonal())).coefficients()"
   ]
  },
  {
   "cell_type": "code",
   "execution_count": 11,
   "metadata": {},
   "outputs": [
    {
     "data": {
      "text/html": [
       "<html><script type=\"math/tex; mode=display\">\\newcommand{\\Bold}[1]{\\mathbf{#1}}\\left(\\left[s_{1}, s_{2}, s_{4}\\right], \\left(\\begin{array}{rrrrrr}\n",
       "1 & 0 & 0 & 0 & 0 & 0 \\\\\n",
       "0 & 1 & 0 & 0 & 0 & 0 \\\\\n",
       "0 & 0 & s_{0} & 0 & 0 & 0 \\\\\n",
       "0 & 0 & 0 & 1 & 0 & 0 \\\\\n",
       "0 & 0 & s_{1} & s_{2} & s_{3} & 0 \\\\\n",
       "0 & 0 & 0 & 0 & s_{4} & s_{5}\n",
       "\\end{array}\\right)\\right)</script></html>"
      ],
      "text/latex": [
       "$$\\newcommand{\\Bold}[1]{\\mathbf{#1}}\\left(\\left[s_{1}, s_{2}, s_{4}\\right], \\left(\\begin{array}{rrrrrr}\n",
       "1 & 0 & 0 & 0 & 0 & 0 \\\\\n",
       "0 & 1 & 0 & 0 & 0 & 0 \\\\\n",
       "0 & 0 & s_{0} & 0 & 0 & 0 \\\\\n",
       "0 & 0 & 0 & 1 & 0 & 0 \\\\\n",
       "0 & 0 & s_{1} & s_{2} & s_{3} & 0 \\\\\n",
       "0 & 0 & 0 & 0 & s_{4} & s_{5}\n",
       "\\end{array}\\right)\\right)$$"
      ],
      "text/plain": [
       "(\n",
       "              [ 1  0  0  0  0  0]\n",
       "              [ 0  1  0  0  0  0]\n",
       "              [ 0  0 s0  0  0  0]\n",
       "              [ 0  0  0  1  0  0]\n",
       "              [ 0  0 s1 s2 s3  0]\n",
       "[s1, s2, s4], [ 0  0  0  0 s4 s5]\n",
       ")"
      ]
     },
     "execution_count": 11,
     "metadata": {},
     "output_type": "execute_result"
    }
   ],
   "source": [
    "non_diag_param(alg_name), Sigma"
   ]
  },
  {
   "cell_type": "markdown",
   "metadata": {},
   "source": [
    "Next, for a generic metric we make a list of the orthogonality condition equations for each automorphism in the candidates list."
   ]
  },
  {
   "cell_type": "code",
   "execution_count": 12,
   "metadata": {},
   "outputs": [],
   "source": [
    "def equations_for_oa(name):\n",
    "    eqs_elem_orth_aut = []\n",
    "    for AA in orthogonal_aut_canonical:\n",
    "        eqs_elem_orth_aut.append((AA * g - g * AA).subs().coefficients())\n",
    "    return eqs_elem_orth_aut"
   ]
  },
  {
   "cell_type": "code",
   "execution_count": 13,
   "metadata": {},
   "outputs": [
    {
     "data": {
      "text/html": [
       "<html><script type=\"math/tex; mode=display\">\\newcommand{\\Bold}[1]{\\mathbf{#1}}\\left[\\left[\\right], \\left[2 \\, s_{1} s_{3}, 2 \\, s_{2} s_{3}, -2 \\, s_{1} s_{3}, -2 \\, s_{2} s_{3}, -2 \\, s_{4} s_{5}, 2 \\, s_{4} s_{5}\\right], \\left[2 \\, s_{1} s_{3}, 2 \\, s_{2} s_{3}, -2 \\, s_{1} s_{3}, -2 \\, s_{2} s_{3}\\right], \\left[2 \\, s_{4} s_{5}, -2 \\, s_{4} s_{5}\\right], \\left[2 \\, s_{1} s_{2}, -2 \\, s_{1} s_{2}, -2 \\, s_{2} s_{3}, 2 \\, s_{2} s_{3}\\right], \\left[2 \\, s_{1} s_{2}, 2 \\, s_{1} s_{3}, -2 \\, s_{1} s_{2}, -2 \\, s_{1} s_{3}, -2 \\, s_{4} s_{5}, 2 \\, s_{4} s_{5}\\right], \\left[2 \\, s_{1} s_{2}, 2 \\, s_{1} s_{3}, -2 \\, s_{1} s_{2}, -2 \\, s_{1} s_{3}\\right], \\left[2 \\, s_{1} s_{2}, -2 \\, s_{1} s_{2}, -2 \\, s_{2} s_{3}, 2 \\, s_{2} s_{3}, 2 \\, s_{4} s_{5}, -2 \\, s_{4} s_{5}\\right]\\right]</script></html>"
      ],
      "text/latex": [
       "$$\\newcommand{\\Bold}[1]{\\mathbf{#1}}\\left[\\left[\\right], \\left[2 \\, s_{1} s_{3}, 2 \\, s_{2} s_{3}, -2 \\, s_{1} s_{3}, -2 \\, s_{2} s_{3}, -2 \\, s_{4} s_{5}, 2 \\, s_{4} s_{5}\\right], \\left[2 \\, s_{1} s_{3}, 2 \\, s_{2} s_{3}, -2 \\, s_{1} s_{3}, -2 \\, s_{2} s_{3}\\right], \\left[2 \\, s_{4} s_{5}, -2 \\, s_{4} s_{5}\\right], \\left[2 \\, s_{1} s_{2}, -2 \\, s_{1} s_{2}, -2 \\, s_{2} s_{3}, 2 \\, s_{2} s_{3}\\right], \\left[2 \\, s_{1} s_{2}, 2 \\, s_{1} s_{3}, -2 \\, s_{1} s_{2}, -2 \\, s_{1} s_{3}, -2 \\, s_{4} s_{5}, 2 \\, s_{4} s_{5}\\right], \\left[2 \\, s_{1} s_{2}, 2 \\, s_{1} s_{3}, -2 \\, s_{1} s_{2}, -2 \\, s_{1} s_{3}\\right], \\left[2 \\, s_{1} s_{2}, -2 \\, s_{1} s_{2}, -2 \\, s_{2} s_{3}, 2 \\, s_{2} s_{3}, 2 \\, s_{4} s_{5}, -2 \\, s_{4} s_{5}\\right]\\right]$$"
      ],
      "text/plain": [
       "[[],\n",
       " [2*s1*s3, 2*s2*s3, -2*s1*s3, -2*s2*s3, -2*s4*s5, 2*s4*s5],\n",
       " [2*s1*s3, 2*s2*s3, -2*s1*s3, -2*s2*s3],\n",
       " [2*s4*s5, -2*s4*s5],\n",
       " [2*s1*s2, -2*s1*s2, -2*s2*s3, 2*s2*s3],\n",
       " [2*s1*s2, 2*s1*s3, -2*s1*s2, -2*s1*s3, -2*s4*s5, 2*s4*s5],\n",
       " [2*s1*s2, 2*s1*s3, -2*s1*s2, -2*s1*s3],\n",
       " [2*s1*s2, -2*s1*s2, -2*s2*s3, 2*s2*s3, 2*s4*s5, -2*s4*s5]]"
      ]
     },
     "execution_count": 13,
     "metadata": {},
     "output_type": "execute_result"
    }
   ],
   "source": [
    "equations_for_oa(alg_name)"
   ]
  },
  {
   "cell_type": "markdown",
   "metadata": {},
   "source": [
    "Now we procure all of the possible substitutions of the variables from $\\Sigma$ than can be set equal to $0$, in an ordered fashion, by amount of substituted coefficients. We store this information in a dictionary."
   ]
  },
  {
   "cell_type": "code",
   "execution_count": 14,
   "metadata": {},
   "outputs": [],
   "source": [
    "def substitutions(name):\n",
    "    global Sigma_non_diag_vars_subs\n",
    "    Sigma_non_diag_vars = non_diag_param(name)\n",
    "    Sigma_non_diag_vars_len = len(Sigma_non_diag_vars)\n",
    "    Sigma_non_diag_vars_subs = []\n",
    "    for indices in powerset(Sigma_non_diag_vars):\n",
    "        Sigma_non_diag_vars_subs.append({s:0 for s in indices})\n",
    "    Sigma_non_diag_vars_subs = sorted(Sigma_non_diag_vars_subs, key=len)\n",
    "    return Sigma_non_diag_vars_subs"
   ]
  },
  {
   "cell_type": "code",
   "execution_count": 15,
   "metadata": {},
   "outputs": [
    {
     "data": {
      "text/html": [
       "<html><script type=\"math/tex; mode=display\">\\newcommand{\\Bold}[1]{\\mathbf{#1}}\\left[\\left\\{\\right\\}, \\left\\{s_{1} : 0\\right\\}, \\left\\{s_{2} : 0\\right\\}, \\left\\{s_{4} : 0\\right\\}, \\left\\{s_{1} : 0, s_{2} : 0\\right\\}, \\left\\{s_{1} : 0, s_{4} : 0\\right\\}, \\left\\{s_{2} : 0, s_{4} : 0\\right\\}, \\left\\{s_{1} : 0, s_{2} : 0, s_{4} : 0\\right\\}\\right]</script></html>"
      ],
      "text/latex": [
       "$$\\newcommand{\\Bold}[1]{\\mathbf{#1}}\\left[\\left\\{\\right\\}, \\left\\{s_{1} : 0\\right\\}, \\left\\{s_{2} : 0\\right\\}, \\left\\{s_{4} : 0\\right\\}, \\left\\{s_{1} : 0, s_{2} : 0\\right\\}, \\left\\{s_{1} : 0, s_{4} : 0\\right\\}, \\left\\{s_{2} : 0, s_{4} : 0\\right\\}, \\left\\{s_{1} : 0, s_{2} : 0, s_{4} : 0\\right\\}\\right]$$"
      ],
      "text/plain": [
       "[{},\n",
       " {s1: 0},\n",
       " {s2: 0},\n",
       " {s4: 0},\n",
       " {s1: 0, s2: 0},\n",
       " {s1: 0, s4: 0},\n",
       " {s2: 0, s4: 0},\n",
       " {s1: 0, s2: 0, s4: 0}]"
      ]
     },
     "execution_count": 15,
     "metadata": {},
     "output_type": "execute_result"
    }
   ],
   "source": [
    "substitutions(alg_name)"
   ]
  },
  {
   "cell_type": "markdown",
   "metadata": {},
   "source": [
    "And we just count. We do this as follows:\n",
    " - first we split the dictionary into dictionaries for each possible length $l$,\n",
    " - then we go through the substitutions to set the metric $g_l$,\n",
    " - next we store each candidate that satisfyes the orthogonality condition for $g_l$ in a list,\n",
    " - we count how may lists have the same amount of orthogonal automorphisms,\n",
    " - we store all of this information in the dictionary aut_orth_count and the list aut_orth_list."
   ]
  },
  {
   "cell_type": "code",
   "execution_count": 16,
   "metadata": {},
   "outputs": [],
   "source": [
    "def counts(name):\n",
    "    global m\n",
    "    m = max(len(sbst) for sbst in Sigma_non_diag_vars_subs)\n",
    "    global lengths_subst\n",
    "    lengths_subst = [k for k in range(m+1)]\n",
    "    global aut_orth_count\n",
    "    aut_orth_count = { k : 0 for k in lengths_subst}\n",
    "    global aut_orth_list\n",
    "    aut_orth_list = []\n",
    "    for k in range(m+1):\n",
    "        Z2_0_count = 0\n",
    "        Z2_1_count = 0\n",
    "        Z2_2_count = 0\n",
    "        Z2_3_count = 0\n",
    "        for sbst in Sigma_non_diag_vars_subs:\n",
    "            if len(sbst) == k:\n",
    "                eqs_elem_orth_aut = []\n",
    "                for AA in orthogonal_aut_canonical:\n",
    "                    eqs_elem_orth_aut.append((AA * g - g * AA).subs(sbst).coefficients())\n",
    "               # display((len(sbst), sbst, eqs_elem_orth_aut.count([])))\n",
    "                aut_ort_list = aut_orth_list.append((len(sbst), sbst, eqs_elem_orth_aut.count([])))\n",
    "                if eqs_elem_orth_aut.count([]) == 1:\n",
    "                    Z2_0_count =  Z2_0_count +1\n",
    "                elif eqs_elem_orth_aut.count([]) == 2:\n",
    "                    Z2_1_count =  Z2_1_count +1\n",
    "                elif eqs_elem_orth_aut.count([]) == 4: \n",
    "                    Z2_2_count =  Z2_2_count +1\n",
    "                elif eqs_elem_orth_aut.count([]) == 8:\n",
    "                    Z2_3_count =  Z2_3_count +1\n",
    "            aut_orth_count[k] = (Z2_0_count,Z2_1_count,Z2_2_count,Z2_3_count)\n",
    "    return aut_orth_count, aut_orth_list"
   ]
  },
  {
   "cell_type": "code",
   "execution_count": 17,
   "metadata": {},
   "outputs": [
    {
     "data": {
      "text/html": [
       "<html><script type=\"math/tex; mode=display\">\\newcommand{\\Bold}[1]{\\mathbf{#1}}\\left(\\left\\{0 : \\left(1, 0, 0, 0\\right), 1 : \\left(0, 3, 0, 0\\right), 2 : \\left(0, 0, 3, 0\\right), 3 : \\left(0, 0, 0, 1\\right)\\right\\}, \\left[\\left(0, \\left\\{\\right\\}, 1\\right), \\left(1, \\left\\{s_{1} : 0\\right\\}, 2\\right), \\left(1, \\left\\{s_{2} : 0\\right\\}, 2\\right), \\left(1, \\left\\{s_{4} : 0\\right\\}, 2\\right), \\left(2, \\left\\{s_{1} : 0, s_{2} : 0\\right\\}, 4\\right), \\left(2, \\left\\{s_{1} : 0, s_{4} : 0\\right\\}, 4\\right), \\left(2, \\left\\{s_{2} : 0, s_{4} : 0\\right\\}, 4\\right), \\left(3, \\left\\{s_{1} : 0, s_{2} : 0, s_{4} : 0\\right\\}, 8\\right)\\right]\\right)</script></html>"
      ],
      "text/latex": [
       "$$\\newcommand{\\Bold}[1]{\\mathbf{#1}}\\left(\\left\\{0 : \\left(1, 0, 0, 0\\right), 1 : \\left(0, 3, 0, 0\\right), 2 : \\left(0, 0, 3, 0\\right), 3 : \\left(0, 0, 0, 1\\right)\\right\\}, \\left[\\left(0, \\left\\{\\right\\}, 1\\right), \\left(1, \\left\\{s_{1} : 0\\right\\}, 2\\right), \\left(1, \\left\\{s_{2} : 0\\right\\}, 2\\right), \\left(1, \\left\\{s_{4} : 0\\right\\}, 2\\right), \\left(2, \\left\\{s_{1} : 0, s_{2} : 0\\right\\}, 4\\right), \\left(2, \\left\\{s_{1} : 0, s_{4} : 0\\right\\}, 4\\right), \\left(2, \\left\\{s_{2} : 0, s_{4} : 0\\right\\}, 4\\right), \\left(3, \\left\\{s_{1} : 0, s_{2} : 0, s_{4} : 0\\right\\}, 8\\right)\\right]\\right)$$"
      ],
      "text/plain": [
       "({0: (1, 0, 0, 0), 1: (0, 3, 0, 0), 2: (0, 0, 3, 0), 3: (0, 0, 0, 1)},\n",
       " [(0, {}, 1),\n",
       "  (1, {s1: 0}, 2),\n",
       "  (1, {s2: 0}, 2),\n",
       "  (1, {s4: 0}, 2),\n",
       "  (2, {s1: 0, s2: 0}, 4),\n",
       "  (2, {s1: 0, s4: 0}, 4),\n",
       "  (2, {s2: 0, s4: 0}, 4),\n",
       "  (3, {s1: 0, s2: 0, s4: 0}, 8)])"
      ]
     },
     "execution_count": 17,
     "metadata": {},
     "output_type": "execute_result"
    }
   ],
   "source": [
    "counts(alg_name)"
   ]
  },
  {
   "cell_type": "code",
   "execution_count": 18,
   "metadata": {},
   "outputs": [
    {
     "data": {
      "text/html": [
       "<html><script type=\"math/tex; mode=display\">\\newcommand{\\Bold}[1]{\\mathbf{#1}}\\left\\{0 : \\left(1, 0, 0, 0\\right), 1 : \\left(0, 3, 0, 0\\right), 2 : \\left(0, 0, 3, 0\\right), 3 : \\left(0, 0, 0, 1\\right)\\right\\}</script></html>"
      ],
      "text/latex": [
       "$$\\newcommand{\\Bold}[1]{\\mathbf{#1}}\\left\\{0 : \\left(1, 0, 0, 0\\right), 1 : \\left(0, 3, 0, 0\\right), 2 : \\left(0, 0, 3, 0\\right), 3 : \\left(0, 0, 0, 1\\right)\\right\\}$$"
      ],
      "text/plain": [
       "{0: (1, 0, 0, 0), 1: (0, 3, 0, 0), 2: (0, 0, 3, 0), 3: (0, 0, 0, 1)}"
      ]
     },
     "execution_count": 18,
     "metadata": {},
     "output_type": "execute_result"
    }
   ],
   "source": [
    "aut_orth_count"
   ]
  },
  {
   "cell_type": "code",
   "execution_count": 19,
   "metadata": {},
   "outputs": [
    {
     "data": {
      "text/html": [
       "<html><script type=\"math/tex; mode=display\">\\newcommand{\\Bold}[1]{\\mathbf{#1}}\\left[\\left(0, \\left\\{\\right\\}, 1\\right), \\left(1, \\left\\{s_{1} : 0\\right\\}, 2\\right), \\left(1, \\left\\{s_{2} : 0\\right\\}, 2\\right), \\left(1, \\left\\{s_{4} : 0\\right\\}, 2\\right), \\left(2, \\left\\{s_{1} : 0, s_{2} : 0\\right\\}, 4\\right), \\left(2, \\left\\{s_{1} : 0, s_{4} : 0\\right\\}, 4\\right), \\left(2, \\left\\{s_{2} : 0, s_{4} : 0\\right\\}, 4\\right), \\left(3, \\left\\{s_{1} : 0, s_{2} : 0, s_{4} : 0\\right\\}, 8\\right)\\right]</script></html>"
      ],
      "text/latex": [
       "$$\\newcommand{\\Bold}[1]{\\mathbf{#1}}\\left[\\left(0, \\left\\{\\right\\}, 1\\right), \\left(1, \\left\\{s_{1} : 0\\right\\}, 2\\right), \\left(1, \\left\\{s_{2} : 0\\right\\}, 2\\right), \\left(1, \\left\\{s_{4} : 0\\right\\}, 2\\right), \\left(2, \\left\\{s_{1} : 0, s_{2} : 0\\right\\}, 4\\right), \\left(2, \\left\\{s_{1} : 0, s_{4} : 0\\right\\}, 4\\right), \\left(2, \\left\\{s_{2} : 0, s_{4} : 0\\right\\}, 4\\right), \\left(3, \\left\\{s_{1} : 0, s_{2} : 0, s_{4} : 0\\right\\}, 8\\right)\\right]$$"
      ],
      "text/plain": [
       "[(0, {}, 1),\n",
       " (1, {s1: 0}, 2),\n",
       " (1, {s2: 0}, 2),\n",
       " (1, {s4: 0}, 2),\n",
       " (2, {s1: 0, s2: 0}, 4),\n",
       " (2, {s1: 0, s4: 0}, 4),\n",
       " (2, {s2: 0, s4: 0}, 4),\n",
       " (3, {s1: 0, s2: 0, s4: 0}, 8)]"
      ]
     },
     "execution_count": 19,
     "metadata": {},
     "output_type": "execute_result"
    }
   ],
   "source": [
    "aut_orth_list"
   ]
  },
  {
   "cell_type": "markdown",
   "metadata": {},
   "source": [
    "All of the above can be summarized with the following function:"
   ]
  },
  {
   "cell_type": "code",
   "execution_count": 20,
   "metadata": {},
   "outputs": [],
   "source": [
    "def aut_orth_count_list(name):\n",
    "    global DA\n",
    "    DA = generic_diagonal_automorphisms(name)\n",
    "    global orthogonal_aut_canonical\n",
    "    orthogonal_aut_canonical = candidates_for_orthogonal_automorphisms(name)\n",
    "    eqs_elem_orth_aut = equations_for_oa(name)\n",
    "    global Sigma_non_diag_var_subs\n",
    "    Sigma_non_diag_vars_subs = substitutions(name)\n",
    "    global auth_orth_count\n",
    "    auth_orth_count = counts(name)[0]\n",
    "    global auth_orth_list\n",
    "    auth_orth_list = counts(name)[1]"
   ]
  },
  {
   "cell_type": "markdown",
   "metadata": {},
   "source": [
    "For example, if we change algebras:"
   ]
  },
  {
   "cell_type": "code",
   "execution_count": 21,
   "metadata": {},
   "outputs": [
    {
     "data": {
      "text/html": [
       "h28"
      ],
      "text/plain": [
       "'h28'"
      ]
     },
     "execution_count": 21,
     "metadata": {},
     "output_type": "execute_result"
    }
   ],
   "source": [
    "construct_the_algebra(names[12])\n",
    "alg_name"
   ]
  },
  {
   "cell_type": "code",
   "execution_count": 22,
   "metadata": {},
   "outputs": [],
   "source": [
    "aut_orth_count_list(alg_name)"
   ]
  },
  {
   "cell_type": "code",
   "execution_count": 23,
   "metadata": {},
   "outputs": [
    {
     "data": {
      "text/html": [
       "<html><script type=\"math/tex; mode=display\">\\newcommand{\\Bold}[1]{\\mathbf{#1}}\\left[\\left\\{\\right\\}, \\left\\{s_{1} : 0\\right\\}, \\left\\{s_{3} : 0\\right\\}, \\left\\{s_{4} : 0\\right\\}, \\left\\{s_{6} : 0\\right\\}, \\left\\{s_{7} : 0\\right\\}, \\left\\{s_{8} : 0\\right\\}, \\left\\{s_{1} : 0, s_{3} : 0\\right\\}, \\left\\{s_{1} : 0, s_{4} : 0\\right\\}, \\left\\{s_{3} : 0, s_{4} : 0\\right\\}, \\left\\{s_{1} : 0, s_{6} : 0\\right\\}, \\left\\{s_{3} : 0, s_{6} : 0\\right\\}, \\left\\{s_{4} : 0, s_{6} : 0\\right\\}, \\left\\{s_{1} : 0, s_{7} : 0\\right\\}, \\left\\{s_{3} : 0, s_{7} : 0\\right\\}, \\left\\{s_{4} : 0, s_{7} : 0\\right\\}, \\left\\{s_{6} : 0, s_{7} : 0\\right\\}, \\left\\{s_{1} : 0, s_{8} : 0\\right\\}, \\left\\{s_{3} : 0, s_{8} : 0\\right\\}, \\left\\{s_{4} : 0, s_{8} : 0\\right\\}, \\left\\{s_{6} : 0, s_{8} : 0\\right\\}, \\left\\{s_{7} : 0, s_{8} : 0\\right\\}, \\left\\{s_{1} : 0, s_{3} : 0, s_{4} : 0\\right\\}, \\left\\{s_{1} : 0, s_{3} : 0, s_{6} : 0\\right\\}, \\left\\{s_{1} : 0, s_{4} : 0, s_{6} : 0\\right\\}, \\left\\{s_{3} : 0, s_{4} : 0, s_{6} : 0\\right\\}, \\left\\{s_{1} : 0, s_{3} : 0, s_{7} : 0\\right\\}, \\left\\{s_{1} : 0, s_{4} : 0, s_{7} : 0\\right\\}, \\left\\{s_{3} : 0, s_{4} : 0, s_{7} : 0\\right\\}, \\left\\{s_{1} : 0, s_{6} : 0, s_{7} : 0\\right\\}, \\left\\{s_{3} : 0, s_{6} : 0, s_{7} : 0\\right\\}, \\left\\{s_{4} : 0, s_{6} : 0, s_{7} : 0\\right\\}, \\left\\{s_{1} : 0, s_{3} : 0, s_{8} : 0\\right\\}, \\left\\{s_{1} : 0, s_{4} : 0, s_{8} : 0\\right\\}, \\left\\{s_{3} : 0, s_{4} : 0, s_{8} : 0\\right\\}, \\left\\{s_{1} : 0, s_{6} : 0, s_{8} : 0\\right\\}, \\left\\{s_{3} : 0, s_{6} : 0, s_{8} : 0\\right\\}, \\left\\{s_{4} : 0, s_{6} : 0, s_{8} : 0\\right\\}, \\left\\{s_{1} : 0, s_{7} : 0, s_{8} : 0\\right\\}, \\left\\{s_{3} : 0, s_{7} : 0, s_{8} : 0\\right\\}, \\left\\{s_{4} : 0, s_{7} : 0, s_{8} : 0\\right\\}, \\left\\{s_{6} : 0, s_{7} : 0, s_{8} : 0\\right\\}, \\left\\{s_{1} : 0, s_{3} : 0, s_{4} : 0, s_{6} : 0\\right\\}, \\left\\{s_{1} : 0, s_{3} : 0, s_{4} : 0, s_{7} : 0\\right\\}, \\left\\{s_{1} : 0, s_{3} : 0, s_{6} : 0, s_{7} : 0\\right\\}, \\left\\{s_{1} : 0, s_{4} : 0, s_{6} : 0, s_{7} : 0\\right\\}, \\left\\{s_{3} : 0, s_{4} : 0, s_{6} : 0, s_{7} : 0\\right\\}, \\left\\{s_{1} : 0, s_{3} : 0, s_{4} : 0, s_{8} : 0\\right\\}, \\left\\{s_{1} : 0, s_{3} : 0, s_{6} : 0, s_{8} : 0\\right\\}, \\left\\{s_{1} : 0, s_{4} : 0, s_{6} : 0, s_{8} : 0\\right\\}, \\left\\{s_{3} : 0, s_{4} : 0, s_{6} : 0, s_{8} : 0\\right\\}, \\left\\{s_{1} : 0, s_{3} : 0, s_{7} : 0, s_{8} : 0\\right\\}, \\left\\{s_{1} : 0, s_{4} : 0, s_{7} : 0, s_{8} : 0\\right\\}, \\left\\{s_{3} : 0, s_{4} : 0, s_{7} : 0, s_{8} : 0\\right\\}, \\left\\{s_{1} : 0, s_{6} : 0, s_{7} : 0, s_{8} : 0\\right\\}, \\left\\{s_{3} : 0, s_{6} : 0, s_{7} : 0, s_{8} : 0\\right\\}, \\left\\{s_{4} : 0, s_{6} : 0, s_{7} : 0, s_{8} : 0\\right\\}, \\left\\{s_{1} : 0, s_{3} : 0, s_{4} : 0, s_{6} : 0, s_{7} : 0\\right\\}, \\left\\{s_{1} : 0, s_{3} : 0, s_{4} : 0, s_{6} : 0, s_{8} : 0\\right\\}, \\left\\{s_{1} : 0, s_{3} : 0, s_{4} : 0, s_{7} : 0, s_{8} : 0\\right\\}, \\left\\{s_{1} : 0, s_{3} : 0, s_{6} : 0, s_{7} : 0, s_{8} : 0\\right\\}, \\left\\{s_{1} : 0, s_{4} : 0, s_{6} : 0, s_{7} : 0, s_{8} : 0\\right\\}, \\left\\{s_{3} : 0, s_{4} : 0, s_{6} : 0, s_{7} : 0, s_{8} : 0\\right\\}, \\left\\{s_{1} : 0, s_{3} : 0, s_{4} : 0, s_{6} : 0, s_{7} : 0, s_{8} : 0\\right\\}\\right]</script></html>"
      ],
      "text/latex": [
       "$$\\newcommand{\\Bold}[1]{\\mathbf{#1}}\\left[\\left\\{\\right\\}, \\left\\{s_{1} : 0\\right\\}, \\left\\{s_{3} : 0\\right\\}, \\left\\{s_{4} : 0\\right\\}, \\left\\{s_{6} : 0\\right\\}, \\left\\{s_{7} : 0\\right\\}, \\left\\{s_{8} : 0\\right\\}, \\left\\{s_{1} : 0, s_{3} : 0\\right\\}, \\left\\{s_{1} : 0, s_{4} : 0\\right\\}, \\left\\{s_{3} : 0, s_{4} : 0\\right\\}, \\left\\{s_{1} : 0, s_{6} : 0\\right\\}, \\left\\{s_{3} : 0, s_{6} : 0\\right\\}, \\left\\{s_{4} : 0, s_{6} : 0\\right\\}, \\left\\{s_{1} : 0, s_{7} : 0\\right\\}, \\left\\{s_{3} : 0, s_{7} : 0\\right\\}, \\left\\{s_{4} : 0, s_{7} : 0\\right\\}, \\left\\{s_{6} : 0, s_{7} : 0\\right\\}, \\left\\{s_{1} : 0, s_{8} : 0\\right\\}, \\left\\{s_{3} : 0, s_{8} : 0\\right\\}, \\left\\{s_{4} : 0, s_{8} : 0\\right\\}, \\left\\{s_{6} : 0, s_{8} : 0\\right\\}, \\left\\{s_{7} : 0, s_{8} : 0\\right\\}, \\left\\{s_{1} : 0, s_{3} : 0, s_{4} : 0\\right\\}, \\left\\{s_{1} : 0, s_{3} : 0, s_{6} : 0\\right\\}, \\left\\{s_{1} : 0, s_{4} : 0, s_{6} : 0\\right\\}, \\left\\{s_{3} : 0, s_{4} : 0, s_{6} : 0\\right\\}, \\left\\{s_{1} : 0, s_{3} : 0, s_{7} : 0\\right\\}, \\left\\{s_{1} : 0, s_{4} : 0, s_{7} : 0\\right\\}, \\left\\{s_{3} : 0, s_{4} : 0, s_{7} : 0\\right\\}, \\left\\{s_{1} : 0, s_{6} : 0, s_{7} : 0\\right\\}, \\left\\{s_{3} : 0, s_{6} : 0, s_{7} : 0\\right\\}, \\left\\{s_{4} : 0, s_{6} : 0, s_{7} : 0\\right\\}, \\left\\{s_{1} : 0, s_{3} : 0, s_{8} : 0\\right\\}, \\left\\{s_{1} : 0, s_{4} : 0, s_{8} : 0\\right\\}, \\left\\{s_{3} : 0, s_{4} : 0, s_{8} : 0\\right\\}, \\left\\{s_{1} : 0, s_{6} : 0, s_{8} : 0\\right\\}, \\left\\{s_{3} : 0, s_{6} : 0, s_{8} : 0\\right\\}, \\left\\{s_{4} : 0, s_{6} : 0, s_{8} : 0\\right\\}, \\left\\{s_{1} : 0, s_{7} : 0, s_{8} : 0\\right\\}, \\left\\{s_{3} : 0, s_{7} : 0, s_{8} : 0\\right\\}, \\left\\{s_{4} : 0, s_{7} : 0, s_{8} : 0\\right\\}, \\left\\{s_{6} : 0, s_{7} : 0, s_{8} : 0\\right\\}, \\left\\{s_{1} : 0, s_{3} : 0, s_{4} : 0, s_{6} : 0\\right\\}, \\left\\{s_{1} : 0, s_{3} : 0, s_{4} : 0, s_{7} : 0\\right\\}, \\left\\{s_{1} : 0, s_{3} : 0, s_{6} : 0, s_{7} : 0\\right\\}, \\left\\{s_{1} : 0, s_{4} : 0, s_{6} : 0, s_{7} : 0\\right\\}, \\left\\{s_{3} : 0, s_{4} : 0, s_{6} : 0, s_{7} : 0\\right\\}, \\left\\{s_{1} : 0, s_{3} : 0, s_{4} : 0, s_{8} : 0\\right\\}, \\left\\{s_{1} : 0, s_{3} : 0, s_{6} : 0, s_{8} : 0\\right\\}, \\left\\{s_{1} : 0, s_{4} : 0, s_{6} : 0, s_{8} : 0\\right\\}, \\left\\{s_{3} : 0, s_{4} : 0, s_{6} : 0, s_{8} : 0\\right\\}, \\left\\{s_{1} : 0, s_{3} : 0, s_{7} : 0, s_{8} : 0\\right\\}, \\left\\{s_{1} : 0, s_{4} : 0, s_{7} : 0, s_{8} : 0\\right\\}, \\left\\{s_{3} : 0, s_{4} : 0, s_{7} : 0, s_{8} : 0\\right\\}, \\left\\{s_{1} : 0, s_{6} : 0, s_{7} : 0, s_{8} : 0\\right\\}, \\left\\{s_{3} : 0, s_{6} : 0, s_{7} : 0, s_{8} : 0\\right\\}, \\left\\{s_{4} : 0, s_{6} : 0, s_{7} : 0, s_{8} : 0\\right\\}, \\left\\{s_{1} : 0, s_{3} : 0, s_{4} : 0, s_{6} : 0, s_{7} : 0\\right\\}, \\left\\{s_{1} : 0, s_{3} : 0, s_{4} : 0, s_{6} : 0, s_{8} : 0\\right\\}, \\left\\{s_{1} : 0, s_{3} : 0, s_{4} : 0, s_{7} : 0, s_{8} : 0\\right\\}, \\left\\{s_{1} : 0, s_{3} : 0, s_{6} : 0, s_{7} : 0, s_{8} : 0\\right\\}, \\left\\{s_{1} : 0, s_{4} : 0, s_{6} : 0, s_{7} : 0, s_{8} : 0\\right\\}, \\left\\{s_{3} : 0, s_{4} : 0, s_{6} : 0, s_{7} : 0, s_{8} : 0\\right\\}, \\left\\{s_{1} : 0, s_{3} : 0, s_{4} : 0, s_{6} : 0, s_{7} : 0, s_{8} : 0\\right\\}\\right]$$"
      ],
      "text/plain": [
       "[{},\n",
       " {s1: 0},\n",
       " {s3: 0},\n",
       " {s4: 0},\n",
       " {s6: 0},\n",
       " {s7: 0},\n",
       " {s8: 0},\n",
       " {s1: 0, s3: 0},\n",
       " {s1: 0, s4: 0},\n",
       " {s3: 0, s4: 0},\n",
       " {s1: 0, s6: 0},\n",
       " {s3: 0, s6: 0},\n",
       " {s4: 0, s6: 0},\n",
       " {s1: 0, s7: 0},\n",
       " {s3: 0, s7: 0},\n",
       " {s4: 0, s7: 0},\n",
       " {s6: 0, s7: 0},\n",
       " {s1: 0, s8: 0},\n",
       " {s3: 0, s8: 0},\n",
       " {s4: 0, s8: 0},\n",
       " {s6: 0, s8: 0},\n",
       " {s7: 0, s8: 0},\n",
       " {s1: 0, s3: 0, s4: 0},\n",
       " {s1: 0, s3: 0, s6: 0},\n",
       " {s1: 0, s4: 0, s6: 0},\n",
       " {s3: 0, s4: 0, s6: 0},\n",
       " {s1: 0, s3: 0, s7: 0},\n",
       " {s1: 0, s4: 0, s7: 0},\n",
       " {s3: 0, s4: 0, s7: 0},\n",
       " {s1: 0, s6: 0, s7: 0},\n",
       " {s3: 0, s6: 0, s7: 0},\n",
       " {s4: 0, s6: 0, s7: 0},\n",
       " {s1: 0, s3: 0, s8: 0},\n",
       " {s1: 0, s4: 0, s8: 0},\n",
       " {s3: 0, s4: 0, s8: 0},\n",
       " {s1: 0, s6: 0, s8: 0},\n",
       " {s3: 0, s6: 0, s8: 0},\n",
       " {s4: 0, s6: 0, s8: 0},\n",
       " {s1: 0, s7: 0, s8: 0},\n",
       " {s3: 0, s7: 0, s8: 0},\n",
       " {s4: 0, s7: 0, s8: 0},\n",
       " {s6: 0, s7: 0, s8: 0},\n",
       " {s1: 0, s3: 0, s4: 0, s6: 0},\n",
       " {s1: 0, s3: 0, s4: 0, s7: 0},\n",
       " {s1: 0, s3: 0, s6: 0, s7: 0},\n",
       " {s1: 0, s4: 0, s6: 0, s7: 0},\n",
       " {s3: 0, s4: 0, s6: 0, s7: 0},\n",
       " {s1: 0, s3: 0, s4: 0, s8: 0},\n",
       " {s1: 0, s3: 0, s6: 0, s8: 0},\n",
       " {s1: 0, s4: 0, s6: 0, s8: 0},\n",
       " {s3: 0, s4: 0, s6: 0, s8: 0},\n",
       " {s1: 0, s3: 0, s7: 0, s8: 0},\n",
       " {s1: 0, s4: 0, s7: 0, s8: 0},\n",
       " {s3: 0, s4: 0, s7: 0, s8: 0},\n",
       " {s1: 0, s6: 0, s7: 0, s8: 0},\n",
       " {s3: 0, s6: 0, s7: 0, s8: 0},\n",
       " {s4: 0, s6: 0, s7: 0, s8: 0},\n",
       " {s1: 0, s3: 0, s4: 0, s6: 0, s7: 0},\n",
       " {s1: 0, s3: 0, s4: 0, s6: 0, s8: 0},\n",
       " {s1: 0, s3: 0, s4: 0, s7: 0, s8: 0},\n",
       " {s1: 0, s3: 0, s6: 0, s7: 0, s8: 0},\n",
       " {s1: 0, s4: 0, s6: 0, s7: 0, s8: 0},\n",
       " {s3: 0, s4: 0, s6: 0, s7: 0, s8: 0},\n",
       " {s1: 0, s3: 0, s4: 0, s6: 0, s7: 0, s8: 0}]"
      ]
     },
     "execution_count": 23,
     "metadata": {},
     "output_type": "execute_result"
    }
   ],
   "source": [
    "Sigma_non_diag_vars_subs"
   ]
  },
  {
   "cell_type": "code",
   "execution_count": 24,
   "metadata": {},
   "outputs": [
    {
     "data": {
      "text/html": [
       "<html><script type=\"math/tex; mode=display\">\\newcommand{\\Bold}[1]{\\mathbf{#1}}\\left\\{0 : \\left(1, 0, 0, 0\\right), 1 : \\left(6, 0, 0, 0\\right), 2 : \\left(15, 0, 0, 0\\right), 3 : \\left(16, 4, 0, 0\\right), 4 : \\left(0, 15, 0, 0\\right), 5 : \\left(0, 0, 6, 0\\right), 6 : \\left(0, 0, 0, 1\\right)\\right\\}</script></html>"
      ],
      "text/latex": [
       "$$\\newcommand{\\Bold}[1]{\\mathbf{#1}}\\left\\{0 : \\left(1, 0, 0, 0\\right), 1 : \\left(6, 0, 0, 0\\right), 2 : \\left(15, 0, 0, 0\\right), 3 : \\left(16, 4, 0, 0\\right), 4 : \\left(0, 15, 0, 0\\right), 5 : \\left(0, 0, 6, 0\\right), 6 : \\left(0, 0, 0, 1\\right)\\right\\}$$"
      ],
      "text/plain": [
       "{0: (1, 0, 0, 0),\n",
       " 1: (6, 0, 0, 0),\n",
       " 2: (15, 0, 0, 0),\n",
       " 3: (16, 4, 0, 0),\n",
       " 4: (0, 15, 0, 0),\n",
       " 5: (0, 0, 6, 0),\n",
       " 6: (0, 0, 0, 1)}"
      ]
     },
     "execution_count": 24,
     "metadata": {},
     "output_type": "execute_result"
    }
   ],
   "source": [
    "auth_orth_count"
   ]
  },
  {
   "cell_type": "code",
   "execution_count": 25,
   "metadata": {},
   "outputs": [
    {
     "data": {
      "text/html": [
       "<html><script type=\"math/tex; mode=display\">\\newcommand{\\Bold}[1]{\\mathbf{#1}}\\left[\\left(0, \\left\\{\\right\\}, 1\\right), \\left(1, \\left\\{s_{1} : 0\\right\\}, 1\\right), \\left(1, \\left\\{s_{3} : 0\\right\\}, 1\\right), \\left(1, \\left\\{s_{4} : 0\\right\\}, 1\\right), \\left(1, \\left\\{s_{6} : 0\\right\\}, 1\\right), \\left(1, \\left\\{s_{7} : 0\\right\\}, 1\\right), \\left(1, \\left\\{s_{8} : 0\\right\\}, 1\\right), \\left(2, \\left\\{s_{1} : 0, s_{3} : 0\\right\\}, 1\\right), \\left(2, \\left\\{s_{1} : 0, s_{4} : 0\\right\\}, 1\\right), \\left(2, \\left\\{s_{3} : 0, s_{4} : 0\\right\\}, 1\\right), \\left(2, \\left\\{s_{1} : 0, s_{6} : 0\\right\\}, 1\\right), \\left(2, \\left\\{s_{3} : 0, s_{6} : 0\\right\\}, 1\\right), \\left(2, \\left\\{s_{4} : 0, s_{6} : 0\\right\\}, 1\\right), \\left(2, \\left\\{s_{1} : 0, s_{7} : 0\\right\\}, 1\\right), \\left(2, \\left\\{s_{3} : 0, s_{7} : 0\\right\\}, 1\\right), \\left(2, \\left\\{s_{4} : 0, s_{7} : 0\\right\\}, 1\\right), \\left(2, \\left\\{s_{6} : 0, s_{7} : 0\\right\\}, 1\\right), \\left(2, \\left\\{s_{1} : 0, s_{8} : 0\\right\\}, 1\\right), \\left(2, \\left\\{s_{3} : 0, s_{8} : 0\\right\\}, 1\\right), \\left(2, \\left\\{s_{4} : 0, s_{8} : 0\\right\\}, 1\\right), \\left(2, \\left\\{s_{6} : 0, s_{8} : 0\\right\\}, 1\\right), \\left(2, \\left\\{s_{7} : 0, s_{8} : 0\\right\\}, 1\\right), \\left(3, \\left\\{s_{1} : 0, s_{3} : 0, s_{4} : 0\\right\\}, 1\\right), \\left(3, \\left\\{s_{1} : 0, s_{3} : 0, s_{6} : 0\\right\\}, 2\\right), \\left(3, \\left\\{s_{1} : 0, s_{4} : 0, s_{6} : 0\\right\\}, 1\\right), \\left(3, \\left\\{s_{3} : 0, s_{4} : 0, s_{6} : 0\\right\\}, 1\\right), \\left(3, \\left\\{s_{1} : 0, s_{3} : 0, s_{7} : 0\\right\\}, 1\\right), \\left(3, \\left\\{s_{1} : 0, s_{4} : 0, s_{7} : 0\\right\\}, 2\\right), \\left(3, \\left\\{s_{3} : 0, s_{4} : 0, s_{7} : 0\\right\\}, 1\\right), \\left(3, \\left\\{s_{1} : 0, s_{6} : 0, s_{7} : 0\\right\\}, 1\\right), \\left(3, \\left\\{s_{3} : 0, s_{6} : 0, s_{7} : 0\\right\\}, 1\\right), \\left(3, \\left\\{s_{4} : 0, s_{6} : 0, s_{7} : 0\\right\\}, 1\\right), \\left(3, \\left\\{s_{1} : 0, s_{3} : 0, s_{8} : 0\\right\\}, 1\\right), \\left(3, \\left\\{s_{1} : 0, s_{4} : 0, s_{8} : 0\\right\\}, 1\\right), \\left(3, \\left\\{s_{3} : 0, s_{4} : 0, s_{8} : 0\\right\\}, 2\\right), \\left(3, \\left\\{s_{1} : 0, s_{6} : 0, s_{8} : 0\\right\\}, 1\\right), \\left(3, \\left\\{s_{3} : 0, s_{6} : 0, s_{8} : 0\\right\\}, 1\\right), \\left(3, \\left\\{s_{4} : 0, s_{6} : 0, s_{8} : 0\\right\\}, 1\\right), \\left(3, \\left\\{s_{1} : 0, s_{7} : 0, s_{8} : 0\\right\\}, 1\\right), \\left(3, \\left\\{s_{3} : 0, s_{7} : 0, s_{8} : 0\\right\\}, 1\\right), \\left(3, \\left\\{s_{4} : 0, s_{7} : 0, s_{8} : 0\\right\\}, 1\\right), \\left(3, \\left\\{s_{6} : 0, s_{7} : 0, s_{8} : 0\\right\\}, 2\\right), \\left(4, \\left\\{s_{1} : 0, s_{3} : 0, s_{4} : 0, s_{6} : 0\\right\\}, 2\\right), \\left(4, \\left\\{s_{1} : 0, s_{3} : 0, s_{4} : 0, s_{7} : 0\\right\\}, 2\\right), \\left(4, \\left\\{s_{1} : 0, s_{3} : 0, s_{6} : 0, s_{7} : 0\\right\\}, 2\\right), \\left(4, \\left\\{s_{1} : 0, s_{4} : 0, s_{6} : 0, s_{7} : 0\\right\\}, 2\\right), \\left(4, \\left\\{s_{3} : 0, s_{4} : 0, s_{6} : 0, s_{7} : 0\\right\\}, 2\\right), \\left(4, \\left\\{s_{1} : 0, s_{3} : 0, s_{4} : 0, s_{8} : 0\\right\\}, 2\\right), \\left(4, \\left\\{s_{1} : 0, s_{3} : 0, s_{6} : 0, s_{8} : 0\\right\\}, 2\\right), \\left(4, \\left\\{s_{1} : 0, s_{4} : 0, s_{6} : 0, s_{8} : 0\\right\\}, 2\\right), \\left(4, \\left\\{s_{3} : 0, s_{4} : 0, s_{6} : 0, s_{8} : 0\\right\\}, 2\\right), \\left(4, \\left\\{s_{1} : 0, s_{3} : 0, s_{7} : 0, s_{8} : 0\\right\\}, 2\\right), \\left(4, \\left\\{s_{1} : 0, s_{4} : 0, s_{7} : 0, s_{8} : 0\\right\\}, 2\\right), \\left(4, \\left\\{s_{3} : 0, s_{4} : 0, s_{7} : 0, s_{8} : 0\\right\\}, 2\\right), \\left(4, \\left\\{s_{1} : 0, s_{6} : 0, s_{7} : 0, s_{8} : 0\\right\\}, 2\\right), \\left(4, \\left\\{s_{3} : 0, s_{6} : 0, s_{7} : 0, s_{8} : 0\\right\\}, 2\\right), \\left(4, \\left\\{s_{4} : 0, s_{6} : 0, s_{7} : 0, s_{8} : 0\\right\\}, 2\\right), \\left(5, \\left\\{s_{1} : 0, s_{3} : 0, s_{4} : 0, s_{6} : 0, s_{7} : 0\\right\\}, 4\\right), \\left(5, \\left\\{s_{1} : 0, s_{3} : 0, s_{4} : 0, s_{6} : 0, s_{8} : 0\\right\\}, 4\\right), \\left(5, \\left\\{s_{1} : 0, s_{3} : 0, s_{4} : 0, s_{7} : 0, s_{8} : 0\\right\\}, 4\\right), \\left(5, \\left\\{s_{1} : 0, s_{3} : 0, s_{6} : 0, s_{7} : 0, s_{8} : 0\\right\\}, 4\\right), \\left(5, \\left\\{s_{1} : 0, s_{4} : 0, s_{6} : 0, s_{7} : 0, s_{8} : 0\\right\\}, 4\\right), \\left(5, \\left\\{s_{3} : 0, s_{4} : 0, s_{6} : 0, s_{7} : 0, s_{8} : 0\\right\\}, 4\\right), \\left(6, \\left\\{s_{1} : 0, s_{3} : 0, s_{4} : 0, s_{6} : 0, s_{7} : 0, s_{8} : 0\\right\\}, 8\\right)\\right]</script></html>"
      ],
      "text/latex": [
       "$$\\newcommand{\\Bold}[1]{\\mathbf{#1}}\\left[\\left(0, \\left\\{\\right\\}, 1\\right), \\left(1, \\left\\{s_{1} : 0\\right\\}, 1\\right), \\left(1, \\left\\{s_{3} : 0\\right\\}, 1\\right), \\left(1, \\left\\{s_{4} : 0\\right\\}, 1\\right), \\left(1, \\left\\{s_{6} : 0\\right\\}, 1\\right), \\left(1, \\left\\{s_{7} : 0\\right\\}, 1\\right), \\left(1, \\left\\{s_{8} : 0\\right\\}, 1\\right), \\left(2, \\left\\{s_{1} : 0, s_{3} : 0\\right\\}, 1\\right), \\left(2, \\left\\{s_{1} : 0, s_{4} : 0\\right\\}, 1\\right), \\left(2, \\left\\{s_{3} : 0, s_{4} : 0\\right\\}, 1\\right), \\left(2, \\left\\{s_{1} : 0, s_{6} : 0\\right\\}, 1\\right), \\left(2, \\left\\{s_{3} : 0, s_{6} : 0\\right\\}, 1\\right), \\left(2, \\left\\{s_{4} : 0, s_{6} : 0\\right\\}, 1\\right), \\left(2, \\left\\{s_{1} : 0, s_{7} : 0\\right\\}, 1\\right), \\left(2, \\left\\{s_{3} : 0, s_{7} : 0\\right\\}, 1\\right), \\left(2, \\left\\{s_{4} : 0, s_{7} : 0\\right\\}, 1\\right), \\left(2, \\left\\{s_{6} : 0, s_{7} : 0\\right\\}, 1\\right), \\left(2, \\left\\{s_{1} : 0, s_{8} : 0\\right\\}, 1\\right), \\left(2, \\left\\{s_{3} : 0, s_{8} : 0\\right\\}, 1\\right), \\left(2, \\left\\{s_{4} : 0, s_{8} : 0\\right\\}, 1\\right), \\left(2, \\left\\{s_{6} : 0, s_{8} : 0\\right\\}, 1\\right), \\left(2, \\left\\{s_{7} : 0, s_{8} : 0\\right\\}, 1\\right), \\left(3, \\left\\{s_{1} : 0, s_{3} : 0, s_{4} : 0\\right\\}, 1\\right), \\left(3, \\left\\{s_{1} : 0, s_{3} : 0, s_{6} : 0\\right\\}, 2\\right), \\left(3, \\left\\{s_{1} : 0, s_{4} : 0, s_{6} : 0\\right\\}, 1\\right), \\left(3, \\left\\{s_{3} : 0, s_{4} : 0, s_{6} : 0\\right\\}, 1\\right), \\left(3, \\left\\{s_{1} : 0, s_{3} : 0, s_{7} : 0\\right\\}, 1\\right), \\left(3, \\left\\{s_{1} : 0, s_{4} : 0, s_{7} : 0\\right\\}, 2\\right), \\left(3, \\left\\{s_{3} : 0, s_{4} : 0, s_{7} : 0\\right\\}, 1\\right), \\left(3, \\left\\{s_{1} : 0, s_{6} : 0, s_{7} : 0\\right\\}, 1\\right), \\left(3, \\left\\{s_{3} : 0, s_{6} : 0, s_{7} : 0\\right\\}, 1\\right), \\left(3, \\left\\{s_{4} : 0, s_{6} : 0, s_{7} : 0\\right\\}, 1\\right), \\left(3, \\left\\{s_{1} : 0, s_{3} : 0, s_{8} : 0\\right\\}, 1\\right), \\left(3, \\left\\{s_{1} : 0, s_{4} : 0, s_{8} : 0\\right\\}, 1\\right), \\left(3, \\left\\{s_{3} : 0, s_{4} : 0, s_{8} : 0\\right\\}, 2\\right), \\left(3, \\left\\{s_{1} : 0, s_{6} : 0, s_{8} : 0\\right\\}, 1\\right), \\left(3, \\left\\{s_{3} : 0, s_{6} : 0, s_{8} : 0\\right\\}, 1\\right), \\left(3, \\left\\{s_{4} : 0, s_{6} : 0, s_{8} : 0\\right\\}, 1\\right), \\left(3, \\left\\{s_{1} : 0, s_{7} : 0, s_{8} : 0\\right\\}, 1\\right), \\left(3, \\left\\{s_{3} : 0, s_{7} : 0, s_{8} : 0\\right\\}, 1\\right), \\left(3, \\left\\{s_{4} : 0, s_{7} : 0, s_{8} : 0\\right\\}, 1\\right), \\left(3, \\left\\{s_{6} : 0, s_{7} : 0, s_{8} : 0\\right\\}, 2\\right), \\left(4, \\left\\{s_{1} : 0, s_{3} : 0, s_{4} : 0, s_{6} : 0\\right\\}, 2\\right), \\left(4, \\left\\{s_{1} : 0, s_{3} : 0, s_{4} : 0, s_{7} : 0\\right\\}, 2\\right), \\left(4, \\left\\{s_{1} : 0, s_{3} : 0, s_{6} : 0, s_{7} : 0\\right\\}, 2\\right), \\left(4, \\left\\{s_{1} : 0, s_{4} : 0, s_{6} : 0, s_{7} : 0\\right\\}, 2\\right), \\left(4, \\left\\{s_{3} : 0, s_{4} : 0, s_{6} : 0, s_{7} : 0\\right\\}, 2\\right), \\left(4, \\left\\{s_{1} : 0, s_{3} : 0, s_{4} : 0, s_{8} : 0\\right\\}, 2\\right), \\left(4, \\left\\{s_{1} : 0, s_{3} : 0, s_{6} : 0, s_{8} : 0\\right\\}, 2\\right), \\left(4, \\left\\{s_{1} : 0, s_{4} : 0, s_{6} : 0, s_{8} : 0\\right\\}, 2\\right), \\left(4, \\left\\{s_{3} : 0, s_{4} : 0, s_{6} : 0, s_{8} : 0\\right\\}, 2\\right), \\left(4, \\left\\{s_{1} : 0, s_{3} : 0, s_{7} : 0, s_{8} : 0\\right\\}, 2\\right), \\left(4, \\left\\{s_{1} : 0, s_{4} : 0, s_{7} : 0, s_{8} : 0\\right\\}, 2\\right), \\left(4, \\left\\{s_{3} : 0, s_{4} : 0, s_{7} : 0, s_{8} : 0\\right\\}, 2\\right), \\left(4, \\left\\{s_{1} : 0, s_{6} : 0, s_{7} : 0, s_{8} : 0\\right\\}, 2\\right), \\left(4, \\left\\{s_{3} : 0, s_{6} : 0, s_{7} : 0, s_{8} : 0\\right\\}, 2\\right), \\left(4, \\left\\{s_{4} : 0, s_{6} : 0, s_{7} : 0, s_{8} : 0\\right\\}, 2\\right), \\left(5, \\left\\{s_{1} : 0, s_{3} : 0, s_{4} : 0, s_{6} : 0, s_{7} : 0\\right\\}, 4\\right), \\left(5, \\left\\{s_{1} : 0, s_{3} : 0, s_{4} : 0, s_{6} : 0, s_{8} : 0\\right\\}, 4\\right), \\left(5, \\left\\{s_{1} : 0, s_{3} : 0, s_{4} : 0, s_{7} : 0, s_{8} : 0\\right\\}, 4\\right), \\left(5, \\left\\{s_{1} : 0, s_{3} : 0, s_{6} : 0, s_{7} : 0, s_{8} : 0\\right\\}, 4\\right), \\left(5, \\left\\{s_{1} : 0, s_{4} : 0, s_{6} : 0, s_{7} : 0, s_{8} : 0\\right\\}, 4\\right), \\left(5, \\left\\{s_{3} : 0, s_{4} : 0, s_{6} : 0, s_{7} : 0, s_{8} : 0\\right\\}, 4\\right), \\left(6, \\left\\{s_{1} : 0, s_{3} : 0, s_{4} : 0, s_{6} : 0, s_{7} : 0, s_{8} : 0\\right\\}, 8\\right)\\right]$$"
      ],
      "text/plain": [
       "[(0, {}, 1),\n",
       " (1, {s1: 0}, 1),\n",
       " (1, {s3: 0}, 1),\n",
       " (1, {s4: 0}, 1),\n",
       " (1, {s6: 0}, 1),\n",
       " (1, {s7: 0}, 1),\n",
       " (1, {s8: 0}, 1),\n",
       " (2, {s1: 0, s3: 0}, 1),\n",
       " (2, {s1: 0, s4: 0}, 1),\n",
       " (2, {s3: 0, s4: 0}, 1),\n",
       " (2, {s1: 0, s6: 0}, 1),\n",
       " (2, {s3: 0, s6: 0}, 1),\n",
       " (2, {s4: 0, s6: 0}, 1),\n",
       " (2, {s1: 0, s7: 0}, 1),\n",
       " (2, {s3: 0, s7: 0}, 1),\n",
       " (2, {s4: 0, s7: 0}, 1),\n",
       " (2, {s6: 0, s7: 0}, 1),\n",
       " (2, {s1: 0, s8: 0}, 1),\n",
       " (2, {s3: 0, s8: 0}, 1),\n",
       " (2, {s4: 0, s8: 0}, 1),\n",
       " (2, {s6: 0, s8: 0}, 1),\n",
       " (2, {s7: 0, s8: 0}, 1),\n",
       " (3, {s1: 0, s3: 0, s4: 0}, 1),\n",
       " (3, {s1: 0, s3: 0, s6: 0}, 2),\n",
       " (3, {s1: 0, s4: 0, s6: 0}, 1),\n",
       " (3, {s3: 0, s4: 0, s6: 0}, 1),\n",
       " (3, {s1: 0, s3: 0, s7: 0}, 1),\n",
       " (3, {s1: 0, s4: 0, s7: 0}, 2),\n",
       " (3, {s3: 0, s4: 0, s7: 0}, 1),\n",
       " (3, {s1: 0, s6: 0, s7: 0}, 1),\n",
       " (3, {s3: 0, s6: 0, s7: 0}, 1),\n",
       " (3, {s4: 0, s6: 0, s7: 0}, 1),\n",
       " (3, {s1: 0, s3: 0, s8: 0}, 1),\n",
       " (3, {s1: 0, s4: 0, s8: 0}, 1),\n",
       " (3, {s3: 0, s4: 0, s8: 0}, 2),\n",
       " (3, {s1: 0, s6: 0, s8: 0}, 1),\n",
       " (3, {s3: 0, s6: 0, s8: 0}, 1),\n",
       " (3, {s4: 0, s6: 0, s8: 0}, 1),\n",
       " (3, {s1: 0, s7: 0, s8: 0}, 1),\n",
       " (3, {s3: 0, s7: 0, s8: 0}, 1),\n",
       " (3, {s4: 0, s7: 0, s8: 0}, 1),\n",
       " (3, {s6: 0, s7: 0, s8: 0}, 2),\n",
       " (4, {s1: 0, s3: 0, s4: 0, s6: 0}, 2),\n",
       " (4, {s1: 0, s3: 0, s4: 0, s7: 0}, 2),\n",
       " (4, {s1: 0, s3: 0, s6: 0, s7: 0}, 2),\n",
       " (4, {s1: 0, s4: 0, s6: 0, s7: 0}, 2),\n",
       " (4, {s3: 0, s4: 0, s6: 0, s7: 0}, 2),\n",
       " (4, {s1: 0, s3: 0, s4: 0, s8: 0}, 2),\n",
       " (4, {s1: 0, s3: 0, s6: 0, s8: 0}, 2),\n",
       " (4, {s1: 0, s4: 0, s6: 0, s8: 0}, 2),\n",
       " (4, {s3: 0, s4: 0, s6: 0, s8: 0}, 2),\n",
       " (4, {s1: 0, s3: 0, s7: 0, s8: 0}, 2),\n",
       " (4, {s1: 0, s4: 0, s7: 0, s8: 0}, 2),\n",
       " (4, {s3: 0, s4: 0, s7: 0, s8: 0}, 2),\n",
       " (4, {s1: 0, s6: 0, s7: 0, s8: 0}, 2),\n",
       " (4, {s3: 0, s6: 0, s7: 0, s8: 0}, 2),\n",
       " (4, {s4: 0, s6: 0, s7: 0, s8: 0}, 2),\n",
       " (5, {s1: 0, s3: 0, s4: 0, s6: 0, s7: 0}, 4),\n",
       " (5, {s1: 0, s3: 0, s4: 0, s6: 0, s8: 0}, 4),\n",
       " (5, {s1: 0, s3: 0, s4: 0, s7: 0, s8: 0}, 4),\n",
       " (5, {s1: 0, s3: 0, s6: 0, s7: 0, s8: 0}, 4),\n",
       " (5, {s1: 0, s4: 0, s6: 0, s7: 0, s8: 0}, 4),\n",
       " (5, {s3: 0, s4: 0, s6: 0, s7: 0, s8: 0}, 4),\n",
       " (6, {s1: 0, s3: 0, s4: 0, s6: 0, s7: 0, s8: 0}, 8)]"
      ]
     },
     "execution_count": 25,
     "metadata": {},
     "output_type": "execute_result"
    }
   ],
   "source": [
    "auth_orth_list"
   ]
  },
  {
   "cell_type": "markdown",
   "metadata": {},
   "source": [
    "We are ready to compile the table from wich we built the table given in the paper:"
   ]
  },
  {
   "cell_type": "markdown",
   "metadata": {},
   "source": [
    "---"
   ]
  },
  {
   "cell_type": "code",
   "execution_count": 26,
   "metadata": {},
   "outputs": [],
   "source": [
    "rows = []\n",
    "for name in names:\n",
    "    construct_the_algebra(name)\n",
    "    generic_automorphisms(name)\n",
    "    generic_metric(name)\n",
    "    aut_orth_count_list(name)\n",
    "    # display(alg_name,aut_orth_count)\n",
    "    row = []\n",
    "    row.append(alg_name)\n",
    "    row.append(m)\n",
    "    for k in range(m+1):\n",
    "        row_temp = []\n",
    "        row_temp.append(k)\n",
    "        for j in range(4):\n",
    "            row_temp.append(aut_orth_count[k][j])\n",
    "        row.append(row_temp)\n",
    "    rows.append(row)"
   ]
  },
  {
   "cell_type": "code",
   "execution_count": 27,
   "metadata": {},
   "outputs": [
    {
     "data": {
      "text/html": [
       "<div class=\"notruncate\">\n",
       "<table  class=\"table_form\">\n",
       "<tbody>\n",
       "<tr class =\"row-a\">\n",
       "<td>h9_tris</td>\n",
       "<td><script type=\"math/tex\">3</script></td>\n",
       "<td><script type=\"math/tex\">\\left[0, 1, 0, 0, 0\\right]</script></td>\n",
       "<td><script type=\"math/tex\">\\left[1, 0, 3, 0, 0\\right]</script></td>\n",
       "<td><script type=\"math/tex\">\\left[2, 0, 0, 3, 0\\right]</script></td>\n",
       "<td><script type=\"math/tex\">\\left[3, 0, 0, 0, 1\\right]</script></td>\n",
       "</tr>\n",
       "<tr class =\"row-b\">\n",
       "<td>h10</td>\n",
       "<td><script type=\"math/tex\">3</script></td>\n",
       "<td><script type=\"math/tex\">\\left[0, 0, 1, 0, 0\\right]</script></td>\n",
       "<td><script type=\"math/tex\">\\left[1, 0, 3, 0, 0\\right]</script></td>\n",
       "<td><script type=\"math/tex\">\\left[2, 0, 0, 3, 0\\right]</script></td>\n",
       "<td><script type=\"math/tex\">\\left[3, 0, 0, 0, 1\\right]</script></td>\n",
       "</tr>\n",
       "<tr class =\"row-a\">\n",
       "<td>h11</td>\n",
       "<td><script type=\"math/tex\">3</script></td>\n",
       "<td><script type=\"math/tex\">\\left[0, 1, 0, 0, 0\\right]</script></td>\n",
       "<td><script type=\"math/tex\">\\left[1, 3, 0, 0, 0\\right]</script></td>\n",
       "<td><script type=\"math/tex\">\\left[2, 0, 3, 0, 0\\right]</script></td>\n",
       "<td><script type=\"math/tex\">\\left[3, 0, 0, 1, 0\\right]</script></td>\n",
       "</tr>\n",
       "<tr class =\"row-b\">\n",
       "<td>h12</td>\n",
       "<td><script type=\"math/tex\">5</script></td>\n",
       "<td><script type=\"math/tex\">\\left[0, 1, 0, 0, 0\\right]</script></td>\n",
       "<td><script type=\"math/tex\">\\left[1, 5, 0, 0, 0\\right]</script></td>\n",
       "<td><script type=\"math/tex\">\\left[2, 8, 2, 0, 0\\right]</script></td>\n",
       "<td><script type=\"math/tex\">\\left[3, 0, 10, 0, 0\\right]</script></td>\n",
       "<td><script type=\"math/tex\">\\left[4, 0, 0, 5, 0\\right]</script></td>\n",
       "<td><script type=\"math/tex\">\\left[5, 0, 0, 0, 1\\right]</script></td>\n",
       "</tr>\n",
       "<tr class =\"row-a\">\n",
       "<td>h14</td>\n",
       "<td><script type=\"math/tex\">4</script></td>\n",
       "<td><script type=\"math/tex\">\\left[0, 1, 0, 0, 0\\right]</script></td>\n",
       "<td><script type=\"math/tex\">\\left[1, 4, 0, 0, 0\\right]</script></td>\n",
       "<td><script type=\"math/tex\">\\left[2, 5, 1, 0, 0\\right]</script></td>\n",
       "<td><script type=\"math/tex\">\\left[3, 0, 4, 0, 0\\right]</script></td>\n",
       "<td><script type=\"math/tex\">\\left[4, 0, 0, 1, 0\\right]</script></td>\n",
       "</tr>\n",
       "<tr class =\"row-b\">\n",
       "<td>h18_bis</td>\n",
       "<td><script type=\"math/tex\">5</script></td>\n",
       "<td><script type=\"math/tex\">\\left[0, 1, 0, 0, 0\\right]</script></td>\n",
       "<td><script type=\"math/tex\">\\left[1, 5, 0, 0, 0\\right]</script></td>\n",
       "<td><script type=\"math/tex\">\\left[2, 10, 0, 0, 0\\right]</script></td>\n",
       "<td><script type=\"math/tex\">\\left[3, 8, 2, 0, 0\\right]</script></td>\n",
       "<td><script type=\"math/tex\">\\left[4, 0, 5, 0, 0\\right]</script></td>\n",
       "<td><script type=\"math/tex\">\\left[5, 0, 0, 1, 0\\right]</script></td>\n",
       "</tr>\n",
       "<tr class =\"row-a\">\n",
       "<td>h21</td>\n",
       "<td><script type=\"math/tex\">5</script></td>\n",
       "<td><script type=\"math/tex\">\\left[0, 0, 1, 0, 0\\right]</script></td>\n",
       "<td><script type=\"math/tex\">\\left[1, 0, 5, 0, 0\\right]</script></td>\n",
       "<td><script type=\"math/tex\">\\left[2, 0, 9, 1, 0\\right]</script></td>\n",
       "<td><script type=\"math/tex\">\\left[3, 0, 5, 5, 0\\right]</script></td>\n",
       "<td><script type=\"math/tex\">\\left[4, 0, 0, 4, 1\\right]</script></td>\n",
       "<td><script type=\"math/tex\">\\left[5, 0, 0, 0, 1\\right]</script></td>\n",
       "</tr>\n",
       "<tr class =\"row-b\">\n",
       "<td>h22</td>\n",
       "<td><script type=\"math/tex\">5</script></td>\n",
       "<td><script type=\"math/tex\">\\left[0, 1, 0, 0, 0\\right]</script></td>\n",
       "<td><script type=\"math/tex\">\\left[1, 5, 0, 0, 0\\right]</script></td>\n",
       "<td><script type=\"math/tex\">\\left[2, 9, 1, 0, 0\\right]</script></td>\n",
       "<td><script type=\"math/tex\">\\left[3, 5, 5, 0, 0\\right]</script></td>\n",
       "<td><script type=\"math/tex\">\\left[4, 0, 4, 1, 0\\right]</script></td>\n",
       "<td><script type=\"math/tex\">\\left[5, 0, 0, 1, 0\\right]</script></td>\n",
       "</tr>\n",
       "<tr class =\"row-a\">\n",
       "<td>h23</td>\n",
       "<td><script type=\"math/tex\">6</script></td>\n",
       "<td><script type=\"math/tex\">\\left[0, 1, 0, 0, 0\\right]</script></td>\n",
       "<td><script type=\"math/tex\">\\left[1, 6, 0, 0, 0\\right]</script></td>\n",
       "<td><script type=\"math/tex\">\\left[2, 15, 0, 0, 0\\right]</script></td>\n",
       "<td><script type=\"math/tex\">\\left[3, 18, 2, 0, 0\\right]</script></td>\n",
       "<td><script type=\"math/tex\">\\left[4, 8, 7, 0, 0\\right]</script></td>\n",
       "<td><script type=\"math/tex\">\\left[5, 0, 5, 1, 0\\right]</script></td>\n",
       "<td><script type=\"math/tex\">\\left[6, 0, 0, 1, 0\\right]</script></td>\n",
       "</tr>\n",
       "<tr class =\"row-b\">\n",
       "<td>h24</td>\n",
       "<td><script type=\"math/tex\">5</script></td>\n",
       "<td><script type=\"math/tex\">\\left[0, 1, 0, 0, 0\\right]</script></td>\n",
       "<td><script type=\"math/tex\">\\left[1, 5, 0, 0, 0\\right]</script></td>\n",
       "<td><script type=\"math/tex\">\\left[2, 10, 0, 0, 0\\right]</script></td>\n",
       "<td><script type=\"math/tex\">\\left[3, 9, 1, 0, 0\\right]</script></td>\n",
       "<td><script type=\"math/tex\">\\left[4, 3, 2, 0, 0\\right]</script></td>\n",
       "<td><script type=\"math/tex\">\\left[5, 0, 1, 0, 0\\right]</script></td>\n",
       "</tr>\n",
       "<tr class =\"row-a\">\n",
       "<td>h25</td>\n",
       "<td><script type=\"math/tex\">5</script></td>\n",
       "<td><script type=\"math/tex\">\\left[0, 1, 0, 0, 0\\right]</script></td>\n",
       "<td><script type=\"math/tex\">\\left[1, 5, 0, 0, 0\\right]</script></td>\n",
       "<td><script type=\"math/tex\">\\left[2, 9, 1, 0, 0\\right]</script></td>\n",
       "<td><script type=\"math/tex\">\\left[3, 5, 5, 0, 0\\right]</script></td>\n",
       "<td><script type=\"math/tex\">\\left[4, 0, 4, 1, 0\\right]</script></td>\n",
       "<td><script type=\"math/tex\">\\left[5, 0, 0, 1, 0\\right]</script></td>\n",
       "</tr>\n",
       "<tr class =\"row-b\">\n",
       "<td>h27</td>\n",
       "<td><script type=\"math/tex\">7</script></td>\n",
       "<td><script type=\"math/tex\">\\left[0, 1, 0, 0, 0\\right]</script></td>\n",
       "<td><script type=\"math/tex\">\\left[1, 7, 0, 0, 0\\right]</script></td>\n",
       "<td><script type=\"math/tex\">\\left[2, 21, 0, 0, 0\\right]</script></td>\n",
       "<td><script type=\"math/tex\">\\left[3, 34, 1, 0, 0\\right]</script></td>\n",
       "<td><script type=\"math/tex\">\\left[4, 30, 5, 0, 0\\right]</script></td>\n",
       "<td><script type=\"math/tex\">\\left[5, 11, 10, 0, 0\\right]</script></td>\n",
       "<td><script type=\"math/tex\">\\left[6, 0, 6, 1, 0\\right]</script></td>\n",
       "<td><script type=\"math/tex\">\\left[7, 0, 0, 1, 0\\right]</script></td>\n",
       "</tr>\n",
       "<tr class =\"row-a\">\n",
       "<td>h28</td>\n",
       "<td><script type=\"math/tex\">6</script></td>\n",
       "<td><script type=\"math/tex\">\\left[0, 0, 1, 0, 0\\right]</script></td>\n",
       "<td><script type=\"math/tex\">\\left[1, 0, 6, 0, 0\\right]</script></td>\n",
       "<td><script type=\"math/tex\">\\left[2, 0, 15, 0, 0\\right]</script></td>\n",
       "<td><script type=\"math/tex\">\\left[3, 0, 20, 0, 0\\right]</script></td>\n",
       "<td><script type=\"math/tex\">\\left[4, 0, 14, 1, 0\\right]</script></td>\n",
       "<td><script type=\"math/tex\">\\left[5, 0, 4, 2, 0\\right]</script></td>\n",
       "<td><script type=\"math/tex\">\\left[6, 0, 0, 1, 0\\right]</script></td>\n",
       "</tr>\n",
       "<tr class =\"row-b\">\n",
       "<td>h29</td>\n",
       "<td><script type=\"math/tex\">6</script></td>\n",
       "<td><script type=\"math/tex\">\\left[0, 1, 0, 0, 0\\right]</script></td>\n",
       "<td><script type=\"math/tex\">\\left[1, 6, 0, 0, 0\\right]</script></td>\n",
       "<td><script type=\"math/tex\">\\left[2, 15, 0, 0, 0\\right]</script></td>\n",
       "<td><script type=\"math/tex\">\\left[3, 20, 0, 0, 0\\right]</script></td>\n",
       "<td><script type=\"math/tex\">\\left[4, 14, 1, 0, 0\\right]</script></td>\n",
       "<td><script type=\"math/tex\">\\left[5, 4, 2, 0, 0\\right]</script></td>\n",
       "<td><script type=\"math/tex\">\\left[6, 0, 1, 0, 0\\right]</script></td>\n",
       "</tr>\n",
       "<tr class =\"row-a\">\n",
       "<td>h30</td>\n",
       "<td><script type=\"math/tex\">7</script></td>\n",
       "<td><script type=\"math/tex\">\\left[0, 1, 0, 0, 0\\right]</script></td>\n",
       "<td><script type=\"math/tex\">\\left[1, 7, 0, 0, 0\\right]</script></td>\n",
       "<td><script type=\"math/tex\">\\left[2, 21, 0, 0, 0\\right]</script></td>\n",
       "<td><script type=\"math/tex\">\\left[3, 35, 0, 0, 0\\right]</script></td>\n",
       "<td><script type=\"math/tex\">\\left[4, 35, 0, 0, 0\\right]</script></td>\n",
       "<td><script type=\"math/tex\">\\left[5, 20, 1, 0, 0\\right]</script></td>\n",
       "<td><script type=\"math/tex\">\\left[6, 5, 2, 0, 0\\right]</script></td>\n",
       "<td><script type=\"math/tex\">\\left[7, 0, 1, 0, 0\\right]</script></td>\n",
       "</tr>\n",
       "<tr class =\"row-b\">\n",
       "<td>h31</td>\n",
       "<td><script type=\"math/tex\">8</script></td>\n",
       "<td><script type=\"math/tex\">\\left[0, 1, 0, 0, 0\\right]</script></td>\n",
       "<td><script type=\"math/tex\">\\left[1, 8, 0, 0, 0\\right]</script></td>\n",
       "<td><script type=\"math/tex\">\\left[2, 28, 0, 0, 0\\right]</script></td>\n",
       "<td><script type=\"math/tex\">\\left[3, 56, 0, 0, 0\\right]</script></td>\n",
       "<td><script type=\"math/tex\">\\left[4, 67, 3, 0, 0\\right]</script></td>\n",
       "<td><script type=\"math/tex\">\\left[5, 44, 12, 0, 0\\right]</script></td>\n",
       "<td><script type=\"math/tex\">\\left[6, 12, 15, 1, 0\\right]</script></td>\n",
       "<td><script type=\"math/tex\">\\left[7, 0, 6, 2, 0\\right]</script></td>\n",
       "<td><script type=\"math/tex\">\\left[8, 0, 0, 1, 0\\right]</script></td>\n",
       "</tr>\n",
       "<tr class =\"row-a\">\n",
       "<td>h32</td>\n",
       "<td><script type=\"math/tex\">8</script></td>\n",
       "<td><script type=\"math/tex\">\\left[0, 1, 0, 0, 0\\right]</script></td>\n",
       "<td><script type=\"math/tex\">\\left[1, 8, 0, 0, 0\\right]</script></td>\n",
       "<td><script type=\"math/tex\">\\left[2, 28, 0, 0, 0\\right]</script></td>\n",
       "<td><script type=\"math/tex\">\\left[3, 56, 0, 0, 0\\right]</script></td>\n",
       "<td><script type=\"math/tex\">\\left[4, 69, 1, 0, 0\\right]</script></td>\n",
       "<td><script type=\"math/tex\">\\left[5, 52, 4, 0, 0\\right]</script></td>\n",
       "<td><script type=\"math/tex\">\\left[6, 22, 6, 0, 0\\right]</script></td>\n",
       "<td><script type=\"math/tex\">\\left[7, 4, 4, 0, 0\\right]</script></td>\n",
       "<td><script type=\"math/tex\">\\left[8, 0, 1, 0, 0\\right]</script></td>\n",
       "</tr>\n",
       "</tbody>\n",
       "</table>\n",
       "</div>"
      ],
      "text/plain": [
       "  h9_tris   3   [0, 1, 0, 0, 0]   [1, 0, 3, 0, 0]   [2, 0, 0, 3, 0]    [3, 0, 0, 0, 1]\n",
       "  h10       3   [0, 0, 1, 0, 0]   [1, 0, 3, 0, 0]   [2, 0, 0, 3, 0]    [3, 0, 0, 0, 1]\n",
       "  h11       3   [0, 1, 0, 0, 0]   [1, 3, 0, 0, 0]   [2, 0, 3, 0, 0]    [3, 0, 0, 1, 0]\n",
       "  h12       5   [0, 1, 0, 0, 0]   [1, 5, 0, 0, 0]   [2, 8, 2, 0, 0]    [3, 0, 10, 0, 0]\n",
       "  h14       4   [0, 1, 0, 0, 0]   [1, 4, 0, 0, 0]   [2, 5, 1, 0, 0]    [3, 0, 4, 0, 0]\n",
       "  h18_bis   5   [0, 1, 0, 0, 0]   [1, 5, 0, 0, 0]   [2, 10, 0, 0, 0]   [3, 8, 2, 0, 0]\n",
       "  h21       5   [0, 0, 1, 0, 0]   [1, 0, 5, 0, 0]   [2, 0, 9, 1, 0]    [3, 0, 5, 5, 0]\n",
       "  h22       5   [0, 1, 0, 0, 0]   [1, 5, 0, 0, 0]   [2, 9, 1, 0, 0]    [3, 5, 5, 0, 0]\n",
       "  h23       6   [0, 1, 0, 0, 0]   [1, 6, 0, 0, 0]   [2, 15, 0, 0, 0]   [3, 18, 2, 0, 0]\n",
       "  h24       5   [0, 1, 0, 0, 0]   [1, 5, 0, 0, 0]   [2, 10, 0, 0, 0]   [3, 9, 1, 0, 0]\n",
       "  h25       5   [0, 1, 0, 0, 0]   [1, 5, 0, 0, 0]   [2, 9, 1, 0, 0]    [3, 5, 5, 0, 0]\n",
       "  h27       7   [0, 1, 0, 0, 0]   [1, 7, 0, 0, 0]   [2, 21, 0, 0, 0]   [3, 34, 1, 0, 0]\n",
       "  h28       6   [0, 0, 1, 0, 0]   [1, 0, 6, 0, 0]   [2, 0, 15, 0, 0]   [3, 0, 20, 0, 0]\n",
       "  h29       6   [0, 1, 0, 0, 0]   [1, 6, 0, 0, 0]   [2, 15, 0, 0, 0]   [3, 20, 0, 0, 0]\n",
       "  h30       7   [0, 1, 0, 0, 0]   [1, 7, 0, 0, 0]   [2, 21, 0, 0, 0]   [3, 35, 0, 0, 0]\n",
       "  h31       8   [0, 1, 0, 0, 0]   [1, 8, 0, 0, 0]   [2, 28, 0, 0, 0]   [3, 56, 0, 0, 0]\n",
       "  h32       8   [0, 1, 0, 0, 0]   [1, 8, 0, 0, 0]   [2, 28, 0, 0, 0]   [3, 56, 0, 0, 0]"
      ]
     },
     "execution_count": 27,
     "metadata": {},
     "output_type": "execute_result"
    }
   ],
   "source": [
    "Table = table(rows)\n",
    "Table"
   ]
  },
  {
   "cell_type": "markdown",
   "metadata": {},
   "source": [
    "In order to fully understand the meaning of the table, and to compile it into the one of the paper, let us see a couple of examples of the meaning of each row."
   ]
  },
  {
   "cell_type": "markdown",
   "metadata": {},
   "source": [
    "Let's take a look at the first row."
   ]
  },
  {
   "cell_type": "code",
   "execution_count": 28,
   "metadata": {},
   "outputs": [
    {
     "data": {
      "text/html": [
       "<html><script type=\"math/tex; mode=display\">\\newcommand{\\Bold}[1]{\\mathbf{#1}}\\left[\\verb|h9_tris|, 3, \\left[0, 1, 0, 0, 0\\right], \\left[1, 0, 3, 0, 0\\right], \\left[2, 0, 0, 3, 0\\right], \\left[3, 0, 0, 0, 1\\right]\\right]</script></html>"
      ],
      "text/latex": [
       "$$\\newcommand{\\Bold}[1]{\\mathbf{#1}}\\left[\\verb|h9_tris|, 3, \\left[0, 1, 0, 0, 0\\right], \\left[1, 0, 3, 0, 0\\right], \\left[2, 0, 0, 3, 0\\right], \\left[3, 0, 0, 0, 1\\right]\\right]$$"
      ],
      "text/plain": [
       "['h9_tris',\n",
       " 3,\n",
       " [0, 1, 0, 0, 0],\n",
       " [1, 0, 3, 0, 0],\n",
       " [2, 0, 0, 3, 0],\n",
       " [3, 0, 0, 0, 1]]"
      ]
     },
     "execution_count": 28,
     "metadata": {},
     "output_type": "execute_result"
    }
   ],
   "source": [
    "rows[0]"
   ]
  },
  {
   "cell_type": "markdown",
   "metadata": {},
   "source": [
    "The algebra we are looking at is $\\mathfrak{h}_9$. The generic metric $g$ given by $\\sigma$ has $3$ free parameters that can be set equal to 0. Those are the first two elements of the list.\n",
    "\n",
    "The rest of the elemets are lists of length 5. For each one, the first elements shows the amount of non diagonal free variables that are set equal to 0. The rest of the positions indicates the subgroups of $D$ isomorphic to $\\mathbb{Z}_2^k$ for $k=0,1,2,3$, respectively. The quantity at each position is the quantity of different subgroups of isometric automorphisms exists.\n",
    "\n",
    "That is to say, $[0,1,0,0,0]$ indicates that if we have $\\sigma$ with all of its variables nonzero, then the subgrup of isometric automorphisms is trivial.\n",
    "\n",
    "$[1, 0, 3, 0, 0]$ indicates that if we set only one of the nondiagonal variables equal to zero, then for all of those metrics we have that there are exactly 3 subgroups of isomorphic automorphisms of $D$ which are isomorphic to $\\mathbb{Z}_2$.\n",
    "\n",
    "$[2, 0, 0, 3, 0]$ indicates that if we set only two of the nondiagonal variables equal to zero, then for all of those metrics we have that there are exactly 3 subgroups of isomorphic automorphisms of $D$ which are isomorphic to $\\mathbb{Z}_2^2$.\n",
    "\n",
    "$[3, 0, 0, 0, 1]$ indicates that if we set only three of the nondiagonal variables equal to zero, then for all of those metrics we have that there 1 exactly 1 subgroup of isomorphic automorphisms of $D$ which are isomorphic to $\\mathbb{Z}_2^3$ (which is all of $D$).\n"
   ]
  },
  {
   "cell_type": "markdown",
   "metadata": {},
   "source": [
    "---\n",
    "\n",
    "This notebook corresponds to the article \"The moduli space of left-invariant metrics on six-dimensional characteristically solvable nilmanifolds\" by I. Cardoso, A. Cosgaya, and S. Reggiani (2024)."
   ]
  }
 ],
 "metadata": {
  "kernelspec": {
   "display_name": "SageMath 9.3",
   "language": "sage",
   "name": "sagemath"
  },
  "language_info": {
   "codemirror_mode": {
    "name": "ipython",
    "version": 3
   },
   "file_extension": ".py",
   "mimetype": "text/x-python",
   "name": "python",
   "nbconvert_exporter": "python",
   "pygments_lexer": "ipython3",
   "version": "3.7.10"
  }
 },
 "nbformat": 4,
 "nbformat_minor": 4
}

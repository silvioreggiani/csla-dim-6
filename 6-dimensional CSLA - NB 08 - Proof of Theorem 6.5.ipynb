{
 "cells": [
  {
   "cell_type": "code",
   "execution_count": 1,
   "metadata": {
    "tags": []
   },
   "outputs": [],
   "source": [
    "%display latex"
   ]
  },
  {
   "cell_type": "markdown",
   "metadata": {},
   "source": [
    "# 6-dimensional CSLA - NB 08 - Proof of Theorem 6.5"
   ]
  },
  {
   "cell_type": "markdown",
   "metadata": {},
   "source": [
    "## The distribution of symmetry for $\\mathfrak h_{21}$\n",
    "\n",
    "This notebook is complementary to Notebook 07. We prove Theorem 6.5."
   ]
  },
  {
   "cell_type": "code",
   "execution_count": 2,
   "metadata": {},
   "outputs": [],
   "source": [
    "def inn_prod(A, B, m):\n",
    "    \"\"\"\n",
    "    Inputs:\n",
    "    A, B = elements of a 6-dim CSLA\n",
    "    m = 6x6 symmetric positive definite matrix\n",
    "\n",
    "    Output: the product <A,B> with respect to the inner product which\n",
    "    in the standard basis is represented by the matrix m.\n",
    "    \"\"\"\n",
    "    a = vector(A)\n",
    "    b = vector(B)\n",
    "    return a * m * b\n",
    "    \n",
    "def formula_dist_sym(A,B,C,m):\n",
    "    \"\"\"\n",
    "    Inputs:\n",
    "    A, B, B = elements of a 6-dim CSLA\n",
    "    m = 6x6 symmetric positive definite matrix\n",
    "\n",
    "    Output: computes\n",
    "    <[A,B],C> + <[A,C],B> + <[B,C],A>\n",
    "    where <,> is the inner product on the underlying Lie algebra which\n",
    "    in the standard basis is represented by the matrix m.\n",
    "    \"\"\"\n",
    "    return inn_prod(A.bracket(B), C, m) + inn_prod(A.bracket(C), B, m) + inn_prod(B.bracket(C), A, m)\n",
    "\n",
    "def distribution_of_sym(algebra_name):\n",
    "    \"\"\"\n",
    "    Input: the string representing a CSLA (see CSLA.sage)\n",
    "\n",
    "    Output: A list `equations` for the left-invariant field \n",
    "    Y = y1 e1 + ... + y6 * e6\n",
    "    belongs to the distribution of symmetry\n",
    "    \n",
    "    Warning: this program defines some global variables, the coefficients\n",
    "    y1, ..., y6, the basis e1, ..., e6 of the Lie algebra associated to \n",
    "    algebra_name and the metric parameters s0, s1, ... \n",
    "    \"\"\"\n",
    "    generic_metric(algebra_name)\n",
    "    global e1, e2, e3, e4, e5, e6\n",
    "    e1, e2, e3, e4, e5, e6 = alg.basis()\n",
    "    global y1, y2, y3, y4, y5, y6 \n",
    "    y1, y2, y3, y4, y5, y6 = var('y1 y2 y3 y4 y5 y6')\n",
    "    global Y\n",
    "    Y = y1*e1 + y2*e2 + y3*e3 + y4*e4 + y5*e5 + y6*e6\n",
    "    global equations\n",
    "    equations = []\n",
    "    for vector1 in alg.basis():\n",
    "        for vector2 in alg.basis():\n",
    "            e = formula_dist_sym(vector1,Y,vector2,g)\n",
    "            equations.append(e == 0)"
   ]
  },
  {
   "cell_type": "markdown",
   "metadata": {},
   "source": [
    "Now we modify the list `names` defined in `CSLA.sage` with a representative for each CSLA. This list is now ordered with the lexicographic order."
   ]
  },
  {
   "cell_type": "code",
   "execution_count": 3,
   "metadata": {},
   "outputs": [
    {
     "data": {
      "text/html": [
       "<html><script type=\"math/tex; mode=display\">\\newcommand{\\Bold}[1]{\\mathbf{#1}}\\left[\\verb|h9_tris|, \\verb|h10|, \\verb|h11|, \\verb|h12|, \\verb|h13|, \\verb|h14|, \\verb|h18_bis|, \\verb|h19+_tris|, \\verb|h21|, \\verb|h22|, \\verb|h23|, \\verb|h24|, \\verb|h25|, \\verb|h26-_bis|, \\verb|h27|, \\verb|h28|, \\verb|h29|, \\verb|h30|, \\verb|h31|, \\verb|h32|\\right]</script></html>"
      ],
      "text/latex": [
       "$$\\newcommand{\\Bold}[1]{\\mathbf{#1}}\\left[\\verb|h9_tris|, \\verb|h10|, \\verb|h11|, \\verb|h12|, \\verb|h13|, \\verb|h14|, \\verb|h18_bis|, \\verb|h19+_tris|, \\verb|h21|, \\verb|h22|, \\verb|h23|, \\verb|h24|, \\verb|h25|, \\verb|h26-_bis|, \\verb|h27|, \\verb|h28|, \\verb|h29|, \\verb|h30|, \\verb|h31|, \\verb|h32|\\right]$$"
      ],
      "text/plain": [
       "['h9_tris',\n",
       " 'h10',\n",
       " 'h11',\n",
       " 'h12',\n",
       " 'h13',\n",
       " 'h14',\n",
       " 'h18_bis',\n",
       " 'h19+_tris',\n",
       " 'h21',\n",
       " 'h22',\n",
       " 'h23',\n",
       " 'h24',\n",
       " 'h25',\n",
       " 'h26-_bis',\n",
       " 'h27',\n",
       " 'h28',\n",
       " 'h29',\n",
       " 'h30',\n",
       " 'h31',\n",
       " 'h32']"
      ]
     },
     "execution_count": 3,
     "metadata": {},
     "output_type": "execute_result"
    }
   ],
   "source": [
    "load(\"CSLA.sage\")\n",
    "names.sort()\n",
    "names.remove(\"h9_bis\")\n",
    "names.remove(\"h19+_bis\")\n",
    "names = [names[-1]] + names[:-1]\n",
    "names"
   ]
  },
  {
   "cell_type": "markdown",
   "metadata": {},
   "source": [
    "## Case $\\mathfrak h_{21}$"
   ]
  },
  {
   "cell_type": "code",
   "execution_count": 4,
   "metadata": {},
   "outputs": [
    {
     "data": {
      "text/html": [
       "<html><script type=\"math/tex; mode=display\">\\newcommand{\\Bold}[1]{\\mathbf{#1}}\\verb|Nilpotent|\\phantom{\\verb!x!}\\verb|Lie|\\phantom{\\verb!x!}\\verb|algebra|\\phantom{\\verb!x!}\\verb|on|\\phantom{\\verb!x!}\\verb|6|\\phantom{\\verb!x!}\\verb|generators|\\phantom{\\verb!x!}\\verb|(e1,|\\phantom{\\verb!x!}\\verb|e2,|\\phantom{\\verb!x!}\\verb|e3,|\\phantom{\\verb!x!}\\verb|e4,|\\phantom{\\verb!x!}\\verb|e5,|\\phantom{\\verb!x!}\\verb|e6)|\\phantom{\\verb!x!}\\verb|over|\\phantom{\\verb!x!}\\verb|Symbolic|\\phantom{\\verb!x!}\\verb|Ring|</script></html>"
      ],
      "text/latex": [
       "$$\\newcommand{\\Bold}[1]{\\mathbf{#1}}\\verb|Nilpotent|\\phantom{\\verb!x!}\\verb|Lie|\\phantom{\\verb!x!}\\verb|algebra|\\phantom{\\verb!x!}\\verb|on|\\phantom{\\verb!x!}\\verb|6|\\phantom{\\verb!x!}\\verb|generators|\\phantom{\\verb!x!}\\verb|(e1,|\\phantom{\\verb!x!}\\verb|e2,|\\phantom{\\verb!x!}\\verb|e3,|\\phantom{\\verb!x!}\\verb|e4,|\\phantom{\\verb!x!}\\verb|e5,|\\phantom{\\verb!x!}\\verb|e6)|\\phantom{\\verb!x!}\\verb|over|\\phantom{\\verb!x!}\\verb|Symbolic|\\phantom{\\verb!x!}\\verb|Ring|$$"
      ],
      "text/plain": [
       "Nilpotent Lie algebra on 6 generators (e1, e2, e3, e4, e5, e6) over Symbolic Ring"
      ]
     },
     "metadata": {},
     "output_type": "display_data"
    },
    {
     "data": {
      "text/html": [
       "h21"
      ],
      "text/plain": [
       "'h21'"
      ]
     },
     "metadata": {},
     "output_type": "display_data"
    },
    {
     "data": {
      "text/html": [
       "<html><script type=\"math/tex; mode=display\">\\newcommand{\\Bold}[1]{\\mathbf{#1}}\\left[0, 0, 0, 12, 14, 15\\right]</script></html>"
      ],
      "text/latex": [
       "$$\\newcommand{\\Bold}[1]{\\mathbf{#1}}\\left[0, 0, 0, 12, 14, 15\\right]$$"
      ],
      "text/plain": [
       "['0', '0', '0', '12', '14', '15']"
      ]
     },
     "metadata": {},
     "output_type": "display_data"
    }
   ],
   "source": [
    "name = names[8]\n",
    "construct_the_algebra(name)\n",
    "display(alg, alg_name, label)"
   ]
  },
  {
   "cell_type": "code",
   "execution_count": 5,
   "metadata": {},
   "outputs": [
    {
     "data": {
      "text/html": [
       "<html><script type=\"math/tex; mode=display\">\\newcommand{\\Bold}[1]{\\mathbf{#1}}\\left(\\begin{array}{rrrrrr}\n",
       "1 & 0 & 0 & 0 & 0 & 0 \\\\\n",
       "0 & 1 & 0 & 0 & 0 & 0 \\\\\n",
       "0 & 0 & s_{0}^{2} + s_{2}^{2} + 1 & s_{0} s_{1} + s_{2} s_{3} & s_{2} s_{4} & 0 \\\\\n",
       "0 & 0 & s_{0} s_{1} + s_{2} s_{3} & s_{1}^{2} + s_{3}^{2} + s_{5}^{2} & s_{3} s_{4} + s_{5} s_{6} & s_{5} s_{7} \\\\\n",
       "0 & 0 & s_{2} s_{4} & s_{3} s_{4} + s_{5} s_{6} & s_{4}^{2} + s_{6}^{2} & s_{6} s_{7} \\\\\n",
       "0 & 0 & 0 & s_{5} s_{7} & s_{6} s_{7} & s_{7}^{2}\n",
       "\\end{array}\\right)</script></html>"
      ],
      "text/latex": [
       "$$\\newcommand{\\Bold}[1]{\\mathbf{#1}}\\left(\\begin{array}{rrrrrr}\n",
       "1 & 0 & 0 & 0 & 0 & 0 \\\\\n",
       "0 & 1 & 0 & 0 & 0 & 0 \\\\\n",
       "0 & 0 & s_{0}^{2} + s_{2}^{2} + 1 & s_{0} s_{1} + s_{2} s_{3} & s_{2} s_{4} & 0 \\\\\n",
       "0 & 0 & s_{0} s_{1} + s_{2} s_{3} & s_{1}^{2} + s_{3}^{2} + s_{5}^{2} & s_{3} s_{4} + s_{5} s_{6} & s_{5} s_{7} \\\\\n",
       "0 & 0 & s_{2} s_{4} & s_{3} s_{4} + s_{5} s_{6} & s_{4}^{2} + s_{6}^{2} & s_{6} s_{7} \\\\\n",
       "0 & 0 & 0 & s_{5} s_{7} & s_{6} s_{7} & s_{7}^{2}\n",
       "\\end{array}\\right)$$"
      ],
      "text/plain": [
       "[                 1                  0                  0                  0                  0                  0]\n",
       "[                 0                  1                  0                  0                  0                  0]\n",
       "[                 0                  0    s0^2 + s2^2 + 1      s0*s1 + s2*s3              s2*s4                  0]\n",
       "[                 0                  0      s0*s1 + s2*s3 s1^2 + s3^2 + s5^2      s3*s4 + s5*s6              s5*s7]\n",
       "[                 0                  0              s2*s4      s3*s4 + s5*s6        s4^2 + s6^2              s6*s7]\n",
       "[                 0                  0                  0              s5*s7              s6*s7               s7^2]"
      ]
     },
     "metadata": {},
     "output_type": "display_data"
    },
    {
     "name": "stdout",
     "output_type": "stream",
     "text": [
      "\n"
     ]
    },
    {
     "data": {
      "text/html": [
       "<html><script type=\"math/tex; mode=display\">\\newcommand{\\Bold}[1]{\\mathbf{#1}}s_{1}^{2} s_{4}^{2} s_{7}^{2}</script></html>"
      ],
      "text/latex": [
       "$$\\newcommand{\\Bold}[1]{\\mathbf{#1}}s_{1}^{2} s_{4}^{2} s_{7}^{2}$$"
      ],
      "text/plain": [
       "s1^2*s4^2*s7^2"
      ]
     },
     "metadata": {},
     "output_type": "display_data"
    }
   ],
   "source": [
    "distribution_of_sym(alg_name)\n",
    "display(g)\n",
    "print(\"\")\n",
    "display(g.det())"
   ]
  },
  {
   "cell_type": "code",
   "execution_count": 6,
   "metadata": {},
   "outputs": [
    {
     "data": {
      "text/html": [
       "<html><script type=\"math/tex; mode=display\">\\newcommand{\\Bold}[1]{\\mathbf{#1}}-s_{2} s_{4} y_{1} = 0</script></html>"
      ],
      "text/latex": [
       "$$\\newcommand{\\Bold}[1]{\\mathbf{#1}}-s_{2} s_{4} y_{1} = 0$$"
      ],
      "text/plain": [
       "-s2*s4*y1 == 0"
      ]
     },
     "metadata": {},
     "output_type": "display_data"
    },
    {
     "data": {
      "text/html": [
       "<html><script type=\"math/tex; mode=display\">\\newcommand{\\Bold}[1]{\\mathbf{#1}}s_{7}^{2} y_{1} = 0</script></html>"
      ],
      "text/latex": [
       "$$\\newcommand{\\Bold}[1]{\\mathbf{#1}}s_{7}^{2} y_{1} = 0$$"
      ],
      "text/plain": [
       "s7^2*y1 == 0"
      ]
     },
     "metadata": {},
     "output_type": "display_data"
    },
    {
     "data": {
      "text/html": [
       "<html><script type=\"math/tex; mode=display\">\\newcommand{\\Bold}[1]{\\mathbf{#1}}-s_{2} s_{4} y_{3} - s_{5} s_{7} y_{5} - s_{6} s_{7} y_{6} - {\\left(s_{1}^{2} + s_{3}^{2} + s_{5}^{2}\\right)} y_{2} - 2 \\, {\\left(s_{3} s_{4} + s_{5} s_{6}\\right)} y_{4} - {\\left(s_{4}^{2} + s_{6}^{2}\\right)} y_{5} = 0</script></html>"
      ],
      "text/latex": [
       "$$\\newcommand{\\Bold}[1]{\\mathbf{#1}}-s_{2} s_{4} y_{3} - s_{5} s_{7} y_{5} - s_{6} s_{7} y_{6} - {\\left(s_{1}^{2} + s_{3}^{2} + s_{5}^{2}\\right)} y_{2} - 2 \\, {\\left(s_{3} s_{4} + s_{5} s_{6}\\right)} y_{4} - {\\left(s_{4}^{2} + s_{6}^{2}\\right)} y_{5} = 0$$"
      ],
      "text/plain": [
       "-s2*s4*y3 - s5*s7*y5 - s6*s7*y6 - (s1^2 + s3^2 + s5^2)*y2 - 2*(s3*s4 + s5*s6)*y4 - (s4^2 + s6^2)*y5 == 0"
      ]
     },
     "metadata": {},
     "output_type": "display_data"
    },
    {
     "data": {
      "text/html": [
       "<html><script type=\"math/tex; mode=display\">\\newcommand{\\Bold}[1]{\\mathbf{#1}}s_{5} s_{7} y_{1} = 0</script></html>"
      ],
      "text/latex": [
       "$$\\newcommand{\\Bold}[1]{\\mathbf{#1}}s_{5} s_{7} y_{1} = 0$$"
      ],
      "text/plain": [
       "s5*s7*y1 == 0"
      ]
     },
     "metadata": {},
     "output_type": "display_data"
    },
    {
     "data": {
      "text/html": [
       "<html><script type=\"math/tex; mode=display\">\\newcommand{\\Bold}[1]{\\mathbf{#1}}s_{6} s_{7} y_{1} = 0</script></html>"
      ],
      "text/latex": [
       "$$\\newcommand{\\Bold}[1]{\\mathbf{#1}}s_{6} s_{7} y_{1} = 0$$"
      ],
      "text/plain": [
       "s6*s7*y1 == 0"
      ]
     },
     "metadata": {},
     "output_type": "display_data"
    },
    {
     "data": {
      "text/html": [
       "<html><script type=\"math/tex; mode=display\">\\newcommand{\\Bold}[1]{\\mathbf{#1}}-s_{5} s_{7} y_{6} - {\\left(s_{0} s_{1} + s_{2} s_{3}\\right)} y_{3} - {\\left(s_{1}^{2} + s_{3}^{2} + s_{5}^{2}\\right)} y_{4} - {\\left(s_{3} s_{4} + s_{5} s_{6}\\right)} y_{5} = 0</script></html>"
      ],
      "text/latex": [
       "$$\\newcommand{\\Bold}[1]{\\mathbf{#1}}-s_{5} s_{7} y_{6} - {\\left(s_{0} s_{1} + s_{2} s_{3}\\right)} y_{3} - {\\left(s_{1}^{2} + s_{3}^{2} + s_{5}^{2}\\right)} y_{4} - {\\left(s_{3} s_{4} + s_{5} s_{6}\\right)} y_{5} = 0$$"
      ],
      "text/plain": [
       "-s5*s7*y6 - (s0*s1 + s2*s3)*y3 - (s1^2 + s3^2 + s5^2)*y4 - (s3*s4 + s5*s6)*y5 == 0"
      ]
     },
     "metadata": {},
     "output_type": "display_data"
    },
    {
     "data": {
      "text/html": [
       "<html><script type=\"math/tex; mode=display\">\\newcommand{\\Bold}[1]{\\mathbf{#1}}s_{5} s_{7} y_{2} + s_{6} s_{7} y_{4} + s_{7}^{2} y_{5} = 0</script></html>"
      ],
      "text/latex": [
       "$$\\newcommand{\\Bold}[1]{\\mathbf{#1}}s_{5} s_{7} y_{2} + s_{6} s_{7} y_{4} + s_{7}^{2} y_{5} = 0$$"
      ],
      "text/plain": [
       "s5*s7*y2 + s6*s7*y4 + s7^2*y5 == 0"
      ]
     },
     "metadata": {},
     "output_type": "display_data"
    },
    {
     "data": {
      "text/html": [
       "<html><script type=\"math/tex; mode=display\">\\newcommand{\\Bold}[1]{\\mathbf{#1}}-s_{7}^{2} y_{1} = 0</script></html>"
      ],
      "text/latex": [
       "$$\\newcommand{\\Bold}[1]{\\mathbf{#1}}-s_{7}^{2} y_{1} = 0$$"
      ],
      "text/plain": [
       "-s7^2*y1 == 0"
      ]
     },
     "metadata": {},
     "output_type": "display_data"
    },
    {
     "data": {
      "text/html": [
       "<html><script type=\"math/tex; mode=display\">\\newcommand{\\Bold}[1]{\\mathbf{#1}}-s_{6} s_{7} y_{1} = 0</script></html>"
      ],
      "text/latex": [
       "$$\\newcommand{\\Bold}[1]{\\mathbf{#1}}-s_{6} s_{7} y_{1} = 0$$"
      ],
      "text/plain": [
       "-s6*s7*y1 == 0"
      ]
     },
     "metadata": {},
     "output_type": "display_data"
    },
    {
     "data": {
      "text/html": [
       "<html><script type=\"math/tex; mode=display\">\\newcommand{\\Bold}[1]{\\mathbf{#1}}s_{2} s_{4} y_{4} + {\\left(s_{0} s_{1} + s_{2} s_{3}\\right)} y_{2} = 0</script></html>"
      ],
      "text/latex": [
       "$$\\newcommand{\\Bold}[1]{\\mathbf{#1}}s_{2} s_{4} y_{4} + {\\left(s_{0} s_{1} + s_{2} s_{3}\\right)} y_{2} = 0$$"
      ],
      "text/plain": [
       "s2*s4*y4 + (s0*s1 + s2*s3)*y2 == 0"
      ]
     },
     "metadata": {},
     "output_type": "display_data"
    },
    {
     "data": {
      "text/html": [
       "<html><script type=\"math/tex; mode=display\">\\newcommand{\\Bold}[1]{\\mathbf{#1}}s_{2} s_{4} y_{1} = 0</script></html>"
      ],
      "text/latex": [
       "$$\\newcommand{\\Bold}[1]{\\mathbf{#1}}s_{2} s_{4} y_{1} = 0$$"
      ],
      "text/plain": [
       "s2*s4*y1 == 0"
      ]
     },
     "metadata": {},
     "output_type": "display_data"
    },
    {
     "data": {
      "text/html": [
       "<html><script type=\"math/tex; mode=display\">\\newcommand{\\Bold}[1]{\\mathbf{#1}}{\\left(s_{3} s_{4} + s_{5} s_{6}\\right)} y_{1} = 0</script></html>"
      ],
      "text/latex": [
       "$$\\newcommand{\\Bold}[1]{\\mathbf{#1}}{\\left(s_{3} s_{4} + s_{5} s_{6}\\right)} y_{1} = 0$$"
      ],
      "text/plain": [
       "(s3*s4 + s5*s6)*y1 == 0"
      ]
     },
     "metadata": {},
     "output_type": "display_data"
    },
    {
     "data": {
      "text/html": [
       "<html><script type=\"math/tex; mode=display\">\\newcommand{\\Bold}[1]{\\mathbf{#1}}{\\left(s_{1}^{2} + s_{3}^{2} + s_{5}^{2}\\right)} y_{1} = 0</script></html>"
      ],
      "text/latex": [
       "$$\\newcommand{\\Bold}[1]{\\mathbf{#1}}{\\left(s_{1}^{2} + s_{3}^{2} + s_{5}^{2}\\right)} y_{1} = 0$$"
      ],
      "text/plain": [
       "(s1^2 + s3^2 + s5^2)*y1 == 0"
      ]
     },
     "metadata": {},
     "output_type": "display_data"
    },
    {
     "data": {
      "text/html": [
       "<html><script type=\"math/tex; mode=display\">\\newcommand{\\Bold}[1]{\\mathbf{#1}}s_{5} s_{7} y_{4} + 2 \\, s_{6} s_{7} y_{5} + s_{7}^{2} y_{6} + {\\left(s_{3} s_{4} + s_{5} s_{6}\\right)} y_{2} + {\\left(s_{4}^{2} + s_{6}^{2}\\right)} y_{4} = 0</script></html>"
      ],
      "text/latex": [
       "$$\\newcommand{\\Bold}[1]{\\mathbf{#1}}s_{5} s_{7} y_{4} + 2 \\, s_{6} s_{7} y_{5} + s_{7}^{2} y_{6} + {\\left(s_{3} s_{4} + s_{5} s_{6}\\right)} y_{2} + {\\left(s_{4}^{2} + s_{6}^{2}\\right)} y_{4} = 0$$"
      ],
      "text/plain": [
       "s5*s7*y4 + 2*s6*s7*y5 + s7^2*y6 + (s3*s4 + s5*s6)*y2 + (s4^2 + s6^2)*y4 == 0"
      ]
     },
     "metadata": {},
     "output_type": "display_data"
    },
    {
     "data": {
      "text/html": [
       "<html><script type=\"math/tex; mode=display\">\\newcommand{\\Bold}[1]{\\mathbf{#1}}-{\\left(s_{0} s_{1} + s_{2} s_{3}\\right)} y_{1} = 0</script></html>"
      ],
      "text/latex": [
       "$$\\newcommand{\\Bold}[1]{\\mathbf{#1}}-{\\left(s_{0} s_{1} + s_{2} s_{3}\\right)} y_{1} = 0$$"
      ],
      "text/plain": [
       "-(s0*s1 + s2*s3)*y1 == 0"
      ]
     },
     "metadata": {},
     "output_type": "display_data"
    },
    {
     "data": {
      "text/html": [
       "<html><script type=\"math/tex; mode=display\">\\newcommand{\\Bold}[1]{\\mathbf{#1}}-s_{5} s_{7} y_{4} - 2 \\, s_{6} s_{7} y_{5} - s_{7}^{2} y_{6} - {\\left(s_{3} s_{4} + s_{5} s_{6}\\right)} y_{2} - {\\left(s_{4}^{2} + s_{6}^{2}\\right)} y_{4} = 0</script></html>"
      ],
      "text/latex": [
       "$$\\newcommand{\\Bold}[1]{\\mathbf{#1}}-s_{5} s_{7} y_{4} - 2 \\, s_{6} s_{7} y_{5} - s_{7}^{2} y_{6} - {\\left(s_{3} s_{4} + s_{5} s_{6}\\right)} y_{2} - {\\left(s_{4}^{2} + s_{6}^{2}\\right)} y_{4} = 0$$"
      ],
      "text/plain": [
       "-s5*s7*y4 - 2*s6*s7*y5 - s7^2*y6 - (s3*s4 + s5*s6)*y2 - (s4^2 + s6^2)*y4 == 0"
      ]
     },
     "metadata": {},
     "output_type": "display_data"
    },
    {
     "data": {
      "text/html": [
       "<html><script type=\"math/tex; mode=display\">\\newcommand{\\Bold}[1]{\\mathbf{#1}}-{\\left(s_{3} s_{4} + s_{5} s_{6}\\right)} y_{1} = 0</script></html>"
      ],
      "text/latex": [
       "$$\\newcommand{\\Bold}[1]{\\mathbf{#1}}-{\\left(s_{3} s_{4} + s_{5} s_{6}\\right)} y_{1} = 0$$"
      ],
      "text/plain": [
       "-(s3*s4 + s5*s6)*y1 == 0"
      ]
     },
     "metadata": {},
     "output_type": "display_data"
    },
    {
     "data": {
      "text/html": [
       "<html><script type=\"math/tex; mode=display\">\\newcommand{\\Bold}[1]{\\mathbf{#1}}s_{2} s_{4} y_{3} + s_{5} s_{7} y_{5} + s_{6} s_{7} y_{6} + {\\left(s_{1}^{2} + s_{3}^{2} + s_{5}^{2}\\right)} y_{2} + 2 \\, {\\left(s_{3} s_{4} + s_{5} s_{6}\\right)} y_{4} + {\\left(s_{4}^{2} + s_{6}^{2}\\right)} y_{5} = 0</script></html>"
      ],
      "text/latex": [
       "$$\\newcommand{\\Bold}[1]{\\mathbf{#1}}s_{2} s_{4} y_{3} + s_{5} s_{7} y_{5} + s_{6} s_{7} y_{6} + {\\left(s_{1}^{2} + s_{3}^{2} + s_{5}^{2}\\right)} y_{2} + 2 \\, {\\left(s_{3} s_{4} + s_{5} s_{6}\\right)} y_{4} + {\\left(s_{4}^{2} + s_{6}^{2}\\right)} y_{5} = 0$$"
      ],
      "text/plain": [
       "s2*s4*y3 + s5*s7*y5 + s6*s7*y6 + (s1^2 + s3^2 + s5^2)*y2 + 2*(s3*s4 + s5*s6)*y4 + (s4^2 + s6^2)*y5 == 0"
      ]
     },
     "metadata": {},
     "output_type": "display_data"
    },
    {
     "data": {
      "text/html": [
       "<html><script type=\"math/tex; mode=display\">\\newcommand{\\Bold}[1]{\\mathbf{#1}}-s_{5} s_{7} y_{1} + {\\left(s_{4}^{2} + s_{6}^{2}\\right)} y_{1} = 0</script></html>"
      ],
      "text/latex": [
       "$$\\newcommand{\\Bold}[1]{\\mathbf{#1}}-s_{5} s_{7} y_{1} + {\\left(s_{4}^{2} + s_{6}^{2}\\right)} y_{1} = 0$$"
      ],
      "text/plain": [
       "-s5*s7*y1 + (s4^2 + s6^2)*y1 == 0"
      ]
     },
     "metadata": {},
     "output_type": "display_data"
    },
    {
     "data": {
      "text/html": [
       "<html><script type=\"math/tex; mode=display\">\\newcommand{\\Bold}[1]{\\mathbf{#1}}-{\\left(s_{1}^{2} + s_{3}^{2} + s_{5}^{2}\\right)} y_{1} = 0</script></html>"
      ],
      "text/latex": [
       "$$\\newcommand{\\Bold}[1]{\\mathbf{#1}}-{\\left(s_{1}^{2} + s_{3}^{2} + s_{5}^{2}\\right)} y_{1} = 0$$"
      ],
      "text/plain": [
       "-(s1^2 + s3^2 + s5^2)*y1 == 0"
      ]
     },
     "metadata": {},
     "output_type": "display_data"
    },
    {
     "data": {
      "text/html": [
       "<html><script type=\"math/tex; mode=display\">\\newcommand{\\Bold}[1]{\\mathbf{#1}}{\\left(s_{0} s_{1} + s_{2} s_{3}\\right)} y_{1} = 0</script></html>"
      ],
      "text/latex": [
       "$$\\newcommand{\\Bold}[1]{\\mathbf{#1}}{\\left(s_{0} s_{1} + s_{2} s_{3}\\right)} y_{1} = 0$$"
      ],
      "text/plain": [
       "(s0*s1 + s2*s3)*y1 == 0"
      ]
     },
     "metadata": {},
     "output_type": "display_data"
    },
    {
     "data": {
      "text/html": [
       "<html><script type=\"math/tex; mode=display\">\\newcommand{\\Bold}[1]{\\mathbf{#1}}-s_{5} s_{7} y_{1} = 0</script></html>"
      ],
      "text/latex": [
       "$$\\newcommand{\\Bold}[1]{\\mathbf{#1}}-s_{5} s_{7} y_{1} = 0$$"
      ],
      "text/plain": [
       "-s5*s7*y1 == 0"
      ]
     },
     "metadata": {},
     "output_type": "display_data"
    },
    {
     "data": {
      "text/html": [
       "<html><script type=\"math/tex; mode=display\">\\newcommand{\\Bold}[1]{\\mathbf{#1}}-s_{5} s_{7} y_{2} - s_{6} s_{7} y_{4} - s_{7}^{2} y_{5} = 0</script></html>"
      ],
      "text/latex": [
       "$$\\newcommand{\\Bold}[1]{\\mathbf{#1}}-s_{5} s_{7} y_{2} - s_{6} s_{7} y_{4} - s_{7}^{2} y_{5} = 0$$"
      ],
      "text/plain": [
       "-s5*s7*y2 - s6*s7*y4 - s7^2*y5 == 0"
      ]
     },
     "metadata": {},
     "output_type": "display_data"
    },
    {
     "data": {
      "text/html": [
       "<html><script type=\"math/tex; mode=display\">\\newcommand{\\Bold}[1]{\\mathbf{#1}}s_{5} s_{7} y_{1} - {\\left(s_{4}^{2} + s_{6}^{2}\\right)} y_{1} = 0</script></html>"
      ],
      "text/latex": [
       "$$\\newcommand{\\Bold}[1]{\\mathbf{#1}}s_{5} s_{7} y_{1} - {\\left(s_{4}^{2} + s_{6}^{2}\\right)} y_{1} = 0$$"
      ],
      "text/plain": [
       "s5*s7*y1 - (s4^2 + s6^2)*y1 == 0"
      ]
     },
     "metadata": {},
     "output_type": "display_data"
    },
    {
     "data": {
      "text/html": [
       "<html><script type=\"math/tex; mode=display\">\\newcommand{\\Bold}[1]{\\mathbf{#1}}-s_{2} s_{4} y_{4} - {\\left(s_{0} s_{1} + s_{2} s_{3}\\right)} y_{2} = 0</script></html>"
      ],
      "text/latex": [
       "$$\\newcommand{\\Bold}[1]{\\mathbf{#1}}-s_{2} s_{4} y_{4} - {\\left(s_{0} s_{1} + s_{2} s_{3}\\right)} y_{2} = 0$$"
      ],
      "text/plain": [
       "-s2*s4*y4 - (s0*s1 + s2*s3)*y2 == 0"
      ]
     },
     "metadata": {},
     "output_type": "display_data"
    },
    {
     "data": {
      "text/html": [
       "<html><script type=\"math/tex; mode=display\">\\newcommand{\\Bold}[1]{\\mathbf{#1}}s_{5} s_{7} y_{6} + {\\left(s_{0} s_{1} + s_{2} s_{3}\\right)} y_{3} + {\\left(s_{1}^{2} + s_{3}^{2} + s_{5}^{2}\\right)} y_{4} + {\\left(s_{3} s_{4} + s_{5} s_{6}\\right)} y_{5} = 0</script></html>"
      ],
      "text/latex": [
       "$$\\newcommand{\\Bold}[1]{\\mathbf{#1}}s_{5} s_{7} y_{6} + {\\left(s_{0} s_{1} + s_{2} s_{3}\\right)} y_{3} + {\\left(s_{1}^{2} + s_{3}^{2} + s_{5}^{2}\\right)} y_{4} + {\\left(s_{3} s_{4} + s_{5} s_{6}\\right)} y_{5} = 0$$"
      ],
      "text/plain": [
       "s5*s7*y6 + (s0*s1 + s2*s3)*y3 + (s1^2 + s3^2 + s5^2)*y4 + (s3*s4 + s5*s6)*y5 == 0"
      ]
     },
     "metadata": {},
     "output_type": "display_data"
    }
   ],
   "source": [
    "sbst = []\n",
    "\n",
    "for eq in set(equations):\n",
    "    if eq.left().subs(sbst) != 0:\n",
    "        display(eq.subs(sbst))"
   ]
  },
  {
   "cell_type": "markdown",
   "metadata": {},
   "source": [
    "Since $s_7 \\neq 0$, we get $y_1 = 0$."
   ]
  },
  {
   "cell_type": "code",
   "execution_count": 7,
   "metadata": {},
   "outputs": [
    {
     "data": {
      "text/html": [
       "<html><script type=\"math/tex; mode=display\">\\newcommand{\\Bold}[1]{\\mathbf{#1}}-s_{2} s_{4} y_{3} - s_{5} s_{7} y_{5} - s_{6} s_{7} y_{6} - {\\left(s_{1}^{2} + s_{3}^{2} + s_{5}^{2}\\right)} y_{2} - 2 \\, {\\left(s_{3} s_{4} + s_{5} s_{6}\\right)} y_{4} - {\\left(s_{4}^{2} + s_{6}^{2}\\right)} y_{5} = 0</script></html>"
      ],
      "text/latex": [
       "$$\\newcommand{\\Bold}[1]{\\mathbf{#1}}-s_{2} s_{4} y_{3} - s_{5} s_{7} y_{5} - s_{6} s_{7} y_{6} - {\\left(s_{1}^{2} + s_{3}^{2} + s_{5}^{2}\\right)} y_{2} - 2 \\, {\\left(s_{3} s_{4} + s_{5} s_{6}\\right)} y_{4} - {\\left(s_{4}^{2} + s_{6}^{2}\\right)} y_{5} = 0$$"
      ],
      "text/plain": [
       "-s2*s4*y3 - s5*s7*y5 - s6*s7*y6 - (s1^2 + s3^2 + s5^2)*y2 - 2*(s3*s4 + s5*s6)*y4 - (s4^2 + s6^2)*y5 == 0"
      ]
     },
     "metadata": {},
     "output_type": "display_data"
    },
    {
     "data": {
      "text/html": [
       "<html><script type=\"math/tex; mode=display\">\\newcommand{\\Bold}[1]{\\mathbf{#1}}-s_{5} s_{7} y_{6} - {\\left(s_{0} s_{1} + s_{2} s_{3}\\right)} y_{3} - {\\left(s_{1}^{2} + s_{3}^{2} + s_{5}^{2}\\right)} y_{4} - {\\left(s_{3} s_{4} + s_{5} s_{6}\\right)} y_{5} = 0</script></html>"
      ],
      "text/latex": [
       "$$\\newcommand{\\Bold}[1]{\\mathbf{#1}}-s_{5} s_{7} y_{6} - {\\left(s_{0} s_{1} + s_{2} s_{3}\\right)} y_{3} - {\\left(s_{1}^{2} + s_{3}^{2} + s_{5}^{2}\\right)} y_{4} - {\\left(s_{3} s_{4} + s_{5} s_{6}\\right)} y_{5} = 0$$"
      ],
      "text/plain": [
       "-s5*s7*y6 - (s0*s1 + s2*s3)*y3 - (s1^2 + s3^2 + s5^2)*y4 - (s3*s4 + s5*s6)*y5 == 0"
      ]
     },
     "metadata": {},
     "output_type": "display_data"
    },
    {
     "data": {
      "text/html": [
       "<html><script type=\"math/tex; mode=display\">\\newcommand{\\Bold}[1]{\\mathbf{#1}}s_{5} s_{7} y_{2} + s_{6} s_{7} y_{4} + s_{7}^{2} y_{5} = 0</script></html>"
      ],
      "text/latex": [
       "$$\\newcommand{\\Bold}[1]{\\mathbf{#1}}s_{5} s_{7} y_{2} + s_{6} s_{7} y_{4} + s_{7}^{2} y_{5} = 0$$"
      ],
      "text/plain": [
       "s5*s7*y2 + s6*s7*y4 + s7^2*y5 == 0"
      ]
     },
     "metadata": {},
     "output_type": "display_data"
    },
    {
     "data": {
      "text/html": [
       "<html><script type=\"math/tex; mode=display\">\\newcommand{\\Bold}[1]{\\mathbf{#1}}s_{2} s_{4} y_{4} + {\\left(s_{0} s_{1} + s_{2} s_{3}\\right)} y_{2} = 0</script></html>"
      ],
      "text/latex": [
       "$$\\newcommand{\\Bold}[1]{\\mathbf{#1}}s_{2} s_{4} y_{4} + {\\left(s_{0} s_{1} + s_{2} s_{3}\\right)} y_{2} = 0$$"
      ],
      "text/plain": [
       "s2*s4*y4 + (s0*s1 + s2*s3)*y2 == 0"
      ]
     },
     "metadata": {},
     "output_type": "display_data"
    },
    {
     "data": {
      "text/html": [
       "<html><script type=\"math/tex; mode=display\">\\newcommand{\\Bold}[1]{\\mathbf{#1}}s_{5} s_{7} y_{4} + 2 \\, s_{6} s_{7} y_{5} + s_{7}^{2} y_{6} + {\\left(s_{3} s_{4} + s_{5} s_{6}\\right)} y_{2} + {\\left(s_{4}^{2} + s_{6}^{2}\\right)} y_{4} = 0</script></html>"
      ],
      "text/latex": [
       "$$\\newcommand{\\Bold}[1]{\\mathbf{#1}}s_{5} s_{7} y_{4} + 2 \\, s_{6} s_{7} y_{5} + s_{7}^{2} y_{6} + {\\left(s_{3} s_{4} + s_{5} s_{6}\\right)} y_{2} + {\\left(s_{4}^{2} + s_{6}^{2}\\right)} y_{4} = 0$$"
      ],
      "text/plain": [
       "s5*s7*y4 + 2*s6*s7*y5 + s7^2*y6 + (s3*s4 + s5*s6)*y2 + (s4^2 + s6^2)*y4 == 0"
      ]
     },
     "metadata": {},
     "output_type": "display_data"
    },
    {
     "data": {
      "text/html": [
       "<html><script type=\"math/tex; mode=display\">\\newcommand{\\Bold}[1]{\\mathbf{#1}}-s_{5} s_{7} y_{4} - 2 \\, s_{6} s_{7} y_{5} - s_{7}^{2} y_{6} - {\\left(s_{3} s_{4} + s_{5} s_{6}\\right)} y_{2} - {\\left(s_{4}^{2} + s_{6}^{2}\\right)} y_{4} = 0</script></html>"
      ],
      "text/latex": [
       "$$\\newcommand{\\Bold}[1]{\\mathbf{#1}}-s_{5} s_{7} y_{4} - 2 \\, s_{6} s_{7} y_{5} - s_{7}^{2} y_{6} - {\\left(s_{3} s_{4} + s_{5} s_{6}\\right)} y_{2} - {\\left(s_{4}^{2} + s_{6}^{2}\\right)} y_{4} = 0$$"
      ],
      "text/plain": [
       "-s5*s7*y4 - 2*s6*s7*y5 - s7^2*y6 - (s3*s4 + s5*s6)*y2 - (s4^2 + s6^2)*y4 == 0"
      ]
     },
     "metadata": {},
     "output_type": "display_data"
    },
    {
     "data": {
      "text/html": [
       "<html><script type=\"math/tex; mode=display\">\\newcommand{\\Bold}[1]{\\mathbf{#1}}s_{2} s_{4} y_{3} + s_{5} s_{7} y_{5} + s_{6} s_{7} y_{6} + {\\left(s_{1}^{2} + s_{3}^{2} + s_{5}^{2}\\right)} y_{2} + 2 \\, {\\left(s_{3} s_{4} + s_{5} s_{6}\\right)} y_{4} + {\\left(s_{4}^{2} + s_{6}^{2}\\right)} y_{5} = 0</script></html>"
      ],
      "text/latex": [
       "$$\\newcommand{\\Bold}[1]{\\mathbf{#1}}s_{2} s_{4} y_{3} + s_{5} s_{7} y_{5} + s_{6} s_{7} y_{6} + {\\left(s_{1}^{2} + s_{3}^{2} + s_{5}^{2}\\right)} y_{2} + 2 \\, {\\left(s_{3} s_{4} + s_{5} s_{6}\\right)} y_{4} + {\\left(s_{4}^{2} + s_{6}^{2}\\right)} y_{5} = 0$$"
      ],
      "text/plain": [
       "s2*s4*y3 + s5*s7*y5 + s6*s7*y6 + (s1^2 + s3^2 + s5^2)*y2 + 2*(s3*s4 + s5*s6)*y4 + (s4^2 + s6^2)*y5 == 0"
      ]
     },
     "metadata": {},
     "output_type": "display_data"
    },
    {
     "data": {
      "text/html": [
       "<html><script type=\"math/tex; mode=display\">\\newcommand{\\Bold}[1]{\\mathbf{#1}}-s_{5} s_{7} y_{2} - s_{6} s_{7} y_{4} - s_{7}^{2} y_{5} = 0</script></html>"
      ],
      "text/latex": [
       "$$\\newcommand{\\Bold}[1]{\\mathbf{#1}}-s_{5} s_{7} y_{2} - s_{6} s_{7} y_{4} - s_{7}^{2} y_{5} = 0$$"
      ],
      "text/plain": [
       "-s5*s7*y2 - s6*s7*y4 - s7^2*y5 == 0"
      ]
     },
     "metadata": {},
     "output_type": "display_data"
    },
    {
     "data": {
      "text/html": [
       "<html><script type=\"math/tex; mode=display\">\\newcommand{\\Bold}[1]{\\mathbf{#1}}-s_{2} s_{4} y_{4} - {\\left(s_{0} s_{1} + s_{2} s_{3}\\right)} y_{2} = 0</script></html>"
      ],
      "text/latex": [
       "$$\\newcommand{\\Bold}[1]{\\mathbf{#1}}-s_{2} s_{4} y_{4} - {\\left(s_{0} s_{1} + s_{2} s_{3}\\right)} y_{2} = 0$$"
      ],
      "text/plain": [
       "-s2*s4*y4 - (s0*s1 + s2*s3)*y2 == 0"
      ]
     },
     "metadata": {},
     "output_type": "display_data"
    },
    {
     "data": {
      "text/html": [
       "<html><script type=\"math/tex; mode=display\">\\newcommand{\\Bold}[1]{\\mathbf{#1}}s_{5} s_{7} y_{6} + {\\left(s_{0} s_{1} + s_{2} s_{3}\\right)} y_{3} + {\\left(s_{1}^{2} + s_{3}^{2} + s_{5}^{2}\\right)} y_{4} + {\\left(s_{3} s_{4} + s_{5} s_{6}\\right)} y_{5} = 0</script></html>"
      ],
      "text/latex": [
       "$$\\newcommand{\\Bold}[1]{\\mathbf{#1}}s_{5} s_{7} y_{6} + {\\left(s_{0} s_{1} + s_{2} s_{3}\\right)} y_{3} + {\\left(s_{1}^{2} + s_{3}^{2} + s_{5}^{2}\\right)} y_{4} + {\\left(s_{3} s_{4} + s_{5} s_{6}\\right)} y_{5} = 0$$"
      ],
      "text/plain": [
       "s5*s7*y6 + (s0*s1 + s2*s3)*y3 + (s1^2 + s3^2 + s5^2)*y4 + (s3*s4 + s5*s6)*y5 == 0"
      ]
     },
     "metadata": {},
     "output_type": "display_data"
    }
   ],
   "source": [
    "sbst = [y1==0]\n",
    "\n",
    "for eq in set(equations):\n",
    "    if eq.left().subs(sbst) != 0:\n",
    "        display(eq.subs(sbst))"
   ]
  },
  {
   "cell_type": "markdown",
   "metadata": {},
   "source": [
    "Since $s_7 \\neq 0$, we get $\\displaystyle y_5 = - \\frac{s_5 y_2 + s_6 y_4}{s_7}$."
   ]
  },
  {
   "cell_type": "code",
   "execution_count": 8,
   "metadata": {},
   "outputs": [
    {
     "data": {
      "text/html": [
       "<html><script type=\"math/tex; mode=display\">\\newcommand{\\Bold}[1]{\\mathbf{#1}}-\\frac{s_{2} s_{4} s_{7} y_{3} + s_{6} s_{7}^{2} y_{6} - {\\left(s_{4}^{2} s_{5} + s_{5} s_{6}^{2} - {\\left(s_{1}^{2} + s_{3}^{2}\\right)} s_{7}\\right)} y_{2} - {\\left(s_{4}^{2} s_{6} + s_{6}^{3} - {\\left(2 \\, s_{3} s_{4} + s_{5} s_{6}\\right)} s_{7}\\right)} y_{4}}{s_{7}} = 0</script></html>"
      ],
      "text/latex": [
       "$$\\newcommand{\\Bold}[1]{\\mathbf{#1}}-\\frac{s_{2} s_{4} s_{7} y_{3} + s_{6} s_{7}^{2} y_{6} - {\\left(s_{4}^{2} s_{5} + s_{5} s_{6}^{2} - {\\left(s_{1}^{2} + s_{3}^{2}\\right)} s_{7}\\right)} y_{2} - {\\left(s_{4}^{2} s_{6} + s_{6}^{3} - {\\left(2 \\, s_{3} s_{4} + s_{5} s_{6}\\right)} s_{7}\\right)} y_{4}}{s_{7}} = 0$$"
      ],
      "text/plain": [
       "-(s2*s4*s7*y3 + s6*s7^2*y6 - (s4^2*s5 + s5*s6^2 - (s1^2 + s3^2)*s7)*y2 - (s4^2*s6 + s6^3 - (2*s3*s4 + s5*s6)*s7)*y4)/s7 == 0"
      ]
     },
     "metadata": {},
     "output_type": "display_data"
    },
    {
     "data": {
      "text/html": [
       "<html><script type=\"math/tex; mode=display\">\\newcommand{\\Bold}[1]{\\mathbf{#1}}-\\frac{s_{5} s_{7}^{2} y_{6} + {\\left(s_{0} s_{1} + s_{2} s_{3}\\right)} s_{7} y_{3} - {\\left(s_{3} s_{4} s_{5} + s_{5}^{2} s_{6}\\right)} y_{2} - {\\left(s_{3} s_{4} s_{6} + s_{5} s_{6}^{2} - {\\left(s_{1}^{2} + s_{3}^{2} + s_{5}^{2}\\right)} s_{7}\\right)} y_{4}}{s_{7}} = 0</script></html>"
      ],
      "text/latex": [
       "$$\\newcommand{\\Bold}[1]{\\mathbf{#1}}-\\frac{s_{5} s_{7}^{2} y_{6} + {\\left(s_{0} s_{1} + s_{2} s_{3}\\right)} s_{7} y_{3} - {\\left(s_{3} s_{4} s_{5} + s_{5}^{2} s_{6}\\right)} y_{2} - {\\left(s_{3} s_{4} s_{6} + s_{5} s_{6}^{2} - {\\left(s_{1}^{2} + s_{3}^{2} + s_{5}^{2}\\right)} s_{7}\\right)} y_{4}}{s_{7}} = 0$$"
      ],
      "text/plain": [
       "-(s5*s7^2*y6 + (s0*s1 + s2*s3)*s7*y3 - (s3*s4*s5 + s5^2*s6)*y2 - (s3*s4*s6 + s5*s6^2 - (s1^2 + s3^2 + s5^2)*s7)*y4)/s7 == 0"
      ]
     },
     "metadata": {},
     "output_type": "display_data"
    },
    {
     "data": {
      "text/html": [
       "<html><script type=\"math/tex; mode=display\">\\newcommand{\\Bold}[1]{\\mathbf{#1}}0 = 0</script></html>"
      ],
      "text/latex": [
       "$$\\newcommand{\\Bold}[1]{\\mathbf{#1}}0 = 0$$"
      ],
      "text/plain": [
       "0 == 0"
      ]
     },
     "metadata": {},
     "output_type": "display_data"
    },
    {
     "data": {
      "text/html": [
       "<html><script type=\"math/tex; mode=display\">\\newcommand{\\Bold}[1]{\\mathbf{#1}}s_{2} s_{4} y_{4} + {\\left(s_{0} s_{1} + s_{2} s_{3}\\right)} y_{2} = 0</script></html>"
      ],
      "text/latex": [
       "$$\\newcommand{\\Bold}[1]{\\mathbf{#1}}s_{2} s_{4} y_{4} + {\\left(s_{0} s_{1} + s_{2} s_{3}\\right)} y_{2} = 0$$"
      ],
      "text/plain": [
       "s2*s4*y4 + (s0*s1 + s2*s3)*y2 == 0"
      ]
     },
     "metadata": {},
     "output_type": "display_data"
    },
    {
     "data": {
      "text/html": [
       "<html><script type=\"math/tex; mode=display\">\\newcommand{\\Bold}[1]{\\mathbf{#1}}s_{7}^{2} y_{6} + {\\left(s_{3} s_{4} - s_{5} s_{6}\\right)} y_{2} + {\\left(s_{4}^{2} - s_{6}^{2} + s_{5} s_{7}\\right)} y_{4} = 0</script></html>"
      ],
      "text/latex": [
       "$$\\newcommand{\\Bold}[1]{\\mathbf{#1}}s_{7}^{2} y_{6} + {\\left(s_{3} s_{4} - s_{5} s_{6}\\right)} y_{2} + {\\left(s_{4}^{2} - s_{6}^{2} + s_{5} s_{7}\\right)} y_{4} = 0$$"
      ],
      "text/plain": [
       "s7^2*y6 + (s3*s4 - s5*s6)*y2 + (s4^2 - s6^2 + s5*s7)*y4 == 0"
      ]
     },
     "metadata": {},
     "output_type": "display_data"
    },
    {
     "data": {
      "text/html": [
       "<html><script type=\"math/tex; mode=display\">\\newcommand{\\Bold}[1]{\\mathbf{#1}}-s_{7}^{2} y_{6} - {\\left(s_{3} s_{4} - s_{5} s_{6}\\right)} y_{2} - {\\left(s_{4}^{2} - s_{6}^{2} + s_{5} s_{7}\\right)} y_{4} = 0</script></html>"
      ],
      "text/latex": [
       "$$\\newcommand{\\Bold}[1]{\\mathbf{#1}}-s_{7}^{2} y_{6} - {\\left(s_{3} s_{4} - s_{5} s_{6}\\right)} y_{2} - {\\left(s_{4}^{2} - s_{6}^{2} + s_{5} s_{7}\\right)} y_{4} = 0$$"
      ],
      "text/plain": [
       "-s7^2*y6 - (s3*s4 - s5*s6)*y2 - (s4^2 - s6^2 + s5*s7)*y4 == 0"
      ]
     },
     "metadata": {},
     "output_type": "display_data"
    },
    {
     "data": {
      "text/html": [
       "<html><script type=\"math/tex; mode=display\">\\newcommand{\\Bold}[1]{\\mathbf{#1}}\\frac{s_{2} s_{4} s_{7} y_{3} + s_{6} s_{7}^{2} y_{6} - {\\left(s_{4}^{2} s_{5} + s_{5} s_{6}^{2} - {\\left(s_{1}^{2} + s_{3}^{2}\\right)} s_{7}\\right)} y_{2} - {\\left(s_{4}^{2} s_{6} + s_{6}^{3} - {\\left(2 \\, s_{3} s_{4} + s_{5} s_{6}\\right)} s_{7}\\right)} y_{4}}{s_{7}} = 0</script></html>"
      ],
      "text/latex": [
       "$$\\newcommand{\\Bold}[1]{\\mathbf{#1}}\\frac{s_{2} s_{4} s_{7} y_{3} + s_{6} s_{7}^{2} y_{6} - {\\left(s_{4}^{2} s_{5} + s_{5} s_{6}^{2} - {\\left(s_{1}^{2} + s_{3}^{2}\\right)} s_{7}\\right)} y_{2} - {\\left(s_{4}^{2} s_{6} + s_{6}^{3} - {\\left(2 \\, s_{3} s_{4} + s_{5} s_{6}\\right)} s_{7}\\right)} y_{4}}{s_{7}} = 0$$"
      ],
      "text/plain": [
       "(s2*s4*s7*y3 + s6*s7^2*y6 - (s4^2*s5 + s5*s6^2 - (s1^2 + s3^2)*s7)*y2 - (s4^2*s6 + s6^3 - (2*s3*s4 + s5*s6)*s7)*y4)/s7 == 0"
      ]
     },
     "metadata": {},
     "output_type": "display_data"
    },
    {
     "data": {
      "text/html": [
       "<html><script type=\"math/tex; mode=display\">\\newcommand{\\Bold}[1]{\\mathbf{#1}}0 = 0</script></html>"
      ],
      "text/latex": [
       "$$\\newcommand{\\Bold}[1]{\\mathbf{#1}}0 = 0$$"
      ],
      "text/plain": [
       "0 == 0"
      ]
     },
     "metadata": {},
     "output_type": "display_data"
    },
    {
     "data": {
      "text/html": [
       "<html><script type=\"math/tex; mode=display\">\\newcommand{\\Bold}[1]{\\mathbf{#1}}-s_{2} s_{4} y_{4} - {\\left(s_{0} s_{1} + s_{2} s_{3}\\right)} y_{2} = 0</script></html>"
      ],
      "text/latex": [
       "$$\\newcommand{\\Bold}[1]{\\mathbf{#1}}-s_{2} s_{4} y_{4} - {\\left(s_{0} s_{1} + s_{2} s_{3}\\right)} y_{2} = 0$$"
      ],
      "text/plain": [
       "-s2*s4*y4 - (s0*s1 + s2*s3)*y2 == 0"
      ]
     },
     "metadata": {},
     "output_type": "display_data"
    },
    {
     "data": {
      "text/html": [
       "<html><script type=\"math/tex; mode=display\">\\newcommand{\\Bold}[1]{\\mathbf{#1}}\\frac{s_{5} s_{7}^{2} y_{6} + {\\left(s_{0} s_{1} + s_{2} s_{3}\\right)} s_{7} y_{3} - {\\left(s_{3} s_{4} s_{5} + s_{5}^{2} s_{6}\\right)} y_{2} - {\\left(s_{3} s_{4} s_{6} + s_{5} s_{6}^{2} - {\\left(s_{1}^{2} + s_{3}^{2} + s_{5}^{2}\\right)} s_{7}\\right)} y_{4}}{s_{7}} = 0</script></html>"
      ],
      "text/latex": [
       "$$\\newcommand{\\Bold}[1]{\\mathbf{#1}}\\frac{s_{5} s_{7}^{2} y_{6} + {\\left(s_{0} s_{1} + s_{2} s_{3}\\right)} s_{7} y_{3} - {\\left(s_{3} s_{4} s_{5} + s_{5}^{2} s_{6}\\right)} y_{2} - {\\left(s_{3} s_{4} s_{6} + s_{5} s_{6}^{2} - {\\left(s_{1}^{2} + s_{3}^{2} + s_{5}^{2}\\right)} s_{7}\\right)} y_{4}}{s_{7}} = 0$$"
      ],
      "text/plain": [
       "(s5*s7^2*y6 + (s0*s1 + s2*s3)*s7*y3 - (s3*s4*s5 + s5^2*s6)*y2 - (s3*s4*s6 + s5*s6^2 - (s1^2 + s3^2 + s5^2)*s7)*y4)/s7 == 0"
      ]
     },
     "metadata": {},
     "output_type": "display_data"
    }
   ],
   "source": [
    "sbst = [y1==0, y5==-(s5*y2 + s6*y4)/s7]\n",
    "\n",
    "for eq in set(equations):\n",
    "    if eq.left().subs(sbst) != 0:\n",
    "        display(eq.subs(sbst).simplify_full())"
   ]
  },
  {
   "cell_type": "markdown",
   "metadata": {},
   "source": [
    "Since $s_7 \\neq 0$, we get $\\displaystyle y_{6} = -\\frac{{\\left(s_{3} s_{4} - s_{5} s_{6}\\right)} y_{2} + {\\left(s_{4}^{2} - s_{6}^{2} + s_{5} s_{7}\\right)} y_{4}}{s_{7}^{2}}\n",
    "$."
   ]
  },
  {
   "cell_type": "code",
   "execution_count": 9,
   "metadata": {},
   "outputs": [
    {
     "data": {
      "text/html": [
       "<html><script type=\"math/tex; mode=display\">\\newcommand{\\Bold}[1]{\\mathbf{#1}}-\\frac{s_{2} s_{4} s_{7} y_{3} - {\\left(s_{4}^{2} s_{5} + s_{3} s_{4} s_{6} - {\\left(s_{1}^{2} + s_{3}^{2}\\right)} s_{7}\\right)} y_{2} - 2 \\, {\\left(s_{4}^{2} s_{6} - s_{3} s_{4} s_{7}\\right)} y_{4}}{s_{7}} = 0</script></html>"
      ],
      "text/latex": [
       "$$\\newcommand{\\Bold}[1]{\\mathbf{#1}}-\\frac{s_{2} s_{4} s_{7} y_{3} - {\\left(s_{4}^{2} s_{5} + s_{3} s_{4} s_{6} - {\\left(s_{1}^{2} + s_{3}^{2}\\right)} s_{7}\\right)} y_{2} - 2 \\, {\\left(s_{4}^{2} s_{6} - s_{3} s_{4} s_{7}\\right)} y_{4}}{s_{7}} = 0$$"
      ],
      "text/plain": [
       "-(s2*s4*s7*y3 - (s4^2*s5 + s3*s4*s6 - (s1^2 + s3^2)*s7)*y2 - 2*(s4^2*s6 - s3*s4*s7)*y4)/s7 == 0"
      ]
     },
     "metadata": {},
     "output_type": "display_data"
    },
    {
     "data": {
      "text/html": [
       "<html><script type=\"math/tex; mode=display\">\\newcommand{\\Bold}[1]{\\mathbf{#1}}\\frac{2 \\, s_{3} s_{4} s_{5} y_{2} - {\\left(s_{0} s_{1} + s_{2} s_{3}\\right)} s_{7} y_{3} + {\\left(s_{4}^{2} s_{5} + s_{3} s_{4} s_{6} - {\\left(s_{1}^{2} + s_{3}^{2}\\right)} s_{7}\\right)} y_{4}}{s_{7}} = 0</script></html>"
      ],
      "text/latex": [
       "$$\\newcommand{\\Bold}[1]{\\mathbf{#1}}\\frac{2 \\, s_{3} s_{4} s_{5} y_{2} - {\\left(s_{0} s_{1} + s_{2} s_{3}\\right)} s_{7} y_{3} + {\\left(s_{4}^{2} s_{5} + s_{3} s_{4} s_{6} - {\\left(s_{1}^{2} + s_{3}^{2}\\right)} s_{7}\\right)} y_{4}}{s_{7}} = 0$$"
      ],
      "text/plain": [
       "(2*s3*s4*s5*y2 - (s0*s1 + s2*s3)*s7*y3 + (s4^2*s5 + s3*s4*s6 - (s1^2 + s3^2)*s7)*y4)/s7 == 0"
      ]
     },
     "metadata": {},
     "output_type": "display_data"
    },
    {
     "data": {
      "text/html": [
       "<html><script type=\"math/tex; mode=display\">\\newcommand{\\Bold}[1]{\\mathbf{#1}}0 = 0</script></html>"
      ],
      "text/latex": [
       "$$\\newcommand{\\Bold}[1]{\\mathbf{#1}}0 = 0$$"
      ],
      "text/plain": [
       "0 == 0"
      ]
     },
     "metadata": {},
     "output_type": "display_data"
    },
    {
     "data": {
      "text/html": [
       "<html><script type=\"math/tex; mode=display\">\\newcommand{\\Bold}[1]{\\mathbf{#1}}s_{2} s_{4} y_{4} + {\\left(s_{0} s_{1} + s_{2} s_{3}\\right)} y_{2} = 0</script></html>"
      ],
      "text/latex": [
       "$$\\newcommand{\\Bold}[1]{\\mathbf{#1}}s_{2} s_{4} y_{4} + {\\left(s_{0} s_{1} + s_{2} s_{3}\\right)} y_{2} = 0$$"
      ],
      "text/plain": [
       "s2*s4*y4 + (s0*s1 + s2*s3)*y2 == 0"
      ]
     },
     "metadata": {},
     "output_type": "display_data"
    },
    {
     "data": {
      "text/html": [
       "<html><script type=\"math/tex; mode=display\">\\newcommand{\\Bold}[1]{\\mathbf{#1}}0 = 0</script></html>"
      ],
      "text/latex": [
       "$$\\newcommand{\\Bold}[1]{\\mathbf{#1}}0 = 0$$"
      ],
      "text/plain": [
       "0 == 0"
      ]
     },
     "metadata": {},
     "output_type": "display_data"
    },
    {
     "data": {
      "text/html": [
       "<html><script type=\"math/tex; mode=display\">\\newcommand{\\Bold}[1]{\\mathbf{#1}}0 = 0</script></html>"
      ],
      "text/latex": [
       "$$\\newcommand{\\Bold}[1]{\\mathbf{#1}}0 = 0$$"
      ],
      "text/plain": [
       "0 == 0"
      ]
     },
     "metadata": {},
     "output_type": "display_data"
    },
    {
     "data": {
      "text/html": [
       "<html><script type=\"math/tex; mode=display\">\\newcommand{\\Bold}[1]{\\mathbf{#1}}\\frac{s_{2} s_{4} s_{7} y_{3} - {\\left(s_{4}^{2} s_{5} + s_{3} s_{4} s_{6} - {\\left(s_{1}^{2} + s_{3}^{2}\\right)} s_{7}\\right)} y_{2} - 2 \\, {\\left(s_{4}^{2} s_{6} - s_{3} s_{4} s_{7}\\right)} y_{4}}{s_{7}} = 0</script></html>"
      ],
      "text/latex": [
       "$$\\newcommand{\\Bold}[1]{\\mathbf{#1}}\\frac{s_{2} s_{4} s_{7} y_{3} - {\\left(s_{4}^{2} s_{5} + s_{3} s_{4} s_{6} - {\\left(s_{1}^{2} + s_{3}^{2}\\right)} s_{7}\\right)} y_{2} - 2 \\, {\\left(s_{4}^{2} s_{6} - s_{3} s_{4} s_{7}\\right)} y_{4}}{s_{7}} = 0$$"
      ],
      "text/plain": [
       "(s2*s4*s7*y3 - (s4^2*s5 + s3*s4*s6 - (s1^2 + s3^2)*s7)*y2 - 2*(s4^2*s6 - s3*s4*s7)*y4)/s7 == 0"
      ]
     },
     "metadata": {},
     "output_type": "display_data"
    },
    {
     "data": {
      "text/html": [
       "<html><script type=\"math/tex; mode=display\">\\newcommand{\\Bold}[1]{\\mathbf{#1}}0 = 0</script></html>"
      ],
      "text/latex": [
       "$$\\newcommand{\\Bold}[1]{\\mathbf{#1}}0 = 0$$"
      ],
      "text/plain": [
       "0 == 0"
      ]
     },
     "metadata": {},
     "output_type": "display_data"
    },
    {
     "data": {
      "text/html": [
       "<html><script type=\"math/tex; mode=display\">\\newcommand{\\Bold}[1]{\\mathbf{#1}}-s_{2} s_{4} y_{4} - {\\left(s_{0} s_{1} + s_{2} s_{3}\\right)} y_{2} = 0</script></html>"
      ],
      "text/latex": [
       "$$\\newcommand{\\Bold}[1]{\\mathbf{#1}}-s_{2} s_{4} y_{4} - {\\left(s_{0} s_{1} + s_{2} s_{3}\\right)} y_{2} = 0$$"
      ],
      "text/plain": [
       "-s2*s4*y4 - (s0*s1 + s2*s3)*y2 == 0"
      ]
     },
     "metadata": {},
     "output_type": "display_data"
    },
    {
     "data": {
      "text/html": [
       "<html><script type=\"math/tex; mode=display\">\\newcommand{\\Bold}[1]{\\mathbf{#1}}-\\frac{2 \\, s_{3} s_{4} s_{5} y_{2} - {\\left(s_{0} s_{1} + s_{2} s_{3}\\right)} s_{7} y_{3} + {\\left(s_{4}^{2} s_{5} + s_{3} s_{4} s_{6} - {\\left(s_{1}^{2} + s_{3}^{2}\\right)} s_{7}\\right)} y_{4}}{s_{7}} = 0</script></html>"
      ],
      "text/latex": [
       "$$\\newcommand{\\Bold}[1]{\\mathbf{#1}}-\\frac{2 \\, s_{3} s_{4} s_{5} y_{2} - {\\left(s_{0} s_{1} + s_{2} s_{3}\\right)} s_{7} y_{3} + {\\left(s_{4}^{2} s_{5} + s_{3} s_{4} s_{6} - {\\left(s_{1}^{2} + s_{3}^{2}\\right)} s_{7}\\right)} y_{4}}{s_{7}} = 0$$"
      ],
      "text/plain": [
       "-(2*s3*s4*s5*y2 - (s0*s1 + s2*s3)*s7*y3 + (s4^2*s5 + s3*s4*s6 - (s1^2 + s3^2)*s7)*y4)/s7 == 0"
      ]
     },
     "metadata": {},
     "output_type": "display_data"
    }
   ],
   "source": [
    "sbst = [y1==0, y5==-(s5*y2+s6*y4)/s7, y6==-((s3*s4-s5*s6)*y2+(s4^2-s6^2+s5*s7)*y4)/s7^2]\n",
    "\n",
    "for eq in set(equations):\n",
    "    if eq.left().subs(sbst) != 0:\n",
    "        display(eq.subs(sbst).simplify_full())"
   ]
  },
  {
   "cell_type": "markdown",
   "metadata": {},
   "source": [
    "Recall that $s_1, s_4$ and $s_7$ are all different from $0$. Now we have to consider several cases."
   ]
  },
  {
   "cell_type": "markdown",
   "metadata": {},
   "source": [
    "### Subcase 1:  $s_2 \\neq 0$."
   ]
  },
  {
   "cell_type": "markdown",
   "metadata": {},
   "source": [
    "Since $s_4 \\neq 0$, we get $\\displaystyle y_{4} = -\\frac{{\\left(s_{0} s_{1} + s_{2} s_{3}\\right)} y_{2}}{s_{2} s_{4}}\n",
    "$."
   ]
  },
  {
   "cell_type": "code",
   "execution_count": 10,
   "metadata": {},
   "outputs": [
    {
     "data": {
      "text/html": [
       "<html><script type=\"math/tex; mode=display\">\\newcommand{\\Bold}[1]{\\mathbf{#1}}-\\frac{s_{2}^{2} s_{4} s_{7} y_{3} - {\\left(s_{2} s_{4}^{2} s_{5} - {\\left(2 \\, s_{0} s_{1} + s_{2} s_{3}\\right)} s_{4} s_{6} - {\\left(s_{1}^{2} s_{2} - 2 \\, s_{0} s_{1} s_{3} - s_{2} s_{3}^{2}\\right)} s_{7}\\right)} y_{2}}{s_{2} s_{7}} = 0</script></html>"
      ],
      "text/latex": [
       "$$\\newcommand{\\Bold}[1]{\\mathbf{#1}}-\\frac{s_{2}^{2} s_{4} s_{7} y_{3} - {\\left(s_{2} s_{4}^{2} s_{5} - {\\left(2 \\, s_{0} s_{1} + s_{2} s_{3}\\right)} s_{4} s_{6} - {\\left(s_{1}^{2} s_{2} - 2 \\, s_{0} s_{1} s_{3} - s_{2} s_{3}^{2}\\right)} s_{7}\\right)} y_{2}}{s_{2} s_{7}} = 0$$"
      ],
      "text/plain": [
       "-(s2^2*s4*s7*y3 - (s2*s4^2*s5 - (2*s0*s1 + s2*s3)*s4*s6 - (s1^2*s2 - 2*s0*s1*s3 - s2*s3^2)*s7)*y2)/(s2*s7) == 0"
      ]
     },
     "metadata": {},
     "output_type": "display_data"
    },
    {
     "data": {
      "text/html": [
       "<html><script type=\"math/tex; mode=display\">\\newcommand{\\Bold}[1]{\\mathbf{#1}}-\\frac{{\\left(s_{0} s_{1} s_{2} + s_{2}^{2} s_{3}\\right)} s_{4} s_{7} y_{3} + {\\left({\\left(s_{0} s_{1} - s_{2} s_{3}\\right)} s_{4}^{2} s_{5} + {\\left(s_{0} s_{1} s_{3} + s_{2} s_{3}^{2}\\right)} s_{4} s_{6} - {\\left(s_{0} s_{1}^{3} + s_{1}^{2} s_{2} s_{3} + s_{0} s_{1} s_{3}^{2} + s_{2} s_{3}^{3}\\right)} s_{7}\\right)} y_{2}}{s_{2} s_{4} s_{7}} = 0</script></html>"
      ],
      "text/latex": [
       "$$\\newcommand{\\Bold}[1]{\\mathbf{#1}}-\\frac{{\\left(s_{0} s_{1} s_{2} + s_{2}^{2} s_{3}\\right)} s_{4} s_{7} y_{3} + {\\left({\\left(s_{0} s_{1} - s_{2} s_{3}\\right)} s_{4}^{2} s_{5} + {\\left(s_{0} s_{1} s_{3} + s_{2} s_{3}^{2}\\right)} s_{4} s_{6} - {\\left(s_{0} s_{1}^{3} + s_{1}^{2} s_{2} s_{3} + s_{0} s_{1} s_{3}^{2} + s_{2} s_{3}^{3}\\right)} s_{7}\\right)} y_{2}}{s_{2} s_{4} s_{7}} = 0$$"
      ],
      "text/plain": [
       "-((s0*s1*s2 + s2^2*s3)*s4*s7*y3 + ((s0*s1 - s2*s3)*s4^2*s5 + (s0*s1*s3 + s2*s3^2)*s4*s6 - (s0*s1^3 + s1^2*s2*s3 + s0*s1*s3^2 + s2*s3^3)*s7)*y2)/(s2*s4*s7) == 0"
      ]
     },
     "metadata": {},
     "output_type": "display_data"
    },
    {
     "data": {
      "text/html": [
       "<html><script type=\"math/tex; mode=display\">\\newcommand{\\Bold}[1]{\\mathbf{#1}}0 = 0</script></html>"
      ],
      "text/latex": [
       "$$\\newcommand{\\Bold}[1]{\\mathbf{#1}}0 = 0$$"
      ],
      "text/plain": [
       "0 == 0"
      ]
     },
     "metadata": {},
     "output_type": "display_data"
    },
    {
     "data": {
      "text/html": [
       "<html><script type=\"math/tex; mode=display\">\\newcommand{\\Bold}[1]{\\mathbf{#1}}0 = 0</script></html>"
      ],
      "text/latex": [
       "$$\\newcommand{\\Bold}[1]{\\mathbf{#1}}0 = 0$$"
      ],
      "text/plain": [
       "0 == 0"
      ]
     },
     "metadata": {},
     "output_type": "display_data"
    },
    {
     "data": {
      "text/html": [
       "<html><script type=\"math/tex; mode=display\">\\newcommand{\\Bold}[1]{\\mathbf{#1}}0 = 0</script></html>"
      ],
      "text/latex": [
       "$$\\newcommand{\\Bold}[1]{\\mathbf{#1}}0 = 0$$"
      ],
      "text/plain": [
       "0 == 0"
      ]
     },
     "metadata": {},
     "output_type": "display_data"
    },
    {
     "data": {
      "text/html": [
       "<html><script type=\"math/tex; mode=display\">\\newcommand{\\Bold}[1]{\\mathbf{#1}}\\frac{s_{2}^{2} s_{4} s_{7} y_{3} - {\\left(s_{2} s_{4}^{2} s_{5} - {\\left(2 \\, s_{0} s_{1} + s_{2} s_{3}\\right)} s_{4} s_{6} - {\\left(s_{1}^{2} s_{2} - 2 \\, s_{0} s_{1} s_{3} - s_{2} s_{3}^{2}\\right)} s_{7}\\right)} y_{2}}{s_{2} s_{7}} = 0</script></html>"
      ],
      "text/latex": [
       "$$\\newcommand{\\Bold}[1]{\\mathbf{#1}}\\frac{s_{2}^{2} s_{4} s_{7} y_{3} - {\\left(s_{2} s_{4}^{2} s_{5} - {\\left(2 \\, s_{0} s_{1} + s_{2} s_{3}\\right)} s_{4} s_{6} - {\\left(s_{1}^{2} s_{2} - 2 \\, s_{0} s_{1} s_{3} - s_{2} s_{3}^{2}\\right)} s_{7}\\right)} y_{2}}{s_{2} s_{7}} = 0$$"
      ],
      "text/plain": [
       "(s2^2*s4*s7*y3 - (s2*s4^2*s5 - (2*s0*s1 + s2*s3)*s4*s6 - (s1^2*s2 - 2*s0*s1*s3 - s2*s3^2)*s7)*y2)/(s2*s7) == 0"
      ]
     },
     "metadata": {},
     "output_type": "display_data"
    },
    {
     "data": {
      "text/html": [
       "<html><script type=\"math/tex; mode=display\">\\newcommand{\\Bold}[1]{\\mathbf{#1}}0 = 0</script></html>"
      ],
      "text/latex": [
       "$$\\newcommand{\\Bold}[1]{\\mathbf{#1}}0 = 0$$"
      ],
      "text/plain": [
       "0 == 0"
      ]
     },
     "metadata": {},
     "output_type": "display_data"
    },
    {
     "data": {
      "text/html": [
       "<html><script type=\"math/tex; mode=display\">\\newcommand{\\Bold}[1]{\\mathbf{#1}}\\frac{{\\left(s_{0} s_{1} s_{2} + s_{2}^{2} s_{3}\\right)} s_{4} s_{7} y_{3} + {\\left({\\left(s_{0} s_{1} - s_{2} s_{3}\\right)} s_{4}^{2} s_{5} + {\\left(s_{0} s_{1} s_{3} + s_{2} s_{3}^{2}\\right)} s_{4} s_{6} - {\\left(s_{0} s_{1}^{3} + s_{1}^{2} s_{2} s_{3} + s_{0} s_{1} s_{3}^{2} + s_{2} s_{3}^{3}\\right)} s_{7}\\right)} y_{2}}{s_{2} s_{4} s_{7}} = 0</script></html>"
      ],
      "text/latex": [
       "$$\\newcommand{\\Bold}[1]{\\mathbf{#1}}\\frac{{\\left(s_{0} s_{1} s_{2} + s_{2}^{2} s_{3}\\right)} s_{4} s_{7} y_{3} + {\\left({\\left(s_{0} s_{1} - s_{2} s_{3}\\right)} s_{4}^{2} s_{5} + {\\left(s_{0} s_{1} s_{3} + s_{2} s_{3}^{2}\\right)} s_{4} s_{6} - {\\left(s_{0} s_{1}^{3} + s_{1}^{2} s_{2} s_{3} + s_{0} s_{1} s_{3}^{2} + s_{2} s_{3}^{3}\\right)} s_{7}\\right)} y_{2}}{s_{2} s_{4} s_{7}} = 0$$"
      ],
      "text/plain": [
       "((s0*s1*s2 + s2^2*s3)*s4*s7*y3 + ((s0*s1 - s2*s3)*s4^2*s5 + (s0*s1*s3 + s2*s3^2)*s4*s6 - (s0*s1^3 + s1^2*s2*s3 + s0*s1*s3^2 + s2*s3^3)*s7)*y2)/(s2*s4*s7) == 0"
      ]
     },
     "metadata": {},
     "output_type": "display_data"
    }
   ],
   "source": [
    "sbst = [y1==0, y5==-(s5*y2+s6*y4)/s7, y6==-((s3*s4-s5*s6)*y2+(s4^2-s6^2+s5*s7)*y4)/s7^2]\n",
    "sbst1 = [y4==-(s0*s1+s2*s3)*y2/(s2*s4)]\n",
    "\n",
    "for eq in set(equations):\n",
    "    if eq.left().subs(sbst).subs(sbst1) != 0:\n",
    "        display(eq.subs(sbst).subs(sbst1).simplify_full())"
   ]
  },
  {
   "cell_type": "markdown",
   "metadata": {},
   "source": [
    "Since $s_4 \\neq 0$, $s_7 \\neq 0$, we get $\\displaystyle y_{3} = \\frac{{\\left(s_{2} s_{4}^{2} s_{5} - {\\left(2 \\, s_{0} s_{1} + s_{2} s_{3}\\right)} s_{4} s_{6} - {\\left(s_{1}^{2} s_{2} - 2 \\, s_{0} s_{1} s_{3} - s_{2} s_{3}^{2}\\right)} s_{7}\\right)} y_{2}}{s_{2}^{2} s_{4} s_{7}}\n",
    "$."
   ]
  },
  {
   "cell_type": "code",
   "execution_count": 11,
   "metadata": {},
   "outputs": [
    {
     "data": {
      "text/html": [
       "<html><script type=\"math/tex; mode=display\">\\newcommand{\\Bold}[1]{\\mathbf{#1}}0 = 0</script></html>"
      ],
      "text/latex": [
       "$$\\newcommand{\\Bold}[1]{\\mathbf{#1}}0 = 0$$"
      ],
      "text/plain": [
       "0 == 0"
      ]
     },
     "metadata": {},
     "output_type": "display_data"
    },
    {
     "data": {
      "text/html": [
       "<html><script type=\"math/tex; mode=display\">\\newcommand{\\Bold}[1]{\\mathbf{#1}}-\\frac{2 \\, {\\left(s_{0} s_{1} s_{2} s_{4}^{2} s_{5} - {\\left(s_{0}^{2} s_{1}^{2} + s_{0} s_{1} s_{2} s_{3}\\right)} s_{4} s_{6} - {\\left(s_{0} s_{1}^{3} s_{2} - s_{0} s_{1} s_{2} s_{3}^{2} - {\\left(s_{0}^{2} s_{1}^{2} - s_{1}^{2} s_{2}^{2}\\right)} s_{3}\\right)} s_{7}\\right)} y_{2}}{s_{2}^{2} s_{4} s_{7}} = 0</script></html>"
      ],
      "text/latex": [
       "$$\\newcommand{\\Bold}[1]{\\mathbf{#1}}-\\frac{2 \\, {\\left(s_{0} s_{1} s_{2} s_{4}^{2} s_{5} - {\\left(s_{0}^{2} s_{1}^{2} + s_{0} s_{1} s_{2} s_{3}\\right)} s_{4} s_{6} - {\\left(s_{0} s_{1}^{3} s_{2} - s_{0} s_{1} s_{2} s_{3}^{2} - {\\left(s_{0}^{2} s_{1}^{2} - s_{1}^{2} s_{2}^{2}\\right)} s_{3}\\right)} s_{7}\\right)} y_{2}}{s_{2}^{2} s_{4} s_{7}} = 0$$"
      ],
      "text/plain": [
       "-2*(s0*s1*s2*s4^2*s5 - (s0^2*s1^2 + s0*s1*s2*s3)*s4*s6 - (s0*s1^3*s2 - s0*s1*s2*s3^2 - (s0^2*s1^2 - s1^2*s2^2)*s3)*s7)*y2/(s2^2*s4*s7) == 0"
      ]
     },
     "metadata": {},
     "output_type": "display_data"
    },
    {
     "data": {
      "text/html": [
       "<html><script type=\"math/tex; mode=display\">\\newcommand{\\Bold}[1]{\\mathbf{#1}}0 = 0</script></html>"
      ],
      "text/latex": [
       "$$\\newcommand{\\Bold}[1]{\\mathbf{#1}}0 = 0$$"
      ],
      "text/plain": [
       "0 == 0"
      ]
     },
     "metadata": {},
     "output_type": "display_data"
    },
    {
     "data": {
      "text/html": [
       "<html><script type=\"math/tex; mode=display\">\\newcommand{\\Bold}[1]{\\mathbf{#1}}0 = 0</script></html>"
      ],
      "text/latex": [
       "$$\\newcommand{\\Bold}[1]{\\mathbf{#1}}0 = 0$$"
      ],
      "text/plain": [
       "0 == 0"
      ]
     },
     "metadata": {},
     "output_type": "display_data"
    },
    {
     "data": {
      "text/html": [
       "<html><script type=\"math/tex; mode=display\">\\newcommand{\\Bold}[1]{\\mathbf{#1}}0 = 0</script></html>"
      ],
      "text/latex": [
       "$$\\newcommand{\\Bold}[1]{\\mathbf{#1}}0 = 0$$"
      ],
      "text/plain": [
       "0 == 0"
      ]
     },
     "metadata": {},
     "output_type": "display_data"
    },
    {
     "data": {
      "text/html": [
       "<html><script type=\"math/tex; mode=display\">\\newcommand{\\Bold}[1]{\\mathbf{#1}}0 = 0</script></html>"
      ],
      "text/latex": [
       "$$\\newcommand{\\Bold}[1]{\\mathbf{#1}}0 = 0$$"
      ],
      "text/plain": [
       "0 == 0"
      ]
     },
     "metadata": {},
     "output_type": "display_data"
    },
    {
     "data": {
      "text/html": [
       "<html><script type=\"math/tex; mode=display\">\\newcommand{\\Bold}[1]{\\mathbf{#1}}0 = 0</script></html>"
      ],
      "text/latex": [
       "$$\\newcommand{\\Bold}[1]{\\mathbf{#1}}0 = 0$$"
      ],
      "text/plain": [
       "0 == 0"
      ]
     },
     "metadata": {},
     "output_type": "display_data"
    },
    {
     "data": {
      "text/html": [
       "<html><script type=\"math/tex; mode=display\">\\newcommand{\\Bold}[1]{\\mathbf{#1}}\\frac{2 \\, {\\left(s_{0} s_{1} s_{2} s_{4}^{2} s_{5} - {\\left(s_{0}^{2} s_{1}^{2} + s_{0} s_{1} s_{2} s_{3}\\right)} s_{4} s_{6} - {\\left(s_{0} s_{1}^{3} s_{2} - s_{0} s_{1} s_{2} s_{3}^{2} - {\\left(s_{0}^{2} s_{1}^{2} - s_{1}^{2} s_{2}^{2}\\right)} s_{3}\\right)} s_{7}\\right)} y_{2}}{s_{2}^{2} s_{4} s_{7}} = 0</script></html>"
      ],
      "text/latex": [
       "$$\\newcommand{\\Bold}[1]{\\mathbf{#1}}\\frac{2 \\, {\\left(s_{0} s_{1} s_{2} s_{4}^{2} s_{5} - {\\left(s_{0}^{2} s_{1}^{2} + s_{0} s_{1} s_{2} s_{3}\\right)} s_{4} s_{6} - {\\left(s_{0} s_{1}^{3} s_{2} - s_{0} s_{1} s_{2} s_{3}^{2} - {\\left(s_{0}^{2} s_{1}^{2} - s_{1}^{2} s_{2}^{2}\\right)} s_{3}\\right)} s_{7}\\right)} y_{2}}{s_{2}^{2} s_{4} s_{7}} = 0$$"
      ],
      "text/plain": [
       "2*(s0*s1*s2*s4^2*s5 - (s0^2*s1^2 + s0*s1*s2*s3)*s4*s6 - (s0*s1^3*s2 - s0*s1*s2*s3^2 - (s0^2*s1^2 - s1^2*s2^2)*s3)*s7)*y2/(s2^2*s4*s7) == 0"
      ]
     },
     "metadata": {},
     "output_type": "display_data"
    }
   ],
   "source": [
    "sbst = [y1==0, y5==-(s5*y2+s6*y4)/s7, y6==-((s3*s4-s5*s6)*y2+(s4^2-s6^2+s5*s7)*y4)/s7^2]\n",
    "sbst1 = [y4==-(s0*s1+s2*s3)*y2/(s2*s4), \n",
    "         y3==(s2*s4^2*s5-(2*s0*s1+s2*s3)*s4*s6-(s1^2*s2-2*s0*s1*s3-s2*s3^2)*s7)*y2/(s2^2*s4*s7)\n",
    "        ]\n",
    "\n",
    "for eq in set(equations):\n",
    "    if eq.left().subs(sbst).subs(sbst1) != 0:\n",
    "        display(eq.subs(sbst).subs(sbst1).simplify_full())"
   ]
  },
  {
   "cell_type": "markdown",
   "metadata": {},
   "source": [
    "So, in this case the index of symmetry is non-trivial if and only iff the metric $g$ satisfies \n",
    "$$\n",
    "F(g) = s_{0} s_{1} s_{2} s_{4}^{2} s_{5} - {\\left(s_{0}^{2} s_{1}^{2} + s_{0} s_{1} s_{2} s_{3}\\right)} s_{4} s_{6} - {\\left(s_{0} s_{1}^{3} s_{2} - s_{0} s_{1} s_{2} s_{3}^{2} - {\\left(s_{0}^{2} s_{1}^{2} - s_{1}^{2} s_{2}^{2}\\right)} s_{3}\\right)} s_{7} = 0. \\qquad (*)\n",
    "$$\n",
    "\n",
    "By computing the gradient of $F$, we can see that the solutions of $F(g) = 0$ form a hypersurface in the moduli space of left-invariant metrics on $H_{21}$."
   ]
  },
  {
   "cell_type": "code",
   "execution_count": 12,
   "metadata": {},
   "outputs": [
    {
     "data": {
      "text/html": [
       "<html><script type=\"math/tex; mode=display\">\\newcommand{\\Bold}[1]{\\mathbf{#1}}s_{1} s_{2} s_{4}^{2} s_{5} - {\\left(2 \\, s_{0} s_{1}^{2} + s_{1} s_{2} s_{3}\\right)} s_{4} s_{6} - {\\left(s_{1}^{3} s_{2} - 2 \\, s_{0} s_{1}^{2} s_{3} - s_{1} s_{2} s_{3}^{2}\\right)} s_{7}</script></html>"
      ],
      "text/latex": [
       "$$\\newcommand{\\Bold}[1]{\\mathbf{#1}}s_{1} s_{2} s_{4}^{2} s_{5} - {\\left(2 \\, s_{0} s_{1}^{2} + s_{1} s_{2} s_{3}\\right)} s_{4} s_{6} - {\\left(s_{1}^{3} s_{2} - 2 \\, s_{0} s_{1}^{2} s_{3} - s_{1} s_{2} s_{3}^{2}\\right)} s_{7}$$"
      ],
      "text/plain": [
       "s1*s2*s4^2*s5 - (2*s0*s1^2 + s1*s2*s3)*s4*s6 - (s1^3*s2 - 2*s0*s1^2*s3 - s1*s2*s3^2)*s7"
      ]
     },
     "metadata": {},
     "output_type": "display_data"
    },
    {
     "data": {
      "text/html": [
       "<html><script type=\"math/tex; mode=display\">\\newcommand{\\Bold}[1]{\\mathbf{#1}}s_{0} s_{2} s_{4}^{2} s_{5} - {\\left(2 \\, s_{0}^{2} s_{1} + s_{0} s_{2} s_{3}\\right)} s_{4} s_{6} - {\\left(3 \\, s_{0} s_{1}^{2} s_{2} - s_{0} s_{2} s_{3}^{2} - 2 \\, {\\left(s_{0}^{2} s_{1} - s_{1} s_{2}^{2}\\right)} s_{3}\\right)} s_{7}</script></html>"
      ],
      "text/latex": [
       "$$\\newcommand{\\Bold}[1]{\\mathbf{#1}}s_{0} s_{2} s_{4}^{2} s_{5} - {\\left(2 \\, s_{0}^{2} s_{1} + s_{0} s_{2} s_{3}\\right)} s_{4} s_{6} - {\\left(3 \\, s_{0} s_{1}^{2} s_{2} - s_{0} s_{2} s_{3}^{2} - 2 \\, {\\left(s_{0}^{2} s_{1} - s_{1} s_{2}^{2}\\right)} s_{3}\\right)} s_{7}$$"
      ],
      "text/plain": [
       "s0*s2*s4^2*s5 - (2*s0^2*s1 + s0*s2*s3)*s4*s6 - (3*s0*s1^2*s2 - s0*s2*s3^2 - 2*(s0^2*s1 - s1*s2^2)*s3)*s7"
      ]
     },
     "metadata": {},
     "output_type": "display_data"
    },
    {
     "data": {
      "text/html": [
       "<html><script type=\"math/tex; mode=display\">\\newcommand{\\Bold}[1]{\\mathbf{#1}}s_{0} s_{1} s_{4}^{2} s_{5} - s_{0} s_{1} s_{3} s_{4} s_{6} - {\\left(s_{0} s_{1}^{3} + 2 \\, s_{1}^{2} s_{2} s_{3} - s_{0} s_{1} s_{3}^{2}\\right)} s_{7}</script></html>"
      ],
      "text/latex": [
       "$$\\newcommand{\\Bold}[1]{\\mathbf{#1}}s_{0} s_{1} s_{4}^{2} s_{5} - s_{0} s_{1} s_{3} s_{4} s_{6} - {\\left(s_{0} s_{1}^{3} + 2 \\, s_{1}^{2} s_{2} s_{3} - s_{0} s_{1} s_{3}^{2}\\right)} s_{7}$$"
      ],
      "text/plain": [
       "s0*s1*s4^2*s5 - s0*s1*s3*s4*s6 - (s0*s1^3 + 2*s1^2*s2*s3 - s0*s1*s3^2)*s7"
      ]
     },
     "metadata": {},
     "output_type": "display_data"
    },
    {
     "data": {
      "text/html": [
       "<html><script type=\"math/tex; mode=display\">\\newcommand{\\Bold}[1]{\\mathbf{#1}}-s_{0} s_{1} s_{2} s_{4} s_{6} + {\\left(s_{0}^{2} s_{1}^{2} - s_{1}^{2} s_{2}^{2} + 2 \\, s_{0} s_{1} s_{2} s_{3}\\right)} s_{7}</script></html>"
      ],
      "text/latex": [
       "$$\\newcommand{\\Bold}[1]{\\mathbf{#1}}-s_{0} s_{1} s_{2} s_{4} s_{6} + {\\left(s_{0}^{2} s_{1}^{2} - s_{1}^{2} s_{2}^{2} + 2 \\, s_{0} s_{1} s_{2} s_{3}\\right)} s_{7}$$"
      ],
      "text/plain": [
       "-s0*s1*s2*s4*s6 + (s0^2*s1^2 - s1^2*s2^2 + 2*s0*s1*s2*s3)*s7"
      ]
     },
     "metadata": {},
     "output_type": "display_data"
    },
    {
     "data": {
      "text/html": [
       "<html><script type=\"math/tex; mode=display\">\\newcommand{\\Bold}[1]{\\mathbf{#1}}2 \\, s_{0} s_{1} s_{2} s_{4} s_{5} - {\\left(s_{0}^{2} s_{1}^{2} + s_{0} s_{1} s_{2} s_{3}\\right)} s_{6}</script></html>"
      ],
      "text/latex": [
       "$$\\newcommand{\\Bold}[1]{\\mathbf{#1}}2 \\, s_{0} s_{1} s_{2} s_{4} s_{5} - {\\left(s_{0}^{2} s_{1}^{2} + s_{0} s_{1} s_{2} s_{3}\\right)} s_{6}$$"
      ],
      "text/plain": [
       "2*s0*s1*s2*s4*s5 - (s0^2*s1^2 + s0*s1*s2*s3)*s6"
      ]
     },
     "metadata": {},
     "output_type": "display_data"
    },
    {
     "data": {
      "text/html": [
       "<html><script type=\"math/tex; mode=display\">\\newcommand{\\Bold}[1]{\\mathbf{#1}}s_{0} s_{1} s_{2} s_{4}^{2}</script></html>"
      ],
      "text/latex": [
       "$$\\newcommand{\\Bold}[1]{\\mathbf{#1}}s_{0} s_{1} s_{2} s_{4}^{2}$$"
      ],
      "text/plain": [
       "s0*s1*s2*s4^2"
      ]
     },
     "metadata": {},
     "output_type": "display_data"
    },
    {
     "data": {
      "text/html": [
       "<html><script type=\"math/tex; mode=display\">\\newcommand{\\Bold}[1]{\\mathbf{#1}}-{\\left(s_{0}^{2} s_{1}^{2} + s_{0} s_{1} s_{2} s_{3}\\right)} s_{4}</script></html>"
      ],
      "text/latex": [
       "$$\\newcommand{\\Bold}[1]{\\mathbf{#1}}-{\\left(s_{0}^{2} s_{1}^{2} + s_{0} s_{1} s_{2} s_{3}\\right)} s_{4}$$"
      ],
      "text/plain": [
       "-(s0^2*s1^2 + s0*s1*s2*s3)*s4"
      ]
     },
     "metadata": {},
     "output_type": "display_data"
    },
    {
     "data": {
      "text/html": [
       "<html><script type=\"math/tex; mode=display\">\\newcommand{\\Bold}[1]{\\mathbf{#1}}-s_{0} s_{1}^{3} s_{2} + s_{0} s_{1} s_{2} s_{3}^{2} + {\\left(s_{0}^{2} s_{1}^{2} - s_{1}^{2} s_{2}^{2}\\right)} s_{3}</script></html>"
      ],
      "text/latex": [
       "$$\\newcommand{\\Bold}[1]{\\mathbf{#1}}-s_{0} s_{1}^{3} s_{2} + s_{0} s_{1} s_{2} s_{3}^{2} + {\\left(s_{0}^{2} s_{1}^{2} - s_{1}^{2} s_{2}^{2}\\right)} s_{3}$$"
      ],
      "text/plain": [
       "-s0*s1^3*s2 + s0*s1*s2*s3^2 + (s0^2*s1^2 - s1^2*s2^2)*s3"
      ]
     },
     "metadata": {},
     "output_type": "display_data"
    }
   ],
   "source": [
    "F = s0*s1*s2*s4^2*s5 - (s0^2*s1^2 + s0*s1*s2*s3)*s4*s6 - (s0*s1^3*s2 - s0*s1*s2*s3^2 - (s0^2*s1^2 - s1^2*s2^2)*s3)*s7\n",
    "for comp in F.gradient():\n",
    "    display(comp.simplify_full())"
   ]
  },
  {
   "cell_type": "markdown",
   "metadata": {},
   "source": [
    "So, $\\operatorname{grad}F \\neq 0$ if $s_0 \\neq 0$. On the other side, since $s_1 \\neq 0$, $s_2 \\neq 0$ and $s_7 \\neq 0$, the gradient is also non zero when $s_0 = 0$. In fact, "
   ]
  },
  {
   "cell_type": "code",
   "execution_count": 13,
   "metadata": {},
   "outputs": [
    {
     "data": {
      "text/html": [
       "<html><script type=\"math/tex; mode=display\">\\newcommand{\\Bold}[1]{\\mathbf{#1}}s_{1} s_{2} s_{4}^{2} s_{5} - s_{1} s_{2} s_{3} s_{4} s_{6} - {\\left(s_{1}^{3} s_{2} - s_{1} s_{2} s_{3}^{2}\\right)} s_{7}</script></html>"
      ],
      "text/latex": [
       "$$\\newcommand{\\Bold}[1]{\\mathbf{#1}}s_{1} s_{2} s_{4}^{2} s_{5} - s_{1} s_{2} s_{3} s_{4} s_{6} - {\\left(s_{1}^{3} s_{2} - s_{1} s_{2} s_{3}^{2}\\right)} s_{7}$$"
      ],
      "text/plain": [
       "s1*s2*s4^2*s5 - s1*s2*s3*s4*s6 - (s1^3*s2 - s1*s2*s3^2)*s7"
      ]
     },
     "metadata": {},
     "output_type": "display_data"
    },
    {
     "data": {
      "text/html": [
       "<html><script type=\"math/tex; mode=display\">\\newcommand{\\Bold}[1]{\\mathbf{#1}}-2 \\, s_{1} s_{2}^{2} s_{3} s_{7}</script></html>"
      ],
      "text/latex": [
       "$$\\newcommand{\\Bold}[1]{\\mathbf{#1}}-2 \\, s_{1} s_{2}^{2} s_{3} s_{7}$$"
      ],
      "text/plain": [
       "-2*s1*s2^2*s3*s7"
      ]
     },
     "metadata": {},
     "output_type": "display_data"
    },
    {
     "data": {
      "text/html": [
       "<html><script type=\"math/tex; mode=display\">\\newcommand{\\Bold}[1]{\\mathbf{#1}}-2 \\, s_{1}^{2} s_{2} s_{3} s_{7}</script></html>"
      ],
      "text/latex": [
       "$$\\newcommand{\\Bold}[1]{\\mathbf{#1}}-2 \\, s_{1}^{2} s_{2} s_{3} s_{7}$$"
      ],
      "text/plain": [
       "-2*s1^2*s2*s3*s7"
      ]
     },
     "metadata": {},
     "output_type": "display_data"
    },
    {
     "data": {
      "text/html": [
       "<html><script type=\"math/tex; mode=display\">\\newcommand{\\Bold}[1]{\\mathbf{#1}}-s_{1}^{2} s_{2}^{2} s_{7}</script></html>"
      ],
      "text/latex": [
       "$$\\newcommand{\\Bold}[1]{\\mathbf{#1}}-s_{1}^{2} s_{2}^{2} s_{7}$$"
      ],
      "text/plain": [
       "-s1^2*s2^2*s7"
      ]
     },
     "metadata": {},
     "output_type": "display_data"
    },
    {
     "data": {
      "text/html": [
       "<html><script type=\"math/tex; mode=display\">\\newcommand{\\Bold}[1]{\\mathbf{#1}}-s_{1}^{2} s_{2}^{2} s_{3}</script></html>"
      ],
      "text/latex": [
       "$$\\newcommand{\\Bold}[1]{\\mathbf{#1}}-s_{1}^{2} s_{2}^{2} s_{3}$$"
      ],
      "text/plain": [
       "-s1^2*s2^2*s3"
      ]
     },
     "metadata": {},
     "output_type": "display_data"
    }
   ],
   "source": [
    "F = s0*s1*s2*s4^2*s5 - (s0^2*s1^2 + s0*s1*s2*s3)*s4*s6 - (s0*s1^3*s2 - s0*s1*s2*s3^2 - (s0^2*s1^2 - s1^2*s2^2)*s3)*s7\n",
    "for comp in F.gradient():\n",
    "    if comp.subs(s0=0) != 0:\n",
    "        display(comp.subs(s0=0).simplify_full())"
   ]
  },
  {
   "cell_type": "markdown",
   "metadata": {},
   "source": [
    "In this case, the index of symmetry is non-trivial if and only if $(*)$ holds. In order to verify this claim we again consider the cases $s_0 \\neq 0$ and $s_0 = 0.$ Note that if $s_0 \\neq 0$, then $(*)$ holds if and only if\n",
    "$$\n",
    "s_{5} = \\frac{{\\left(s_{0}^{2} s_{1} + s_{0} s_{2} s_{3}\\right)} s_{4} s_{6} + {\\left(s_{0} s_{1}^{2} s_{2} - s_{0} s_{2} s_{3}^{2} - {\\left(s_{0}^{2} s_{1} - s_{1} s_{2}^{2}\\right)} s_{3}\\right)} s_{7}}{s_{0} s_{2} s_{4}^{2}}.\n",
    "$$"
   ]
  },
  {
   "cell_type": "code",
   "execution_count": 14,
   "metadata": {},
   "outputs": [
    {
     "data": {
      "text/html": [
       "<html><script type=\"math/tex; mode=display\">\\newcommand{\\Bold}[1]{\\mathbf{#1}}0 = 0</script></html>"
      ],
      "text/latex": [
       "$$\\newcommand{\\Bold}[1]{\\mathbf{#1}}0 = 0$$"
      ],
      "text/plain": [
       "0 == 0"
      ]
     },
     "metadata": {},
     "output_type": "display_data"
    },
    {
     "data": {
      "text/html": [
       "<html><script type=\"math/tex; mode=display\">\\newcommand{\\Bold}[1]{\\mathbf{#1}}0 = 0</script></html>"
      ],
      "text/latex": [
       "$$\\newcommand{\\Bold}[1]{\\mathbf{#1}}0 = 0$$"
      ],
      "text/plain": [
       "0 == 0"
      ]
     },
     "metadata": {},
     "output_type": "display_data"
    },
    {
     "data": {
      "text/html": [
       "<html><script type=\"math/tex; mode=display\">\\newcommand{\\Bold}[1]{\\mathbf{#1}}0 = 0</script></html>"
      ],
      "text/latex": [
       "$$\\newcommand{\\Bold}[1]{\\mathbf{#1}}0 = 0$$"
      ],
      "text/plain": [
       "0 == 0"
      ]
     },
     "metadata": {},
     "output_type": "display_data"
    },
    {
     "data": {
      "text/html": [
       "<html><script type=\"math/tex; mode=display\">\\newcommand{\\Bold}[1]{\\mathbf{#1}}0 = 0</script></html>"
      ],
      "text/latex": [
       "$$\\newcommand{\\Bold}[1]{\\mathbf{#1}}0 = 0$$"
      ],
      "text/plain": [
       "0 == 0"
      ]
     },
     "metadata": {},
     "output_type": "display_data"
    },
    {
     "data": {
      "text/html": [
       "<html><script type=\"math/tex; mode=display\">\\newcommand{\\Bold}[1]{\\mathbf{#1}}0 = 0</script></html>"
      ],
      "text/latex": [
       "$$\\newcommand{\\Bold}[1]{\\mathbf{#1}}0 = 0$$"
      ],
      "text/plain": [
       "0 == 0"
      ]
     },
     "metadata": {},
     "output_type": "display_data"
    },
    {
     "data": {
      "text/html": [
       "<html><script type=\"math/tex; mode=display\">\\newcommand{\\Bold}[1]{\\mathbf{#1}}0 = 0</script></html>"
      ],
      "text/latex": [
       "$$\\newcommand{\\Bold}[1]{\\mathbf{#1}}0 = 0$$"
      ],
      "text/plain": [
       "0 == 0"
      ]
     },
     "metadata": {},
     "output_type": "display_data"
    },
    {
     "data": {
      "text/html": [
       "<html><script type=\"math/tex; mode=display\">\\newcommand{\\Bold}[1]{\\mathbf{#1}}0 = 0</script></html>"
      ],
      "text/latex": [
       "$$\\newcommand{\\Bold}[1]{\\mathbf{#1}}0 = 0$$"
      ],
      "text/plain": [
       "0 == 0"
      ]
     },
     "metadata": {},
     "output_type": "display_data"
    },
    {
     "data": {
      "text/html": [
       "<html><script type=\"math/tex; mode=display\">\\newcommand{\\Bold}[1]{\\mathbf{#1}}0 = 0</script></html>"
      ],
      "text/latex": [
       "$$\\newcommand{\\Bold}[1]{\\mathbf{#1}}0 = 0$$"
      ],
      "text/plain": [
       "0 == 0"
      ]
     },
     "metadata": {},
     "output_type": "display_data"
    }
   ],
   "source": [
    "sbst = [y1==0, y5==-(s5*y2+s6*y4)/s7, y6==-((s3*s4-s5*s6)*y2+(s4^2-s6^2+s5*s7)*y4)/s7^2]\n",
    "sbst1 = [y4==-(s0*s1+s2*s3)*y2/(s2*s4), \n",
    "         y3==(s2*s4^2*s5-(2*s0*s1+s2*s3)*s4*s6-(s1^2*s2-2*s0*s1*s3-s2*s3^2)*s7)*y2/(s2^2*s4*s7)\n",
    "        ]\n",
    "sbst2 = [s5 == ((s0^2*s1 + s0*s2*s3)*s4*s6 + (s0*s1^2*s2 - s0*s2*s3^2 - (s0^2*s1 - s1*s2^2)*s3)*s7)/(s0*s2*s4^2)]\n",
    "\n",
    "for eq in set(equations):\n",
    "    if eq.left().subs(sbst).subs(sbst1).subs(sbst2) != 0:\n",
    "        display(eq.subs(sbst).subs(sbst1).subs(sbst2).simplify_full())"
   ]
  },
  {
   "cell_type": "markdown",
   "metadata": {},
   "source": [
    "In this case the distribution of symmetry has rank $1$ and it is generated by"
   ]
  },
  {
   "cell_type": "code",
   "execution_count": 15,
   "metadata": {},
   "outputs": [
    {
     "data": {
      "text/html": [
       "<html><script type=\"math/tex; mode=display\">\\newcommand{\\Bold}[1]{\\mathbf{#1}}\\left(0,\\,1,\\,-\\frac{s_{0}^{2} s_{1} s_{4} s_{6} - {\\left(s_{0}^{2} s_{1} + s_{1} s_{2}^{2}\\right)} s_{3} s_{7}}{s_{0} s_{2}^{2} s_{4} s_{7}},\\,-\\frac{s_{0} s_{1} + s_{2} s_{3}}{s_{2} s_{4}},\\,-\\frac{s_{0} s_{1}^{2} s_{2} - s_{0} s_{2} s_{3}^{2} - {\\left(s_{0}^{2} s_{1} - s_{1} s_{2}^{2}\\right)} s_{3}}{s_{0} s_{2} s_{4}^{2}},\\,\\frac{s_{0}^{2} s_{1} s_{2} s_{4}^{4} + {\\left(s_{0}^{3} s_{1}^{2} + s_{0} s_{1}^{2} s_{2}^{2} + {\\left(s_{0}^{2} s_{1} s_{2} + s_{1} s_{2}^{3}\\right)} s_{3}\\right)} s_{4} s_{6} s_{7} + {\\left(s_{0}^{2} s_{1}^{3} s_{2} - s_{0} s_{2}^{2} s_{3}^{3} - {\\left(2 \\, s_{0}^{2} s_{1} s_{2} - s_{1} s_{2}^{3}\\right)} s_{3}^{2} - {\\left(s_{0}^{3} s_{1}^{2} - 2 \\, s_{0} s_{1}^{2} s_{2}^{2}\\right)} s_{3}\\right)} s_{7}^{2}}{s_{0} s_{2}^{2} s_{4}^{3} s_{7}^{2}}\\right)</script></html>"
      ],
      "text/latex": [
       "$$\\newcommand{\\Bold}[1]{\\mathbf{#1}}\\left(0,\\,1,\\,-\\frac{s_{0}^{2} s_{1} s_{4} s_{6} - {\\left(s_{0}^{2} s_{1} + s_{1} s_{2}^{2}\\right)} s_{3} s_{7}}{s_{0} s_{2}^{2} s_{4} s_{7}},\\,-\\frac{s_{0} s_{1} + s_{2} s_{3}}{s_{2} s_{4}},\\,-\\frac{s_{0} s_{1}^{2} s_{2} - s_{0} s_{2} s_{3}^{2} - {\\left(s_{0}^{2} s_{1} - s_{1} s_{2}^{2}\\right)} s_{3}}{s_{0} s_{2} s_{4}^{2}},\\,\\frac{s_{0}^{2} s_{1} s_{2} s_{4}^{4} + {\\left(s_{0}^{3} s_{1}^{2} + s_{0} s_{1}^{2} s_{2}^{2} + {\\left(s_{0}^{2} s_{1} s_{2} + s_{1} s_{2}^{3}\\right)} s_{3}\\right)} s_{4} s_{6} s_{7} + {\\left(s_{0}^{2} s_{1}^{3} s_{2} - s_{0} s_{2}^{2} s_{3}^{3} - {\\left(2 \\, s_{0}^{2} s_{1} s_{2} - s_{1} s_{2}^{3}\\right)} s_{3}^{2} - {\\left(s_{0}^{3} s_{1}^{2} - 2 \\, s_{0} s_{1}^{2} s_{2}^{2}\\right)} s_{3}\\right)} s_{7}^{2}}{s_{0} s_{2}^{2} s_{4}^{3} s_{7}^{2}}\\right)$$"
      ],
      "text/plain": [
       "(0, 1, -(s0^2*s1*s4*s6 - (s0^2*s1 + s1*s2^2)*s3*s7)/(s0*s2^2*s4*s7), -(s0*s1 + s2*s3)/(s2*s4), -(s0*s1^2*s2 - s0*s2*s3^2 - (s0^2*s1 - s1*s2^2)*s3)/(s0*s2*s4^2), (s0^2*s1*s2*s4^4 + (s0^3*s1^2 + s0*s1^2*s2^2 + (s0^2*s1*s2 + s1*s2^3)*s3)*s4*s6*s7 + (s0^2*s1^3*s2 - s0*s2^2*s3^3 - (2*s0^2*s1*s2 - s1*s2^3)*s3^2 - (s0^3*s1^2 - 2*s0*s1^2*s2^2)*s3)*s7^2)/(s0*s2^2*s4^3*s7^2))"
      ]
     },
     "execution_count": 15,
     "metadata": {},
     "output_type": "execute_result"
    }
   ],
   "source": [
    "Y.to_vector().subs(sbst).subs(sbst1).subs(sbst2).subs(y2=1).simplify_full()"
   ]
  },
  {
   "cell_type": "markdown",
   "metadata": {},
   "source": [
    "Finally, if $s_0 = 0$, then $F(g) = 0$ iff $s_3 = 0$."
   ]
  },
  {
   "cell_type": "code",
   "execution_count": 16,
   "metadata": {},
   "outputs": [
    {
     "data": {
      "text/html": [
       "<html><script type=\"math/tex; mode=display\">\\newcommand{\\Bold}[1]{\\mathbf{#1}}-s_{1}^{2} s_{2}^{2} s_{3} s_{7}</script></html>"
      ],
      "text/latex": [
       "$$\\newcommand{\\Bold}[1]{\\mathbf{#1}}-s_{1}^{2} s_{2}^{2} s_{3} s_{7}$$"
      ],
      "text/plain": [
       "-s1^2*s2^2*s3*s7"
      ]
     },
     "execution_count": 16,
     "metadata": {},
     "output_type": "execute_result"
    }
   ],
   "source": [
    "F.subs(s0=0)"
   ]
  },
  {
   "cell_type": "code",
   "execution_count": 17,
   "metadata": {},
   "outputs": [
    {
     "data": {
      "text/html": [
       "<html><script type=\"math/tex; mode=display\">\\newcommand{\\Bold}[1]{\\mathbf{#1}}0 = 0</script></html>"
      ],
      "text/latex": [
       "$$\\newcommand{\\Bold}[1]{\\mathbf{#1}}0 = 0$$"
      ],
      "text/plain": [
       "0 == 0"
      ]
     },
     "metadata": {},
     "output_type": "display_data"
    },
    {
     "data": {
      "text/html": [
       "<html><script type=\"math/tex; mode=display\">\\newcommand{\\Bold}[1]{\\mathbf{#1}}0 = 0</script></html>"
      ],
      "text/latex": [
       "$$\\newcommand{\\Bold}[1]{\\mathbf{#1}}0 = 0$$"
      ],
      "text/plain": [
       "0 == 0"
      ]
     },
     "metadata": {},
     "output_type": "display_data"
    }
   ],
   "source": [
    "sbst = [y1==0, y5==-(s5*y2+s6*y4)/s7, y6==-((s3*s4-s5*s6)*y2+(s4^2-s6^2+s5*s7)*y4)/s7^2]\n",
    "sbst1 = [y4==-(s0*s1+s2*s3)*y2/(s2*s4), \n",
    "         y3==(s2*s4^2*s5-(2*s0*s1+s2*s3)*s4*s6-(s1^2*s2-2*s0*s1*s3-s2*s3^2)*s7)*y2/(s2^2*s4*s7)\n",
    "        ]\n",
    "sbst2 = [s0==0, s3==0]\n",
    "\n",
    "for eq in set(equations):\n",
    "    if eq.left().subs(sbst).subs(sbst1).subs(sbst2) != 0:\n",
    "        display(eq.subs(sbst).subs(sbst1).subs(sbst2).simplify_full())"
   ]
  },
  {
   "cell_type": "markdown",
   "metadata": {},
   "source": [
    "In this case the distribution of symmetry has rank $1$ and it is generated by"
   ]
  },
  {
   "cell_type": "code",
   "execution_count": 18,
   "metadata": {},
   "outputs": [
    {
     "data": {
      "text/html": [
       "<html><script type=\"math/tex; mode=display\">\\newcommand{\\Bold}[1]{\\mathbf{#1}}\\left(0,\\,1,\\,\\frac{s_{4}^{2} s_{5} - s_{1}^{2} s_{7}}{s_{2} s_{4} s_{7}},\\,0,\\,-\\frac{s_{5}}{s_{7}},\\,\\frac{s_{5} s_{6}}{s_{7}^{2}}\\right)</script></html>"
      ],
      "text/latex": [
       "$$\\newcommand{\\Bold}[1]{\\mathbf{#1}}\\left(0,\\,1,\\,\\frac{s_{4}^{2} s_{5} - s_{1}^{2} s_{7}}{s_{2} s_{4} s_{7}},\\,0,\\,-\\frac{s_{5}}{s_{7}},\\,\\frac{s_{5} s_{6}}{s_{7}^{2}}\\right)$$"
      ],
      "text/plain": [
       "(0, 1, (s4^2*s5 - s1^2*s7)/(s2*s4*s7), 0, -s5/s7, s5*s6/s7^2)"
      ]
     },
     "execution_count": 18,
     "metadata": {},
     "output_type": "execute_result"
    }
   ],
   "source": [
    "Y.to_vector().subs(sbst).subs(sbst1).subs(sbst2).subs(y2=1).simplify_full()"
   ]
  },
  {
   "cell_type": "markdown",
   "metadata": {},
   "source": [
    "Note that the distribution of symmetry is not contained in the center."
   ]
  },
  {
   "cell_type": "code",
   "execution_count": 19,
   "metadata": {},
   "outputs": [
    {
     "data": {
      "text/html": [
       "<html><script type=\"math/tex; mode=display\">\\newcommand{\\Bold}[1]{\\mathbf{#1}}\\verb|Subalgebra|\\phantom{\\verb!x!}\\verb|generated|\\phantom{\\verb!x!}\\verb|by|\\phantom{\\verb!x!}\\verb|(e3,|\\phantom{\\verb!x!}\\verb|e6)|\\phantom{\\verb!x!}\\verb|of|\\phantom{\\verb!x!}\\verb|Nilpotent|\\phantom{\\verb!x!}\\verb|Lie|\\phantom{\\verb!x!}\\verb|algebra|\\phantom{\\verb!x!}\\verb|on|\\phantom{\\verb!x!}\\verb|6|\\phantom{\\verb!x!}\\verb|generators|\\phantom{\\verb!x!}\\verb|(e1,|\\phantom{\\verb!x!}\\verb|e2,|\\phantom{\\verb!x!}\\verb|e3,|\\phantom{\\verb!x!}\\verb|e4,|\\phantom{\\verb!x!}\\verb|e5,|\\phantom{\\verb!x!}\\verb|e6)|\\phantom{\\verb!x!}\\verb|over|\\phantom{\\verb!x!}\\verb|Symbolic|\\phantom{\\verb!x!}\\verb|Ring|</script></html>"
      ],
      "text/latex": [
       "$$\\newcommand{\\Bold}[1]{\\mathbf{#1}}\\verb|Subalgebra|\\phantom{\\verb!x!}\\verb|generated|\\phantom{\\verb!x!}\\verb|by|\\phantom{\\verb!x!}\\verb|(e3,|\\phantom{\\verb!x!}\\verb|e6)|\\phantom{\\verb!x!}\\verb|of|\\phantom{\\verb!x!}\\verb|Nilpotent|\\phantom{\\verb!x!}\\verb|Lie|\\phantom{\\verb!x!}\\verb|algebra|\\phantom{\\verb!x!}\\verb|on|\\phantom{\\verb!x!}\\verb|6|\\phantom{\\verb!x!}\\verb|generators|\\phantom{\\verb!x!}\\verb|(e1,|\\phantom{\\verb!x!}\\verb|e2,|\\phantom{\\verb!x!}\\verb|e3,|\\phantom{\\verb!x!}\\verb|e4,|\\phantom{\\verb!x!}\\verb|e5,|\\phantom{\\verb!x!}\\verb|e6)|\\phantom{\\verb!x!}\\verb|over|\\phantom{\\verb!x!}\\verb|Symbolic|\\phantom{\\verb!x!}\\verb|Ring|$$"
      ],
      "text/plain": [
       "Subalgebra generated by (e3, e6) of Nilpotent Lie algebra on 6 generators (e1, e2, e3, e4, e5, e6) over Symbolic Ring"
      ]
     },
     "execution_count": 19,
     "metadata": {},
     "output_type": "execute_result"
    }
   ],
   "source": [
    "Center"
   ]
  },
  {
   "cell_type": "markdown",
   "metadata": {},
   "source": [
    "### Subcase 2: $s_2 = 0$."
   ]
  },
  {
   "cell_type": "code",
   "execution_count": 20,
   "metadata": {},
   "outputs": [
    {
     "data": {
      "text/html": [
       "<html><script type=\"math/tex; mode=display\">\\newcommand{\\Bold}[1]{\\mathbf{#1}}\\frac{{\\left(s_{4}^{2} s_{5} + s_{3} s_{4} s_{6} - {\\left(s_{1}^{2} + s_{3}^{2}\\right)} s_{7}\\right)} y_{2} + 2 \\, {\\left(s_{4}^{2} s_{6} - s_{3} s_{4} s_{7}\\right)} y_{4}}{s_{7}} = 0</script></html>"
      ],
      "text/latex": [
       "$$\\newcommand{\\Bold}[1]{\\mathbf{#1}}\\frac{{\\left(s_{4}^{2} s_{5} + s_{3} s_{4} s_{6} - {\\left(s_{1}^{2} + s_{3}^{2}\\right)} s_{7}\\right)} y_{2} + 2 \\, {\\left(s_{4}^{2} s_{6} - s_{3} s_{4} s_{7}\\right)} y_{4}}{s_{7}} = 0$$"
      ],
      "text/plain": [
       "((s4^2*s5 + s3*s4*s6 - (s1^2 + s3^2)*s7)*y2 + 2*(s4^2*s6 - s3*s4*s7)*y4)/s7 == 0"
      ]
     },
     "metadata": {},
     "output_type": "display_data"
    },
    {
     "data": {
      "text/html": [
       "<html><script type=\"math/tex; mode=display\">\\newcommand{\\Bold}[1]{\\mathbf{#1}}\\frac{2 \\, s_{3} s_{4} s_{5} y_{2} - s_{0} s_{1} s_{7} y_{3} + {\\left(s_{4}^{2} s_{5} + s_{3} s_{4} s_{6} - {\\left(s_{1}^{2} + s_{3}^{2}\\right)} s_{7}\\right)} y_{4}}{s_{7}} = 0</script></html>"
      ],
      "text/latex": [
       "$$\\newcommand{\\Bold}[1]{\\mathbf{#1}}\\frac{2 \\, s_{3} s_{4} s_{5} y_{2} - s_{0} s_{1} s_{7} y_{3} + {\\left(s_{4}^{2} s_{5} + s_{3} s_{4} s_{6} - {\\left(s_{1}^{2} + s_{3}^{2}\\right)} s_{7}\\right)} y_{4}}{s_{7}} = 0$$"
      ],
      "text/plain": [
       "(2*s3*s4*s5*y2 - s0*s1*s7*y3 + (s4^2*s5 + s3*s4*s6 - (s1^2 + s3^2)*s7)*y4)/s7 == 0"
      ]
     },
     "metadata": {},
     "output_type": "display_data"
    },
    {
     "data": {
      "text/html": [
       "<html><script type=\"math/tex; mode=display\">\\newcommand{\\Bold}[1]{\\mathbf{#1}}0 = 0</script></html>"
      ],
      "text/latex": [
       "$$\\newcommand{\\Bold}[1]{\\mathbf{#1}}0 = 0$$"
      ],
      "text/plain": [
       "0 == 0"
      ]
     },
     "metadata": {},
     "output_type": "display_data"
    },
    {
     "data": {
      "text/html": [
       "<html><script type=\"math/tex; mode=display\">\\newcommand{\\Bold}[1]{\\mathbf{#1}}s_{0} s_{1} y_{2} = 0</script></html>"
      ],
      "text/latex": [
       "$$\\newcommand{\\Bold}[1]{\\mathbf{#1}}s_{0} s_{1} y_{2} = 0$$"
      ],
      "text/plain": [
       "s0*s1*y2 == 0"
      ]
     },
     "metadata": {},
     "output_type": "display_data"
    },
    {
     "data": {
      "text/html": [
       "<html><script type=\"math/tex; mode=display\">\\newcommand{\\Bold}[1]{\\mathbf{#1}}0 = 0</script></html>"
      ],
      "text/latex": [
       "$$\\newcommand{\\Bold}[1]{\\mathbf{#1}}0 = 0$$"
      ],
      "text/plain": [
       "0 == 0"
      ]
     },
     "metadata": {},
     "output_type": "display_data"
    },
    {
     "data": {
      "text/html": [
       "<html><script type=\"math/tex; mode=display\">\\newcommand{\\Bold}[1]{\\mathbf{#1}}0 = 0</script></html>"
      ],
      "text/latex": [
       "$$\\newcommand{\\Bold}[1]{\\mathbf{#1}}0 = 0$$"
      ],
      "text/plain": [
       "0 == 0"
      ]
     },
     "metadata": {},
     "output_type": "display_data"
    },
    {
     "data": {
      "text/html": [
       "<html><script type=\"math/tex; mode=display\">\\newcommand{\\Bold}[1]{\\mathbf{#1}}-\\frac{{\\left(s_{4}^{2} s_{5} + s_{3} s_{4} s_{6} - {\\left(s_{1}^{2} + s_{3}^{2}\\right)} s_{7}\\right)} y_{2} + 2 \\, {\\left(s_{4}^{2} s_{6} - s_{3} s_{4} s_{7}\\right)} y_{4}}{s_{7}} = 0</script></html>"
      ],
      "text/latex": [
       "$$\\newcommand{\\Bold}[1]{\\mathbf{#1}}-\\frac{{\\left(s_{4}^{2} s_{5} + s_{3} s_{4} s_{6} - {\\left(s_{1}^{2} + s_{3}^{2}\\right)} s_{7}\\right)} y_{2} + 2 \\, {\\left(s_{4}^{2} s_{6} - s_{3} s_{4} s_{7}\\right)} y_{4}}{s_{7}} = 0$$"
      ],
      "text/plain": [
       "-((s4^2*s5 + s3*s4*s6 - (s1^2 + s3^2)*s7)*y2 + 2*(s4^2*s6 - s3*s4*s7)*y4)/s7 == 0"
      ]
     },
     "metadata": {},
     "output_type": "display_data"
    },
    {
     "data": {
      "text/html": [
       "<html><script type=\"math/tex; mode=display\">\\newcommand{\\Bold}[1]{\\mathbf{#1}}0 = 0</script></html>"
      ],
      "text/latex": [
       "$$\\newcommand{\\Bold}[1]{\\mathbf{#1}}0 = 0$$"
      ],
      "text/plain": [
       "0 == 0"
      ]
     },
     "metadata": {},
     "output_type": "display_data"
    },
    {
     "data": {
      "text/html": [
       "<html><script type=\"math/tex; mode=display\">\\newcommand{\\Bold}[1]{\\mathbf{#1}}-s_{0} s_{1} y_{2} = 0</script></html>"
      ],
      "text/latex": [
       "$$\\newcommand{\\Bold}[1]{\\mathbf{#1}}-s_{0} s_{1} y_{2} = 0$$"
      ],
      "text/plain": [
       "-s0*s1*y2 == 0"
      ]
     },
     "metadata": {},
     "output_type": "display_data"
    },
    {
     "data": {
      "text/html": [
       "<html><script type=\"math/tex; mode=display\">\\newcommand{\\Bold}[1]{\\mathbf{#1}}-\\frac{2 \\, s_{3} s_{4} s_{5} y_{2} - s_{0} s_{1} s_{7} y_{3} + {\\left(s_{4}^{2} s_{5} + s_{3} s_{4} s_{6} - {\\left(s_{1}^{2} + s_{3}^{2}\\right)} s_{7}\\right)} y_{4}}{s_{7}} = 0</script></html>"
      ],
      "text/latex": [
       "$$\\newcommand{\\Bold}[1]{\\mathbf{#1}}-\\frac{2 \\, s_{3} s_{4} s_{5} y_{2} - s_{0} s_{1} s_{7} y_{3} + {\\left(s_{4}^{2} s_{5} + s_{3} s_{4} s_{6} - {\\left(s_{1}^{2} + s_{3}^{2}\\right)} s_{7}\\right)} y_{4}}{s_{7}} = 0$$"
      ],
      "text/plain": [
       "-(2*s3*s4*s5*y2 - s0*s1*s7*y3 + (s4^2*s5 + s3*s4*s6 - (s1^2 + s3^2)*s7)*y4)/s7 == 0"
      ]
     },
     "metadata": {},
     "output_type": "display_data"
    }
   ],
   "source": [
    "sbst = [y1==0, y5==-(s5*y2+s6*y4)/s7, y6==-((s3*s4-s5*s6)*y2+(s4^2-s6^2+s5*s7)*y4)/s7^2]\n",
    "sbst1 = [s2==0]\n",
    "\n",
    "for eq in set(equations):\n",
    "    if eq.left().subs(sbst).subs(sbst1) != 0:\n",
    "        display(eq.subs(sbst).subs(sbst1).simplify_full())"
   ]
  },
  {
   "cell_type": "markdown",
   "metadata": {},
   "source": [
    "### Subcase 2.1: $s_2=0, s_0\\neq 0$."
   ]
  },
  {
   "cell_type": "markdown",
   "metadata": {},
   "source": [
    "Since $s_1 \\neq 0$, we get $y_2=0$."
   ]
  },
  {
   "cell_type": "code",
   "execution_count": 21,
   "metadata": {},
   "outputs": [
    {
     "data": {
      "text/html": [
       "<html><script type=\"math/tex; mode=display\">\\newcommand{\\Bold}[1]{\\mathbf{#1}}\\frac{2 \\, {\\left(s_{4}^{2} s_{6} - s_{3} s_{4} s_{7}\\right)} y_{4}}{s_{7}} = 0</script></html>"
      ],
      "text/latex": [
       "$$\\newcommand{\\Bold}[1]{\\mathbf{#1}}\\frac{2 \\, {\\left(s_{4}^{2} s_{6} - s_{3} s_{4} s_{7}\\right)} y_{4}}{s_{7}} = 0$$"
      ],
      "text/plain": [
       "2*(s4^2*s6 - s3*s4*s7)*y4/s7 == 0"
      ]
     },
     "metadata": {},
     "output_type": "display_data"
    },
    {
     "data": {
      "text/html": [
       "<html><script type=\"math/tex; mode=display\">\\newcommand{\\Bold}[1]{\\mathbf{#1}}-\\frac{s_{0} s_{1} s_{7} y_{3} - {\\left(s_{4}^{2} s_{5} + s_{3} s_{4} s_{6} - {\\left(s_{1}^{2} + s_{3}^{2}\\right)} s_{7}\\right)} y_{4}}{s_{7}} = 0</script></html>"
      ],
      "text/latex": [
       "$$\\newcommand{\\Bold}[1]{\\mathbf{#1}}-\\frac{s_{0} s_{1} s_{7} y_{3} - {\\left(s_{4}^{2} s_{5} + s_{3} s_{4} s_{6} - {\\left(s_{1}^{2} + s_{3}^{2}\\right)} s_{7}\\right)} y_{4}}{s_{7}} = 0$$"
      ],
      "text/plain": [
       "-(s0*s1*s7*y3 - (s4^2*s5 + s3*s4*s6 - (s1^2 + s3^2)*s7)*y4)/s7 == 0"
      ]
     },
     "metadata": {},
     "output_type": "display_data"
    },
    {
     "data": {
      "text/html": [
       "<html><script type=\"math/tex; mode=display\">\\newcommand{\\Bold}[1]{\\mathbf{#1}}0 = 0</script></html>"
      ],
      "text/latex": [
       "$$\\newcommand{\\Bold}[1]{\\mathbf{#1}}0 = 0$$"
      ],
      "text/plain": [
       "0 == 0"
      ]
     },
     "metadata": {},
     "output_type": "display_data"
    },
    {
     "data": {
      "text/html": [
       "<html><script type=\"math/tex; mode=display\">\\newcommand{\\Bold}[1]{\\mathbf{#1}}0 = 0</script></html>"
      ],
      "text/latex": [
       "$$\\newcommand{\\Bold}[1]{\\mathbf{#1}}0 = 0$$"
      ],
      "text/plain": [
       "0 == 0"
      ]
     },
     "metadata": {},
     "output_type": "display_data"
    },
    {
     "data": {
      "text/html": [
       "<html><script type=\"math/tex; mode=display\">\\newcommand{\\Bold}[1]{\\mathbf{#1}}-\\frac{2 \\, {\\left(s_{4}^{2} s_{6} - s_{3} s_{4} s_{7}\\right)} y_{4}}{s_{7}} = 0</script></html>"
      ],
      "text/latex": [
       "$$\\newcommand{\\Bold}[1]{\\mathbf{#1}}-\\frac{2 \\, {\\left(s_{4}^{2} s_{6} - s_{3} s_{4} s_{7}\\right)} y_{4}}{s_{7}} = 0$$"
      ],
      "text/plain": [
       "-2*(s4^2*s6 - s3*s4*s7)*y4/s7 == 0"
      ]
     },
     "metadata": {},
     "output_type": "display_data"
    },
    {
     "data": {
      "text/html": [
       "<html><script type=\"math/tex; mode=display\">\\newcommand{\\Bold}[1]{\\mathbf{#1}}\\frac{s_{0} s_{1} s_{7} y_{3} - {\\left(s_{4}^{2} s_{5} + s_{3} s_{4} s_{6} - {\\left(s_{1}^{2} + s_{3}^{2}\\right)} s_{7}\\right)} y_{4}}{s_{7}} = 0</script></html>"
      ],
      "text/latex": [
       "$$\\newcommand{\\Bold}[1]{\\mathbf{#1}}\\frac{s_{0} s_{1} s_{7} y_{3} - {\\left(s_{4}^{2} s_{5} + s_{3} s_{4} s_{6} - {\\left(s_{1}^{2} + s_{3}^{2}\\right)} s_{7}\\right)} y_{4}}{s_{7}} = 0$$"
      ],
      "text/plain": [
       "(s0*s1*s7*y3 - (s4^2*s5 + s3*s4*s6 - (s1^2 + s3^2)*s7)*y4)/s7 == 0"
      ]
     },
     "metadata": {},
     "output_type": "display_data"
    }
   ],
   "source": [
    "sbst = [y1==0, y5==-(s5*y2+s6*y4)/s7, y6==-((s3*s4-s5*s6)*y2+(s4^2-s6^2+s5*s7)*y4)/s7^2]\n",
    "sbst1 = [s2==0, y2==0]\n",
    "\n",
    "for eq in set(equations):\n",
    "    if eq.left().subs(sbst).subs(sbst1) != 0:\n",
    "        display(eq.subs(sbst).subs(sbst1).simplify_full())"
   ]
  },
  {
   "cell_type": "markdown",
   "metadata": {},
   "source": [
    "Here we have two new subcases according to $s_4 s_6 \\neq s_3 s_7$ or $s_4 s_6 = s_3 s_7$. Equivalently, since $s_4 \\neq 0$ we have the following subcases."
   ]
  },
  {
   "cell_type": "markdown",
   "metadata": {},
   "source": [
    "### Subcase 2.1.1: $s_2=0, s_0\\neq 0, s_{6} \\neq \\frac{s_{3} s_{7}}{s_4}$."
   ]
  },
  {
   "cell_type": "markdown",
   "metadata": {},
   "source": [
    "Here we get $y_4 = 0$."
   ]
  },
  {
   "cell_type": "code",
   "execution_count": 22,
   "metadata": {},
   "outputs": [
    {
     "data": {
      "text/html": [
       "<html><script type=\"math/tex; mode=display\">\\newcommand{\\Bold}[1]{\\mathbf{#1}}-s_{0} s_{1} y_{3} = 0</script></html>"
      ],
      "text/latex": [
       "$$\\newcommand{\\Bold}[1]{\\mathbf{#1}}-s_{0} s_{1} y_{3} = 0$$"
      ],
      "text/plain": [
       "-s0*s1*y3 == 0"
      ]
     },
     "metadata": {},
     "output_type": "display_data"
    },
    {
     "data": {
      "text/html": [
       "<html><script type=\"math/tex; mode=display\">\\newcommand{\\Bold}[1]{\\mathbf{#1}}s_{0} s_{1} y_{3} = 0</script></html>"
      ],
      "text/latex": [
       "$$\\newcommand{\\Bold}[1]{\\mathbf{#1}}s_{0} s_{1} y_{3} = 0$$"
      ],
      "text/plain": [
       "s0*s1*y3 == 0"
      ]
     },
     "metadata": {},
     "output_type": "display_data"
    }
   ],
   "source": [
    "sbst = [y1==0, y5==-(s5*y2+s6*y4)/s7, y6==-((s3*s4-s5*s6)*y2+(s4^2-s6^2+s5*s7)*y4)/s7^2]\n",
    "sbst1 = [s2==0, y2==0, y4==0]\n",
    "\n",
    "for eq in set(equations):\n",
    "    if eq.left().subs(sbst).subs(sbst1) != 0:\n",
    "        display(eq.subs(sbst).subs(sbst1).simplify_full())"
   ]
  },
  {
   "cell_type": "markdown",
   "metadata": {},
   "source": [
    "So $y_3 = 0$ and the index of symmetry is trivial."
   ]
  },
  {
   "cell_type": "code",
   "execution_count": 23,
   "metadata": {},
   "outputs": [],
   "source": [
    "sbst = [y1==0, y5==-(s5*y2+s6*y4)/s7, y6==-((s3*s4-s5*s6)*y2+(s4^2-s6^2+s5*s7)*y4)/s7^2]\n",
    "sbst1 = [s2==0, y2==0, y3==0, y4==0]\n",
    "\n",
    "for eq in set(equations):\n",
    "    if eq.left().subs(sbst).subs(sbst1) != 0:\n",
    "        display(eq.subs(sbst).subs(sbst1).simplify_full())"
   ]
  },
  {
   "cell_type": "code",
   "execution_count": 24,
   "metadata": {},
   "outputs": [
    {
     "data": {
      "text/html": [
       "<html><script type=\"math/tex; mode=display\">\\newcommand{\\Bold}[1]{\\mathbf{#1}}\\left(0,\\,0,\\,0,\\,0,\\,0,\\,0\\right)</script></html>"
      ],
      "text/latex": [
       "$$\\newcommand{\\Bold}[1]{\\mathbf{#1}}\\left(0,\\,0,\\,0,\\,0,\\,0,\\,0\\right)$$"
      ],
      "text/plain": [
       "(0, 0, 0, 0, 0, 0)"
      ]
     },
     "execution_count": 24,
     "metadata": {},
     "output_type": "execute_result"
    }
   ],
   "source": [
    "Y.to_vector().subs(sbst).subs(sbst1).simplify_full()"
   ]
  },
  {
   "cell_type": "markdown",
   "metadata": {},
   "source": [
    "### Subcase 2.1.2: $s_2=0, s_0\\neq 0, s_{6} = \\frac{s_{3} s_{7}}{s_4}$."
   ]
  },
  {
   "cell_type": "code",
   "execution_count": 25,
   "metadata": {},
   "outputs": [
    {
     "data": {
      "text/html": [
       "<html><script type=\"math/tex; mode=display\">\\newcommand{\\Bold}[1]{\\mathbf{#1}}0 = 0</script></html>"
      ],
      "text/latex": [
       "$$\\newcommand{\\Bold}[1]{\\mathbf{#1}}0 = 0$$"
      ],
      "text/plain": [
       "0 == 0"
      ]
     },
     "metadata": {},
     "output_type": "display_data"
    },
    {
     "data": {
      "text/html": [
       "<html><script type=\"math/tex; mode=display\">\\newcommand{\\Bold}[1]{\\mathbf{#1}}-\\frac{s_{0} s_{1} s_{7} y_{3} - {\\left(s_{4}^{2} s_{5} - s_{1}^{2} s_{7}\\right)} y_{4}}{s_{7}} = 0</script></html>"
      ],
      "text/latex": [
       "$$\\newcommand{\\Bold}[1]{\\mathbf{#1}}-\\frac{s_{0} s_{1} s_{7} y_{3} - {\\left(s_{4}^{2} s_{5} - s_{1}^{2} s_{7}\\right)} y_{4}}{s_{7}} = 0$$"
      ],
      "text/plain": [
       "-(s0*s1*s7*y3 - (s4^2*s5 - s1^2*s7)*y4)/s7 == 0"
      ]
     },
     "metadata": {},
     "output_type": "display_data"
    },
    {
     "data": {
      "text/html": [
       "<html><script type=\"math/tex; mode=display\">\\newcommand{\\Bold}[1]{\\mathbf{#1}}0 = 0</script></html>"
      ],
      "text/latex": [
       "$$\\newcommand{\\Bold}[1]{\\mathbf{#1}}0 = 0$$"
      ],
      "text/plain": [
       "0 == 0"
      ]
     },
     "metadata": {},
     "output_type": "display_data"
    },
    {
     "data": {
      "text/html": [
       "<html><script type=\"math/tex; mode=display\">\\newcommand{\\Bold}[1]{\\mathbf{#1}}0 = 0</script></html>"
      ],
      "text/latex": [
       "$$\\newcommand{\\Bold}[1]{\\mathbf{#1}}0 = 0$$"
      ],
      "text/plain": [
       "0 == 0"
      ]
     },
     "metadata": {},
     "output_type": "display_data"
    },
    {
     "data": {
      "text/html": [
       "<html><script type=\"math/tex; mode=display\">\\newcommand{\\Bold}[1]{\\mathbf{#1}}0 = 0</script></html>"
      ],
      "text/latex": [
       "$$\\newcommand{\\Bold}[1]{\\mathbf{#1}}0 = 0$$"
      ],
      "text/plain": [
       "0 == 0"
      ]
     },
     "metadata": {},
     "output_type": "display_data"
    },
    {
     "data": {
      "text/html": [
       "<html><script type=\"math/tex; mode=display\">\\newcommand{\\Bold}[1]{\\mathbf{#1}}\\frac{s_{0} s_{1} s_{7} y_{3} - {\\left(s_{4}^{2} s_{5} - s_{1}^{2} s_{7}\\right)} y_{4}}{s_{7}} = 0</script></html>"
      ],
      "text/latex": [
       "$$\\newcommand{\\Bold}[1]{\\mathbf{#1}}\\frac{s_{0} s_{1} s_{7} y_{3} - {\\left(s_{4}^{2} s_{5} - s_{1}^{2} s_{7}\\right)} y_{4}}{s_{7}} = 0$$"
      ],
      "text/plain": [
       "(s0*s1*s7*y3 - (s4^2*s5 - s1^2*s7)*y4)/s7 == 0"
      ]
     },
     "metadata": {},
     "output_type": "display_data"
    }
   ],
   "source": [
    "sbst = [y1==0, y5==-(s5*y2+s6*y4)/s7, y6==-((s3*s4-s5*s6)*y2+(s4^2-s6^2+s5*s7)*y4)/s7^2]\n",
    "sbst1 = [s2==0, y2==0, s6==s3*s7/s4]\n",
    "\n",
    "for eq in set(equations):\n",
    "    if eq.left().subs(sbst).subs(sbst1) != 0:\n",
    "        display(eq.subs(sbst).subs(sbst1).simplify_full())"
   ]
  },
  {
   "cell_type": "markdown",
   "metadata": {},
   "source": [
    "Here, we get $\\displaystyle y_{3} = \\frac{{\\left(s_{4}^{2} s_{5} - s_{1}^{2} s_{7}\\right)} y_{4}}{s_{0} s_{1} s_{7}}$."
   ]
  },
  {
   "cell_type": "code",
   "execution_count": 26,
   "metadata": {},
   "outputs": [
    {
     "data": {
      "text/html": [
       "<html><script type=\"math/tex; mode=display\">\\newcommand{\\Bold}[1]{\\mathbf{#1}}0 = 0</script></html>"
      ],
      "text/latex": [
       "$$\\newcommand{\\Bold}[1]{\\mathbf{#1}}0 = 0$$"
      ],
      "text/plain": [
       "0 == 0"
      ]
     },
     "metadata": {},
     "output_type": "display_data"
    },
    {
     "data": {
      "text/html": [
       "<html><script type=\"math/tex; mode=display\">\\newcommand{\\Bold}[1]{\\mathbf{#1}}0 = 0</script></html>"
      ],
      "text/latex": [
       "$$\\newcommand{\\Bold}[1]{\\mathbf{#1}}0 = 0$$"
      ],
      "text/plain": [
       "0 == 0"
      ]
     },
     "metadata": {},
     "output_type": "display_data"
    },
    {
     "data": {
      "text/html": [
       "<html><script type=\"math/tex; mode=display\">\\newcommand{\\Bold}[1]{\\mathbf{#1}}0 = 0</script></html>"
      ],
      "text/latex": [
       "$$\\newcommand{\\Bold}[1]{\\mathbf{#1}}0 = 0$$"
      ],
      "text/plain": [
       "0 == 0"
      ]
     },
     "metadata": {},
     "output_type": "display_data"
    },
    {
     "data": {
      "text/html": [
       "<html><script type=\"math/tex; mode=display\">\\newcommand{\\Bold}[1]{\\mathbf{#1}}0 = 0</script></html>"
      ],
      "text/latex": [
       "$$\\newcommand{\\Bold}[1]{\\mathbf{#1}}0 = 0$$"
      ],
      "text/plain": [
       "0 == 0"
      ]
     },
     "metadata": {},
     "output_type": "display_data"
    },
    {
     "data": {
      "text/html": [
       "<html><script type=\"math/tex; mode=display\">\\newcommand{\\Bold}[1]{\\mathbf{#1}}0 = 0</script></html>"
      ],
      "text/latex": [
       "$$\\newcommand{\\Bold}[1]{\\mathbf{#1}}0 = 0$$"
      ],
      "text/plain": [
       "0 == 0"
      ]
     },
     "metadata": {},
     "output_type": "display_data"
    },
    {
     "data": {
      "text/html": [
       "<html><script type=\"math/tex; mode=display\">\\newcommand{\\Bold}[1]{\\mathbf{#1}}0 = 0</script></html>"
      ],
      "text/latex": [
       "$$\\newcommand{\\Bold}[1]{\\mathbf{#1}}0 = 0$$"
      ],
      "text/plain": [
       "0 == 0"
      ]
     },
     "metadata": {},
     "output_type": "display_data"
    }
   ],
   "source": [
    "sbst = [y1==0, y5==-(s5*y2+s6*y4)/s7, y6==-((s3*s4-s5*s6)*y2+(s4^2-s6^2+s5*s7)*y4)/s7^2]\n",
    "sbst1 = [s2==0, y2==0, s6==s3*s7/s4 ,y3==(s4^2*s5-s1^2*s7)*y4/(s0*s1*s7)]\n",
    "\n",
    "for eq in set(equations):\n",
    "    if eq.left().subs(sbst).subs(sbst1) != 0:\n",
    "        display(eq.subs(sbst).subs(sbst1).simplify_full())"
   ]
  },
  {
   "cell_type": "markdown",
   "metadata": {},
   "source": [
    "In this case the index of symmetry is $1$ and the distribution of symmetry is generated by the following left-invariant fields:"
   ]
  },
  {
   "cell_type": "code",
   "execution_count": 27,
   "metadata": {},
   "outputs": [
    {
     "data": {
      "text/html": [
       "<html><script type=\"math/tex; mode=display\">\\newcommand{\\Bold}[1]{\\mathbf{#1}}\\left(0,\\,0,\\,\\frac{s_{4}^{2} s_{5} - s_{1}^{2} s_{7}}{s_{0} s_{1} s_{7}},\\,1,\\,-\\frac{s_{3}}{s_{4}},\\,-\\frac{s_{4}^{4} + s_{4}^{2} s_{5} s_{7} - s_{3}^{2} s_{7}^{2}}{s_{4}^{2} s_{7}^{2}}\\right)</script></html>"
      ],
      "text/latex": [
       "$$\\newcommand{\\Bold}[1]{\\mathbf{#1}}\\left(0,\\,0,\\,\\frac{s_{4}^{2} s_{5} - s_{1}^{2} s_{7}}{s_{0} s_{1} s_{7}},\\,1,\\,-\\frac{s_{3}}{s_{4}},\\,-\\frac{s_{4}^{4} + s_{4}^{2} s_{5} s_{7} - s_{3}^{2} s_{7}^{2}}{s_{4}^{2} s_{7}^{2}}\\right)$$"
      ],
      "text/plain": [
       "(0, 0, (s4^2*s5 - s1^2*s7)/(s0*s1*s7), 1, -s3/s4, -(s4^4 + s4^2*s5*s7 - s3^2*s7^2)/(s4^2*s7^2))"
      ]
     },
     "execution_count": 27,
     "metadata": {},
     "output_type": "execute_result"
    }
   ],
   "source": [
    "Y.to_vector().subs(sbst).subs(sbst1).subs(y4=1).simplify_full()"
   ]
  },
  {
   "cell_type": "markdown",
   "metadata": {},
   "source": [
    "Notice that the distribution of symmetry is not contained in the center of the Lie algebra."
   ]
  },
  {
   "cell_type": "markdown",
   "metadata": {},
   "source": [
    "### Subcase 2.2: $s_2=0, s_0 = 0$."
   ]
  },
  {
   "cell_type": "code",
   "execution_count": 28,
   "metadata": {},
   "outputs": [
    {
     "data": {
      "text/html": [
       "<html><script type=\"math/tex; mode=display\">\\newcommand{\\Bold}[1]{\\mathbf{#1}}\\frac{{\\left(s_{4}^{2} s_{5} + s_{3} s_{4} s_{6} - {\\left(s_{1}^{2} + s_{3}^{2}\\right)} s_{7}\\right)} y_{2} + 2 \\, {\\left(s_{4}^{2} s_{6} - s_{3} s_{4} s_{7}\\right)} y_{4}}{s_{7}} = 0</script></html>"
      ],
      "text/latex": [
       "$$\\newcommand{\\Bold}[1]{\\mathbf{#1}}\\frac{{\\left(s_{4}^{2} s_{5} + s_{3} s_{4} s_{6} - {\\left(s_{1}^{2} + s_{3}^{2}\\right)} s_{7}\\right)} y_{2} + 2 \\, {\\left(s_{4}^{2} s_{6} - s_{3} s_{4} s_{7}\\right)} y_{4}}{s_{7}} = 0$$"
      ],
      "text/plain": [
       "((s4^2*s5 + s3*s4*s6 - (s1^2 + s3^2)*s7)*y2 + 2*(s4^2*s6 - s3*s4*s7)*y4)/s7 == 0"
      ]
     },
     "metadata": {},
     "output_type": "display_data"
    },
    {
     "data": {
      "text/html": [
       "<html><script type=\"math/tex; mode=display\">\\newcommand{\\Bold}[1]{\\mathbf{#1}}\\frac{2 \\, s_{3} s_{4} s_{5} y_{2} + {\\left(s_{4}^{2} s_{5} + s_{3} s_{4} s_{6} - {\\left(s_{1}^{2} + s_{3}^{2}\\right)} s_{7}\\right)} y_{4}}{s_{7}} = 0</script></html>"
      ],
      "text/latex": [
       "$$\\newcommand{\\Bold}[1]{\\mathbf{#1}}\\frac{2 \\, s_{3} s_{4} s_{5} y_{2} + {\\left(s_{4}^{2} s_{5} + s_{3} s_{4} s_{6} - {\\left(s_{1}^{2} + s_{3}^{2}\\right)} s_{7}\\right)} y_{4}}{s_{7}} = 0$$"
      ],
      "text/plain": [
       "(2*s3*s4*s5*y2 + (s4^2*s5 + s3*s4*s6 - (s1^2 + s3^2)*s7)*y4)/s7 == 0"
      ]
     },
     "metadata": {},
     "output_type": "display_data"
    },
    {
     "data": {
      "text/html": [
       "<html><script type=\"math/tex; mode=display\">\\newcommand{\\Bold}[1]{\\mathbf{#1}}0 = 0</script></html>"
      ],
      "text/latex": [
       "$$\\newcommand{\\Bold}[1]{\\mathbf{#1}}0 = 0$$"
      ],
      "text/plain": [
       "0 == 0"
      ]
     },
     "metadata": {},
     "output_type": "display_data"
    },
    {
     "data": {
      "text/html": [
       "<html><script type=\"math/tex; mode=display\">\\newcommand{\\Bold}[1]{\\mathbf{#1}}0 = 0</script></html>"
      ],
      "text/latex": [
       "$$\\newcommand{\\Bold}[1]{\\mathbf{#1}}0 = 0$$"
      ],
      "text/plain": [
       "0 == 0"
      ]
     },
     "metadata": {},
     "output_type": "display_data"
    },
    {
     "data": {
      "text/html": [
       "<html><script type=\"math/tex; mode=display\">\\newcommand{\\Bold}[1]{\\mathbf{#1}}0 = 0</script></html>"
      ],
      "text/latex": [
       "$$\\newcommand{\\Bold}[1]{\\mathbf{#1}}0 = 0$$"
      ],
      "text/plain": [
       "0 == 0"
      ]
     },
     "metadata": {},
     "output_type": "display_data"
    },
    {
     "data": {
      "text/html": [
       "<html><script type=\"math/tex; mode=display\">\\newcommand{\\Bold}[1]{\\mathbf{#1}}-\\frac{{\\left(s_{4}^{2} s_{5} + s_{3} s_{4} s_{6} - {\\left(s_{1}^{2} + s_{3}^{2}\\right)} s_{7}\\right)} y_{2} + 2 \\, {\\left(s_{4}^{2} s_{6} - s_{3} s_{4} s_{7}\\right)} y_{4}}{s_{7}} = 0</script></html>"
      ],
      "text/latex": [
       "$$\\newcommand{\\Bold}[1]{\\mathbf{#1}}-\\frac{{\\left(s_{4}^{2} s_{5} + s_{3} s_{4} s_{6} - {\\left(s_{1}^{2} + s_{3}^{2}\\right)} s_{7}\\right)} y_{2} + 2 \\, {\\left(s_{4}^{2} s_{6} - s_{3} s_{4} s_{7}\\right)} y_{4}}{s_{7}} = 0$$"
      ],
      "text/plain": [
       "-((s4^2*s5 + s3*s4*s6 - (s1^2 + s3^2)*s7)*y2 + 2*(s4^2*s6 - s3*s4*s7)*y4)/s7 == 0"
      ]
     },
     "metadata": {},
     "output_type": "display_data"
    },
    {
     "data": {
      "text/html": [
       "<html><script type=\"math/tex; mode=display\">\\newcommand{\\Bold}[1]{\\mathbf{#1}}0 = 0</script></html>"
      ],
      "text/latex": [
       "$$\\newcommand{\\Bold}[1]{\\mathbf{#1}}0 = 0$$"
      ],
      "text/plain": [
       "0 == 0"
      ]
     },
     "metadata": {},
     "output_type": "display_data"
    },
    {
     "data": {
      "text/html": [
       "<html><script type=\"math/tex; mode=display\">\\newcommand{\\Bold}[1]{\\mathbf{#1}}-\\frac{2 \\, s_{3} s_{4} s_{5} y_{2} + {\\left(s_{4}^{2} s_{5} + s_{3} s_{4} s_{6} - {\\left(s_{1}^{2} + s_{3}^{2}\\right)} s_{7}\\right)} y_{4}}{s_{7}} = 0</script></html>"
      ],
      "text/latex": [
       "$$\\newcommand{\\Bold}[1]{\\mathbf{#1}}-\\frac{2 \\, s_{3} s_{4} s_{5} y_{2} + {\\left(s_{4}^{2} s_{5} + s_{3} s_{4} s_{6} - {\\left(s_{1}^{2} + s_{3}^{2}\\right)} s_{7}\\right)} y_{4}}{s_{7}} = 0$$"
      ],
      "text/plain": [
       "-(2*s3*s4*s5*y2 + (s4^2*s5 + s3*s4*s6 - (s1^2 + s3^2)*s7)*y4)/s7 == 0"
      ]
     },
     "metadata": {},
     "output_type": "display_data"
    }
   ],
   "source": [
    "sbst = [y1==0, y5==-(s5*y2+s6*y4)/s7, y6==-((s3*s4-s5*s6)*y2+(s4^2-s6^2+s5*s7)*y4)/s7^2]\n",
    "sbst1 = [s2==0, s0==0]\n",
    "\n",
    "for eq in set(equations):\n",
    "    if eq.left().subs(sbst).subs(sbst1) != 0:\n",
    "        display(eq.subs(sbst).subs(sbst1).simplify_full())"
   ]
  },
  {
   "cell_type": "markdown",
   "metadata": {},
   "source": [
    "We have two subcases again, according to $s_4 s_6 \\neq s_3 s_7$ or $s_4 s_6 = s_3 s_7$."
   ]
  },
  {
   "cell_type": "markdown",
   "metadata": {},
   "source": [
    "### Subcase 2.2.1:  $s_2=0, s_0 = 0, s_6 \\neq \\frac{s_3 s_7}{s_4}$."
   ]
  },
  {
   "cell_type": "code",
   "execution_count": 29,
   "metadata": {},
   "outputs": [
    {
     "data": {
      "text/html": [
       "<html><script type=\"math/tex; mode=display\">\\newcommand{\\Bold}[1]{\\mathbf{#1}}0 = 0</script></html>"
      ],
      "text/latex": [
       "$$\\newcommand{\\Bold}[1]{\\mathbf{#1}}0 = 0$$"
      ],
      "text/plain": [
       "0 == 0"
      ]
     },
     "metadata": {},
     "output_type": "display_data"
    },
    {
     "data": {
      "text/html": [
       "<html><script type=\"math/tex; mode=display\">\\newcommand{\\Bold}[1]{\\mathbf{#1}}-\\frac{{\\left(s_{4}^{4} s_{5}^{2} - 2 \\, s_{3} s_{4}^{3} s_{5} s_{6} + s_{3}^{2} s_{4}^{2} s_{6}^{2} + {\\left(s_{1}^{4} + 2 \\, s_{1}^{2} s_{3}^{2} + s_{3}^{4}\\right)} s_{7}^{2} - 2 \\, {\\left({\\left(s_{1}^{2} - s_{3}^{2}\\right)} s_{4}^{2} s_{5} + {\\left(s_{1}^{2} s_{3} + s_{3}^{3}\\right)} s_{4} s_{6}\\right)} s_{7}\\right)} y_{2}}{2 \\, {\\left(s_{4}^{2} s_{6} s_{7} - s_{3} s_{4} s_{7}^{2}\\right)}} = 0</script></html>"
      ],
      "text/latex": [
       "$$\\newcommand{\\Bold}[1]{\\mathbf{#1}}-\\frac{{\\left(s_{4}^{4} s_{5}^{2} - 2 \\, s_{3} s_{4}^{3} s_{5} s_{6} + s_{3}^{2} s_{4}^{2} s_{6}^{2} + {\\left(s_{1}^{4} + 2 \\, s_{1}^{2} s_{3}^{2} + s_{3}^{4}\\right)} s_{7}^{2} - 2 \\, {\\left({\\left(s_{1}^{2} - s_{3}^{2}\\right)} s_{4}^{2} s_{5} + {\\left(s_{1}^{2} s_{3} + s_{3}^{3}\\right)} s_{4} s_{6}\\right)} s_{7}\\right)} y_{2}}{2 \\, {\\left(s_{4}^{2} s_{6} s_{7} - s_{3} s_{4} s_{7}^{2}\\right)}} = 0$$"
      ],
      "text/plain": [
       "-1/2*(s4^4*s5^2 - 2*s3*s4^3*s5*s6 + s3^2*s4^2*s6^2 + (s1^4 + 2*s1^2*s3^2 + s3^4)*s7^2 - 2*((s1^2 - s3^2)*s4^2*s5 + (s1^2*s3 + s3^3)*s4*s6)*s7)*y2/(s4^2*s6*s7 - s3*s4*s7^2) == 0"
      ]
     },
     "metadata": {},
     "output_type": "display_data"
    },
    {
     "data": {
      "text/html": [
       "<html><script type=\"math/tex; mode=display\">\\newcommand{\\Bold}[1]{\\mathbf{#1}}0 = 0</script></html>"
      ],
      "text/latex": [
       "$$\\newcommand{\\Bold}[1]{\\mathbf{#1}}0 = 0$$"
      ],
      "text/plain": [
       "0 == 0"
      ]
     },
     "metadata": {},
     "output_type": "display_data"
    },
    {
     "data": {
      "text/html": [
       "<html><script type=\"math/tex; mode=display\">\\newcommand{\\Bold}[1]{\\mathbf{#1}}0 = 0</script></html>"
      ],
      "text/latex": [
       "$$\\newcommand{\\Bold}[1]{\\mathbf{#1}}0 = 0$$"
      ],
      "text/plain": [
       "0 == 0"
      ]
     },
     "metadata": {},
     "output_type": "display_data"
    },
    {
     "data": {
      "text/html": [
       "<html><script type=\"math/tex; mode=display\">\\newcommand{\\Bold}[1]{\\mathbf{#1}}0 = 0</script></html>"
      ],
      "text/latex": [
       "$$\\newcommand{\\Bold}[1]{\\mathbf{#1}}0 = 0$$"
      ],
      "text/plain": [
       "0 == 0"
      ]
     },
     "metadata": {},
     "output_type": "display_data"
    },
    {
     "data": {
      "text/html": [
       "<html><script type=\"math/tex; mode=display\">\\newcommand{\\Bold}[1]{\\mathbf{#1}}0 = 0</script></html>"
      ],
      "text/latex": [
       "$$\\newcommand{\\Bold}[1]{\\mathbf{#1}}0 = 0$$"
      ],
      "text/plain": [
       "0 == 0"
      ]
     },
     "metadata": {},
     "output_type": "display_data"
    },
    {
     "data": {
      "text/html": [
       "<html><script type=\"math/tex; mode=display\">\\newcommand{\\Bold}[1]{\\mathbf{#1}}0 = 0</script></html>"
      ],
      "text/latex": [
       "$$\\newcommand{\\Bold}[1]{\\mathbf{#1}}0 = 0$$"
      ],
      "text/plain": [
       "0 == 0"
      ]
     },
     "metadata": {},
     "output_type": "display_data"
    },
    {
     "data": {
      "text/html": [
       "<html><script type=\"math/tex; mode=display\">\\newcommand{\\Bold}[1]{\\mathbf{#1}}\\frac{{\\left(s_{4}^{4} s_{5}^{2} - 2 \\, s_{3} s_{4}^{3} s_{5} s_{6} + s_{3}^{2} s_{4}^{2} s_{6}^{2} + {\\left(s_{1}^{4} + 2 \\, s_{1}^{2} s_{3}^{2} + s_{3}^{4}\\right)} s_{7}^{2} - 2 \\, {\\left({\\left(s_{1}^{2} - s_{3}^{2}\\right)} s_{4}^{2} s_{5} + {\\left(s_{1}^{2} s_{3} + s_{3}^{3}\\right)} s_{4} s_{6}\\right)} s_{7}\\right)} y_{2}}{2 \\, {\\left(s_{4}^{2} s_{6} s_{7} - s_{3} s_{4} s_{7}^{2}\\right)}} = 0</script></html>"
      ],
      "text/latex": [
       "$$\\newcommand{\\Bold}[1]{\\mathbf{#1}}\\frac{{\\left(s_{4}^{4} s_{5}^{2} - 2 \\, s_{3} s_{4}^{3} s_{5} s_{6} + s_{3}^{2} s_{4}^{2} s_{6}^{2} + {\\left(s_{1}^{4} + 2 \\, s_{1}^{2} s_{3}^{2} + s_{3}^{4}\\right)} s_{7}^{2} - 2 \\, {\\left({\\left(s_{1}^{2} - s_{3}^{2}\\right)} s_{4}^{2} s_{5} + {\\left(s_{1}^{2} s_{3} + s_{3}^{3}\\right)} s_{4} s_{6}\\right)} s_{7}\\right)} y_{2}}{2 \\, {\\left(s_{4}^{2} s_{6} s_{7} - s_{3} s_{4} s_{7}^{2}\\right)}} = 0$$"
      ],
      "text/plain": [
       "1/2*(s4^4*s5^2 - 2*s3*s4^3*s5*s6 + s3^2*s4^2*s6^2 + (s1^4 + 2*s1^2*s3^2 + s3^4)*s7^2 - 2*((s1^2 - s3^2)*s4^2*s5 + (s1^2*s3 + s3^3)*s4*s6)*s7)*y2/(s4^2*s6*s7 - s3*s4*s7^2) == 0"
      ]
     },
     "metadata": {},
     "output_type": "display_data"
    }
   ],
   "source": [
    "sbst = [y1==0, y5==-(s5*y2+s6*y4)/s7, y6==-((s3*s4-s5*s6)*y2+(s4^2-s6^2+s5*s7)*y4)/s7^2]\n",
    "sbst1 = [s2==0, s0==0, y4==-1/2*(s4^2*s5+s3*s4*s6-(s1^2+s3^2)*s7)*y2/(s4^2*s6-s3*s4*s7)]\n",
    "\n",
    "for eq in set(equations):\n",
    "    if eq.left().subs(sbst).subs(sbst1) != 0:\n",
    "        display(eq.subs(sbst).subs(sbst1).simplify_full())"
   ]
  },
  {
   "cell_type": "markdown",
   "metadata": {},
   "source": [
    "As in a previous case, the index of symmetry is non-trivial if and only if the metric $g$ belong to a certain hypersurface. More precisely, if \n",
    "$$\n",
    "0 = F(g) = s_{4}^{4} s_{5}^{2} - 2 \\, s_{3} s_{4}^{3} s_{5} s_{6} + s_{3}^{2} s_{4}^{2} s_{6}^{2} + {\\left(s_{1}^{4} + 2 \\, s_{1}^{2} s_{3}^{2} + s_{3}^{4}\\right)} s_{7}^{2} - 2 \\, {\\left({\\left(s_{1}^{2} - s_{3}^{2}\\right)} s_{4}^{2} s_{5} + {\\left(s_{1}^{2} s_{3} + s_{3}^{3}\\right)} s_{4} s_{6}\\right)} s_{7} \\qquad(**)\n",
    "$$\n",
    "\n",
    "Let us check that $(**)$ defines a regular hypersurface in the moduli spaces of left-invariant metrics. In fact, assume $\\operatorname{grad} F = 0$."
   ]
  },
  {
   "cell_type": "code",
   "execution_count": 30,
   "metadata": {},
   "outputs": [
    {
     "data": {
      "text/html": [
       "<html><script type=\"math/tex; mode=display\">\\newcommand{\\Bold}[1]{\\mathbf{#1}}4 \\, {\\left(s_{1}^{3} + s_{1} s_{3}^{2}\\right)} s_{7}^{2} - 4 \\, {\\left(s_{1} s_{4}^{2} s_{5} + s_{1} s_{3} s_{4} s_{6}\\right)} s_{7} = 0</script></html>"
      ],
      "text/latex": [
       "$$\\newcommand{\\Bold}[1]{\\mathbf{#1}}4 \\, {\\left(s_{1}^{3} + s_{1} s_{3}^{2}\\right)} s_{7}^{2} - 4 \\, {\\left(s_{1} s_{4}^{2} s_{5} + s_{1} s_{3} s_{4} s_{6}\\right)} s_{7} = 0$$"
      ],
      "text/plain": [
       "4*(s1^3 + s1*s3^2)*s7^2 - 4*(s1*s4^2*s5 + s1*s3*s4*s6)*s7 == 0"
      ]
     },
     "metadata": {},
     "output_type": "display_data"
    },
    {
     "data": {
      "text/html": [
       "<html><script type=\"math/tex; mode=display\">\\newcommand{\\Bold}[1]{\\mathbf{#1}}-2 \\, s_{4}^{3} s_{5} s_{6} + 2 \\, s_{3} s_{4}^{2} s_{6}^{2} + 4 \\, {\\left(s_{1}^{2} s_{3} + s_{3}^{3}\\right)} s_{7}^{2} + 2 \\, {\\left(2 \\, s_{3} s_{4}^{2} s_{5} - {\\left(s_{1}^{2} + 3 \\, s_{3}^{2}\\right)} s_{4} s_{6}\\right)} s_{7} = 0</script></html>"
      ],
      "text/latex": [
       "$$\\newcommand{\\Bold}[1]{\\mathbf{#1}}-2 \\, s_{4}^{3} s_{5} s_{6} + 2 \\, s_{3} s_{4}^{2} s_{6}^{2} + 4 \\, {\\left(s_{1}^{2} s_{3} + s_{3}^{3}\\right)} s_{7}^{2} + 2 \\, {\\left(2 \\, s_{3} s_{4}^{2} s_{5} - {\\left(s_{1}^{2} + 3 \\, s_{3}^{2}\\right)} s_{4} s_{6}\\right)} s_{7} = 0$$"
      ],
      "text/plain": [
       "-2*s4^3*s5*s6 + 2*s3*s4^2*s6^2 + 4*(s1^2*s3 + s3^3)*s7^2 + 2*(2*s3*s4^2*s5 - (s1^2 + 3*s3^2)*s4*s6)*s7 == 0"
      ]
     },
     "metadata": {},
     "output_type": "display_data"
    },
    {
     "data": {
      "text/html": [
       "<html><script type=\"math/tex; mode=display\">\\newcommand{\\Bold}[1]{\\mathbf{#1}}4 \\, s_{4}^{3} s_{5}^{2} - 6 \\, s_{3} s_{4}^{2} s_{5} s_{6} + 2 \\, s_{3}^{2} s_{4} s_{6}^{2} - 2 \\, {\\left(2 \\, {\\left(s_{1}^{2} - s_{3}^{2}\\right)} s_{4} s_{5} + {\\left(s_{1}^{2} s_{3} + s_{3}^{3}\\right)} s_{6}\\right)} s_{7} = 0</script></html>"
      ],
      "text/latex": [
       "$$\\newcommand{\\Bold}[1]{\\mathbf{#1}}4 \\, s_{4}^{3} s_{5}^{2} - 6 \\, s_{3} s_{4}^{2} s_{5} s_{6} + 2 \\, s_{3}^{2} s_{4} s_{6}^{2} - 2 \\, {\\left(2 \\, {\\left(s_{1}^{2} - s_{3}^{2}\\right)} s_{4} s_{5} + {\\left(s_{1}^{2} s_{3} + s_{3}^{3}\\right)} s_{6}\\right)} s_{7} = 0$$"
      ],
      "text/plain": [
       "4*s4^3*s5^2 - 6*s3*s4^2*s5*s6 + 2*s3^2*s4*s6^2 - 2*(2*(s1^2 - s3^2)*s4*s5 + (s1^2*s3 + s3^3)*s6)*s7 == 0"
      ]
     },
     "metadata": {},
     "output_type": "display_data"
    },
    {
     "data": {
      "text/html": [
       "<html><script type=\"math/tex; mode=display\">\\newcommand{\\Bold}[1]{\\mathbf{#1}}2 \\, s_{4}^{4} s_{5} - 2 \\, s_{3} s_{4}^{3} s_{6} - 2 \\, {\\left(s_{1}^{2} - s_{3}^{2}\\right)} s_{4}^{2} s_{7} = 0</script></html>"
      ],
      "text/latex": [
       "$$\\newcommand{\\Bold}[1]{\\mathbf{#1}}2 \\, s_{4}^{4} s_{5} - 2 \\, s_{3} s_{4}^{3} s_{6} - 2 \\, {\\left(s_{1}^{2} - s_{3}^{2}\\right)} s_{4}^{2} s_{7} = 0$$"
      ],
      "text/plain": [
       "2*s4^4*s5 - 2*s3*s4^3*s6 - 2*(s1^2 - s3^2)*s4^2*s7 == 0"
      ]
     },
     "metadata": {},
     "output_type": "display_data"
    },
    {
     "data": {
      "text/html": [
       "<html><script type=\"math/tex; mode=display\">\\newcommand{\\Bold}[1]{\\mathbf{#1}}-2 \\, s_{3} s_{4}^{3} s_{5} + 2 \\, s_{3}^{2} s_{4}^{2} s_{6} - 2 \\, {\\left(s_{1}^{2} s_{3} + s_{3}^{3}\\right)} s_{4} s_{7} = 0</script></html>"
      ],
      "text/latex": [
       "$$\\newcommand{\\Bold}[1]{\\mathbf{#1}}-2 \\, s_{3} s_{4}^{3} s_{5} + 2 \\, s_{3}^{2} s_{4}^{2} s_{6} - 2 \\, {\\left(s_{1}^{2} s_{3} + s_{3}^{3}\\right)} s_{4} s_{7} = 0$$"
      ],
      "text/plain": [
       "-2*s3*s4^3*s5 + 2*s3^2*s4^2*s6 - 2*(s1^2*s3 + s3^3)*s4*s7 == 0"
      ]
     },
     "metadata": {},
     "output_type": "display_data"
    },
    {
     "data": {
      "text/html": [
       "<html><script type=\"math/tex; mode=display\">\\newcommand{\\Bold}[1]{\\mathbf{#1}}-2 \\, {\\left(s_{1}^{2} - s_{3}^{2}\\right)} s_{4}^{2} s_{5} - 2 \\, {\\left(s_{1}^{2} s_{3} + s_{3}^{3}\\right)} s_{4} s_{6} + 2 \\, {\\left(s_{1}^{4} + 2 \\, s_{1}^{2} s_{3}^{2} + s_{3}^{4}\\right)} s_{7} = 0</script></html>"
      ],
      "text/latex": [
       "$$\\newcommand{\\Bold}[1]{\\mathbf{#1}}-2 \\, {\\left(s_{1}^{2} - s_{3}^{2}\\right)} s_{4}^{2} s_{5} - 2 \\, {\\left(s_{1}^{2} s_{3} + s_{3}^{3}\\right)} s_{4} s_{6} + 2 \\, {\\left(s_{1}^{4} + 2 \\, s_{1}^{2} s_{3}^{2} + s_{3}^{4}\\right)} s_{7} = 0$$"
      ],
      "text/plain": [
       "-2*(s1^2 - s3^2)*s4^2*s5 - 2*(s1^2*s3 + s3^3)*s4*s6 + 2*(s1^4 + 2*s1^2*s3^2 + s3^4)*s7 == 0"
      ]
     },
     "metadata": {},
     "output_type": "display_data"
    }
   ],
   "source": [
    "F = (s4^4*s5^2 - 2*s3*s4^3*s5*s6 + s3^2*s4^2*s6^2 + (s1^4 + 2*s1^2*s3^2 + s3^4)*s7^2 - 2*((s1^2 - s3^2)*s4^2*s5 + (s1^2*s3 + s3^3)*s4*s6)*s7)\n",
    "for comp in F.gradient():\n",
    "    display(comp.simplify_full()==0)"
   ]
  },
  {
   "cell_type": "markdown",
   "metadata": {},
   "source": [
    "Let us call `eq1` and `eq4` the first and fourth equations above."
   ]
  },
  {
   "cell_type": "code",
   "execution_count": 31,
   "metadata": {},
   "outputs": [],
   "source": [
    "eq1 = 4*(s1^3 + s1*s3^2)*s7^2 - 4*(s1*s4^2*s5 + s1*s3*s4*s6)*s7 \n",
    "eq4 = 2*s4^4*s5 - 2*s3*s4^3*s6 - 2*(s1^2 - s3^2)*s4^2*s7"
   ]
  },
  {
   "cell_type": "markdown",
   "metadata": {},
   "source": [
    "Since $s_1$ and $s_7$ are different from $0$, we can rewrite `eq1` as"
   ]
  },
  {
   "cell_type": "code",
   "execution_count": 32,
   "metadata": {},
   "outputs": [
    {
     "data": {
      "text/html": [
       "<html><script type=\"math/tex; mode=display\">\\newcommand{\\Bold}[1]{\\mathbf{#1}}-2 \\, s_{4}^{4} s_{5} - 2 \\, s_{3} s_{4}^{3} s_{6} + 2 \\, {\\left(s_{1}^{2} + s_{3}^{2}\\right)} s_{4}^{2} s_{7}</script></html>"
      ],
      "text/latex": [
       "$$\\newcommand{\\Bold}[1]{\\mathbf{#1}}-2 \\, s_{4}^{4} s_{5} - 2 \\, s_{3} s_{4}^{3} s_{6} + 2 \\, {\\left(s_{1}^{2} + s_{3}^{2}\\right)} s_{4}^{2} s_{7}$$"
      ],
      "text/plain": [
       "-2*s4^4*s5 - 2*s3*s4^3*s6 + 2*(s1^2 + s3^2)*s4^2*s7"
      ]
     },
     "execution_count": 32,
     "metadata": {},
     "output_type": "execute_result"
    }
   ],
   "source": [
    "eq1 = (s4^2 * eq1 / (2 * s1 * s7)).simplify_full()\n",
    "eq1"
   ]
  },
  {
   "cell_type": "markdown",
   "metadata": {},
   "source": [
    "Now, adding this new `eq1` to `eq4` we get "
   ]
  },
  {
   "cell_type": "code",
   "execution_count": 33,
   "metadata": {},
   "outputs": [
    {
     "data": {
      "text/html": [
       "<html><script type=\"math/tex; mode=display\">\\newcommand{\\Bold}[1]{\\mathbf{#1}}-4 \\, {\\left(s_{4} s_{6} - s_{3} s_{7}\\right)} s_{3} s_{4}^{2} = 0</script></html>"
      ],
      "text/latex": [
       "$$\\newcommand{\\Bold}[1]{\\mathbf{#1}}-4 \\, {\\left(s_{4} s_{6} - s_{3} s_{7}\\right)} s_{3} s_{4}^{2} = 0$$"
      ],
      "text/plain": [
       "-4*(s4*s6 - s3*s7)*s3*s4^2 == 0"
      ]
     },
     "execution_count": 33,
     "metadata": {},
     "output_type": "execute_result"
    }
   ],
   "source": [
    "(eq1 + eq4).factor() == 0"
   ]
  },
  {
   "cell_type": "markdown",
   "metadata": {},
   "source": [
    "This only holds if $s_6 = s_3 s_7 / s_4$, which is not allowed in this subcase, or if $s_3 = 0$. In this case"
   ]
  },
  {
   "cell_type": "code",
   "execution_count": 34,
   "metadata": {},
   "outputs": [
    {
     "data": {
      "text/html": [
       "<html><script type=\"math/tex; mode=display\">\\newcommand{\\Bold}[1]{\\mathbf{#1}}-4 \\, {\\left(s_{4}^{2} s_{5} - s_{1}^{2} s_{7}\\right)} s_{1} s_{7}</script></html>"
      ],
      "text/latex": [
       "$$\\newcommand{\\Bold}[1]{\\mathbf{#1}}-4 \\, {\\left(s_{4}^{2} s_{5} - s_{1}^{2} s_{7}\\right)} s_{1} s_{7}$$"
      ],
      "text/plain": [
       "-4*(s4^2*s5 - s1^2*s7)*s1*s7"
      ]
     },
     "metadata": {},
     "output_type": "display_data"
    },
    {
     "data": {
      "text/html": [
       "<html><script type=\"math/tex; mode=display\">\\newcommand{\\Bold}[1]{\\mathbf{#1}}-2 \\, {\\left(s_{4}^{2} s_{5} + s_{1}^{2} s_{7}\\right)} s_{4} s_{6}</script></html>"
      ],
      "text/latex": [
       "$$\\newcommand{\\Bold}[1]{\\mathbf{#1}}-2 \\, {\\left(s_{4}^{2} s_{5} + s_{1}^{2} s_{7}\\right)} s_{4} s_{6}$$"
      ],
      "text/plain": [
       "-2*(s4^2*s5 + s1^2*s7)*s4*s6"
      ]
     },
     "metadata": {},
     "output_type": "display_data"
    },
    {
     "data": {
      "text/html": [
       "<html><script type=\"math/tex; mode=display\">\\newcommand{\\Bold}[1]{\\mathbf{#1}}4 \\, {\\left(s_{4}^{2} s_{5} - s_{1}^{2} s_{7}\\right)} s_{4} s_{5}</script></html>"
      ],
      "text/latex": [
       "$$\\newcommand{\\Bold}[1]{\\mathbf{#1}}4 \\, {\\left(s_{4}^{2} s_{5} - s_{1}^{2} s_{7}\\right)} s_{4} s_{5}$$"
      ],
      "text/plain": [
       "4*(s4^2*s5 - s1^2*s7)*s4*s5"
      ]
     },
     "metadata": {},
     "output_type": "display_data"
    },
    {
     "data": {
      "text/html": [
       "<html><script type=\"math/tex; mode=display\">\\newcommand{\\Bold}[1]{\\mathbf{#1}}2 \\, {\\left(s_{4}^{2} s_{5} - s_{1}^{2} s_{7}\\right)} s_{4}^{2}</script></html>"
      ],
      "text/latex": [
       "$$\\newcommand{\\Bold}[1]{\\mathbf{#1}}2 \\, {\\left(s_{4}^{2} s_{5} - s_{1}^{2} s_{7}\\right)} s_{4}^{2}$$"
      ],
      "text/plain": [
       "2*(s4^2*s5 - s1^2*s7)*s4^2"
      ]
     },
     "metadata": {},
     "output_type": "display_data"
    },
    {
     "data": {
      "text/html": [
       "<html><script type=\"math/tex; mode=display\">\\newcommand{\\Bold}[1]{\\mathbf{#1}}0</script></html>"
      ],
      "text/latex": [
       "$$\\newcommand{\\Bold}[1]{\\mathbf{#1}}0$$"
      ],
      "text/plain": [
       "0"
      ]
     },
     "metadata": {},
     "output_type": "display_data"
    },
    {
     "data": {
      "text/html": [
       "<html><script type=\"math/tex; mode=display\">\\newcommand{\\Bold}[1]{\\mathbf{#1}}-2 \\, {\\left(s_{4}^{2} s_{5} - s_{1}^{2} s_{7}\\right)} s_{1}^{2}</script></html>"
      ],
      "text/latex": [
       "$$\\newcommand{\\Bold}[1]{\\mathbf{#1}}-2 \\, {\\left(s_{4}^{2} s_{5} - s_{1}^{2} s_{7}\\right)} s_{1}^{2}$$"
      ],
      "text/plain": [
       "-2*(s4^2*s5 - s1^2*s7)*s1^2"
      ]
     },
     "metadata": {},
     "output_type": "display_data"
    }
   ],
   "source": [
    "F = (s4^4*s5^2 - 2*s3*s4^3*s5*s6 + s3^2*s4^2*s6^2 + (s1^4 + 2*s1^2*s3^2 + s3^4)*s7^2 - 2*((s1^2 - s3^2)*s4^2*s5 + (s1^2*s3 + s3^3)*s4*s6)*s7)\n",
    "for comp in F.gradient():\n",
    "    display(comp.subs(s3=0).simplify_full().factor())"
   ]
  },
  {
   "cell_type": "markdown",
   "metadata": {},
   "source": [
    "Since, $s_3 = 0$, we have $s_6 \\neq 0$. So, from the above equations we get\n",
    "$$\n",
    "s_5 = \\frac{s_1^2 s_7}{s_4^2} = - \\frac{s_1^2 s_7}{s_4^2}\n",
    "$$\n",
    "which is impossible. This shows that $\\operatorname{grad} F \\neq 0$. So, in this case the index of symmetry is non-trivial if and only if $g$ satisfies $(**)$. The distribution of symmetry has dimension $2$ and it is not contained in the center."
   ]
  },
  {
   "cell_type": "code",
   "execution_count": 35,
   "metadata": {},
   "outputs": [
    {
     "data": {
      "text/html": [
       "<html><script type=\"math/tex; mode=display\">\\newcommand{\\Bold}[1]{\\mathbf{#1}}\\left(0,\\,y_{2},\\,y_{3},\\,-\\frac{{\\left(s_{4}^{2} s_{5} + s_{3} s_{4} s_{6} - {\\left(s_{1}^{2} + s_{3}^{2}\\right)} s_{7}\\right)} y_{2}}{2 \\, {\\left(s_{4}^{2} s_{6} - s_{3} s_{4} s_{7}\\right)}},\\,-\\frac{{\\left(s_{4}^{2} s_{5} s_{6} - s_{3} s_{4} s_{6}^{2} - {\\left(2 \\, s_{3} s_{4} s_{5} - {\\left(s_{1}^{2} + s_{3}^{2}\\right)} s_{6}\\right)} s_{7}\\right)} y_{2}}{2 \\, {\\left(s_{4}^{2} s_{6} s_{7} - s_{3} s_{4} s_{7}^{2}\\right)}},\\,\\frac{{\\left(s_{4}^{4} s_{5} - s_{3} s_{4}^{3} s_{6} + s_{4}^{2} s_{5} s_{6}^{2} - s_{3} s_{4} s_{6}^{3} - {\\left(s_{1}^{2} + s_{3}^{2}\\right)} s_{5} s_{7}^{2} + {\\left(s_{4}^{2} s_{5}^{2} - s_{3} s_{4} s_{5} s_{6} - {\\left(s_{1}^{2} - s_{3}^{2}\\right)} s_{4}^{2} + {\\left(s_{1}^{2} + s_{3}^{2}\\right)} s_{6}^{2}\\right)} s_{7}\\right)} y_{2}}{2 \\, {\\left(s_{4}^{2} s_{6} s_{7}^{2} - s_{3} s_{4} s_{7}^{3}\\right)}}\\right)</script></html>"
      ],
      "text/latex": [
       "$$\\newcommand{\\Bold}[1]{\\mathbf{#1}}\\left(0,\\,y_{2},\\,y_{3},\\,-\\frac{{\\left(s_{4}^{2} s_{5} + s_{3} s_{4} s_{6} - {\\left(s_{1}^{2} + s_{3}^{2}\\right)} s_{7}\\right)} y_{2}}{2 \\, {\\left(s_{4}^{2} s_{6} - s_{3} s_{4} s_{7}\\right)}},\\,-\\frac{{\\left(s_{4}^{2} s_{5} s_{6} - s_{3} s_{4} s_{6}^{2} - {\\left(2 \\, s_{3} s_{4} s_{5} - {\\left(s_{1}^{2} + s_{3}^{2}\\right)} s_{6}\\right)} s_{7}\\right)} y_{2}}{2 \\, {\\left(s_{4}^{2} s_{6} s_{7} - s_{3} s_{4} s_{7}^{2}\\right)}},\\,\\frac{{\\left(s_{4}^{4} s_{5} - s_{3} s_{4}^{3} s_{6} + s_{4}^{2} s_{5} s_{6}^{2} - s_{3} s_{4} s_{6}^{3} - {\\left(s_{1}^{2} + s_{3}^{2}\\right)} s_{5} s_{7}^{2} + {\\left(s_{4}^{2} s_{5}^{2} - s_{3} s_{4} s_{5} s_{6} - {\\left(s_{1}^{2} - s_{3}^{2}\\right)} s_{4}^{2} + {\\left(s_{1}^{2} + s_{3}^{2}\\right)} s_{6}^{2}\\right)} s_{7}\\right)} y_{2}}{2 \\, {\\left(s_{4}^{2} s_{6} s_{7}^{2} - s_{3} s_{4} s_{7}^{3}\\right)}}\\right)$$"
      ],
      "text/plain": [
       "(0, y2, y3, -1/2*(s4^2*s5 + s3*s4*s6 - (s1^2 + s3^2)*s7)*y2/(s4^2*s6 - s3*s4*s7), -1/2*(s4^2*s5*s6 - s3*s4*s6^2 - (2*s3*s4*s5 - (s1^2 + s3^2)*s6)*s7)*y2/(s4^2*s6*s7 - s3*s4*s7^2), 1/2*(s4^4*s5 - s3*s4^3*s6 + s4^2*s5*s6^2 - s3*s4*s6^3 - (s1^2 + s3^2)*s5*s7^2 + (s4^2*s5^2 - s3*s4*s5*s6 - (s1^2 - s3^2)*s4^2 + (s1^2 + s3^2)*s6^2)*s7)*y2/(s4^2*s6*s7^2 - s3*s4*s7^3))"
      ]
     },
     "execution_count": 35,
     "metadata": {},
     "output_type": "execute_result"
    }
   ],
   "source": [
    "Y.to_vector().subs(sbst).subs(sbst1).simplify_full()"
   ]
  },
  {
   "cell_type": "markdown",
   "metadata": {},
   "source": [
    "### Subcase 2.2.2:  $s_2=0, s_0 = 0, s_6 = \\frac{s_3 s_7}{s_4}$."
   ]
  },
  {
   "cell_type": "code",
   "execution_count": 36,
   "metadata": {},
   "outputs": [
    {
     "data": {
      "text/html": [
       "<html><script type=\"math/tex; mode=display\">\\newcommand{\\Bold}[1]{\\mathbf{#1}}\\frac{{\\left(s_{4}^{2} s_{5} - s_{1}^{2} s_{7}\\right)} y_{2}}{s_{7}} = 0</script></html>"
      ],
      "text/latex": [
       "$$\\newcommand{\\Bold}[1]{\\mathbf{#1}}\\frac{{\\left(s_{4}^{2} s_{5} - s_{1}^{2} s_{7}\\right)} y_{2}}{s_{7}} = 0$$"
      ],
      "text/plain": [
       "(s4^2*s5 - s1^2*s7)*y2/s7 == 0"
      ]
     },
     "metadata": {},
     "output_type": "display_data"
    },
    {
     "data": {
      "text/html": [
       "<html><script type=\"math/tex; mode=display\">\\newcommand{\\Bold}[1]{\\mathbf{#1}}\\frac{2 \\, s_{3} s_{4} s_{5} y_{2} + {\\left(s_{4}^{2} s_{5} - s_{1}^{2} s_{7}\\right)} y_{4}}{s_{7}} = 0</script></html>"
      ],
      "text/latex": [
       "$$\\newcommand{\\Bold}[1]{\\mathbf{#1}}\\frac{2 \\, s_{3} s_{4} s_{5} y_{2} + {\\left(s_{4}^{2} s_{5} - s_{1}^{2} s_{7}\\right)} y_{4}}{s_{7}} = 0$$"
      ],
      "text/plain": [
       "(2*s3*s4*s5*y2 + (s4^2*s5 - s1^2*s7)*y4)/s7 == 0"
      ]
     },
     "metadata": {},
     "output_type": "display_data"
    },
    {
     "data": {
      "text/html": [
       "<html><script type=\"math/tex; mode=display\">\\newcommand{\\Bold}[1]{\\mathbf{#1}}0 = 0</script></html>"
      ],
      "text/latex": [
       "$$\\newcommand{\\Bold}[1]{\\mathbf{#1}}0 = 0$$"
      ],
      "text/plain": [
       "0 == 0"
      ]
     },
     "metadata": {},
     "output_type": "display_data"
    },
    {
     "data": {
      "text/html": [
       "<html><script type=\"math/tex; mode=display\">\\newcommand{\\Bold}[1]{\\mathbf{#1}}0 = 0</script></html>"
      ],
      "text/latex": [
       "$$\\newcommand{\\Bold}[1]{\\mathbf{#1}}0 = 0$$"
      ],
      "text/plain": [
       "0 == 0"
      ]
     },
     "metadata": {},
     "output_type": "display_data"
    },
    {
     "data": {
      "text/html": [
       "<html><script type=\"math/tex; mode=display\">\\newcommand{\\Bold}[1]{\\mathbf{#1}}0 = 0</script></html>"
      ],
      "text/latex": [
       "$$\\newcommand{\\Bold}[1]{\\mathbf{#1}}0 = 0$$"
      ],
      "text/plain": [
       "0 == 0"
      ]
     },
     "metadata": {},
     "output_type": "display_data"
    },
    {
     "data": {
      "text/html": [
       "<html><script type=\"math/tex; mode=display\">\\newcommand{\\Bold}[1]{\\mathbf{#1}}-\\frac{{\\left(s_{4}^{2} s_{5} - s_{1}^{2} s_{7}\\right)} y_{2}}{s_{7}} = 0</script></html>"
      ],
      "text/latex": [
       "$$\\newcommand{\\Bold}[1]{\\mathbf{#1}}-\\frac{{\\left(s_{4}^{2} s_{5} - s_{1}^{2} s_{7}\\right)} y_{2}}{s_{7}} = 0$$"
      ],
      "text/plain": [
       "-(s4^2*s5 - s1^2*s7)*y2/s7 == 0"
      ]
     },
     "metadata": {},
     "output_type": "display_data"
    },
    {
     "data": {
      "text/html": [
       "<html><script type=\"math/tex; mode=display\">\\newcommand{\\Bold}[1]{\\mathbf{#1}}0 = 0</script></html>"
      ],
      "text/latex": [
       "$$\\newcommand{\\Bold}[1]{\\mathbf{#1}}0 = 0$$"
      ],
      "text/plain": [
       "0 == 0"
      ]
     },
     "metadata": {},
     "output_type": "display_data"
    },
    {
     "data": {
      "text/html": [
       "<html><script type=\"math/tex; mode=display\">\\newcommand{\\Bold}[1]{\\mathbf{#1}}-\\frac{2 \\, s_{3} s_{4} s_{5} y_{2} + {\\left(s_{4}^{2} s_{5} - s_{1}^{2} s_{7}\\right)} y_{4}}{s_{7}} = 0</script></html>"
      ],
      "text/latex": [
       "$$\\newcommand{\\Bold}[1]{\\mathbf{#1}}-\\frac{2 \\, s_{3} s_{4} s_{5} y_{2} + {\\left(s_{4}^{2} s_{5} - s_{1}^{2} s_{7}\\right)} y_{4}}{s_{7}} = 0$$"
      ],
      "text/plain": [
       "-(2*s3*s4*s5*y2 + (s4^2*s5 - s1^2*s7)*y4)/s7 == 0"
      ]
     },
     "metadata": {},
     "output_type": "display_data"
    }
   ],
   "source": [
    "sbst = [y1==0, y5==-(s5*y2+s6*y4)/s7, y6==-((s3*s4-s5*s6)*y2+(s4^2-s6^2+s5*s7)*y4)/s7^2]\n",
    "sbst1 = [s2==0, s0==0, s6==s3*s7/s4]\n",
    "\n",
    "for eq in set(equations):\n",
    "    if eq.left().subs(sbst).subs(sbst1) != 0:\n",
    "        display(eq.subs(sbst).subs(sbst1).simplify_full())"
   ]
  },
  {
   "cell_type": "markdown",
   "metadata": {},
   "source": [
    "We have two new subcases: $s_5 \\neq \\frac{s_1^2 s_7}{s_4^2}$ or $s_5 = \\frac{s_1^2 s_7}{s_4^2}$"
   ]
  },
  {
   "cell_type": "markdown",
   "metadata": {},
   "source": [
    "### Subcase 2.2.2.1. $s_2=0, s_0 = 0, s_6 = \\frac{s_3 s_7}{s_4}$, $s_5 \\neq \\frac{s_1^2 s_7}{s_4^2}$"
   ]
  },
  {
   "cell_type": "markdown",
   "metadata": {},
   "source": [
    "First we get $y_2 = 0$."
   ]
  },
  {
   "cell_type": "code",
   "execution_count": 37,
   "metadata": {},
   "outputs": [
    {
     "data": {
      "text/html": [
       "<html><script type=\"math/tex; mode=display\">\\newcommand{\\Bold}[1]{\\mathbf{#1}}0 = 0</script></html>"
      ],
      "text/latex": [
       "$$\\newcommand{\\Bold}[1]{\\mathbf{#1}}0 = 0$$"
      ],
      "text/plain": [
       "0 == 0"
      ]
     },
     "metadata": {},
     "output_type": "display_data"
    },
    {
     "data": {
      "text/html": [
       "<html><script type=\"math/tex; mode=display\">\\newcommand{\\Bold}[1]{\\mathbf{#1}}\\frac{{\\left(s_{4}^{2} s_{5} - s_{1}^{2} s_{7}\\right)} y_{4}}{s_{7}} = 0</script></html>"
      ],
      "text/latex": [
       "$$\\newcommand{\\Bold}[1]{\\mathbf{#1}}\\frac{{\\left(s_{4}^{2} s_{5} - s_{1}^{2} s_{7}\\right)} y_{4}}{s_{7}} = 0$$"
      ],
      "text/plain": [
       "(s4^2*s5 - s1^2*s7)*y4/s7 == 0"
      ]
     },
     "metadata": {},
     "output_type": "display_data"
    },
    {
     "data": {
      "text/html": [
       "<html><script type=\"math/tex; mode=display\">\\newcommand{\\Bold}[1]{\\mathbf{#1}}0 = 0</script></html>"
      ],
      "text/latex": [
       "$$\\newcommand{\\Bold}[1]{\\mathbf{#1}}0 = 0$$"
      ],
      "text/plain": [
       "0 == 0"
      ]
     },
     "metadata": {},
     "output_type": "display_data"
    },
    {
     "data": {
      "text/html": [
       "<html><script type=\"math/tex; mode=display\">\\newcommand{\\Bold}[1]{\\mathbf{#1}}0 = 0</script></html>"
      ],
      "text/latex": [
       "$$\\newcommand{\\Bold}[1]{\\mathbf{#1}}0 = 0$$"
      ],
      "text/plain": [
       "0 == 0"
      ]
     },
     "metadata": {},
     "output_type": "display_data"
    },
    {
     "data": {
      "text/html": [
       "<html><script type=\"math/tex; mode=display\">\\newcommand{\\Bold}[1]{\\mathbf{#1}}0 = 0</script></html>"
      ],
      "text/latex": [
       "$$\\newcommand{\\Bold}[1]{\\mathbf{#1}}0 = 0$$"
      ],
      "text/plain": [
       "0 == 0"
      ]
     },
     "metadata": {},
     "output_type": "display_data"
    },
    {
     "data": {
      "text/html": [
       "<html><script type=\"math/tex; mode=display\">\\newcommand{\\Bold}[1]{\\mathbf{#1}}-\\frac{{\\left(s_{4}^{2} s_{5} - s_{1}^{2} s_{7}\\right)} y_{4}}{s_{7}} = 0</script></html>"
      ],
      "text/latex": [
       "$$\\newcommand{\\Bold}[1]{\\mathbf{#1}}-\\frac{{\\left(s_{4}^{2} s_{5} - s_{1}^{2} s_{7}\\right)} y_{4}}{s_{7}} = 0$$"
      ],
      "text/plain": [
       "-(s4^2*s5 - s1^2*s7)*y4/s7 == 0"
      ]
     },
     "metadata": {},
     "output_type": "display_data"
    }
   ],
   "source": [
    "sbst = [y1==0, y5==-(s5*y2+s6*y4)/s7, y6==-((s3*s4-s5*s6)*y2+(s4^2-s6^2+s5*s7)*y4)/s7^2]\n",
    "sbst1 = [s2==0, s0==0, s6==s3*s7/s4, y2==0]\n",
    "\n",
    "for eq in set(equations):\n",
    "    if eq.left().subs(sbst).subs(sbst1) != 0:\n",
    "        display(eq.subs(sbst).subs(sbst1).simplify_full())"
   ]
  },
  {
   "cell_type": "markdown",
   "metadata": {},
   "source": [
    "and then $y_4=0$."
   ]
  },
  {
   "cell_type": "code",
   "execution_count": 38,
   "metadata": {},
   "outputs": [],
   "source": [
    "sbst = [y1==0, y5==-(s5*y2+s6*y4)/s7, y6==-((s3*s4-s5*s6)*y2+(s4^2-s6^2+s5*s7)*y4)/s7^2]\n",
    "sbst1 = [s2==0, s0==0, s6==s3*s7/s4, y2==0, y4==0]\n",
    "\n",
    "for eq in set(equations):\n",
    "    if eq.left().subs(sbst).subs(sbst1) != 0:\n",
    "        display(eq.subs(sbst).subs(sbst1).simplify_full())"
   ]
  },
  {
   "cell_type": "markdown",
   "metadata": {},
   "source": [
    "In this case the index of symmetry is $1$ and the distribution of symmetry is contained in the center. "
   ]
  },
  {
   "cell_type": "code",
   "execution_count": 39,
   "metadata": {},
   "outputs": [
    {
     "data": {
      "text/html": [
       "<html><script type=\"math/tex; mode=display\">\\newcommand{\\Bold}[1]{\\mathbf{#1}}\\left(0,\\,0,\\,y_{3},\\,0,\\,0,\\,0\\right)</script></html>"
      ],
      "text/latex": [
       "$$\\newcommand{\\Bold}[1]{\\mathbf{#1}}\\left(0,\\,0,\\,y_{3},\\,0,\\,0,\\,0\\right)$$"
      ],
      "text/plain": [
       "(0, 0, y3, 0, 0, 0)"
      ]
     },
     "execution_count": 39,
     "metadata": {},
     "output_type": "execute_result"
    }
   ],
   "source": [
    "Y.to_vector().subs(sbst).subs(sbst1).simplify_full()"
   ]
  },
  {
   "cell_type": "markdown",
   "metadata": {},
   "source": [
    "### Subcase 2.2.2.2: $s_2=0, s_0 = 0, s_6 = \\frac{s_3 s_7}{s_4}$, $s_5 = \\frac{s_1^2 s_7}{s_4^2}$."
   ]
  },
  {
   "cell_type": "code",
   "execution_count": 40,
   "metadata": {},
   "outputs": [
    {
     "data": {
      "text/html": [
       "<html><script type=\"math/tex; mode=display\">\\newcommand{\\Bold}[1]{\\mathbf{#1}}0 = 0</script></html>"
      ],
      "text/latex": [
       "$$\\newcommand{\\Bold}[1]{\\mathbf{#1}}0 = 0$$"
      ],
      "text/plain": [
       "0 == 0"
      ]
     },
     "metadata": {},
     "output_type": "display_data"
    },
    {
     "data": {
      "text/html": [
       "<html><script type=\"math/tex; mode=display\">\\newcommand{\\Bold}[1]{\\mathbf{#1}}\\frac{2 \\, s_{1}^{2} s_{3} y_{2}}{s_{4}} = 0</script></html>"
      ],
      "text/latex": [
       "$$\\newcommand{\\Bold}[1]{\\mathbf{#1}}\\frac{2 \\, s_{1}^{2} s_{3} y_{2}}{s_{4}} = 0$$"
      ],
      "text/plain": [
       "2*s1^2*s3*y2/s4 == 0"
      ]
     },
     "metadata": {},
     "output_type": "display_data"
    },
    {
     "data": {
      "text/html": [
       "<html><script type=\"math/tex; mode=display\">\\newcommand{\\Bold}[1]{\\mathbf{#1}}0 = 0</script></html>"
      ],
      "text/latex": [
       "$$\\newcommand{\\Bold}[1]{\\mathbf{#1}}0 = 0$$"
      ],
      "text/plain": [
       "0 == 0"
      ]
     },
     "metadata": {},
     "output_type": "display_data"
    },
    {
     "data": {
      "text/html": [
       "<html><script type=\"math/tex; mode=display\">\\newcommand{\\Bold}[1]{\\mathbf{#1}}0 = 0</script></html>"
      ],
      "text/latex": [
       "$$\\newcommand{\\Bold}[1]{\\mathbf{#1}}0 = 0$$"
      ],
      "text/plain": [
       "0 == 0"
      ]
     },
     "metadata": {},
     "output_type": "display_data"
    },
    {
     "data": {
      "text/html": [
       "<html><script type=\"math/tex; mode=display\">\\newcommand{\\Bold}[1]{\\mathbf{#1}}0 = 0</script></html>"
      ],
      "text/latex": [
       "$$\\newcommand{\\Bold}[1]{\\mathbf{#1}}0 = 0$$"
      ],
      "text/plain": [
       "0 == 0"
      ]
     },
     "metadata": {},
     "output_type": "display_data"
    },
    {
     "data": {
      "text/html": [
       "<html><script type=\"math/tex; mode=display\">\\newcommand{\\Bold}[1]{\\mathbf{#1}}0 = 0</script></html>"
      ],
      "text/latex": [
       "$$\\newcommand{\\Bold}[1]{\\mathbf{#1}}0 = 0$$"
      ],
      "text/plain": [
       "0 == 0"
      ]
     },
     "metadata": {},
     "output_type": "display_data"
    },
    {
     "data": {
      "text/html": [
       "<html><script type=\"math/tex; mode=display\">\\newcommand{\\Bold}[1]{\\mathbf{#1}}0 = 0</script></html>"
      ],
      "text/latex": [
       "$$\\newcommand{\\Bold}[1]{\\mathbf{#1}}0 = 0$$"
      ],
      "text/plain": [
       "0 == 0"
      ]
     },
     "metadata": {},
     "output_type": "display_data"
    },
    {
     "data": {
      "text/html": [
       "<html><script type=\"math/tex; mode=display\">\\newcommand{\\Bold}[1]{\\mathbf{#1}}-\\frac{2 \\, s_{1}^{2} s_{3} y_{2}}{s_{4}} = 0</script></html>"
      ],
      "text/latex": [
       "$$\\newcommand{\\Bold}[1]{\\mathbf{#1}}-\\frac{2 \\, s_{1}^{2} s_{3} y_{2}}{s_{4}} = 0$$"
      ],
      "text/plain": [
       "-2*s1^2*s3*y2/s4 == 0"
      ]
     },
     "metadata": {},
     "output_type": "display_data"
    }
   ],
   "source": [
    "sbst = [y1==0, y5==-(s5*y2+s6*y4)/s7, y6==-((s3*s4-s5*s6)*y2+(s4^2-s6^2+s5*s7)*y4)/s7^2]\n",
    "sbst1 = [s2==0, s0==0, s6==s3*s7/s4, s5==s1^2*s7/s4^2]\n",
    "\n",
    "for eq in set(equations):\n",
    "    if eq.left().subs(sbst).subs(sbst1) != 0:\n",
    "        display(eq.subs(sbst).subs(sbst1).simplify_full())"
   ]
  },
  {
   "cell_type": "markdown",
   "metadata": {},
   "source": [
    "We arrive to the last subcases: $s_3 \\neq 0$ and $s_3 = 0$."
   ]
  },
  {
   "cell_type": "markdown",
   "metadata": {},
   "source": [
    "### Subcase 2.2.2.2.1: $s_2=0, s_0 = 0, s_6 = \\frac{s_3 s_7}{s_4}, s_5 = \\frac{s_1^2 s_7}{s_4^2}, s_3 \\neq 0$."
   ]
  },
  {
   "cell_type": "markdown",
   "metadata": {},
   "source": [
    "Here we get $y_2 = 0$."
   ]
  },
  {
   "cell_type": "code",
   "execution_count": 41,
   "metadata": {},
   "outputs": [
    {
     "data": {
      "text/html": [
       "<html><script type=\"math/tex; mode=display\">\\newcommand{\\Bold}[1]{\\mathbf{#1}}0 = 0</script></html>"
      ],
      "text/latex": [
       "$$\\newcommand{\\Bold}[1]{\\mathbf{#1}}0 = 0$$"
      ],
      "text/plain": [
       "0 == 0"
      ]
     },
     "metadata": {},
     "output_type": "display_data"
    },
    {
     "data": {
      "text/html": [
       "<html><script type=\"math/tex; mode=display\">\\newcommand{\\Bold}[1]{\\mathbf{#1}}0 = 0</script></html>"
      ],
      "text/latex": [
       "$$\\newcommand{\\Bold}[1]{\\mathbf{#1}}0 = 0$$"
      ],
      "text/plain": [
       "0 == 0"
      ]
     },
     "metadata": {},
     "output_type": "display_data"
    },
    {
     "data": {
      "text/html": [
       "<html><script type=\"math/tex; mode=display\">\\newcommand{\\Bold}[1]{\\mathbf{#1}}0 = 0</script></html>"
      ],
      "text/latex": [
       "$$\\newcommand{\\Bold}[1]{\\mathbf{#1}}0 = 0$$"
      ],
      "text/plain": [
       "0 == 0"
      ]
     },
     "metadata": {},
     "output_type": "display_data"
    },
    {
     "data": {
      "text/html": [
       "<html><script type=\"math/tex; mode=display\">\\newcommand{\\Bold}[1]{\\mathbf{#1}}0 = 0</script></html>"
      ],
      "text/latex": [
       "$$\\newcommand{\\Bold}[1]{\\mathbf{#1}}0 = 0$$"
      ],
      "text/plain": [
       "0 == 0"
      ]
     },
     "metadata": {},
     "output_type": "display_data"
    },
    {
     "data": {
      "text/html": [
       "<html><script type=\"math/tex; mode=display\">\\newcommand{\\Bold}[1]{\\mathbf{#1}}0 = 0</script></html>"
      ],
      "text/latex": [
       "$$\\newcommand{\\Bold}[1]{\\mathbf{#1}}0 = 0$$"
      ],
      "text/plain": [
       "0 == 0"
      ]
     },
     "metadata": {},
     "output_type": "display_data"
    },
    {
     "data": {
      "text/html": [
       "<html><script type=\"math/tex; mode=display\">\\newcommand{\\Bold}[1]{\\mathbf{#1}}0 = 0</script></html>"
      ],
      "text/latex": [
       "$$\\newcommand{\\Bold}[1]{\\mathbf{#1}}0 = 0$$"
      ],
      "text/plain": [
       "0 == 0"
      ]
     },
     "metadata": {},
     "output_type": "display_data"
    }
   ],
   "source": [
    "sbst = [y1==0, y5==-(s5*y2+s6*y4)/s7, y6==-((s3*s4-s5*s6)*y2+(s4^2-s6^2+s5*s7)*y4)/s7^2]\n",
    "sbst1 = [s2==0, s0==0, s6==s3*s7/s4, s5==s1^2*s7/s4^2, y2==0]\n",
    "\n",
    "for eq in set(equations):\n",
    "    if eq.left().subs(sbst).subs(sbst1) != 0:\n",
    "        display(eq.subs(sbst).subs(sbst1).simplify_full())"
   ]
  },
  {
   "cell_type": "markdown",
   "metadata": {},
   "source": [
    "Here the index of symmetry is $2$. The distribution of symmetry is not contained in the center."
   ]
  },
  {
   "cell_type": "code",
   "execution_count": 42,
   "metadata": {},
   "outputs": [
    {
     "data": {
      "text/html": [
       "<html><script type=\"math/tex; mode=display\">\\newcommand{\\Bold}[1]{\\mathbf{#1}}\\left(0,\\,0,\\,y_{3},\\,y_{4},\\,-\\frac{s_{3} y_{4}}{s_{4}},\\,-\\frac{{\\left(s_{4}^{4} + {\\left(s_{1}^{2} - s_{3}^{2}\\right)} s_{7}^{2}\\right)} y_{4}}{s_{4}^{2} s_{7}^{2}}\\right)</script></html>"
      ],
      "text/latex": [
       "$$\\newcommand{\\Bold}[1]{\\mathbf{#1}}\\left(0,\\,0,\\,y_{3},\\,y_{4},\\,-\\frac{s_{3} y_{4}}{s_{4}},\\,-\\frac{{\\left(s_{4}^{4} + {\\left(s_{1}^{2} - s_{3}^{2}\\right)} s_{7}^{2}\\right)} y_{4}}{s_{4}^{2} s_{7}^{2}}\\right)$$"
      ],
      "text/plain": [
       "(0, 0, y3, y4, -s3*y4/s4, -(s4^4 + (s1^2 - s3^2)*s7^2)*y4/(s4^2*s7^2))"
      ]
     },
     "execution_count": 42,
     "metadata": {},
     "output_type": "execute_result"
    }
   ],
   "source": [
    "Y.to_vector().subs(sbst).subs(sbst1).simplify_full()"
   ]
  },
  {
   "cell_type": "markdown",
   "metadata": {},
   "source": [
    "### Subcase 2.2.2.2.2: $s_2=0, s_0 = 0, s_6 = \\frac{s_3 s_7}{s_4}, s_5 = \\frac{s_1^2 s_7}{s_4^2}, s_3 = 0$."
   ]
  },
  {
   "cell_type": "code",
   "execution_count": 43,
   "metadata": {},
   "outputs": [
    {
     "data": {
      "text/html": [
       "<html><script type=\"math/tex; mode=display\">\\newcommand{\\Bold}[1]{\\mathbf{#1}}0 = 0</script></html>"
      ],
      "text/latex": [
       "$$\\newcommand{\\Bold}[1]{\\mathbf{#1}}0 = 0$$"
      ],
      "text/plain": [
       "0 == 0"
      ]
     },
     "metadata": {},
     "output_type": "display_data"
    },
    {
     "data": {
      "text/html": [
       "<html><script type=\"math/tex; mode=display\">\\newcommand{\\Bold}[1]{\\mathbf{#1}}0 = 0</script></html>"
      ],
      "text/latex": [
       "$$\\newcommand{\\Bold}[1]{\\mathbf{#1}}0 = 0$$"
      ],
      "text/plain": [
       "0 == 0"
      ]
     },
     "metadata": {},
     "output_type": "display_data"
    },
    {
     "data": {
      "text/html": [
       "<html><script type=\"math/tex; mode=display\">\\newcommand{\\Bold}[1]{\\mathbf{#1}}0 = 0</script></html>"
      ],
      "text/latex": [
       "$$\\newcommand{\\Bold}[1]{\\mathbf{#1}}0 = 0$$"
      ],
      "text/plain": [
       "0 == 0"
      ]
     },
     "metadata": {},
     "output_type": "display_data"
    },
    {
     "data": {
      "text/html": [
       "<html><script type=\"math/tex; mode=display\">\\newcommand{\\Bold}[1]{\\mathbf{#1}}0 = 0</script></html>"
      ],
      "text/latex": [
       "$$\\newcommand{\\Bold}[1]{\\mathbf{#1}}0 = 0$$"
      ],
      "text/plain": [
       "0 == 0"
      ]
     },
     "metadata": {},
     "output_type": "display_data"
    },
    {
     "data": {
      "text/html": [
       "<html><script type=\"math/tex; mode=display\">\\newcommand{\\Bold}[1]{\\mathbf{#1}}0 = 0</script></html>"
      ],
      "text/latex": [
       "$$\\newcommand{\\Bold}[1]{\\mathbf{#1}}0 = 0$$"
      ],
      "text/plain": [
       "0 == 0"
      ]
     },
     "metadata": {},
     "output_type": "display_data"
    },
    {
     "data": {
      "text/html": [
       "<html><script type=\"math/tex; mode=display\">\\newcommand{\\Bold}[1]{\\mathbf{#1}}0 = 0</script></html>"
      ],
      "text/latex": [
       "$$\\newcommand{\\Bold}[1]{\\mathbf{#1}}0 = 0$$"
      ],
      "text/plain": [
       "0 == 0"
      ]
     },
     "metadata": {},
     "output_type": "display_data"
    }
   ],
   "source": [
    "sbst = [y1==0, y5==-(s5*y2+s6*y4)/s7, y6==-((s3*s4-s5*s6)*y2+(s4^2-s6^2+s5*s7)*y4)/s7^2]\n",
    "sbst1 = [s2==0, s0==0, s6==s3*s7/s4, s5==s1^2*s7/s4^2]\n",
    "sbst2 = [s3==0]\n",
    "\n",
    "for eq in set(equations):\n",
    "    if eq.left().subs(sbst).subs(sbst1).subs(sbst2) != 0:\n",
    "        display(eq.subs(sbst).subs(sbst1).subs(sbst2).simplify_full())"
   ]
  },
  {
   "cell_type": "markdown",
   "metadata": {},
   "source": [
    "Here the index of symmetry is $3$. The distribution of symmetry forms an abelian subalgebra and it is not contained in the center. "
   ]
  },
  {
   "cell_type": "code",
   "execution_count": 44,
   "metadata": {},
   "outputs": [
    {
     "data": {
      "text/html": [
       "<html><script type=\"math/tex; mode=display\">\\newcommand{\\Bold}[1]{\\mathbf{#1}}\\left(0,\\,y_{2},\\,y_{3},\\,y_{4},\\,-\\frac{s_{1}^{2} y_{2}}{s_{4}^{2}},\\,-\\frac{{\\left(s_{4}^{4} + s_{1}^{2} s_{7}^{2}\\right)} y_{4}}{s_{4}^{2} s_{7}^{2}}\\right)</script></html>"
      ],
      "text/latex": [
       "$$\\newcommand{\\Bold}[1]{\\mathbf{#1}}\\left(0,\\,y_{2},\\,y_{3},\\,y_{4},\\,-\\frac{s_{1}^{2} y_{2}}{s_{4}^{2}},\\,-\\frac{{\\left(s_{4}^{4} + s_{1}^{2} s_{7}^{2}\\right)} y_{4}}{s_{4}^{2} s_{7}^{2}}\\right)$$"
      ],
      "text/plain": [
       "(0, y2, y3, y4, -s1^2*y2/s4^2, -(s4^4 + s1^2*s7^2)*y4/(s4^2*s7^2))"
      ]
     },
     "execution_count": 44,
     "metadata": {},
     "output_type": "execute_result"
    }
   ],
   "source": [
    "Y.to_vector().subs(sbst).subs(sbst1).subs(sbst2).simplify_full()"
   ]
  },
  {
   "cell_type": "markdown",
   "metadata": {},
   "source": [
    "In this case the metric has the following form."
   ]
  },
  {
   "cell_type": "code",
   "execution_count": 45,
   "metadata": {},
   "outputs": [
    {
     "data": {
      "text/html": [
       "<html><script type=\"math/tex; mode=display\">\\newcommand{\\Bold}[1]{\\mathbf{#1}}\\left(\\begin{array}{rrrrrr}\n",
       "1 & 0 & 0 & 0 & 0 & 0 \\\\\n",
       "0 & 1 & 0 & 0 & 0 & 0 \\\\\n",
       "0 & 0 & 1 & 0 & 0 & 0 \\\\\n",
       "0 & 0 & 0 & \\frac{s_{1}^{2} s_{4}^{4} + s_{1}^{4} s_{7}^{2}}{s_{4}^{4}} & 0 & \\frac{s_{1}^{2} s_{7}^{2}}{s_{4}^{2}} \\\\\n",
       "0 & 0 & 0 & 0 & s_{4}^{2} & 0 \\\\\n",
       "0 & 0 & 0 & \\frac{s_{1}^{2} s_{7}^{2}}{s_{4}^{2}} & 0 & s_{7}^{2}\n",
       "\\end{array}\\right)</script></html>"
      ],
      "text/latex": [
       "$$\\newcommand{\\Bold}[1]{\\mathbf{#1}}\\left(\\begin{array}{rrrrrr}\n",
       "1 & 0 & 0 & 0 & 0 & 0 \\\\\n",
       "0 & 1 & 0 & 0 & 0 & 0 \\\\\n",
       "0 & 0 & 1 & 0 & 0 & 0 \\\\\n",
       "0 & 0 & 0 & \\frac{s_{1}^{2} s_{4}^{4} + s_{1}^{4} s_{7}^{2}}{s_{4}^{4}} & 0 & \\frac{s_{1}^{2} s_{7}^{2}}{s_{4}^{2}} \\\\\n",
       "0 & 0 & 0 & 0 & s_{4}^{2} & 0 \\\\\n",
       "0 & 0 & 0 & \\frac{s_{1}^{2} s_{7}^{2}}{s_{4}^{2}} & 0 & s_{7}^{2}\n",
       "\\end{array}\\right)$$"
      ],
      "text/plain": [
       "[                           1                            0                            0                            0                            0                            0]\n",
       "[                           0                            1                            0                            0                            0                            0]\n",
       "[                           0                            0                            1                            0                            0                            0]\n",
       "[                           0                            0                            0 (s1^2*s4^4 + s1^4*s7^2)/s4^4                            0               s1^2*s7^2/s4^2]\n",
       "[                           0                            0                            0                            0                         s4^2                            0]\n",
       "[                           0                            0                            0               s1^2*s7^2/s4^2                            0                         s7^2]"
      ]
     },
     "execution_count": 45,
     "metadata": {},
     "output_type": "execute_result"
    }
   ],
   "source": [
    "g.subs(sbst).subs(sbst1).subs(sbst2).simplify_full()"
   ]
  },
  {
   "cell_type": "markdown",
   "metadata": {},
   "source": [
    "---\n",
    "\n",
    "This notebook corresponds to the article \"The moduli space of left-invariant metrics on six-dimensional characteristically solvable nilmanifolds\" by I. Cardoso, A. Cosgaya, and S. Reggiani (2024)."
   ]
  }
 ],
 "metadata": {
  "kernelspec": {
   "display_name": "SageMath 9.3",
   "language": "sage",
   "name": "sagemath"
  },
  "language_info": {
   "codemirror_mode": {
    "name": "ipython",
    "version": 3
   },
   "file_extension": ".py",
   "mimetype": "text/x-python",
   "name": "python",
   "nbconvert_exporter": "python",
   "pygments_lexer": "ipython3",
   "version": "3.7.10"
  }
 },
 "nbformat": 4,
 "nbformat_minor": 4
}

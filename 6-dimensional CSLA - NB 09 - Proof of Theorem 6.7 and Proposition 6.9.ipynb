{
 "cells": [
  {
   "cell_type": "code",
   "execution_count": 1,
   "metadata": {
    "tags": []
   },
   "outputs": [],
   "source": [
    "%display latex"
   ]
  },
  {
   "cell_type": "markdown",
   "metadata": {},
   "source": [
    "# 6-dimensional CSLA - NB 09 - Proof of Theorem 6.7 and Proposition 6.9"
   ]
  },
  {
   "cell_type": "markdown",
   "metadata": {},
   "source": [
    "## The distribution of symmetry for $\\mathfrak h_{28}$\n",
    "\n",
    "This notebook is complementary to Notebook 07. We prove Theorem 6.7 and Proposition 6.9.\n"
   ]
  },
  {
   "cell_type": "code",
   "execution_count": 2,
   "metadata": {},
   "outputs": [],
   "source": [
    "def inn_prod(A, B, m):\n",
    "    \"\"\"\n",
    "    Inputs:\n",
    "    A, B = elements of a 6-dim CSLA\n",
    "    m = 6x6 symmetric positive definite matrix\n",
    "\n",
    "    Output: the product <A,B> with respect to the inner product which\n",
    "    in the standard basis is represented by the matrix m.\n",
    "    \"\"\"\n",
    "    a = vector(A)\n",
    "    b = vector(B)\n",
    "    return a * m * b\n",
    "    \n",
    "def formula_dist_sym(A,B,C,m):\n",
    "    \"\"\"\n",
    "    Inputs:\n",
    "    A, B, B = elements of a 6-dim CSLA\n",
    "    m = 6x6 symmetric positive definite matrix\n",
    "\n",
    "    Output: computes\n",
    "    <[A,B],C> + <[A,C],B> + <[B,C],A>\n",
    "    where <,> is the inner product on the underlying Lie algebra which\n",
    "    in the standard basis is represented by the matrix m.\n",
    "    \"\"\"\n",
    "    return inn_prod(A.bracket(B), C, m) + inn_prod(A.bracket(C), B, m) + inn_prod(B.bracket(C), A, m)\n",
    "\n",
    "def distribution_of_sym(algebra_name):\n",
    "    \"\"\"\n",
    "    Input: the string representing a CSLA (see CSLA.sage)\n",
    "\n",
    "    Output: A list `equations` for the left-invariant field \n",
    "    Y = y1 e1 + ... + y6 * e6\n",
    "    belongs to the distribution of symmetry\n",
    "    \n",
    "    Warning: this program defines some global variables, the coefficients\n",
    "    y1, ..., y6, the basis e1, ..., e6 of the Lie algebra associated to \n",
    "    algebra_name and the metric parameters s0, s1, ... \n",
    "    \"\"\"\n",
    "    generic_metric(algebra_name)\n",
    "    global e1, e2, e3, e4, e5, e6\n",
    "    e1, e2, e3, e4, e5, e6 = alg.basis()\n",
    "    global y1, y2, y3, y4, y5, y6 \n",
    "    y1, y2, y3, y4, y5, y6 = var('y1 y2 y3 y4 y5 y6')\n",
    "    global Y\n",
    "    Y = y1*e1 + y2*e2 + y3*e3 + y4*e4 + y5*e5 + y6*e6\n",
    "    global equations\n",
    "    equations = []\n",
    "    for vector1 in alg.basis():\n",
    "        for vector2 in alg.basis():\n",
    "            e = formula_dist_sym(vector1,Y,vector2,g)\n",
    "            equations.append(e == 0)"
   ]
  },
  {
   "cell_type": "markdown",
   "metadata": {},
   "source": [
    "Now we modify the list `names` defined in `CSLA.sage` with a representative for each CSLA. This list is now ordered with the lexicographic order."
   ]
  },
  {
   "cell_type": "code",
   "execution_count": 3,
   "metadata": {},
   "outputs": [
    {
     "data": {
      "text/html": [
       "<html><script type=\"math/tex; mode=display\">\\newcommand{\\Bold}[1]{\\mathbf{#1}}\\left[\\verb|h9_tris|, \\verb|h10|, \\verb|h11|, \\verb|h12|, \\verb|h13|, \\verb|h14|, \\verb|h18_bis|, \\verb|h19+_tris|, \\verb|h21|, \\verb|h22|, \\verb|h23|, \\verb|h24|, \\verb|h25|, \\verb|h26-_bis|, \\verb|h27|, \\verb|h28|, \\verb|h29|, \\verb|h30|, \\verb|h31|, \\verb|h32|\\right]</script></html>"
      ],
      "text/latex": [
       "$$\\newcommand{\\Bold}[1]{\\mathbf{#1}}\\left[\\verb|h9_tris|, \\verb|h10|, \\verb|h11|, \\verb|h12|, \\verb|h13|, \\verb|h14|, \\verb|h18_bis|, \\verb|h19+_tris|, \\verb|h21|, \\verb|h22|, \\verb|h23|, \\verb|h24|, \\verb|h25|, \\verb|h26-_bis|, \\verb|h27|, \\verb|h28|, \\verb|h29|, \\verb|h30|, \\verb|h31|, \\verb|h32|\\right]$$"
      ],
      "text/plain": [
       "['h9_tris',\n",
       " 'h10',\n",
       " 'h11',\n",
       " 'h12',\n",
       " 'h13',\n",
       " 'h14',\n",
       " 'h18_bis',\n",
       " 'h19+_tris',\n",
       " 'h21',\n",
       " 'h22',\n",
       " 'h23',\n",
       " 'h24',\n",
       " 'h25',\n",
       " 'h26-_bis',\n",
       " 'h27',\n",
       " 'h28',\n",
       " 'h29',\n",
       " 'h30',\n",
       " 'h31',\n",
       " 'h32']"
      ]
     },
     "execution_count": 3,
     "metadata": {},
     "output_type": "execute_result"
    }
   ],
   "source": [
    "load(\"CSLA.sage\")\n",
    "names.sort()\n",
    "names.remove(\"h9_bis\")\n",
    "names.remove(\"h19+_bis\")\n",
    "names = [names[-1]] + names[:-1]\n",
    "names"
   ]
  },
  {
   "cell_type": "markdown",
   "metadata": {},
   "source": [
    "## Case $\\mathfrak h_{28}$"
   ]
  },
  {
   "cell_type": "code",
   "execution_count": 4,
   "metadata": {},
   "outputs": [
    {
     "data": {
      "text/html": [
       "<html><script type=\"math/tex; mode=display\">\\newcommand{\\Bold}[1]{\\mathbf{#1}}\\verb|Nilpotent|\\phantom{\\verb!x!}\\verb|Lie|\\phantom{\\verb!x!}\\verb|algebra|\\phantom{\\verb!x!}\\verb|on|\\phantom{\\verb!x!}\\verb|6|\\phantom{\\verb!x!}\\verb|generators|\\phantom{\\verb!x!}\\verb|(e1,|\\phantom{\\verb!x!}\\verb|e2,|\\phantom{\\verb!x!}\\verb|e3,|\\phantom{\\verb!x!}\\verb|e4,|\\phantom{\\verb!x!}\\verb|e5,|\\phantom{\\verb!x!}\\verb|e6)|\\phantom{\\verb!x!}\\verb|over|\\phantom{\\verb!x!}\\verb|Symbolic|\\phantom{\\verb!x!}\\verb|Ring|</script></html>"
      ],
      "text/latex": [
       "$$\\newcommand{\\Bold}[1]{\\mathbf{#1}}\\verb|Nilpotent|\\phantom{\\verb!x!}\\verb|Lie|\\phantom{\\verb!x!}\\verb|algebra|\\phantom{\\verb!x!}\\verb|on|\\phantom{\\verb!x!}\\verb|6|\\phantom{\\verb!x!}\\verb|generators|\\phantom{\\verb!x!}\\verb|(e1,|\\phantom{\\verb!x!}\\verb|e2,|\\phantom{\\verb!x!}\\verb|e3,|\\phantom{\\verb!x!}\\verb|e4,|\\phantom{\\verb!x!}\\verb|e5,|\\phantom{\\verb!x!}\\verb|e6)|\\phantom{\\verb!x!}\\verb|over|\\phantom{\\verb!x!}\\verb|Symbolic|\\phantom{\\verb!x!}\\verb|Ring|$$"
      ],
      "text/plain": [
       "Nilpotent Lie algebra on 6 generators (e1, e2, e3, e4, e5, e6) over Symbolic Ring"
      ]
     },
     "metadata": {},
     "output_type": "display_data"
    },
    {
     "data": {
      "text/html": [
       "h28"
      ],
      "text/plain": [
       "'h28'"
      ]
     },
     "metadata": {},
     "output_type": "display_data"
    },
    {
     "data": {
      "text/html": [
       "<html><script type=\"math/tex; mode=display\">\\newcommand{\\Bold}[1]{\\mathbf{#1}}\\left[0, 0, 12, 13, 14, 15\\right]</script></html>"
      ],
      "text/latex": [
       "$$\\newcommand{\\Bold}[1]{\\mathbf{#1}}\\left[0, 0, 12, 13, 14, 15\\right]$$"
      ],
      "text/plain": [
       "['0', '0', '12', '13', '14', '15']"
      ]
     },
     "metadata": {},
     "output_type": "display_data"
    }
   ],
   "source": [
    "name = names[15]\n",
    "construct_the_algebra(name)\n",
    "display(alg, alg_name, label)"
   ]
  },
  {
   "cell_type": "code",
   "execution_count": 5,
   "metadata": {},
   "outputs": [
    {
     "data": {
      "text/html": [
       "<html><script type=\"math/tex; mode=display\">\\newcommand{\\Bold}[1]{\\mathbf{#1}}\\left(\\begin{array}{rrrrrr}\n",
       "1 & 0 & 0 & 0 & 0 & 0 \\\\\n",
       "0 & 1 & 0 & 0 & 0 & 0 \\\\\n",
       "0 & 0 & s_{0}^{2} + s_{1}^{2} + s_{3}^{2} + s_{6}^{2} & s_{1} s_{2} + s_{3} s_{4} + s_{6} s_{7} & s_{3} s_{5} + s_{6} s_{8} & s_{6} s_{9} \\\\\n",
       "0 & 0 & s_{1} s_{2} + s_{3} s_{4} + s_{6} s_{7} & s_{2}^{2} + s_{4}^{2} + s_{7}^{2} & s_{4} s_{5} + s_{7} s_{8} & s_{7} s_{9} \\\\\n",
       "0 & 0 & s_{3} s_{5} + s_{6} s_{8} & s_{4} s_{5} + s_{7} s_{8} & s_{5}^{2} + s_{8}^{2} & s_{8} s_{9} \\\\\n",
       "0 & 0 & s_{6} s_{9} & s_{7} s_{9} & s_{8} s_{9} & s_{9}^{2}\n",
       "\\end{array}\\right)</script></html>"
      ],
      "text/latex": [
       "$$\\newcommand{\\Bold}[1]{\\mathbf{#1}}\\left(\\begin{array}{rrrrrr}\n",
       "1 & 0 & 0 & 0 & 0 & 0 \\\\\n",
       "0 & 1 & 0 & 0 & 0 & 0 \\\\\n",
       "0 & 0 & s_{0}^{2} + s_{1}^{2} + s_{3}^{2} + s_{6}^{2} & s_{1} s_{2} + s_{3} s_{4} + s_{6} s_{7} & s_{3} s_{5} + s_{6} s_{8} & s_{6} s_{9} \\\\\n",
       "0 & 0 & s_{1} s_{2} + s_{3} s_{4} + s_{6} s_{7} & s_{2}^{2} + s_{4}^{2} + s_{7}^{2} & s_{4} s_{5} + s_{7} s_{8} & s_{7} s_{9} \\\\\n",
       "0 & 0 & s_{3} s_{5} + s_{6} s_{8} & s_{4} s_{5} + s_{7} s_{8} & s_{5}^{2} + s_{8}^{2} & s_{8} s_{9} \\\\\n",
       "0 & 0 & s_{6} s_{9} & s_{7} s_{9} & s_{8} s_{9} & s_{9}^{2}\n",
       "\\end{array}\\right)$$"
      ],
      "text/plain": [
       "[                        1                         0                         0                         0                         0                         0]\n",
       "[                        0                         1                         0                         0                         0                         0]\n",
       "[                        0                         0 s0^2 + s1^2 + s3^2 + s6^2     s1*s2 + s3*s4 + s6*s7             s3*s5 + s6*s8                     s6*s9]\n",
       "[                        0                         0     s1*s2 + s3*s4 + s6*s7        s2^2 + s4^2 + s7^2             s4*s5 + s7*s8                     s7*s9]\n",
       "[                        0                         0             s3*s5 + s6*s8             s4*s5 + s7*s8               s5^2 + s8^2                     s8*s9]\n",
       "[                        0                         0                     s6*s9                     s7*s9                     s8*s9                      s9^2]"
      ]
     },
     "metadata": {},
     "output_type": "display_data"
    },
    {
     "name": "stdout",
     "output_type": "stream",
     "text": [
      "\n"
     ]
    },
    {
     "data": {
      "text/html": [
       "<html><script type=\"math/tex; mode=display\">\\newcommand{\\Bold}[1]{\\mathbf{#1}}s_{0}^{2} s_{2}^{2} s_{5}^{2} s_{9}^{2}</script></html>"
      ],
      "text/latex": [
       "$$\\newcommand{\\Bold}[1]{\\mathbf{#1}}s_{0}^{2} s_{2}^{2} s_{5}^{2} s_{9}^{2}$$"
      ],
      "text/plain": [
       "s0^2*s2^2*s5^2*s9^2"
      ]
     },
     "metadata": {},
     "output_type": "display_data"
    }
   ],
   "source": [
    "distribution_of_sym(alg_name)\n",
    "display(g)\n",
    "print(\"\")\n",
    "display(g.det())"
   ]
  },
  {
   "cell_type": "code",
   "execution_count": 6,
   "metadata": {},
   "outputs": [
    {
     "data": {
      "text/html": [
       "<html><script type=\"math/tex; mode=display\">\\newcommand{\\Bold}[1]{\\mathbf{#1}}s_{7} s_{9} y_{1} = 0</script></html>"
      ],
      "text/latex": [
       "$$\\newcommand{\\Bold}[1]{\\mathbf{#1}}s_{7} s_{9} y_{1} = 0$$"
      ],
      "text/plain": [
       "s7*s9*y1 == 0"
      ]
     },
     "metadata": {},
     "output_type": "display_data"
    },
    {
     "data": {
      "text/html": [
       "<html><script type=\"math/tex; mode=display\">\\newcommand{\\Bold}[1]{\\mathbf{#1}}{\\left(s_{3} s_{5} + s_{6} s_{8}\\right)} y_{1} = 0</script></html>"
      ],
      "text/latex": [
       "$$\\newcommand{\\Bold}[1]{\\mathbf{#1}}{\\left(s_{3} s_{5} + s_{6} s_{8}\\right)} y_{1} = 0$$"
      ],
      "text/plain": [
       "(s3*s5 + s6*s8)*y1 == 0"
      ]
     },
     "metadata": {},
     "output_type": "display_data"
    },
    {
     "data": {
      "text/html": [
       "<html><script type=\"math/tex; mode=display\">\\newcommand{\\Bold}[1]{\\mathbf{#1}}-{\\left(s_{1} s_{2} + s_{3} s_{4} + s_{6} s_{7}\\right)} y_{1} = 0</script></html>"
      ],
      "text/latex": [
       "$$\\newcommand{\\Bold}[1]{\\mathbf{#1}}-{\\left(s_{1} s_{2} + s_{3} s_{4} + s_{6} s_{7}\\right)} y_{1} = 0$$"
      ],
      "text/plain": [
       "-(s1*s2 + s3*s4 + s6*s7)*y1 == 0"
      ]
     },
     "metadata": {},
     "output_type": "display_data"
    },
    {
     "data": {
      "text/html": [
       "<html><script type=\"math/tex; mode=display\">\\newcommand{\\Bold}[1]{\\mathbf{#1}}-s_{6} s_{9} y_{2} - s_{7} s_{9} y_{3} - s_{8} s_{9} y_{4} - s_{9}^{2} y_{5} = 0</script></html>"
      ],
      "text/latex": [
       "$$\\newcommand{\\Bold}[1]{\\mathbf{#1}}-s_{6} s_{9} y_{2} - s_{7} s_{9} y_{3} - s_{8} s_{9} y_{4} - s_{9}^{2} y_{5} = 0$$"
      ],
      "text/plain": [
       "-s6*s9*y2 - s7*s9*y3 - s8*s9*y4 - s9^2*y5 == 0"
      ]
     },
     "metadata": {},
     "output_type": "display_data"
    },
    {
     "data": {
      "text/html": [
       "<html><script type=\"math/tex; mode=display\">\\newcommand{\\Bold}[1]{\\mathbf{#1}}{\\left(s_{2}^{2} + s_{4}^{2} + s_{7}^{2}\\right)} y_{1} - {\\left(s_{3} s_{5} + s_{6} s_{8}\\right)} y_{1} = 0</script></html>"
      ],
      "text/latex": [
       "$$\\newcommand{\\Bold}[1]{\\mathbf{#1}}{\\left(s_{2}^{2} + s_{4}^{2} + s_{7}^{2}\\right)} y_{1} - {\\left(s_{3} s_{5} + s_{6} s_{8}\\right)} y_{1} = 0$$"
      ],
      "text/plain": [
       "(s2^2 + s4^2 + s7^2)*y1 - (s3*s5 + s6*s8)*y1 == 0"
      ]
     },
     "metadata": {},
     "output_type": "display_data"
    },
    {
     "data": {
      "text/html": [
       "<html><script type=\"math/tex; mode=display\">\\newcommand{\\Bold}[1]{\\mathbf{#1}}s_{6} s_{9} y_{3} + s_{7} s_{9} y_{4} + 2 \\, s_{8} s_{9} y_{5} + s_{9}^{2} y_{6} + {\\left(s_{3} s_{5} + s_{6} s_{8}\\right)} y_{2} + {\\left(s_{4} s_{5} + s_{7} s_{8}\\right)} y_{3} + {\\left(s_{5}^{2} + s_{8}^{2}\\right)} y_{4} = 0</script></html>"
      ],
      "text/latex": [
       "$$\\newcommand{\\Bold}[1]{\\mathbf{#1}}s_{6} s_{9} y_{3} + s_{7} s_{9} y_{4} + 2 \\, s_{8} s_{9} y_{5} + s_{9}^{2} y_{6} + {\\left(s_{3} s_{5} + s_{6} s_{8}\\right)} y_{2} + {\\left(s_{4} s_{5} + s_{7} s_{8}\\right)} y_{3} + {\\left(s_{5}^{2} + s_{8}^{2}\\right)} y_{4} = 0$$"
      ],
      "text/plain": [
       "s6*s9*y3 + s7*s9*y4 + 2*s8*s9*y5 + s9^2*y6 + (s3*s5 + s6*s8)*y2 + (s4*s5 + s7*s8)*y3 + (s5^2 + s8^2)*y4 == 0"
      ]
     },
     "metadata": {},
     "output_type": "display_data"
    },
    {
     "data": {
      "text/html": [
       "<html><script type=\"math/tex; mode=display\">\\newcommand{\\Bold}[1]{\\mathbf{#1}}-s_{8} s_{9} y_{1} = 0</script></html>"
      ],
      "text/latex": [
       "$$\\newcommand{\\Bold}[1]{\\mathbf{#1}}-s_{8} s_{9} y_{1} = 0$$"
      ],
      "text/plain": [
       "-s8*s9*y1 == 0"
      ]
     },
     "metadata": {},
     "output_type": "display_data"
    },
    {
     "data": {
      "text/html": [
       "<html><script type=\"math/tex; mode=display\">\\newcommand{\\Bold}[1]{\\mathbf{#1}}s_{9}^{2} y_{1} = 0</script></html>"
      ],
      "text/latex": [
       "$$\\newcommand{\\Bold}[1]{\\mathbf{#1}}s_{9}^{2} y_{1} = 0$$"
      ],
      "text/plain": [
       "s9^2*y1 == 0"
      ]
     },
     "metadata": {},
     "output_type": "display_data"
    },
    {
     "data": {
      "text/html": [
       "<html><script type=\"math/tex; mode=display\">\\newcommand{\\Bold}[1]{\\mathbf{#1}}-{\\left(s_{3} s_{5} + s_{6} s_{8}\\right)} y_{1} = 0</script></html>"
      ],
      "text/latex": [
       "$$\\newcommand{\\Bold}[1]{\\mathbf{#1}}-{\\left(s_{3} s_{5} + s_{6} s_{8}\\right)} y_{1} = 0$$"
      ],
      "text/plain": [
       "-(s3*s5 + s6*s8)*y1 == 0"
      ]
     },
     "metadata": {},
     "output_type": "display_data"
    },
    {
     "data": {
      "text/html": [
       "<html><script type=\"math/tex; mode=display\">\\newcommand{\\Bold}[1]{\\mathbf{#1}}-s_{6} s_{9} y_{3} - s_{7} s_{9} y_{4} - 2 \\, s_{8} s_{9} y_{5} - s_{9}^{2} y_{6} - {\\left(s_{3} s_{5} + s_{6} s_{8}\\right)} y_{2} - {\\left(s_{4} s_{5} + s_{7} s_{8}\\right)} y_{3} - {\\left(s_{5}^{2} + s_{8}^{2}\\right)} y_{4} = 0</script></html>"
      ],
      "text/latex": [
       "$$\\newcommand{\\Bold}[1]{\\mathbf{#1}}-s_{6} s_{9} y_{3} - s_{7} s_{9} y_{4} - 2 \\, s_{8} s_{9} y_{5} - s_{9}^{2} y_{6} - {\\left(s_{3} s_{5} + s_{6} s_{8}\\right)} y_{2} - {\\left(s_{4} s_{5} + s_{7} s_{8}\\right)} y_{3} - {\\left(s_{5}^{2} + s_{8}^{2}\\right)} y_{4} = 0$$"
      ],
      "text/plain": [
       "-s6*s9*y3 - s7*s9*y4 - 2*s8*s9*y5 - s9^2*y6 - (s3*s5 + s6*s8)*y2 - (s4*s5 + s7*s8)*y3 - (s5^2 + s8^2)*y4 == 0"
      ]
     },
     "metadata": {},
     "output_type": "display_data"
    },
    {
     "data": {
      "text/html": [
       "<html><script type=\"math/tex; mode=display\">\\newcommand{\\Bold}[1]{\\mathbf{#1}}-s_{7} s_{9} y_{1} = 0</script></html>"
      ],
      "text/latex": [
       "$$\\newcommand{\\Bold}[1]{\\mathbf{#1}}-s_{7} s_{9} y_{1} = 0$$"
      ],
      "text/plain": [
       "-s7*s9*y1 == 0"
      ]
     },
     "metadata": {},
     "output_type": "display_data"
    },
    {
     "data": {
      "text/html": [
       "<html><script type=\"math/tex; mode=display\">\\newcommand{\\Bold}[1]{\\mathbf{#1}}s_{6} s_{9} y_{6} + {\\left(s_{0}^{2} + s_{1}^{2} + s_{3}^{2} + s_{6}^{2}\\right)} y_{3} + {\\left(s_{1} s_{2} + s_{3} s_{4} + s_{6} s_{7}\\right)} y_{4} + {\\left(s_{3} s_{5} + s_{6} s_{8}\\right)} y_{5} = 0</script></html>"
      ],
      "text/latex": [
       "$$\\newcommand{\\Bold}[1]{\\mathbf{#1}}s_{6} s_{9} y_{6} + {\\left(s_{0}^{2} + s_{1}^{2} + s_{3}^{2} + s_{6}^{2}\\right)} y_{3} + {\\left(s_{1} s_{2} + s_{3} s_{4} + s_{6} s_{7}\\right)} y_{4} + {\\left(s_{3} s_{5} + s_{6} s_{8}\\right)} y_{5} = 0$$"
      ],
      "text/plain": [
       "s6*s9*y6 + (s0^2 + s1^2 + s3^2 + s6^2)*y3 + (s1*s2 + s3*s4 + s6*s7)*y4 + (s3*s5 + s6*s8)*y5 == 0"
      ]
     },
     "metadata": {},
     "output_type": "display_data"
    },
    {
     "data": {
      "text/html": [
       "<html><script type=\"math/tex; mode=display\">\\newcommand{\\Bold}[1]{\\mathbf{#1}}-s_{6} s_{9} y_{6} - {\\left(s_{0}^{2} + s_{1}^{2} + s_{3}^{2} + s_{6}^{2}\\right)} y_{3} - {\\left(s_{1} s_{2} + s_{3} s_{4} + s_{6} s_{7}\\right)} y_{4} - {\\left(s_{3} s_{5} + s_{6} s_{8}\\right)} y_{5} = 0</script></html>"
      ],
      "text/latex": [
       "$$\\newcommand{\\Bold}[1]{\\mathbf{#1}}-s_{6} s_{9} y_{6} - {\\left(s_{0}^{2} + s_{1}^{2} + s_{3}^{2} + s_{6}^{2}\\right)} y_{3} - {\\left(s_{1} s_{2} + s_{3} s_{4} + s_{6} s_{7}\\right)} y_{4} - {\\left(s_{3} s_{5} + s_{6} s_{8}\\right)} y_{5} = 0$$"
      ],
      "text/plain": [
       "-s6*s9*y6 - (s0^2 + s1^2 + s3^2 + s6^2)*y3 - (s1*s2 + s3*s4 + s6*s7)*y4 - (s3*s5 + s6*s8)*y5 == 0"
      ]
     },
     "metadata": {},
     "output_type": "display_data"
    },
    {
     "data": {
      "text/html": [
       "<html><script type=\"math/tex; mode=display\">\\newcommand{\\Bold}[1]{\\mathbf{#1}}{\\left(s_{1} s_{2} + s_{3} s_{4} + s_{6} s_{7}\\right)} y_{1} = 0</script></html>"
      ],
      "text/latex": [
       "$$\\newcommand{\\Bold}[1]{\\mathbf{#1}}{\\left(s_{1} s_{2} + s_{3} s_{4} + s_{6} s_{7}\\right)} y_{1} = 0$$"
      ],
      "text/plain": [
       "(s1*s2 + s3*s4 + s6*s7)*y1 == 0"
      ]
     },
     "metadata": {},
     "output_type": "display_data"
    },
    {
     "data": {
      "text/html": [
       "<html><script type=\"math/tex; mode=display\">\\newcommand{\\Bold}[1]{\\mathbf{#1}}s_{6} s_{9} y_{5} + s_{7} s_{9} y_{6} + {\\left(s_{0}^{2} + s_{1}^{2} + s_{3}^{2} + s_{6}^{2}\\right)} y_{2} + 2 \\, {\\left(s_{1} s_{2} + s_{3} s_{4} + s_{6} s_{7}\\right)} y_{3} + {\\left(s_{2}^{2} + s_{4}^{2} + s_{7}^{2}\\right)} y_{4} + {\\left(s_{3} s_{5} + s_{6} s_{8}\\right)} y_{4} + {\\left(s_{4} s_{5} + s_{7} s_{8}\\right)} y_{5} = 0</script></html>"
      ],
      "text/latex": [
       "$$\\newcommand{\\Bold}[1]{\\mathbf{#1}}s_{6} s_{9} y_{5} + s_{7} s_{9} y_{6} + {\\left(s_{0}^{2} + s_{1}^{2} + s_{3}^{2} + s_{6}^{2}\\right)} y_{2} + 2 \\, {\\left(s_{1} s_{2} + s_{3} s_{4} + s_{6} s_{7}\\right)} y_{3} + {\\left(s_{2}^{2} + s_{4}^{2} + s_{7}^{2}\\right)} y_{4} + {\\left(s_{3} s_{5} + s_{6} s_{8}\\right)} y_{4} + {\\left(s_{4} s_{5} + s_{7} s_{8}\\right)} y_{5} = 0$$"
      ],
      "text/plain": [
       "s6*s9*y5 + s7*s9*y6 + (s0^2 + s1^2 + s3^2 + s6^2)*y2 + 2*(s1*s2 + s3*s4 + s6*s7)*y3 + (s2^2 + s4^2 + s7^2)*y4 + (s3*s5 + s6*s8)*y4 + (s4*s5 + s7*s8)*y5 == 0"
      ]
     },
     "metadata": {},
     "output_type": "display_data"
    },
    {
     "data": {
      "text/html": [
       "<html><script type=\"math/tex; mode=display\">\\newcommand{\\Bold}[1]{\\mathbf{#1}}s_{8} s_{9} y_{1} = 0</script></html>"
      ],
      "text/latex": [
       "$$\\newcommand{\\Bold}[1]{\\mathbf{#1}}s_{8} s_{9} y_{1} = 0$$"
      ],
      "text/plain": [
       "s8*s9*y1 == 0"
      ]
     },
     "metadata": {},
     "output_type": "display_data"
    },
    {
     "data": {
      "text/html": [
       "<html><script type=\"math/tex; mode=display\">\\newcommand{\\Bold}[1]{\\mathbf{#1}}{\\left(s_{0}^{2} + s_{1}^{2} + s_{3}^{2} + s_{6}^{2}\\right)} y_{1} = 0</script></html>"
      ],
      "text/latex": [
       "$$\\newcommand{\\Bold}[1]{\\mathbf{#1}}{\\left(s_{0}^{2} + s_{1}^{2} + s_{3}^{2} + s_{6}^{2}\\right)} y_{1} = 0$$"
      ],
      "text/plain": [
       "(s0^2 + s1^2 + s3^2 + s6^2)*y1 == 0"
      ]
     },
     "metadata": {},
     "output_type": "display_data"
    },
    {
     "data": {
      "text/html": [
       "<html><script type=\"math/tex; mode=display\">\\newcommand{\\Bold}[1]{\\mathbf{#1}}-s_{6} s_{9} y_{1} = 0</script></html>"
      ],
      "text/latex": [
       "$$\\newcommand{\\Bold}[1]{\\mathbf{#1}}-s_{6} s_{9} y_{1} = 0$$"
      ],
      "text/plain": [
       "-s6*s9*y1 == 0"
      ]
     },
     "metadata": {},
     "output_type": "display_data"
    },
    {
     "data": {
      "text/html": [
       "<html><script type=\"math/tex; mode=display\">\\newcommand{\\Bold}[1]{\\mathbf{#1}}s_{7} s_{9} y_{5} + s_{8} s_{9} y_{6} + {\\left(s_{1} s_{2} + s_{3} s_{4} + s_{6} s_{7}\\right)} y_{2} + {\\left(s_{2}^{2} + s_{4}^{2} + s_{7}^{2}\\right)} y_{3} + {\\left(s_{3} s_{5} + s_{6} s_{8}\\right)} y_{3} + 2 \\, {\\left(s_{4} s_{5} + s_{7} s_{8}\\right)} y_{4} + {\\left(s_{5}^{2} + s_{8}^{2}\\right)} y_{5} = 0</script></html>"
      ],
      "text/latex": [
       "$$\\newcommand{\\Bold}[1]{\\mathbf{#1}}s_{7} s_{9} y_{5} + s_{8} s_{9} y_{6} + {\\left(s_{1} s_{2} + s_{3} s_{4} + s_{6} s_{7}\\right)} y_{2} + {\\left(s_{2}^{2} + s_{4}^{2} + s_{7}^{2}\\right)} y_{3} + {\\left(s_{3} s_{5} + s_{6} s_{8}\\right)} y_{3} + 2 \\, {\\left(s_{4} s_{5} + s_{7} s_{8}\\right)} y_{4} + {\\left(s_{5}^{2} + s_{8}^{2}\\right)} y_{5} = 0$$"
      ],
      "text/plain": [
       "s7*s9*y5 + s8*s9*y6 + (s1*s2 + s3*s4 + s6*s7)*y2 + (s2^2 + s4^2 + s7^2)*y3 + (s3*s5 + s6*s8)*y3 + 2*(s4*s5 + s7*s8)*y4 + (s5^2 + s8^2)*y5 == 0"
      ]
     },
     "metadata": {},
     "output_type": "display_data"
    },
    {
     "data": {
      "text/html": [
       "<html><script type=\"math/tex; mode=display\">\\newcommand{\\Bold}[1]{\\mathbf{#1}}-s_{6} s_{9} y_{1} + {\\left(s_{4} s_{5} + s_{7} s_{8}\\right)} y_{1} = 0</script></html>"
      ],
      "text/latex": [
       "$$\\newcommand{\\Bold}[1]{\\mathbf{#1}}-s_{6} s_{9} y_{1} + {\\left(s_{4} s_{5} + s_{7} s_{8}\\right)} y_{1} = 0$$"
      ],
      "text/plain": [
       "-s6*s9*y1 + (s4*s5 + s7*s8)*y1 == 0"
      ]
     },
     "metadata": {},
     "output_type": "display_data"
    },
    {
     "data": {
      "text/html": [
       "<html><script type=\"math/tex; mode=display\">\\newcommand{\\Bold}[1]{\\mathbf{#1}}-{\\left(s_{0}^{2} + s_{1}^{2} + s_{3}^{2} + s_{6}^{2}\\right)} y_{1} = 0</script></html>"
      ],
      "text/latex": [
       "$$\\newcommand{\\Bold}[1]{\\mathbf{#1}}-{\\left(s_{0}^{2} + s_{1}^{2} + s_{3}^{2} + s_{6}^{2}\\right)} y_{1} = 0$$"
      ],
      "text/plain": [
       "-(s0^2 + s1^2 + s3^2 + s6^2)*y1 == 0"
      ]
     },
     "metadata": {},
     "output_type": "display_data"
    },
    {
     "data": {
      "text/html": [
       "<html><script type=\"math/tex; mode=display\">\\newcommand{\\Bold}[1]{\\mathbf{#1}}-s_{7} s_{9} y_{5} - s_{8} s_{9} y_{6} - {\\left(s_{1} s_{2} + s_{3} s_{4} + s_{6} s_{7}\\right)} y_{2} - {\\left(s_{2}^{2} + s_{4}^{2} + s_{7}^{2}\\right)} y_{3} - {\\left(s_{3} s_{5} + s_{6} s_{8}\\right)} y_{3} - 2 \\, {\\left(s_{4} s_{5} + s_{7} s_{8}\\right)} y_{4} - {\\left(s_{5}^{2} + s_{8}^{2}\\right)} y_{5} = 0</script></html>"
      ],
      "text/latex": [
       "$$\\newcommand{\\Bold}[1]{\\mathbf{#1}}-s_{7} s_{9} y_{5} - s_{8} s_{9} y_{6} - {\\left(s_{1} s_{2} + s_{3} s_{4} + s_{6} s_{7}\\right)} y_{2} - {\\left(s_{2}^{2} + s_{4}^{2} + s_{7}^{2}\\right)} y_{3} - {\\left(s_{3} s_{5} + s_{6} s_{8}\\right)} y_{3} - 2 \\, {\\left(s_{4} s_{5} + s_{7} s_{8}\\right)} y_{4} - {\\left(s_{5}^{2} + s_{8}^{2}\\right)} y_{5} = 0$$"
      ],
      "text/plain": [
       "-s7*s9*y5 - s8*s9*y6 - (s1*s2 + s3*s4 + s6*s7)*y2 - (s2^2 + s4^2 + s7^2)*y3 - (s3*s5 + s6*s8)*y3 - 2*(s4*s5 + s7*s8)*y4 - (s5^2 + s8^2)*y5 == 0"
      ]
     },
     "metadata": {},
     "output_type": "display_data"
    },
    {
     "data": {
      "text/html": [
       "<html><script type=\"math/tex; mode=display\">\\newcommand{\\Bold}[1]{\\mathbf{#1}}-{\\left(s_{2}^{2} + s_{4}^{2} + s_{7}^{2}\\right)} y_{1} + {\\left(s_{3} s_{5} + s_{6} s_{8}\\right)} y_{1} = 0</script></html>"
      ],
      "text/latex": [
       "$$\\newcommand{\\Bold}[1]{\\mathbf{#1}}-{\\left(s_{2}^{2} + s_{4}^{2} + s_{7}^{2}\\right)} y_{1} + {\\left(s_{3} s_{5} + s_{6} s_{8}\\right)} y_{1} = 0$$"
      ],
      "text/plain": [
       "-(s2^2 + s4^2 + s7^2)*y1 + (s3*s5 + s6*s8)*y1 == 0"
      ]
     },
     "metadata": {},
     "output_type": "display_data"
    },
    {
     "data": {
      "text/html": [
       "<html><script type=\"math/tex; mode=display\">\\newcommand{\\Bold}[1]{\\mathbf{#1}}s_{6} s_{9} y_{1} = 0</script></html>"
      ],
      "text/latex": [
       "$$\\newcommand{\\Bold}[1]{\\mathbf{#1}}s_{6} s_{9} y_{1} = 0$$"
      ],
      "text/plain": [
       "s6*s9*y1 == 0"
      ]
     },
     "metadata": {},
     "output_type": "display_data"
    },
    {
     "data": {
      "text/html": [
       "<html><script type=\"math/tex; mode=display\">\\newcommand{\\Bold}[1]{\\mathbf{#1}}s_{6} s_{9} y_{2} + s_{7} s_{9} y_{3} + s_{8} s_{9} y_{4} + s_{9}^{2} y_{5} = 0</script></html>"
      ],
      "text/latex": [
       "$$\\newcommand{\\Bold}[1]{\\mathbf{#1}}s_{6} s_{9} y_{2} + s_{7} s_{9} y_{3} + s_{8} s_{9} y_{4} + s_{9}^{2} y_{5} = 0$$"
      ],
      "text/plain": [
       "s6*s9*y2 + s7*s9*y3 + s8*s9*y4 + s9^2*y5 == 0"
      ]
     },
     "metadata": {},
     "output_type": "display_data"
    },
    {
     "data": {
      "text/html": [
       "<html><script type=\"math/tex; mode=display\">\\newcommand{\\Bold}[1]{\\mathbf{#1}}-s_{9}^{2} y_{1} = 0</script></html>"
      ],
      "text/latex": [
       "$$\\newcommand{\\Bold}[1]{\\mathbf{#1}}-s_{9}^{2} y_{1} = 0$$"
      ],
      "text/plain": [
       "-s9^2*y1 == 0"
      ]
     },
     "metadata": {},
     "output_type": "display_data"
    },
    {
     "data": {
      "text/html": [
       "<html><script type=\"math/tex; mode=display\">\\newcommand{\\Bold}[1]{\\mathbf{#1}}-s_{7} s_{9} y_{1} + {\\left(s_{5}^{2} + s_{8}^{2}\\right)} y_{1} = 0</script></html>"
      ],
      "text/latex": [
       "$$\\newcommand{\\Bold}[1]{\\mathbf{#1}}-s_{7} s_{9} y_{1} + {\\left(s_{5}^{2} + s_{8}^{2}\\right)} y_{1} = 0$$"
      ],
      "text/plain": [
       "-s7*s9*y1 + (s5^2 + s8^2)*y1 == 0"
      ]
     },
     "metadata": {},
     "output_type": "display_data"
    },
    {
     "data": {
      "text/html": [
       "<html><script type=\"math/tex; mode=display\">\\newcommand{\\Bold}[1]{\\mathbf{#1}}s_{6} s_{9} y_{1} - {\\left(s_{4} s_{5} + s_{7} s_{8}\\right)} y_{1} = 0</script></html>"
      ],
      "text/latex": [
       "$$\\newcommand{\\Bold}[1]{\\mathbf{#1}}s_{6} s_{9} y_{1} - {\\left(s_{4} s_{5} + s_{7} s_{8}\\right)} y_{1} = 0$$"
      ],
      "text/plain": [
       "s6*s9*y1 - (s4*s5 + s7*s8)*y1 == 0"
      ]
     },
     "metadata": {},
     "output_type": "display_data"
    },
    {
     "data": {
      "text/html": [
       "<html><script type=\"math/tex; mode=display\">\\newcommand{\\Bold}[1]{\\mathbf{#1}}s_{7} s_{9} y_{1} - {\\left(s_{5}^{2} + s_{8}^{2}\\right)} y_{1} = 0</script></html>"
      ],
      "text/latex": [
       "$$\\newcommand{\\Bold}[1]{\\mathbf{#1}}s_{7} s_{9} y_{1} - {\\left(s_{5}^{2} + s_{8}^{2}\\right)} y_{1} = 0$$"
      ],
      "text/plain": [
       "s7*s9*y1 - (s5^2 + s8^2)*y1 == 0"
      ]
     },
     "metadata": {},
     "output_type": "display_data"
    },
    {
     "data": {
      "text/html": [
       "<html><script type=\"math/tex; mode=display\">\\newcommand{\\Bold}[1]{\\mathbf{#1}}-s_{6} s_{9} y_{5} - s_{7} s_{9} y_{6} - {\\left(s_{0}^{2} + s_{1}^{2} + s_{3}^{2} + s_{6}^{2}\\right)} y_{2} - 2 \\, {\\left(s_{1} s_{2} + s_{3} s_{4} + s_{6} s_{7}\\right)} y_{3} - {\\left(s_{2}^{2} + s_{4}^{2} + s_{7}^{2}\\right)} y_{4} - {\\left(s_{3} s_{5} + s_{6} s_{8}\\right)} y_{4} - {\\left(s_{4} s_{5} + s_{7} s_{8}\\right)} y_{5} = 0</script></html>"
      ],
      "text/latex": [
       "$$\\newcommand{\\Bold}[1]{\\mathbf{#1}}-s_{6} s_{9} y_{5} - s_{7} s_{9} y_{6} - {\\left(s_{0}^{2} + s_{1}^{2} + s_{3}^{2} + s_{6}^{2}\\right)} y_{2} - 2 \\, {\\left(s_{1} s_{2} + s_{3} s_{4} + s_{6} s_{7}\\right)} y_{3} - {\\left(s_{2}^{2} + s_{4}^{2} + s_{7}^{2}\\right)} y_{4} - {\\left(s_{3} s_{5} + s_{6} s_{8}\\right)} y_{4} - {\\left(s_{4} s_{5} + s_{7} s_{8}\\right)} y_{5} = 0$$"
      ],
      "text/plain": [
       "-s6*s9*y5 - s7*s9*y6 - (s0^2 + s1^2 + s3^2 + s6^2)*y2 - 2*(s1*s2 + s3*s4 + s6*s7)*y3 - (s2^2 + s4^2 + s7^2)*y4 - (s3*s5 + s6*s8)*y4 - (s4*s5 + s7*s8)*y5 == 0"
      ]
     },
     "metadata": {},
     "output_type": "display_data"
    }
   ],
   "source": [
    "sbst = []\n",
    "\n",
    "for eq in set(equations):\n",
    "    if eq.left().subs(sbst) != 0:\n",
    "        display(eq.subs(sbst))"
   ]
  },
  {
   "cell_type": "markdown",
   "metadata": {},
   "source": [
    "Since $s_9 \\neq 0$, we get $y_1 = 0$."
   ]
  },
  {
   "cell_type": "code",
   "execution_count": 7,
   "metadata": {},
   "outputs": [
    {
     "data": {
      "text/html": [
       "<html><script type=\"math/tex; mode=display\">\\newcommand{\\Bold}[1]{\\mathbf{#1}}-s_{6} s_{9} y_{2} - s_{7} s_{9} y_{3} - s_{8} s_{9} y_{4} - s_{9}^{2} y_{5} = 0</script></html>"
      ],
      "text/latex": [
       "$$\\newcommand{\\Bold}[1]{\\mathbf{#1}}-s_{6} s_{9} y_{2} - s_{7} s_{9} y_{3} - s_{8} s_{9} y_{4} - s_{9}^{2} y_{5} = 0$$"
      ],
      "text/plain": [
       "-s6*s9*y2 - s7*s9*y3 - s8*s9*y4 - s9^2*y5 == 0"
      ]
     },
     "metadata": {},
     "output_type": "display_data"
    },
    {
     "data": {
      "text/html": [
       "<html><script type=\"math/tex; mode=display\">\\newcommand{\\Bold}[1]{\\mathbf{#1}}s_{6} s_{9} y_{3} + s_{7} s_{9} y_{4} + 2 \\, s_{8} s_{9} y_{5} + s_{9}^{2} y_{6} + {\\left(s_{3} s_{5} + s_{6} s_{8}\\right)} y_{2} + {\\left(s_{4} s_{5} + s_{7} s_{8}\\right)} y_{3} + {\\left(s_{5}^{2} + s_{8}^{2}\\right)} y_{4} = 0</script></html>"
      ],
      "text/latex": [
       "$$\\newcommand{\\Bold}[1]{\\mathbf{#1}}s_{6} s_{9} y_{3} + s_{7} s_{9} y_{4} + 2 \\, s_{8} s_{9} y_{5} + s_{9}^{2} y_{6} + {\\left(s_{3} s_{5} + s_{6} s_{8}\\right)} y_{2} + {\\left(s_{4} s_{5} + s_{7} s_{8}\\right)} y_{3} + {\\left(s_{5}^{2} + s_{8}^{2}\\right)} y_{4} = 0$$"
      ],
      "text/plain": [
       "s6*s9*y3 + s7*s9*y4 + 2*s8*s9*y5 + s9^2*y6 + (s3*s5 + s6*s8)*y2 + (s4*s5 + s7*s8)*y3 + (s5^2 + s8^2)*y4 == 0"
      ]
     },
     "metadata": {},
     "output_type": "display_data"
    },
    {
     "data": {
      "text/html": [
       "<html><script type=\"math/tex; mode=display\">\\newcommand{\\Bold}[1]{\\mathbf{#1}}-s_{6} s_{9} y_{3} - s_{7} s_{9} y_{4} - 2 \\, s_{8} s_{9} y_{5} - s_{9}^{2} y_{6} - {\\left(s_{3} s_{5} + s_{6} s_{8}\\right)} y_{2} - {\\left(s_{4} s_{5} + s_{7} s_{8}\\right)} y_{3} - {\\left(s_{5}^{2} + s_{8}^{2}\\right)} y_{4} = 0</script></html>"
      ],
      "text/latex": [
       "$$\\newcommand{\\Bold}[1]{\\mathbf{#1}}-s_{6} s_{9} y_{3} - s_{7} s_{9} y_{4} - 2 \\, s_{8} s_{9} y_{5} - s_{9}^{2} y_{6} - {\\left(s_{3} s_{5} + s_{6} s_{8}\\right)} y_{2} - {\\left(s_{4} s_{5} + s_{7} s_{8}\\right)} y_{3} - {\\left(s_{5}^{2} + s_{8}^{2}\\right)} y_{4} = 0$$"
      ],
      "text/plain": [
       "-s6*s9*y3 - s7*s9*y4 - 2*s8*s9*y5 - s9^2*y6 - (s3*s5 + s6*s8)*y2 - (s4*s5 + s7*s8)*y3 - (s5^2 + s8^2)*y4 == 0"
      ]
     },
     "metadata": {},
     "output_type": "display_data"
    },
    {
     "data": {
      "text/html": [
       "<html><script type=\"math/tex; mode=display\">\\newcommand{\\Bold}[1]{\\mathbf{#1}}s_{6} s_{9} y_{6} + {\\left(s_{0}^{2} + s_{1}^{2} + s_{3}^{2} + s_{6}^{2}\\right)} y_{3} + {\\left(s_{1} s_{2} + s_{3} s_{4} + s_{6} s_{7}\\right)} y_{4} + {\\left(s_{3} s_{5} + s_{6} s_{8}\\right)} y_{5} = 0</script></html>"
      ],
      "text/latex": [
       "$$\\newcommand{\\Bold}[1]{\\mathbf{#1}}s_{6} s_{9} y_{6} + {\\left(s_{0}^{2} + s_{1}^{2} + s_{3}^{2} + s_{6}^{2}\\right)} y_{3} + {\\left(s_{1} s_{2} + s_{3} s_{4} + s_{6} s_{7}\\right)} y_{4} + {\\left(s_{3} s_{5} + s_{6} s_{8}\\right)} y_{5} = 0$$"
      ],
      "text/plain": [
       "s6*s9*y6 + (s0^2 + s1^2 + s3^2 + s6^2)*y3 + (s1*s2 + s3*s4 + s6*s7)*y4 + (s3*s5 + s6*s8)*y5 == 0"
      ]
     },
     "metadata": {},
     "output_type": "display_data"
    },
    {
     "data": {
      "text/html": [
       "<html><script type=\"math/tex; mode=display\">\\newcommand{\\Bold}[1]{\\mathbf{#1}}-s_{6} s_{9} y_{6} - {\\left(s_{0}^{2} + s_{1}^{2} + s_{3}^{2} + s_{6}^{2}\\right)} y_{3} - {\\left(s_{1} s_{2} + s_{3} s_{4} + s_{6} s_{7}\\right)} y_{4} - {\\left(s_{3} s_{5} + s_{6} s_{8}\\right)} y_{5} = 0</script></html>"
      ],
      "text/latex": [
       "$$\\newcommand{\\Bold}[1]{\\mathbf{#1}}-s_{6} s_{9} y_{6} - {\\left(s_{0}^{2} + s_{1}^{2} + s_{3}^{2} + s_{6}^{2}\\right)} y_{3} - {\\left(s_{1} s_{2} + s_{3} s_{4} + s_{6} s_{7}\\right)} y_{4} - {\\left(s_{3} s_{5} + s_{6} s_{8}\\right)} y_{5} = 0$$"
      ],
      "text/plain": [
       "-s6*s9*y6 - (s0^2 + s1^2 + s3^2 + s6^2)*y3 - (s1*s2 + s3*s4 + s6*s7)*y4 - (s3*s5 + s6*s8)*y5 == 0"
      ]
     },
     "metadata": {},
     "output_type": "display_data"
    },
    {
     "data": {
      "text/html": [
       "<html><script type=\"math/tex; mode=display\">\\newcommand{\\Bold}[1]{\\mathbf{#1}}s_{6} s_{9} y_{5} + s_{7} s_{9} y_{6} + {\\left(s_{0}^{2} + s_{1}^{2} + s_{3}^{2} + s_{6}^{2}\\right)} y_{2} + 2 \\, {\\left(s_{1} s_{2} + s_{3} s_{4} + s_{6} s_{7}\\right)} y_{3} + {\\left(s_{2}^{2} + s_{4}^{2} + s_{7}^{2}\\right)} y_{4} + {\\left(s_{3} s_{5} + s_{6} s_{8}\\right)} y_{4} + {\\left(s_{4} s_{5} + s_{7} s_{8}\\right)} y_{5} = 0</script></html>"
      ],
      "text/latex": [
       "$$\\newcommand{\\Bold}[1]{\\mathbf{#1}}s_{6} s_{9} y_{5} + s_{7} s_{9} y_{6} + {\\left(s_{0}^{2} + s_{1}^{2} + s_{3}^{2} + s_{6}^{2}\\right)} y_{2} + 2 \\, {\\left(s_{1} s_{2} + s_{3} s_{4} + s_{6} s_{7}\\right)} y_{3} + {\\left(s_{2}^{2} + s_{4}^{2} + s_{7}^{2}\\right)} y_{4} + {\\left(s_{3} s_{5} + s_{6} s_{8}\\right)} y_{4} + {\\left(s_{4} s_{5} + s_{7} s_{8}\\right)} y_{5} = 0$$"
      ],
      "text/plain": [
       "s6*s9*y5 + s7*s9*y6 + (s0^2 + s1^2 + s3^2 + s6^2)*y2 + 2*(s1*s2 + s3*s4 + s6*s7)*y3 + (s2^2 + s4^2 + s7^2)*y4 + (s3*s5 + s6*s8)*y4 + (s4*s5 + s7*s8)*y5 == 0"
      ]
     },
     "metadata": {},
     "output_type": "display_data"
    },
    {
     "data": {
      "text/html": [
       "<html><script type=\"math/tex; mode=display\">\\newcommand{\\Bold}[1]{\\mathbf{#1}}s_{7} s_{9} y_{5} + s_{8} s_{9} y_{6} + {\\left(s_{1} s_{2} + s_{3} s_{4} + s_{6} s_{7}\\right)} y_{2} + {\\left(s_{2}^{2} + s_{4}^{2} + s_{7}^{2}\\right)} y_{3} + {\\left(s_{3} s_{5} + s_{6} s_{8}\\right)} y_{3} + 2 \\, {\\left(s_{4} s_{5} + s_{7} s_{8}\\right)} y_{4} + {\\left(s_{5}^{2} + s_{8}^{2}\\right)} y_{5} = 0</script></html>"
      ],
      "text/latex": [
       "$$\\newcommand{\\Bold}[1]{\\mathbf{#1}}s_{7} s_{9} y_{5} + s_{8} s_{9} y_{6} + {\\left(s_{1} s_{2} + s_{3} s_{4} + s_{6} s_{7}\\right)} y_{2} + {\\left(s_{2}^{2} + s_{4}^{2} + s_{7}^{2}\\right)} y_{3} + {\\left(s_{3} s_{5} + s_{6} s_{8}\\right)} y_{3} + 2 \\, {\\left(s_{4} s_{5} + s_{7} s_{8}\\right)} y_{4} + {\\left(s_{5}^{2} + s_{8}^{2}\\right)} y_{5} = 0$$"
      ],
      "text/plain": [
       "s7*s9*y5 + s8*s9*y6 + (s1*s2 + s3*s4 + s6*s7)*y2 + (s2^2 + s4^2 + s7^2)*y3 + (s3*s5 + s6*s8)*y3 + 2*(s4*s5 + s7*s8)*y4 + (s5^2 + s8^2)*y5 == 0"
      ]
     },
     "metadata": {},
     "output_type": "display_data"
    },
    {
     "data": {
      "text/html": [
       "<html><script type=\"math/tex; mode=display\">\\newcommand{\\Bold}[1]{\\mathbf{#1}}-s_{7} s_{9} y_{5} - s_{8} s_{9} y_{6} - {\\left(s_{1} s_{2} + s_{3} s_{4} + s_{6} s_{7}\\right)} y_{2} - {\\left(s_{2}^{2} + s_{4}^{2} + s_{7}^{2}\\right)} y_{3} - {\\left(s_{3} s_{5} + s_{6} s_{8}\\right)} y_{3} - 2 \\, {\\left(s_{4} s_{5} + s_{7} s_{8}\\right)} y_{4} - {\\left(s_{5}^{2} + s_{8}^{2}\\right)} y_{5} = 0</script></html>"
      ],
      "text/latex": [
       "$$\\newcommand{\\Bold}[1]{\\mathbf{#1}}-s_{7} s_{9} y_{5} - s_{8} s_{9} y_{6} - {\\left(s_{1} s_{2} + s_{3} s_{4} + s_{6} s_{7}\\right)} y_{2} - {\\left(s_{2}^{2} + s_{4}^{2} + s_{7}^{2}\\right)} y_{3} - {\\left(s_{3} s_{5} + s_{6} s_{8}\\right)} y_{3} - 2 \\, {\\left(s_{4} s_{5} + s_{7} s_{8}\\right)} y_{4} - {\\left(s_{5}^{2} + s_{8}^{2}\\right)} y_{5} = 0$$"
      ],
      "text/plain": [
       "-s7*s9*y5 - s8*s9*y6 - (s1*s2 + s3*s4 + s6*s7)*y2 - (s2^2 + s4^2 + s7^2)*y3 - (s3*s5 + s6*s8)*y3 - 2*(s4*s5 + s7*s8)*y4 - (s5^2 + s8^2)*y5 == 0"
      ]
     },
     "metadata": {},
     "output_type": "display_data"
    },
    {
     "data": {
      "text/html": [
       "<html><script type=\"math/tex; mode=display\">\\newcommand{\\Bold}[1]{\\mathbf{#1}}s_{6} s_{9} y_{2} + s_{7} s_{9} y_{3} + s_{8} s_{9} y_{4} + s_{9}^{2} y_{5} = 0</script></html>"
      ],
      "text/latex": [
       "$$\\newcommand{\\Bold}[1]{\\mathbf{#1}}s_{6} s_{9} y_{2} + s_{7} s_{9} y_{3} + s_{8} s_{9} y_{4} + s_{9}^{2} y_{5} = 0$$"
      ],
      "text/plain": [
       "s6*s9*y2 + s7*s9*y3 + s8*s9*y4 + s9^2*y5 == 0"
      ]
     },
     "metadata": {},
     "output_type": "display_data"
    },
    {
     "data": {
      "text/html": [
       "<html><script type=\"math/tex; mode=display\">\\newcommand{\\Bold}[1]{\\mathbf{#1}}-s_{6} s_{9} y_{5} - s_{7} s_{9} y_{6} - {\\left(s_{0}^{2} + s_{1}^{2} + s_{3}^{2} + s_{6}^{2}\\right)} y_{2} - 2 \\, {\\left(s_{1} s_{2} + s_{3} s_{4} + s_{6} s_{7}\\right)} y_{3} - {\\left(s_{2}^{2} + s_{4}^{2} + s_{7}^{2}\\right)} y_{4} - {\\left(s_{3} s_{5} + s_{6} s_{8}\\right)} y_{4} - {\\left(s_{4} s_{5} + s_{7} s_{8}\\right)} y_{5} = 0</script></html>"
      ],
      "text/latex": [
       "$$\\newcommand{\\Bold}[1]{\\mathbf{#1}}-s_{6} s_{9} y_{5} - s_{7} s_{9} y_{6} - {\\left(s_{0}^{2} + s_{1}^{2} + s_{3}^{2} + s_{6}^{2}\\right)} y_{2} - 2 \\, {\\left(s_{1} s_{2} + s_{3} s_{4} + s_{6} s_{7}\\right)} y_{3} - {\\left(s_{2}^{2} + s_{4}^{2} + s_{7}^{2}\\right)} y_{4} - {\\left(s_{3} s_{5} + s_{6} s_{8}\\right)} y_{4} - {\\left(s_{4} s_{5} + s_{7} s_{8}\\right)} y_{5} = 0$$"
      ],
      "text/plain": [
       "-s6*s9*y5 - s7*s9*y6 - (s0^2 + s1^2 + s3^2 + s6^2)*y2 - 2*(s1*s2 + s3*s4 + s6*s7)*y3 - (s2^2 + s4^2 + s7^2)*y4 - (s3*s5 + s6*s8)*y4 - (s4*s5 + s7*s8)*y5 == 0"
      ]
     },
     "metadata": {},
     "output_type": "display_data"
    }
   ],
   "source": [
    "sbst = [y1==0]\n",
    "\n",
    "for eq in set(equations):\n",
    "    if eq.left().subs(sbst) != 0:\n",
    "        display(eq.subs(sbst))"
   ]
  },
  {
   "cell_type": "markdown",
   "metadata": {},
   "source": [
    "Since $s_9 \\neq 0$, we get $\\displaystyle y_{5} = -\\frac{s_{6} y_{2} + s_{7} y_{3} + s_{8} y_{4}}{s_{9}}$."
   ]
  },
  {
   "cell_type": "code",
   "execution_count": 8,
   "metadata": {},
   "outputs": [
    {
     "data": {
      "text/html": [
       "<html><script type=\"math/tex; mode=display\">\\newcommand{\\Bold}[1]{\\mathbf{#1}}0 = 0</script></html>"
      ],
      "text/latex": [
       "$$\\newcommand{\\Bold}[1]{\\mathbf{#1}}0 = 0$$"
      ],
      "text/plain": [
       "0 == 0"
      ]
     },
     "metadata": {},
     "output_type": "display_data"
    },
    {
     "data": {
      "text/html": [
       "<html><script type=\"math/tex; mode=display\">\\newcommand{\\Bold}[1]{\\mathbf{#1}}s_{9}^{2} y_{6} + {\\left(s_{3} s_{5} - s_{6} s_{8}\\right)} y_{2} + {\\left(s_{4} s_{5} - s_{7} s_{8} + s_{6} s_{9}\\right)} y_{3} + {\\left(s_{5}^{2} - s_{8}^{2} + s_{7} s_{9}\\right)} y_{4} = 0</script></html>"
      ],
      "text/latex": [
       "$$\\newcommand{\\Bold}[1]{\\mathbf{#1}}s_{9}^{2} y_{6} + {\\left(s_{3} s_{5} - s_{6} s_{8}\\right)} y_{2} + {\\left(s_{4} s_{5} - s_{7} s_{8} + s_{6} s_{9}\\right)} y_{3} + {\\left(s_{5}^{2} - s_{8}^{2} + s_{7} s_{9}\\right)} y_{4} = 0$$"
      ],
      "text/plain": [
       "s9^2*y6 + (s3*s5 - s6*s8)*y2 + (s4*s5 - s7*s8 + s6*s9)*y3 + (s5^2 - s8^2 + s7*s9)*y4 == 0"
      ]
     },
     "metadata": {},
     "output_type": "display_data"
    },
    {
     "data": {
      "text/html": [
       "<html><script type=\"math/tex; mode=display\">\\newcommand{\\Bold}[1]{\\mathbf{#1}}-s_{9}^{2} y_{6} - {\\left(s_{3} s_{5} - s_{6} s_{8}\\right)} y_{2} - {\\left(s_{4} s_{5} - s_{7} s_{8} + s_{6} s_{9}\\right)} y_{3} - {\\left(s_{5}^{2} - s_{8}^{2} + s_{7} s_{9}\\right)} y_{4} = 0</script></html>"
      ],
      "text/latex": [
       "$$\\newcommand{\\Bold}[1]{\\mathbf{#1}}-s_{9}^{2} y_{6} - {\\left(s_{3} s_{5} - s_{6} s_{8}\\right)} y_{2} - {\\left(s_{4} s_{5} - s_{7} s_{8} + s_{6} s_{9}\\right)} y_{3} - {\\left(s_{5}^{2} - s_{8}^{2} + s_{7} s_{9}\\right)} y_{4} = 0$$"
      ],
      "text/plain": [
       "-s9^2*y6 - (s3*s5 - s6*s8)*y2 - (s4*s5 - s7*s8 + s6*s9)*y3 - (s5^2 - s8^2 + s7*s9)*y4 == 0"
      ]
     },
     "metadata": {},
     "output_type": "display_data"
    },
    {
     "data": {
      "text/html": [
       "<html><script type=\"math/tex; mode=display\">\\newcommand{\\Bold}[1]{\\mathbf{#1}}\\frac{s_{6} s_{9}^{2} y_{6} - {\\left(s_{3} s_{5} s_{6} + s_{6}^{2} s_{8}\\right)} y_{2} - {\\left(s_{3} s_{5} s_{7} + s_{6} s_{7} s_{8} - {\\left(s_{0}^{2} + s_{1}^{2} + s_{3}^{2} + s_{6}^{2}\\right)} s_{9}\\right)} y_{3} - {\\left(s_{3} s_{5} s_{8} + s_{6} s_{8}^{2} - {\\left(s_{1} s_{2} + s_{3} s_{4} + s_{6} s_{7}\\right)} s_{9}\\right)} y_{4}}{s_{9}} = 0</script></html>"
      ],
      "text/latex": [
       "$$\\newcommand{\\Bold}[1]{\\mathbf{#1}}\\frac{s_{6} s_{9}^{2} y_{6} - {\\left(s_{3} s_{5} s_{6} + s_{6}^{2} s_{8}\\right)} y_{2} - {\\left(s_{3} s_{5} s_{7} + s_{6} s_{7} s_{8} - {\\left(s_{0}^{2} + s_{1}^{2} + s_{3}^{2} + s_{6}^{2}\\right)} s_{9}\\right)} y_{3} - {\\left(s_{3} s_{5} s_{8} + s_{6} s_{8}^{2} - {\\left(s_{1} s_{2} + s_{3} s_{4} + s_{6} s_{7}\\right)} s_{9}\\right)} y_{4}}{s_{9}} = 0$$"
      ],
      "text/plain": [
       "(s6*s9^2*y6 - (s3*s5*s6 + s6^2*s8)*y2 - (s3*s5*s7 + s6*s7*s8 - (s0^2 + s1^2 + s3^2 + s6^2)*s9)*y3 - (s3*s5*s8 + s6*s8^2 - (s1*s2 + s3*s4 + s6*s7)*s9)*y4)/s9 == 0"
      ]
     },
     "metadata": {},
     "output_type": "display_data"
    },
    {
     "data": {
      "text/html": [
       "<html><script type=\"math/tex; mode=display\">\\newcommand{\\Bold}[1]{\\mathbf{#1}}-\\frac{s_{6} s_{9}^{2} y_{6} - {\\left(s_{3} s_{5} s_{6} + s_{6}^{2} s_{8}\\right)} y_{2} - {\\left(s_{3} s_{5} s_{7} + s_{6} s_{7} s_{8} - {\\left(s_{0}^{2} + s_{1}^{2} + s_{3}^{2} + s_{6}^{2}\\right)} s_{9}\\right)} y_{3} - {\\left(s_{3} s_{5} s_{8} + s_{6} s_{8}^{2} - {\\left(s_{1} s_{2} + s_{3} s_{4} + s_{6} s_{7}\\right)} s_{9}\\right)} y_{4}}{s_{9}} = 0</script></html>"
      ],
      "text/latex": [
       "$$\\newcommand{\\Bold}[1]{\\mathbf{#1}}-\\frac{s_{6} s_{9}^{2} y_{6} - {\\left(s_{3} s_{5} s_{6} + s_{6}^{2} s_{8}\\right)} y_{2} - {\\left(s_{3} s_{5} s_{7} + s_{6} s_{7} s_{8} - {\\left(s_{0}^{2} + s_{1}^{2} + s_{3}^{2} + s_{6}^{2}\\right)} s_{9}\\right)} y_{3} - {\\left(s_{3} s_{5} s_{8} + s_{6} s_{8}^{2} - {\\left(s_{1} s_{2} + s_{3} s_{4} + s_{6} s_{7}\\right)} s_{9}\\right)} y_{4}}{s_{9}} = 0$$"
      ],
      "text/plain": [
       "-(s6*s9^2*y6 - (s3*s5*s6 + s6^2*s8)*y2 - (s3*s5*s7 + s6*s7*s8 - (s0^2 + s1^2 + s3^2 + s6^2)*s9)*y3 - (s3*s5*s8 + s6*s8^2 - (s1*s2 + s3*s4 + s6*s7)*s9)*y4)/s9 == 0"
      ]
     },
     "metadata": {},
     "output_type": "display_data"
    },
    {
     "data": {
      "text/html": [
       "<html><script type=\"math/tex; mode=display\">\\newcommand{\\Bold}[1]{\\mathbf{#1}}\\frac{s_{7} s_{9}^{2} y_{6} - {\\left(s_{4} s_{5} s_{6} + s_{6} s_{7} s_{8} - {\\left(s_{0}^{2} + s_{1}^{2} + s_{3}^{2}\\right)} s_{9}\\right)} y_{2} - {\\left(s_{4} s_{5} s_{7} + s_{7}^{2} s_{8} - {\\left(2 \\, s_{1} s_{2} + 2 \\, s_{3} s_{4} + s_{6} s_{7}\\right)} s_{9}\\right)} y_{3} - {\\left(s_{4} s_{5} s_{8} + s_{7} s_{8}^{2} - {\\left(s_{2}^{2} + s_{4}^{2} + s_{3} s_{5} + s_{7}^{2}\\right)} s_{9}\\right)} y_{4}}{s_{9}} = 0</script></html>"
      ],
      "text/latex": [
       "$$\\newcommand{\\Bold}[1]{\\mathbf{#1}}\\frac{s_{7} s_{9}^{2} y_{6} - {\\left(s_{4} s_{5} s_{6} + s_{6} s_{7} s_{8} - {\\left(s_{0}^{2} + s_{1}^{2} + s_{3}^{2}\\right)} s_{9}\\right)} y_{2} - {\\left(s_{4} s_{5} s_{7} + s_{7}^{2} s_{8} - {\\left(2 \\, s_{1} s_{2} + 2 \\, s_{3} s_{4} + s_{6} s_{7}\\right)} s_{9}\\right)} y_{3} - {\\left(s_{4} s_{5} s_{8} + s_{7} s_{8}^{2} - {\\left(s_{2}^{2} + s_{4}^{2} + s_{3} s_{5} + s_{7}^{2}\\right)} s_{9}\\right)} y_{4}}{s_{9}} = 0$$"
      ],
      "text/plain": [
       "(s7*s9^2*y6 - (s4*s5*s6 + s6*s7*s8 - (s0^2 + s1^2 + s3^2)*s9)*y2 - (s4*s5*s7 + s7^2*s8 - (2*s1*s2 + 2*s3*s4 + s6*s7)*s9)*y3 - (s4*s5*s8 + s7*s8^2 - (s2^2 + s4^2 + s3*s5 + s7^2)*s9)*y4)/s9 == 0"
      ]
     },
     "metadata": {},
     "output_type": "display_data"
    },
    {
     "data": {
      "text/html": [
       "<html><script type=\"math/tex; mode=display\">\\newcommand{\\Bold}[1]{\\mathbf{#1}}\\frac{s_{8} s_{9}^{2} y_{6} - {\\left(s_{5}^{2} s_{6} + s_{6} s_{8}^{2} - {\\left(s_{1} s_{2} + s_{3} s_{4}\\right)} s_{9}\\right)} y_{2} - {\\left(s_{5}^{2} s_{7} + s_{7} s_{8}^{2} - {\\left(s_{2}^{2} + s_{4}^{2} + s_{3} s_{5} + s_{6} s_{8}\\right)} s_{9}\\right)} y_{3} - {\\left(s_{5}^{2} s_{8} + s_{8}^{3} - {\\left(2 \\, s_{4} s_{5} + s_{7} s_{8}\\right)} s_{9}\\right)} y_{4}}{s_{9}} = 0</script></html>"
      ],
      "text/latex": [
       "$$\\newcommand{\\Bold}[1]{\\mathbf{#1}}\\frac{s_{8} s_{9}^{2} y_{6} - {\\left(s_{5}^{2} s_{6} + s_{6} s_{8}^{2} - {\\left(s_{1} s_{2} + s_{3} s_{4}\\right)} s_{9}\\right)} y_{2} - {\\left(s_{5}^{2} s_{7} + s_{7} s_{8}^{2} - {\\left(s_{2}^{2} + s_{4}^{2} + s_{3} s_{5} + s_{6} s_{8}\\right)} s_{9}\\right)} y_{3} - {\\left(s_{5}^{2} s_{8} + s_{8}^{3} - {\\left(2 \\, s_{4} s_{5} + s_{7} s_{8}\\right)} s_{9}\\right)} y_{4}}{s_{9}} = 0$$"
      ],
      "text/plain": [
       "(s8*s9^2*y6 - (s5^2*s6 + s6*s8^2 - (s1*s2 + s3*s4)*s9)*y2 - (s5^2*s7 + s7*s8^2 - (s2^2 + s4^2 + s3*s5 + s6*s8)*s9)*y3 - (s5^2*s8 + s8^3 - (2*s4*s5 + s7*s8)*s9)*y4)/s9 == 0"
      ]
     },
     "metadata": {},
     "output_type": "display_data"
    },
    {
     "data": {
      "text/html": [
       "<html><script type=\"math/tex; mode=display\">\\newcommand{\\Bold}[1]{\\mathbf{#1}}-\\frac{s_{8} s_{9}^{2} y_{6} - {\\left(s_{5}^{2} s_{6} + s_{6} s_{8}^{2} - {\\left(s_{1} s_{2} + s_{3} s_{4}\\right)} s_{9}\\right)} y_{2} - {\\left(s_{5}^{2} s_{7} + s_{7} s_{8}^{2} - {\\left(s_{2}^{2} + s_{4}^{2} + s_{3} s_{5} + s_{6} s_{8}\\right)} s_{9}\\right)} y_{3} - {\\left(s_{5}^{2} s_{8} + s_{8}^{3} - {\\left(2 \\, s_{4} s_{5} + s_{7} s_{8}\\right)} s_{9}\\right)} y_{4}}{s_{9}} = 0</script></html>"
      ],
      "text/latex": [
       "$$\\newcommand{\\Bold}[1]{\\mathbf{#1}}-\\frac{s_{8} s_{9}^{2} y_{6} - {\\left(s_{5}^{2} s_{6} + s_{6} s_{8}^{2} - {\\left(s_{1} s_{2} + s_{3} s_{4}\\right)} s_{9}\\right)} y_{2} - {\\left(s_{5}^{2} s_{7} + s_{7} s_{8}^{2} - {\\left(s_{2}^{2} + s_{4}^{2} + s_{3} s_{5} + s_{6} s_{8}\\right)} s_{9}\\right)} y_{3} - {\\left(s_{5}^{2} s_{8} + s_{8}^{3} - {\\left(2 \\, s_{4} s_{5} + s_{7} s_{8}\\right)} s_{9}\\right)} y_{4}}{s_{9}} = 0$$"
      ],
      "text/plain": [
       "-(s8*s9^2*y6 - (s5^2*s6 + s6*s8^2 - (s1*s2 + s3*s4)*s9)*y2 - (s5^2*s7 + s7*s8^2 - (s2^2 + s4^2 + s3*s5 + s6*s8)*s9)*y3 - (s5^2*s8 + s8^3 - (2*s4*s5 + s7*s8)*s9)*y4)/s9 == 0"
      ]
     },
     "metadata": {},
     "output_type": "display_data"
    },
    {
     "data": {
      "text/html": [
       "<html><script type=\"math/tex; mode=display\">\\newcommand{\\Bold}[1]{\\mathbf{#1}}0 = 0</script></html>"
      ],
      "text/latex": [
       "$$\\newcommand{\\Bold}[1]{\\mathbf{#1}}0 = 0$$"
      ],
      "text/plain": [
       "0 == 0"
      ]
     },
     "metadata": {},
     "output_type": "display_data"
    },
    {
     "data": {
      "text/html": [
       "<html><script type=\"math/tex; mode=display\">\\newcommand{\\Bold}[1]{\\mathbf{#1}}-\\frac{s_{7} s_{9}^{2} y_{6} - {\\left(s_{4} s_{5} s_{6} + s_{6} s_{7} s_{8} - {\\left(s_{0}^{2} + s_{1}^{2} + s_{3}^{2}\\right)} s_{9}\\right)} y_{2} - {\\left(s_{4} s_{5} s_{7} + s_{7}^{2} s_{8} - {\\left(2 \\, s_{1} s_{2} + 2 \\, s_{3} s_{4} + s_{6} s_{7}\\right)} s_{9}\\right)} y_{3} - {\\left(s_{4} s_{5} s_{8} + s_{7} s_{8}^{2} - {\\left(s_{2}^{2} + s_{4}^{2} + s_{3} s_{5} + s_{7}^{2}\\right)} s_{9}\\right)} y_{4}}{s_{9}} = 0</script></html>"
      ],
      "text/latex": [
       "$$\\newcommand{\\Bold}[1]{\\mathbf{#1}}-\\frac{s_{7} s_{9}^{2} y_{6} - {\\left(s_{4} s_{5} s_{6} + s_{6} s_{7} s_{8} - {\\left(s_{0}^{2} + s_{1}^{2} + s_{3}^{2}\\right)} s_{9}\\right)} y_{2} - {\\left(s_{4} s_{5} s_{7} + s_{7}^{2} s_{8} - {\\left(2 \\, s_{1} s_{2} + 2 \\, s_{3} s_{4} + s_{6} s_{7}\\right)} s_{9}\\right)} y_{3} - {\\left(s_{4} s_{5} s_{8} + s_{7} s_{8}^{2} - {\\left(s_{2}^{2} + s_{4}^{2} + s_{3} s_{5} + s_{7}^{2}\\right)} s_{9}\\right)} y_{4}}{s_{9}} = 0$$"
      ],
      "text/plain": [
       "-(s7*s9^2*y6 - (s4*s5*s6 + s6*s7*s8 - (s0^2 + s1^2 + s3^2)*s9)*y2 - (s4*s5*s7 + s7^2*s8 - (2*s1*s2 + 2*s3*s4 + s6*s7)*s9)*y3 - (s4*s5*s8 + s7*s8^2 - (s2^2 + s4^2 + s3*s5 + s7^2)*s9)*y4)/s9 == 0"
      ]
     },
     "metadata": {},
     "output_type": "display_data"
    }
   ],
   "source": [
    "sbst = [y1==0, y5==-(s6*y2+s7*y3+s8*y4)/s9]\n",
    "\n",
    "for eq in set(equations):\n",
    "    if eq.left().subs(sbst) != 0:\n",
    "        display(eq.subs(sbst).simplify_full())"
   ]
  },
  {
   "cell_type": "markdown",
   "metadata": {},
   "source": [
    "Since $s_9 \\neq 0$, we get $\\displaystyle y_{6} = -\\frac{{\\left(s_{3} s_{5} - s_{6} s_{8}\\right)} y_{2} + {\\left(s_{4} s_{5} - s_{7} s_{8} + s_{6} s_{9}\\right)} y_{3} + {\\left(s_{5}^{2} - s_{8}^{2} + s_{7} s_{9}\\right)} y_{4}}{s_{9}^{2}}$. "
   ]
  },
  {
   "cell_type": "code",
   "execution_count": 9,
   "metadata": {},
   "outputs": [
    {
     "data": {
      "text/html": [
       "<html><script type=\"math/tex; mode=display\">\\newcommand{\\Bold}[1]{\\mathbf{#1}}0 = 0</script></html>"
      ],
      "text/latex": [
       "$$\\newcommand{\\Bold}[1]{\\mathbf{#1}}0 = 0$$"
      ],
      "text/plain": [
       "0 == 0"
      ]
     },
     "metadata": {},
     "output_type": "display_data"
    },
    {
     "data": {
      "text/html": [
       "<html><script type=\"math/tex; mode=display\">\\newcommand{\\Bold}[1]{\\mathbf{#1}}0 = 0</script></html>"
      ],
      "text/latex": [
       "$$\\newcommand{\\Bold}[1]{\\mathbf{#1}}0 = 0$$"
      ],
      "text/plain": [
       "0 == 0"
      ]
     },
     "metadata": {},
     "output_type": "display_data"
    },
    {
     "data": {
      "text/html": [
       "<html><script type=\"math/tex; mode=display\">\\newcommand{\\Bold}[1]{\\mathbf{#1}}0 = 0</script></html>"
      ],
      "text/latex": [
       "$$\\newcommand{\\Bold}[1]{\\mathbf{#1}}0 = 0$$"
      ],
      "text/plain": [
       "0 == 0"
      ]
     },
     "metadata": {},
     "output_type": "display_data"
    },
    {
     "data": {
      "text/html": [
       "<html><script type=\"math/tex; mode=display\">\\newcommand{\\Bold}[1]{\\mathbf{#1}}-\\frac{2 \\, s_{3} s_{5} s_{6} y_{2} + {\\left(s_{4} s_{5} s_{6} + s_{3} s_{5} s_{7} - {\\left(s_{0}^{2} + s_{1}^{2} + s_{3}^{2}\\right)} s_{9}\\right)} y_{3} + {\\left(s_{5}^{2} s_{6} + s_{3} s_{5} s_{8} - {\\left(s_{1} s_{2} + s_{3} s_{4}\\right)} s_{9}\\right)} y_{4}}{s_{9}} = 0</script></html>"
      ],
      "text/latex": [
       "$$\\newcommand{\\Bold}[1]{\\mathbf{#1}}-\\frac{2 \\, s_{3} s_{5} s_{6} y_{2} + {\\left(s_{4} s_{5} s_{6} + s_{3} s_{5} s_{7} - {\\left(s_{0}^{2} + s_{1}^{2} + s_{3}^{2}\\right)} s_{9}\\right)} y_{3} + {\\left(s_{5}^{2} s_{6} + s_{3} s_{5} s_{8} - {\\left(s_{1} s_{2} + s_{3} s_{4}\\right)} s_{9}\\right)} y_{4}}{s_{9}} = 0$$"
      ],
      "text/plain": [
       "-(2*s3*s5*s6*y2 + (s4*s5*s6 + s3*s5*s7 - (s0^2 + s1^2 + s3^2)*s9)*y3 + (s5^2*s6 + s3*s5*s8 - (s1*s2 + s3*s4)*s9)*y4)/s9 == 0"
      ]
     },
     "metadata": {},
     "output_type": "display_data"
    },
    {
     "data": {
      "text/html": [
       "<html><script type=\"math/tex; mode=display\">\\newcommand{\\Bold}[1]{\\mathbf{#1}}\\frac{2 \\, s_{3} s_{5} s_{6} y_{2} + {\\left(s_{4} s_{5} s_{6} + s_{3} s_{5} s_{7} - {\\left(s_{0}^{2} + s_{1}^{2} + s_{3}^{2}\\right)} s_{9}\\right)} y_{3} + {\\left(s_{5}^{2} s_{6} + s_{3} s_{5} s_{8} - {\\left(s_{1} s_{2} + s_{3} s_{4}\\right)} s_{9}\\right)} y_{4}}{s_{9}} = 0</script></html>"
      ],
      "text/latex": [
       "$$\\newcommand{\\Bold}[1]{\\mathbf{#1}}\\frac{2 \\, s_{3} s_{5} s_{6} y_{2} + {\\left(s_{4} s_{5} s_{6} + s_{3} s_{5} s_{7} - {\\left(s_{0}^{2} + s_{1}^{2} + s_{3}^{2}\\right)} s_{9}\\right)} y_{3} + {\\left(s_{5}^{2} s_{6} + s_{3} s_{5} s_{8} - {\\left(s_{1} s_{2} + s_{3} s_{4}\\right)} s_{9}\\right)} y_{4}}{s_{9}} = 0$$"
      ],
      "text/plain": [
       "(2*s3*s5*s6*y2 + (s4*s5*s6 + s3*s5*s7 - (s0^2 + s1^2 + s3^2)*s9)*y3 + (s5^2*s6 + s3*s5*s8 - (s1*s2 + s3*s4)*s9)*y4)/s9 == 0"
      ]
     },
     "metadata": {},
     "output_type": "display_data"
    },
    {
     "data": {
      "text/html": [
       "<html><script type=\"math/tex; mode=display\">\\newcommand{\\Bold}[1]{\\mathbf{#1}}-\\frac{{\\left(s_{4} s_{5} s_{6} + s_{3} s_{5} s_{7} - {\\left(s_{0}^{2} + s_{1}^{2} + s_{3}^{2}\\right)} s_{9}\\right)} y_{2} + 2 \\, {\\left(s_{4} s_{5} s_{7} - {\\left(s_{1} s_{2} + s_{3} s_{4}\\right)} s_{9}\\right)} y_{3} + {\\left(s_{5}^{2} s_{7} + s_{4} s_{5} s_{8} - {\\left(s_{2}^{2} + s_{4}^{2} + s_{3} s_{5}\\right)} s_{9}\\right)} y_{4}}{s_{9}} = 0</script></html>"
      ],
      "text/latex": [
       "$$\\newcommand{\\Bold}[1]{\\mathbf{#1}}-\\frac{{\\left(s_{4} s_{5} s_{6} + s_{3} s_{5} s_{7} - {\\left(s_{0}^{2} + s_{1}^{2} + s_{3}^{2}\\right)} s_{9}\\right)} y_{2} + 2 \\, {\\left(s_{4} s_{5} s_{7} - {\\left(s_{1} s_{2} + s_{3} s_{4}\\right)} s_{9}\\right)} y_{3} + {\\left(s_{5}^{2} s_{7} + s_{4} s_{5} s_{8} - {\\left(s_{2}^{2} + s_{4}^{2} + s_{3} s_{5}\\right)} s_{9}\\right)} y_{4}}{s_{9}} = 0$$"
      ],
      "text/plain": [
       "-((s4*s5*s6 + s3*s5*s7 - (s0^2 + s1^2 + s3^2)*s9)*y2 + 2*(s4*s5*s7 - (s1*s2 + s3*s4)*s9)*y3 + (s5^2*s7 + s4*s5*s8 - (s2^2 + s4^2 + s3*s5)*s9)*y4)/s9 == 0"
      ]
     },
     "metadata": {},
     "output_type": "display_data"
    },
    {
     "data": {
      "text/html": [
       "<html><script type=\"math/tex; mode=display\">\\newcommand{\\Bold}[1]{\\mathbf{#1}}-\\frac{{\\left(s_{5}^{2} s_{6} + s_{3} s_{5} s_{8} - {\\left(s_{1} s_{2} + s_{3} s_{4}\\right)} s_{9}\\right)} y_{2} + {\\left(s_{5}^{2} s_{7} + s_{4} s_{5} s_{8} - {\\left(s_{2}^{2} + s_{4}^{2} + s_{3} s_{5}\\right)} s_{9}\\right)} y_{3} + 2 \\, {\\left(s_{5}^{2} s_{8} - s_{4} s_{5} s_{9}\\right)} y_{4}}{s_{9}} = 0</script></html>"
      ],
      "text/latex": [
       "$$\\newcommand{\\Bold}[1]{\\mathbf{#1}}-\\frac{{\\left(s_{5}^{2} s_{6} + s_{3} s_{5} s_{8} - {\\left(s_{1} s_{2} + s_{3} s_{4}\\right)} s_{9}\\right)} y_{2} + {\\left(s_{5}^{2} s_{7} + s_{4} s_{5} s_{8} - {\\left(s_{2}^{2} + s_{4}^{2} + s_{3} s_{5}\\right)} s_{9}\\right)} y_{3} + 2 \\, {\\left(s_{5}^{2} s_{8} - s_{4} s_{5} s_{9}\\right)} y_{4}}{s_{9}} = 0$$"
      ],
      "text/plain": [
       "-((s5^2*s6 + s3*s5*s8 - (s1*s2 + s3*s4)*s9)*y2 + (s5^2*s7 + s4*s5*s8 - (s2^2 + s4^2 + s3*s5)*s9)*y3 + 2*(s5^2*s8 - s4*s5*s9)*y4)/s9 == 0"
      ]
     },
     "metadata": {},
     "output_type": "display_data"
    },
    {
     "data": {
      "text/html": [
       "<html><script type=\"math/tex; mode=display\">\\newcommand{\\Bold}[1]{\\mathbf{#1}}\\frac{{\\left(s_{5}^{2} s_{6} + s_{3} s_{5} s_{8} - {\\left(s_{1} s_{2} + s_{3} s_{4}\\right)} s_{9}\\right)} y_{2} + {\\left(s_{5}^{2} s_{7} + s_{4} s_{5} s_{8} - {\\left(s_{2}^{2} + s_{4}^{2} + s_{3} s_{5}\\right)} s_{9}\\right)} y_{3} + 2 \\, {\\left(s_{5}^{2} s_{8} - s_{4} s_{5} s_{9}\\right)} y_{4}}{s_{9}} = 0</script></html>"
      ],
      "text/latex": [
       "$$\\newcommand{\\Bold}[1]{\\mathbf{#1}}\\frac{{\\left(s_{5}^{2} s_{6} + s_{3} s_{5} s_{8} - {\\left(s_{1} s_{2} + s_{3} s_{4}\\right)} s_{9}\\right)} y_{2} + {\\left(s_{5}^{2} s_{7} + s_{4} s_{5} s_{8} - {\\left(s_{2}^{2} + s_{4}^{2} + s_{3} s_{5}\\right)} s_{9}\\right)} y_{3} + 2 \\, {\\left(s_{5}^{2} s_{8} - s_{4} s_{5} s_{9}\\right)} y_{4}}{s_{9}} = 0$$"
      ],
      "text/plain": [
       "((s5^2*s6 + s3*s5*s8 - (s1*s2 + s3*s4)*s9)*y2 + (s5^2*s7 + s4*s5*s8 - (s2^2 + s4^2 + s3*s5)*s9)*y3 + 2*(s5^2*s8 - s4*s5*s9)*y4)/s9 == 0"
      ]
     },
     "metadata": {},
     "output_type": "display_data"
    },
    {
     "data": {
      "text/html": [
       "<html><script type=\"math/tex; mode=display\">\\newcommand{\\Bold}[1]{\\mathbf{#1}}0 = 0</script></html>"
      ],
      "text/latex": [
       "$$\\newcommand{\\Bold}[1]{\\mathbf{#1}}0 = 0$$"
      ],
      "text/plain": [
       "0 == 0"
      ]
     },
     "metadata": {},
     "output_type": "display_data"
    },
    {
     "data": {
      "text/html": [
       "<html><script type=\"math/tex; mode=display\">\\newcommand{\\Bold}[1]{\\mathbf{#1}}\\frac{{\\left(s_{4} s_{5} s_{6} + s_{3} s_{5} s_{7} - {\\left(s_{0}^{2} + s_{1}^{2} + s_{3}^{2}\\right)} s_{9}\\right)} y_{2} + 2 \\, {\\left(s_{4} s_{5} s_{7} - {\\left(s_{1} s_{2} + s_{3} s_{4}\\right)} s_{9}\\right)} y_{3} + {\\left(s_{5}^{2} s_{7} + s_{4} s_{5} s_{8} - {\\left(s_{2}^{2} + s_{4}^{2} + s_{3} s_{5}\\right)} s_{9}\\right)} y_{4}}{s_{9}} = 0</script></html>"
      ],
      "text/latex": [
       "$$\\newcommand{\\Bold}[1]{\\mathbf{#1}}\\frac{{\\left(s_{4} s_{5} s_{6} + s_{3} s_{5} s_{7} - {\\left(s_{0}^{2} + s_{1}^{2} + s_{3}^{2}\\right)} s_{9}\\right)} y_{2} + 2 \\, {\\left(s_{4} s_{5} s_{7} - {\\left(s_{1} s_{2} + s_{3} s_{4}\\right)} s_{9}\\right)} y_{3} + {\\left(s_{5}^{2} s_{7} + s_{4} s_{5} s_{8} - {\\left(s_{2}^{2} + s_{4}^{2} + s_{3} s_{5}\\right)} s_{9}\\right)} y_{4}}{s_{9}} = 0$$"
      ],
      "text/plain": [
       "((s4*s5*s6 + s3*s5*s7 - (s0^2 + s1^2 + s3^2)*s9)*y2 + 2*(s4*s5*s7 - (s1*s2 + s3*s4)*s9)*y3 + (s5^2*s7 + s4*s5*s8 - (s2^2 + s4^2 + s3*s5)*s9)*y4)/s9 == 0"
      ]
     },
     "metadata": {},
     "output_type": "display_data"
    }
   ],
   "source": [
    "sbst = [y1==0, y5==-(s6*y2+s7*y3+s8*y4)/s9, y6==-((s3*s5-s6*s8)*y2+(s4*s5-s7*s8+s6*s9)*y3+(s5^2-s8^2+s7*s9)*y4)/s9^2]\n",
    "\n",
    "for eq in set(equations):\n",
    "    if eq.left().subs(sbst) != 0:\n",
    "        display(eq.subs(sbst).simplify_full())"
   ]
  },
  {
   "cell_type": "markdown",
   "metadata": {},
   "source": [
    "Recall that up to a sign and after multipliying by $s_9 \\neq 0$, we can arrange the meaningful equations in the following way."
   ]
  },
  {
   "cell_type": "code",
   "execution_count": 10,
   "metadata": {},
   "outputs": [
    {
     "data": {
      "text/html": [
       "<html><script type=\"math/tex; mode=display\">\\newcommand{\\Bold}[1]{\\mathbf{#1}}{\\left(s_{5}^{2} s_{6} + s_{3} s_{5} s_{8} - {\\left(s_{1} s_{2} + s_{3} s_{4}\\right)} s_{9}\\right)} y_{2} + {\\left(s_{5}^{2} s_{7} + s_{4} s_{5} s_{8} - {\\left(s_{2}^{2} + s_{4}^{2} + s_{3} s_{5}\\right)} s_{9}\\right)} y_{3} + 2 \\, {\\left(s_{5}^{2} s_{8} - s_{4} s_{5} s_{9}\\right)} y_{4}</script></html>"
      ],
      "text/latex": [
       "$$\\newcommand{\\Bold}[1]{\\mathbf{#1}}{\\left(s_{5}^{2} s_{6} + s_{3} s_{5} s_{8} - {\\left(s_{1} s_{2} + s_{3} s_{4}\\right)} s_{9}\\right)} y_{2} + {\\left(s_{5}^{2} s_{7} + s_{4} s_{5} s_{8} - {\\left(s_{2}^{2} + s_{4}^{2} + s_{3} s_{5}\\right)} s_{9}\\right)} y_{3} + 2 \\, {\\left(s_{5}^{2} s_{8} - s_{4} s_{5} s_{9}\\right)} y_{4}$$"
      ],
      "text/plain": [
       "(s5^2*s6 + s3*s5*s8 - (s1*s2 + s3*s4)*s9)*y2 + (s5^2*s7 + s4*s5*s8 - (s2^2 + s4^2 + s3*s5)*s9)*y3 + 2*(s5^2*s8 - s4*s5*s9)*y4"
      ]
     },
     "metadata": {},
     "output_type": "display_data"
    },
    {
     "data": {
      "text/html": [
       "<html><script type=\"math/tex; mode=display\">\\newcommand{\\Bold}[1]{\\mathbf{#1}}{\\left(s_{4} s_{5} s_{6} + s_{3} s_{5} s_{7} - {\\left(s_{0}^{2} + s_{1}^{2} + s_{3}^{2}\\right)} s_{9}\\right)} y_{2} + 2 \\, {\\left(s_{4} s_{5} s_{7} - {\\left(s_{1} s_{2} + s_{3} s_{4}\\right)} s_{9}\\right)} y_{3} + {\\left(s_{5}^{2} s_{7} + s_{4} s_{5} s_{8} - {\\left(s_{2}^{2} + s_{4}^{2} + s_{3} s_{5}\\right)} s_{9}\\right)} y_{4}</script></html>"
      ],
      "text/latex": [
       "$$\\newcommand{\\Bold}[1]{\\mathbf{#1}}{\\left(s_{4} s_{5} s_{6} + s_{3} s_{5} s_{7} - {\\left(s_{0}^{2} + s_{1}^{2} + s_{3}^{2}\\right)} s_{9}\\right)} y_{2} + 2 \\, {\\left(s_{4} s_{5} s_{7} - {\\left(s_{1} s_{2} + s_{3} s_{4}\\right)} s_{9}\\right)} y_{3} + {\\left(s_{5}^{2} s_{7} + s_{4} s_{5} s_{8} - {\\left(s_{2}^{2} + s_{4}^{2} + s_{3} s_{5}\\right)} s_{9}\\right)} y_{4}$$"
      ],
      "text/plain": [
       "(s4*s5*s6 + s3*s5*s7 - (s0^2 + s1^2 + s3^2)*s9)*y2 + 2*(s4*s5*s7 - (s1*s2 + s3*s4)*s9)*y3 + (s5^2*s7 + s4*s5*s8 - (s2^2 + s4^2 + s3*s5)*s9)*y4"
      ]
     },
     "metadata": {},
     "output_type": "display_data"
    },
    {
     "data": {
      "text/html": [
       "<html><script type=\"math/tex; mode=display\">\\newcommand{\\Bold}[1]{\\mathbf{#1}}2 \\, s_{3} s_{5} s_{6} y_{2} + {\\left(s_{4} s_{5} s_{6} + s_{3} s_{5} s_{7} - {\\left(s_{0}^{2} + s_{1}^{2} + s_{3}^{2}\\right)} s_{9}\\right)} y_{3} + {\\left(s_{5}^{2} s_{6} + s_{3} s_{5} s_{8} - {\\left(s_{1} s_{2} + s_{3} s_{4}\\right)} s_{9}\\right)} y_{4}</script></html>"
      ],
      "text/latex": [
       "$$\\newcommand{\\Bold}[1]{\\mathbf{#1}}2 \\, s_{3} s_{5} s_{6} y_{2} + {\\left(s_{4} s_{5} s_{6} + s_{3} s_{5} s_{7} - {\\left(s_{0}^{2} + s_{1}^{2} + s_{3}^{2}\\right)} s_{9}\\right)} y_{3} + {\\left(s_{5}^{2} s_{6} + s_{3} s_{5} s_{8} - {\\left(s_{1} s_{2} + s_{3} s_{4}\\right)} s_{9}\\right)} y_{4}$$"
      ],
      "text/plain": [
       "2*s3*s5*s6*y2 + (s4*s5*s6 + s3*s5*s7 - (s0^2 + s1^2 + s3^2)*s9)*y3 + (s5^2*s6 + s3*s5*s8 - (s1*s2 + s3*s4)*s9)*y4"
      ]
     },
     "metadata": {},
     "output_type": "display_data"
    }
   ],
   "source": [
    "eq1 = ((s5^2*s6 + s3*s5*s8 - (s1*s2 + s3*s4)*s9)*y2 + (s5^2*s7 + s4*s5*s8 - (s2^2 + s4^2 + s3*s5)*s9)*y3 + 2*(s5^2*s8 - s4*s5*s9)*y4)\n",
    "eq2 = ((s4*s5*s6 + s3*s5*s7 - (s0^2 + s1^2 + s3^2)*s9)*y2 + 2*(s4*s5*s7 - (s1*s2 + s3*s4)*s9)*y3 + (s5^2*s7 + s4*s5*s8 - (s2^2 + s4^2 + s3*s5)*s9)*y4)\n",
    "eq3 = (2*s3*s5*s6*y2 + (s4*s5*s6 + s3*s5*s7 - (s0^2 + s1^2 + s3^2)*s9)*y3 + (s5^2*s6 + s3*s5*s8 - (s1*s2 + s3*s4)*s9)*y4)\n",
    "display(eq1)\n",
    "display(eq2)\n",
    "display(eq3)"
   ]
  },
  {
   "cell_type": "markdown",
   "metadata": {},
   "source": [
    "Observe that some coefficients appear twice among these equations."
   ]
  },
  {
   "cell_type": "code",
   "execution_count": 11,
   "metadata": {},
   "outputs": [
    {
     "data": {
      "text/html": [
       "<html><script type=\"math/tex; mode=display\">\\newcommand{\\Bold}[1]{\\mathbf{#1}}\\mathrm{True}</script></html>"
      ],
      "text/latex": [
       "$$\\newcommand{\\Bold}[1]{\\mathbf{#1}}\\mathrm{True}$$"
      ],
      "text/plain": [
       "True"
      ]
     },
     "metadata": {},
     "output_type": "display_data"
    },
    {
     "data": {
      "text/html": [
       "<html><script type=\"math/tex; mode=display\">\\newcommand{\\Bold}[1]{\\mathbf{#1}}\\mathrm{True}</script></html>"
      ],
      "text/latex": [
       "$$\\newcommand{\\Bold}[1]{\\mathbf{#1}}\\mathrm{True}$$"
      ],
      "text/plain": [
       "True"
      ]
     },
     "metadata": {},
     "output_type": "display_data"
    },
    {
     "data": {
      "text/html": [
       "<html><script type=\"math/tex; mode=display\">\\newcommand{\\Bold}[1]{\\mathbf{#1}}\\mathrm{True}</script></html>"
      ],
      "text/latex": [
       "$$\\newcommand{\\Bold}[1]{\\mathbf{#1}}\\mathrm{True}$$"
      ],
      "text/plain": [
       "True"
      ]
     },
     "metadata": {},
     "output_type": "display_data"
    }
   ],
   "source": [
    "display(bool(eq1.coefficient(y2) == eq3.coefficient(y4)))\n",
    "display(bool(eq1.coefficient(y3) == eq2.coefficient(y4)))\n",
    "display(bool(eq2.coefficient(y2) == eq3.coefficient(y3)))"
   ]
  },
  {
   "cell_type": "code",
   "execution_count": 12,
   "metadata": {},
   "outputs": [
    {
     "data": {
      "text/html": [
       "<html><script type=\"math/tex; mode=display\">\\newcommand{\\Bold}[1]{\\mathbf{#1}}s_{5}^{2} s_{6} + s_{3} s_{5} s_{8} - {\\left(s_{1} s_{2} + s_{3} s_{4}\\right)} s_{9}</script></html>"
      ],
      "text/latex": [
       "$$\\newcommand{\\Bold}[1]{\\mathbf{#1}}s_{5}^{2} s_{6} + s_{3} s_{5} s_{8} - {\\left(s_{1} s_{2} + s_{3} s_{4}\\right)} s_{9}$$"
      ],
      "text/plain": [
       "s5^2*s6 + s3*s5*s8 - (s1*s2 + s3*s4)*s9"
      ]
     },
     "metadata": {},
     "output_type": "display_data"
    },
    {
     "data": {
      "text/html": [
       "<html><script type=\"math/tex; mode=display\">\\newcommand{\\Bold}[1]{\\mathbf{#1}}s_{5}^{2} s_{7} + s_{4} s_{5} s_{8} - {\\left(s_{2}^{2} + s_{4}^{2} + s_{3} s_{5}\\right)} s_{9}</script></html>"
      ],
      "text/latex": [
       "$$\\newcommand{\\Bold}[1]{\\mathbf{#1}}s_{5}^{2} s_{7} + s_{4} s_{5} s_{8} - {\\left(s_{2}^{2} + s_{4}^{2} + s_{3} s_{5}\\right)} s_{9}$$"
      ],
      "text/plain": [
       "s5^2*s7 + s4*s5*s8 - (s2^2 + s4^2 + s3*s5)*s9"
      ]
     },
     "metadata": {},
     "output_type": "display_data"
    },
    {
     "data": {
      "text/html": [
       "<html><script type=\"math/tex; mode=display\">\\newcommand{\\Bold}[1]{\\mathbf{#1}}s_{4} s_{5} s_{6} + s_{3} s_{5} s_{7} - {\\left(s_{0}^{2} + s_{1}^{2} + s_{3}^{2}\\right)} s_{9}</script></html>"
      ],
      "text/latex": [
       "$$\\newcommand{\\Bold}[1]{\\mathbf{#1}}s_{4} s_{5} s_{6} + s_{3} s_{5} s_{7} - {\\left(s_{0}^{2} + s_{1}^{2} + s_{3}^{2}\\right)} s_{9}$$"
      ],
      "text/plain": [
       "s4*s5*s6 + s3*s5*s7 - (s0^2 + s1^2 + s3^2)*s9"
      ]
     },
     "metadata": {},
     "output_type": "display_data"
    }
   ],
   "source": [
    "a1 = eq1.coefficient(y2) \n",
    "b1 = eq1.coefficient(y3)\n",
    "c1 = eq2.coefficient(y2)\n",
    "display(a1)\n",
    "display(b1)\n",
    "display(c1)"
   ]
  },
  {
   "cell_type": "markdown",
   "metadata": {},
   "source": [
    "And the coefficients which appear once are"
   ]
  },
  {
   "cell_type": "code",
   "execution_count": 13,
   "metadata": {},
   "outputs": [
    {
     "data": {
      "text/html": [
       "<html><script type=\"math/tex; mode=display\">\\newcommand{\\Bold}[1]{\\mathbf{#1}}2 \\, s_{5}^{2} s_{8} - 2 \\, s_{4} s_{5} s_{9}</script></html>"
      ],
      "text/latex": [
       "$$\\newcommand{\\Bold}[1]{\\mathbf{#1}}2 \\, s_{5}^{2} s_{8} - 2 \\, s_{4} s_{5} s_{9}$$"
      ],
      "text/plain": [
       "2*s5^2*s8 - 2*s4*s5*s9"
      ]
     },
     "metadata": {},
     "output_type": "display_data"
    },
    {
     "data": {
      "text/html": [
       "<html><script type=\"math/tex; mode=display\">\\newcommand{\\Bold}[1]{\\mathbf{#1}}2 \\, s_{4} s_{5} s_{7} - 2 \\, {\\left(s_{1} s_{2} + s_{3} s_{4}\\right)} s_{9}</script></html>"
      ],
      "text/latex": [
       "$$\\newcommand{\\Bold}[1]{\\mathbf{#1}}2 \\, s_{4} s_{5} s_{7} - 2 \\, {\\left(s_{1} s_{2} + s_{3} s_{4}\\right)} s_{9}$$"
      ],
      "text/plain": [
       "2*s4*s5*s7 - 2*(s1*s2 + s3*s4)*s9"
      ]
     },
     "metadata": {},
     "output_type": "display_data"
    },
    {
     "data": {
      "text/html": [
       "<html><script type=\"math/tex; mode=display\">\\newcommand{\\Bold}[1]{\\mathbf{#1}}2 \\, s_{3} s_{5} s_{6}</script></html>"
      ],
      "text/latex": [
       "$$\\newcommand{\\Bold}[1]{\\mathbf{#1}}2 \\, s_{3} s_{5} s_{6}$$"
      ],
      "text/plain": [
       "2*s3*s5*s6"
      ]
     },
     "metadata": {},
     "output_type": "display_data"
    }
   ],
   "source": [
    "alpha1 = eq1.coefficient(y4)\n",
    "beta1 = eq2.coefficient(y3)\n",
    "gamma1 = eq3.coefficient(y2)\n",
    "display(alpha1)\n",
    "display(beta1)\n",
    "display(gamma1)"
   ]
  },
  {
   "cell_type": "markdown",
   "metadata": {},
   "source": [
    "So, the original system is equivalent to $$AY = 0$$ where \n",
    "\\begin{align*}\n",
    "A = \n",
    "\\begin{pmatrix}\n",
    "a & b & \\alpha \\\\\n",
    "c & \\beta & b \\\\\n",
    "\\gamma & c & a\n",
    "\\end{pmatrix} &&\n",
    "Y = \n",
    "\\begin{pmatrix} \n",
    "y_2 \\\\ y_3\\\\ y_4 \n",
    "\\end{pmatrix}.\n",
    "\\end{align*}\n",
    "Recall that $A$ has the form of a generic persymmetric matrix."
   ]
  },
  {
   "cell_type": "code",
   "execution_count": 14,
   "metadata": {},
   "outputs": [
    {
     "data": {
      "text/html": [
       "<html><script type=\"math/tex; mode=display\">\\newcommand{\\Bold}[1]{\\mathbf{#1}}\\mathrm{True}</script></html>"
      ],
      "text/latex": [
       "$$\\newcommand{\\Bold}[1]{\\mathbf{#1}}\\mathrm{True}$$"
      ],
      "text/plain": [
       "True"
      ]
     },
     "metadata": {},
     "output_type": "display_data"
    },
    {
     "data": {
      "text/html": [
       "<html><script type=\"math/tex; mode=display\">\\newcommand{\\Bold}[1]{\\mathbf{#1}}\\mathrm{True}</script></html>"
      ],
      "text/latex": [
       "$$\\newcommand{\\Bold}[1]{\\mathbf{#1}}\\mathrm{True}$$"
      ],
      "text/plain": [
       "True"
      ]
     },
     "metadata": {},
     "output_type": "display_data"
    },
    {
     "data": {
      "text/html": [
       "<html><script type=\"math/tex; mode=display\">\\newcommand{\\Bold}[1]{\\mathbf{#1}}\\mathrm{True}</script></html>"
      ],
      "text/latex": [
       "$$\\newcommand{\\Bold}[1]{\\mathbf{#1}}\\mathrm{True}$$"
      ],
      "text/plain": [
       "True"
      ]
     },
     "metadata": {},
     "output_type": "display_data"
    }
   ],
   "source": [
    "display(bool(eq1 == a1*y2 + b1*y3 + alpha1*y4))\n",
    "display(bool(eq2 == c1*y2 + beta1*y3 + b1*y4))\n",
    "display(bool(eq3 == gamma1*y2 + c1*y3 + a1*y4))"
   ]
  },
  {
   "cell_type": "markdown",
   "metadata": {},
   "source": [
    "So the metric has index of symmetry $0, 1, 2$ or $3$ according to whether the rank of the matrix is $3, 2, 1$ or $0$ respectively. We believe that every persymmetric matrix $A$ can be obtainded from some metric $g$, but we do not attempt to prove this. However, we present some examples of left-invariant metrics whose distribution of symmetry has all the possible ranks."
   ]
  },
  {
   "cell_type": "code",
   "execution_count": 15,
   "metadata": {},
   "outputs": [
    {
     "data": {
      "text/html": [
       "<html><script type=\"math/tex; mode=display\">\\newcommand{\\Bold}[1]{\\mathbf{#1}}\\left(\\begin{array}{rrr}\n",
       "s_{5}^{2} s_{6} + s_{3} s_{5} s_{8} - {\\left(s_{1} s_{2} + s_{3} s_{4}\\right)} s_{9} & s_{5}^{2} s_{7} + s_{4} s_{5} s_{8} - {\\left(s_{2}^{2} + s_{4}^{2} + s_{3} s_{5}\\right)} s_{9} & 2 \\, s_{5}^{2} s_{8} - 2 \\, s_{4} s_{5} s_{9} \\\\\n",
       "s_{4} s_{5} s_{6} + s_{3} s_{5} s_{7} - {\\left(s_{0}^{2} + s_{1}^{2} + s_{3}^{2}\\right)} s_{9} & 2 \\, s_{4} s_{5} s_{7} - 2 \\, {\\left(s_{1} s_{2} + s_{3} s_{4}\\right)} s_{9} & s_{5}^{2} s_{7} + s_{4} s_{5} s_{8} - {\\left(s_{2}^{2} + s_{4}^{2} + s_{3} s_{5}\\right)} s_{9} \\\\\n",
       "2 \\, s_{3} s_{5} s_{6} & s_{4} s_{5} s_{6} + s_{3} s_{5} s_{7} - {\\left(s_{0}^{2} + s_{1}^{2} + s_{3}^{2}\\right)} s_{9} & s_{5}^{2} s_{6} + s_{3} s_{5} s_{8} - {\\left(s_{1} s_{2} + s_{3} s_{4}\\right)} s_{9}\n",
       "\\end{array}\\right)</script></html>"
      ],
      "text/latex": [
       "$$\\newcommand{\\Bold}[1]{\\mathbf{#1}}\\left(\\begin{array}{rrr}\n",
       "s_{5}^{2} s_{6} + s_{3} s_{5} s_{8} - {\\left(s_{1} s_{2} + s_{3} s_{4}\\right)} s_{9} & s_{5}^{2} s_{7} + s_{4} s_{5} s_{8} - {\\left(s_{2}^{2} + s_{4}^{2} + s_{3} s_{5}\\right)} s_{9} & 2 \\, s_{5}^{2} s_{8} - 2 \\, s_{4} s_{5} s_{9} \\\\\n",
       "s_{4} s_{5} s_{6} + s_{3} s_{5} s_{7} - {\\left(s_{0}^{2} + s_{1}^{2} + s_{3}^{2}\\right)} s_{9} & 2 \\, s_{4} s_{5} s_{7} - 2 \\, {\\left(s_{1} s_{2} + s_{3} s_{4}\\right)} s_{9} & s_{5}^{2} s_{7} + s_{4} s_{5} s_{8} - {\\left(s_{2}^{2} + s_{4}^{2} + s_{3} s_{5}\\right)} s_{9} \\\\\n",
       "2 \\, s_{3} s_{5} s_{6} & s_{4} s_{5} s_{6} + s_{3} s_{5} s_{7} - {\\left(s_{0}^{2} + s_{1}^{2} + s_{3}^{2}\\right)} s_{9} & s_{5}^{2} s_{6} + s_{3} s_{5} s_{8} - {\\left(s_{1} s_{2} + s_{3} s_{4}\\right)} s_{9}\n",
       "\\end{array}\\right)$$"
      ],
      "text/plain": [
       "[      s5^2*s6 + s3*s5*s8 - (s1*s2 + s3*s4)*s9 s5^2*s7 + s4*s5*s8 - (s2^2 + s4^2 + s3*s5)*s9                        2*s5^2*s8 - 2*s4*s5*s9]\n",
       "[s4*s5*s6 + s3*s5*s7 - (s0^2 + s1^2 + s3^2)*s9             2*s4*s5*s7 - 2*(s1*s2 + s3*s4)*s9 s5^2*s7 + s4*s5*s8 - (s2^2 + s4^2 + s3*s5)*s9]\n",
       "[                                   2*s3*s5*s6 s4*s5*s6 + s3*s5*s7 - (s0^2 + s1^2 + s3^2)*s9       s5^2*s6 + s3*s5*s8 - (s1*s2 + s3*s4)*s9]"
      ]
     },
     "execution_count": 15,
     "metadata": {},
     "output_type": "execute_result"
    }
   ],
   "source": [
    "A = matrix([[a1, b1, alpha1], [c1, beta1, b1], [gamma1, c1, a1]]); A"
   ]
  },
  {
   "cell_type": "markdown",
   "metadata": {
    "jp-MarkdownHeadingCollapsed": true
   },
   "source": [
    "### Example with index of symmetry = 0."
   ]
  },
  {
   "cell_type": "code",
   "execution_count": 16,
   "metadata": {},
   "outputs": [
    {
     "data": {
      "text/html": [
       "<html><script type=\"math/tex; mode=display\">\\newcommand{\\Bold}[1]{\\mathbf{#1}}y_{3} = 0</script></html>"
      ],
      "text/latex": [
       "$$\\newcommand{\\Bold}[1]{\\mathbf{#1}}y_{3} = 0$$"
      ],
      "text/plain": [
       "y3 == 0"
      ]
     },
     "metadata": {},
     "output_type": "display_data"
    },
    {
     "data": {
      "text/html": [
       "<html><script type=\"math/tex; mode=display\">\\newcommand{\\Bold}[1]{\\mathbf{#1}}-y_{3} = 0</script></html>"
      ],
      "text/latex": [
       "$$\\newcommand{\\Bold}[1]{\\mathbf{#1}}-y_{3} = 0$$"
      ],
      "text/plain": [
       "-y3 == 0"
      ]
     },
     "metadata": {},
     "output_type": "display_data"
    },
    {
     "data": {
      "text/html": [
       "<html><script type=\"math/tex; mode=display\">\\newcommand{\\Bold}[1]{\\mathbf{#1}}y_{2} + y_{4} = 0</script></html>"
      ],
      "text/latex": [
       "$$\\newcommand{\\Bold}[1]{\\mathbf{#1}}y_{2} + y_{4} = 0$$"
      ],
      "text/plain": [
       "y2 + y4 == 0"
      ]
     },
     "metadata": {},
     "output_type": "display_data"
    },
    {
     "data": {
      "text/html": [
       "<html><script type=\"math/tex; mode=display\">\\newcommand{\\Bold}[1]{\\mathbf{#1}}y_{3} - y_{4} = 0</script></html>"
      ],
      "text/latex": [
       "$$\\newcommand{\\Bold}[1]{\\mathbf{#1}}y_{3} - y_{4} = 0$$"
      ],
      "text/plain": [
       "y3 - y4 == 0"
      ]
     },
     "metadata": {},
     "output_type": "display_data"
    },
    {
     "data": {
      "text/html": [
       "<html><script type=\"math/tex; mode=display\">\\newcommand{\\Bold}[1]{\\mathbf{#1}}-y_{3} + y_{4} = 0</script></html>"
      ],
      "text/latex": [
       "$$\\newcommand{\\Bold}[1]{\\mathbf{#1}}-y_{3} + y_{4} = 0$$"
      ],
      "text/plain": [
       "-y3 + y4 == 0"
      ]
     },
     "metadata": {},
     "output_type": "display_data"
    },
    {
     "data": {
      "text/html": [
       "<html><script type=\"math/tex; mode=display\">\\newcommand{\\Bold}[1]{\\mathbf{#1}}-y_{2} - y_{4} = 0</script></html>"
      ],
      "text/latex": [
       "$$\\newcommand{\\Bold}[1]{\\mathbf{#1}}-y_{2} - y_{4} = 0$$"
      ],
      "text/plain": [
       "-y2 - y4 == 0"
      ]
     },
     "metadata": {},
     "output_type": "display_data"
    }
   ],
   "source": [
    "sbst = [y1==0, y5==-(s6*y2+s7*y3+s8*y4)/s9, y6==-((s3*s5-s6*s8)*y2+(s4*s5-s7*s8+s6*s9)*y3+(s5^2-s8^2+s7*s9)*y4)/s9^2]\n",
    "sbst1 = [s0==1, s1==0, s2==1, s3==0, s4==0, s5==1, s6==0, s7==0,s8==1/2, s9==1]\n",
    "\n",
    "for eq in set(equations):\n",
    "    if eq.left().subs(sbst).subs(sbst1) != 0:\n",
    "        display(eq.subs(sbst).subs(sbst1).simplify_full())"
   ]
  },
  {
   "cell_type": "markdown",
   "metadata": {},
   "source": [
    "We get $y_3 = 0$, $y_4 = -y_2$. "
   ]
  },
  {
   "cell_type": "code",
   "execution_count": 17,
   "metadata": {},
   "outputs": [
    {
     "data": {
      "text/html": [
       "<html><script type=\"math/tex; mode=display\">\\newcommand{\\Bold}[1]{\\mathbf{#1}}y_{2} = 0</script></html>"
      ],
      "text/latex": [
       "$$\\newcommand{\\Bold}[1]{\\mathbf{#1}}y_{2} = 0$$"
      ],
      "text/plain": [
       "y2 == 0"
      ]
     },
     "metadata": {},
     "output_type": "display_data"
    },
    {
     "data": {
      "text/html": [
       "<html><script type=\"math/tex; mode=display\">\\newcommand{\\Bold}[1]{\\mathbf{#1}}-y_{2} = 0</script></html>"
      ],
      "text/latex": [
       "$$\\newcommand{\\Bold}[1]{\\mathbf{#1}}-y_{2} = 0$$"
      ],
      "text/plain": [
       "-y2 == 0"
      ]
     },
     "metadata": {},
     "output_type": "display_data"
    }
   ],
   "source": [
    "sbst = [y1==0, y5==-(s6*y2+s7*y3+s8*y4)/s9, y6==-((s3*s5-s6*s8)*y2+(s4*s5-s7*s8+s6*s9)*y3+(s5^2-s8^2+s7*s9)*y4)/s9^2]\n",
    "sbst1 = [s0==1, s1==0, s2==1, s3==0, s4==0, s5==1, s6==0, s7==0,s8==1/2, s9==1]\n",
    "sbst2 = [y3==0, y4==-y2]\n",
    "\n",
    "for eq in set(equations):\n",
    "    if eq.left().subs(sbst).subs(sbst1).subs(sbst2) != 0:\n",
    "        display(eq.subs(sbst).subs(sbst1).subs(sbst2).simplify_full())"
   ]
  },
  {
   "cell_type": "markdown",
   "metadata": {},
   "source": [
    "So $y_2 = 0$."
   ]
  },
  {
   "cell_type": "code",
   "execution_count": 18,
   "metadata": {},
   "outputs": [],
   "source": [
    "sbst = [y1==0, y5==-(s6*y2+s7*y3+s8*y4)/s9, y6==-((s3*s5-s6*s8)*y2+(s4*s5-s7*s8+s6*s9)*y3+(s5^2-s8^2+s7*s9)*y4)/s9^2]\n",
    "sbst1 = [s0==1, s1==0, s2==1, s3==0, s4==0, s5==1, s6==0, s7==0,s8==1/2, s9==1]\n",
    "sbst2 = [y3==0, y4==-y2]\n",
    "sbst3 = [y2==0]\n",
    "\n",
    "for eq in set(equations):\n",
    "    if eq.left().subs(sbst).subs(sbst1).subs(sbst2).subs(sbst3) != 0:\n",
    "        display(eq.subs(sbst).subs(sbst1).subs(sbst2).subs(sbst3).simplify_full())"
   ]
  },
  {
   "cell_type": "markdown",
   "metadata": {},
   "source": [
    "Therefore, this metric has trivial index of symmetry."
   ]
  },
  {
   "cell_type": "code",
   "execution_count": 19,
   "metadata": {},
   "outputs": [
    {
     "data": {
      "text/html": [
       "<html><script type=\"math/tex; mode=display\">\\newcommand{\\Bold}[1]{\\mathbf{#1}}\\left(0,\\,0,\\,0,\\,0,\\,0,\\,0\\right)</script></html>"
      ],
      "text/latex": [
       "$$\\newcommand{\\Bold}[1]{\\mathbf{#1}}\\left(0,\\,0,\\,0,\\,0,\\,0,\\,0\\right)$$"
      ],
      "text/plain": [
       "(0, 0, 0, 0, 0, 0)"
      ]
     },
     "execution_count": 19,
     "metadata": {},
     "output_type": "execute_result"
    }
   ],
   "source": [
    "Y.to_vector().subs(sbst).subs(sbst1).subs(sbst2).subs(sbst3)"
   ]
  },
  {
   "cell_type": "markdown",
   "metadata": {},
   "source": [
    "The matrix $A$ has the following form."
   ]
  },
  {
   "cell_type": "code",
   "execution_count": 20,
   "metadata": {},
   "outputs": [
    {
     "data": {
      "text/html": [
       "<html><script type=\"math/tex; mode=display\">\\newcommand{\\Bold}[1]{\\mathbf{#1}}\\left(\\begin{array}{rrr}\n",
       "0 & -1 & 1 \\\\\n",
       "-1 & 0 & -1 \\\\\n",
       "0 & -1 & 0\n",
       "\\end{array}\\right)</script></html>"
      ],
      "text/latex": [
       "$$\\newcommand{\\Bold}[1]{\\mathbf{#1}}\\left(\\begin{array}{rrr}\n",
       "0 & -1 & 1 \\\\\n",
       "-1 & 0 & -1 \\\\\n",
       "0 & -1 & 0\n",
       "\\end{array}\\right)$$"
      ],
      "text/plain": [
       "[ 0 -1  1]\n",
       "[-1  0 -1]\n",
       "[ 0 -1  0]"
      ]
     },
     "execution_count": 20,
     "metadata": {},
     "output_type": "execute_result"
    }
   ],
   "source": [
    "A.subs(sbst).subs(sbst1).subs(sbst2).subs(sbst3)"
   ]
  },
  {
   "cell_type": "code",
   "execution_count": 21,
   "metadata": {},
   "outputs": [
    {
     "data": {
      "text/html": [
       "<html><script type=\"math/tex; mode=display\">\\newcommand{\\Bold}[1]{\\mathbf{#1}}3</script></html>"
      ],
      "text/latex": [
       "$$\\newcommand{\\Bold}[1]{\\mathbf{#1}}3$$"
      ],
      "text/plain": [
       "3"
      ]
     },
     "execution_count": 21,
     "metadata": {},
     "output_type": "execute_result"
    }
   ],
   "source": [
    "_.rank()"
   ]
  },
  {
   "cell_type": "markdown",
   "metadata": {},
   "source": [
    "An the  metric is represented by the following matrix"
   ]
  },
  {
   "cell_type": "code",
   "execution_count": 22,
   "metadata": {},
   "outputs": [
    {
     "data": {
      "text/html": [
       "<html><script type=\"math/tex; mode=display\">\\newcommand{\\Bold}[1]{\\mathbf{#1}}\\left(\\begin{array}{rrrrrr}\n",
       "1 & 0 & 0 & 0 & 0 & 0 \\\\\n",
       "0 & 1 & 0 & 0 & 0 & 0 \\\\\n",
       "0 & 0 & 1 & 0 & 0 & 0 \\\\\n",
       "0 & 0 & 0 & 1 & 0 & 0 \\\\\n",
       "0 & 0 & 0 & 0 & \\frac{5}{4} & \\frac{1}{2} \\\\\n",
       "0 & 0 & 0 & 0 & \\frac{1}{2} & 1\n",
       "\\end{array}\\right)</script></html>"
      ],
      "text/latex": [
       "$$\\newcommand{\\Bold}[1]{\\mathbf{#1}}\\left(\\begin{array}{rrrrrr}\n",
       "1 & 0 & 0 & 0 & 0 & 0 \\\\\n",
       "0 & 1 & 0 & 0 & 0 & 0 \\\\\n",
       "0 & 0 & 1 & 0 & 0 & 0 \\\\\n",
       "0 & 0 & 0 & 1 & 0 & 0 \\\\\n",
       "0 & 0 & 0 & 0 & \\frac{5}{4} & \\frac{1}{2} \\\\\n",
       "0 & 0 & 0 & 0 & \\frac{1}{2} & 1\n",
       "\\end{array}\\right)$$"
      ],
      "text/plain": [
       "[  1   0   0   0   0   0]\n",
       "[  0   1   0   0   0   0]\n",
       "[  0   0   1   0   0   0]\n",
       "[  0   0   0   1   0   0]\n",
       "[  0   0   0   0 5/4 1/2]\n",
       "[  0   0   0   0 1/2   1]"
      ]
     },
     "execution_count": 22,
     "metadata": {},
     "output_type": "execute_result"
    }
   ],
   "source": [
    "g.subs(sbst).subs(sbst1).subs(sbst2).subs(sbst3)"
   ]
  },
  {
   "cell_type": "markdown",
   "metadata": {
    "jp-MarkdownHeadingCollapsed": true
   },
   "source": [
    "### Example with index of symmetry = 1."
   ]
  },
  {
   "cell_type": "code",
   "execution_count": 23,
   "metadata": {},
   "outputs": [
    {
     "data": {
      "text/html": [
       "<html><script type=\"math/tex; mode=display\">\\newcommand{\\Bold}[1]{\\mathbf{#1}}y_{3} = 0</script></html>"
      ],
      "text/latex": [
       "$$\\newcommand{\\Bold}[1]{\\mathbf{#1}}y_{3} = 0$$"
      ],
      "text/plain": [
       "y3 == 0"
      ]
     },
     "metadata": {},
     "output_type": "display_data"
    },
    {
     "data": {
      "text/html": [
       "<html><script type=\"math/tex; mode=display\">\\newcommand{\\Bold}[1]{\\mathbf{#1}}-y_{3} = 0</script></html>"
      ],
      "text/latex": [
       "$$\\newcommand{\\Bold}[1]{\\mathbf{#1}}-y_{3} = 0$$"
      ],
      "text/plain": [
       "-y3 == 0"
      ]
     },
     "metadata": {},
     "output_type": "display_data"
    },
    {
     "data": {
      "text/html": [
       "<html><script type=\"math/tex; mode=display\">\\newcommand{\\Bold}[1]{\\mathbf{#1}}y_{2} + y_{4} = 0</script></html>"
      ],
      "text/latex": [
       "$$\\newcommand{\\Bold}[1]{\\mathbf{#1}}y_{2} + y_{4} = 0$$"
      ],
      "text/plain": [
       "y2 + y4 == 0"
      ]
     },
     "metadata": {},
     "output_type": "display_data"
    },
    {
     "data": {
      "text/html": [
       "<html><script type=\"math/tex; mode=display\">\\newcommand{\\Bold}[1]{\\mathbf{#1}}y_{3} = 0</script></html>"
      ],
      "text/latex": [
       "$$\\newcommand{\\Bold}[1]{\\mathbf{#1}}y_{3} = 0$$"
      ],
      "text/plain": [
       "y3 == 0"
      ]
     },
     "metadata": {},
     "output_type": "display_data"
    },
    {
     "data": {
      "text/html": [
       "<html><script type=\"math/tex; mode=display\">\\newcommand{\\Bold}[1]{\\mathbf{#1}}-y_{3} = 0</script></html>"
      ],
      "text/latex": [
       "$$\\newcommand{\\Bold}[1]{\\mathbf{#1}}-y_{3} = 0$$"
      ],
      "text/plain": [
       "-y3 == 0"
      ]
     },
     "metadata": {},
     "output_type": "display_data"
    },
    {
     "data": {
      "text/html": [
       "<html><script type=\"math/tex; mode=display\">\\newcommand{\\Bold}[1]{\\mathbf{#1}}-y_{2} - y_{4} = 0</script></html>"
      ],
      "text/latex": [
       "$$\\newcommand{\\Bold}[1]{\\mathbf{#1}}-y_{2} - y_{4} = 0$$"
      ],
      "text/plain": [
       "-y2 - y4 == 0"
      ]
     },
     "metadata": {},
     "output_type": "display_data"
    }
   ],
   "source": [
    "sbst = [y1==0, y5==-(s6*y2+s7*y3+s8*y4)/s9, y6==-((s3*s5-s6*s8)*y2+(s4*s5-s7*s8+s6*s9)*y3+(s5^2-s8^2+s7*s9)*y4)/s9^2]\n",
    "sbst1 = [s0==1, s1==0, s2==1, s3==0, s4==0, s5==1, s6==0, s7==0, s8==0, s9==1] \n",
    "\n",
    "for eq in set(equations):\n",
    "    if eq.left().subs(sbst).subs(sbst1) != 0:\n",
    "        display(eq.subs(sbst).subs(sbst1).simplify_full())"
   ]
  },
  {
   "cell_type": "markdown",
   "metadata": {},
   "source": [
    "We get $y_3 = 0$ and $y_4 = -y_2$."
   ]
  },
  {
   "cell_type": "code",
   "execution_count": 24,
   "metadata": {},
   "outputs": [],
   "source": [
    "sbst = [y1==0, y5==-(s6*y2+s7*y3+s8*y4)/s9, y6==-((s3*s5-s6*s8)*y2+(s4*s5-s7*s8+s6*s9)*y3+(s5^2-s8^2+s7*s9)*y4)/s9^2]\n",
    "sbst1 = [s0==1, s1==0, s2==1, s3==0, s4==0, s5==1, s6==0, s7==0, s8==0, s9==1] \n",
    "sbst2 = [y3==0, y4==-y2]\n",
    "\n",
    "for eq in set(equations):\n",
    "    if eq.left().subs(sbst).subs(sbst1).subs(sbst2) != 0:\n",
    "        display(eq.subs(sbst).subs(sbst1).subs(sbst2).simplify_full())"
   ]
  },
  {
   "cell_type": "markdown",
   "metadata": {},
   "source": [
    "The index of symmetry for this metric is $1$ and the distribution of symmetry is not contained in the center."
   ]
  },
  {
   "cell_type": "code",
   "execution_count": 25,
   "metadata": {},
   "outputs": [
    {
     "data": {
      "text/html": [
       "<html><script type=\"math/tex; mode=display\">\\newcommand{\\Bold}[1]{\\mathbf{#1}}\\left(0,\\,y_{2},\\,0,\\,-y_{2},\\,0,\\,y_{2}\\right)</script></html>"
      ],
      "text/latex": [
       "$$\\newcommand{\\Bold}[1]{\\mathbf{#1}}\\left(0,\\,y_{2},\\,0,\\,-y_{2},\\,0,\\,y_{2}\\right)$$"
      ],
      "text/plain": [
       "(0, y2, 0, -y2, 0, y2)"
      ]
     },
     "execution_count": 25,
     "metadata": {},
     "output_type": "execute_result"
    }
   ],
   "source": [
    "Y.to_vector().subs(sbst).subs(sbst1).subs(sbst2)"
   ]
  },
  {
   "cell_type": "markdown",
   "metadata": {},
   "source": [
    "The matrix $A$ has the following form."
   ]
  },
  {
   "cell_type": "code",
   "execution_count": 26,
   "metadata": {},
   "outputs": [
    {
     "data": {
      "text/html": [
       "<html><script type=\"math/tex; mode=display\">\\newcommand{\\Bold}[1]{\\mathbf{#1}}\\left(\\begin{array}{rrr}\n",
       "0 & -1 & 0 \\\\\n",
       "-1 & 0 & -1 \\\\\n",
       "0 & -1 & 0\n",
       "\\end{array}\\right)</script></html>"
      ],
      "text/latex": [
       "$$\\newcommand{\\Bold}[1]{\\mathbf{#1}}\\left(\\begin{array}{rrr}\n",
       "0 & -1 & 0 \\\\\n",
       "-1 & 0 & -1 \\\\\n",
       "0 & -1 & 0\n",
       "\\end{array}\\right)$$"
      ],
      "text/plain": [
       "[ 0 -1  0]\n",
       "[-1  0 -1]\n",
       "[ 0 -1  0]"
      ]
     },
     "execution_count": 26,
     "metadata": {},
     "output_type": "execute_result"
    }
   ],
   "source": [
    "A.subs(sbst).subs(sbst1).subs(sbst2)"
   ]
  },
  {
   "cell_type": "code",
   "execution_count": 27,
   "metadata": {},
   "outputs": [
    {
     "data": {
      "text/html": [
       "<html><script type=\"math/tex; mode=display\">\\newcommand{\\Bold}[1]{\\mathbf{#1}}2</script></html>"
      ],
      "text/latex": [
       "$$\\newcommand{\\Bold}[1]{\\mathbf{#1}}2$$"
      ],
      "text/plain": [
       "2"
      ]
     },
     "execution_count": 27,
     "metadata": {},
     "output_type": "execute_result"
    }
   ],
   "source": [
    "_.rank()"
   ]
  },
  {
   "cell_type": "markdown",
   "metadata": {},
   "source": [
    "And the metric is represented by the following matrix"
   ]
  },
  {
   "cell_type": "code",
   "execution_count": 29,
   "metadata": {},
   "outputs": [
    {
     "data": {
      "text/html": [
       "<html><script type=\"math/tex; mode=display\">\\newcommand{\\Bold}[1]{\\mathbf{#1}}\\left(\\begin{array}{rrrrrr}\n",
       "1 & 0 & 0 & 0 & 0 & 0 \\\\\n",
       "0 & 1 & 0 & 0 & 0 & 0 \\\\\n",
       "0 & 0 & 1 & 0 & 0 & 0 \\\\\n",
       "0 & 0 & 0 & 1 & 0 & 0 \\\\\n",
       "0 & 0 & 0 & 0 & 1 & 0 \\\\\n",
       "0 & 0 & 0 & 0 & 0 & 1\n",
       "\\end{array}\\right)</script></html>"
      ],
      "text/latex": [
       "$$\\newcommand{\\Bold}[1]{\\mathbf{#1}}\\left(\\begin{array}{rrrrrr}\n",
       "1 & 0 & 0 & 0 & 0 & 0 \\\\\n",
       "0 & 1 & 0 & 0 & 0 & 0 \\\\\n",
       "0 & 0 & 1 & 0 & 0 & 0 \\\\\n",
       "0 & 0 & 0 & 1 & 0 & 0 \\\\\n",
       "0 & 0 & 0 & 0 & 1 & 0 \\\\\n",
       "0 & 0 & 0 & 0 & 0 & 1\n",
       "\\end{array}\\right)$$"
      ],
      "text/plain": [
       "[1 0 0 0 0 0]\n",
       "[0 1 0 0 0 0]\n",
       "[0 0 1 0 0 0]\n",
       "[0 0 0 1 0 0]\n",
       "[0 0 0 0 1 0]\n",
       "[0 0 0 0 0 1]"
      ]
     },
     "execution_count": 29,
     "metadata": {},
     "output_type": "execute_result"
    }
   ],
   "source": [
    "g.subs(sbst).subs(sbst1).subs(sbst2).subs(sbst3)"
   ]
  },
  {
   "cell_type": "markdown",
   "metadata": {
    "jp-MarkdownHeadingCollapsed": true
   },
   "source": [
    "### Example with index of symmetry = 2."
   ]
  },
  {
   "cell_type": "code",
   "execution_count": 30,
   "metadata": {},
   "outputs": [
    {
     "data": {
      "text/html": [
       "<html><script type=\"math/tex; mode=display\">\\newcommand{\\Bold}[1]{\\mathbf{#1}}-y_{3} = 0</script></html>"
      ],
      "text/latex": [
       "$$\\newcommand{\\Bold}[1]{\\mathbf{#1}}-y_{3} = 0$$"
      ],
      "text/plain": [
       "-y3 == 0"
      ]
     },
     "metadata": {},
     "output_type": "display_data"
    },
    {
     "data": {
      "text/html": [
       "<html><script type=\"math/tex; mode=display\">\\newcommand{\\Bold}[1]{\\mathbf{#1}}y_{3} = 0</script></html>"
      ],
      "text/latex": [
       "$$\\newcommand{\\Bold}[1]{\\mathbf{#1}}y_{3} = 0$$"
      ],
      "text/plain": [
       "y3 == 0"
      ]
     },
     "metadata": {},
     "output_type": "display_data"
    }
   ],
   "source": [
    "sbst = [y1==0, y5==-(s6*y2+s7*y3+s8*y4)/s9, y6==-((s3*s5-s6*s8)*y2+(s4*s5-s7*s8+s6*s9)*y3+(s5^2-s8^2+s7*s9)*y4)/s9^2]\n",
    "sbst1 = [s6==0, s8==s4*s9/s5, s1==0]\n",
    "sbst2 = [s7==(s2^2 + s3*s5)*s9/s5^2]\n",
    "sbst3 = [s2==1, s4==1, s9==1, s5==2, s0==1, s3==2]\n",
    "\n",
    "for eq in set(equations):\n",
    "    if eq.left().subs(sbst).subs(sbst1).subs(sbst2).subs(sbst3) != 0:\n",
    "        display(eq.subs(sbst).subs(sbst1).subs(sbst2).subs(sbst3).simplify_full())"
   ]
  },
  {
   "cell_type": "markdown",
   "metadata": {},
   "source": [
    "We get $y_3 = 0$."
   ]
  },
  {
   "cell_type": "code",
   "execution_count": 31,
   "metadata": {},
   "outputs": [],
   "source": [
    "sbst = [y1==0, y5==-(s6*y2+s7*y3+s8*y4)/s9, y6==-((s3*s5-s6*s8)*y2+(s4*s5-s7*s8+s6*s9)*y3+(s5^2-s8^2+s7*s9)*y4)/s9^2]\n",
    "sbst1 = [s6==0, s8==s4*s9/s5, s1==0]\n",
    "sbst2 = [s7==(s2^2 + s3*s5)*s9/s5^2]\n",
    "sbst3 = [s2==1, s4==1, s9==1, s5==2, s0==1, s3==2, y3==0]\n",
    "\n",
    "for eq in set(equations):\n",
    "    if eq.left().subs(sbst).subs(sbst1).subs(sbst2).subs(sbst3) != 0:\n",
    "        display(eq.subs(sbst).subs(sbst1).subs(sbst2).subs(sbst3).simplify_full())"
   ]
  },
  {
   "cell_type": "markdown",
   "metadata": {},
   "source": [
    "The index of symmetry for this metric is $2$ and the distribution of symmetry is not contained in the center."
   ]
  },
  {
   "cell_type": "code",
   "execution_count": 32,
   "metadata": {},
   "outputs": [
    {
     "data": {
      "text/html": [
       "<html><script type=\"math/tex; mode=display\">\\newcommand{\\Bold}[1]{\\mathbf{#1}}\\left(0,\\,y_{2},\\,0,\\,y_{4},\\,-\\frac{1}{2} \\, y_{4},\\,-4 \\, y_{2} - 5 \\, y_{4}\\right)</script></html>"
      ],
      "text/latex": [
       "$$\\newcommand{\\Bold}[1]{\\mathbf{#1}}\\left(0,\\,y_{2},\\,0,\\,y_{4},\\,-\\frac{1}{2} \\, y_{4},\\,-4 \\, y_{2} - 5 \\, y_{4}\\right)$$"
      ],
      "text/plain": [
       "(0, y2, 0, y4, -1/2*y4, -4*y2 - 5*y4)"
      ]
     },
     "execution_count": 32,
     "metadata": {},
     "output_type": "execute_result"
    }
   ],
   "source": [
    "Y.to_vector().subs(sbst).subs(sbst1).subs(sbst2).subs(sbst3)"
   ]
  },
  {
   "cell_type": "markdown",
   "metadata": {},
   "source": [
    "The matrix $A$ has the following form."
   ]
  },
  {
   "cell_type": "code",
   "execution_count": 33,
   "metadata": {},
   "outputs": [
    {
     "data": {
      "text/html": [
       "<html><script type=\"math/tex; mode=display\">\\newcommand{\\Bold}[1]{\\mathbf{#1}}\\left(\\begin{array}{rrr}\n",
       "0 & 0 & 0 \\\\\n",
       "0 & 1 & 0 \\\\\n",
       "0 & 0 & 0\n",
       "\\end{array}\\right)</script></html>"
      ],
      "text/latex": [
       "$$\\newcommand{\\Bold}[1]{\\mathbf{#1}}\\left(\\begin{array}{rrr}\n",
       "0 & 0 & 0 \\\\\n",
       "0 & 1 & 0 \\\\\n",
       "0 & 0 & 0\n",
       "\\end{array}\\right)$$"
      ],
      "text/plain": [
       "[0 0 0]\n",
       "[0 1 0]\n",
       "[0 0 0]"
      ]
     },
     "execution_count": 33,
     "metadata": {},
     "output_type": "execute_result"
    }
   ],
   "source": [
    "A.subs(sbst).subs(sbst1).subs(sbst2).subs(sbst3)"
   ]
  },
  {
   "cell_type": "code",
   "execution_count": 34,
   "metadata": {},
   "outputs": [
    {
     "data": {
      "text/html": [
       "<html><script type=\"math/tex; mode=display\">\\newcommand{\\Bold}[1]{\\mathbf{#1}}1</script></html>"
      ],
      "text/latex": [
       "$$\\newcommand{\\Bold}[1]{\\mathbf{#1}}1$$"
      ],
      "text/plain": [
       "1"
      ]
     },
     "execution_count": 34,
     "metadata": {},
     "output_type": "execute_result"
    }
   ],
   "source": [
    "_.rank()"
   ]
  },
  {
   "cell_type": "markdown",
   "metadata": {},
   "source": [
    "And the metric is represented by the following matrix"
   ]
  },
  {
   "cell_type": "code",
   "execution_count": 35,
   "metadata": {},
   "outputs": [
    {
     "data": {
      "text/html": [
       "<html><script type=\"math/tex; mode=display\">\\newcommand{\\Bold}[1]{\\mathbf{#1}}\\left(\\begin{array}{rrrrrr}\n",
       "1 & 0 & 0 & 0 & 0 & 0 \\\\\n",
       "0 & 1 & 0 & 0 & 0 & 0 \\\\\n",
       "0 & 0 & 5 & 2 & 4 & 0 \\\\\n",
       "0 & 0 & 2 & \\frac{57}{16} & \\frac{21}{8} & \\frac{5}{4} \\\\\n",
       "0 & 0 & 4 & \\frac{21}{8} & \\frac{17}{4} & \\frac{1}{2} \\\\\n",
       "0 & 0 & 0 & \\frac{5}{4} & \\frac{1}{2} & 1\n",
       "\\end{array}\\right)</script></html>"
      ],
      "text/latex": [
       "$$\\newcommand{\\Bold}[1]{\\mathbf{#1}}\\left(\\begin{array}{rrrrrr}\n",
       "1 & 0 & 0 & 0 & 0 & 0 \\\\\n",
       "0 & 1 & 0 & 0 & 0 & 0 \\\\\n",
       "0 & 0 & 5 & 2 & 4 & 0 \\\\\n",
       "0 & 0 & 2 & \\frac{57}{16} & \\frac{21}{8} & \\frac{5}{4} \\\\\n",
       "0 & 0 & 4 & \\frac{21}{8} & \\frac{17}{4} & \\frac{1}{2} \\\\\n",
       "0 & 0 & 0 & \\frac{5}{4} & \\frac{1}{2} & 1\n",
       "\\end{array}\\right)$$"
      ],
      "text/plain": [
       "[    1     0     0     0     0     0]\n",
       "[    0     1     0     0     0     0]\n",
       "[    0     0     5     2     4     0]\n",
       "[    0     0     2 57/16  21/8   5/4]\n",
       "[    0     0     4  21/8  17/4   1/2]\n",
       "[    0     0     0   5/4   1/2     1]"
      ]
     },
     "execution_count": 35,
     "metadata": {},
     "output_type": "execute_result"
    }
   ],
   "source": [
    "g.subs(sbst).subs(sbst1).subs(sbst2).subs(sbst3)"
   ]
  },
  {
   "cell_type": "markdown",
   "metadata": {
    "jp-MarkdownHeadingCollapsed": true
   },
   "source": [
    "### Example with index of symmetry = 3"
   ]
  },
  {
   "cell_type": "code",
   "execution_count": 36,
   "metadata": {},
   "outputs": [],
   "source": [
    "sbst = [y1==0, y5==-(s6*y2+s7*y3+s8*y4)/s9, y6==-((s3*s5-s6*s8)*y2+(s4*s5-s7*s8+s6*s9)*y3+(s5^2-s8^2+s7*s9)*y4)/s9^2]\n",
    "sbst1 = [s0==1,s1==0,s2==1,s3==1,s4==0,s5==1,s6==0,s7==2,s8==0,s9==1]\n",
    "\n",
    "for eq in set(equations):\n",
    "    if eq.left().subs(sbst).subs(sbst1).subs(sbst2).subs(sbst3) != 0:\n",
    "        display(eq.subs(sbst).subs(sbst1).subs(sbst2).subs(sbst3).simplify_full())"
   ]
  },
  {
   "cell_type": "markdown",
   "metadata": {},
   "source": [
    "The index of symmetry for this metric is $3$ and the distribution of symmetry is not contained in the center."
   ]
  },
  {
   "cell_type": "code",
   "execution_count": 37,
   "metadata": {},
   "outputs": [
    {
     "data": {
      "text/html": [
       "<html><script type=\"math/tex; mode=display\">\\newcommand{\\Bold}[1]{\\mathbf{#1}}\\left(0,\\,y_{2},\\,y_{3},\\,y_{4},\\,-2 \\, y_{3},\\,-y_{2} - 3 \\, y_{4}\\right)</script></html>"
      ],
      "text/latex": [
       "$$\\newcommand{\\Bold}[1]{\\mathbf{#1}}\\left(0,\\,y_{2},\\,y_{3},\\,y_{4},\\,-2 \\, y_{3},\\,-y_{2} - 3 \\, y_{4}\\right)$$"
      ],
      "text/plain": [
       "(0, y2, y3, y4, -2*y3, -y2 - 3*y4)"
      ]
     },
     "execution_count": 37,
     "metadata": {},
     "output_type": "execute_result"
    }
   ],
   "source": [
    "Y.to_vector().subs(sbst).subs(sbst1)"
   ]
  },
  {
   "cell_type": "markdown",
   "metadata": {},
   "source": [
    "We check that the matrix $A$ is the zero matrix."
   ]
  },
  {
   "cell_type": "code",
   "execution_count": 38,
   "metadata": {},
   "outputs": [
    {
     "data": {
      "text/html": [
       "<html><script type=\"math/tex; mode=display\">\\newcommand{\\Bold}[1]{\\mathbf{#1}}\\left(\\begin{array}{rrr}\n",
       "0 & 0 & 0 \\\\\n",
       "0 & 0 & 0 \\\\\n",
       "0 & 0 & 0\n",
       "\\end{array}\\right)</script></html>"
      ],
      "text/latex": [
       "$$\\newcommand{\\Bold}[1]{\\mathbf{#1}}\\left(\\begin{array}{rrr}\n",
       "0 & 0 & 0 \\\\\n",
       "0 & 0 & 0 \\\\\n",
       "0 & 0 & 0\n",
       "\\end{array}\\right)$$"
      ],
      "text/plain": [
       "[0 0 0]\n",
       "[0 0 0]\n",
       "[0 0 0]"
      ]
     },
     "execution_count": 38,
     "metadata": {},
     "output_type": "execute_result"
    }
   ],
   "source": [
    "A.subs(sbst).subs(sbst1)"
   ]
  },
  {
   "cell_type": "markdown",
   "metadata": {},
   "source": [
    "And the metric is represented by the following matrix"
   ]
  },
  {
   "cell_type": "code",
   "execution_count": 39,
   "metadata": {},
   "outputs": [
    {
     "data": {
      "text/html": [
       "<html><script type=\"math/tex; mode=display\">\\newcommand{\\Bold}[1]{\\mathbf{#1}}\\left(\\begin{array}{rrrrrr}\n",
       "1 & 0 & 0 & 0 & 0 & 0 \\\\\n",
       "0 & 1 & 0 & 0 & 0 & 0 \\\\\n",
       "0 & 0 & 2 & 0 & 1 & 0 \\\\\n",
       "0 & 0 & 0 & 5 & 0 & 2 \\\\\n",
       "0 & 0 & 1 & 0 & 1 & 0 \\\\\n",
       "0 & 0 & 0 & 2 & 0 & 1\n",
       "\\end{array}\\right)</script></html>"
      ],
      "text/latex": [
       "$$\\newcommand{\\Bold}[1]{\\mathbf{#1}}\\left(\\begin{array}{rrrrrr}\n",
       "1 & 0 & 0 & 0 & 0 & 0 \\\\\n",
       "0 & 1 & 0 & 0 & 0 & 0 \\\\\n",
       "0 & 0 & 2 & 0 & 1 & 0 \\\\\n",
       "0 & 0 & 0 & 5 & 0 & 2 \\\\\n",
       "0 & 0 & 1 & 0 & 1 & 0 \\\\\n",
       "0 & 0 & 0 & 2 & 0 & 1\n",
       "\\end{array}\\right)$$"
      ],
      "text/plain": [
       "[1 0 0 0 0 0]\n",
       "[0 1 0 0 0 0]\n",
       "[0 0 2 0 1 0]\n",
       "[0 0 0 5 0 2]\n",
       "[0 0 1 0 1 0]\n",
       "[0 0 0 2 0 1]"
      ]
     },
     "execution_count": 39,
     "metadata": {},
     "output_type": "execute_result"
    }
   ],
   "source": [
    "g.subs(sbst).subs(sbst1)"
   ]
  },
  {
   "cell_type": "markdown",
   "metadata": {
    "jp-MarkdownHeadingCollapsed": true
   },
   "source": [
    "## Proof of Proposition 6.9\n",
    "\n",
    "Notice that the center of $\\mathfrak h_{28}$ is generated by $e_6$."
   ]
  },
  {
   "cell_type": "code",
   "execution_count": 40,
   "metadata": {},
   "outputs": [
    {
     "data": {
      "text/html": [
       "<html><script type=\"math/tex; mode=display\">\\newcommand{\\Bold}[1]{\\mathbf{#1}}\\verb|Subalgebra|\\phantom{\\verb!x!}\\verb|generated|\\phantom{\\verb!x!}\\verb|by|\\phantom{\\verb!x!}\\verb|(e6)|\\phantom{\\verb!x!}\\verb|of|\\phantom{\\verb!x!}\\verb|Nilpotent|\\phantom{\\verb!x!}\\verb|Lie|\\phantom{\\verb!x!}\\verb|algebra|\\phantom{\\verb!x!}\\verb|on|\\phantom{\\verb!x!}\\verb|6|\\phantom{\\verb!x!}\\verb|generators|\\phantom{\\verb!x!}\\verb|(e1,|\\phantom{\\verb!x!}\\verb|e2,|\\phantom{\\verb!x!}\\verb|e3,|\\phantom{\\verb!x!}\\verb|e4,|\\phantom{\\verb!x!}\\verb|e5,|\\phantom{\\verb!x!}\\verb|e6)|\\phantom{\\verb!x!}\\verb|over|\\phantom{\\verb!x!}\\verb|Symbolic|\\phantom{\\verb!x!}\\verb|Ring|</script></html>"
      ],
      "text/latex": [
       "$$\\newcommand{\\Bold}[1]{\\mathbf{#1}}\\verb|Subalgebra|\\phantom{\\verb!x!}\\verb|generated|\\phantom{\\verb!x!}\\verb|by|\\phantom{\\verb!x!}\\verb|(e6)|\\phantom{\\verb!x!}\\verb|of|\\phantom{\\verb!x!}\\verb|Nilpotent|\\phantom{\\verb!x!}\\verb|Lie|\\phantom{\\verb!x!}\\verb|algebra|\\phantom{\\verb!x!}\\verb|on|\\phantom{\\verb!x!}\\verb|6|\\phantom{\\verb!x!}\\verb|generators|\\phantom{\\verb!x!}\\verb|(e1,|\\phantom{\\verb!x!}\\verb|e2,|\\phantom{\\verb!x!}\\verb|e3,|\\phantom{\\verb!x!}\\verb|e4,|\\phantom{\\verb!x!}\\verb|e5,|\\phantom{\\verb!x!}\\verb|e6)|\\phantom{\\verb!x!}\\verb|over|\\phantom{\\verb!x!}\\verb|Symbolic|\\phantom{\\verb!x!}\\verb|Ring|$$"
      ],
      "text/plain": [
       "Subalgebra generated by (e6) of Nilpotent Lie algebra on 6 generators (e1, e2, e3, e4, e5, e6) over Symbolic Ring"
      ]
     },
     "execution_count": 40,
     "metadata": {},
     "output_type": "execute_result"
    }
   ],
   "source": [
    "Center"
   ]
  },
  {
   "cell_type": "markdown",
   "metadata": {},
   "source": [
    "Assume that $g = g_\\sigma$ is a left invariant metric such that $Y = e_6 \\in \\mathfrak s$. Then the following equalities must hold"
   ]
  },
  {
   "cell_type": "code",
   "execution_count": 40,
   "metadata": {},
   "outputs": [
    {
     "data": {
      "text/html": [
       "<html>\\(\\displaystyle -s_{9}^{2} = 0\\)</html>"
      ],
      "text/latex": [
       "$\\displaystyle -s_{9}^{2} = 0$"
      ],
      "text/plain": [
       "-s9^2 == 0"
      ]
     },
     "metadata": {},
     "output_type": "display_data"
    },
    {
     "data": {
      "text/html": [
       "<html>\\(\\displaystyle s_{8} s_{9} = 0\\)</html>"
      ],
      "text/latex": [
       "$\\displaystyle s_{8} s_{9} = 0$"
      ],
      "text/plain": [
       "s8*s9 == 0"
      ]
     },
     "metadata": {},
     "output_type": "display_data"
    },
    {
     "data": {
      "text/html": [
       "<html>\\(\\displaystyle -s_{7} s_{9} = 0\\)</html>"
      ],
      "text/latex": [
       "$\\displaystyle -s_{7} s_{9} = 0$"
      ],
      "text/plain": [
       "-s7*s9 == 0"
      ]
     },
     "metadata": {},
     "output_type": "display_data"
    },
    {
     "data": {
      "text/html": [
       "<html>\\(\\displaystyle s_{6} s_{9} = 0\\)</html>"
      ],
      "text/latex": [
       "$\\displaystyle s_{6} s_{9} = 0$"
      ],
      "text/plain": [
       "s6*s9 == 0"
      ]
     },
     "metadata": {},
     "output_type": "display_data"
    },
    {
     "data": {
      "text/html": [
       "<html>\\(\\displaystyle s_{7} s_{9} = 0\\)</html>"
      ],
      "text/latex": [
       "$\\displaystyle s_{7} s_{9} = 0$"
      ],
      "text/plain": [
       "s7*s9 == 0"
      ]
     },
     "metadata": {},
     "output_type": "display_data"
    },
    {
     "data": {
      "text/html": [
       "<html>\\(\\displaystyle -s_{8} s_{9} = 0\\)</html>"
      ],
      "text/latex": [
       "$\\displaystyle -s_{8} s_{9} = 0$"
      ],
      "text/plain": [
       "-s8*s9 == 0"
      ]
     },
     "metadata": {},
     "output_type": "display_data"
    },
    {
     "data": {
      "text/html": [
       "<html>\\(\\displaystyle s_{9}^{2} = 0\\)</html>"
      ],
      "text/latex": [
       "$\\displaystyle s_{9}^{2} = 0$"
      ],
      "text/plain": [
       "s9^2 == 0"
      ]
     },
     "metadata": {},
     "output_type": "display_data"
    },
    {
     "data": {
      "text/html": [
       "<html>\\(\\displaystyle -s_{6} s_{9} = 0\\)</html>"
      ],
      "text/latex": [
       "$\\displaystyle -s_{6} s_{9} = 0$"
      ],
      "text/plain": [
       "-s6*s9 == 0"
      ]
     },
     "metadata": {},
     "output_type": "display_data"
    }
   ],
   "source": [
    "sbst = [y1==0,y2==0,y3==0,y4==0,y5==0,y6==1]\n",
    "\n",
    "for eq in set(equations):\n",
    "    if eq.left().subs(sbst) != 0:\n",
    "        display(eq.subs(sbst))"
   ]
  },
  {
   "cell_type": "markdown",
   "metadata": {},
   "source": [
    "This is a contradiction since $s_9 \\neq 0$. "
   ]
  },
  {
   "cell_type": "markdown",
   "metadata": {},
   "source": [
    "### Example with index of symmetry = 3"
   ]
  },
  {
   "cell_type": "code",
   "execution_count": 41,
   "metadata": {},
   "outputs": [
    {
     "data": {
      "text/html": [
       "<html><script type=\"math/tex; mode=display\">\\newcommand{\\Bold}[1]{\\mathbf{#1}}s_{9}^{2} = 0</script></html>"
      ],
      "text/latex": [
       "$$\\newcommand{\\Bold}[1]{\\mathbf{#1}}s_{9}^{2} = 0$$"
      ],
      "text/plain": [
       "s9^2 == 0"
      ]
     },
     "metadata": {},
     "output_type": "display_data"
    },
    {
     "data": {
      "text/html": [
       "<html><script type=\"math/tex; mode=display\">\\newcommand{\\Bold}[1]{\\mathbf{#1}}-s_{9}^{2} = 0</script></html>"
      ],
      "text/latex": [
       "$$\\newcommand{\\Bold}[1]{\\mathbf{#1}}-s_{9}^{2} = 0$$"
      ],
      "text/plain": [
       "-s9^2 == 0"
      ]
     },
     "metadata": {},
     "output_type": "display_data"
    },
    {
     "data": {
      "text/html": [
       "<html><script type=\"math/tex; mode=display\">\\newcommand{\\Bold}[1]{\\mathbf{#1}}s_{7} s_{9} = 0</script></html>"
      ],
      "text/latex": [
       "$$\\newcommand{\\Bold}[1]{\\mathbf{#1}}s_{7} s_{9} = 0$$"
      ],
      "text/plain": [
       "s7*s9 == 0"
      ]
     },
     "metadata": {},
     "output_type": "display_data"
    },
    {
     "data": {
      "text/html": [
       "<html><script type=\"math/tex; mode=display\">\\newcommand{\\Bold}[1]{\\mathbf{#1}}s_{8} s_{9} = 0</script></html>"
      ],
      "text/latex": [
       "$$\\newcommand{\\Bold}[1]{\\mathbf{#1}}s_{8} s_{9} = 0$$"
      ],
      "text/plain": [
       "s8*s9 == 0"
      ]
     },
     "metadata": {},
     "output_type": "display_data"
    },
    {
     "data": {
      "text/html": [
       "<html><script type=\"math/tex; mode=display\">\\newcommand{\\Bold}[1]{\\mathbf{#1}}-s_{8} s_{9} = 0</script></html>"
      ],
      "text/latex": [
       "$$\\newcommand{\\Bold}[1]{\\mathbf{#1}}-s_{8} s_{9} = 0$$"
      ],
      "text/plain": [
       "-s8*s9 == 0"
      ]
     },
     "metadata": {},
     "output_type": "display_data"
    },
    {
     "data": {
      "text/html": [
       "<html><script type=\"math/tex; mode=display\">\\newcommand{\\Bold}[1]{\\mathbf{#1}}-s_{7} s_{9} = 0</script></html>"
      ],
      "text/latex": [
       "$$\\newcommand{\\Bold}[1]{\\mathbf{#1}}-s_{7} s_{9} = 0$$"
      ],
      "text/plain": [
       "-s7*s9 == 0"
      ]
     },
     "metadata": {},
     "output_type": "display_data"
    }
   ],
   "source": [
    "sbst = [y1==0, y2==0, y3==0, y4==0, y5==0, y6==1]\n",
    "sbst1 = [s6==0]\n",
    "sbst2 = []\n",
    "sbst3 = []\n",
    "\n",
    "for eq in set(equations):\n",
    "    if eq.left().subs(sbst).subs(sbst1).subs(sbst2).subs(sbst3) != 0:\n",
    "        display(eq.subs(sbst).subs(sbst1).subs(sbst2).subs(sbst3).simplify_full())"
   ]
  },
  {
   "cell_type": "code",
   "execution_count": 42,
   "metadata": {},
   "outputs": [
    {
     "data": {
      "text/html": [
       "<html><script type=\"math/tex; mode=display\">\\newcommand{\\Bold}[1]{\\mathbf{#1}}s_{0}^{2} s_{2}^{2} s_{5}^{2} s_{9}^{2}</script></html>"
      ],
      "text/latex": [
       "$$\\newcommand{\\Bold}[1]{\\mathbf{#1}}s_{0}^{2} s_{2}^{2} s_{5}^{2} s_{9}^{2}$$"
      ],
      "text/plain": [
       "s0^2*s2^2*s5^2*s9^2"
      ]
     },
     "execution_count": 42,
     "metadata": {},
     "output_type": "execute_result"
    }
   ],
   "source": [
    "g.det()"
   ]
  },
  {
   "cell_type": "markdown",
   "metadata": {},
   "source": [
    "---\n",
    "\n",
    "This notebook corresponds to the article \"The moduli space of left-invariant metrics on six-dimensional characteristically solvable nilmanifolds\" by I. Cardoso, A. Cosgaya, and S. Reggiani (2024)."
   ]
  }
 ],
 "metadata": {
  "kernelspec": {
   "display_name": "SageMath 9.3",
   "language": "sage",
   "name": "sagemath"
  },
  "language_info": {
   "codemirror_mode": {
    "name": "ipython",
    "version": 3
   },
   "file_extension": ".py",
   "mimetype": "text/x-python",
   "name": "python",
   "nbconvert_exporter": "python",
   "pygments_lexer": "ipython3",
   "version": "3.7.10"
  }
 },
 "nbformat": 4,
 "nbformat_minor": 4
}

{
 "cells": [
  {
   "cell_type": "code",
   "execution_count": 1,
   "metadata": {},
   "outputs": [],
   "source": [
    "%display latex"
   ]
  },
  {
   "cell_type": "markdown",
   "metadata": {},
   "source": [
    "## 6-dimensional CSLA - NB 01 - Proposition 2.1\n",
    "\n",
    "In this notebook we will show the computations that allow us to prove the Proposition 2.1:\n",
    "\n",
    "---\n",
    "**Proposition 2.1.** Let $\\mathfrak{h}$ be a real nilpotent Lie algebra of dimension $6$. Then $\\mathfrak{h}$ is a CSLAT if and only if $\\mathfrak{h}$ is isomorphic to one of the following Lie algebras: $ \\mathfrak{h}_9, \\mathfrak{h}_{10}, \\mathfrak{h}_{11}, \\mathfrak{h}_{12}, \\mathfrak{h}_{13}, \\mathfrak{h}_{14}, \\mathfrak h_{15}, \\mathfrak{h}_{18}, \\mathfrak{h}_{19}^-, \\mathfrak{h}_{19}^+, \\mathfrak{h}_{21}, \\mathfrak{h}_{22}, \\mathfrak{h}_{23}, \\mathfrak{h}_{24}, \\mathfrak{h}_{25}, \\mathfrak{h}_{26}^-, \\mathfrak{h}_{26}^+, \\mathfrak{h}_{27}, \\mathfrak{h}_{28}, \\mathfrak{h}_{29}, \\mathfrak{h}_{30}, \\mathfrak{h}_{31}, \\mathfrak{h}_{32}.$\n",
    "\n",
    "Moreover, each of the above CSLAs is a CSLAT except for $\\mathfrak h_{15}$, $\\mathfrak h_{19}^-$ or $\\mathfrak h_{26}^+$.\n",
    "\n",
    "---"
   ]
  },
  {
   "cell_type": "markdown",
   "metadata": {},
   "source": [
    "Let us first load the file \"CSLA.sage\" which contains all we need and more. Indeed, in the Notebook 00 we changed the list of names to be used *after* the results obtained in Proposition 2.1, hence we need to restore to the original list of names. That's the next few lines of code:"
   ]
  },
  {
   "cell_type": "code",
   "execution_count": 2,
   "metadata": {},
   "outputs": [],
   "source": [
    "load(\"CSLA.sage\")"
   ]
  },
  {
   "cell_type": "code",
   "execution_count": 3,
   "metadata": {},
   "outputs": [
    {
     "data": {
      "text/html": [
       "<html>\\(\\displaystyle 40\\)</html>"
      ],
      "text/latex": [
       "$\\displaystyle 40$"
      ],
      "text/plain": [
       "40"
      ]
     },
     "execution_count": 3,
     "metadata": {},
     "output_type": "execute_result"
    }
   ],
   "source": [
    "len(algebras_nums_dict)"
   ]
  },
  {
   "cell_type": "code",
   "execution_count": 4,
   "metadata": {},
   "outputs": [
    {
     "data": {
      "text/html": [
       "<html>\\(\\displaystyle \\left\\{\\verb|h1| : \\left[0, 0, 0, 0, 0, 0\\right], \\verb|h2| : \\left[0, 0, 0, 0, 12, 34\\right], \\verb|h3| : \\left[0, 0, 0, 0, 0, \\verb|12+34|\\right], \\verb|h4| : \\left[0, 0, 0, 0, 12, \\verb|14+23|\\right], \\verb|h5| : \\left[0, 0, 0, 0, \\verb|13+42|, \\verb|14+23|\\right], \\verb|h6| : \\left[0, 0, 0, 0, 12, 13\\right], \\verb|h7| : \\left[0, 0, 0, 12, 13, 23\\right], \\verb|h8| : \\left[0, 0, 0, 0, 0, 12\\right], \\verb|h9| : \\left[0, 0, 0, 0, 12, \\verb|14+25|\\right], \\verb|h10| : \\left[0, 0, 0, 12, 13, 14\\right], \\verb|h11| : \\left[0, 0, 0, 12, 13, \\verb|14+23|\\right], \\verb|h12| : \\left[0, 0, 0, 12, 13, 24\\right], \\verb|h13| : \\left[0, 0, 0, 12, \\verb|13+14|, 24\\right], \\verb|h14| : \\left[0, 0, 0, 12, 14, \\verb|13+42|\\right], \\verb|h15| : \\left[0, 0, 0, 12, \\verb|13+42|, \\verb|14+23|\\right], \\verb|h16| : \\left[0, 0, 0, 12, 14, 24\\right], \\verb|h17| : \\left[0, 0, 0, 0, 12, 15\\right], \\verb|h18| : \\left[0, 0, 0, 12, 13, \\verb|14+35|\\right], \\verb|h19+| : \\left[0, 0, 0, 12, 23, \\verb|14+35|\\right], \\verb|h19-| : \\left[0, 0, 0, 12, 23, \\verb|14-35|\\right], \\verb|h20| : \\left[0, 0, 0, 0, 12, \\verb|15+34|\\right], \\verb|h21| : \\left[0, 0, 0, 12, 14, 15\\right], \\verb|h22| : \\left[0, 0, 0, 12, 14, \\verb|15+24|\\right], \\verb|h23| : \\left[0, 0, 12, 13, 23, 14\\right], \\verb|h24| : \\left[0, 0, 0, 12, 14, \\verb|15+23+24|\\right], \\verb|h25| : \\left[0, 0, 0, 12, 14, \\verb|15+23|\\right], \\verb|h26+| : \\left[0, 0, 12, 13, 23, \\verb|14+25|\\right], \\verb|h26-| : \\left[0, 0, 12, 13, 23, \\verb|14-25|\\right], \\verb|h27| : \\left[0, 0, 0, 12, \\verb|14-23|, \\verb|15+34|\\right], \\verb|h28| : \\left[0, 0, 12, 13, 14, 15\\right], \\verb|h29| : \\left[0, 0, 12, 13, 14, \\verb|23+15|\\right], \\verb|h30| : \\left[0, 0, 12, 13, \\verb|14+23|, \\verb|24+15|\\right], \\verb|h31| : \\left[0, 0, 12, 13, 14, \\verb|34+52|\\right], \\verb|h32| : \\left[0, 0, 12, 13, \\verb|14+23|, \\verb|34+52|\\right], \\verb|h9_bis| : \\left[0, 0, 0, 0, 21, \\verb|15+23|\\right], \\verb|h9_tris| : \\left[0, 0, 0, 0, 12, \\verb|51+23|\\right], \\verb|h18_bis| : \\left[0, 0, 0, 12, 13, \\verb|15+24|\\right], \\verb|h19+_bis| : \\left[0, 0, 0, 32, 12, \\verb|14+35|\\right], \\verb|h19+_tris| : \\left[0, 0, 0, 23, 21, \\verb|14+35|\\right], \\verb|h26-_bis| : \\left[0, 0, 12, 31, 32, \\verb|15+24|\\right]\\right\\}\\)</html>"
      ],
      "text/latex": [
       "$\\displaystyle \\left\\{\\verb|h1| : \\left[0, 0, 0, 0, 0, 0\\right], \\verb|h2| : \\left[0, 0, 0, 0, 12, 34\\right], \\verb|h3| : \\left[0, 0, 0, 0, 0, \\verb|12+34|\\right], \\verb|h4| : \\left[0, 0, 0, 0, 12, \\verb|14+23|\\right], \\verb|h5| : \\left[0, 0, 0, 0, \\verb|13+42|, \\verb|14+23|\\right], \\verb|h6| : \\left[0, 0, 0, 0, 12, 13\\right], \\verb|h7| : \\left[0, 0, 0, 12, 13, 23\\right], \\verb|h8| : \\left[0, 0, 0, 0, 0, 12\\right], \\verb|h9| : \\left[0, 0, 0, 0, 12, \\verb|14+25|\\right], \\verb|h10| : \\left[0, 0, 0, 12, 13, 14\\right], \\verb|h11| : \\left[0, 0, 0, 12, 13, \\verb|14+23|\\right], \\verb|h12| : \\left[0, 0, 0, 12, 13, 24\\right], \\verb|h13| : \\left[0, 0, 0, 12, \\verb|13+14|, 24\\right], \\verb|h14| : \\left[0, 0, 0, 12, 14, \\verb|13+42|\\right], \\verb|h15| : \\left[0, 0, 0, 12, \\verb|13+42|, \\verb|14+23|\\right], \\verb|h16| : \\left[0, 0, 0, 12, 14, 24\\right], \\verb|h17| : \\left[0, 0, 0, 0, 12, 15\\right], \\verb|h18| : \\left[0, 0, 0, 12, 13, \\verb|14+35|\\right], \\verb|h19+| : \\left[0, 0, 0, 12, 23, \\verb|14+35|\\right], \\verb|h19-| : \\left[0, 0, 0, 12, 23, \\verb|14-35|\\right], \\verb|h20| : \\left[0, 0, 0, 0, 12, \\verb|15+34|\\right], \\verb|h21| : \\left[0, 0, 0, 12, 14, 15\\right], \\verb|h22| : \\left[0, 0, 0, 12, 14, \\verb|15+24|\\right], \\verb|h23| : \\left[0, 0, 12, 13, 23, 14\\right], \\verb|h24| : \\left[0, 0, 0, 12, 14, \\verb|15+23+24|\\right], \\verb|h25| : \\left[0, 0, 0, 12, 14, \\verb|15+23|\\right], \\verb|h26+| : \\left[0, 0, 12, 13, 23, \\verb|14+25|\\right], \\verb|h26-| : \\left[0, 0, 12, 13, 23, \\verb|14-25|\\right], \\verb|h27| : \\left[0, 0, 0, 12, \\verb|14-23|, \\verb|15+34|\\right], \\verb|h28| : \\left[0, 0, 12, 13, 14, 15\\right], \\verb|h29| : \\left[0, 0, 12, 13, 14, \\verb|23+15|\\right], \\verb|h30| : \\left[0, 0, 12, 13, \\verb|14+23|, \\verb|24+15|\\right], \\verb|h31| : \\left[0, 0, 12, 13, 14, \\verb|34+52|\\right], \\verb|h32| : \\left[0, 0, 12, 13, \\verb|14+23|, \\verb|34+52|\\right], \\verb|h9_bis| : \\left[0, 0, 0, 0, 21, \\verb|15+23|\\right], \\verb|h9_tris| : \\left[0, 0, 0, 0, 12, \\verb|51+23|\\right], \\verb|h18_bis| : \\left[0, 0, 0, 12, 13, \\verb|15+24|\\right], \\verb|h19+_bis| : \\left[0, 0, 0, 32, 12, \\verb|14+35|\\right], \\verb|h19+_tris| : \\left[0, 0, 0, 23, 21, \\verb|14+35|\\right], \\verb|h26-_bis| : \\left[0, 0, 12, 31, 32, \\verb|15+24|\\right]\\right\\}$"
      ],
      "text/plain": [
       "{'h1': ['0', '0', '0', '0', '0', '0'],\n",
       " 'h2': ['0', '0', '0', '0', '12', '34'],\n",
       " 'h3': ['0', '0', '0', '0', '0', '12+34'],\n",
       " 'h4': ['0', '0', '0', '0', '12', '14+23'],\n",
       " 'h5': ['0', '0', '0', '0', '13+42', '14+23'],\n",
       " 'h6': ['0', '0', '0', '0', '12', '13'],\n",
       " 'h7': ['0', '0', '0', '12', '13', '23'],\n",
       " 'h8': ['0', '0', '0', '0', '0', '12'],\n",
       " 'h9': ['0', '0', '0', '0', '12', '14+25'],\n",
       " 'h10': ['0', '0', '0', '12', '13', '14'],\n",
       " 'h11': ['0', '0', '0', '12', '13', '14+23'],\n",
       " 'h12': ['0', '0', '0', '12', '13', '24'],\n",
       " 'h13': ['0', '0', '0', '12', '13+14', '24'],\n",
       " 'h14': ['0', '0', '0', '12', '14', '13+42'],\n",
       " 'h15': ['0', '0', '0', '12', '13+42', '14+23'],\n",
       " 'h16': ['0', '0', '0', '12', '14', '24'],\n",
       " 'h17': ['0', '0', '0', '0', '12', '15'],\n",
       " 'h18': ['0', '0', '0', '12', '13', '14+35'],\n",
       " 'h19+': ['0', '0', '0', '12', '23', '14+35'],\n",
       " 'h19-': ['0', '0', '0', '12', '23', '14-35'],\n",
       " 'h20': ['0', '0', '0', '0', '12', '15+34'],\n",
       " 'h21': ['0', '0', '0', '12', '14', '15'],\n",
       " 'h22': ['0', '0', '0', '12', '14', '15+24'],\n",
       " 'h23': ['0', '0', '12', '13', '23', '14'],\n",
       " 'h24': ['0', '0', '0', '12', '14', '15+23+24'],\n",
       " 'h25': ['0', '0', '0', '12', '14', '15+23'],\n",
       " 'h26+': ['0', '0', '12', '13', '23', '14+25'],\n",
       " 'h26-': ['0', '0', '12', '13', '23', '14-25'],\n",
       " 'h27': ['0', '0', '0', '12', '14-23', '15+34'],\n",
       " 'h28': ['0', '0', '12', '13', '14', '15'],\n",
       " 'h29': ['0', '0', '12', '13', '14', '23+15'],\n",
       " 'h30': ['0', '0', '12', '13', '14+23', '24+15'],\n",
       " 'h31': ['0', '0', '12', '13', '14', '34+52'],\n",
       " 'h32': ['0', '0', '12', '13', '14+23', '34+52'],\n",
       " 'h9_bis': ['0', '0', '0', '0', '21', '15+23'],\n",
       " 'h9_tris': ['0', '0', '0', '0', '12', '51+23'],\n",
       " 'h18_bis': ['0', '0', '0', '12', '13', '15+24'],\n",
       " 'h19+_bis': ['0', '0', '0', '32', '12', '14+35'],\n",
       " 'h19+_tris': ['0', '0', '0', '23', '21', '14+35'],\n",
       " 'h26-_bis': ['0', '0', '12', '31', '32', '15+24']}"
      ]
     },
     "execution_count": 4,
     "metadata": {},
     "output_type": "execute_result"
    }
   ],
   "source": [
    "algebras_nums_dict"
   ]
  },
  {
   "cell_type": "code",
   "execution_count": 5,
   "metadata": {},
   "outputs": [
    {
     "data": {
      "text/html": [
       "<html>\\(\\displaystyle 34\\)</html>"
      ],
      "text/latex": [
       "$\\displaystyle 34$"
      ],
      "text/plain": [
       "34"
      ]
     },
     "execution_count": 5,
     "metadata": {},
     "output_type": "execute_result"
    }
   ],
   "source": [
    "algebras_nums_dict = load('algebras_nums_dict')\n",
    "len(algebras_nums_dict)"
   ]
  },
  {
   "cell_type": "markdown",
   "metadata": {},
   "source": [
    "Now we turn to the argument for the proof of Proposition 2.1. Let us construct a dictionary of the generic derivation for each Lie algebra."
   ]
  },
  {
   "cell_type": "code",
   "execution_count": 6,
   "metadata": {},
   "outputs": [],
   "source": [
    "algebras_generic_derivations_dict = {}\n",
    "for key in algebras_nums_dict:\n",
    "    construct_the_algebra(key)\n",
    "    pair = {key : der_gen}\n",
    "    algebras_generic_derivations_dict.update(pair)\n",
    "#algebras_generic_derivations_dict"
   ]
  },
  {
   "cell_type": "markdown",
   "metadata": {},
   "source": [
    "Let us split the above dictionary between:\n",
    "- **Type 1:** the Lie algebras which already have a lower diagonal generic derivation matrix,\n",
    "- **Type 2:** the Lie algebras we wish to show that there is another basis where they have a lower diagonal generic derivation matrix, namely $\\mathfrak{h}_9$, $\\mathfrak{h}_{18}$, $\\mathfrak{h}_{19}^+$ and $\\mathfrak{h}_{26}^-$, and\n",
    "- **Type 3:** the Lie algebras which we will show that they cannot have a lower diagonal generic derivation matrix in any basis."
   ]
  },
  {
   "cell_type": "code",
   "execution_count": 7,
   "metadata": {},
   "outputs": [],
   "source": [
    "Type_1_dict = {}\n",
    "Type_2_dict = {}\n",
    "Type_3_dict = {}\n",
    "Type_2_names = {'h9', 'h18', 'h19+', 'h26-'}\n",
    "for key in algebras_nums_dict:\n",
    "    construct_the_algebra(key)\n",
    "    pair = {key : der_gen}\n",
    "    if is_lower_triang(der_gen) == True:\n",
    "        Type_1_dict.update(pair)\n",
    "    elif key in Type_2_names:\n",
    "        Type_2_dict.update(pair)\n",
    "    else:\n",
    "        Type_3_dict.update(pair)"
   ]
  },
  {
   "cell_type": "markdown",
   "metadata": {},
   "source": [
    "## Type 1:\n",
    "\n",
    "Thus the list for type 1 goes as follows:"
   ]
  },
  {
   "cell_type": "code",
   "execution_count": 8,
   "metadata": {},
   "outputs": [
    {
     "data": {
      "text/html": [
       "<html>\\(\\displaystyle \\verb|dict_keys(['h10',|\\verb| |\\verb|'h11',|\\verb| |\\verb|'h12',|\\verb| |\\verb|'h13',|\\verb| |\\verb|'h14',|\\verb| |\\verb|'h21',|\\verb| |\\verb|'h22',|\\verb| |\\verb|'h23',|\\verb| |\\verb|'h24',|\\verb| |\\verb|'h25',|\\verb| |\\verb|'h27',|\\verb| |\\verb|'h28',|\\verb| |\\verb|'h29',|\\verb| |\\verb|'h30',|\\verb| |\\verb|'h31',|\\verb| |\\verb|'h32'])|\\)</html>"
      ],
      "text/latex": [
       "$\\displaystyle \\verb|dict_keys(['h10',|\\verb| |\\verb|'h11',|\\verb| |\\verb|'h12',|\\verb| |\\verb|'h13',|\\verb| |\\verb|'h14',|\\verb| |\\verb|'h21',|\\verb| |\\verb|'h22',|\\verb| |\\verb|'h23',|\\verb| |\\verb|'h24',|\\verb| |\\verb|'h25',|\\verb| |\\verb|'h27',|\\verb| |\\verb|'h28',|\\verb| |\\verb|'h29',|\\verb| |\\verb|'h30',|\\verb| |\\verb|'h31',|\\verb| |\\verb|'h32'])|$"
      ],
      "text/plain": [
       "dict_keys(['h10', 'h11', 'h12', 'h13', 'h14', 'h21', 'h22', 'h23', 'h24', 'h25', 'h27', 'h28', 'h29', 'h30', 'h31', 'h32'])"
      ]
     },
     "execution_count": 8,
     "metadata": {},
     "output_type": "execute_result"
    }
   ],
   "source": [
    "Type_1_dict.keys()"
   ]
  },
  {
   "cell_type": "markdown",
   "metadata": {},
   "source": [
    "## Type 2:\n",
    "\n",
    "We will go through each one of the Lie algebras of this list and prove that there is a basis where all the derivations are simultaneously lower triangular."
   ]
  },
  {
   "cell_type": "code",
   "execution_count": 9,
   "metadata": {},
   "outputs": [
    {
     "data": {
      "text/html": [
       "<html>\\(\\displaystyle \\verb|dict_keys(['h9',|\\verb| |\\verb|'h18',|\\verb| |\\verb|'h19+',|\\verb| |\\verb|'h26-'])|\\)</html>"
      ],
      "text/latex": [
       "$\\displaystyle \\verb|dict_keys(['h9',|\\verb| |\\verb|'h18',|\\verb| |\\verb|'h19+',|\\verb| |\\verb|'h26-'])|$"
      ],
      "text/plain": [
       "dict_keys(['h9', 'h18', 'h19+', 'h26-'])"
      ]
     },
     "execution_count": 9,
     "metadata": {},
     "output_type": "execute_result"
    }
   ],
   "source": [
    "Type_2_dict.keys()"
   ]
  },
  {
   "cell_type": "markdown",
   "metadata": {},
   "source": [
    "The following function checks that the given change of basis works for the simultaneous triangularization of all the derivations."
   ]
  },
  {
   "cell_type": "code",
   "execution_count": 10,
   "metadata": {},
   "outputs": [],
   "source": [
    "def simult_lower_triang(name,C):\n",
    "    alg_name = name\n",
    "    construct_the_algebra(alg_name)\n",
    "    D_1 = der_gen\n",
    "    D_2 = (C.inverse())*D_1*C\n",
    "    show(D_2) #print(D_2)\n",
    "    if is_lower_triang(D_2) == True:\n",
    "        print(\"\")\n",
    "        print(\"Every derivation has a lower triangular expression when the basis is changed accordingly the given change of coordinates.\")\n",
    "    else:\n",
    "        print()"
   ]
  },
  {
   "cell_type": "markdown",
   "metadata": {},
   "source": [
    "### $\\mathfrak{h}_9$\n",
    "\n",
    "The proposed change of basis is $e_1' = e_2$, $e_2' = e_1$, $e_3' = e_4$, $e_4' = e_3$, $e_5' = e_5$, $e_6' = e_6$. Hence the matrix for this change of basis from basis $B'$ to basis $B$ is"
   ]
  },
  {
   "cell_type": "code",
   "execution_count": 11,
   "metadata": {},
   "outputs": [
    {
     "data": {
      "text/html": [
       "<html>\\(\\displaystyle \\left(\\begin{array}{rrrrrr}\n",
       "0 & 1 & 0 & 0 & 0 & 0 \\\\\n",
       "1 & 0 & 0 & 0 & 0 & 0 \\\\\n",
       "0 & 0 & 0 & 1 & 0 & 0 \\\\\n",
       "0 & 0 & 1 & 0 & 0 & 0 \\\\\n",
       "0 & 0 & 0 & 0 & 1 & 0 \\\\\n",
       "0 & 0 & 0 & 0 & 0 & 1\n",
       "\\end{array}\\right)\\)</html>"
      ],
      "text/latex": [
       "$\\displaystyle \\left(\\begin{array}{rrrrrr}\n",
       "0 & 1 & 0 & 0 & 0 & 0 \\\\\n",
       "1 & 0 & 0 & 0 & 0 & 0 \\\\\n",
       "0 & 0 & 0 & 1 & 0 & 0 \\\\\n",
       "0 & 0 & 1 & 0 & 0 & 0 \\\\\n",
       "0 & 0 & 0 & 0 & 1 & 0 \\\\\n",
       "0 & 0 & 0 & 0 & 0 & 1\n",
       "\\end{array}\\right)$"
      ],
      "text/plain": [
       "[0 1 0 0 0 0]\n",
       "[1 0 0 0 0 0]\n",
       "[0 0 0 1 0 0]\n",
       "[0 0 1 0 0 0]\n",
       "[0 0 0 0 1 0]\n",
       "[0 0 0 0 0 1]"
      ]
     },
     "execution_count": 11,
     "metadata": {},
     "output_type": "execute_result"
    }
   ],
   "source": [
    "C = matrix([ [ 0, 1, 0, 0, 0, 0 ] , [ 1, 0, 0, 0, 0, 0], [ 0, 0, 0, 1, 0, 0], [ 0, 0, 1, 0, 0, 0], [ 0, 0, 0, 0, 1, 0], [ 0, 0, 0, 0, 0, 1]])\n",
    "C"
   ]
  },
  {
   "cell_type": "code",
   "execution_count": 12,
   "metadata": {
    "scrolled": true
   },
   "outputs": [
    {
     "data": {
      "text/html": [
       "<html>\\(\\displaystyle \\left(\\begin{array}{rrrrrr}\n",
       "d_{2} & 0 & 0 & 0 & 0 & 0 \\\\\n",
       "d_{1} & d_{0} & 0 & 0 & 0 & 0 \\\\\n",
       "d_{8} & d_{7} & 2 \\, d_{2} & 0 & 0 & 0 \\\\\n",
       "d_{4} & d_{3} & d_{6} & d_{5} & 0 & 0 \\\\\n",
       "d_{10} & d_{9} & -d_{1} & 0 & d_{0} + d_{2} & 0 \\\\\n",
       "d_{12} & d_{11} & d_{14} & d_{13} & d_{8} - d_{9} & d_{0} + 2 \\, d_{2}\n",
       "\\end{array}\\right)\\)</html>"
      ],
      "text/latex": [
       "$\\displaystyle \\left(\\begin{array}{rrrrrr}\n",
       "d_{2} & 0 & 0 & 0 & 0 & 0 \\\\\n",
       "d_{1} & d_{0} & 0 & 0 & 0 & 0 \\\\\n",
       "d_{8} & d_{7} & 2 \\, d_{2} & 0 & 0 & 0 \\\\\n",
       "d_{4} & d_{3} & d_{6} & d_{5} & 0 & 0 \\\\\n",
       "d_{10} & d_{9} & -d_{1} & 0 & d_{0} + d_{2} & 0 \\\\\n",
       "d_{12} & d_{11} & d_{14} & d_{13} & d_{8} - d_{9} & d_{0} + 2 \\, d_{2}\n",
       "\\end{array}\\right)$"
      ],
      "text/plain": [
       "[       d2         0         0         0         0         0]\n",
       "[       d1        d0         0         0         0         0]\n",
       "[       d8        d7      2*d2         0         0         0]\n",
       "[       d4        d3        d6        d5         0         0]\n",
       "[      d10        d9       -d1         0   d0 + d2         0]\n",
       "[      d12       d11       d14       d13   d8 - d9 d0 + 2*d2]"
      ]
     },
     "metadata": {},
     "output_type": "display_data"
    },
    {
     "name": "stdout",
     "output_type": "stream",
     "text": [
      "\n",
      "Every derivation has a lower triangular expression when the basis is changed accordingly the given change of coordinates.\n"
     ]
    }
   ],
   "source": [
    "simult_lower_triang('h9',C)"
   ]
  },
  {
   "cell_type": "markdown",
   "metadata": {},
   "source": [
    "### $\\mathfrak{h}_{18}$\n",
    "\n",
    "The proposed change of basis is $e'_1 = e_1$, $e'_2 = e_3$, $e'_3 = e_2$, $e'_4 = e_5$, $e'_5 = e_4$, $e'_6 = e_6$. Hence the matrix for this change of basis from basis $B'$ to basis $B$ is"
   ]
  },
  {
   "cell_type": "code",
   "execution_count": 13,
   "metadata": {},
   "outputs": [
    {
     "data": {
      "text/html": [
       "<html>\\(\\displaystyle \\left(\\begin{array}{rrrrrr}\n",
       "1 & 0 & 0 & 0 & 0 & 0 \\\\\n",
       "0 & 0 & 1 & 0 & 0 & 0 \\\\\n",
       "0 & 1 & 0 & 0 & 0 & 0 \\\\\n",
       "0 & 0 & 0 & 0 & 1 & 0 \\\\\n",
       "0 & 0 & 0 & 1 & 0 & 0 \\\\\n",
       "0 & 0 & 0 & 0 & 0 & 1\n",
       "\\end{array}\\right)\\)</html>"
      ],
      "text/latex": [
       "$\\displaystyle \\left(\\begin{array}{rrrrrr}\n",
       "1 & 0 & 0 & 0 & 0 & 0 \\\\\n",
       "0 & 0 & 1 & 0 & 0 & 0 \\\\\n",
       "0 & 1 & 0 & 0 & 0 & 0 \\\\\n",
       "0 & 0 & 0 & 0 & 1 & 0 \\\\\n",
       "0 & 0 & 0 & 1 & 0 & 0 \\\\\n",
       "0 & 0 & 0 & 0 & 0 & 1\n",
       "\\end{array}\\right)$"
      ],
      "text/plain": [
       "[1 0 0 0 0 0]\n",
       "[0 0 1 0 0 0]\n",
       "[0 1 0 0 0 0]\n",
       "[0 0 0 0 1 0]\n",
       "[0 0 0 1 0 0]\n",
       "[0 0 0 0 0 1]"
      ]
     },
     "execution_count": 13,
     "metadata": {},
     "output_type": "execute_result"
    }
   ],
   "source": [
    "C = matrix([ [ 1, 0, 0, 0, 0, 0 ] , [ 0, 0, 1, 0, 0, 0], [ 0, 1, 0, 0, 0, 0], [ 0, 0, 0, 0, 1, 0], [ 0, 0, 0, 1, 0, 0], [ 0, 0, 0, 0, 0, 1]])\n",
    "C"
   ]
  },
  {
   "cell_type": "code",
   "execution_count": 14,
   "metadata": {},
   "outputs": [
    {
     "data": {
      "text/html": [
       "<html>\\(\\displaystyle \\left(\\begin{array}{rrrrrr}\n",
       "d_{0} & 0 & 0 & 0 & 0 & 0 \\\\\n",
       "-d_{3} & \\frac{1}{2} \\, d_{0} + \\frac{1}{2} \\, d_{2} & 0 & 0 & 0 & 0 \\\\\n",
       "d_{1} & d_{3} & d_{2} & 0 & 0 & 0 \\\\\n",
       "d_{7} & d_{8} & 0 & \\frac{3}{2} \\, d_{0} + \\frac{1}{2} \\, d_{2} & 0 & 0 \\\\\n",
       "d_{4} & d_{6} & d_{5} & d_{3} & d_{0} + d_{2} & 0 \\\\\n",
       "d_{9} & d_{11} & d_{10} & d_{6} - d_{7} & d_{5} & 2 \\, d_{0} + d_{2}\n",
       "\\end{array}\\right)\\)</html>"
      ],
      "text/latex": [
       "$\\displaystyle \\left(\\begin{array}{rrrrrr}\n",
       "d_{0} & 0 & 0 & 0 & 0 & 0 \\\\\n",
       "-d_{3} & \\frac{1}{2} \\, d_{0} + \\frac{1}{2} \\, d_{2} & 0 & 0 & 0 & 0 \\\\\n",
       "d_{1} & d_{3} & d_{2} & 0 & 0 & 0 \\\\\n",
       "d_{7} & d_{8} & 0 & \\frac{3}{2} \\, d_{0} + \\frac{1}{2} \\, d_{2} & 0 & 0 \\\\\n",
       "d_{4} & d_{6} & d_{5} & d_{3} & d_{0} + d_{2} & 0 \\\\\n",
       "d_{9} & d_{11} & d_{10} & d_{6} - d_{7} & d_{5} & 2 \\, d_{0} + d_{2}\n",
       "\\end{array}\\right)$"
      ],
      "text/plain": [
       "[             d0               0               0               0               0               0]\n",
       "[            -d3 1/2*d0 + 1/2*d2               0               0               0               0]\n",
       "[             d1              d3              d2               0               0               0]\n",
       "[             d7              d8               0 3/2*d0 + 1/2*d2               0               0]\n",
       "[             d4              d6              d5              d3         d0 + d2               0]\n",
       "[             d9             d11             d10         d6 - d7              d5       2*d0 + d2]"
      ]
     },
     "metadata": {},
     "output_type": "display_data"
    },
    {
     "name": "stdout",
     "output_type": "stream",
     "text": [
      "\n",
      "Every derivation has a lower triangular expression when the basis is changed accordingly the given change of coordinates.\n"
     ]
    }
   ],
   "source": [
    "simult_lower_triang('h18',C)"
   ]
  },
  {
   "cell_type": "markdown",
   "metadata": {},
   "source": [
    "### $\\mathfrak{h}_{19}^+$\n",
    "\n",
    "The proposed change of basis is $e'_1 = e_1 + e_3$, $e'_2 = e_2$, $e'_3 = e_1 - e_3$, $e'_4 = e_4 + e_5$, $e'_5 = e_4 - e_5$, $e'_6 = 2 e_6$. Hence the matrix for this change of basis from basis $B'$ to basis $B$ is"
   ]
  },
  {
   "cell_type": "code",
   "execution_count": 15,
   "metadata": {},
   "outputs": [
    {
     "data": {
      "text/html": [
       "<html>\\(\\displaystyle \\left(\\begin{array}{rrrrrr}\n",
       "1 & 0 & 1 & 0 & 0 & 0 \\\\\n",
       "0 & 1 & 0 & 0 & 0 & 0 \\\\\n",
       "1 & 0 & -1 & 0 & 0 & 0 \\\\\n",
       "0 & 0 & 0 & 1 & 1 & 0 \\\\\n",
       "0 & 0 & 0 & 1 & -1 & 0 \\\\\n",
       "0 & 0 & 0 & 0 & 0 & 2\n",
       "\\end{array}\\right)\\)</html>"
      ],
      "text/latex": [
       "$\\displaystyle \\left(\\begin{array}{rrrrrr}\n",
       "1 & 0 & 1 & 0 & 0 & 0 \\\\\n",
       "0 & 1 & 0 & 0 & 0 & 0 \\\\\n",
       "1 & 0 & -1 & 0 & 0 & 0 \\\\\n",
       "0 & 0 & 0 & 1 & 1 & 0 \\\\\n",
       "0 & 0 & 0 & 1 & -1 & 0 \\\\\n",
       "0 & 0 & 0 & 0 & 0 & 2\n",
       "\\end{array}\\right)$"
      ],
      "text/plain": [
       "[ 1  0  1  0  0  0]\n",
       "[ 0  1  0  0  0  0]\n",
       "[ 1  0 -1  0  0  0]\n",
       "[ 0  0  0  1  1  0]\n",
       "[ 0  0  0  1 -1  0]\n",
       "[ 0  0  0  0  0  2]"
      ]
     },
     "execution_count": 15,
     "metadata": {},
     "output_type": "execute_result"
    }
   ],
   "source": [
    "C = matrix([ [ 1, 0, 1, 0, 0, 0 ] , [ 0, 1, 0, 0, 0, 0], [ 1, 0, -1, 0, 0, 0], [ 0, 0, 0, 1, 1, 0], [ 0, 0, 0, 1, -1, 0], [ 0, 0, 0, 0, 0, 2]])\n",
    "C"
   ]
  },
  {
   "cell_type": "code",
   "execution_count": 16,
   "metadata": {},
   "outputs": [
    {
     "data": {
      "text/html": [
       "<html>\\(\\displaystyle \\left(\\begin{array}{rrrrrr}\n",
       "d_{0} + d_{1} & 0 & 0 & 0 & 0 & 0 \\\\\n",
       "0 & d_{2} & 0 & 0 & 0 & 0 \\\\\n",
       "0 & 0 & d_{0} - d_{1} & 0 & 0 & 0 \\\\\n",
       "\\frac{1}{2} \\, d_{3} + d_{5} + \\frac{1}{2} \\, d_{7} & \\frac{1}{2} \\, d_{4} + \\frac{1}{2} \\, d_{6} & \\frac{1}{2} \\, d_{3} - \\frac{1}{2} \\, d_{7} & d_{0} - d_{1} + d_{2} & 0 & 0 \\\\\n",
       "\\frac{1}{2} \\, d_{3} - \\frac{1}{2} \\, d_{7} & \\frac{1}{2} \\, d_{4} - \\frac{1}{2} \\, d_{6} & \\frac{1}{2} \\, d_{3} - d_{5} + \\frac{1}{2} \\, d_{7} & 0 & d_{0} + d_{1} + d_{2} & 0 \\\\\n",
       "\\frac{1}{2} \\, d_{10} + \\frac{1}{2} \\, d_{8} & \\frac{1}{2} \\, d_{9} & -\\frac{1}{2} \\, d_{10} + \\frac{1}{2} \\, d_{8} & \\frac{1}{2} \\, d_{4} - \\frac{1}{2} \\, d_{6} & \\frac{1}{2} \\, d_{4} + \\frac{1}{2} \\, d_{6} & 2 \\, d_{0} + d_{2}\n",
       "\\end{array}\\right)\\)</html>"
      ],
      "text/latex": [
       "$\\displaystyle \\left(\\begin{array}{rrrrrr}\n",
       "d_{0} + d_{1} & 0 & 0 & 0 & 0 & 0 \\\\\n",
       "0 & d_{2} & 0 & 0 & 0 & 0 \\\\\n",
       "0 & 0 & d_{0} - d_{1} & 0 & 0 & 0 \\\\\n",
       "\\frac{1}{2} \\, d_{3} + d_{5} + \\frac{1}{2} \\, d_{7} & \\frac{1}{2} \\, d_{4} + \\frac{1}{2} \\, d_{6} & \\frac{1}{2} \\, d_{3} - \\frac{1}{2} \\, d_{7} & d_{0} - d_{1} + d_{2} & 0 & 0 \\\\\n",
       "\\frac{1}{2} \\, d_{3} - \\frac{1}{2} \\, d_{7} & \\frac{1}{2} \\, d_{4} - \\frac{1}{2} \\, d_{6} & \\frac{1}{2} \\, d_{3} - d_{5} + \\frac{1}{2} \\, d_{7} & 0 & d_{0} + d_{1} + d_{2} & 0 \\\\\n",
       "\\frac{1}{2} \\, d_{10} + \\frac{1}{2} \\, d_{8} & \\frac{1}{2} \\, d_{9} & -\\frac{1}{2} \\, d_{10} + \\frac{1}{2} \\, d_{8} & \\frac{1}{2} \\, d_{4} - \\frac{1}{2} \\, d_{6} & \\frac{1}{2} \\, d_{4} + \\frac{1}{2} \\, d_{6} & 2 \\, d_{0} + d_{2}\n",
       "\\end{array}\\right)$"
      ],
      "text/plain": [
       "[             d0 + d1                    0                    0                    0                    0                    0]\n",
       "[                   0                   d2                    0                    0                    0                    0]\n",
       "[                   0                    0              d0 - d1                    0                    0                    0]\n",
       "[1/2*d3 + d5 + 1/2*d7      1/2*d4 + 1/2*d6      1/2*d3 - 1/2*d7         d0 - d1 + d2                    0                    0]\n",
       "[     1/2*d3 - 1/2*d7      1/2*d4 - 1/2*d6 1/2*d3 - d5 + 1/2*d7                    0         d0 + d1 + d2                    0]\n",
       "[    1/2*d10 + 1/2*d8               1/2*d9    -1/2*d10 + 1/2*d8      1/2*d4 - 1/2*d6      1/2*d4 + 1/2*d6            2*d0 + d2]"
      ]
     },
     "metadata": {},
     "output_type": "display_data"
    },
    {
     "name": "stdout",
     "output_type": "stream",
     "text": [
      "\n",
      "Every derivation has a lower triangular expression when the basis is changed accordingly the given change of coordinates.\n"
     ]
    }
   ],
   "source": [
    "simult_lower_triang('h19+',C)"
   ]
  },
  {
   "cell_type": "markdown",
   "metadata": {},
   "source": [
    "### $\\mathfrak{h}_{26}^-$\n",
    "\n",
    "The proposed change of basis is $e'_1 = e_1 + e_2$, $e'_2 = e_1 - e_2 $, $e'_3 = -2 e_3$, $e'_4 = 2(e_4 + e_5)$, $e'_5 = 2(e_4 - e_5) $, $e'_6 = 4 e_6$. Hence the matrix for this change of basis from basis $B'$ to basis $B$ is"
   ]
  },
  {
   "cell_type": "code",
   "execution_count": 17,
   "metadata": {},
   "outputs": [
    {
     "data": {
      "text/html": [
       "<html>\\(\\displaystyle \\left(\\begin{array}{rrrrrr}\n",
       "1 & 1 & 0 & 0 & 0 & 0 \\\\\n",
       "1 & -1 & 0 & 0 & 0 & 0 \\\\\n",
       "0 & 0 & -2 & 0 & 0 & 0 \\\\\n",
       "0 & 0 & 0 & 2 & 2 & 0 \\\\\n",
       "0 & 0 & 0 & 2 & -2 & 0 \\\\\n",
       "0 & 0 & 0 & 0 & 0 & 4\n",
       "\\end{array}\\right)\\)</html>"
      ],
      "text/latex": [
       "$\\displaystyle \\left(\\begin{array}{rrrrrr}\n",
       "1 & 1 & 0 & 0 & 0 & 0 \\\\\n",
       "1 & -1 & 0 & 0 & 0 & 0 \\\\\n",
       "0 & 0 & -2 & 0 & 0 & 0 \\\\\n",
       "0 & 0 & 0 & 2 & 2 & 0 \\\\\n",
       "0 & 0 & 0 & 2 & -2 & 0 \\\\\n",
       "0 & 0 & 0 & 0 & 0 & 4\n",
       "\\end{array}\\right)$"
      ],
      "text/plain": [
       "[ 1  1  0  0  0  0]\n",
       "[ 1 -1  0  0  0  0]\n",
       "[ 0  0 -2  0  0  0]\n",
       "[ 0  0  0  2  2  0]\n",
       "[ 0  0  0  2 -2  0]\n",
       "[ 0  0  0  0  0  4]"
      ]
     },
     "execution_count": 17,
     "metadata": {},
     "output_type": "execute_result"
    }
   ],
   "source": [
    "C = matrix([ [ 1, 1, 0, 0, 0, 0 ] , [ 1, -1, 0, 0, 0, 0], [ 0, 0, -2, 0, 0, 0], [ 0, 0, 0, 2, 2, 0], [ 0, 0, 0, 2, -2, 0], [ 0, 0, 0, 0, 0, 4]])\n",
    "C"
   ]
  },
  {
   "cell_type": "code",
   "execution_count": 18,
   "metadata": {},
   "outputs": [
    {
     "data": {
      "text/html": [
       "<html>\\(\\displaystyle \\left(\\begin{array}{rrrrrr}\n",
       "d_{0} + d_{1} & 0 & 0 & 0 & 0 & 0 \\\\\n",
       "0 & d_{0} - d_{1} & 0 & 0 & 0 & 0 \\\\\n",
       "-\\frac{1}{2} \\, d_{2} - \\frac{1}{2} \\, d_{3} & -\\frac{1}{2} \\, d_{2} + \\frac{1}{2} \\, d_{3} & 2 \\, d_{0} & 0 & 0 & 0 \\\\\n",
       "\\frac{1}{4} \\, d_{4} + \\frac{1}{4} \\, d_{5} + \\frac{1}{4} \\, d_{6} + \\frac{1}{4} \\, d_{7} & \\frac{1}{4} \\, d_{4} - \\frac{1}{4} \\, d_{5} + \\frac{1}{4} \\, d_{6} - \\frac{1}{4} \\, d_{7} & \\frac{1}{2} \\, d_{2} - \\frac{1}{2} \\, d_{3} & 3 \\, d_{0} + d_{1} & 0 & 0 \\\\\n",
       "\\frac{1}{4} \\, d_{4} + \\frac{1}{4} \\, d_{5} - \\frac{1}{4} \\, d_{6} - \\frac{1}{4} \\, d_{7} & \\frac{1}{4} \\, d_{4} - \\frac{1}{4} \\, d_{5} - \\frac{1}{4} \\, d_{6} + \\frac{1}{4} \\, d_{7} & -\\frac{1}{2} \\, d_{2} - \\frac{1}{2} \\, d_{3} & 0 & 3 \\, d_{0} - d_{1} & 0 \\\\\n",
       "\\frac{1}{4} \\, d_{8} + \\frac{1}{4} \\, d_{9} & \\frac{1}{4} \\, d_{8} - \\frac{1}{4} \\, d_{9} & -\\frac{1}{2} \\, d_{5} - \\frac{1}{2} \\, d_{6} & \\frac{1}{2} \\, d_{2} + \\frac{1}{2} \\, d_{3} & -\\frac{1}{2} \\, d_{2} + \\frac{1}{2} \\, d_{3} & 4 \\, d_{0}\n",
       "\\end{array}\\right)\\)</html>"
      ],
      "text/latex": [
       "$\\displaystyle \\left(\\begin{array}{rrrrrr}\n",
       "d_{0} + d_{1} & 0 & 0 & 0 & 0 & 0 \\\\\n",
       "0 & d_{0} - d_{1} & 0 & 0 & 0 & 0 \\\\\n",
       "-\\frac{1}{2} \\, d_{2} - \\frac{1}{2} \\, d_{3} & -\\frac{1}{2} \\, d_{2} + \\frac{1}{2} \\, d_{3} & 2 \\, d_{0} & 0 & 0 & 0 \\\\\n",
       "\\frac{1}{4} \\, d_{4} + \\frac{1}{4} \\, d_{5} + \\frac{1}{4} \\, d_{6} + \\frac{1}{4} \\, d_{7} & \\frac{1}{4} \\, d_{4} - \\frac{1}{4} \\, d_{5} + \\frac{1}{4} \\, d_{6} - \\frac{1}{4} \\, d_{7} & \\frac{1}{2} \\, d_{2} - \\frac{1}{2} \\, d_{3} & 3 \\, d_{0} + d_{1} & 0 & 0 \\\\\n",
       "\\frac{1}{4} \\, d_{4} + \\frac{1}{4} \\, d_{5} - \\frac{1}{4} \\, d_{6} - \\frac{1}{4} \\, d_{7} & \\frac{1}{4} \\, d_{4} - \\frac{1}{4} \\, d_{5} - \\frac{1}{4} \\, d_{6} + \\frac{1}{4} \\, d_{7} & -\\frac{1}{2} \\, d_{2} - \\frac{1}{2} \\, d_{3} & 0 & 3 \\, d_{0} - d_{1} & 0 \\\\\n",
       "\\frac{1}{4} \\, d_{8} + \\frac{1}{4} \\, d_{9} & \\frac{1}{4} \\, d_{8} - \\frac{1}{4} \\, d_{9} & -\\frac{1}{2} \\, d_{5} - \\frac{1}{2} \\, d_{6} & \\frac{1}{2} \\, d_{2} + \\frac{1}{2} \\, d_{3} & -\\frac{1}{2} \\, d_{2} + \\frac{1}{2} \\, d_{3} & 4 \\, d_{0}\n",
       "\\end{array}\\right)$"
      ],
      "text/plain": [
       "[                          d0 + d1                                 0                                 0                                 0                                 0                                 0]\n",
       "[                                0                           d0 - d1                                 0                                 0                                 0                                 0]\n",
       "[                 -1/2*d2 - 1/2*d3                  -1/2*d2 + 1/2*d3                              2*d0                                 0                                 0                                 0]\n",
       "[1/4*d4 + 1/4*d5 + 1/4*d6 + 1/4*d7 1/4*d4 - 1/4*d5 + 1/4*d6 - 1/4*d7                   1/2*d2 - 1/2*d3                         3*d0 + d1                                 0                                 0]\n",
       "[1/4*d4 + 1/4*d5 - 1/4*d6 - 1/4*d7 1/4*d4 - 1/4*d5 - 1/4*d6 + 1/4*d7                  -1/2*d2 - 1/2*d3                                 0                         3*d0 - d1                                 0]\n",
       "[                  1/4*d8 + 1/4*d9                   1/4*d8 - 1/4*d9                  -1/2*d5 - 1/2*d6                   1/2*d2 + 1/2*d3                  -1/2*d2 + 1/2*d3                              4*d0]"
      ]
     },
     "metadata": {},
     "output_type": "display_data"
    },
    {
     "name": "stdout",
     "output_type": "stream",
     "text": [
      "\n",
      "Every derivation has a lower triangular expression when the basis is changed accordingly the given change of coordinates.\n"
     ]
    }
   ],
   "source": [
    "simult_lower_triang('h26-',C)"
   ]
  },
  {
   "cell_type": "markdown",
   "metadata": {},
   "source": [
    "## Type 3:\n",
    "\n",
    "For each of these Lie algebras, except for $\\mathfrak h = \\mathfrak h_{15}$, $\\mathfrak h_{19}^-$, $\\mathfrak h_{26}^+$ we will show that $\\operatorname{Der}(\\mathfrak h)$ has allways a subalgebra isomorphic to $\\mathfrak{sl}_2(\\mathbb R)$, and hence $\\mathfrak h$ cannot be a CSLA. For $\\mathfrak h = \\mathfrak h_{15}$, $\\mathfrak h_{19}^-$, $\\mathfrak h_{26}^+$ we will check that $\\operatorname{Der}(\\mathfrak h)$ is solvable but there exist skew-symmetric derivations. This implies that $\\mathfrak h$ is a CSLA which is not a CSLAT.\n",
    "\n",
    "We will do so by appropiately substituting the coefficients of the generic derivation matrix. Since it is tedious to do the substitutions by hand, we construct a function which performs the substitution. Again, we need to do it case by case and of course we find the substitution by inspection (which is proof enough, we believe, but for the sake of programming we leave our code anyways).\n"
   ]
  },
  {
   "cell_type": "code",
   "execution_count": 19,
   "metadata": {},
   "outputs": [],
   "source": [
    "def variables_substitution(var_subs_list, subs_values_list):\n",
    "    substitution = []\n",
    "    for k in range(len(der_vars)):\n",
    "        d = der_vars[k]\n",
    "        if d not in var_subs_list:\n",
    "            s = [d == 0]\n",
    "            substitution.append(s)\n",
    "    for k in range(len(var_subs_list)):\n",
    "        d = var_subs_list[k]\n",
    "        s = [ d == subs_values_list[k]]\n",
    "        substitution.append(s)\n",
    "    return substitution"
   ]
  },
  {
   "cell_type": "code",
   "execution_count": 20,
   "metadata": {},
   "outputs": [],
   "source": [
    "def antisymmetric_derivation(name, var_subs_list, subs_values_list):\n",
    "    construct_the_algebra(name)\n",
    "    subs_eqns = variables_substitution(var_subs_list, subs_values_list)\n",
    "    subs_der = der_gen.subs(subs_eqns)\n",
    "    if subs_der == -subs_der.transpose():\n",
    "        print(\"The following is a skew-symmetrix matrix corresponding to a derivation\")\n",
    "        print(\"\")\n",
    "        show(subs_der)  "
   ]
  },
  {
   "cell_type": "code",
   "execution_count": 21,
   "metadata": {},
   "outputs": [
    {
     "data": {
      "text/html": [
       "<html>\\(\\displaystyle \\verb|dict_keys(['h1',|\\verb| |\\verb|'h2',|\\verb| |\\verb|'h3',|\\verb| |\\verb|'h4',|\\verb| |\\verb|'h5',|\\verb| |\\verb|'h6',|\\verb| |\\verb|'h7',|\\verb| |\\verb|'h8',|\\verb| |\\verb|'h15',|\\verb| |\\verb|'h16',|\\verb| |\\verb|'h17',|\\verb| |\\verb|'h19-',|\\verb| |\\verb|'h20',|\\verb| |\\verb|'h26+'])|\\)</html>"
      ],
      "text/latex": [
       "$\\displaystyle \\verb|dict_keys(['h1',|\\verb| |\\verb|'h2',|\\verb| |\\verb|'h3',|\\verb| |\\verb|'h4',|\\verb| |\\verb|'h5',|\\verb| |\\verb|'h6',|\\verb| |\\verb|'h7',|\\verb| |\\verb|'h8',|\\verb| |\\verb|'h15',|\\verb| |\\verb|'h16',|\\verb| |\\verb|'h17',|\\verb| |\\verb|'h19-',|\\verb| |\\verb|'h20',|\\verb| |\\verb|'h26+'])|$"
      ],
      "text/plain": [
       "dict_keys(['h1', 'h2', 'h3', 'h4', 'h5', 'h6', 'h7', 'h8', 'h15', 'h16', 'h17', 'h19-', 'h20', 'h26+'])"
      ]
     },
     "execution_count": 21,
     "metadata": {},
     "output_type": "execute_result"
    }
   ],
   "source": [
    "Type_3_dict.keys()"
   ]
  },
  {
   "cell_type": "markdown",
   "metadata": {},
   "source": [
    "### $\\mathfrak{h}_1$"
   ]
  },
  {
   "cell_type": "code",
   "execution_count": 22,
   "metadata": {},
   "outputs": [
    {
     "data": {
      "text/html": [
       "<html>\\(\\displaystyle \\left(\\begin{array}{rrrrrr}\n",
       "d_{0} & d_{1} & d_{2} & d_{3} & d_{4} & d_{5} \\\\\n",
       "d_{6} & d_{7} & d_{8} & d_{9} & d_{10} & d_{11} \\\\\n",
       "d_{12} & d_{13} & d_{14} & d_{15} & d_{16} & d_{17} \\\\\n",
       "d_{18} & d_{19} & d_{20} & d_{21} & d_{22} & d_{23} \\\\\n",
       "d_{24} & d_{25} & d_{26} & d_{27} & d_{28} & d_{29} \\\\\n",
       "d_{30} & d_{31} & d_{32} & d_{33} & d_{34} & d_{35}\n",
       "\\end{array}\\right)\\)</html>"
      ],
      "text/latex": [
       "$\\displaystyle \\left(\\begin{array}{rrrrrr}\n",
       "d_{0} & d_{1} & d_{2} & d_{3} & d_{4} & d_{5} \\\\\n",
       "d_{6} & d_{7} & d_{8} & d_{9} & d_{10} & d_{11} \\\\\n",
       "d_{12} & d_{13} & d_{14} & d_{15} & d_{16} & d_{17} \\\\\n",
       "d_{18} & d_{19} & d_{20} & d_{21} & d_{22} & d_{23} \\\\\n",
       "d_{24} & d_{25} & d_{26} & d_{27} & d_{28} & d_{29} \\\\\n",
       "d_{30} & d_{31} & d_{32} & d_{33} & d_{34} & d_{35}\n",
       "\\end{array}\\right)$"
      ],
      "text/plain": [
       "[ d0  d1  d2  d3  d4  d5]\n",
       "[ d6  d7  d8  d9 d10 d11]\n",
       "[d12 d13 d14 d15 d16 d17]\n",
       "[d18 d19 d20 d21 d22 d23]\n",
       "[d24 d25 d26 d27 d28 d29]\n",
       "[d30 d31 d32 d33 d34 d35]"
      ]
     },
     "execution_count": 22,
     "metadata": {},
     "output_type": "execute_result"
    }
   ],
   "source": [
    "construct_the_algebra('h1')\n",
    "der_gen # non-solvable"
   ]
  },
  {
   "cell_type": "markdown",
   "metadata": {},
   "source": [
    "### $\\mathfrak{h}_2$"
   ]
  },
  {
   "cell_type": "code",
   "execution_count": 23,
   "metadata": {},
   "outputs": [
    {
     "data": {
      "text/html": [
       "<html>\\(\\displaystyle \\left(\\begin{array}{rrrrrr}\n",
       "d_{0} & d_{1} & 0 & 0 & 0 & 0 \\\\\n",
       "d_{2} & d_{3} & 0 & 0 & 0 & 0 \\\\\n",
       "0 & 0 & d_{4} & d_{5} & 0 & 0 \\\\\n",
       "0 & 0 & d_{6} & d_{7} & 0 & 0 \\\\\n",
       "d_{8} & d_{9} & d_{10} & d_{11} & d_{0} + d_{3} & 0 \\\\\n",
       "d_{12} & d_{13} & d_{14} & d_{15} & 0 & d_{4} + d_{7}\n",
       "\\end{array}\\right)\\)</html>"
      ],
      "text/latex": [
       "$\\displaystyle \\left(\\begin{array}{rrrrrr}\n",
       "d_{0} & d_{1} & 0 & 0 & 0 & 0 \\\\\n",
       "d_{2} & d_{3} & 0 & 0 & 0 & 0 \\\\\n",
       "0 & 0 & d_{4} & d_{5} & 0 & 0 \\\\\n",
       "0 & 0 & d_{6} & d_{7} & 0 & 0 \\\\\n",
       "d_{8} & d_{9} & d_{10} & d_{11} & d_{0} + d_{3} & 0 \\\\\n",
       "d_{12} & d_{13} & d_{14} & d_{15} & 0 & d_{4} + d_{7}\n",
       "\\end{array}\\right)$"
      ],
      "text/plain": [
       "[     d0      d1       0       0       0       0]\n",
       "[     d2      d3       0       0       0       0]\n",
       "[      0       0      d4      d5       0       0]\n",
       "[      0       0      d6      d7       0       0]\n",
       "[     d8      d9     d10     d11 d0 + d3       0]\n",
       "[    d12     d13     d14     d15       0 d4 + d7]"
      ]
     },
     "execution_count": 23,
     "metadata": {},
     "output_type": "execute_result"
    }
   ],
   "source": [
    "construct_the_algebra('h2')\n",
    "der_gen # non-solvable"
   ]
  },
  {
   "cell_type": "markdown",
   "metadata": {},
   "source": [
    "### $\\mathfrak{h}_3$"
   ]
  },
  {
   "cell_type": "code",
   "execution_count": 24,
   "metadata": {},
   "outputs": [
    {
     "data": {
      "text/html": [
       "<html>\\(\\displaystyle \\left(\\begin{array}{rrrrrr}\n",
       "d_{0} & d_{1} & 0 & 0 & 0 & 0 \\\\\n",
       "d_{4} & d_{5} & 0 & 0 & 0 & 0 \\\\\n",
       "0 & 0 & 0 & 0 & 0 & 0 \\\\\n",
       "0 & 0 & 0 & d_{0} + d_{5} & 0 & 0 \\\\\n",
       "0 & 0 & 0 & 0 & 0 & 0 \\\\\n",
       "0 & 0 & 0 & 0 & 0 & d_{0} + d_{5}\n",
       "\\end{array}\\right)\\)</html>"
      ],
      "text/latex": [
       "$\\displaystyle \\left(\\begin{array}{rrrrrr}\n",
       "d_{0} & d_{1} & 0 & 0 & 0 & 0 \\\\\n",
       "d_{4} & d_{5} & 0 & 0 & 0 & 0 \\\\\n",
       "0 & 0 & 0 & 0 & 0 & 0 \\\\\n",
       "0 & 0 & 0 & d_{0} + d_{5} & 0 & 0 \\\\\n",
       "0 & 0 & 0 & 0 & 0 & 0 \\\\\n",
       "0 & 0 & 0 & 0 & 0 & d_{0} + d_{5}\n",
       "\\end{array}\\right)$"
      ],
      "text/plain": [
       "[     d0      d1       0       0       0       0]\n",
       "[     d4      d5       0       0       0       0]\n",
       "[      0       0       0       0       0       0]\n",
       "[      0       0       0 d0 + d5       0       0]\n",
       "[      0       0       0       0       0       0]\n",
       "[      0       0       0       0       0 d0 + d5]"
      ]
     },
     "execution_count": 24,
     "metadata": {},
     "output_type": "execute_result"
    }
   ],
   "source": [
    "construct_the_algebra('h3')\n",
    "der_gen.subs(d2=0,d3=0,d6=0,d7=0,d8=0,d9=0,d10=0,d11=0,\n",
    "            d12=0,d13=0,d14=0,d15=0,d16=0,d17=0,d18=0,\n",
    "            d19=0,d20=0) # non-solvable subalgebra"
   ]
  },
  {
   "cell_type": "markdown",
   "metadata": {},
   "source": [
    "### $\\mathfrak{h}_4$"
   ]
  },
  {
   "cell_type": "code",
   "execution_count": 25,
   "metadata": {},
   "outputs": [
    {
     "data": {
      "text/html": [
       "<html>\\(\\displaystyle \\left(\\begin{array}{rrrrrr}\n",
       "d_{0} & d_{1} & 0 & 0 & 0 & 0 \\\\\n",
       "d_{2} & -d_{0} & 0 & 0 & 0 & 0 \\\\\n",
       "0 & 0 & d_{0} & -d_{1} & 0 & 0 \\\\\n",
       "0 & 0 & -d_{2} & -d_{0} & 0 & 0 \\\\\n",
       "0 & 0 & 0 & 0 & 0 & 0 \\\\\n",
       "0 & 0 & 0 & 0 & 0 & 0\n",
       "\\end{array}\\right)\\)</html>"
      ],
      "text/latex": [
       "$\\displaystyle \\left(\\begin{array}{rrrrrr}\n",
       "d_{0} & d_{1} & 0 & 0 & 0 & 0 \\\\\n",
       "d_{2} & -d_{0} & 0 & 0 & 0 & 0 \\\\\n",
       "0 & 0 & d_{0} & -d_{1} & 0 & 0 \\\\\n",
       "0 & 0 & -d_{2} & -d_{0} & 0 & 0 \\\\\n",
       "0 & 0 & 0 & 0 & 0 & 0 \\\\\n",
       "0 & 0 & 0 & 0 & 0 & 0\n",
       "\\end{array}\\right)$"
      ],
      "text/plain": [
       "[ d0  d1   0   0   0   0]\n",
       "[ d2 -d0   0   0   0   0]\n",
       "[  0   0  d0 -d1   0   0]\n",
       "[  0   0 -d2 -d0   0   0]\n",
       "[  0   0   0   0   0   0]\n",
       "[  0   0   0   0   0   0]"
      ]
     },
     "execution_count": 25,
     "metadata": {},
     "output_type": "execute_result"
    }
   ],
   "source": [
    "construct_the_algebra('h4')\n",
    "der_gen.subs(d3=-d0,d4=0,d5=0,d6=d0,d7=0,d8=0,d9=0,d10=0,d11=0,\n",
    "            d12=0,d13=0,d14=0,d15=0,d16=0) # non-solvable subalgebra, isomorphic to sl_2"
   ]
  },
  {
   "cell_type": "markdown",
   "metadata": {},
   "source": [
    "### $\\mathfrak{h}_5$"
   ]
  },
  {
   "cell_type": "code",
   "execution_count": 26,
   "metadata": {},
   "outputs": [
    {
     "data": {
      "text/html": [
       "<html>\\(\\displaystyle \\left(\\begin{array}{rrrrrr}\n",
       "d_{0} & 0 & d_{2} & 0 & 0 & 0 \\\\\n",
       "0 & d_{0} & 0 & d_{2} & 0 & 0 \\\\\n",
       "d_{4} & 0 & d_{6} & 0 & 0 & 0 \\\\\n",
       "0 & d_{4} & 0 & d_{6} & 0 & 0 \\\\\n",
       "0 & 0 & 0 & 0 & d_{0} + d_{6} & 0 \\\\\n",
       "0 & 0 & 0 & 0 & 0 & d_{0} + d_{6}\n",
       "\\end{array}\\right)\\)</html>"
      ],
      "text/latex": [
       "$\\displaystyle \\left(\\begin{array}{rrrrrr}\n",
       "d_{0} & 0 & d_{2} & 0 & 0 & 0 \\\\\n",
       "0 & d_{0} & 0 & d_{2} & 0 & 0 \\\\\n",
       "d_{4} & 0 & d_{6} & 0 & 0 & 0 \\\\\n",
       "0 & d_{4} & 0 & d_{6} & 0 & 0 \\\\\n",
       "0 & 0 & 0 & 0 & d_{0} + d_{6} & 0 \\\\\n",
       "0 & 0 & 0 & 0 & 0 & d_{0} + d_{6}\n",
       "\\end{array}\\right)$"
      ],
      "text/plain": [
       "[     d0       0      d2       0       0       0]\n",
       "[      0      d0       0      d2       0       0]\n",
       "[     d4       0      d6       0       0       0]\n",
       "[      0      d4       0      d6       0       0]\n",
       "[      0       0       0       0 d0 + d6       0]\n",
       "[      0       0       0       0       0 d0 + d6]"
      ]
     },
     "execution_count": 26,
     "metadata": {},
     "output_type": "execute_result"
    }
   ],
   "source": [
    "construct_the_algebra('h5')\n",
    "der_gen.subs(d1=0,d3=0,d5=0,d7=0,d8=0,d9=0,d10=0,\n",
    "             d11=0,d12=0,d13=0,d14=0,d15=0) # non-solvable subalgebra, isomorphic to gl_2"
   ]
  },
  {
   "cell_type": "markdown",
   "metadata": {},
   "source": [
    "### $\\mathfrak{h}_6$"
   ]
  },
  {
   "cell_type": "code",
   "execution_count": 27,
   "metadata": {},
   "outputs": [
    {
     "data": {
      "text/html": [
       "<html>\\(\\displaystyle \\left(\\begin{array}{rrrrrr}\n",
       "0 & 0 & 0 & 0 & 0 & 0 \\\\\n",
       "0 & d_{2} & d_{3} & 0 & 0 & 0 \\\\\n",
       "0 & d_{5} & d_{6} & 0 & 0 & 0 \\\\\n",
       "0 & 0 & 0 & 0 & 0 & 0 \\\\\n",
       "0 & 0 & 0 & 0 & d_{2} & d_{3} \\\\\n",
       "0 & 0 & 0 & 0 & d_{5} & d_{6}\n",
       "\\end{array}\\right)\\)</html>"
      ],
      "text/latex": [
       "$\\displaystyle \\left(\\begin{array}{rrrrrr}\n",
       "0 & 0 & 0 & 0 & 0 & 0 \\\\\n",
       "0 & d_{2} & d_{3} & 0 & 0 & 0 \\\\\n",
       "0 & d_{5} & d_{6} & 0 & 0 & 0 \\\\\n",
       "0 & 0 & 0 & 0 & 0 & 0 \\\\\n",
       "0 & 0 & 0 & 0 & d_{2} & d_{3} \\\\\n",
       "0 & 0 & 0 & 0 & d_{5} & d_{6}\n",
       "\\end{array}\\right)$"
      ],
      "text/plain": [
       "[ 0  0  0  0  0  0]\n",
       "[ 0 d2 d3  0  0  0]\n",
       "[ 0 d5 d6  0  0  0]\n",
       "[ 0  0  0  0  0  0]\n",
       "[ 0  0  0  0 d2 d3]\n",
       "[ 0  0  0  0 d5 d6]"
      ]
     },
     "execution_count": 27,
     "metadata": {},
     "output_type": "execute_result"
    }
   ],
   "source": [
    "construct_the_algebra('h6')\n",
    "der_gen.subs(d0=0,d1=0,d4=0,d7=0,d8=0,d9=0,d10=0,d11=0,\n",
    "            d12=0,d13=0,d14=0,d15=0,d16=0,d17=0,d18=0) # non-solvable subalgebra"
   ]
  },
  {
   "cell_type": "markdown",
   "metadata": {},
   "source": [
    "### $\\mathfrak{h}_7$"
   ]
  },
  {
   "cell_type": "code",
   "execution_count": 28,
   "metadata": {},
   "outputs": [
    {
     "data": {
      "text/html": [
       "<html>\\(\\displaystyle \\left(\\begin{array}{rrrrrr}\n",
       "d_{0} & d_{1} & d_{2} & 0 & 0 & 0 \\\\\n",
       "d_{3} & d_{4} & d_{5} & 0 & 0 & 0 \\\\\n",
       "d_{6} & d_{7} & d_{8} & 0 & 0 & 0 \\\\\n",
       "d_{9} & d_{10} & d_{11} & d_{0} + d_{4} & d_{5} & -d_{2} \\\\\n",
       "d_{12} & d_{13} & d_{14} & d_{7} & d_{0} + d_{8} & d_{1} \\\\\n",
       "d_{15} & d_{16} & d_{17} & -d_{6} & d_{3} & d_{4} + d_{8}\n",
       "\\end{array}\\right)\\)</html>"
      ],
      "text/latex": [
       "$\\displaystyle \\left(\\begin{array}{rrrrrr}\n",
       "d_{0} & d_{1} & d_{2} & 0 & 0 & 0 \\\\\n",
       "d_{3} & d_{4} & d_{5} & 0 & 0 & 0 \\\\\n",
       "d_{6} & d_{7} & d_{8} & 0 & 0 & 0 \\\\\n",
       "d_{9} & d_{10} & d_{11} & d_{0} + d_{4} & d_{5} & -d_{2} \\\\\n",
       "d_{12} & d_{13} & d_{14} & d_{7} & d_{0} + d_{8} & d_{1} \\\\\n",
       "d_{15} & d_{16} & d_{17} & -d_{6} & d_{3} & d_{4} + d_{8}\n",
       "\\end{array}\\right)$"
      ],
      "text/plain": [
       "[     d0      d1      d2       0       0       0]\n",
       "[     d3      d4      d5       0       0       0]\n",
       "[     d6      d7      d8       0       0       0]\n",
       "[     d9     d10     d11 d0 + d4      d5     -d2]\n",
       "[    d12     d13     d14      d7 d0 + d8      d1]\n",
       "[    d15     d16     d17     -d6      d3 d4 + d8]"
      ]
     },
     "execution_count": 28,
     "metadata": {},
     "output_type": "execute_result"
    }
   ],
   "source": [
    "construct_the_algebra('h7')\n",
    "der_gen # non-solvable"
   ]
  },
  {
   "cell_type": "markdown",
   "metadata": {},
   "source": [
    "### $\\mathfrak{h}_8$"
   ]
  },
  {
   "cell_type": "code",
   "execution_count": 29,
   "metadata": {},
   "outputs": [
    {
     "data": {
      "text/html": [
       "<html>\\(\\displaystyle \\left(\\begin{array}{rrrrrr}\n",
       "d_{0} & d_{1} & 0 & 0 & 0 & 0 \\\\\n",
       "d_{2} & d_{3} & 0 & 0 & 0 & 0 \\\\\n",
       "d_{4} & d_{5} & d_{6} & d_{7} & d_{8} & 0 \\\\\n",
       "d_{9} & d_{10} & d_{11} & d_{12} & d_{13} & 0 \\\\\n",
       "d_{14} & d_{15} & d_{16} & d_{17} & d_{18} & 0 \\\\\n",
       "d_{19} & d_{20} & d_{21} & d_{22} & d_{23} & d_{0} + d_{3}\n",
       "\\end{array}\\right)\\)</html>"
      ],
      "text/latex": [
       "$\\displaystyle \\left(\\begin{array}{rrrrrr}\n",
       "d_{0} & d_{1} & 0 & 0 & 0 & 0 \\\\\n",
       "d_{2} & d_{3} & 0 & 0 & 0 & 0 \\\\\n",
       "d_{4} & d_{5} & d_{6} & d_{7} & d_{8} & 0 \\\\\n",
       "d_{9} & d_{10} & d_{11} & d_{12} & d_{13} & 0 \\\\\n",
       "d_{14} & d_{15} & d_{16} & d_{17} & d_{18} & 0 \\\\\n",
       "d_{19} & d_{20} & d_{21} & d_{22} & d_{23} & d_{0} + d_{3}\n",
       "\\end{array}\\right)$"
      ],
      "text/plain": [
       "[     d0      d1       0       0       0       0]\n",
       "[     d2      d3       0       0       0       0]\n",
       "[     d4      d5      d6      d7      d8       0]\n",
       "[     d9     d10     d11     d12     d13       0]\n",
       "[    d14     d15     d16     d17     d18       0]\n",
       "[    d19     d20     d21     d22     d23 d0 + d3]"
      ]
     },
     "execution_count": 29,
     "metadata": {},
     "output_type": "execute_result"
    }
   ],
   "source": [
    "construct_the_algebra('h8')\n",
    "der_gen # non-solvable"
   ]
  },
  {
   "cell_type": "markdown",
   "metadata": {},
   "source": [
    "### $\\mathfrak{h}_{15}$"
   ]
  },
  {
   "cell_type": "code",
   "execution_count": 30,
   "metadata": {},
   "outputs": [
    {
     "data": {
      "text/html": [
       "<html>\\(\\displaystyle \\left(\\begin{array}{rrrrrr}\n",
       "d_{0} & d_{1} & 0 & 0 & 0 & 0 \\\\\n",
       "-d_{1} & d_{0} & 0 & 0 & 0 & 0 \\\\\n",
       "d_{2} & d_{3} & 2 \\, d_{0} & 0 & 0 & 0 \\\\\n",
       "d_{4} & d_{5} & 0 & 2 \\, d_{0} & 0 & 0 \\\\\n",
       "d_{6} & d_{7} & d_{8} & d_{3} + d_{4} & 3 \\, d_{0} & d_{1} \\\\\n",
       "d_{9} & d_{10} & d_{11} & -d_{2} + d_{5} & -d_{1} & 3 \\, d_{0}\n",
       "\\end{array}\\right)\\)</html>"
      ],
      "text/latex": [
       "$\\displaystyle \\left(\\begin{array}{rrrrrr}\n",
       "d_{0} & d_{1} & 0 & 0 & 0 & 0 \\\\\n",
       "-d_{1} & d_{0} & 0 & 0 & 0 & 0 \\\\\n",
       "d_{2} & d_{3} & 2 \\, d_{0} & 0 & 0 & 0 \\\\\n",
       "d_{4} & d_{5} & 0 & 2 \\, d_{0} & 0 & 0 \\\\\n",
       "d_{6} & d_{7} & d_{8} & d_{3} + d_{4} & 3 \\, d_{0} & d_{1} \\\\\n",
       "d_{9} & d_{10} & d_{11} & -d_{2} + d_{5} & -d_{1} & 3 \\, d_{0}\n",
       "\\end{array}\\right)$"
      ],
      "text/plain": [
       "[      d0       d1        0        0        0        0]\n",
       "[     -d1       d0        0        0        0        0]\n",
       "[      d2       d3     2*d0        0        0        0]\n",
       "[      d4       d5        0     2*d0        0        0]\n",
       "[      d6       d7       d8  d3 + d4     3*d0       d1]\n",
       "[      d9      d10      d11 -d2 + d5      -d1     3*d0]"
      ]
     },
     "execution_count": 30,
     "metadata": {},
     "output_type": "execute_result"
    }
   ],
   "source": [
    "construct_the_algebra('h15')\n",
    "der_gen # solvable"
   ]
  },
  {
   "cell_type": "markdown",
   "metadata": {},
   "source": [
    "We can easily see that $\\operatorname{Der}(\\mathfrak h_{15})$ by checking that its commutator is a Lie subalgebra of the triangular matrices. "
   ]
  },
  {
   "cell_type": "code",
   "execution_count": 31,
   "metadata": {},
   "outputs": [
    {
     "data": {
      "text/html": [
       "<html>\\(\\displaystyle \\mathrm{True}\\)</html>"
      ],
      "text/latex": [
       "$\\displaystyle \\mathrm{True}$"
      ],
      "text/plain": [
       "True"
      ]
     },
     "execution_count": 31,
     "metadata": {},
     "output_type": "execute_result"
    }
   ],
   "source": [
    "A = der_gen\n",
    "c0,c1,c2,c3,c4,c5,c6,c7,c8,c9,c10,c11 = var(\"c0,c1,c2,c3,c4,c5,c6,c7,c8,c9,c10,c11\")\n",
    "B = der_gen.subs(d0=c0,d1=c1,d2=c2,d3=c3,d4=c4,d5=c5,d6=c6,\n",
    "                 d7=c7,d8=c8,d9=c9,d10=c10,d11=c11)\n",
    "(A*B - B*A).is_triangular()"
   ]
  },
  {
   "cell_type": "markdown",
   "metadata": {},
   "source": [
    "We check for skew-symmetric derivations. "
   ]
  },
  {
   "cell_type": "code",
   "execution_count": 32,
   "metadata": {},
   "outputs": [
    {
     "name": "stdout",
     "output_type": "stream",
     "text": [
      "The following is a skew-symmetrix matrix corresponding to a derivation\n",
      "\n"
     ]
    },
    {
     "data": {
      "text/html": [
       "<html>\\(\\displaystyle \\left(\\begin{array}{rrrrrr}\n",
       "0 & 1 & 0 & 0 & 0 & 0 \\\\\n",
       "-1 & 0 & 0 & 0 & 0 & 0 \\\\\n",
       "0 & 0 & 0 & 0 & 0 & 0 \\\\\n",
       "0 & 0 & 0 & 0 & 0 & 0 \\\\\n",
       "0 & 0 & 0 & 0 & 0 & 1 \\\\\n",
       "0 & 0 & 0 & 0 & -1 & 0\n",
       "\\end{array}\\right)\\)</html>"
      ],
      "text/latex": [
       "$\\displaystyle \\left(\\begin{array}{rrrrrr}\n",
       "0 & 1 & 0 & 0 & 0 & 0 \\\\\n",
       "-1 & 0 & 0 & 0 & 0 & 0 \\\\\n",
       "0 & 0 & 0 & 0 & 0 & 0 \\\\\n",
       "0 & 0 & 0 & 0 & 0 & 0 \\\\\n",
       "0 & 0 & 0 & 0 & 0 & 1 \\\\\n",
       "0 & 0 & 0 & 0 & -1 & 0\n",
       "\\end{array}\\right)$"
      ],
      "text/plain": [
       "[ 0  1  0  0  0  0]\n",
       "[-1  0  0  0  0  0]\n",
       "[ 0  0  0  0  0  0]\n",
       "[ 0  0  0  0  0  0]\n",
       "[ 0  0  0  0  0  1]\n",
       "[ 0  0  0  0 -1  0]"
      ]
     },
     "metadata": {},
     "output_type": "display_data"
    }
   ],
   "source": [
    "antisymmetric_derivation('h15', [der_vars[1]], [1])"
   ]
  },
  {
   "cell_type": "markdown",
   "metadata": {},
   "source": [
    "### $\\mathfrak{h}_{16}$"
   ]
  },
  {
   "cell_type": "code",
   "execution_count": 33,
   "metadata": {},
   "outputs": [
    {
     "data": {
      "text/html": [
       "<html>\\(\\displaystyle \\left(\\begin{array}{rrrrrr}\n",
       "d_{0} & d_{1} & 0 & 0 & 0 & 0 \\\\\n",
       "d_{2} & d_{3} & 0 & 0 & 0 & 0 \\\\\n",
       "d_{4} & d_{5} & d_{6} & 0 & 0 & 0 \\\\\n",
       "d_{7} & d_{8} & 0 & d_{0} + d_{3} & 0 & 0 \\\\\n",
       "d_{9} & d_{10} & d_{11} & d_{8} & 2 \\, d_{0} + d_{3} & d_{1} \\\\\n",
       "d_{12} & d_{13} & d_{14} & -d_{7} & d_{2} & d_{0} + 2 \\, d_{3}\n",
       "\\end{array}\\right)\\)</html>"
      ],
      "text/latex": [
       "$\\displaystyle \\left(\\begin{array}{rrrrrr}\n",
       "d_{0} & d_{1} & 0 & 0 & 0 & 0 \\\\\n",
       "d_{2} & d_{3} & 0 & 0 & 0 & 0 \\\\\n",
       "d_{4} & d_{5} & d_{6} & 0 & 0 & 0 \\\\\n",
       "d_{7} & d_{8} & 0 & d_{0} + d_{3} & 0 & 0 \\\\\n",
       "d_{9} & d_{10} & d_{11} & d_{8} & 2 \\, d_{0} + d_{3} & d_{1} \\\\\n",
       "d_{12} & d_{13} & d_{14} & -d_{7} & d_{2} & d_{0} + 2 \\, d_{3}\n",
       "\\end{array}\\right)$"
      ],
      "text/plain": [
       "[       d0        d1         0         0         0         0]\n",
       "[       d2        d3         0         0         0         0]\n",
       "[       d4        d5        d6         0         0         0]\n",
       "[       d7        d8         0   d0 + d3         0         0]\n",
       "[       d9       d10       d11        d8 2*d0 + d3        d1]\n",
       "[      d12       d13       d14       -d7        d2 d0 + 2*d3]"
      ]
     },
     "execution_count": 33,
     "metadata": {},
     "output_type": "execute_result"
    }
   ],
   "source": [
    "construct_the_algebra('h16')\n",
    "der_gen # non-solvable"
   ]
  },
  {
   "cell_type": "markdown",
   "metadata": {},
   "source": [
    "### $\\mathfrak{h}_{17}$"
   ]
  },
  {
   "cell_type": "code",
   "execution_count": 34,
   "metadata": {},
   "outputs": [
    {
     "data": {
      "text/html": [
       "<html>\\(\\displaystyle \\left(\\begin{array}{rrrrrr}\n",
       "0 & 0 & 0 & 0 & 0 & 0 \\\\\n",
       "0 & 0 & 0 & 0 & 0 & 0 \\\\\n",
       "0 & 0 & d_{5} & d_{6} & 0 & 0 \\\\\n",
       "0 & 0 & d_{9} & d_{10} & 0 & 0 \\\\\n",
       "0 & 0 & 0 & 0 & 0 & 0 \\\\\n",
       "0 & 0 & 0 & 0 & 0 & 0\n",
       "\\end{array}\\right)\\)</html>"
      ],
      "text/latex": [
       "$\\displaystyle \\left(\\begin{array}{rrrrrr}\n",
       "0 & 0 & 0 & 0 & 0 & 0 \\\\\n",
       "0 & 0 & 0 & 0 & 0 & 0 \\\\\n",
       "0 & 0 & d_{5} & d_{6} & 0 & 0 \\\\\n",
       "0 & 0 & d_{9} & d_{10} & 0 & 0 \\\\\n",
       "0 & 0 & 0 & 0 & 0 & 0 \\\\\n",
       "0 & 0 & 0 & 0 & 0 & 0\n",
       "\\end{array}\\right)$"
      ],
      "text/plain": [
       "[  0   0   0   0   0   0]\n",
       "[  0   0   0   0   0   0]\n",
       "[  0   0  d5  d6   0   0]\n",
       "[  0   0  d9 d10   0   0]\n",
       "[  0   0   0   0   0   0]\n",
       "[  0   0   0   0   0   0]"
      ]
     },
     "execution_count": 34,
     "metadata": {},
     "output_type": "execute_result"
    }
   ],
   "source": [
    "construct_the_algebra('h17')\n",
    "der_gen.subs(d0=0,d1=0,d2=0,d3=0,d4=0,d7=0,d8=0,d11=0,\n",
    "            d12=0,d13=0,d14=0,d15=0,d16=0) # non-solvable subalgebra"
   ]
  },
  {
   "cell_type": "markdown",
   "metadata": {},
   "source": [
    "### $\\mathfrak{h}_{19}^-$"
   ]
  },
  {
   "cell_type": "code",
   "execution_count": 35,
   "metadata": {},
   "outputs": [
    {
     "data": {
      "text/html": [
       "<html>\\(\\displaystyle \\left(\\begin{array}{rrrrrr}\n",
       "d_{0} & 0 & d_{1} & 0 & 0 & 0 \\\\\n",
       "0 & d_{2} & 0 & 0 & 0 & 0 \\\\\n",
       "-d_{1} & 0 & d_{0} & 0 & 0 & 0 \\\\\n",
       "d_{3} & d_{4} & d_{5} & d_{0} + d_{2} & -d_{1} & 0 \\\\\n",
       "-d_{5} & d_{6} & d_{7} & d_{1} & d_{0} + d_{2} & 0 \\\\\n",
       "d_{8} & d_{9} & d_{10} & d_{4} & d_{6} & 2 \\, d_{0} + d_{2}\n",
       "\\end{array}\\right)\\)</html>"
      ],
      "text/latex": [
       "$\\displaystyle \\left(\\begin{array}{rrrrrr}\n",
       "d_{0} & 0 & d_{1} & 0 & 0 & 0 \\\\\n",
       "0 & d_{2} & 0 & 0 & 0 & 0 \\\\\n",
       "-d_{1} & 0 & d_{0} & 0 & 0 & 0 \\\\\n",
       "d_{3} & d_{4} & d_{5} & d_{0} + d_{2} & -d_{1} & 0 \\\\\n",
       "-d_{5} & d_{6} & d_{7} & d_{1} & d_{0} + d_{2} & 0 \\\\\n",
       "d_{8} & d_{9} & d_{10} & d_{4} & d_{6} & 2 \\, d_{0} + d_{2}\n",
       "\\end{array}\\right)$"
      ],
      "text/plain": [
       "[       d0         0        d1         0         0         0]\n",
       "[        0        d2         0         0         0         0]\n",
       "[      -d1         0        d0         0         0         0]\n",
       "[       d3        d4        d5   d0 + d2       -d1         0]\n",
       "[      -d5        d6        d7        d1   d0 + d2         0]\n",
       "[       d8        d9       d10        d4        d6 2*d0 + d2]"
      ]
     },
     "execution_count": 35,
     "metadata": {},
     "output_type": "execute_result"
    }
   ],
   "source": [
    "construct_the_algebra('h19-')\n",
    "der_gen"
   ]
  },
  {
   "cell_type": "markdown",
   "metadata": {},
   "source": [
    "We check that the commutator of $\\operatorname{Der}(\\mathfrak h_{19}^-)$ is a Lie subalgebra of the triangular matrices. "
   ]
  },
  {
   "cell_type": "code",
   "execution_count": 36,
   "metadata": {},
   "outputs": [
    {
     "data": {
      "text/html": [
       "<html>\\(\\displaystyle \\mathrm{True}\\)</html>"
      ],
      "text/latex": [
       "$\\displaystyle \\mathrm{True}$"
      ],
      "text/plain": [
       "True"
      ]
     },
     "execution_count": 36,
     "metadata": {},
     "output_type": "execute_result"
    }
   ],
   "source": [
    "A = der_gen\n",
    "c0,c1,c2,c3,c4,c5,c6,c7,c8,c9,c10 = var(\"c0,c1,c2,c3,c4,c5,c6,c7,c8,c9,c10\")\n",
    "B = der_gen.subs(d0=c0,d1=c1,d2=c2,d3=c3,d4=c4,d5=c5,d6=c6,\n",
    "                 d7=c7,d8=c8,d9=c9,d10=c10)\n",
    "(A*B - B*A).is_triangular()"
   ]
  },
  {
   "cell_type": "markdown",
   "metadata": {},
   "source": [
    "We check for a skew-symmetric derivation."
   ]
  },
  {
   "cell_type": "code",
   "execution_count": 37,
   "metadata": {},
   "outputs": [
    {
     "name": "stdout",
     "output_type": "stream",
     "text": [
      "The following is a skew-symmetrix matrix corresponding to a derivation\n",
      "\n"
     ]
    },
    {
     "data": {
      "text/html": [
       "<html>\\(\\displaystyle \\left(\\begin{array}{rrrrrr}\n",
       "0 & 0 & 1 & 0 & 0 & 0 \\\\\n",
       "0 & 0 & 0 & 0 & 0 & 0 \\\\\n",
       "-1 & 0 & 0 & 0 & 0 & 0 \\\\\n",
       "0 & 0 & 0 & 0 & -1 & 0 \\\\\n",
       "0 & 0 & 0 & 1 & 0 & 0 \\\\\n",
       "0 & 0 & 0 & 0 & 0 & 0\n",
       "\\end{array}\\right)\\)</html>"
      ],
      "text/latex": [
       "$\\displaystyle \\left(\\begin{array}{rrrrrr}\n",
       "0 & 0 & 1 & 0 & 0 & 0 \\\\\n",
       "0 & 0 & 0 & 0 & 0 & 0 \\\\\n",
       "-1 & 0 & 0 & 0 & 0 & 0 \\\\\n",
       "0 & 0 & 0 & 0 & -1 & 0 \\\\\n",
       "0 & 0 & 0 & 1 & 0 & 0 \\\\\n",
       "0 & 0 & 0 & 0 & 0 & 0\n",
       "\\end{array}\\right)$"
      ],
      "text/plain": [
       "[ 0  0  1  0  0  0]\n",
       "[ 0  0  0  0  0  0]\n",
       "[-1  0  0  0  0  0]\n",
       "[ 0  0  0  0 -1  0]\n",
       "[ 0  0  0  1  0  0]\n",
       "[ 0  0  0  0  0  0]"
      ]
     },
     "metadata": {},
     "output_type": "display_data"
    }
   ],
   "source": [
    "antisymmetric_derivation('h19-', [der_vars[1]], [1])"
   ]
  },
  {
   "cell_type": "markdown",
   "metadata": {},
   "source": [
    "### $\\mathfrak{h}_{20}$"
   ]
  },
  {
   "cell_type": "code",
   "execution_count": 38,
   "metadata": {},
   "outputs": [
    {
     "data": {
      "text/html": [
       "<html>\\(\\displaystyle \\left(\\begin{array}{rrrrrr}\n",
       "0 & 0 & 0 & 0 & 0 & 0 \\\\\n",
       "0 & 0 & 0 & 0 & 0 & 0 \\\\\n",
       "0 & 0 & d_{4} & d_{5} & 0 & 0 \\\\\n",
       "0 & 0 & d_{7} & -d_{4} & 0 & 0 \\\\\n",
       "0 & 0 & 0 & 0 & 0 & 0 \\\\\n",
       "0 & 0 & 0 & 0 & 0 & 0\n",
       "\\end{array}\\right)\\)</html>"
      ],
      "text/latex": [
       "$\\displaystyle \\left(\\begin{array}{rrrrrr}\n",
       "0 & 0 & 0 & 0 & 0 & 0 \\\\\n",
       "0 & 0 & 0 & 0 & 0 & 0 \\\\\n",
       "0 & 0 & d_{4} & d_{5} & 0 & 0 \\\\\n",
       "0 & 0 & d_{7} & -d_{4} & 0 & 0 \\\\\n",
       "0 & 0 & 0 & 0 & 0 & 0 \\\\\n",
       "0 & 0 & 0 & 0 & 0 & 0\n",
       "\\end{array}\\right)$"
      ],
      "text/plain": [
       "[  0   0   0   0   0   0]\n",
       "[  0   0   0   0   0   0]\n",
       "[  0   0  d4  d5   0   0]\n",
       "[  0   0  d7 -d4   0   0]\n",
       "[  0   0   0   0   0   0]\n",
       "[  0   0   0   0   0   0]"
      ]
     },
     "execution_count": 38,
     "metadata": {},
     "output_type": "execute_result"
    }
   ],
   "source": [
    "construct_the_algebra('h20')\n",
    "der_gen.subs(d0=0,d1=0,d2=0,d3=0,d6=0,d8=0,d9=0,\n",
    "            d10=0,d11=0,d12=0,d13=0) # non-solvable subalgebra"
   ]
  },
  {
   "cell_type": "markdown",
   "metadata": {},
   "source": [
    "### $\\mathfrak{h}_{26}^+$"
   ]
  },
  {
   "cell_type": "code",
   "execution_count": 39,
   "metadata": {},
   "outputs": [
    {
     "data": {
      "text/html": [
       "<html>\\(\\displaystyle \\left(\\begin{array}{rrrrrr}\n",
       "d_{0} & d_{1} & 0 & 0 & 0 & 0 \\\\\n",
       "-d_{1} & d_{0} & 0 & 0 & 0 & 0 \\\\\n",
       "d_{2} & d_{3} & 2 \\, d_{0} & 0 & 0 & 0 \\\\\n",
       "d_{4} & d_{5} & d_{3} & 3 \\, d_{0} & d_{1} & 0 \\\\\n",
       "d_{6} & d_{7} & -d_{2} & -d_{1} & 3 \\, d_{0} & 0 \\\\\n",
       "d_{8} & d_{9} & d_{5} - d_{6} & d_{3} & -d_{2} & 4 \\, d_{0}\n",
       "\\end{array}\\right)\\)</html>"
      ],
      "text/latex": [
       "$\\displaystyle \\left(\\begin{array}{rrrrrr}\n",
       "d_{0} & d_{1} & 0 & 0 & 0 & 0 \\\\\n",
       "-d_{1} & d_{0} & 0 & 0 & 0 & 0 \\\\\n",
       "d_{2} & d_{3} & 2 \\, d_{0} & 0 & 0 & 0 \\\\\n",
       "d_{4} & d_{5} & d_{3} & 3 \\, d_{0} & d_{1} & 0 \\\\\n",
       "d_{6} & d_{7} & -d_{2} & -d_{1} & 3 \\, d_{0} & 0 \\\\\n",
       "d_{8} & d_{9} & d_{5} - d_{6} & d_{3} & -d_{2} & 4 \\, d_{0}\n",
       "\\end{array}\\right)$"
      ],
      "text/plain": [
       "[     d0      d1       0       0       0       0]\n",
       "[    -d1      d0       0       0       0       0]\n",
       "[     d2      d3    2*d0       0       0       0]\n",
       "[     d4      d5      d3    3*d0      d1       0]\n",
       "[     d6      d7     -d2     -d1    3*d0       0]\n",
       "[     d8      d9 d5 - d6      d3     -d2    4*d0]"
      ]
     },
     "execution_count": 39,
     "metadata": {},
     "output_type": "execute_result"
    }
   ],
   "source": [
    "construct_the_algebra('h26+')\n",
    "der_gen"
   ]
  },
  {
   "cell_type": "markdown",
   "metadata": {},
   "source": [
    "We check that the commutator of $\\operatorname{Der}(\\mathfrak h_{26}^+)$ is a Lie subalgebra of the triangular matrices. "
   ]
  },
  {
   "cell_type": "code",
   "execution_count": 40,
   "metadata": {},
   "outputs": [
    {
     "data": {
      "text/html": [
       "<html>\\(\\displaystyle \\mathrm{True}\\)</html>"
      ],
      "text/latex": [
       "$\\displaystyle \\mathrm{True}$"
      ],
      "text/plain": [
       "True"
      ]
     },
     "execution_count": 40,
     "metadata": {},
     "output_type": "execute_result"
    }
   ],
   "source": [
    "A = der_gen\n",
    "c0,c1,c2,c3,c4,c5,c6,c7,c8,c9 = var(\"c0,c1,c2,c3,c4,c5,c6,c7,c8,c9\")\n",
    "B = der_gen.subs(d0=c0,d1=c1,d2=c2,d3=c3,d4=c4,d5=c5,d6=c6,\n",
    "                 d7=c7,d8=c8,d9=c9)\n",
    "(A*B - B*A).is_triangular()"
   ]
  },
  {
   "cell_type": "markdown",
   "metadata": {},
   "source": [
    "We check for a skew-symmetric derivation."
   ]
  },
  {
   "cell_type": "code",
   "execution_count": 41,
   "metadata": {},
   "outputs": [
    {
     "name": "stdout",
     "output_type": "stream",
     "text": [
      "The following is a skew-symmetrix matrix corresponding to a derivation\n",
      "\n"
     ]
    },
    {
     "data": {
      "text/html": [
       "<html>\\(\\displaystyle \\left(\\begin{array}{rrrrrr}\n",
       "0 & 1 & 0 & 0 & 0 & 0 \\\\\n",
       "-1 & 0 & 0 & 0 & 0 & 0 \\\\\n",
       "0 & 0 & 0 & 0 & 0 & 0 \\\\\n",
       "0 & 0 & 0 & 0 & 1 & 0 \\\\\n",
       "0 & 0 & 0 & -1 & 0 & 0 \\\\\n",
       "0 & 0 & 0 & 0 & 0 & 0\n",
       "\\end{array}\\right)\\)</html>"
      ],
      "text/latex": [
       "$\\displaystyle \\left(\\begin{array}{rrrrrr}\n",
       "0 & 1 & 0 & 0 & 0 & 0 \\\\\n",
       "-1 & 0 & 0 & 0 & 0 & 0 \\\\\n",
       "0 & 0 & 0 & 0 & 0 & 0 \\\\\n",
       "0 & 0 & 0 & 0 & 1 & 0 \\\\\n",
       "0 & 0 & 0 & -1 & 0 & 0 \\\\\n",
       "0 & 0 & 0 & 0 & 0 & 0\n",
       "\\end{array}\\right)$"
      ],
      "text/plain": [
       "[ 0  1  0  0  0  0]\n",
       "[-1  0  0  0  0  0]\n",
       "[ 0  0  0  0  0  0]\n",
       "[ 0  0  0  0  1  0]\n",
       "[ 0  0  0 -1  0  0]\n",
       "[ 0  0  0  0  0  0]"
      ]
     },
     "metadata": {},
     "output_type": "display_data"
    }
   ],
   "source": [
    "antisymmetric_derivation('h26+', [der_vars[1]], [1])"
   ]
  },
  {
   "cell_type": "markdown",
   "metadata": {},
   "source": [
    "---\n",
    "\n",
    "This notebook corresponds to the article \"The moduli space of left-invariant metrics on six-dimensional characteristically solvable nilmanifolds\" by I. Cardoso, A. Cosgaya, and S. Reggiani (2024)."
   ]
  },
  {
   "cell_type": "code",
   "execution_count": null,
   "metadata": {},
   "outputs": [],
   "source": []
  }
 ],
 "metadata": {
  "kernelspec": {
   "display_name": "SageMath 10.4",
   "language": "sage",
   "name": "sagemath"
  },
  "language_info": {
   "codemirror_mode": {
    "name": "ipython",
    "version": 3
   },
   "file_extension": ".py",
   "mimetype": "text/x-python",
   "name": "python",
   "nbconvert_exporter": "python",
   "pygments_lexer": "ipython3",
   "version": "3.12.5"
  }
 },
 "nbformat": 4,
 "nbformat_minor": 4
}

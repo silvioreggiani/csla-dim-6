{
 "cells": [
  {
   "cell_type": "code",
   "execution_count": 1,
   "id": "d24ec2db",
   "metadata": {},
   "outputs": [],
   "source": [
    "%display latex"
   ]
  },
  {
   "cell_type": "markdown",
   "id": "fc676b13",
   "metadata": {},
   "source": [
    "# 6-dimensional CSLA - NB 06 - Remark 5.3"
   ]
  },
  {
   "cell_type": "markdown",
   "id": "6ea2ce44",
   "metadata": {},
   "source": [
    "In this notebook we exhibit, for $\\mathfrak h = \\mathfrak h_{13}, \\mathfrak h_{19}^+, \\mathfrak h_{26}^-$, a pair $(\\varphi_r, \\sigma_r) \\in \\operatorname{Aut}(\\mathfrak h) \\times \\Sigma$, with $r \\in (0, 1]$, such that $\\varphi_r$ is isometric with respect to $g_{\\sigma_r} = \\sigma_r^T \\sigma_r$. That is\n",
    "$$\\varphi_r^T g_{\\sigma_r}- g_{\\sigma_r} \\varphi_r = 0.$$ \n",
    "for all $r \\in (0, 1]$."
   ]
  },
  {
   "cell_type": "code",
   "execution_count": 2,
   "id": "b98747fe",
   "metadata": {},
   "outputs": [],
   "source": [
    "load(\"CSLA.sage\")\n",
    "#names"
   ]
  },
  {
   "cell_type": "markdown",
   "id": "c998421a",
   "metadata": {},
   "source": [
    "## Case $\\mathfrak h_{13}$"
   ]
  },
  {
   "cell_type": "code",
   "execution_count": 3,
   "id": "72e84e7b",
   "metadata": {},
   "outputs": [
    {
     "name": "stdout",
     "output_type": "stream",
     "text": [
      "Nilpotent Lie algebra on 6 generators (e1, e2, e3, e4, e5, e6) over Symbolic Ring\n",
      "h13\n"
     ]
    },
    {
     "data": {
      "text/html": [
       "<html>\\(\\displaystyle \\left(\\begin{array}{rrrrrr}\n",
       "a_{0} & 0 & 0 & 0 & 0 & 0 \\\\\n",
       "0 & a_{1} & 0 & 0 & 0 & 0 \\\\\n",
       "a_{2} & a_{3} & a_{0} a_{1} & 0 & 0 & 0 \\\\\n",
       "a_{4} & a_{5} & 0 & a_{0} a_{1} & 0 & 0 \\\\\n",
       "a_{6} & a_{7} & a_{8} & a_{0} a_{3} + a_{0} a_{5} & a_{0}^{2} a_{1} & 0 \\\\\n",
       "a_{9} & a_{10} & a_{11} & -a_{1} a_{4} & 0 & a_{0} a_{1}^{2}\n",
       "\\end{array}\\right)\\)</html>"
      ],
      "text/latex": [
       "$\\displaystyle \\left(\\begin{array}{rrrrrr}\n",
       "a_{0} & 0 & 0 & 0 & 0 & 0 \\\\\n",
       "0 & a_{1} & 0 & 0 & 0 & 0 \\\\\n",
       "a_{2} & a_{3} & a_{0} a_{1} & 0 & 0 & 0 \\\\\n",
       "a_{4} & a_{5} & 0 & a_{0} a_{1} & 0 & 0 \\\\\n",
       "a_{6} & a_{7} & a_{8} & a_{0} a_{3} + a_{0} a_{5} & a_{0}^{2} a_{1} & 0 \\\\\n",
       "a_{9} & a_{10} & a_{11} & -a_{1} a_{4} & 0 & a_{0} a_{1}^{2}\n",
       "\\end{array}\\right)$"
      ],
      "text/plain": [
       "[           a0             0             0             0             0             0]\n",
       "[            0            a1             0             0             0             0]\n",
       "[           a2            a3         a0*a1             0             0             0]\n",
       "[           a4            a5             0         a0*a1             0             0]\n",
       "[           a6            a7            a8 a0*a3 + a0*a5       a0^2*a1             0]\n",
       "[           a9           a10           a11        -a1*a4             0       a0*a1^2]"
      ]
     },
     "metadata": {},
     "output_type": "display_data"
    },
    {
     "data": {
      "text/html": [
       "<html>\\(\\displaystyle \\left(\\left(\\begin{array}{rrrrrr}\n",
       "s_{0}^{2} + 1 & s_{0} & 0 & 0 & 0 & 0 \\\\\n",
       "s_{0} & 1 & 0 & 0 & 0 & 0 \\\\\n",
       "0 & 0 & s_{1}^{2} + s_{2}^{2} & s_{2} s_{3} & 0 & 0 \\\\\n",
       "0 & 0 & s_{2} s_{3} & s_{3}^{2} + s_{4}^{2} + s_{6}^{2} & s_{4} s_{5} + s_{6} s_{7} & s_{6} s_{8} \\\\\n",
       "0 & 0 & 0 & s_{4} s_{5} + s_{6} s_{7} & s_{5}^{2} + s_{7}^{2} & s_{7} s_{8} \\\\\n",
       "0 & 0 & 0 & s_{6} s_{8} & s_{7} s_{8} & s_{8}^{2}\n",
       "\\end{array}\\right), \\left(\\begin{array}{rrrrrr}\n",
       "1 & 0 & 0 & 0 & 0 & 0 \\\\\n",
       "s_{0} & 1 & 0 & 0 & 0 & 0 \\\\\n",
       "0 & 0 & s_{1} & 0 & 0 & 0 \\\\\n",
       "0 & 0 & s_{2} & s_{3} & 0 & 0 \\\\\n",
       "0 & 0 & 0 & s_{4} & s_{5} & 0 \\\\\n",
       "0 & 0 & 0 & s_{6} & s_{7} & s_{8}\n",
       "\\end{array}\\right)\\right)\\)</html>"
      ],
      "text/latex": [
       "$\\displaystyle \\left(\\left(\\begin{array}{rrrrrr}\n",
       "s_{0}^{2} + 1 & s_{0} & 0 & 0 & 0 & 0 \\\\\n",
       "s_{0} & 1 & 0 & 0 & 0 & 0 \\\\\n",
       "0 & 0 & s_{1}^{2} + s_{2}^{2} & s_{2} s_{3} & 0 & 0 \\\\\n",
       "0 & 0 & s_{2} s_{3} & s_{3}^{2} + s_{4}^{2} + s_{6}^{2} & s_{4} s_{5} + s_{6} s_{7} & s_{6} s_{8} \\\\\n",
       "0 & 0 & 0 & s_{4} s_{5} + s_{6} s_{7} & s_{5}^{2} + s_{7}^{2} & s_{7} s_{8} \\\\\n",
       "0 & 0 & 0 & s_{6} s_{8} & s_{7} s_{8} & s_{8}^{2}\n",
       "\\end{array}\\right), \\left(\\begin{array}{rrrrrr}\n",
       "1 & 0 & 0 & 0 & 0 & 0 \\\\\n",
       "s_{0} & 1 & 0 & 0 & 0 & 0 \\\\\n",
       "0 & 0 & s_{1} & 0 & 0 & 0 \\\\\n",
       "0 & 0 & s_{2} & s_{3} & 0 & 0 \\\\\n",
       "0 & 0 & 0 & s_{4} & s_{5} & 0 \\\\\n",
       "0 & 0 & 0 & s_{6} & s_{7} & s_{8}\n",
       "\\end{array}\\right)\\right)$"
      ],
      "text/plain": [
       "(\n",
       "[          s0^2 + 1                 s0                  0                  0                  0                  0]\n",
       "[                s0                  1                  0                  0                  0                  0]\n",
       "[                 0                  0        s1^2 + s2^2              s2*s3                  0                  0]\n",
       "[                 0                  0              s2*s3 s3^2 + s4^2 + s6^2      s4*s5 + s6*s7              s6*s8]\n",
       "[                 0                  0                  0      s4*s5 + s6*s7        s5^2 + s7^2              s7*s8]\n",
       "[                 0                  0                  0              s6*s8              s7*s8               s8^2],\n",
       "\n",
       "[ 1  0  0  0  0  0]\n",
       "[s0  1  0  0  0  0]\n",
       "[ 0  0 s1  0  0  0]\n",
       "[ 0  0 s2 s3  0  0]\n",
       "[ 0  0  0 s4 s5  0]\n",
       "[ 0  0  0 s6 s7 s8]\n",
       ")"
      ]
     },
     "metadata": {},
     "output_type": "display_data"
    }
   ],
   "source": [
    "construct_the_algebra(\"h13\")\n",
    "print(alg)\n",
    "print(alg_name)\n",
    "generic_automorphisms(alg_name)\n",
    "display(aut_gen)\n",
    "generic_metric(alg_name)\n",
    "display((g, Sigma))"
   ]
  },
  {
   "cell_type": "code",
   "execution_count": 4,
   "id": "7d8a1f4b",
   "metadata": {},
   "outputs": [
    {
     "data": {
      "text/html": [
       "<html>\\(\\displaystyle \\left(\\begin{array}{rrrrrr}\n",
       "0 & -1 & 0 & 0 & 0 & 0 \\\\\n",
       "1 & 0 & 0 & 0 & 0 & 0 \\\\\n",
       "0 & 0 & -1 & 0 & 0 & 0 \\\\\n",
       "0 & 0 & 1 & 1 & 0 & 0 \\\\\n",
       "0 & 0 & 0 & 0 & 0 & -1 \\\\\n",
       "0 & 0 & 0 & 0 & 1 & 0\n",
       "\\end{array}\\right)\\)</html>"
      ],
      "text/latex": [
       "$\\displaystyle \\left(\\begin{array}{rrrrrr}\n",
       "0 & -1 & 0 & 0 & 0 & 0 \\\\\n",
       "1 & 0 & 0 & 0 & 0 & 0 \\\\\n",
       "0 & 0 & -1 & 0 & 0 & 0 \\\\\n",
       "0 & 0 & 1 & 1 & 0 & 0 \\\\\n",
       "0 & 0 & 0 & 0 & 0 & -1 \\\\\n",
       "0 & 0 & 0 & 0 & 1 & 0\n",
       "\\end{array}\\right)$"
      ],
      "text/plain": [
       "[ 0 -1  0  0  0  0]\n",
       "[ 1  0  0  0  0  0]\n",
       "[ 0  0 -1  0  0  0]\n",
       "[ 0  0  1  1  0  0]\n",
       "[ 0  0  0  0  0 -1]\n",
       "[ 0  0  0  0  1  0]"
      ]
     },
     "execution_count": 4,
     "metadata": {},
     "output_type": "execute_result"
    }
   ],
   "source": [
    "# Non-diagonal automorphism\n",
    "e1, e2, e3, e4, e5, e6  = alg.basis()\n",
    "A = alg.morphism({e1: e2, e2: -e1, e3: -e3 + e4}).matrix()\n",
    "A"
   ]
  },
  {
   "cell_type": "code",
   "execution_count": 5,
   "id": "662e0350",
   "metadata": {},
   "outputs": [
    {
     "data": {
      "text/html": [
       "<html>\\(\\displaystyle \\left(\\left(\\begin{array}{rrrrrr}\n",
       "0 & -r & 0 & 0 & 0 & 0 \\\\\n",
       "-\\frac{1}{r} & 0 & 0 & 0 & 0 & 0 \\\\\n",
       "0 & 0 & 1 & 0 & 0 & 0 \\\\\n",
       "0 & 0 & -1 & -1 & 0 & 0 \\\\\n",
       "0 & 0 & 0 & 0 & 0 & r \\\\\n",
       "0 & 0 & 0 & 0 & \\frac{1}{r} & 0\n",
       "\\end{array}\\right), \\left(\\begin{array}{rrrrrr}\n",
       "1 & 0 & 0 & 0 & 0 & 0 \\\\\n",
       "\\frac{\\sqrt{-r^{2} + 1}}{r} & 1 & 0 & 0 & 0 & 0 \\\\\n",
       "0 & 0 & 1 & 0 & 0 & 0 \\\\\n",
       "0 & 0 & \\frac{1}{2} & 1 & 0 & 0 \\\\\n",
       "0 & 0 & 0 & 0 & \\frac{1}{r} & 0 \\\\\n",
       "0 & 0 & 0 & 0 & 0 & 1\n",
       "\\end{array}\\right), \\left(\\begin{array}{rrrrrr}\n",
       "\\frac{1}{r^{2}} & \\frac{\\sqrt{-r^{2} + 1}}{r} & 0 & 0 & 0 & 0 \\\\\n",
       "\\frac{\\sqrt{-r^{2} + 1}}{r} & 1 & 0 & 0 & 0 & 0 \\\\\n",
       "0 & 0 & \\frac{5}{4} & \\frac{1}{2} & 0 & 0 \\\\\n",
       "0 & 0 & \\frac{1}{2} & 1 & 0 & 0 \\\\\n",
       "0 & 0 & 0 & 0 & \\frac{1}{r^{2}} & 0 \\\\\n",
       "0 & 0 & 0 & 0 & 0 & 1\n",
       "\\end{array}\\right)\\right)\\)</html>"
      ],
      "text/latex": [
       "$\\displaystyle \\left(\\left(\\begin{array}{rrrrrr}\n",
       "0 & -r & 0 & 0 & 0 & 0 \\\\\n",
       "-\\frac{1}{r} & 0 & 0 & 0 & 0 & 0 \\\\\n",
       "0 & 0 & 1 & 0 & 0 & 0 \\\\\n",
       "0 & 0 & -1 & -1 & 0 & 0 \\\\\n",
       "0 & 0 & 0 & 0 & 0 & r \\\\\n",
       "0 & 0 & 0 & 0 & \\frac{1}{r} & 0\n",
       "\\end{array}\\right), \\left(\\begin{array}{rrrrrr}\n",
       "1 & 0 & 0 & 0 & 0 & 0 \\\\\n",
       "\\frac{\\sqrt{-r^{2} + 1}}{r} & 1 & 0 & 0 & 0 & 0 \\\\\n",
       "0 & 0 & 1 & 0 & 0 & 0 \\\\\n",
       "0 & 0 & \\frac{1}{2} & 1 & 0 & 0 \\\\\n",
       "0 & 0 & 0 & 0 & \\frac{1}{r} & 0 \\\\\n",
       "0 & 0 & 0 & 0 & 0 & 1\n",
       "\\end{array}\\right), \\left(\\begin{array}{rrrrrr}\n",
       "\\frac{1}{r^{2}} & \\frac{\\sqrt{-r^{2} + 1}}{r} & 0 & 0 & 0 & 0 \\\\\n",
       "\\frac{\\sqrt{-r^{2} + 1}}{r} & 1 & 0 & 0 & 0 & 0 \\\\\n",
       "0 & 0 & \\frac{5}{4} & \\frac{1}{2} & 0 & 0 \\\\\n",
       "0 & 0 & \\frac{1}{2} & 1 & 0 & 0 \\\\\n",
       "0 & 0 & 0 & 0 & \\frac{1}{r^{2}} & 0 \\\\\n",
       "0 & 0 & 0 & 0 & 0 & 1\n",
       "\\end{array}\\right)\\right)$"
      ],
      "text/plain": [
       "(\n",
       "[   0   -r    0    0    0    0]  [               1                0                0                0                0                0]  [          r^(-2) sqrt(-r^2 + 1)/r                0                0                0                0]\n",
       "[-1/r    0    0    0    0    0]  [sqrt(-r^2 + 1)/r                1                0                0                0                0]  [sqrt(-r^2 + 1)/r                1                0                0                0                0]\n",
       "[   0    0    1    0    0    0]  [               0                0                1                0                0                0]  [               0                0              5/4              1/2                0                0]\n",
       "[   0    0   -1   -1    0    0]  [               0                0              1/2                1                0                0]  [               0                0              1/2                1                0                0]\n",
       "[   0    0    0    0    0    r]  [               0                0                0                0              1/r                0]  [               0                0                0                0           r^(-2)                0]\n",
       "[   0    0    0    0  1/r    0], [               0                0                0                0                0                1], [               0                0                0                0                0                1]\n",
       ")"
      ]
     },
     "execution_count": 5,
     "metadata": {},
     "output_type": "execute_result"
    }
   ],
   "source": [
    "r = var(\"r\")\n",
    "Phi_r = (aut_gen * A).subs(a1=-1/a0,a2=0,a3=0,a4=0,a5=0,a6=0,a7=0,a8=0,a9=0,a10=0,a11=0).subs(a0=r)\n",
    "Sigma_r = Sigma.subs(s0=sqrt(1-r^2)/r,s1=1,s2=1/2,s3=1,s4=0,s5=1/r,s6=0,s7=0,s8=1)\n",
    "g_r = (Sigma_r.transpose() * Sigma_r).simplify_full()\n",
    "Phi_r, Sigma_r, g_r"
   ]
  },
  {
   "cell_type": "markdown",
   "id": "f9d4f45c",
   "metadata": {},
   "source": [
    "We check that $\\Phi_r$ is orthogonal with respect to $g_{\\sigma_r}$."
   ]
  },
  {
   "cell_type": "code",
   "execution_count": 6,
   "id": "431dc1f5",
   "metadata": {},
   "outputs": [
    {
     "data": {
      "text/html": [
       "<html>\\(\\displaystyle \\left(\\begin{array}{rrrrrr}\n",
       "0 & 0 & 0 & 0 & 0 & 0 \\\\\n",
       "0 & 0 & 0 & 0 & 0 & 0 \\\\\n",
       "0 & 0 & 0 & 0 & 0 & 0 \\\\\n",
       "0 & 0 & 0 & 0 & 0 & 0 \\\\\n",
       "0 & 0 & 0 & 0 & 0 & 0 \\\\\n",
       "0 & 0 & 0 & 0 & 0 & 0\n",
       "\\end{array}\\right)\\)</html>"
      ],
      "text/latex": [
       "$\\displaystyle \\left(\\begin{array}{rrrrrr}\n",
       "0 & 0 & 0 & 0 & 0 & 0 \\\\\n",
       "0 & 0 & 0 & 0 & 0 & 0 \\\\\n",
       "0 & 0 & 0 & 0 & 0 & 0 \\\\\n",
       "0 & 0 & 0 & 0 & 0 & 0 \\\\\n",
       "0 & 0 & 0 & 0 & 0 & 0 \\\\\n",
       "0 & 0 & 0 & 0 & 0 & 0\n",
       "\\end{array}\\right)$"
      ],
      "text/plain": [
       "[0 0 0 0 0 0]\n",
       "[0 0 0 0 0 0]\n",
       "[0 0 0 0 0 0]\n",
       "[0 0 0 0 0 0]\n",
       "[0 0 0 0 0 0]\n",
       "[0 0 0 0 0 0]"
      ]
     },
     "execution_count": 6,
     "metadata": {},
     "output_type": "execute_result"
    }
   ],
   "source": [
    "Phi_r.transpose() * g_r - g_r * Phi_r"
   ]
  },
  {
   "cell_type": "markdown",
   "id": "6636c0e3",
   "metadata": {},
   "source": [
    "## Case $\\mathfrak h_{19}^+$"
   ]
  },
  {
   "cell_type": "code",
   "execution_count": 7,
   "id": "a1cbf3ae",
   "metadata": {},
   "outputs": [
    {
     "name": "stdout",
     "output_type": "stream",
     "text": [
      "Nilpotent Lie algebra on 6 generators (e1, e2, e3, e4, e5, e6) over Symbolic Ring\n",
      "h19+_tris\n"
     ]
    },
    {
     "data": {
      "text/html": [
       "<html>\\(\\displaystyle \\left(\\begin{array}{rrrrrr}\n",
       "a_{0} & 0 & 0 & 0 & 0 & 0 \\\\\n",
       "0 & a_{1} & 0 & 0 & 0 & 0 \\\\\n",
       "0 & 0 & a_{2} & 0 & 0 & 0 \\\\\n",
       "a_{3} & a_{4} & a_{5} & a_{1} a_{2} & 0 & 0 \\\\\n",
       "\\frac{a_{0} a_{5}}{a_{2}} & a_{6} & a_{7} & 0 & a_{0} a_{1} & 0 \\\\\n",
       "a_{8} & a_{9} & a_{10} & -a_{2} a_{6} & -a_{0} a_{4} & a_{0} a_{1} a_{2}\n",
       "\\end{array}\\right)\\)</html>"
      ],
      "text/latex": [
       "$\\displaystyle \\left(\\begin{array}{rrrrrr}\n",
       "a_{0} & 0 & 0 & 0 & 0 & 0 \\\\\n",
       "0 & a_{1} & 0 & 0 & 0 & 0 \\\\\n",
       "0 & 0 & a_{2} & 0 & 0 & 0 \\\\\n",
       "a_{3} & a_{4} & a_{5} & a_{1} a_{2} & 0 & 0 \\\\\n",
       "\\frac{a_{0} a_{5}}{a_{2}} & a_{6} & a_{7} & 0 & a_{0} a_{1} & 0 \\\\\n",
       "a_{8} & a_{9} & a_{10} & -a_{2} a_{6} & -a_{0} a_{4} & a_{0} a_{1} a_{2}\n",
       "\\end{array}\\right)$"
      ],
      "text/plain": [
       "[      a0        0        0        0        0        0]\n",
       "[       0       a1        0        0        0        0]\n",
       "[       0        0       a2        0        0        0]\n",
       "[      a3       a4       a5    a1*a2        0        0]\n",
       "[a0*a5/a2       a6       a7        0    a0*a1        0]\n",
       "[      a8       a9      a10   -a2*a6   -a0*a4 a0*a1*a2]"
      ]
     },
     "metadata": {},
     "output_type": "display_data"
    },
    {
     "data": {
      "text/html": [
       "<html>\\(\\displaystyle \\left(\\left(\\begin{array}{rrrrrr}\n",
       "s_{0}^{2} + s_{1}^{2} + s_{4}^{2} + 1 & s_{1} s_{2} + s_{0} & s_{1} & s_{4} s_{5} & s_{4} s_{6} & 0 \\\\\n",
       "s_{1} s_{2} + s_{0} & s_{2}^{2} + 1 & s_{2} & 0 & 0 & 0 \\\\\n",
       "s_{1} & s_{2} & 1 & 0 & 0 & 0 \\\\\n",
       "s_{4} s_{5} & 0 & 0 & s_{3}^{2} + s_{5}^{2} + s_{7}^{2} & s_{5} s_{6} + s_{7} s_{8} & s_{7} s_{9} \\\\\n",
       "s_{4} s_{6} & 0 & 0 & s_{5} s_{6} + s_{7} s_{8} & s_{6}^{2} + s_{8}^{2} & s_{8} s_{9} \\\\\n",
       "0 & 0 & 0 & s_{7} s_{9} & s_{8} s_{9} & s_{9}^{2}\n",
       "\\end{array}\\right), \\left(\\begin{array}{rrrrrr}\n",
       "1 & 0 & 0 & 0 & 0 & 0 \\\\\n",
       "s_{0} & 1 & 0 & 0 & 0 & 0 \\\\\n",
       "s_{1} & s_{2} & 1 & 0 & 0 & 0 \\\\\n",
       "0 & 0 & 0 & s_{3} & 0 & 0 \\\\\n",
       "s_{4} & 0 & 0 & s_{5} & s_{6} & 0 \\\\\n",
       "0 & 0 & 0 & s_{7} & s_{8} & s_{9}\n",
       "\\end{array}\\right)\\right)\\)</html>"
      ],
      "text/latex": [
       "$\\displaystyle \\left(\\left(\\begin{array}{rrrrrr}\n",
       "s_{0}^{2} + s_{1}^{2} + s_{4}^{2} + 1 & s_{1} s_{2} + s_{0} & s_{1} & s_{4} s_{5} & s_{4} s_{6} & 0 \\\\\n",
       "s_{1} s_{2} + s_{0} & s_{2}^{2} + 1 & s_{2} & 0 & 0 & 0 \\\\\n",
       "s_{1} & s_{2} & 1 & 0 & 0 & 0 \\\\\n",
       "s_{4} s_{5} & 0 & 0 & s_{3}^{2} + s_{5}^{2} + s_{7}^{2} & s_{5} s_{6} + s_{7} s_{8} & s_{7} s_{9} \\\\\n",
       "s_{4} s_{6} & 0 & 0 & s_{5} s_{6} + s_{7} s_{8} & s_{6}^{2} + s_{8}^{2} & s_{8} s_{9} \\\\\n",
       "0 & 0 & 0 & s_{7} s_{9} & s_{8} s_{9} & s_{9}^{2}\n",
       "\\end{array}\\right), \\left(\\begin{array}{rrrrrr}\n",
       "1 & 0 & 0 & 0 & 0 & 0 \\\\\n",
       "s_{0} & 1 & 0 & 0 & 0 & 0 \\\\\n",
       "s_{1} & s_{2} & 1 & 0 & 0 & 0 \\\\\n",
       "0 & 0 & 0 & s_{3} & 0 & 0 \\\\\n",
       "s_{4} & 0 & 0 & s_{5} & s_{6} & 0 \\\\\n",
       "0 & 0 & 0 & s_{7} & s_{8} & s_{9}\n",
       "\\end{array}\\right)\\right)$"
      ],
      "text/plain": [
       "(\n",
       "[s0^2 + s1^2 + s4^2 + 1             s1*s2 + s0                     s1                  s4*s5                  s4*s6                      0]\n",
       "[            s1*s2 + s0               s2^2 + 1                     s2                      0                      0                      0]\n",
       "[                    s1                     s2                      1                      0                      0                      0]\n",
       "[                 s4*s5                      0                      0     s3^2 + s5^2 + s7^2          s5*s6 + s7*s8                  s7*s9]\n",
       "[                 s4*s6                      0                      0          s5*s6 + s7*s8            s6^2 + s8^2                  s8*s9]\n",
       "[                     0                      0                      0                  s7*s9                  s8*s9                   s9^2],\n",
       "\n",
       "[ 1  0  0  0  0  0]\n",
       "[s0  1  0  0  0  0]\n",
       "[s1 s2  1  0  0  0]\n",
       "[ 0  0  0 s3  0  0]\n",
       "[s4  0  0 s5 s6  0]\n",
       "[ 0  0  0 s7 s8 s9]\n",
       ")"
      ]
     },
     "metadata": {},
     "output_type": "display_data"
    }
   ],
   "source": [
    "construct_the_algebra(\"h19+_tris\")\n",
    "print(alg)\n",
    "print(alg_name)\n",
    "generic_automorphisms(alg_name)\n",
    "display(aut_gen)\n",
    "generic_metric(alg_name)\n",
    "display((g, Sigma))"
   ]
  },
  {
   "cell_type": "code",
   "execution_count": 8,
   "id": "410e062d",
   "metadata": {},
   "outputs": [
    {
     "data": {
      "text/html": [
       "<html>\\(\\displaystyle \\left(\\begin{array}{rrrrrr}\n",
       "0 & 0 & 1 & 0 & 0 & 0 \\\\\n",
       "0 & 1 & 0 & 0 & 0 & 0 \\\\\n",
       "1 & 0 & 0 & 0 & 0 & 0 \\\\\n",
       "0 & 0 & 0 & 0 & 1 & 0 \\\\\n",
       "0 & 0 & 0 & 1 & 0 & 0 \\\\\n",
       "0 & 0 & 0 & 0 & 0 & 1\n",
       "\\end{array}\\right)\\)</html>"
      ],
      "text/latex": [
       "$\\displaystyle \\left(\\begin{array}{rrrrrr}\n",
       "0 & 0 & 1 & 0 & 0 & 0 \\\\\n",
       "0 & 1 & 0 & 0 & 0 & 0 \\\\\n",
       "1 & 0 & 0 & 0 & 0 & 0 \\\\\n",
       "0 & 0 & 0 & 0 & 1 & 0 \\\\\n",
       "0 & 0 & 0 & 1 & 0 & 0 \\\\\n",
       "0 & 0 & 0 & 0 & 0 & 1\n",
       "\\end{array}\\right)$"
      ],
      "text/plain": [
       "[0 0 1 0 0 0]\n",
       "[0 1 0 0 0 0]\n",
       "[1 0 0 0 0 0]\n",
       "[0 0 0 0 1 0]\n",
       "[0 0 0 1 0 0]\n",
       "[0 0 0 0 0 1]"
      ]
     },
     "execution_count": 8,
     "metadata": {},
     "output_type": "execute_result"
    }
   ],
   "source": [
    "# Non-diagonal automorphism\n",
    "e1, e2, e3, e4, e5, e6  = alg.basis()\n",
    "A = alg.morphism({e1: e3, e2: e2, e3: e1}).matrix()\n",
    "A"
   ]
  },
  {
   "cell_type": "code",
   "execution_count": 9,
   "id": "fc47f274",
   "metadata": {},
   "outputs": [
    {
     "data": {
      "text/html": [
       "<html>\\(\\displaystyle \\left(\\left(\\begin{array}{rrrrrr}\n",
       "0 & 0 & r & 0 & 0 & 0 \\\\\n",
       "0 & 1 & 0 & 0 & 0 & 0 \\\\\n",
       "\\frac{1}{r} & 0 & 0 & 0 & 0 & 0 \\\\\n",
       "0 & 0 & 0 & 0 & \\frac{1}{r} & 0 \\\\\n",
       "0 & 0 & 0 & r & 0 & 0 \\\\\n",
       "0 & 0 & 0 & 0 & 0 & 1\n",
       "\\end{array}\\right), \\left(\\begin{array}{rrrrrr}\n",
       "1 & 0 & 0 & 0 & 0 & 0 \\\\\n",
       "\\frac{\\sqrt{-r^{2} + 1}}{r} & 1 & 0 & 0 & 0 & 0 \\\\\n",
       "0 & \\sqrt{-r^{2} + 1} & 1 & 0 & 0 & 0 \\\\\n",
       "0 & 0 & 0 & r^{2} & 0 & 0 \\\\\n",
       "0 & 0 & 0 & 0 & r & 0 \\\\\n",
       "0 & 0 & 0 & 0 & 0 & 1\n",
       "\\end{array}\\right), \\left(\\begin{array}{rrrrrr}\n",
       "\\frac{1}{r^{2}} & \\frac{\\sqrt{-r^{2} + 1}}{r} & 0 & 0 & 0 & 0 \\\\\n",
       "\\frac{\\sqrt{-r^{2} + 1}}{r} & -r^{2} + 2 & \\sqrt{-r^{2} + 1} & 0 & 0 & 0 \\\\\n",
       "0 & \\sqrt{-r^{2} + 1} & 1 & 0 & 0 & 0 \\\\\n",
       "0 & 0 & 0 & r^{4} & 0 & 0 \\\\\n",
       "0 & 0 & 0 & 0 & r^{2} & 0 \\\\\n",
       "0 & 0 & 0 & 0 & 0 & 1\n",
       "\\end{array}\\right)\\right)\\)</html>"
      ],
      "text/latex": [
       "$\\displaystyle \\left(\\left(\\begin{array}{rrrrrr}\n",
       "0 & 0 & r & 0 & 0 & 0 \\\\\n",
       "0 & 1 & 0 & 0 & 0 & 0 \\\\\n",
       "\\frac{1}{r} & 0 & 0 & 0 & 0 & 0 \\\\\n",
       "0 & 0 & 0 & 0 & \\frac{1}{r} & 0 \\\\\n",
       "0 & 0 & 0 & r & 0 & 0 \\\\\n",
       "0 & 0 & 0 & 0 & 0 & 1\n",
       "\\end{array}\\right), \\left(\\begin{array}{rrrrrr}\n",
       "1 & 0 & 0 & 0 & 0 & 0 \\\\\n",
       "\\frac{\\sqrt{-r^{2} + 1}}{r} & 1 & 0 & 0 & 0 & 0 \\\\\n",
       "0 & \\sqrt{-r^{2} + 1} & 1 & 0 & 0 & 0 \\\\\n",
       "0 & 0 & 0 & r^{2} & 0 & 0 \\\\\n",
       "0 & 0 & 0 & 0 & r & 0 \\\\\n",
       "0 & 0 & 0 & 0 & 0 & 1\n",
       "\\end{array}\\right), \\left(\\begin{array}{rrrrrr}\n",
       "\\frac{1}{r^{2}} & \\frac{\\sqrt{-r^{2} + 1}}{r} & 0 & 0 & 0 & 0 \\\\\n",
       "\\frac{\\sqrt{-r^{2} + 1}}{r} & -r^{2} + 2 & \\sqrt{-r^{2} + 1} & 0 & 0 & 0 \\\\\n",
       "0 & \\sqrt{-r^{2} + 1} & 1 & 0 & 0 & 0 \\\\\n",
       "0 & 0 & 0 & r^{4} & 0 & 0 \\\\\n",
       "0 & 0 & 0 & 0 & r^{2} & 0 \\\\\n",
       "0 & 0 & 0 & 0 & 0 & 1\n",
       "\\end{array}\\right)\\right)$"
      ],
      "text/plain": [
       "(\n",
       "[  0   0   r   0   0   0]  [               1                0                0                0                0                0]  [          r^(-2) sqrt(-r^2 + 1)/r                0                0                0                0]\n",
       "[  0   1   0   0   0   0]  [sqrt(-r^2 + 1)/r                1                0                0                0                0]  [sqrt(-r^2 + 1)/r         -r^2 + 2   sqrt(-r^2 + 1)                0                0                0]\n",
       "[1/r   0   0   0   0   0]  [               0   sqrt(-r^2 + 1)                1                0                0                0]  [               0   sqrt(-r^2 + 1)                1                0                0                0]\n",
       "[  0   0   0   0 1/r   0]  [               0                0                0              r^2                0                0]  [               0                0                0              r^4                0                0]\n",
       "[  0   0   0   r   0   0]  [               0                0                0                0                r                0]  [               0                0                0                0              r^2                0]\n",
       "[  0   0   0   0   0   1], [               0                0                0                0                0                1], [               0                0                0                0                0                1]\n",
       ")"
      ]
     },
     "execution_count": 9,
     "metadata": {},
     "output_type": "execute_result"
    }
   ],
   "source": [
    "r = var(\"r\")\n",
    "Phi_r = (aut_gen * A).subs(a1=1,a2=1/a0,a3=0,a4=0,a5=0,a6=0,a7=0,a8=0,a9=0,a10=0).subs(a0=r)\n",
    "Sigma_r = Sigma.subs(s0=sqrt(1-r^2)/r,s1=0,s2=sqrt(1-r^2),s3=r^2,s4=0,s5=0,s6=r,s7=0,s8=0,s9=1)\n",
    "g_r = (Sigma_r.transpose() * Sigma_r).simplify_full()\n",
    "Phi_r, Sigma_r, g_r"
   ]
  },
  {
   "cell_type": "markdown",
   "id": "a1ba1f81",
   "metadata": {},
   "source": [
    "We check that $\\Phi_r$ is orthogonal with respect to $g_{\\sigma_r}$."
   ]
  },
  {
   "cell_type": "code",
   "execution_count": 10,
   "id": "c969960b",
   "metadata": {},
   "outputs": [
    {
     "data": {
      "text/html": [
       "<html>\\(\\displaystyle \\left(\\begin{array}{rrrrrr}\n",
       "0 & 0 & 0 & 0 & 0 & 0 \\\\\n",
       "0 & 0 & 0 & 0 & 0 & 0 \\\\\n",
       "0 & 0 & 0 & 0 & 0 & 0 \\\\\n",
       "0 & 0 & 0 & 0 & 0 & 0 \\\\\n",
       "0 & 0 & 0 & 0 & 0 & 0 \\\\\n",
       "0 & 0 & 0 & 0 & 0 & 0\n",
       "\\end{array}\\right)\\)</html>"
      ],
      "text/latex": [
       "$\\displaystyle \\left(\\begin{array}{rrrrrr}\n",
       "0 & 0 & 0 & 0 & 0 & 0 \\\\\n",
       "0 & 0 & 0 & 0 & 0 & 0 \\\\\n",
       "0 & 0 & 0 & 0 & 0 & 0 \\\\\n",
       "0 & 0 & 0 & 0 & 0 & 0 \\\\\n",
       "0 & 0 & 0 & 0 & 0 & 0 \\\\\n",
       "0 & 0 & 0 & 0 & 0 & 0\n",
       "\\end{array}\\right)$"
      ],
      "text/plain": [
       "[0 0 0 0 0 0]\n",
       "[0 0 0 0 0 0]\n",
       "[0 0 0 0 0 0]\n",
       "[0 0 0 0 0 0]\n",
       "[0 0 0 0 0 0]\n",
       "[0 0 0 0 0 0]"
      ]
     },
     "execution_count": 10,
     "metadata": {},
     "output_type": "execute_result"
    }
   ],
   "source": [
    "Phi_r.transpose() * g_r - g_r * Phi_r"
   ]
  },
  {
   "cell_type": "markdown",
   "id": "6d9fcd3f",
   "metadata": {},
   "source": [
    "## Case $\\mathfrak h_{26}^-$"
   ]
  },
  {
   "cell_type": "code",
   "execution_count": 11,
   "id": "056fc6a5",
   "metadata": {},
   "outputs": [
    {
     "name": "stdout",
     "output_type": "stream",
     "text": [
      "Nilpotent Lie algebra on 6 generators (e1, e2, e3, e4, e5, e6) over Symbolic Ring\n",
      "h26-_bis\n"
     ]
    },
    {
     "data": {
      "text/html": [
       "<html>\\(\\displaystyle \\left(\\begin{array}{rrrrrr}\n",
       "a_{0} & 0 & 0 & 0 & 0 & 0 \\\\\n",
       "0 & a_{1} & 0 & 0 & 0 & 0 \\\\\n",
       "a_{2} & a_{3} & a_{0} a_{1} & 0 & 0 & 0 \\\\\n",
       "a_{4} & a_{5} & -a_{0} a_{3} & a_{0}^{2} a_{1} & 0 & 0 \\\\\n",
       "a_{6} & a_{7} & a_{1} a_{2} & 0 & a_{0} a_{1}^{2} & 0 \\\\\n",
       "a_{8} & a_{9} & -a_{1} a_{4} + a_{0} a_{7} & -a_{0} a_{1} a_{2} & a_{0} a_{1} a_{3} & a_{0}^{2} a_{1}^{2}\n",
       "\\end{array}\\right)\\)</html>"
      ],
      "text/latex": [
       "$\\displaystyle \\left(\\begin{array}{rrrrrr}\n",
       "a_{0} & 0 & 0 & 0 & 0 & 0 \\\\\n",
       "0 & a_{1} & 0 & 0 & 0 & 0 \\\\\n",
       "a_{2} & a_{3} & a_{0} a_{1} & 0 & 0 & 0 \\\\\n",
       "a_{4} & a_{5} & -a_{0} a_{3} & a_{0}^{2} a_{1} & 0 & 0 \\\\\n",
       "a_{6} & a_{7} & a_{1} a_{2} & 0 & a_{0} a_{1}^{2} & 0 \\\\\n",
       "a_{8} & a_{9} & -a_{1} a_{4} + a_{0} a_{7} & -a_{0} a_{1} a_{2} & a_{0} a_{1} a_{3} & a_{0}^{2} a_{1}^{2}\n",
       "\\end{array}\\right)$"
      ],
      "text/plain": [
       "[            a0              0              0              0              0              0]\n",
       "[             0             a1              0              0              0              0]\n",
       "[            a2             a3          a0*a1              0              0              0]\n",
       "[            a4             a5         -a0*a3        a0^2*a1              0              0]\n",
       "[            a6             a7          a1*a2              0        a0*a1^2              0]\n",
       "[            a8             a9 -a1*a4 + a0*a7      -a0*a1*a2       a0*a1*a3      a0^2*a1^2]"
      ]
     },
     "metadata": {},
     "output_type": "display_data"
    },
    {
     "data": {
      "text/html": [
       "<html>\\(\\displaystyle \\left(\\left(\\begin{array}{rrrrrr}\n",
       "s_{0}^{2} + 1 & s_{0} & 0 & 0 & 0 & 0 \\\\\n",
       "s_{0} & 1 & 0 & 0 & 0 & 0 \\\\\n",
       "0 & 0 & s_{1}^{2} + s_{2}^{2} + s_{4}^{2} + s_{7}^{2} & s_{2} s_{3} + s_{4} s_{5} + s_{7} s_{8} & s_{4} s_{6} + s_{7} s_{9} & s_{10} s_{7} \\\\\n",
       "0 & 0 & s_{2} s_{3} + s_{4} s_{5} + s_{7} s_{8} & s_{3}^{2} + s_{5}^{2} + s_{8}^{2} & s_{5} s_{6} + s_{8} s_{9} & s_{10} s_{8} \\\\\n",
       "0 & 0 & s_{4} s_{6} + s_{7} s_{9} & s_{5} s_{6} + s_{8} s_{9} & s_{6}^{2} + s_{9}^{2} & s_{10} s_{9} \\\\\n",
       "0 & 0 & s_{10} s_{7} & s_{10} s_{8} & s_{10} s_{9} & s_{10}^{2}\n",
       "\\end{array}\\right), \\left(\\begin{array}{rrrrrr}\n",
       "1 & 0 & 0 & 0 & 0 & 0 \\\\\n",
       "s_{0} & 1 & 0 & 0 & 0 & 0 \\\\\n",
       "0 & 0 & s_{1} & 0 & 0 & 0 \\\\\n",
       "0 & 0 & s_{2} & s_{3} & 0 & 0 \\\\\n",
       "0 & 0 & s_{4} & s_{5} & s_{6} & 0 \\\\\n",
       "0 & 0 & s_{7} & s_{8} & s_{9} & s_{10}\n",
       "\\end{array}\\right)\\right)\\)</html>"
      ],
      "text/latex": [
       "$\\displaystyle \\left(\\left(\\begin{array}{rrrrrr}\n",
       "s_{0}^{2} + 1 & s_{0} & 0 & 0 & 0 & 0 \\\\\n",
       "s_{0} & 1 & 0 & 0 & 0 & 0 \\\\\n",
       "0 & 0 & s_{1}^{2} + s_{2}^{2} + s_{4}^{2} + s_{7}^{2} & s_{2} s_{3} + s_{4} s_{5} + s_{7} s_{8} & s_{4} s_{6} + s_{7} s_{9} & s_{10} s_{7} \\\\\n",
       "0 & 0 & s_{2} s_{3} + s_{4} s_{5} + s_{7} s_{8} & s_{3}^{2} + s_{5}^{2} + s_{8}^{2} & s_{5} s_{6} + s_{8} s_{9} & s_{10} s_{8} \\\\\n",
       "0 & 0 & s_{4} s_{6} + s_{7} s_{9} & s_{5} s_{6} + s_{8} s_{9} & s_{6}^{2} + s_{9}^{2} & s_{10} s_{9} \\\\\n",
       "0 & 0 & s_{10} s_{7} & s_{10} s_{8} & s_{10} s_{9} & s_{10}^{2}\n",
       "\\end{array}\\right), \\left(\\begin{array}{rrrrrr}\n",
       "1 & 0 & 0 & 0 & 0 & 0 \\\\\n",
       "s_{0} & 1 & 0 & 0 & 0 & 0 \\\\\n",
       "0 & 0 & s_{1} & 0 & 0 & 0 \\\\\n",
       "0 & 0 & s_{2} & s_{3} & 0 & 0 \\\\\n",
       "0 & 0 & s_{4} & s_{5} & s_{6} & 0 \\\\\n",
       "0 & 0 & s_{7} & s_{8} & s_{9} & s_{10}\n",
       "\\end{array}\\right)\\right)$"
      ],
      "text/plain": [
       "(\n",
       "[                 s0^2 + 1                        s0                         0                         0                         0                         0]\n",
       "[                       s0                         1                         0                         0                         0                         0]\n",
       "[                        0                         0 s1^2 + s2^2 + s4^2 + s7^2     s2*s3 + s4*s5 + s7*s8             s4*s6 + s7*s9                    s10*s7]\n",
       "[                        0                         0     s2*s3 + s4*s5 + s7*s8        s3^2 + s5^2 + s8^2             s5*s6 + s8*s9                    s10*s8]\n",
       "[                        0                         0             s4*s6 + s7*s9             s5*s6 + s8*s9               s6^2 + s9^2                    s10*s9]\n",
       "[                        0                         0                    s10*s7                    s10*s8                    s10*s9                     s10^2],\n",
       "\n",
       "[  1   0   0   0   0   0]\n",
       "[ s0   1   0   0   0   0]\n",
       "[  0   0  s1   0   0   0]\n",
       "[  0   0  s2  s3   0   0]\n",
       "[  0   0  s4  s5  s6   0]\n",
       "[  0   0  s7  s8  s9 s10]\n",
       ")"
      ]
     },
     "metadata": {},
     "output_type": "display_data"
    }
   ],
   "source": [
    "construct_the_algebra(\"h26-_bis\")\n",
    "print(alg)\n",
    "print(alg_name)\n",
    "generic_automorphisms(alg_name)\n",
    "display(aut_gen)\n",
    "generic_metric(alg_name)\n",
    "display((g, Sigma))"
   ]
  },
  {
   "cell_type": "code",
   "execution_count": 12,
   "id": "eb1d0db8",
   "metadata": {},
   "outputs": [
    {
     "data": {
      "text/html": [
       "<html>\\(\\displaystyle \\left(\\begin{array}{rrrrrr}\n",
       "0 & 1 & 0 & 0 & 0 & 0 \\\\\n",
       "1 & 0 & 0 & 0 & 0 & 0 \\\\\n",
       "0 & 0 & -1 & 0 & 0 & 0 \\\\\n",
       "0 & 0 & 0 & 0 & -1 & 0 \\\\\n",
       "0 & 0 & 0 & -1 & 0 & 0 \\\\\n",
       "0 & 0 & 0 & 0 & 0 & -1\n",
       "\\end{array}\\right)\\)</html>"
      ],
      "text/latex": [
       "$\\displaystyle \\left(\\begin{array}{rrrrrr}\n",
       "0 & 1 & 0 & 0 & 0 & 0 \\\\\n",
       "1 & 0 & 0 & 0 & 0 & 0 \\\\\n",
       "0 & 0 & -1 & 0 & 0 & 0 \\\\\n",
       "0 & 0 & 0 & 0 & -1 & 0 \\\\\n",
       "0 & 0 & 0 & -1 & 0 & 0 \\\\\n",
       "0 & 0 & 0 & 0 & 0 & -1\n",
       "\\end{array}\\right)$"
      ],
      "text/plain": [
       "[ 0  1  0  0  0  0]\n",
       "[ 1  0  0  0  0  0]\n",
       "[ 0  0 -1  0  0  0]\n",
       "[ 0  0  0  0 -1  0]\n",
       "[ 0  0  0 -1  0  0]\n",
       "[ 0  0  0  0  0 -1]"
      ]
     },
     "execution_count": 12,
     "metadata": {},
     "output_type": "execute_result"
    }
   ],
   "source": [
    "# Non-diagonal automorphism\n",
    "e1, e2, e3, e4, e5, e6  = alg.basis()\n",
    "A = alg.morphism({e1: e2, e2: e1, e3: -e3}).matrix()\n",
    "A"
   ]
  },
  {
   "cell_type": "code",
   "execution_count": 13,
   "id": "120648b0",
   "metadata": {},
   "outputs": [
    {
     "data": {
      "text/html": [
       "<html>\\(\\displaystyle \\left(\\left(\\begin{array}{rrrrrr}\n",
       "0 & r & 0 & 0 & 0 & 0 \\\\\n",
       "\\frac{1}{r} & 0 & 0 & 0 & 0 & 0 \\\\\n",
       "0 & 0 & -1 & 0 & 0 & 0 \\\\\n",
       "0 & 0 & 0 & 0 & -r & 0 \\\\\n",
       "0 & 0 & 0 & -\\frac{1}{r} & 0 & 0 \\\\\n",
       "0 & 0 & 0 & 0 & 0 & -1\n",
       "\\end{array}\\right), \\left(\\begin{array}{rrrrrr}\n",
       "1 & 0 & 0 & 0 & 0 & 0 \\\\\n",
       "\\frac{\\sqrt{-r^{2} + 1}}{r} & 1 & 0 & 0 & 0 & 0 \\\\\n",
       "0 & 0 & 1 & 0 & 0 & 0 \\\\\n",
       "0 & 0 & 0 & \\frac{1}{r} & 0 & 0 \\\\\n",
       "0 & 0 & 0 & 0 & 1 & 0 \\\\\n",
       "0 & 0 & 0 & 0 & 0 & 1\n",
       "\\end{array}\\right), \\left(\\begin{array}{rrrrrr}\n",
       "\\frac{1}{r^{2}} & \\frac{\\sqrt{-r^{2} + 1}}{r} & 0 & 0 & 0 & 0 \\\\\n",
       "\\frac{\\sqrt{-r^{2} + 1}}{r} & 1 & 0 & 0 & 0 & 0 \\\\\n",
       "0 & 0 & 1 & 0 & 0 & 0 \\\\\n",
       "0 & 0 & 0 & \\frac{1}{r^{2}} & 0 & 0 \\\\\n",
       "0 & 0 & 0 & 0 & 1 & 0 \\\\\n",
       "0 & 0 & 0 & 0 & 0 & 1\n",
       "\\end{array}\\right)\\right)\\)</html>"
      ],
      "text/latex": [
       "$\\displaystyle \\left(\\left(\\begin{array}{rrrrrr}\n",
       "0 & r & 0 & 0 & 0 & 0 \\\\\n",
       "\\frac{1}{r} & 0 & 0 & 0 & 0 & 0 \\\\\n",
       "0 & 0 & -1 & 0 & 0 & 0 \\\\\n",
       "0 & 0 & 0 & 0 & -r & 0 \\\\\n",
       "0 & 0 & 0 & -\\frac{1}{r} & 0 & 0 \\\\\n",
       "0 & 0 & 0 & 0 & 0 & -1\n",
       "\\end{array}\\right), \\left(\\begin{array}{rrrrrr}\n",
       "1 & 0 & 0 & 0 & 0 & 0 \\\\\n",
       "\\frac{\\sqrt{-r^{2} + 1}}{r} & 1 & 0 & 0 & 0 & 0 \\\\\n",
       "0 & 0 & 1 & 0 & 0 & 0 \\\\\n",
       "0 & 0 & 0 & \\frac{1}{r} & 0 & 0 \\\\\n",
       "0 & 0 & 0 & 0 & 1 & 0 \\\\\n",
       "0 & 0 & 0 & 0 & 0 & 1\n",
       "\\end{array}\\right), \\left(\\begin{array}{rrrrrr}\n",
       "\\frac{1}{r^{2}} & \\frac{\\sqrt{-r^{2} + 1}}{r} & 0 & 0 & 0 & 0 \\\\\n",
       "\\frac{\\sqrt{-r^{2} + 1}}{r} & 1 & 0 & 0 & 0 & 0 \\\\\n",
       "0 & 0 & 1 & 0 & 0 & 0 \\\\\n",
       "0 & 0 & 0 & \\frac{1}{r^{2}} & 0 & 0 \\\\\n",
       "0 & 0 & 0 & 0 & 1 & 0 \\\\\n",
       "0 & 0 & 0 & 0 & 0 & 1\n",
       "\\end{array}\\right)\\right)$"
      ],
      "text/plain": [
       "(\n",
       "[   0    r    0    0    0    0]  [               1                0                0                0                0                0]  [          r^(-2) sqrt(-r^2 + 1)/r                0                0                0                0]\n",
       "[ 1/r    0    0    0    0    0]  [sqrt(-r^2 + 1)/r                1                0                0                0                0]  [sqrt(-r^2 + 1)/r                1                0                0                0                0]\n",
       "[   0    0   -1    0    0    0]  [               0                0                1                0                0                0]  [               0                0                1                0                0                0]\n",
       "[   0    0    0    0   -r    0]  [               0                0                0              1/r                0                0]  [               0                0                0           r^(-2)                0                0]\n",
       "[   0    0    0 -1/r    0    0]  [               0                0                0                0                1                0]  [               0                0                0                0                1                0]\n",
       "[   0    0    0    0    0   -1], [               0                0                0                0                0                1], [               0                0                0                0                0                1]\n",
       ")"
      ]
     },
     "execution_count": 13,
     "metadata": {},
     "output_type": "execute_result"
    }
   ],
   "source": [
    "r = var(\"r\")\n",
    "Phi_r = (aut_gen * A).subs(a1=1/a0,a2=0,a3=0,a4=0,a5=0,a6=0,a7=0,a8=0,a9=0).subs(a0=r)\n",
    "Sigma_r = Sigma.subs(s0=sqrt(1-r^2)/r,s1=1,s2=0,s3=1/r,s4=0,s5=0,s6=1,s7=0,s8=0,s9=0,s10=1)\n",
    "g_r = (Sigma_r.transpose() * Sigma_r).simplify_full()\n",
    "Phi_r, Sigma_r, g_r"
   ]
  },
  {
   "cell_type": "markdown",
   "id": "159a638b",
   "metadata": {},
   "source": [
    "We check that $\\Phi_r$ is orthogonal with respect to $g_{\\sigma_r}$."
   ]
  },
  {
   "cell_type": "code",
   "execution_count": 14,
   "id": "707de7f5",
   "metadata": {},
   "outputs": [
    {
     "data": {
      "text/html": [
       "<html>\\(\\displaystyle \\left(\\begin{array}{rrrrrr}\n",
       "0 & 0 & 0 & 0 & 0 & 0 \\\\\n",
       "0 & 0 & 0 & 0 & 0 & 0 \\\\\n",
       "0 & 0 & 0 & 0 & 0 & 0 \\\\\n",
       "0 & 0 & 0 & 0 & 0 & 0 \\\\\n",
       "0 & 0 & 0 & 0 & 0 & 0 \\\\\n",
       "0 & 0 & 0 & 0 & 0 & 0\n",
       "\\end{array}\\right)\\)</html>"
      ],
      "text/latex": [
       "$\\displaystyle \\left(\\begin{array}{rrrrrr}\n",
       "0 & 0 & 0 & 0 & 0 & 0 \\\\\n",
       "0 & 0 & 0 & 0 & 0 & 0 \\\\\n",
       "0 & 0 & 0 & 0 & 0 & 0 \\\\\n",
       "0 & 0 & 0 & 0 & 0 & 0 \\\\\n",
       "0 & 0 & 0 & 0 & 0 & 0 \\\\\n",
       "0 & 0 & 0 & 0 & 0 & 0\n",
       "\\end{array}\\right)$"
      ],
      "text/plain": [
       "[0 0 0 0 0 0]\n",
       "[0 0 0 0 0 0]\n",
       "[0 0 0 0 0 0]\n",
       "[0 0 0 0 0 0]\n",
       "[0 0 0 0 0 0]\n",
       "[0 0 0 0 0 0]"
      ]
     },
     "execution_count": 14,
     "metadata": {},
     "output_type": "execute_result"
    }
   ],
   "source": [
    "Phi_r.transpose() * g_r - g_r * Phi_r"
   ]
  },
  {
   "cell_type": "markdown",
   "id": "7906f046",
   "metadata": {},
   "source": [
    "---\n",
    "\n",
    "This notebook corresponds to the article \"The moduli space of left-invariant metrics on six-dimensional characteristically solvable nilmanifolds\" by I. Cardoso, A. Cosgaya, and S. Reggiani (2024)."
   ]
  }
 ],
 "metadata": {
  "kernelspec": {
   "display_name": "SageMath 10.4",
   "language": "sage",
   "name": "sagemath"
  },
  "language_info": {
   "codemirror_mode": {
    "name": "ipython",
    "version": 3
   },
   "file_extension": ".py",
   "mimetype": "text/x-python",
   "name": "python",
   "nbconvert_exporter": "python",
   "pygments_lexer": "ipython3",
   "version": "3.12.5"
  }
 },
 "nbformat": 4,
 "nbformat_minor": 5
}

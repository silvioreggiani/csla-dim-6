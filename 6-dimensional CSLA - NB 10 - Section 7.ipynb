{
 "cells": [
  {
   "cell_type": "code",
   "execution_count": 1,
   "metadata": {},
   "outputs": [],
   "source": [
    "%display latex"
   ]
  },
  {
   "cell_type": "markdown",
   "metadata": {},
   "source": [
    "# 6-dimensional CSLA - NB 10 - Section 7"
   ]
  },
  {
   "cell_type": "markdown",
   "metadata": {},
   "source": [
    "In this notebook we study the relation between the CSLA which admit metrics with nontrivial index of symmetry and the nilsoliton metrics. In particular we prove that every nilsoliton metric has nontrivial index of symmetry. This is explained in Section 7 of the article, but we recall some definitions and results for the benefit of the reader.\n",
    "\n",
    "Let $\\mathfrak h$ be a CSLA of dimension $6$. Recall that a left-invariant metric $g$ on $\\mathfrak h$ is called a *nilsoliton* if\n",
    "$$\n",
    "\\operatorname{Ric}_g = c \\, I_6 + D \\qquad (*)\n",
    "$$\n",
    "for some $c \\in \\mathbb R$ and some derivation $D$. As usual, we identify $g$ and $D$ by their matrix representation in the standard basis $e_1, \\ldots, e_6$. Since the Ricci operator is symmetric,  $D$ is in diagonal form with respect to the standard basis. We will asumme that $g$ is also in diagonal form in this basis. A nilsoliton metric is unique up to scaling, hence we do not lose generality by making this assumption (this is seen a posteriori by finding the solution of (*) among the diagonal metrics). \n",
    "\n",
    "For computing the Ricci operator we use the well-known formula\n",
    "$$\n",
    "\\operatorname{Ric}_g(\\tilde e_j, \\tilde e_h) = \\frac12\\sum_{i,k} c_{iki} (c_{kjh} + c_{khj}) + \\frac12 c_{ikh} c_{ikj} - c_{ijk} c_{khi} + c_{iki} c_{jhk} - c_{ijk} c_{ihk} \n",
    "$$\n",
    "where $\\tilde e_1, \\ldots, \\tilde e_6$ is an orthonormal basis and\n",
    "$$\n",
    "c_{ijk} = g([\\tilde e_i, \\tilde e_j], \\tilde e_k ).\n",
    "$$\n",
    "\n",
    "The following function `Ric_on` computes the Ricci operator with respect to an orthonormal basis. Notice that if $\\tilde e_1, \\ldots, \\tilde e_6$ is obtained from $e_1, \\ldots, e_6$ by the Gram-Schmidt process, then the matrices of the Ricci operator in both basis coincide."
   ]
  },
  {
   "cell_type": "code",
   "execution_count": 4,
   "metadata": {},
   "outputs": [],
   "source": [
    "def inner_product_from_matrix(hh, g):\n",
    "    return lambda x, y: x.to_vector() * g * y.to_vector()\n",
    "\n",
    "def gram_schmidt(hh, inner_product):\n",
    "    hh_on_basis = []\n",
    "    for i, v in enumerate(hh.basis().values()):\n",
    "        u = v\n",
    "        for j in range(i):\n",
    "            u -= inner_product(v, hh_on_basis[j]) * hh_on_basis[j]\n",
    "        hh_on_basis.append( hh( ((1 / sqrt(inner_product(u, u))) * u).to_vector().canonicalize_radical() ))\n",
    "    return hh_on_basis\n",
    "\n",
    "def bracket_contracted(hh, inner_product, on_basis):\n",
    "    bc = {(i,j,k): None for i in range(6) for j in range(6) for k in range(6)}\n",
    "    for index in bc.keys():\n",
    "        i, j, k = index\n",
    "        bc[index] = inner_product(on_basis[i].bracket(on_basis[j]), on_basis[k])\n",
    "    return bc\n",
    "\n",
    "def Ric_ob(hh, bc, j, h):\n",
    "    hh_dim = hh.dimension()\n",
    "    return sum(sum( bc[(i,k,i)] * (bc[(k,j,h)] + bc[(k,h,j)]) / 2 + bc[(i,k,h)] * bc[(i,k,j)] / 4 - bc[(i,j,k)] * bc[(k,h,i)] / 2 + bc[(i,k,i)] * bc[(j,h,k)] / 2 - bc[(i,j,k)] * bc[(i,h,k)] / 2 for i in range(hh_dim)) for k in range(hh_dim))\n",
    "\n",
    "def Ric_on(hh, g, on_basis):\n",
    "    ip = inner_product_from_matrix(hh, g)\n",
    "    on_basis = gram_schmidt(hh, ip)\n",
    "    bc = bracket_contracted(hh, ip, on_basis)\n",
    "    return matrix(6, 6, lambda i, j: Ric_ob(hh, bc, i, j))"
   ]
  },
  {
   "cell_type": "markdown",
   "metadata": {},
   "source": [
    "Next we compute the nilsoliton metrics for the Lie algebras which admit left-invariant metrics with nontrivial index of symmetry. We also give explicit isometric isomorphisms to the nilsoliton metrics classified by C. Will in 2011."
   ]
  },
  {
   "cell_type": "code",
   "execution_count": 5,
   "metadata": {},
   "outputs": [],
   "source": [
    "load(\"CSLA.sage\")"
   ]
  },
  {
   "cell_type": "markdown",
   "metadata": {},
   "source": [
    "## Case $\\mathfrak h_9$"
   ]
  },
  {
   "cell_type": "code",
   "execution_count": 6,
   "metadata": {},
   "outputs": [
    {
     "name": "stdout",
     "output_type": "stream",
     "text": [
      "CPU times: user 6.98 s, sys: 937 ms, total: 7.92 s\n",
      "Wall time: 7.05 s\n"
     ]
    },
    {
     "data": {
      "text/html": [
       "<html><script type=\"math/tex; mode=display\">\\newcommand{\\Bold}[1]{\\mathbf{#1}}\\left(\\left(\\begin{array}{rrrrrr}\n",
       "1 & 0 & 0 & 0 & 0 & 0 \\\\\n",
       "0 & 1 & 0 & 0 & 0 & 0 \\\\\n",
       "0 & 0 & s_{0}^{2} + s_{1}^{2} & s_{1} s_{2} & s_{1} s_{3} & 0 \\\\\n",
       "0 & 0 & s_{1} s_{2} & s_{2}^{2} + 1 & s_{2} s_{3} & 0 \\\\\n",
       "0 & 0 & s_{1} s_{3} & s_{2} s_{3} & s_{3}^{2} + s_{4}^{2} & s_{4} s_{5} \\\\\n",
       "0 & 0 & 0 & 0 & s_{4} s_{5} & s_{5}^{2}\n",
       "\\end{array}\\right), \\left(\\begin{array}{rrrrrr}\n",
       "1 & 0 & 0 & 0 & 0 & 0 \\\\\n",
       "0 & 1 & 0 & 0 & 0 & 0 \\\\\n",
       "0 & 0 & s_{0} & 0 & 0 & 0 \\\\\n",
       "0 & 0 & 0 & 1 & 0 & 0 \\\\\n",
       "0 & 0 & s_{1} & s_{2} & s_{3} & 0 \\\\\n",
       "0 & 0 & 0 & 0 & s_{4} & s_{5}\n",
       "\\end{array}\\right)\\right)</script></html>"
      ],
      "text/latex": [
       "$$\\newcommand{\\Bold}[1]{\\mathbf{#1}}\\left(\\left(\\begin{array}{rrrrrr}\n",
       "1 & 0 & 0 & 0 & 0 & 0 \\\\\n",
       "0 & 1 & 0 & 0 & 0 & 0 \\\\\n",
       "0 & 0 & s_{0}^{2} + s_{1}^{2} & s_{1} s_{2} & s_{1} s_{3} & 0 \\\\\n",
       "0 & 0 & s_{1} s_{2} & s_{2}^{2} + 1 & s_{2} s_{3} & 0 \\\\\n",
       "0 & 0 & s_{1} s_{3} & s_{2} s_{3} & s_{3}^{2} + s_{4}^{2} & s_{4} s_{5} \\\\\n",
       "0 & 0 & 0 & 0 & s_{4} s_{5} & s_{5}^{2}\n",
       "\\end{array}\\right), \\left(\\begin{array}{rrrrrr}\n",
       "1 & 0 & 0 & 0 & 0 & 0 \\\\\n",
       "0 & 1 & 0 & 0 & 0 & 0 \\\\\n",
       "0 & 0 & s_{0} & 0 & 0 & 0 \\\\\n",
       "0 & 0 & 0 & 1 & 0 & 0 \\\\\n",
       "0 & 0 & s_{1} & s_{2} & s_{3} & 0 \\\\\n",
       "0 & 0 & 0 & 0 & s_{4} & s_{5}\n",
       "\\end{array}\\right)\\right)$$"
      ],
      "text/plain": [
       "(\n",
       "[          1           0           0           0           0           0]\n",
       "[          0           1           0           0           0           0]\n",
       "[          0           0 s0^2 + s1^2       s1*s2       s1*s3           0]\n",
       "[          0           0       s1*s2    s2^2 + 1       s2*s3           0]\n",
       "[          0           0       s1*s3       s2*s3 s3^2 + s4^2       s4*s5]\n",
       "[          0           0           0           0       s4*s5        s5^2],\n",
       "\n",
       "[ 1  0  0  0  0  0]\n",
       "[ 0  1  0  0  0  0]\n",
       "[ 0  0 s0  0  0  0]\n",
       "[ 0  0  0  1  0  0]\n",
       "[ 0  0 s1 s2 s3  0]\n",
       "[ 0  0  0  0 s4 s5]\n",
       ")"
      ]
     },
     "execution_count": 6,
     "metadata": {},
     "output_type": "execute_result"
    }
   ],
   "source": [
    "construct_the_algebra(\"h9_tris\")\n",
    "%time generic_metric(alg_name) # long time\n",
    "g, Sigma"
   ]
  },
  {
   "cell_type": "markdown",
   "metadata": {},
   "source": [
    "We can avoid very long computations by working with diagonal metrics. "
   ]
  },
  {
   "cell_type": "code",
   "execution_count": 7,
   "metadata": {},
   "outputs": [
    {
     "data": {
      "text/html": [
       "<html><script type=\"math/tex; mode=display\">\\newcommand{\\Bold}[1]{\\mathbf{#1}}\\left(\\begin{array}{rrrrrr}\n",
       "1 & 0 & 0 & 0 & 0 & 0 \\\\\n",
       "0 & 1 & 0 & 0 & 0 & 0 \\\\\n",
       "0 & 0 & s_{0}^{2} & 0 & 0 & 0 \\\\\n",
       "0 & 0 & 0 & 1 & 0 & 0 \\\\\n",
       "0 & 0 & 0 & 0 & s_{3}^{2} & 0 \\\\\n",
       "0 & 0 & 0 & 0 & 0 & s_{5}^{2}\n",
       "\\end{array}\\right)</script></html>"
      ],
      "text/latex": [
       "$$\\newcommand{\\Bold}[1]{\\mathbf{#1}}\\left(\\begin{array}{rrrrrr}\n",
       "1 & 0 & 0 & 0 & 0 & 0 \\\\\n",
       "0 & 1 & 0 & 0 & 0 & 0 \\\\\n",
       "0 & 0 & s_{0}^{2} & 0 & 0 & 0 \\\\\n",
       "0 & 0 & 0 & 1 & 0 & 0 \\\\\n",
       "0 & 0 & 0 & 0 & s_{3}^{2} & 0 \\\\\n",
       "0 & 0 & 0 & 0 & 0 & s_{5}^{2}\n",
       "\\end{array}\\right)$$"
      ],
      "text/plain": [
       "[   1    0    0    0    0    0]\n",
       "[   0    1    0    0    0    0]\n",
       "[   0    0 s0^2    0    0    0]\n",
       "[   0    0    0    1    0    0]\n",
       "[   0    0    0    0 s3^2    0]\n",
       "[   0    0    0    0    0 s5^2]"
      ]
     },
     "execution_count": 7,
     "metadata": {},
     "output_type": "execute_result"
    }
   ],
   "source": [
    "g_diag = g.subs(s1=0,s2=0,s4=0)\n",
    "Sigma_diag = Sigma.subs(s1=0,s2=0,s4=0)\n",
    "g_diag"
   ]
  },
  {
   "cell_type": "markdown",
   "metadata": {},
   "source": [
    "Now we compute the Ricci tensor."
   ]
  },
  {
   "cell_type": "code",
   "execution_count": 8,
   "metadata": {},
   "outputs": [
    {
     "data": {
      "text/html": [
       "<html><script type=\"math/tex; mode=display\">\\newcommand{\\Bold}[1]{\\mathbf{#1}}\\left[e1, e2, \\frac{1}{s_{0}}e3, e4, \\frac{1}{s_{3}}e5, \\frac{1}{s_{5}}e6\\right]</script></html>"
      ],
      "text/latex": [
       "$$\\newcommand{\\Bold}[1]{\\mathbf{#1}}\\left[e1, e2, \\frac{1}{s_{0}}e3, e4, \\frac{1}{s_{3}}e5, \\frac{1}{s_{5}}e6\\right]$$"
      ],
      "text/plain": [
       "[e1, e2, 1/s0*e3, e4, 1/s3*e5, 1/s5*e6]"
      ]
     },
     "metadata": {},
     "output_type": "display_data"
    },
    {
     "data": {
      "text/html": [
       "<html><script type=\"math/tex; mode=display\">\\newcommand{\\Bold}[1]{\\mathbf{#1}}\\left(\\begin{array}{rrrrrr}\n",
       "-\\frac{1}{2} \\, s_{3}^{2} - \\frac{s_{5}^{2}}{2 \\, s_{3}^{2}} & 0 & 0 & 0 & 0 & 0 \\\\\n",
       "0 & -\\frac{1}{2} \\, s_{3}^{2} - \\frac{s_{5}^{2}}{2 \\, s_{0}^{2}} & 0 & 0 & 0 & 0 \\\\\n",
       "0 & 0 & -\\frac{s_{5}^{2}}{2 \\, s_{0}^{2}} & 0 & 0 & 0 \\\\\n",
       "0 & 0 & 0 & 0 & 0 & 0 \\\\\n",
       "0 & 0 & 0 & 0 & \\frac{1}{2} \\, s_{3}^{2} - \\frac{s_{5}^{2}}{2 \\, s_{3}^{2}} & 0 \\\\\n",
       "0 & 0 & 0 & 0 & 0 & \\frac{s_{5}^{2}}{2 \\, s_{0}^{2}} + \\frac{s_{5}^{2}}{2 \\, s_{3}^{2}}\n",
       "\\end{array}\\right)</script></html>"
      ],
      "text/latex": [
       "$$\\newcommand{\\Bold}[1]{\\mathbf{#1}}\\left(\\begin{array}{rrrrrr}\n",
       "-\\frac{1}{2} \\, s_{3}^{2} - \\frac{s_{5}^{2}}{2 \\, s_{3}^{2}} & 0 & 0 & 0 & 0 & 0 \\\\\n",
       "0 & -\\frac{1}{2} \\, s_{3}^{2} - \\frac{s_{5}^{2}}{2 \\, s_{0}^{2}} & 0 & 0 & 0 & 0 \\\\\n",
       "0 & 0 & -\\frac{s_{5}^{2}}{2 \\, s_{0}^{2}} & 0 & 0 & 0 \\\\\n",
       "0 & 0 & 0 & 0 & 0 & 0 \\\\\n",
       "0 & 0 & 0 & 0 & \\frac{1}{2} \\, s_{3}^{2} - \\frac{s_{5}^{2}}{2 \\, s_{3}^{2}} & 0 \\\\\n",
       "0 & 0 & 0 & 0 & 0 & \\frac{s_{5}^{2}}{2 \\, s_{0}^{2}} + \\frac{s_{5}^{2}}{2 \\, s_{3}^{2}}\n",
       "\\end{array}\\right)$$"
      ],
      "text/plain": [
       "[    -1/2*s3^2 - 1/2*s5^2/s3^2                             0                             0                             0                             0                             0]\n",
       "[                            0     -1/2*s3^2 - 1/2*s5^2/s0^2                             0                             0                             0                             0]\n",
       "[                            0                             0                -1/2*s5^2/s0^2                             0                             0                             0]\n",
       "[                            0                             0                             0                             0                             0                             0]\n",
       "[                            0                             0                             0                             0      1/2*s3^2 - 1/2*s5^2/s3^2                             0]\n",
       "[                            0                             0                             0                             0                             0 1/2*s5^2/s0^2 + 1/2*s5^2/s3^2]"
      ]
     },
     "execution_count": 8,
     "metadata": {},
     "output_type": "execute_result"
    }
   ],
   "source": [
    "ip = inner_product_from_matrix(alg, g_diag)\n",
    "on_basis = gram_schmidt(alg, ip)\n",
    "display(on_basis)\n",
    "Ric_on_basis = Ric_on(alg, g_diag, on_basis)\n",
    "Ric_on_basis"
   ]
  },
  {
   "cell_type": "markdown",
   "metadata": {},
   "source": [
    "Now we solve equation $(*)$. Recall that the derivation $D$ can be assumed in diagonal form."
   ]
  },
  {
   "cell_type": "code",
   "execution_count": 9,
   "metadata": {},
   "outputs": [
    {
     "data": {
      "text/html": [
       "<html><script type=\"math/tex; mode=display\">\\newcommand{\\Bold}[1]{\\mathbf{#1}}\\left(\\begin{array}{rrrrrr}\n",
       "d_{0} & 0 & 0 & 0 & 0 & 0 \\\\\n",
       "0 & d_{2} & 0 & 0 & 0 & 0 \\\\\n",
       "0 & 0 & 2 \\, d_{0} & 0 & 0 & 0 \\\\\n",
       "0 & 0 & 0 & d_{8} & 0 & 0 \\\\\n",
       "0 & 0 & 0 & 0 & d_{0} + d_{2} & 0 \\\\\n",
       "0 & 0 & 0 & 0 & 0 & 2 \\, d_{0} + d_{2}\n",
       "\\end{array}\\right)</script></html>"
      ],
      "text/latex": [
       "$$\\newcommand{\\Bold}[1]{\\mathbf{#1}}\\left(\\begin{array}{rrrrrr}\n",
       "d_{0} & 0 & 0 & 0 & 0 & 0 \\\\\n",
       "0 & d_{2} & 0 & 0 & 0 & 0 \\\\\n",
       "0 & 0 & 2 \\, d_{0} & 0 & 0 & 0 \\\\\n",
       "0 & 0 & 0 & d_{8} & 0 & 0 \\\\\n",
       "0 & 0 & 0 & 0 & d_{0} + d_{2} & 0 \\\\\n",
       "0 & 0 & 0 & 0 & 0 & 2 \\, d_{0} + d_{2}\n",
       "\\end{array}\\right)$$"
      ],
      "text/plain": [
       "[       d0         0         0         0         0         0]\n",
       "[        0        d2         0         0         0         0]\n",
       "[        0         0      2*d0         0         0         0]\n",
       "[        0         0         0        d8         0         0]\n",
       "[        0         0         0         0   d0 + d2         0]\n",
       "[        0         0         0         0         0 2*d0 + d2]"
      ]
     },
     "metadata": {},
     "output_type": "display_data"
    },
    {
     "data": {
      "text/html": [
       "<html><script type=\"math/tex; mode=display\">\\newcommand{\\Bold}[1]{\\mathbf{#1}}\\left[-\\frac{1}{2} \\, s_{3}^{2} - c - d_{0} - \\frac{s_{5}^{2}}{2 \\, s_{3}^{2}}, -\\frac{1}{2} \\, s_{3}^{2} - c - d_{2} - \\frac{s_{5}^{2}}{2 \\, s_{0}^{2}}, -c - 2 \\, d_{0} - \\frac{s_{5}^{2}}{2 \\, s_{0}^{2}}, -c - d_{8}, \\frac{1}{2} \\, s_{3}^{2} - c - d_{0} - d_{2} - \\frac{s_{5}^{2}}{2 \\, s_{3}^{2}}, -c - 2 \\, d_{0} - d_{2} + \\frac{s_{5}^{2}}{2 \\, s_{0}^{2}} + \\frac{s_{5}^{2}}{2 \\, s_{3}^{2}}\\right]</script></html>"
      ],
      "text/latex": [
       "$$\\newcommand{\\Bold}[1]{\\mathbf{#1}}\\left[-\\frac{1}{2} \\, s_{3}^{2} - c - d_{0} - \\frac{s_{5}^{2}}{2 \\, s_{3}^{2}}, -\\frac{1}{2} \\, s_{3}^{2} - c - d_{2} - \\frac{s_{5}^{2}}{2 \\, s_{0}^{2}}, -c - 2 \\, d_{0} - \\frac{s_{5}^{2}}{2 \\, s_{0}^{2}}, -c - d_{8}, \\frac{1}{2} \\, s_{3}^{2} - c - d_{0} - d_{2} - \\frac{s_{5}^{2}}{2 \\, s_{3}^{2}}, -c - 2 \\, d_{0} - d_{2} + \\frac{s_{5}^{2}}{2 \\, s_{0}^{2}} + \\frac{s_{5}^{2}}{2 \\, s_{3}^{2}}\\right]$$"
      ],
      "text/plain": [
       "[-1/2*s3^2 - c - d0 - 1/2*s5^2/s3^2,\n",
       " -1/2*s3^2 - c - d2 - 1/2*s5^2/s0^2,\n",
       " -c - 2*d0 - 1/2*s5^2/s0^2,\n",
       " -c - d8,\n",
       " 1/2*s3^2 - c - d0 - d2 - 1/2*s5^2/s3^2,\n",
       " -c - 2*d0 - d2 + 1/2*s5^2/s0^2 + 1/2*s5^2/s3^2]"
      ]
     },
     "execution_count": 9,
     "metadata": {},
     "output_type": "execute_result"
    }
   ],
   "source": [
    "c = var(\"c\")\n",
    "D = der_gen_diag\n",
    "display(D)\n",
    "nilsoliton_eqs = (Ric_on_basis - c * identity_matrix(alg.dimension()) - D).coefficients()\n",
    "nilsoliton_eqs"
   ]
  },
  {
   "cell_type": "code",
   "execution_count": 10,
   "metadata": {},
   "outputs": [
    {
     "data": {
      "text/html": [
       "<html><script type=\"math/tex; mode=display\">\\newcommand{\\Bold}[1]{\\mathbf{#1}}\\left[c, d_{0}, d_{2}, d_{8}, s_{5}, s_{0}, s_{3}\\right]</script></html>"
      ],
      "text/latex": [
       "$$\\newcommand{\\Bold}[1]{\\mathbf{#1}}\\left[c, d_{0}, d_{2}, d_{8}, s_{5}, s_{0}, s_{3}\\right]$$"
      ],
      "text/plain": [
       "[c, d0, d2, d8, s5, s0, s3]"
      ]
     },
     "metadata": {},
     "output_type": "display_data"
    },
    {
     "data": {
      "text/html": [
       "<html><script type=\"math/tex; mode=display\">\\newcommand{\\Bold}[1]{\\mathbf{#1}}\\left\\{c : -\\frac{7}{4} \\, \\sqrt{s_{5}^{2}}, d_{0} : \\frac{3}{4} \\, \\sqrt{s_{5}^{2}}, d_{2} : \\sqrt{s_{5}^{2}}, d_{8} : \\frac{7}{4} \\, \\sqrt{s_{5}^{2}}, s_{0} : -\\sqrt{2} {\\left(s_{5}^{2}\\right)}^{\\frac{1}{4}}, s_{3} : -{\\left(s_{5}^{2}\\right)}^{\\frac{1}{4}}\\right\\}</script></html>"
      ],
      "text/latex": [
       "$$\\newcommand{\\Bold}[1]{\\mathbf{#1}}\\left\\{c : -\\frac{7}{4} \\, \\sqrt{s_{5}^{2}}, d_{0} : \\frac{3}{4} \\, \\sqrt{s_{5}^{2}}, d_{2} : \\sqrt{s_{5}^{2}}, d_{8} : \\frac{7}{4} \\, \\sqrt{s_{5}^{2}}, s_{0} : -\\sqrt{2} {\\left(s_{5}^{2}\\right)}^{\\frac{1}{4}}, s_{3} : -{\\left(s_{5}^{2}\\right)}^{\\frac{1}{4}}\\right\\}$$"
      ],
      "text/plain": [
       "{c: -7/4*sqrt(s5^2),\n",
       " d0: 3/4*sqrt(s5^2),\n",
       " d2: sqrt(s5^2),\n",
       " d8: 7/4*sqrt(s5^2),\n",
       " s0: -sqrt(2)*(s5^2)^(1/4),\n",
       " s3: -(s5^2)^(1/4)}"
      ]
     },
     "metadata": {},
     "output_type": "display_data"
    },
    {
     "data": {
      "text/html": [
       "<html><script type=\"math/tex; mode=display\">\\newcommand{\\Bold}[1]{\\mathbf{#1}}\\left\\{c : -\\frac{7}{4} \\, \\sqrt{s_{5}^{2}}, d_{0} : \\frac{3}{4} \\, \\sqrt{s_{5}^{2}}, d_{2} : \\sqrt{s_{5}^{2}}, d_{8} : \\frac{7}{4} \\, \\sqrt{s_{5}^{2}}, s_{0} : -\\sqrt{2} {\\left(s_{5}^{2}\\right)}^{\\frac{1}{4}}, s_{3} : {\\left(s_{5}^{2}\\right)}^{\\frac{1}{4}}\\right\\}</script></html>"
      ],
      "text/latex": [
       "$$\\newcommand{\\Bold}[1]{\\mathbf{#1}}\\left\\{c : -\\frac{7}{4} \\, \\sqrt{s_{5}^{2}}, d_{0} : \\frac{3}{4} \\, \\sqrt{s_{5}^{2}}, d_{2} : \\sqrt{s_{5}^{2}}, d_{8} : \\frac{7}{4} \\, \\sqrt{s_{5}^{2}}, s_{0} : -\\sqrt{2} {\\left(s_{5}^{2}\\right)}^{\\frac{1}{4}}, s_{3} : {\\left(s_{5}^{2}\\right)}^{\\frac{1}{4}}\\right\\}$$"
      ],
      "text/plain": [
       "{c: -7/4*sqrt(s5^2),\n",
       " d0: 3/4*sqrt(s5^2),\n",
       " d2: sqrt(s5^2),\n",
       " d8: 7/4*sqrt(s5^2),\n",
       " s0: -sqrt(2)*(s5^2)^(1/4),\n",
       " s3: (s5^2)^(1/4)}"
      ]
     },
     "metadata": {},
     "output_type": "display_data"
    },
    {
     "data": {
      "text/html": [
       "<html><script type=\"math/tex; mode=display\">\\newcommand{\\Bold}[1]{\\mathbf{#1}}\\left\\{c : -\\frac{7}{4} \\, \\sqrt{s_{5}^{2}}, d_{0} : \\frac{3}{4} \\, \\sqrt{s_{5}^{2}}, d_{2} : \\sqrt{s_{5}^{2}}, d_{8} : \\frac{7}{4} \\, \\sqrt{s_{5}^{2}}, s_{0} : \\sqrt{2} {\\left(s_{5}^{2}\\right)}^{\\frac{1}{4}}, s_{3} : -{\\left(s_{5}^{2}\\right)}^{\\frac{1}{4}}\\right\\}</script></html>"
      ],
      "text/latex": [
       "$$\\newcommand{\\Bold}[1]{\\mathbf{#1}}\\left\\{c : -\\frac{7}{4} \\, \\sqrt{s_{5}^{2}}, d_{0} : \\frac{3}{4} \\, \\sqrt{s_{5}^{2}}, d_{2} : \\sqrt{s_{5}^{2}}, d_{8} : \\frac{7}{4} \\, \\sqrt{s_{5}^{2}}, s_{0} : \\sqrt{2} {\\left(s_{5}^{2}\\right)}^{\\frac{1}{4}}, s_{3} : -{\\left(s_{5}^{2}\\right)}^{\\frac{1}{4}}\\right\\}$$"
      ],
      "text/plain": [
       "{c: -7/4*sqrt(s5^2),\n",
       " d0: 3/4*sqrt(s5^2),\n",
       " d2: sqrt(s5^2),\n",
       " d8: 7/4*sqrt(s5^2),\n",
       " s0: sqrt(2)*(s5^2)^(1/4),\n",
       " s3: -(s5^2)^(1/4)}"
      ]
     },
     "metadata": {},
     "output_type": "display_data"
    },
    {
     "data": {
      "text/html": [
       "<html><script type=\"math/tex; mode=display\">\\newcommand{\\Bold}[1]{\\mathbf{#1}}\\left\\{c : -\\frac{7}{4} \\, \\sqrt{s_{5}^{2}}, d_{0} : \\frac{3}{4} \\, \\sqrt{s_{5}^{2}}, d_{2} : \\sqrt{s_{5}^{2}}, d_{8} : \\frac{7}{4} \\, \\sqrt{s_{5}^{2}}, s_{0} : \\sqrt{2} {\\left(s_{5}^{2}\\right)}^{\\frac{1}{4}}, s_{3} : {\\left(s_{5}^{2}\\right)}^{\\frac{1}{4}}\\right\\}</script></html>"
      ],
      "text/latex": [
       "$$\\newcommand{\\Bold}[1]{\\mathbf{#1}}\\left\\{c : -\\frac{7}{4} \\, \\sqrt{s_{5}^{2}}, d_{0} : \\frac{3}{4} \\, \\sqrt{s_{5}^{2}}, d_{2} : \\sqrt{s_{5}^{2}}, d_{8} : \\frac{7}{4} \\, \\sqrt{s_{5}^{2}}, s_{0} : \\sqrt{2} {\\left(s_{5}^{2}\\right)}^{\\frac{1}{4}}, s_{3} : {\\left(s_{5}^{2}\\right)}^{\\frac{1}{4}}\\right\\}$$"
      ],
      "text/plain": [
       "{c: -7/4*sqrt(s5^2),\n",
       " d0: 3/4*sqrt(s5^2),\n",
       " d2: sqrt(s5^2),\n",
       " d8: 7/4*sqrt(s5^2),\n",
       " s0: sqrt(2)*(s5^2)^(1/4),\n",
       " s3: (s5^2)^(1/4)}"
      ]
     },
     "metadata": {},
     "output_type": "display_data"
    },
    {
     "data": {
      "text/html": [
       "<html><script type=\"math/tex; mode=display\">\\newcommand{\\Bold}[1]{\\mathbf{#1}}\\left\\{c : \\frac{7}{4} \\, \\sqrt{s_{5}^{2}}, d_{0} : -\\frac{3}{4} \\, \\sqrt{s_{5}^{2}}, d_{2} : -\\sqrt{s_{5}^{2}}, d_{8} : -\\frac{7}{4} \\, \\sqrt{s_{5}^{2}}, s_{0} : -\\sqrt{2} \\sqrt{-\\sqrt{s_{5}^{2}}}, s_{3} : -i \\, {\\left(s_{5}^{2}\\right)}^{\\frac{1}{4}}\\right\\}</script></html>"
      ],
      "text/latex": [
       "$$\\newcommand{\\Bold}[1]{\\mathbf{#1}}\\left\\{c : \\frac{7}{4} \\, \\sqrt{s_{5}^{2}}, d_{0} : -\\frac{3}{4} \\, \\sqrt{s_{5}^{2}}, d_{2} : -\\sqrt{s_{5}^{2}}, d_{8} : -\\frac{7}{4} \\, \\sqrt{s_{5}^{2}}, s_{0} : -\\sqrt{2} \\sqrt{-\\sqrt{s_{5}^{2}}}, s_{3} : -i \\, {\\left(s_{5}^{2}\\right)}^{\\frac{1}{4}}\\right\\}$$"
      ],
      "text/plain": [
       "{c: 7/4*sqrt(s5^2),\n",
       " d0: -3/4*sqrt(s5^2),\n",
       " d2: -sqrt(s5^2),\n",
       " d8: -7/4*sqrt(s5^2),\n",
       " s0: -sqrt(2)*sqrt(-sqrt(s5^2)),\n",
       " s3: -I*(s5^2)^(1/4)}"
      ]
     },
     "metadata": {},
     "output_type": "display_data"
    },
    {
     "data": {
      "text/html": [
       "<html><script type=\"math/tex; mode=display\">\\newcommand{\\Bold}[1]{\\mathbf{#1}}\\left\\{c : \\frac{7}{4} \\, \\sqrt{s_{5}^{2}}, d_{0} : -\\frac{3}{4} \\, \\sqrt{s_{5}^{2}}, d_{2} : -\\sqrt{s_{5}^{2}}, d_{8} : -\\frac{7}{4} \\, \\sqrt{s_{5}^{2}}, s_{0} : -\\sqrt{2} \\sqrt{-\\sqrt{s_{5}^{2}}}, s_{3} : i \\, {\\left(s_{5}^{2}\\right)}^{\\frac{1}{4}}\\right\\}</script></html>"
      ],
      "text/latex": [
       "$$\\newcommand{\\Bold}[1]{\\mathbf{#1}}\\left\\{c : \\frac{7}{4} \\, \\sqrt{s_{5}^{2}}, d_{0} : -\\frac{3}{4} \\, \\sqrt{s_{5}^{2}}, d_{2} : -\\sqrt{s_{5}^{2}}, d_{8} : -\\frac{7}{4} \\, \\sqrt{s_{5}^{2}}, s_{0} : -\\sqrt{2} \\sqrt{-\\sqrt{s_{5}^{2}}}, s_{3} : i \\, {\\left(s_{5}^{2}\\right)}^{\\frac{1}{4}}\\right\\}$$"
      ],
      "text/plain": [
       "{c: 7/4*sqrt(s5^2),\n",
       " d0: -3/4*sqrt(s5^2),\n",
       " d2: -sqrt(s5^2),\n",
       " d8: -7/4*sqrt(s5^2),\n",
       " s0: -sqrt(2)*sqrt(-sqrt(s5^2)),\n",
       " s3: I*(s5^2)^(1/4)}"
      ]
     },
     "metadata": {},
     "output_type": "display_data"
    },
    {
     "data": {
      "text/html": [
       "<html><script type=\"math/tex; mode=display\">\\newcommand{\\Bold}[1]{\\mathbf{#1}}\\left\\{c : \\frac{7}{4} \\, \\sqrt{s_{5}^{2}}, d_{0} : -\\frac{3}{4} \\, \\sqrt{s_{5}^{2}}, d_{2} : -\\sqrt{s_{5}^{2}}, d_{8} : -\\frac{7}{4} \\, \\sqrt{s_{5}^{2}}, s_{0} : \\sqrt{2} \\sqrt{-\\sqrt{s_{5}^{2}}}, s_{3} : -i \\, {\\left(s_{5}^{2}\\right)}^{\\frac{1}{4}}\\right\\}</script></html>"
      ],
      "text/latex": [
       "$$\\newcommand{\\Bold}[1]{\\mathbf{#1}}\\left\\{c : \\frac{7}{4} \\, \\sqrt{s_{5}^{2}}, d_{0} : -\\frac{3}{4} \\, \\sqrt{s_{5}^{2}}, d_{2} : -\\sqrt{s_{5}^{2}}, d_{8} : -\\frac{7}{4} \\, \\sqrt{s_{5}^{2}}, s_{0} : \\sqrt{2} \\sqrt{-\\sqrt{s_{5}^{2}}}, s_{3} : -i \\, {\\left(s_{5}^{2}\\right)}^{\\frac{1}{4}}\\right\\}$$"
      ],
      "text/plain": [
       "{c: 7/4*sqrt(s5^2),\n",
       " d0: -3/4*sqrt(s5^2),\n",
       " d2: -sqrt(s5^2),\n",
       " d8: -7/4*sqrt(s5^2),\n",
       " s0: sqrt(2)*sqrt(-sqrt(s5^2)),\n",
       " s3: -I*(s5^2)^(1/4)}"
      ]
     },
     "metadata": {},
     "output_type": "display_data"
    },
    {
     "data": {
      "text/html": [
       "<html><script type=\"math/tex; mode=display\">\\newcommand{\\Bold}[1]{\\mathbf{#1}}\\left\\{c : \\frac{7}{4} \\, \\sqrt{s_{5}^{2}}, d_{0} : -\\frac{3}{4} \\, \\sqrt{s_{5}^{2}}, d_{2} : -\\sqrt{s_{5}^{2}}, d_{8} : -\\frac{7}{4} \\, \\sqrt{s_{5}^{2}}, s_{0} : \\sqrt{2} \\sqrt{-\\sqrt{s_{5}^{2}}}, s_{3} : i \\, {\\left(s_{5}^{2}\\right)}^{\\frac{1}{4}}\\right\\}</script></html>"
      ],
      "text/latex": [
       "$$\\newcommand{\\Bold}[1]{\\mathbf{#1}}\\left\\{c : \\frac{7}{4} \\, \\sqrt{s_{5}^{2}}, d_{0} : -\\frac{3}{4} \\, \\sqrt{s_{5}^{2}}, d_{2} : -\\sqrt{s_{5}^{2}}, d_{8} : -\\frac{7}{4} \\, \\sqrt{s_{5}^{2}}, s_{0} : \\sqrt{2} \\sqrt{-\\sqrt{s_{5}^{2}}}, s_{3} : i \\, {\\left(s_{5}^{2}\\right)}^{\\frac{1}{4}}\\right\\}$$"
      ],
      "text/plain": [
       "{c: 7/4*sqrt(s5^2),\n",
       " d0: -3/4*sqrt(s5^2),\n",
       " d2: -sqrt(s5^2),\n",
       " d8: -7/4*sqrt(s5^2),\n",
       " s0: sqrt(2)*sqrt(-sqrt(s5^2)),\n",
       " s3: I*(s5^2)^(1/4)}"
      ]
     },
     "metadata": {},
     "output_type": "display_data"
    }
   ],
   "source": [
    "g_diag_vars = list(set(Sigma.diagonal()) - {1})\n",
    "incg = [c] + der_vars_diag + g_diag_vars\n",
    "display(incg)\n",
    "nilsoliton_sols = solve(nilsoliton_eqs, incg, algorithm='sympy')\n",
    "for sol in nilsoliton_sols:\n",
    "    display(sol)"
   ]
  },
  {
   "cell_type": "markdown",
   "metadata": {},
   "source": [
    "Since $g = g_\\sigma$ with $\\sigma \\in \\Sigma \\subset \\rm T_6^+$ the only meaningful solution is the fourth one. Warning: the place of the meaningful solution in `nilsoliton_sols` may vary."
   ]
  },
  {
   "cell_type": "code",
   "execution_count": 11,
   "metadata": {},
   "outputs": [
    {
     "data": {
      "text/html": [
       "<html><script type=\"math/tex; mode=display\">\\newcommand{\\Bold}[1]{\\mathbf{#1}}\\left(\\begin{array}{rrrrrr}\n",
       "1 & 0 & 0 & 0 & 0 & 0 \\\\\n",
       "0 & 1 & 0 & 0 & 0 & 0 \\\\\n",
       "0 & 0 & 2 \\, s_{5} & 0 & 0 & 0 \\\\\n",
       "0 & 0 & 0 & 1 & 0 & 0 \\\\\n",
       "0 & 0 & 0 & 0 & s_{5} & 0 \\\\\n",
       "0 & 0 & 0 & 0 & 0 & s_{5}^{2}\n",
       "\\end{array}\\right)</script></html>"
      ],
      "text/latex": [
       "$$\\newcommand{\\Bold}[1]{\\mathbf{#1}}\\left(\\begin{array}{rrrrrr}\n",
       "1 & 0 & 0 & 0 & 0 & 0 \\\\\n",
       "0 & 1 & 0 & 0 & 0 & 0 \\\\\n",
       "0 & 0 & 2 \\, s_{5} & 0 & 0 & 0 \\\\\n",
       "0 & 0 & 0 & 1 & 0 & 0 \\\\\n",
       "0 & 0 & 0 & 0 & s_{5} & 0 \\\\\n",
       "0 & 0 & 0 & 0 & 0 & s_{5}^{2}\n",
       "\\end{array}\\right)$$"
      ],
      "text/plain": [
       "[   1    0    0    0    0    0]\n",
       "[   0    1    0    0    0    0]\n",
       "[   0    0 2*s5    0    0    0]\n",
       "[   0    0    0    1    0    0]\n",
       "[   0    0    0    0   s5    0]\n",
       "[   0    0    0    0    0 s5^2]"
      ]
     },
     "execution_count": 11,
     "metadata": {},
     "output_type": "execute_result"
    }
   ],
   "source": [
    "g_nil = g_diag.subs(nilsoliton_sols[3]).canonicalize_radical()\n",
    "Sigma_nil = Sigma_diag.subs(nilsoliton_sols[3]).canonicalize_radical()\n",
    "ip_nil = inner_product_from_matrix(alg, g_nil)\n",
    "g_nil"
   ]
  },
  {
   "cell_type": "markdown",
   "metadata": {},
   "source": [
    "It follows from Theorem 6.2 that the nilsoliton metrics have nontrivial index of symmetry."
   ]
  },
  {
   "cell_type": "code",
   "execution_count": 12,
   "metadata": {},
   "outputs": [
    {
     "data": {
      "text/html": [
       "<html><script type=\"math/tex; mode=display\">\\newcommand{\\Bold}[1]{\\mathbf{#1}}\\left(\\left(\\begin{array}{rrrrrr}\n",
       "1 & 0 & 0 & 0 & 0 & 0 \\\\\n",
       "0 & 1 & 0 & 0 & 0 & 0 \\\\\n",
       "0 & 0 & s_{0} & 0 & 0 & 0 \\\\\n",
       "0 & 0 & 0 & 1 & 0 & 0 \\\\\n",
       "0 & 0 & s_{1} & s_{2} & s_{3} & 0 \\\\\n",
       "0 & 0 & 0 & 0 & s_{4} & s_{5}\n",
       "\\end{array}\\right), \\left(\\begin{array}{rrrrrr}\n",
       "1 & 0 & 0 & 0 & 0 & 0 \\\\\n",
       "0 & 1 & 0 & 0 & 0 & 0 \\\\\n",
       "0 & 0 & \\sqrt{2} \\sqrt{s_{5}} & 0 & 0 & 0 \\\\\n",
       "0 & 0 & 0 & 1 & 0 & 0 \\\\\n",
       "0 & 0 & 0 & 0 & \\sqrt{s_{5}} & 0 \\\\\n",
       "0 & 0 & 0 & 0 & 0 & s_{5}\n",
       "\\end{array}\\right)\\right)</script></html>"
      ],
      "text/latex": [
       "$$\\newcommand{\\Bold}[1]{\\mathbf{#1}}\\left(\\left(\\begin{array}{rrrrrr}\n",
       "1 & 0 & 0 & 0 & 0 & 0 \\\\\n",
       "0 & 1 & 0 & 0 & 0 & 0 \\\\\n",
       "0 & 0 & s_{0} & 0 & 0 & 0 \\\\\n",
       "0 & 0 & 0 & 1 & 0 & 0 \\\\\n",
       "0 & 0 & s_{1} & s_{2} & s_{3} & 0 \\\\\n",
       "0 & 0 & 0 & 0 & s_{4} & s_{5}\n",
       "\\end{array}\\right), \\left(\\begin{array}{rrrrrr}\n",
       "1 & 0 & 0 & 0 & 0 & 0 \\\\\n",
       "0 & 1 & 0 & 0 & 0 & 0 \\\\\n",
       "0 & 0 & \\sqrt{2} \\sqrt{s_{5}} & 0 & 0 & 0 \\\\\n",
       "0 & 0 & 0 & 1 & 0 & 0 \\\\\n",
       "0 & 0 & 0 & 0 & \\sqrt{s_{5}} & 0 \\\\\n",
       "0 & 0 & 0 & 0 & 0 & s_{5}\n",
       "\\end{array}\\right)\\right)$$"
      ],
      "text/plain": [
       "(\n",
       "[ 1  0  0  0  0  0]  [               1                0                0                0                0                0]\n",
       "[ 0  1  0  0  0  0]  [               0                1                0                0                0                0]\n",
       "[ 0  0 s0  0  0  0]  [               0                0 sqrt(2)*sqrt(s5)                0                0                0]\n",
       "[ 0  0  0  1  0  0]  [               0                0                0                1                0                0]\n",
       "[ 0  0 s1 s2 s3  0]  [               0                0                0                0         sqrt(s5)                0]\n",
       "[ 0  0  0  0 s4 s5], [               0                0                0                0                0               s5]\n",
       ")"
      ]
     },
     "execution_count": 12,
     "metadata": {},
     "output_type": "execute_result"
    }
   ],
   "source": [
    "Sigma, Sigma_nil"
   ]
  },
  {
   "cell_type": "markdown",
   "metadata": {},
   "source": [
    "### Isometry with the nilsoliton metric given in [Will11]\n",
    "\n",
    "The nilsoliton metric from the 2011 paper of Will which is isomorphic to $\\mathfrak h_9$ is the number 27 given by $(0, 0, 0, 0, 2^\\frac12 \\, \\mathbf{12}, \\mathbf{14} + 2^\\frac12 \\, \\mathbf{25})$."
   ]
  },
  {
   "cell_type": "code",
   "execution_count": 13,
   "metadata": {},
   "outputs": [
    {
     "name": "stdout",
     "output_type": "stream",
     "text": [
      "('x1', 'x2')  =  sqrt(2)*x5\n",
      "('x1', 'x4')  =  x6\n",
      "('x2', 'x5')  =  sqrt(2)*x6\n"
     ]
    }
   ],
   "source": [
    "d_h = {('x1', 'x2'): {'x5': sqrt(2)}, ('x1', 'x4'): {'x6': 1}, ('x2', 'x5'): {'x6': sqrt(2)}} \n",
    "hh_will.<x1,x2,x3,x4,x5,x6> = LieAlgebra(SR, d_h, nilpotent=True) \n",
    "for kk in hh_will.structure_coefficients().keys():\n",
    "    print(kk, \" = \", hh_will.structure_coefficients()[kk])"
   ]
  },
  {
   "cell_type": "markdown",
   "metadata": {},
   "source": [
    "Notice that the basis $x_1, \\ldots, x_6$ is orthonormal by definition. We propose the following isomorphism between `hh_will` and `alg`."
   ]
  },
  {
   "cell_type": "code",
   "execution_count": 14,
   "metadata": {},
   "outputs": [
    {
     "data": {
      "text/html": [
       "<html><script type=\"math/tex; mode=display\">\\newcommand{\\Bold}[1]{\\mathbf{#1}}\\begin{array}{l}\n",
       "\\verb|Lie|\\phantom{\\verb!x!}\\verb|algebra|\\phantom{\\verb!x!}\\verb|morphism:|\\\\\n",
       "\\phantom{\\verb!xx!}\\verb|From:|\\phantom{\\verb!x!}\\verb|Nilpotent|\\phantom{\\verb!x!}\\verb|Lie|\\phantom{\\verb!x!}\\verb|algebra|\\phantom{\\verb!x!}\\verb|on|\\phantom{\\verb!x!}\\verb|6|\\phantom{\\verb!x!}\\verb|generators|\\phantom{\\verb!x!}\\verb|(x1,|\\phantom{\\verb!x!}\\verb|x2,|\\phantom{\\verb!x!}\\verb|x3,|\\phantom{\\verb!x!}\\verb|x4,|\\phantom{\\verb!x!}\\verb|x5,|\\phantom{\\verb!x!}\\verb|x6)|\\phantom{\\verb!x!}\\verb|over|\\phantom{\\verb!x!}\\verb|Symbolic|\\phantom{\\verb!x!}\\verb|Ring|\\\\\n",
       "\\phantom{\\verb!xx!}\\verb|To:|\\phantom{\\verb!xxx!}\\verb|Nilpotent|\\phantom{\\verb!x!}\\verb|Lie|\\phantom{\\verb!x!}\\verb|algebra|\\phantom{\\verb!x!}\\verb|on|\\phantom{\\verb!x!}\\verb|6|\\phantom{\\verb!x!}\\verb|generators|\\phantom{\\verb!x!}\\verb|(e1,|\\phantom{\\verb!x!}\\verb|e2,|\\phantom{\\verb!x!}\\verb|e3,|\\phantom{\\verb!x!}\\verb|e4,|\\phantom{\\verb!x!}\\verb|e5,|\\phantom{\\verb!x!}\\verb|e6)|\\phantom{\\verb!x!}\\verb|over|\\phantom{\\verb!x!}\\verb|Symbolic|\\phantom{\\verb!x!}\\verb|Ring|\\\\\n",
       "\\phantom{\\verb!xx!}\\verb\"Defn:\"\\phantom{\\verb!x!}\\verb\"x1\"\\phantom{\\verb!x!}\\verb\"|-->\"\\phantom{\\verb!x!}\\verb\"e2\"\\\\\n",
       "\\phantom{\\verb!xxxxxxxx!}\\verb\"x2\"\\phantom{\\verb!x!}\\verb\"|-->\"\\phantom{\\verb!x!}\\verb\"e1\"\\\\\n",
       "\\phantom{\\verb!xxxxxxxx!}\\verb\"x3\"\\phantom{\\verb!x!}\\verb\"|-->\"\\phantom{\\verb!x!}\\verb\"e4\"\\\\\n",
       "\\phantom{\\verb!xxxxxxxx!}\\verb\"x4\"\\phantom{\\verb!x!}\\verb\"|-->\"\\phantom{\\verb!x!}\\verb\"-1/2*e3\"\\\\\n",
       "\\phantom{\\verb!xxxxxxxx!}\\verb\"x5\"\\phantom{\\verb!x!}\\verb\"|-->\"\\phantom{\\verb!x!}\\verb\"1/2*sqrt(2)*e5\"\\\\\n",
       "\\phantom{\\verb!xxxxxxxx!}\\verb\"x6\"\\phantom{\\verb!x!}\\verb\"|-->\"\\phantom{\\verb!x!}\\verb\"1/2*e6\"\n",
       "\\end{array}</script></html>"
      ],
      "text/latex": [
       "$$\\newcommand{\\Bold}[1]{\\mathbf{#1}}\\begin{array}{l}\n",
       "\\verb|Lie|\\phantom{\\verb!x!}\\verb|algebra|\\phantom{\\verb!x!}\\verb|morphism:|\\\\\n",
       "\\phantom{\\verb!xx!}\\verb|From:|\\phantom{\\verb!x!}\\verb|Nilpotent|\\phantom{\\verb!x!}\\verb|Lie|\\phantom{\\verb!x!}\\verb|algebra|\\phantom{\\verb!x!}\\verb|on|\\phantom{\\verb!x!}\\verb|6|\\phantom{\\verb!x!}\\verb|generators|\\phantom{\\verb!x!}\\verb|(x1,|\\phantom{\\verb!x!}\\verb|x2,|\\phantom{\\verb!x!}\\verb|x3,|\\phantom{\\verb!x!}\\verb|x4,|\\phantom{\\verb!x!}\\verb|x5,|\\phantom{\\verb!x!}\\verb|x6)|\\phantom{\\verb!x!}\\verb|over|\\phantom{\\verb!x!}\\verb|Symbolic|\\phantom{\\verb!x!}\\verb|Ring|\\\\\n",
       "\\phantom{\\verb!xx!}\\verb|To:|\\phantom{\\verb!xxx!}\\verb|Nilpotent|\\phantom{\\verb!x!}\\verb|Lie|\\phantom{\\verb!x!}\\verb|algebra|\\phantom{\\verb!x!}\\verb|on|\\phantom{\\verb!x!}\\verb|6|\\phantom{\\verb!x!}\\verb|generators|\\phantom{\\verb!x!}\\verb|(e1,|\\phantom{\\verb!x!}\\verb|e2,|\\phantom{\\verb!x!}\\verb|e3,|\\phantom{\\verb!x!}\\verb|e4,|\\phantom{\\verb!x!}\\verb|e5,|\\phantom{\\verb!x!}\\verb|e6)|\\phantom{\\verb!x!}\\verb|over|\\phantom{\\verb!x!}\\verb|Symbolic|\\phantom{\\verb!x!}\\verb|Ring|\\\\\n",
       "\\phantom{\\verb!xx!}\\verb\"Defn:\"\\phantom{\\verb!x!}\\verb\"x1\"\\phantom{\\verb!x!}\\verb\"|-->\"\\phantom{\\verb!x!}\\verb\"e2\"\\\\\n",
       "\\phantom{\\verb!xxxxxxxx!}\\verb\"x2\"\\phantom{\\verb!x!}\\verb\"|-->\"\\phantom{\\verb!x!}\\verb\"e1\"\\\\\n",
       "\\phantom{\\verb!xxxxxxxx!}\\verb\"x3\"\\phantom{\\verb!x!}\\verb\"|-->\"\\phantom{\\verb!x!}\\verb\"e4\"\\\\\n",
       "\\phantom{\\verb!xxxxxxxx!}\\verb\"x4\"\\phantom{\\verb!x!}\\verb\"|-->\"\\phantom{\\verb!x!}\\verb\"-1/2*e3\"\\\\\n",
       "\\phantom{\\verb!xxxxxxxx!}\\verb\"x5\"\\phantom{\\verb!x!}\\verb\"|-->\"\\phantom{\\verb!x!}\\verb\"1/2*sqrt(2)*e5\"\\\\\n",
       "\\phantom{\\verb!xxxxxxxx!}\\verb\"x6\"\\phantom{\\verb!x!}\\verb\"|-->\"\\phantom{\\verb!x!}\\verb\"1/2*e6\"\n",
       "\\end{array}$$"
      ],
      "text/plain": [
       "Lie algebra morphism:\n",
       "  From: Nilpotent Lie algebra on 6 generators (x1, x2, x3, x4, x5, x6) over Symbolic Ring\n",
       "  To:   Nilpotent Lie algebra on 6 generators (e1, e2, e3, e4, e5, e6) over Symbolic Ring\n",
       "  Defn: x1 |--> e2\n",
       "        x2 |--> e1\n",
       "        x3 |--> e4\n",
       "        x4 |--> -1/2*e3\n",
       "        x5 |--> 1/2*sqrt(2)*e5\n",
       "        x6 |--> 1/2*e6"
      ]
     },
     "execution_count": 14,
     "metadata": {},
     "output_type": "execute_result"
    }
   ],
   "source": [
    "e1, e2, e3, e4, e5, e6 = alg.basis()\n",
    "f1, f2, f3, f4, f5, f6 = e2, e1, e4, -1/2*e3, 1/2*sqrt(2)*e5, 1/2*e6\n",
    "hh_will.morphism({x1:f1, x2:f2, x3:f3, x4:f4, x5:f5, x6:f6})"
   ]
  },
  {
   "cell_type": "markdown",
   "metadata": {},
   "source": [
    "And now we choose $s_5$ in order to make this isomorphism and isometry. "
   ]
  },
  {
   "cell_type": "code",
   "execution_count": 15,
   "metadata": {},
   "outputs": [
    {
     "data": {
      "text/html": [
       "<html><script type=\"math/tex; mode=display\">\\newcommand{\\Bold}[1]{\\mathbf{#1}}\\left(\\begin{array}{rrrrrr}\n",
       "1 & 0 & 0 & 0 & 0 & 0 \\\\\n",
       "0 & 1 & 0 & 0 & 0 & 0 \\\\\n",
       "0 & 0 & 1 & 0 & 0 & 0 \\\\\n",
       "0 & 0 & 0 & \\frac{1}{2} \\, s_{5} & 0 & 0 \\\\\n",
       "0 & 0 & 0 & 0 & \\frac{1}{2} \\, s_{5} & 0 \\\\\n",
       "0 & 0 & 0 & 0 & 0 & \\frac{1}{4} \\, s_{5}^{2}\n",
       "\\end{array}\\right)</script></html>"
      ],
      "text/latex": [
       "$$\\newcommand{\\Bold}[1]{\\mathbf{#1}}\\left(\\begin{array}{rrrrrr}\n",
       "1 & 0 & 0 & 0 & 0 & 0 \\\\\n",
       "0 & 1 & 0 & 0 & 0 & 0 \\\\\n",
       "0 & 0 & 1 & 0 & 0 & 0 \\\\\n",
       "0 & 0 & 0 & \\frac{1}{2} \\, s_{5} & 0 & 0 \\\\\n",
       "0 & 0 & 0 & 0 & \\frac{1}{2} \\, s_{5} & 0 \\\\\n",
       "0 & 0 & 0 & 0 & 0 & \\frac{1}{4} \\, s_{5}^{2}\n",
       "\\end{array}\\right)$$"
      ],
      "text/plain": [
       "[       1        0        0        0        0        0]\n",
       "[       0        1        0        0        0        0]\n",
       "[       0        0        1        0        0        0]\n",
       "[       0        0        0   1/2*s5        0        0]\n",
       "[       0        0        0        0   1/2*s5        0]\n",
       "[       0        0        0        0        0 1/4*s5^2]"
      ]
     },
     "execution_count": 15,
     "metadata": {},
     "output_type": "execute_result"
    }
   ],
   "source": [
    "on_basis_nil = [f1, f2, f3, f4, f5, f6]\n",
    "matrix(6, 6, lambda i, j: ip_nil(on_basis_nil[i], on_basis_nil[j])).canonicalize_radical()"
   ]
  },
  {
   "cell_type": "markdown",
   "metadata": {},
   "source": [
    "So it follows that $s_5 = 2$."
   ]
  },
  {
   "cell_type": "code",
   "execution_count": 16,
   "metadata": {},
   "outputs": [
    {
     "data": {
      "text/html": [
       "<html><script type=\"math/tex; mode=display\">\\newcommand{\\Bold}[1]{\\mathbf{#1}}\\left(\\begin{array}{rrrrrr}\n",
       "1 & 0 & 0 & 0 & 0 & 0 \\\\\n",
       "0 & 1 & 0 & 0 & 0 & 0 \\\\\n",
       "0 & 0 & 4 & 0 & 0 & 0 \\\\\n",
       "0 & 0 & 0 & 1 & 0 & 0 \\\\\n",
       "0 & 0 & 0 & 0 & 2 & 0 \\\\\n",
       "0 & 0 & 0 & 0 & 0 & 4\n",
       "\\end{array}\\right)</script></html>"
      ],
      "text/latex": [
       "$$\\newcommand{\\Bold}[1]{\\mathbf{#1}}\\left(\\begin{array}{rrrrrr}\n",
       "1 & 0 & 0 & 0 & 0 & 0 \\\\\n",
       "0 & 1 & 0 & 0 & 0 & 0 \\\\\n",
       "0 & 0 & 4 & 0 & 0 & 0 \\\\\n",
       "0 & 0 & 0 & 1 & 0 & 0 \\\\\n",
       "0 & 0 & 0 & 0 & 2 & 0 \\\\\n",
       "0 & 0 & 0 & 0 & 0 & 4\n",
       "\\end{array}\\right)$$"
      ],
      "text/plain": [
       "[1 0 0 0 0 0]\n",
       "[0 1 0 0 0 0]\n",
       "[0 0 4 0 0 0]\n",
       "[0 0 0 1 0 0]\n",
       "[0 0 0 0 2 0]\n",
       "[0 0 0 0 0 4]"
      ]
     },
     "execution_count": 16,
     "metadata": {},
     "output_type": "execute_result"
    }
   ],
   "source": [
    "g_will = g_nil.subs(s5=2)\n",
    "g_will"
   ]
  },
  {
   "cell_type": "markdown",
   "metadata": {},
   "source": [
    "## Case $\\mathfrak h_{10}$"
   ]
  },
  {
   "cell_type": "code",
   "execution_count": 17,
   "metadata": {},
   "outputs": [
    {
     "name": "stdout",
     "output_type": "stream",
     "text": [
      "CPU times: user 7.53 s, sys: 78 ms, total: 7.61 s\n",
      "Wall time: 6.77 s\n"
     ]
    },
    {
     "data": {
      "text/html": [
       "<html><script type=\"math/tex; mode=display\">\\newcommand{\\Bold}[1]{\\mathbf{#1}}\\left(\\left(\\begin{array}{rrrrrr}\n",
       "1 & 0 & 0 & 0 & 0 & 0 \\\\\n",
       "0 & 1 & 0 & 0 & 0 & 0 \\\\\n",
       "0 & 0 & 1 & 0 & 0 & 0 \\\\\n",
       "0 & 0 & 0 & s_{0}^{2} + s_{1}^{2} + s_{3}^{2} & s_{1} s_{2} + s_{3} s_{4} & s_{3} s_{5} \\\\\n",
       "0 & 0 & 0 & s_{1} s_{2} + s_{3} s_{4} & s_{2}^{2} + s_{4}^{2} & s_{4} s_{5} \\\\\n",
       "0 & 0 & 0 & s_{3} s_{5} & s_{4} s_{5} & s_{5}^{2}\n",
       "\\end{array}\\right), \\left(\\begin{array}{rrrrrr}\n",
       "1 & 0 & 0 & 0 & 0 & 0 \\\\\n",
       "0 & 1 & 0 & 0 & 0 & 0 \\\\\n",
       "0 & 0 & 1 & 0 & 0 & 0 \\\\\n",
       "0 & 0 & 0 & s_{0} & 0 & 0 \\\\\n",
       "0 & 0 & 0 & s_{1} & s_{2} & 0 \\\\\n",
       "0 & 0 & 0 & s_{3} & s_{4} & s_{5}\n",
       "\\end{array}\\right)\\right)</script></html>"
      ],
      "text/latex": [
       "$$\\newcommand{\\Bold}[1]{\\mathbf{#1}}\\left(\\left(\\begin{array}{rrrrrr}\n",
       "1 & 0 & 0 & 0 & 0 & 0 \\\\\n",
       "0 & 1 & 0 & 0 & 0 & 0 \\\\\n",
       "0 & 0 & 1 & 0 & 0 & 0 \\\\\n",
       "0 & 0 & 0 & s_{0}^{2} + s_{1}^{2} + s_{3}^{2} & s_{1} s_{2} + s_{3} s_{4} & s_{3} s_{5} \\\\\n",
       "0 & 0 & 0 & s_{1} s_{2} + s_{3} s_{4} & s_{2}^{2} + s_{4}^{2} & s_{4} s_{5} \\\\\n",
       "0 & 0 & 0 & s_{3} s_{5} & s_{4} s_{5} & s_{5}^{2}\n",
       "\\end{array}\\right), \\left(\\begin{array}{rrrrrr}\n",
       "1 & 0 & 0 & 0 & 0 & 0 \\\\\n",
       "0 & 1 & 0 & 0 & 0 & 0 \\\\\n",
       "0 & 0 & 1 & 0 & 0 & 0 \\\\\n",
       "0 & 0 & 0 & s_{0} & 0 & 0 \\\\\n",
       "0 & 0 & 0 & s_{1} & s_{2} & 0 \\\\\n",
       "0 & 0 & 0 & s_{3} & s_{4} & s_{5}\n",
       "\\end{array}\\right)\\right)$$"
      ],
      "text/plain": [
       "(\n",
       "[                 1                  0                  0                  0                  0                  0]\n",
       "[                 0                  1                  0                  0                  0                  0]\n",
       "[                 0                  0                  1                  0                  0                  0]\n",
       "[                 0                  0                  0 s0^2 + s1^2 + s3^2      s1*s2 + s3*s4              s3*s5]\n",
       "[                 0                  0                  0      s1*s2 + s3*s4        s2^2 + s4^2              s4*s5]\n",
       "[                 0                  0                  0              s3*s5              s4*s5               s5^2],\n",
       "\n",
       "[ 1  0  0  0  0  0]\n",
       "[ 0  1  0  0  0  0]\n",
       "[ 0  0  1  0  0  0]\n",
       "[ 0  0  0 s0  0  0]\n",
       "[ 0  0  0 s1 s2  0]\n",
       "[ 0  0  0 s3 s4 s5]\n",
       ")"
      ]
     },
     "execution_count": 17,
     "metadata": {},
     "output_type": "execute_result"
    }
   ],
   "source": [
    "construct_the_algebra(\"h10\")\n",
    "%time generic_metric(alg_name) # long time\n",
    "g, Sigma"
   ]
  },
  {
   "cell_type": "markdown",
   "metadata": {},
   "source": [
    "We can avoid very long computations by working with diagonal metrics. "
   ]
  },
  {
   "cell_type": "code",
   "execution_count": 18,
   "metadata": {},
   "outputs": [
    {
     "data": {
      "text/html": [
       "<html><script type=\"math/tex; mode=display\">\\newcommand{\\Bold}[1]{\\mathbf{#1}}\\left(\\begin{array}{rrrrrr}\n",
       "1 & 0 & 0 & 0 & 0 & 0 \\\\\n",
       "0 & 1 & 0 & 0 & 0 & 0 \\\\\n",
       "0 & 0 & 1 & 0 & 0 & 0 \\\\\n",
       "0 & 0 & 0 & s_{0}^{2} & 0 & 0 \\\\\n",
       "0 & 0 & 0 & 0 & s_{2}^{2} & 0 \\\\\n",
       "0 & 0 & 0 & 0 & 0 & s_{5}^{2}\n",
       "\\end{array}\\right)</script></html>"
      ],
      "text/latex": [
       "$$\\newcommand{\\Bold}[1]{\\mathbf{#1}}\\left(\\begin{array}{rrrrrr}\n",
       "1 & 0 & 0 & 0 & 0 & 0 \\\\\n",
       "0 & 1 & 0 & 0 & 0 & 0 \\\\\n",
       "0 & 0 & 1 & 0 & 0 & 0 \\\\\n",
       "0 & 0 & 0 & s_{0}^{2} & 0 & 0 \\\\\n",
       "0 & 0 & 0 & 0 & s_{2}^{2} & 0 \\\\\n",
       "0 & 0 & 0 & 0 & 0 & s_{5}^{2}\n",
       "\\end{array}\\right)$$"
      ],
      "text/plain": [
       "[   1    0    0    0    0    0]\n",
       "[   0    1    0    0    0    0]\n",
       "[   0    0    1    0    0    0]\n",
       "[   0    0    0 s0^2    0    0]\n",
       "[   0    0    0    0 s2^2    0]\n",
       "[   0    0    0    0    0 s5^2]"
      ]
     },
     "execution_count": 18,
     "metadata": {},
     "output_type": "execute_result"
    }
   ],
   "source": [
    "g_diag = g.subs(s1=0,s3=0,s4=0)\n",
    "Sigma_diag = Sigma.subs(s1=0,s3=0,s4=0)\n",
    "g_diag"
   ]
  },
  {
   "cell_type": "markdown",
   "metadata": {},
   "source": [
    "Now we compute the Ricci tensor."
   ]
  },
  {
   "cell_type": "code",
   "execution_count": 19,
   "metadata": {},
   "outputs": [
    {
     "data": {
      "text/html": [
       "<html><script type=\"math/tex; mode=display\">\\newcommand{\\Bold}[1]{\\mathbf{#1}}\\left[e1, e2, e3, \\frac{1}{s_{0}}e4, \\frac{1}{s_{2}}e5, \\frac{1}{s_{5}}e6\\right]</script></html>"
      ],
      "text/latex": [
       "$$\\newcommand{\\Bold}[1]{\\mathbf{#1}}\\left[e1, e2, e3, \\frac{1}{s_{0}}e4, \\frac{1}{s_{2}}e5, \\frac{1}{s_{5}}e6\\right]$$"
      ],
      "text/plain": [
       "[e1, e2, e3, 1/s0*e4, 1/s2*e5, 1/s5*e6]"
      ]
     },
     "metadata": {},
     "output_type": "display_data"
    },
    {
     "data": {
      "text/html": [
       "<html><script type=\"math/tex; mode=display\">\\newcommand{\\Bold}[1]{\\mathbf{#1}}\\left(\\begin{array}{rrrrrr}\n",
       "-\\frac{1}{2} \\, s_{0}^{2} - \\frac{1}{2} \\, s_{2}^{2} - \\frac{s_{5}^{2}}{2 \\, s_{0}^{2}} & 0 & 0 & 0 & 0 & 0 \\\\\n",
       "0 & -\\frac{1}{2} \\, s_{0}^{2} & 0 & 0 & 0 & 0 \\\\\n",
       "0 & 0 & -\\frac{1}{2} \\, s_{2}^{2} & 0 & 0 & 0 \\\\\n",
       "0 & 0 & 0 & \\frac{1}{2} \\, s_{0}^{2} - \\frac{s_{5}^{2}}{2 \\, s_{0}^{2}} & 0 & 0 \\\\\n",
       "0 & 0 & 0 & 0 & \\frac{1}{2} \\, s_{2}^{2} & 0 \\\\\n",
       "0 & 0 & 0 & 0 & 0 & \\frac{s_{5}^{2}}{2 \\, s_{0}^{2}}\n",
       "\\end{array}\\right)</script></html>"
      ],
      "text/latex": [
       "$$\\newcommand{\\Bold}[1]{\\mathbf{#1}}\\left(\\begin{array}{rrrrrr}\n",
       "-\\frac{1}{2} \\, s_{0}^{2} - \\frac{1}{2} \\, s_{2}^{2} - \\frac{s_{5}^{2}}{2 \\, s_{0}^{2}} & 0 & 0 & 0 & 0 & 0 \\\\\n",
       "0 & -\\frac{1}{2} \\, s_{0}^{2} & 0 & 0 & 0 & 0 \\\\\n",
       "0 & 0 & -\\frac{1}{2} \\, s_{2}^{2} & 0 & 0 & 0 \\\\\n",
       "0 & 0 & 0 & \\frac{1}{2} \\, s_{0}^{2} - \\frac{s_{5}^{2}}{2 \\, s_{0}^{2}} & 0 & 0 \\\\\n",
       "0 & 0 & 0 & 0 & \\frac{1}{2} \\, s_{2}^{2} & 0 \\\\\n",
       "0 & 0 & 0 & 0 & 0 & \\frac{s_{5}^{2}}{2 \\, s_{0}^{2}}\n",
       "\\end{array}\\right)$$"
      ],
      "text/plain": [
       "[-1/2*s0^2 - 1/2*s2^2 - 1/2*s5^2/s0^2                                    0                                    0                                    0                                    0                                    0]\n",
       "[                                   0                            -1/2*s0^2                                    0                                    0                                    0                                    0]\n",
       "[                                   0                                    0                            -1/2*s2^2                                    0                                    0                                    0]\n",
       "[                                   0                                    0                                    0             1/2*s0^2 - 1/2*s5^2/s0^2                                    0                                    0]\n",
       "[                                   0                                    0                                    0                                    0                             1/2*s2^2                                    0]\n",
       "[                                   0                                    0                                    0                                    0                                    0                        1/2*s5^2/s0^2]"
      ]
     },
     "execution_count": 19,
     "metadata": {},
     "output_type": "execute_result"
    }
   ],
   "source": [
    "ip = inner_product_from_matrix(alg, g_diag)\n",
    "on_basis = gram_schmidt(alg, ip)\n",
    "display(on_basis)\n",
    "Ric_on_basis = Ric_on(alg, g_diag, on_basis)\n",
    "Ric_on_basis"
   ]
  },
  {
   "cell_type": "markdown",
   "metadata": {},
   "source": [
    "Now we solve equation $(*)$. Recall that the derivation $D$ can be assumed in diagonal form"
   ]
  },
  {
   "cell_type": "code",
   "execution_count": 20,
   "metadata": {},
   "outputs": [
    {
     "data": {
      "text/html": [
       "<html><script type=\"math/tex; mode=display\">\\newcommand{\\Bold}[1]{\\mathbf{#1}}\\left(\\begin{array}{rrrrrr}\n",
       "d_{0} & 0 & 0 & 0 & 0 & 0 \\\\\n",
       "0 & d_{2} & 0 & 0 & 0 & 0 \\\\\n",
       "0 & 0 & d_{5} & 0 & 0 & 0 \\\\\n",
       "0 & 0 & 0 & d_{0} + d_{2} & 0 & 0 \\\\\n",
       "0 & 0 & 0 & 0 & d_{0} + d_{5} & 0 \\\\\n",
       "0 & 0 & 0 & 0 & 0 & 2 \\, d_{0} + d_{2}\n",
       "\\end{array}\\right)</script></html>"
      ],
      "text/latex": [
       "$$\\newcommand{\\Bold}[1]{\\mathbf{#1}}\\left(\\begin{array}{rrrrrr}\n",
       "d_{0} & 0 & 0 & 0 & 0 & 0 \\\\\n",
       "0 & d_{2} & 0 & 0 & 0 & 0 \\\\\n",
       "0 & 0 & d_{5} & 0 & 0 & 0 \\\\\n",
       "0 & 0 & 0 & d_{0} + d_{2} & 0 & 0 \\\\\n",
       "0 & 0 & 0 & 0 & d_{0} + d_{5} & 0 \\\\\n",
       "0 & 0 & 0 & 0 & 0 & 2 \\, d_{0} + d_{2}\n",
       "\\end{array}\\right)$$"
      ],
      "text/plain": [
       "[       d0         0         0         0         0         0]\n",
       "[        0        d2         0         0         0         0]\n",
       "[        0         0        d5         0         0         0]\n",
       "[        0         0         0   d0 + d2         0         0]\n",
       "[        0         0         0         0   d0 + d5         0]\n",
       "[        0         0         0         0         0 2*d0 + d2]"
      ]
     },
     "metadata": {},
     "output_type": "display_data"
    },
    {
     "data": {
      "text/html": [
       "<html><script type=\"math/tex; mode=display\">\\newcommand{\\Bold}[1]{\\mathbf{#1}}\\left[-\\frac{1}{2} \\, s_{0}^{2} - \\frac{1}{2} \\, s_{2}^{2} - c - d_{0} - \\frac{s_{5}^{2}}{2 \\, s_{0}^{2}}, -\\frac{1}{2} \\, s_{0}^{2} - c - d_{2}, -\\frac{1}{2} \\, s_{2}^{2} - c - d_{5}, \\frac{1}{2} \\, s_{0}^{2} - c - d_{0} - d_{2} - \\frac{s_{5}^{2}}{2 \\, s_{0}^{2}}, \\frac{1}{2} \\, s_{2}^{2} - c - d_{0} - d_{5}, -c - 2 \\, d_{0} - d_{2} + \\frac{s_{5}^{2}}{2 \\, s_{0}^{2}}\\right]</script></html>"
      ],
      "text/latex": [
       "$$\\newcommand{\\Bold}[1]{\\mathbf{#1}}\\left[-\\frac{1}{2} \\, s_{0}^{2} - \\frac{1}{2} \\, s_{2}^{2} - c - d_{0} - \\frac{s_{5}^{2}}{2 \\, s_{0}^{2}}, -\\frac{1}{2} \\, s_{0}^{2} - c - d_{2}, -\\frac{1}{2} \\, s_{2}^{2} - c - d_{5}, \\frac{1}{2} \\, s_{0}^{2} - c - d_{0} - d_{2} - \\frac{s_{5}^{2}}{2 \\, s_{0}^{2}}, \\frac{1}{2} \\, s_{2}^{2} - c - d_{0} - d_{5}, -c - 2 \\, d_{0} - d_{2} + \\frac{s_{5}^{2}}{2 \\, s_{0}^{2}}\\right]$$"
      ],
      "text/plain": [
       "[-1/2*s0^2 - 1/2*s2^2 - c - d0 - 1/2*s5^2/s0^2,\n",
       " -1/2*s0^2 - c - d2,\n",
       " -1/2*s2^2 - c - d5,\n",
       " 1/2*s0^2 - c - d0 - d2 - 1/2*s5^2/s0^2,\n",
       " 1/2*s2^2 - c - d0 - d5,\n",
       " -c - 2*d0 - d2 + 1/2*s5^2/s0^2]"
      ]
     },
     "execution_count": 20,
     "metadata": {},
     "output_type": "execute_result"
    }
   ],
   "source": [
    "c = var(\"c\")\n",
    "D = der_gen_diag\n",
    "display(D)\n",
    "nilsoliton_eqs = (Ric_on_basis - c * identity_matrix(alg.dimension()) - D).coefficients()\n",
    "nilsoliton_eqs"
   ]
  },
  {
   "cell_type": "code",
   "execution_count": 21,
   "metadata": {},
   "outputs": [
    {
     "data": {
      "text/html": [
       "<html><script type=\"math/tex; mode=display\">\\newcommand{\\Bold}[1]{\\mathbf{#1}}\\left[c, d_{0}, d_{2}, d_{5}, s_{5}, s_{0}, s_{2}\\right]</script></html>"
      ],
      "text/latex": [
       "$$\\newcommand{\\Bold}[1]{\\mathbf{#1}}\\left[c, d_{0}, d_{2}, d_{5}, s_{5}, s_{0}, s_{2}\\right]$$"
      ],
      "text/plain": [
       "[c, d0, d2, d5, s5, s0, s2]"
      ]
     },
     "metadata": {},
     "output_type": "display_data"
    },
    {
     "data": {
      "text/html": [
       "<html><script type=\"math/tex; mode=display\">\\newcommand{\\Bold}[1]{\\mathbf{#1}}\\left\\{c : -\\frac{7}{4} \\, \\sqrt{s_{5}^{2}}, d_{0} : \\frac{1}{2} \\, \\sqrt{s_{5}^{2}}, d_{2} : \\frac{5}{4} \\, \\sqrt{s_{5}^{2}}, d_{5} : \\frac{3}{2} \\, \\sqrt{s_{5}^{2}}, s_{0} : -{\\left(s_{5}^{2}\\right)}^{\\frac{1}{4}}, s_{2} : -\\frac{1}{2} \\, \\sqrt{2} {\\left(s_{5}^{2}\\right)}^{\\frac{1}{4}}\\right\\}</script></html>"
      ],
      "text/latex": [
       "$$\\newcommand{\\Bold}[1]{\\mathbf{#1}}\\left\\{c : -\\frac{7}{4} \\, \\sqrt{s_{5}^{2}}, d_{0} : \\frac{1}{2} \\, \\sqrt{s_{5}^{2}}, d_{2} : \\frac{5}{4} \\, \\sqrt{s_{5}^{2}}, d_{5} : \\frac{3}{2} \\, \\sqrt{s_{5}^{2}}, s_{0} : -{\\left(s_{5}^{2}\\right)}^{\\frac{1}{4}}, s_{2} : -\\frac{1}{2} \\, \\sqrt{2} {\\left(s_{5}^{2}\\right)}^{\\frac{1}{4}}\\right\\}$$"
      ],
      "text/plain": [
       "{c: -7/4*sqrt(s5^2),\n",
       " d0: 1/2*sqrt(s5^2),\n",
       " d2: 5/4*sqrt(s5^2),\n",
       " d5: 3/2*sqrt(s5^2),\n",
       " s0: -(s5^2)^(1/4),\n",
       " s2: -1/2*sqrt(2)*(s5^2)^(1/4)}"
      ]
     },
     "metadata": {},
     "output_type": "display_data"
    },
    {
     "data": {
      "text/html": [
       "<html><script type=\"math/tex; mode=display\">\\newcommand{\\Bold}[1]{\\mathbf{#1}}\\left\\{c : -\\frac{7}{4} \\, \\sqrt{s_{5}^{2}}, d_{0} : \\frac{1}{2} \\, \\sqrt{s_{5}^{2}}, d_{2} : \\frac{5}{4} \\, \\sqrt{s_{5}^{2}}, d_{5} : \\frac{3}{2} \\, \\sqrt{s_{5}^{2}}, s_{0} : -{\\left(s_{5}^{2}\\right)}^{\\frac{1}{4}}, s_{2} : \\frac{1}{2} \\, \\sqrt{2} {\\left(s_{5}^{2}\\right)}^{\\frac{1}{4}}\\right\\}</script></html>"
      ],
      "text/latex": [
       "$$\\newcommand{\\Bold}[1]{\\mathbf{#1}}\\left\\{c : -\\frac{7}{4} \\, \\sqrt{s_{5}^{2}}, d_{0} : \\frac{1}{2} \\, \\sqrt{s_{5}^{2}}, d_{2} : \\frac{5}{4} \\, \\sqrt{s_{5}^{2}}, d_{5} : \\frac{3}{2} \\, \\sqrt{s_{5}^{2}}, s_{0} : -{\\left(s_{5}^{2}\\right)}^{\\frac{1}{4}}, s_{2} : \\frac{1}{2} \\, \\sqrt{2} {\\left(s_{5}^{2}\\right)}^{\\frac{1}{4}}\\right\\}$$"
      ],
      "text/plain": [
       "{c: -7/4*sqrt(s5^2),\n",
       " d0: 1/2*sqrt(s5^2),\n",
       " d2: 5/4*sqrt(s5^2),\n",
       " d5: 3/2*sqrt(s5^2),\n",
       " s0: -(s5^2)^(1/4),\n",
       " s2: 1/2*sqrt(2)*(s5^2)^(1/4)}"
      ]
     },
     "metadata": {},
     "output_type": "display_data"
    },
    {
     "data": {
      "text/html": [
       "<html><script type=\"math/tex; mode=display\">\\newcommand{\\Bold}[1]{\\mathbf{#1}}\\left\\{c : -\\frac{7}{4} \\, \\sqrt{s_{5}^{2}}, d_{0} : \\frac{1}{2} \\, \\sqrt{s_{5}^{2}}, d_{2} : \\frac{5}{4} \\, \\sqrt{s_{5}^{2}}, d_{5} : \\frac{3}{2} \\, \\sqrt{s_{5}^{2}}, s_{0} : {\\left(s_{5}^{2}\\right)}^{\\frac{1}{4}}, s_{2} : -\\frac{1}{2} \\, \\sqrt{2} {\\left(s_{5}^{2}\\right)}^{\\frac{1}{4}}\\right\\}</script></html>"
      ],
      "text/latex": [
       "$$\\newcommand{\\Bold}[1]{\\mathbf{#1}}\\left\\{c : -\\frac{7}{4} \\, \\sqrt{s_{5}^{2}}, d_{0} : \\frac{1}{2} \\, \\sqrt{s_{5}^{2}}, d_{2} : \\frac{5}{4} \\, \\sqrt{s_{5}^{2}}, d_{5} : \\frac{3}{2} \\, \\sqrt{s_{5}^{2}}, s_{0} : {\\left(s_{5}^{2}\\right)}^{\\frac{1}{4}}, s_{2} : -\\frac{1}{2} \\, \\sqrt{2} {\\left(s_{5}^{2}\\right)}^{\\frac{1}{4}}\\right\\}$$"
      ],
      "text/plain": [
       "{c: -7/4*sqrt(s5^2),\n",
       " d0: 1/2*sqrt(s5^2),\n",
       " d2: 5/4*sqrt(s5^2),\n",
       " d5: 3/2*sqrt(s5^2),\n",
       " s0: (s5^2)^(1/4),\n",
       " s2: -1/2*sqrt(2)*(s5^2)^(1/4)}"
      ]
     },
     "metadata": {},
     "output_type": "display_data"
    },
    {
     "data": {
      "text/html": [
       "<html><script type=\"math/tex; mode=display\">\\newcommand{\\Bold}[1]{\\mathbf{#1}}\\left\\{c : -\\frac{7}{4} \\, \\sqrt{s_{5}^{2}}, d_{0} : \\frac{1}{2} \\, \\sqrt{s_{5}^{2}}, d_{2} : \\frac{5}{4} \\, \\sqrt{s_{5}^{2}}, d_{5} : \\frac{3}{2} \\, \\sqrt{s_{5}^{2}}, s_{0} : {\\left(s_{5}^{2}\\right)}^{\\frac{1}{4}}, s_{2} : \\frac{1}{2} \\, \\sqrt{2} {\\left(s_{5}^{2}\\right)}^{\\frac{1}{4}}\\right\\}</script></html>"
      ],
      "text/latex": [
       "$$\\newcommand{\\Bold}[1]{\\mathbf{#1}}\\left\\{c : -\\frac{7}{4} \\, \\sqrt{s_{5}^{2}}, d_{0} : \\frac{1}{2} \\, \\sqrt{s_{5}^{2}}, d_{2} : \\frac{5}{4} \\, \\sqrt{s_{5}^{2}}, d_{5} : \\frac{3}{2} \\, \\sqrt{s_{5}^{2}}, s_{0} : {\\left(s_{5}^{2}\\right)}^{\\frac{1}{4}}, s_{2} : \\frac{1}{2} \\, \\sqrt{2} {\\left(s_{5}^{2}\\right)}^{\\frac{1}{4}}\\right\\}$$"
      ],
      "text/plain": [
       "{c: -7/4*sqrt(s5^2),\n",
       " d0: 1/2*sqrt(s5^2),\n",
       " d2: 5/4*sqrt(s5^2),\n",
       " d5: 3/2*sqrt(s5^2),\n",
       " s0: (s5^2)^(1/4),\n",
       " s2: 1/2*sqrt(2)*(s5^2)^(1/4)}"
      ]
     },
     "metadata": {},
     "output_type": "display_data"
    },
    {
     "data": {
      "text/html": [
       "<html><script type=\"math/tex; mode=display\">\\newcommand{\\Bold}[1]{\\mathbf{#1}}\\left\\{c : \\frac{7}{4} \\, \\sqrt{s_{5}^{2}}, d_{0} : -\\frac{1}{2} \\, \\sqrt{s_{5}^{2}}, d_{2} : -\\frac{5}{4} \\, \\sqrt{s_{5}^{2}}, d_{5} : -\\frac{3}{2} \\, \\sqrt{s_{5}^{2}}, s_{0} : -\\sqrt{-\\sqrt{s_{5}^{2}}}, s_{2} : -\\frac{1}{2} i \\, \\sqrt{2} {\\left(s_{5}^{2}\\right)}^{\\frac{1}{4}}\\right\\}</script></html>"
      ],
      "text/latex": [
       "$$\\newcommand{\\Bold}[1]{\\mathbf{#1}}\\left\\{c : \\frac{7}{4} \\, \\sqrt{s_{5}^{2}}, d_{0} : -\\frac{1}{2} \\, \\sqrt{s_{5}^{2}}, d_{2} : -\\frac{5}{4} \\, \\sqrt{s_{5}^{2}}, d_{5} : -\\frac{3}{2} \\, \\sqrt{s_{5}^{2}}, s_{0} : -\\sqrt{-\\sqrt{s_{5}^{2}}}, s_{2} : -\\frac{1}{2} i \\, \\sqrt{2} {\\left(s_{5}^{2}\\right)}^{\\frac{1}{4}}\\right\\}$$"
      ],
      "text/plain": [
       "{c: 7/4*sqrt(s5^2),\n",
       " d0: -1/2*sqrt(s5^2),\n",
       " d2: -5/4*sqrt(s5^2),\n",
       " d5: -3/2*sqrt(s5^2),\n",
       " s0: -sqrt(-sqrt(s5^2)),\n",
       " s2: -1/2*I*sqrt(2)*(s5^2)^(1/4)}"
      ]
     },
     "metadata": {},
     "output_type": "display_data"
    },
    {
     "data": {
      "text/html": [
       "<html><script type=\"math/tex; mode=display\">\\newcommand{\\Bold}[1]{\\mathbf{#1}}\\left\\{c : \\frac{7}{4} \\, \\sqrt{s_{5}^{2}}, d_{0} : -\\frac{1}{2} \\, \\sqrt{s_{5}^{2}}, d_{2} : -\\frac{5}{4} \\, \\sqrt{s_{5}^{2}}, d_{5} : -\\frac{3}{2} \\, \\sqrt{s_{5}^{2}}, s_{0} : -\\sqrt{-\\sqrt{s_{5}^{2}}}, s_{2} : \\frac{1}{2} i \\, \\sqrt{2} {\\left(s_{5}^{2}\\right)}^{\\frac{1}{4}}\\right\\}</script></html>"
      ],
      "text/latex": [
       "$$\\newcommand{\\Bold}[1]{\\mathbf{#1}}\\left\\{c : \\frac{7}{4} \\, \\sqrt{s_{5}^{2}}, d_{0} : -\\frac{1}{2} \\, \\sqrt{s_{5}^{2}}, d_{2} : -\\frac{5}{4} \\, \\sqrt{s_{5}^{2}}, d_{5} : -\\frac{3}{2} \\, \\sqrt{s_{5}^{2}}, s_{0} : -\\sqrt{-\\sqrt{s_{5}^{2}}}, s_{2} : \\frac{1}{2} i \\, \\sqrt{2} {\\left(s_{5}^{2}\\right)}^{\\frac{1}{4}}\\right\\}$$"
      ],
      "text/plain": [
       "{c: 7/4*sqrt(s5^2),\n",
       " d0: -1/2*sqrt(s5^2),\n",
       " d2: -5/4*sqrt(s5^2),\n",
       " d5: -3/2*sqrt(s5^2),\n",
       " s0: -sqrt(-sqrt(s5^2)),\n",
       " s2: 1/2*I*sqrt(2)*(s5^2)^(1/4)}"
      ]
     },
     "metadata": {},
     "output_type": "display_data"
    },
    {
     "data": {
      "text/html": [
       "<html><script type=\"math/tex; mode=display\">\\newcommand{\\Bold}[1]{\\mathbf{#1}}\\left\\{c : \\frac{7}{4} \\, \\sqrt{s_{5}^{2}}, d_{0} : -\\frac{1}{2} \\, \\sqrt{s_{5}^{2}}, d_{2} : -\\frac{5}{4} \\, \\sqrt{s_{5}^{2}}, d_{5} : -\\frac{3}{2} \\, \\sqrt{s_{5}^{2}}, s_{0} : \\sqrt{-\\sqrt{s_{5}^{2}}}, s_{2} : -\\frac{1}{2} i \\, \\sqrt{2} {\\left(s_{5}^{2}\\right)}^{\\frac{1}{4}}\\right\\}</script></html>"
      ],
      "text/latex": [
       "$$\\newcommand{\\Bold}[1]{\\mathbf{#1}}\\left\\{c : \\frac{7}{4} \\, \\sqrt{s_{5}^{2}}, d_{0} : -\\frac{1}{2} \\, \\sqrt{s_{5}^{2}}, d_{2} : -\\frac{5}{4} \\, \\sqrt{s_{5}^{2}}, d_{5} : -\\frac{3}{2} \\, \\sqrt{s_{5}^{2}}, s_{0} : \\sqrt{-\\sqrt{s_{5}^{2}}}, s_{2} : -\\frac{1}{2} i \\, \\sqrt{2} {\\left(s_{5}^{2}\\right)}^{\\frac{1}{4}}\\right\\}$$"
      ],
      "text/plain": [
       "{c: 7/4*sqrt(s5^2),\n",
       " d0: -1/2*sqrt(s5^2),\n",
       " d2: -5/4*sqrt(s5^2),\n",
       " d5: -3/2*sqrt(s5^2),\n",
       " s0: sqrt(-sqrt(s5^2)),\n",
       " s2: -1/2*I*sqrt(2)*(s5^2)^(1/4)}"
      ]
     },
     "metadata": {},
     "output_type": "display_data"
    },
    {
     "data": {
      "text/html": [
       "<html><script type=\"math/tex; mode=display\">\\newcommand{\\Bold}[1]{\\mathbf{#1}}\\left\\{c : \\frac{7}{4} \\, \\sqrt{s_{5}^{2}}, d_{0} : -\\frac{1}{2} \\, \\sqrt{s_{5}^{2}}, d_{2} : -\\frac{5}{4} \\, \\sqrt{s_{5}^{2}}, d_{5} : -\\frac{3}{2} \\, \\sqrt{s_{5}^{2}}, s_{0} : \\sqrt{-\\sqrt{s_{5}^{2}}}, s_{2} : \\frac{1}{2} i \\, \\sqrt{2} {\\left(s_{5}^{2}\\right)}^{\\frac{1}{4}}\\right\\}</script></html>"
      ],
      "text/latex": [
       "$$\\newcommand{\\Bold}[1]{\\mathbf{#1}}\\left\\{c : \\frac{7}{4} \\, \\sqrt{s_{5}^{2}}, d_{0} : -\\frac{1}{2} \\, \\sqrt{s_{5}^{2}}, d_{2} : -\\frac{5}{4} \\, \\sqrt{s_{5}^{2}}, d_{5} : -\\frac{3}{2} \\, \\sqrt{s_{5}^{2}}, s_{0} : \\sqrt{-\\sqrt{s_{5}^{2}}}, s_{2} : \\frac{1}{2} i \\, \\sqrt{2} {\\left(s_{5}^{2}\\right)}^{\\frac{1}{4}}\\right\\}$$"
      ],
      "text/plain": [
       "{c: 7/4*sqrt(s5^2),\n",
       " d0: -1/2*sqrt(s5^2),\n",
       " d2: -5/4*sqrt(s5^2),\n",
       " d5: -3/2*sqrt(s5^2),\n",
       " s0: sqrt(-sqrt(s5^2)),\n",
       " s2: 1/2*I*sqrt(2)*(s5^2)^(1/4)}"
      ]
     },
     "metadata": {},
     "output_type": "display_data"
    }
   ],
   "source": [
    "g_diag_vars = list(set(Sigma.diagonal()) - {1})\n",
    "incg = [c] + der_vars_diag + g_diag_vars\n",
    "display(incg)\n",
    "nilsoliton_sols = solve(nilsoliton_eqs, incg, algorithm='sympy')\n",
    "for sol in nilsoliton_sols:\n",
    "    display(sol)"
   ]
  },
  {
   "cell_type": "markdown",
   "metadata": {},
   "source": [
    "Since $g = g_\\sigma$ with $\\sigma \\in \\Sigma \\subset \\rm T_6^+$ the only meaningful solution is the fourth one. Warning: the place of the meaningful solution in `nilsoliton_sols` may vary."
   ]
  },
  {
   "cell_type": "code",
   "execution_count": 19,
   "metadata": {},
   "outputs": [
    {
     "data": {
      "text/html": [
       "<html>\\(\\displaystyle \\left(\\begin{array}{rrrrrr}\n",
       "1 & 0 & 0 & 0 & 0 & 0 \\\\\n",
       "0 & 1 & 0 & 0 & 0 & 0 \\\\\n",
       "0 & 0 & 1 & 0 & 0 & 0 \\\\\n",
       "0 & 0 & 0 & s_{5} & 0 & 0 \\\\\n",
       "0 & 0 & 0 & 0 & \\frac{1}{2} \\, s_{5} & 0 \\\\\n",
       "0 & 0 & 0 & 0 & 0 & s_{5}^{2}\n",
       "\\end{array}\\right)\\)</html>"
      ],
      "text/latex": [
       "$\\displaystyle \\left(\\begin{array}{rrrrrr}\n",
       "1 & 0 & 0 & 0 & 0 & 0 \\\\\n",
       "0 & 1 & 0 & 0 & 0 & 0 \\\\\n",
       "0 & 0 & 1 & 0 & 0 & 0 \\\\\n",
       "0 & 0 & 0 & s_{5} & 0 & 0 \\\\\n",
       "0 & 0 & 0 & 0 & \\frac{1}{2} \\, s_{5} & 0 \\\\\n",
       "0 & 0 & 0 & 0 & 0 & s_{5}^{2}\n",
       "\\end{array}\\right)$"
      ],
      "text/plain": [
       "[     1      0      0      0      0      0]\n",
       "[     0      1      0      0      0      0]\n",
       "[     0      0      1      0      0      0]\n",
       "[     0      0      0     s5      0      0]\n",
       "[     0      0      0      0 1/2*s5      0]\n",
       "[     0      0      0      0      0   s5^2]"
      ]
     },
     "execution_count": 19,
     "metadata": {},
     "output_type": "execute_result"
    }
   ],
   "source": [
    "g_nil = g_diag.subs(nilsoliton_sols[3]).canonicalize_radical()\n",
    "Sigma_nil = Sigma_diag.subs(nilsoliton_sols[3]).canonicalize_radical()\n",
    "ip_nil = inner_product_from_matrix(alg, g_nil)\n",
    "g_nil"
   ]
  },
  {
   "cell_type": "markdown",
   "metadata": {},
   "source": [
    "It follows from Theorem 6.4 that the nilsoliton metrics have nontrivial index of symmetry."
   ]
  },
  {
   "cell_type": "code",
   "execution_count": 22,
   "metadata": {},
   "outputs": [
    {
     "data": {
      "text/html": [
       "<html><script type=\"math/tex; mode=display\">\\newcommand{\\Bold}[1]{\\mathbf{#1}}\\left(\\left(\\begin{array}{rrrrrr}\n",
       "1 & 0 & 0 & 0 & 0 & 0 \\\\\n",
       "0 & 1 & 0 & 0 & 0 & 0 \\\\\n",
       "0 & 0 & 1 & 0 & 0 & 0 \\\\\n",
       "0 & 0 & 0 & s_{0} & 0 & 0 \\\\\n",
       "0 & 0 & 0 & s_{1} & s_{2} & 0 \\\\\n",
       "0 & 0 & 0 & s_{3} & s_{4} & s_{5}\n",
       "\\end{array}\\right), \\left(\\begin{array}{rrrrrr}\n",
       "1 & 0 & 0 & 0 & 0 & 0 \\\\\n",
       "0 & 1 & 0 & 0 & 0 & 0 \\\\\n",
       "0 & 0 & \\sqrt{2} \\sqrt{s_{5}} & 0 & 0 & 0 \\\\\n",
       "0 & 0 & 0 & 1 & 0 & 0 \\\\\n",
       "0 & 0 & 0 & 0 & \\sqrt{s_{5}} & 0 \\\\\n",
       "0 & 0 & 0 & 0 & 0 & s_{5}\n",
       "\\end{array}\\right)\\right)</script></html>"
      ],
      "text/latex": [
       "$$\\newcommand{\\Bold}[1]{\\mathbf{#1}}\\left(\\left(\\begin{array}{rrrrrr}\n",
       "1 & 0 & 0 & 0 & 0 & 0 \\\\\n",
       "0 & 1 & 0 & 0 & 0 & 0 \\\\\n",
       "0 & 0 & 1 & 0 & 0 & 0 \\\\\n",
       "0 & 0 & 0 & s_{0} & 0 & 0 \\\\\n",
       "0 & 0 & 0 & s_{1} & s_{2} & 0 \\\\\n",
       "0 & 0 & 0 & s_{3} & s_{4} & s_{5}\n",
       "\\end{array}\\right), \\left(\\begin{array}{rrrrrr}\n",
       "1 & 0 & 0 & 0 & 0 & 0 \\\\\n",
       "0 & 1 & 0 & 0 & 0 & 0 \\\\\n",
       "0 & 0 & \\sqrt{2} \\sqrt{s_{5}} & 0 & 0 & 0 \\\\\n",
       "0 & 0 & 0 & 1 & 0 & 0 \\\\\n",
       "0 & 0 & 0 & 0 & \\sqrt{s_{5}} & 0 \\\\\n",
       "0 & 0 & 0 & 0 & 0 & s_{5}\n",
       "\\end{array}\\right)\\right)$$"
      ],
      "text/plain": [
       "(\n",
       "[ 1  0  0  0  0  0]  [               1                0                0                0                0                0]\n",
       "[ 0  1  0  0  0  0]  [               0                1                0                0                0                0]\n",
       "[ 0  0  1  0  0  0]  [               0                0 sqrt(2)*sqrt(s5)                0                0                0]\n",
       "[ 0  0  0 s0  0  0]  [               0                0                0                1                0                0]\n",
       "[ 0  0  0 s1 s2  0]  [               0                0                0                0         sqrt(s5)                0]\n",
       "[ 0  0  0 s3 s4 s5], [               0                0                0                0                0               s5]\n",
       ")"
      ]
     },
     "execution_count": 22,
     "metadata": {},
     "output_type": "execute_result"
    }
   ],
   "source": [
    "Sigma, Sigma_nil"
   ]
  },
  {
   "cell_type": "markdown",
   "metadata": {},
   "source": [
    "### Isometry with the nilsoliton metric given in [Will11]\n",
    "\n",
    "The nilsoliton metric from the 2011 paper of Will which is isomorphic to $\\mathfrak h_{10}$ is the number 23 given by $(0, 0, 0, 2^\\frac12 \\mathbf{12}, \\mathbf{13}, 2^\\frac12 \\mathbf{14})$."
   ]
  },
  {
   "cell_type": "code",
   "execution_count": 23,
   "metadata": {},
   "outputs": [
    {
     "name": "stdout",
     "output_type": "stream",
     "text": [
      "('x1', 'x2')  =  sqrt(2)*x4\n",
      "('x1', 'x3')  =  x5\n",
      "('x1', 'x4')  =  sqrt(2)*x6\n"
     ]
    }
   ],
   "source": [
    "d_h = {('x1', 'x2'): {'x4': sqrt(2)}, ('x1', 'x3'): {'x5': 1}, ('x1', 'x4'): {'x6': sqrt(2)}} \n",
    "hh_will.<x1,x2,x3,x4,x5,x6> = LieAlgebra(SR, d_h, nilpotent=True) \n",
    "#hh_will_dim = hh_will.dimension()\n",
    "for kk in hh_will.structure_coefficients().keys():\n",
    "    print(kk, \" = \", hh_will.structure_coefficients()[kk])"
   ]
  },
  {
   "cell_type": "markdown",
   "metadata": {},
   "source": [
    "Notice that the basis $x_1, \\ldots, x_6$ is orthonormal by definition. We propose the following isomorphism between `hh_will` and `alg`."
   ]
  },
  {
   "cell_type": "code",
   "execution_count": 24,
   "metadata": {},
   "outputs": [
    {
     "data": {
      "text/html": [
       "<html><script type=\"math/tex; mode=display\">\\newcommand{\\Bold}[1]{\\mathbf{#1}}\\begin{array}{l}\n",
       "\\verb|Lie|\\phantom{\\verb!x!}\\verb|algebra|\\phantom{\\verb!x!}\\verb|morphism:|\\\\\n",
       "\\phantom{\\verb!xx!}\\verb|From:|\\phantom{\\verb!x!}\\verb|Nilpotent|\\phantom{\\verb!x!}\\verb|Lie|\\phantom{\\verb!x!}\\verb|algebra|\\phantom{\\verb!x!}\\verb|on|\\phantom{\\verb!x!}\\verb|6|\\phantom{\\verb!x!}\\verb|generators|\\phantom{\\verb!x!}\\verb|(x1,|\\phantom{\\verb!x!}\\verb|x2,|\\phantom{\\verb!x!}\\verb|x3,|\\phantom{\\verb!x!}\\verb|x4,|\\phantom{\\verb!x!}\\verb|x5,|\\phantom{\\verb!x!}\\verb|x6)|\\phantom{\\verb!x!}\\verb|over|\\phantom{\\verb!x!}\\verb|Symbolic|\\phantom{\\verb!x!}\\verb|Ring|\\\\\n",
       "\\phantom{\\verb!xx!}\\verb|To:|\\phantom{\\verb!xxx!}\\verb|Nilpotent|\\phantom{\\verb!x!}\\verb|Lie|\\phantom{\\verb!x!}\\verb|algebra|\\phantom{\\verb!x!}\\verb|on|\\phantom{\\verb!x!}\\verb|6|\\phantom{\\verb!x!}\\verb|generators|\\phantom{\\verb!x!}\\verb|(e1,|\\phantom{\\verb!x!}\\verb|e2,|\\phantom{\\verb!x!}\\verb|e3,|\\phantom{\\verb!x!}\\verb|e4,|\\phantom{\\verb!x!}\\verb|e5,|\\phantom{\\verb!x!}\\verb|e6)|\\phantom{\\verb!x!}\\verb|over|\\phantom{\\verb!x!}\\verb|Symbolic|\\phantom{\\verb!x!}\\verb|Ring|\\\\\n",
       "\\phantom{\\verb!xx!}\\verb\"Defn:\"\\phantom{\\verb!x!}\\verb\"x1\"\\phantom{\\verb!x!}\\verb\"|-->\"\\phantom{\\verb!x!}\\verb\"e1\"\\\\\n",
       "\\phantom{\\verb!xxxxxxxx!}\\verb\"x2\"\\phantom{\\verb!x!}\\verb\"|-->\"\\phantom{\\verb!x!}\\verb\"e2\"\\\\\n",
       "\\phantom{\\verb!xxxxxxxx!}\\verb\"x3\"\\phantom{\\verb!x!}\\verb\"|-->\"\\phantom{\\verb!x!}\\verb\"e3\"\\\\\n",
       "\\phantom{\\verb!xxxxxxxx!}\\verb\"x4\"\\phantom{\\verb!x!}\\verb\"|-->\"\\phantom{\\verb!x!}\\verb\"-1/2*sqrt(2)*e4\"\\\\\n",
       "\\phantom{\\verb!xxxxxxxx!}\\verb\"x5\"\\phantom{\\verb!x!}\\verb\"|-->\"\\phantom{\\verb!x!}\\verb\"-e5\"\\\\\n",
       "\\phantom{\\verb!xxxxxxxx!}\\verb\"x6\"\\phantom{\\verb!x!}\\verb\"|-->\"\\phantom{\\verb!x!}\\verb\"1/2*e6\"\n",
       "\\end{array}</script></html>"
      ],
      "text/latex": [
       "$$\\newcommand{\\Bold}[1]{\\mathbf{#1}}\\begin{array}{l}\n",
       "\\verb|Lie|\\phantom{\\verb!x!}\\verb|algebra|\\phantom{\\verb!x!}\\verb|morphism:|\\\\\n",
       "\\phantom{\\verb!xx!}\\verb|From:|\\phantom{\\verb!x!}\\verb|Nilpotent|\\phantom{\\verb!x!}\\verb|Lie|\\phantom{\\verb!x!}\\verb|algebra|\\phantom{\\verb!x!}\\verb|on|\\phantom{\\verb!x!}\\verb|6|\\phantom{\\verb!x!}\\verb|generators|\\phantom{\\verb!x!}\\verb|(x1,|\\phantom{\\verb!x!}\\verb|x2,|\\phantom{\\verb!x!}\\verb|x3,|\\phantom{\\verb!x!}\\verb|x4,|\\phantom{\\verb!x!}\\verb|x5,|\\phantom{\\verb!x!}\\verb|x6)|\\phantom{\\verb!x!}\\verb|over|\\phantom{\\verb!x!}\\verb|Symbolic|\\phantom{\\verb!x!}\\verb|Ring|\\\\\n",
       "\\phantom{\\verb!xx!}\\verb|To:|\\phantom{\\verb!xxx!}\\verb|Nilpotent|\\phantom{\\verb!x!}\\verb|Lie|\\phantom{\\verb!x!}\\verb|algebra|\\phantom{\\verb!x!}\\verb|on|\\phantom{\\verb!x!}\\verb|6|\\phantom{\\verb!x!}\\verb|generators|\\phantom{\\verb!x!}\\verb|(e1,|\\phantom{\\verb!x!}\\verb|e2,|\\phantom{\\verb!x!}\\verb|e3,|\\phantom{\\verb!x!}\\verb|e4,|\\phantom{\\verb!x!}\\verb|e5,|\\phantom{\\verb!x!}\\verb|e6)|\\phantom{\\verb!x!}\\verb|over|\\phantom{\\verb!x!}\\verb|Symbolic|\\phantom{\\verb!x!}\\verb|Ring|\\\\\n",
       "\\phantom{\\verb!xx!}\\verb\"Defn:\"\\phantom{\\verb!x!}\\verb\"x1\"\\phantom{\\verb!x!}\\verb\"|-->\"\\phantom{\\verb!x!}\\verb\"e1\"\\\\\n",
       "\\phantom{\\verb!xxxxxxxx!}\\verb\"x2\"\\phantom{\\verb!x!}\\verb\"|-->\"\\phantom{\\verb!x!}\\verb\"e2\"\\\\\n",
       "\\phantom{\\verb!xxxxxxxx!}\\verb\"x3\"\\phantom{\\verb!x!}\\verb\"|-->\"\\phantom{\\verb!x!}\\verb\"e3\"\\\\\n",
       "\\phantom{\\verb!xxxxxxxx!}\\verb\"x4\"\\phantom{\\verb!x!}\\verb\"|-->\"\\phantom{\\verb!x!}\\verb\"-1/2*sqrt(2)*e4\"\\\\\n",
       "\\phantom{\\verb!xxxxxxxx!}\\verb\"x5\"\\phantom{\\verb!x!}\\verb\"|-->\"\\phantom{\\verb!x!}\\verb\"-e5\"\\\\\n",
       "\\phantom{\\verb!xxxxxxxx!}\\verb\"x6\"\\phantom{\\verb!x!}\\verb\"|-->\"\\phantom{\\verb!x!}\\verb\"1/2*e6\"\n",
       "\\end{array}$$"
      ],
      "text/plain": [
       "Lie algebra morphism:\n",
       "  From: Nilpotent Lie algebra on 6 generators (x1, x2, x3, x4, x5, x6) over Symbolic Ring\n",
       "  To:   Nilpotent Lie algebra on 6 generators (e1, e2, e3, e4, e5, e6) over Symbolic Ring\n",
       "  Defn: x1 |--> e1\n",
       "        x2 |--> e2\n",
       "        x3 |--> e3\n",
       "        x4 |--> -1/2*sqrt(2)*e4\n",
       "        x5 |--> -e5\n",
       "        x6 |--> 1/2*e6"
      ]
     },
     "execution_count": 24,
     "metadata": {},
     "output_type": "execute_result"
    }
   ],
   "source": [
    "e1, e2, e3, e4, e5, e6 = alg.basis()\n",
    "f1, f2, f3, f4, f5, f6 = e1, e2, e3, -1/sqrt(2)*e4, -e5, 1/2*e6\n",
    "hh_will.morphism({x1:f1, x2:f2, x3:f3, x4:f4, x5:f5, x6:f6})"
   ]
  },
  {
   "cell_type": "markdown",
   "metadata": {},
   "source": [
    "We choose $s_5$ in order to make this isomorphism and isometry. "
   ]
  },
  {
   "cell_type": "code",
   "execution_count": 25,
   "metadata": {},
   "outputs": [
    {
     "data": {
      "text/html": [
       "<html><script type=\"math/tex; mode=display\">\\newcommand{\\Bold}[1]{\\mathbf{#1}}\\left(\\begin{array}{rrrrrr}\n",
       "1 & 0 & 0 & 0 & 0 & 0 \\\\\n",
       "0 & 1 & 0 & 0 & 0 & 0 \\\\\n",
       "0 & 0 & 2 \\, s_{5} & 0 & 0 & 0 \\\\\n",
       "0 & 0 & 0 & \\frac{1}{2} & 0 & 0 \\\\\n",
       "0 & 0 & 0 & 0 & s_{5} & 0 \\\\\n",
       "0 & 0 & 0 & 0 & 0 & \\frac{1}{4} \\, s_{5}^{2}\n",
       "\\end{array}\\right)</script></html>"
      ],
      "text/latex": [
       "$$\\newcommand{\\Bold}[1]{\\mathbf{#1}}\\left(\\begin{array}{rrrrrr}\n",
       "1 & 0 & 0 & 0 & 0 & 0 \\\\\n",
       "0 & 1 & 0 & 0 & 0 & 0 \\\\\n",
       "0 & 0 & 2 \\, s_{5} & 0 & 0 & 0 \\\\\n",
       "0 & 0 & 0 & \\frac{1}{2} & 0 & 0 \\\\\n",
       "0 & 0 & 0 & 0 & s_{5} & 0 \\\\\n",
       "0 & 0 & 0 & 0 & 0 & \\frac{1}{4} \\, s_{5}^{2}\n",
       "\\end{array}\\right)$$"
      ],
      "text/plain": [
       "[       1        0        0        0        0        0]\n",
       "[       0        1        0        0        0        0]\n",
       "[       0        0     2*s5        0        0        0]\n",
       "[       0        0        0      1/2        0        0]\n",
       "[       0        0        0        0       s5        0]\n",
       "[       0        0        0        0        0 1/4*s5^2]"
      ]
     },
     "execution_count": 25,
     "metadata": {},
     "output_type": "execute_result"
    }
   ],
   "source": [
    "on_basis_nil = [f1, f2, f3, f4, f5, f6]\n",
    "matrix(6, 6, lambda i, j: ip_nil(on_basis_nil[i], on_basis_nil[j])).canonicalize_radical()"
   ]
  },
  {
   "cell_type": "markdown",
   "metadata": {},
   "source": [
    "So it follows that $s_5 = 2$."
   ]
  },
  {
   "cell_type": "code",
   "execution_count": 26,
   "metadata": {},
   "outputs": [
    {
     "data": {
      "text/html": [
       "<html><script type=\"math/tex; mode=display\">\\newcommand{\\Bold}[1]{\\mathbf{#1}}\\left(\\begin{array}{rrrrrr}\n",
       "1 & 0 & 0 & 0 & 0 & 0 \\\\\n",
       "0 & 1 & 0 & 0 & 0 & 0 \\\\\n",
       "0 & 0 & 4 & 0 & 0 & 0 \\\\\n",
       "0 & 0 & 0 & 1 & 0 & 0 \\\\\n",
       "0 & 0 & 0 & 0 & 2 & 0 \\\\\n",
       "0 & 0 & 0 & 0 & 0 & 4\n",
       "\\end{array}\\right)</script></html>"
      ],
      "text/latex": [
       "$$\\newcommand{\\Bold}[1]{\\mathbf{#1}}\\left(\\begin{array}{rrrrrr}\n",
       "1 & 0 & 0 & 0 & 0 & 0 \\\\\n",
       "0 & 1 & 0 & 0 & 0 & 0 \\\\\n",
       "0 & 0 & 4 & 0 & 0 & 0 \\\\\n",
       "0 & 0 & 0 & 1 & 0 & 0 \\\\\n",
       "0 & 0 & 0 & 0 & 2 & 0 \\\\\n",
       "0 & 0 & 0 & 0 & 0 & 4\n",
       "\\end{array}\\right)$$"
      ],
      "text/plain": [
       "[1 0 0 0 0 0]\n",
       "[0 1 0 0 0 0]\n",
       "[0 0 4 0 0 0]\n",
       "[0 0 0 1 0 0]\n",
       "[0 0 0 0 2 0]\n",
       "[0 0 0 0 0 4]"
      ]
     },
     "execution_count": 26,
     "metadata": {},
     "output_type": "execute_result"
    }
   ],
   "source": [
    "g_will = g_nil.subs(s5=2)\n",
    "g_will"
   ]
  },
  {
   "cell_type": "markdown",
   "metadata": {},
   "source": [
    "## Case $\\mathfrak h_{21}$"
   ]
  },
  {
   "cell_type": "code",
   "execution_count": 27,
   "metadata": {},
   "outputs": [
    {
     "name": "stdout",
     "output_type": "stream",
     "text": [
      "CPU times: user 4.67 s, sys: 31 ms, total: 4.7 s\n",
      "Wall time: 4.23 s\n"
     ]
    },
    {
     "data": {
      "text/html": [
       "<html><script type=\"math/tex; mode=display\">\\newcommand{\\Bold}[1]{\\mathbf{#1}}\\left(\\left(\\begin{array}{rrrrrr}\n",
       "1 & 0 & 0 & 0 & 0 & 0 \\\\\n",
       "0 & 1 & 0 & 0 & 0 & 0 \\\\\n",
       "0 & 0 & s_{0}^{2} + s_{2}^{2} + 1 & s_{0} s_{1} + s_{2} s_{3} & s_{2} s_{4} & 0 \\\\\n",
       "0 & 0 & s_{0} s_{1} + s_{2} s_{3} & s_{1}^{2} + s_{3}^{2} + s_{5}^{2} & s_{3} s_{4} + s_{5} s_{6} & s_{5} s_{7} \\\\\n",
       "0 & 0 & s_{2} s_{4} & s_{3} s_{4} + s_{5} s_{6} & s_{4}^{2} + s_{6}^{2} & s_{6} s_{7} \\\\\n",
       "0 & 0 & 0 & s_{5} s_{7} & s_{6} s_{7} & s_{7}^{2}\n",
       "\\end{array}\\right), \\left(\\begin{array}{rrrrrr}\n",
       "1 & 0 & 0 & 0 & 0 & 0 \\\\\n",
       "0 & 1 & 0 & 0 & 0 & 0 \\\\\n",
       "0 & 0 & 1 & 0 & 0 & 0 \\\\\n",
       "0 & 0 & s_{0} & s_{1} & 0 & 0 \\\\\n",
       "0 & 0 & s_{2} & s_{3} & s_{4} & 0 \\\\\n",
       "0 & 0 & 0 & s_{5} & s_{6} & s_{7}\n",
       "\\end{array}\\right)\\right)</script></html>"
      ],
      "text/latex": [
       "$$\\newcommand{\\Bold}[1]{\\mathbf{#1}}\\left(\\left(\\begin{array}{rrrrrr}\n",
       "1 & 0 & 0 & 0 & 0 & 0 \\\\\n",
       "0 & 1 & 0 & 0 & 0 & 0 \\\\\n",
       "0 & 0 & s_{0}^{2} + s_{2}^{2} + 1 & s_{0} s_{1} + s_{2} s_{3} & s_{2} s_{4} & 0 \\\\\n",
       "0 & 0 & s_{0} s_{1} + s_{2} s_{3} & s_{1}^{2} + s_{3}^{2} + s_{5}^{2} & s_{3} s_{4} + s_{5} s_{6} & s_{5} s_{7} \\\\\n",
       "0 & 0 & s_{2} s_{4} & s_{3} s_{4} + s_{5} s_{6} & s_{4}^{2} + s_{6}^{2} & s_{6} s_{7} \\\\\n",
       "0 & 0 & 0 & s_{5} s_{7} & s_{6} s_{7} & s_{7}^{2}\n",
       "\\end{array}\\right), \\left(\\begin{array}{rrrrrr}\n",
       "1 & 0 & 0 & 0 & 0 & 0 \\\\\n",
       "0 & 1 & 0 & 0 & 0 & 0 \\\\\n",
       "0 & 0 & 1 & 0 & 0 & 0 \\\\\n",
       "0 & 0 & s_{0} & s_{1} & 0 & 0 \\\\\n",
       "0 & 0 & s_{2} & s_{3} & s_{4} & 0 \\\\\n",
       "0 & 0 & 0 & s_{5} & s_{6} & s_{7}\n",
       "\\end{array}\\right)\\right)$$"
      ],
      "text/plain": [
       "(\n",
       "[                 1                  0                  0                  0                  0                  0]\n",
       "[                 0                  1                  0                  0                  0                  0]\n",
       "[                 0                  0    s0^2 + s2^2 + 1      s0*s1 + s2*s3              s2*s4                  0]\n",
       "[                 0                  0      s0*s1 + s2*s3 s1^2 + s3^2 + s5^2      s3*s4 + s5*s6              s5*s7]\n",
       "[                 0                  0              s2*s4      s3*s4 + s5*s6        s4^2 + s6^2              s6*s7]\n",
       "[                 0                  0                  0              s5*s7              s6*s7               s7^2],\n",
       "\n",
       "[ 1  0  0  0  0  0]\n",
       "[ 0  1  0  0  0  0]\n",
       "[ 0  0  1  0  0  0]\n",
       "[ 0  0 s0 s1  0  0]\n",
       "[ 0  0 s2 s3 s4  0]\n",
       "[ 0  0  0 s5 s6 s7]\n",
       ")"
      ]
     },
     "execution_count": 27,
     "metadata": {},
     "output_type": "execute_result"
    }
   ],
   "source": [
    "construct_the_algebra(\"h21\")\n",
    "%time generic_metric(alg_name) # long time\n",
    "g, Sigma"
   ]
  },
  {
   "cell_type": "markdown",
   "metadata": {},
   "source": [
    "We can avoid very long computations by working with diagonal metrics. "
   ]
  },
  {
   "cell_type": "code",
   "execution_count": 28,
   "metadata": {},
   "outputs": [
    {
     "data": {
      "text/html": [
       "<html><script type=\"math/tex; mode=display\">\\newcommand{\\Bold}[1]{\\mathbf{#1}}\\left(\\begin{array}{rrrrrr}\n",
       "1 & 0 & 0 & 0 & 0 & 0 \\\\\n",
       "0 & 1 & 0 & 0 & 0 & 0 \\\\\n",
       "0 & 0 & 1 & 0 & 0 & 0 \\\\\n",
       "0 & 0 & 0 & s_{1}^{2} & 0 & 0 \\\\\n",
       "0 & 0 & 0 & 0 & s_{4}^{2} & 0 \\\\\n",
       "0 & 0 & 0 & 0 & 0 & s_{7}^{2}\n",
       "\\end{array}\\right)</script></html>"
      ],
      "text/latex": [
       "$$\\newcommand{\\Bold}[1]{\\mathbf{#1}}\\left(\\begin{array}{rrrrrr}\n",
       "1 & 0 & 0 & 0 & 0 & 0 \\\\\n",
       "0 & 1 & 0 & 0 & 0 & 0 \\\\\n",
       "0 & 0 & 1 & 0 & 0 & 0 \\\\\n",
       "0 & 0 & 0 & s_{1}^{2} & 0 & 0 \\\\\n",
       "0 & 0 & 0 & 0 & s_{4}^{2} & 0 \\\\\n",
       "0 & 0 & 0 & 0 & 0 & s_{7}^{2}\n",
       "\\end{array}\\right)$$"
      ],
      "text/plain": [
       "[   1    0    0    0    0    0]\n",
       "[   0    1    0    0    0    0]\n",
       "[   0    0    1    0    0    0]\n",
       "[   0    0    0 s1^2    0    0]\n",
       "[   0    0    0    0 s4^2    0]\n",
       "[   0    0    0    0    0 s7^2]"
      ]
     },
     "execution_count": 28,
     "metadata": {},
     "output_type": "execute_result"
    }
   ],
   "source": [
    "g_diag = g.subs(s0=0,s2=0,s3=0,s5=0,s6=0)\n",
    "Sigma_diag = Sigma.subs(s0=0,s2=0,s3=0,s5=0,s6=0)\n",
    "g_diag"
   ]
  },
  {
   "cell_type": "markdown",
   "metadata": {},
   "source": [
    "Now we compute the Ricci tensor."
   ]
  },
  {
   "cell_type": "code",
   "execution_count": 29,
   "metadata": {},
   "outputs": [
    {
     "data": {
      "text/html": [
       "<html><script type=\"math/tex; mode=display\">\\newcommand{\\Bold}[1]{\\mathbf{#1}}\\left[e1, e2, e3, \\frac{1}{s_{1}}e4, \\frac{1}{s_{4}}e5, \\frac{1}{s_{7}}e6\\right]</script></html>"
      ],
      "text/latex": [
       "$$\\newcommand{\\Bold}[1]{\\mathbf{#1}}\\left[e1, e2, e3, \\frac{1}{s_{1}}e4, \\frac{1}{s_{4}}e5, \\frac{1}{s_{7}}e6\\right]$$"
      ],
      "text/plain": [
       "[e1, e2, e3, 1/s1*e4, 1/s4*e5, 1/s7*e6]"
      ]
     },
     "metadata": {},
     "output_type": "display_data"
    },
    {
     "data": {
      "text/html": [
       "<html><script type=\"math/tex; mode=display\">\\newcommand{\\Bold}[1]{\\mathbf{#1}}\\left(\\begin{array}{rrrrrr}\n",
       "-\\frac{1}{2} \\, s_{1}^{2} - \\frac{s_{4}^{2}}{2 \\, s_{1}^{2}} - \\frac{s_{7}^{2}}{2 \\, s_{4}^{2}} & 0 & 0 & 0 & 0 & 0 \\\\\n",
       "0 & -\\frac{1}{2} \\, s_{1}^{2} & 0 & 0 & 0 & 0 \\\\\n",
       "0 & 0 & 0 & 0 & 0 & 0 \\\\\n",
       "0 & 0 & 0 & \\frac{1}{2} \\, s_{1}^{2} - \\frac{s_{4}^{2}}{2 \\, s_{1}^{2}} & 0 & 0 \\\\\n",
       "0 & 0 & 0 & 0 & \\frac{s_{4}^{2}}{2 \\, s_{1}^{2}} - \\frac{s_{7}^{2}}{2 \\, s_{4}^{2}} & 0 \\\\\n",
       "0 & 0 & 0 & 0 & 0 & \\frac{s_{7}^{2}}{2 \\, s_{4}^{2}}\n",
       "\\end{array}\\right)</script></html>"
      ],
      "text/latex": [
       "$$\\newcommand{\\Bold}[1]{\\mathbf{#1}}\\left(\\begin{array}{rrrrrr}\n",
       "-\\frac{1}{2} \\, s_{1}^{2} - \\frac{s_{4}^{2}}{2 \\, s_{1}^{2}} - \\frac{s_{7}^{2}}{2 \\, s_{4}^{2}} & 0 & 0 & 0 & 0 & 0 \\\\\n",
       "0 & -\\frac{1}{2} \\, s_{1}^{2} & 0 & 0 & 0 & 0 \\\\\n",
       "0 & 0 & 0 & 0 & 0 & 0 \\\\\n",
       "0 & 0 & 0 & \\frac{1}{2} \\, s_{1}^{2} - \\frac{s_{4}^{2}}{2 \\, s_{1}^{2}} & 0 & 0 \\\\\n",
       "0 & 0 & 0 & 0 & \\frac{s_{4}^{2}}{2 \\, s_{1}^{2}} - \\frac{s_{7}^{2}}{2 \\, s_{4}^{2}} & 0 \\\\\n",
       "0 & 0 & 0 & 0 & 0 & \\frac{s_{7}^{2}}{2 \\, s_{4}^{2}}\n",
       "\\end{array}\\right)$$"
      ],
      "text/plain": [
       "[-1/2*s1^2 - 1/2*s4^2/s1^2 - 1/2*s7^2/s4^2                                         0                                         0                                         0                                         0                                         0]\n",
       "[                                        0                                 -1/2*s1^2                                         0                                         0                                         0                                         0]\n",
       "[                                        0                                         0                                         0                                         0                                         0                                         0]\n",
       "[                                        0                                         0                                         0                  1/2*s1^2 - 1/2*s4^2/s1^2                                         0                                         0]\n",
       "[                                        0                                         0                                         0                                         0             1/2*s4^2/s1^2 - 1/2*s7^2/s4^2                                         0]\n",
       "[                                        0                                         0                                         0                                         0                                         0                             1/2*s7^2/s4^2]"
      ]
     },
     "execution_count": 29,
     "metadata": {},
     "output_type": "execute_result"
    }
   ],
   "source": [
    "ip = inner_product_from_matrix(alg, g_diag)\n",
    "on_basis = gram_schmidt(alg, ip)\n",
    "display(on_basis)\n",
    "Ric_on_basis = Ric_on(alg, g_diag, on_basis)\n",
    "Ric_on_basis"
   ]
  },
  {
   "cell_type": "markdown",
   "metadata": {},
   "source": [
    "Now we solve equation $(*)$. Recall that the derivation $D$ can be assumed in diagonal form."
   ]
  },
  {
   "cell_type": "code",
   "execution_count": 30,
   "metadata": {},
   "outputs": [
    {
     "data": {
      "text/html": [
       "<html><script type=\"math/tex; mode=display\">\\newcommand{\\Bold}[1]{\\mathbf{#1}}\\left(\\begin{array}{rrrrrr}\n",
       "d_{0} & 0 & 0 & 0 & 0 & 0 \\\\\n",
       "0 & d_{2} & 0 & 0 & 0 & 0 \\\\\n",
       "0 & 0 & d_{5} & 0 & 0 & 0 \\\\\n",
       "0 & 0 & 0 & d_{0} + d_{2} & 0 & 0 \\\\\n",
       "0 & 0 & 0 & 0 & 2 \\, d_{0} + d_{2} & 0 \\\\\n",
       "0 & 0 & 0 & 0 & 0 & 3 \\, d_{0} + d_{2}\n",
       "\\end{array}\\right)</script></html>"
      ],
      "text/latex": [
       "$$\\newcommand{\\Bold}[1]{\\mathbf{#1}}\\left(\\begin{array}{rrrrrr}\n",
       "d_{0} & 0 & 0 & 0 & 0 & 0 \\\\\n",
       "0 & d_{2} & 0 & 0 & 0 & 0 \\\\\n",
       "0 & 0 & d_{5} & 0 & 0 & 0 \\\\\n",
       "0 & 0 & 0 & d_{0} + d_{2} & 0 & 0 \\\\\n",
       "0 & 0 & 0 & 0 & 2 \\, d_{0} + d_{2} & 0 \\\\\n",
       "0 & 0 & 0 & 0 & 0 & 3 \\, d_{0} + d_{2}\n",
       "\\end{array}\\right)$$"
      ],
      "text/plain": [
       "[       d0         0         0         0         0         0]\n",
       "[        0        d2         0         0         0         0]\n",
       "[        0         0        d5         0         0         0]\n",
       "[        0         0         0   d0 + d2         0         0]\n",
       "[        0         0         0         0 2*d0 + d2         0]\n",
       "[        0         0         0         0         0 3*d0 + d2]"
      ]
     },
     "metadata": {},
     "output_type": "display_data"
    },
    {
     "data": {
      "text/html": [
       "<html><script type=\"math/tex; mode=display\">\\newcommand{\\Bold}[1]{\\mathbf{#1}}\\left[-\\frac{1}{2} \\, s_{1}^{2} - c - d_{0} - \\frac{s_{4}^{2}}{2 \\, s_{1}^{2}} - \\frac{s_{7}^{2}}{2 \\, s_{4}^{2}}, -\\frac{1}{2} \\, s_{1}^{2} - c - d_{2}, -c - d_{5}, \\frac{1}{2} \\, s_{1}^{2} - c - d_{0} - d_{2} - \\frac{s_{4}^{2}}{2 \\, s_{1}^{2}}, -c - 2 \\, d_{0} - d_{2} + \\frac{s_{4}^{2}}{2 \\, s_{1}^{2}} - \\frac{s_{7}^{2}}{2 \\, s_{4}^{2}}, -c - 3 \\, d_{0} - d_{2} + \\frac{s_{7}^{2}}{2 \\, s_{4}^{2}}\\right]</script></html>"
      ],
      "text/latex": [
       "$$\\newcommand{\\Bold}[1]{\\mathbf{#1}}\\left[-\\frac{1}{2} \\, s_{1}^{2} - c - d_{0} - \\frac{s_{4}^{2}}{2 \\, s_{1}^{2}} - \\frac{s_{7}^{2}}{2 \\, s_{4}^{2}}, -\\frac{1}{2} \\, s_{1}^{2} - c - d_{2}, -c - d_{5}, \\frac{1}{2} \\, s_{1}^{2} - c - d_{0} - d_{2} - \\frac{s_{4}^{2}}{2 \\, s_{1}^{2}}, -c - 2 \\, d_{0} - d_{2} + \\frac{s_{4}^{2}}{2 \\, s_{1}^{2}} - \\frac{s_{7}^{2}}{2 \\, s_{4}^{2}}, -c - 3 \\, d_{0} - d_{2} + \\frac{s_{7}^{2}}{2 \\, s_{4}^{2}}\\right]$$"
      ],
      "text/plain": [
       "[-1/2*s1^2 - c - d0 - 1/2*s4^2/s1^2 - 1/2*s7^2/s4^2,\n",
       " -1/2*s1^2 - c - d2,\n",
       " -c - d5,\n",
       " 1/2*s1^2 - c - d0 - d2 - 1/2*s4^2/s1^2,\n",
       " -c - 2*d0 - d2 + 1/2*s4^2/s1^2 - 1/2*s7^2/s4^2,\n",
       " -c - 3*d0 - d2 + 1/2*s7^2/s4^2]"
      ]
     },
     "execution_count": 30,
     "metadata": {},
     "output_type": "execute_result"
    }
   ],
   "source": [
    "c = var(\"c\")\n",
    "D = der_gen_diag\n",
    "display(D)\n",
    "nilsoliton_eqs = (Ric_on_basis - c * identity_matrix(alg.dimension()) - D).coefficients()\n",
    "nilsoliton_eqs"
   ]
  },
  {
   "cell_type": "code",
   "execution_count": 31,
   "metadata": {},
   "outputs": [
    {
     "data": {
      "text/html": [
       "<html><script type=\"math/tex; mode=display\">\\newcommand{\\Bold}[1]{\\mathbf{#1}}\\left[c, d_{0}, d_{2}, d_{5}, s_{4}, s_{1}, s_{7}\\right]</script></html>"
      ],
      "text/latex": [
       "$$\\newcommand{\\Bold}[1]{\\mathbf{#1}}\\left[c, d_{0}, d_{2}, d_{5}, s_{4}, s_{1}, s_{7}\\right]$$"
      ],
      "text/plain": [
       "[c, d0, d2, d5, s4, s1, s7]"
      ]
     },
     "metadata": {},
     "output_type": "display_data"
    },
    {
     "name": "stdout",
     "output_type": "stream",
     "text": [
      "CPU times: user 15.1 s, sys: 0 ns, total: 15.1 s\n",
      "Wall time: 15.1 s\n"
     ]
    },
    {
     "data": {
      "text/html": [
       "<html><script type=\"math/tex; mode=display\">\\newcommand{\\Bold}[1]{\\mathbf{#1}}\\left\\{c : -\\frac{6^{\\frac{1}{3}} {\\left(s_{7}^{4}\\right)}^{\\frac{2}{3}}}{s_{7}^{2}}, d_{0} : \\frac{6^{\\frac{1}{3}} {\\left(s_{7}^{4}\\right)}^{\\frac{2}{3}}}{6 \\, s_{7}^{2}}, d_{2} : \\frac{3 \\cdot 6^{\\frac{1}{3}} {\\left(s_{7}^{4}\\right)}^{\\frac{2}{3}}}{4 \\, s_{7}^{2}}, d_{5} : \\frac{6^{\\frac{1}{3}} {\\left(s_{7}^{4}\\right)}^{\\frac{2}{3}}}{s_{7}^{2}}, s_{1} : -\\frac{3^{\\frac{1}{6}} 2^{\\frac{2}{3}} {\\left(s_{7}^{4}\\right)}^{\\frac{1}{3}}}{2 \\, s_{7}}, s_{4} : -\\frac{1}{3} \\cdot 3^{\\frac{5}{6}} 2^{\\frac{1}{3}} {\\left(s_{7}^{4}\\right)}^{\\frac{1}{6}}\\right\\}</script></html>"
      ],
      "text/latex": [
       "$$\\newcommand{\\Bold}[1]{\\mathbf{#1}}\\left\\{c : -\\frac{6^{\\frac{1}{3}} {\\left(s_{7}^{4}\\right)}^{\\frac{2}{3}}}{s_{7}^{2}}, d_{0} : \\frac{6^{\\frac{1}{3}} {\\left(s_{7}^{4}\\right)}^{\\frac{2}{3}}}{6 \\, s_{7}^{2}}, d_{2} : \\frac{3 \\cdot 6^{\\frac{1}{3}} {\\left(s_{7}^{4}\\right)}^{\\frac{2}{3}}}{4 \\, s_{7}^{2}}, d_{5} : \\frac{6^{\\frac{1}{3}} {\\left(s_{7}^{4}\\right)}^{\\frac{2}{3}}}{s_{7}^{2}}, s_{1} : -\\frac{3^{\\frac{1}{6}} 2^{\\frac{2}{3}} {\\left(s_{7}^{4}\\right)}^{\\frac{1}{3}}}{2 \\, s_{7}}, s_{4} : -\\frac{1}{3} \\cdot 3^{\\frac{5}{6}} 2^{\\frac{1}{3}} {\\left(s_{7}^{4}\\right)}^{\\frac{1}{6}}\\right\\}$$"
      ],
      "text/plain": [
       "{c: -6^(1/3)*(s7^4)^(2/3)/s7^2,\n",
       " d0: 1/6*6^(1/3)*(s7^4)^(2/3)/s7^2,\n",
       " d2: 3/4*6^(1/3)*(s7^4)^(2/3)/s7^2,\n",
       " d5: 6^(1/3)*(s7^4)^(2/3)/s7^2,\n",
       " s1: -1/2*3^(1/6)*2^(2/3)*(s7^4)^(1/3)/s7,\n",
       " s4: -1/3*3^(5/6)*2^(1/3)*(s7^4)^(1/6)}"
      ]
     },
     "metadata": {},
     "output_type": "display_data"
    },
    {
     "data": {
      "text/html": [
       "<html><script type=\"math/tex; mode=display\">\\newcommand{\\Bold}[1]{\\mathbf{#1}}\\left\\{c : -\\frac{6^{\\frac{1}{3}} {\\left(s_{7}^{4}\\right)}^{\\frac{2}{3}}}{s_{7}^{2}}, d_{0} : \\frac{6^{\\frac{1}{3}} {\\left(s_{7}^{4}\\right)}^{\\frac{2}{3}}}{6 \\, s_{7}^{2}}, d_{2} : \\frac{3 \\cdot 6^{\\frac{1}{3}} {\\left(s_{7}^{4}\\right)}^{\\frac{2}{3}}}{4 \\, s_{7}^{2}}, d_{5} : \\frac{6^{\\frac{1}{3}} {\\left(s_{7}^{4}\\right)}^{\\frac{2}{3}}}{s_{7}^{2}}, s_{1} : -\\frac{3^{\\frac{1}{6}} 2^{\\frac{2}{3}} {\\left(s_{7}^{4}\\right)}^{\\frac{1}{3}}}{2 \\, s_{7}}, s_{4} : \\frac{1}{3} \\cdot 3^{\\frac{5}{6}} 2^{\\frac{1}{3}} {\\left(s_{7}^{4}\\right)}^{\\frac{1}{6}}\\right\\}</script></html>"
      ],
      "text/latex": [
       "$$\\newcommand{\\Bold}[1]{\\mathbf{#1}}\\left\\{c : -\\frac{6^{\\frac{1}{3}} {\\left(s_{7}^{4}\\right)}^{\\frac{2}{3}}}{s_{7}^{2}}, d_{0} : \\frac{6^{\\frac{1}{3}} {\\left(s_{7}^{4}\\right)}^{\\frac{2}{3}}}{6 \\, s_{7}^{2}}, d_{2} : \\frac{3 \\cdot 6^{\\frac{1}{3}} {\\left(s_{7}^{4}\\right)}^{\\frac{2}{3}}}{4 \\, s_{7}^{2}}, d_{5} : \\frac{6^{\\frac{1}{3}} {\\left(s_{7}^{4}\\right)}^{\\frac{2}{3}}}{s_{7}^{2}}, s_{1} : -\\frac{3^{\\frac{1}{6}} 2^{\\frac{2}{3}} {\\left(s_{7}^{4}\\right)}^{\\frac{1}{3}}}{2 \\, s_{7}}, s_{4} : \\frac{1}{3} \\cdot 3^{\\frac{5}{6}} 2^{\\frac{1}{3}} {\\left(s_{7}^{4}\\right)}^{\\frac{1}{6}}\\right\\}$$"
      ],
      "text/plain": [
       "{c: -6^(1/3)*(s7^4)^(2/3)/s7^2,\n",
       " d0: 1/6*6^(1/3)*(s7^4)^(2/3)/s7^2,\n",
       " d2: 3/4*6^(1/3)*(s7^4)^(2/3)/s7^2,\n",
       " d5: 6^(1/3)*(s7^4)^(2/3)/s7^2,\n",
       " s1: -1/2*3^(1/6)*2^(2/3)*(s7^4)^(1/3)/s7,\n",
       " s4: 1/3*3^(5/6)*2^(1/3)*(s7^4)^(1/6)}"
      ]
     },
     "metadata": {},
     "output_type": "display_data"
    },
    {
     "data": {
      "text/html": [
       "<html><script type=\"math/tex; mode=display\">\\newcommand{\\Bold}[1]{\\mathbf{#1}}\\left\\{c : -\\frac{6^{\\frac{1}{3}} {\\left(s_{7}^{4}\\right)}^{\\frac{2}{3}}}{s_{7}^{2}}, d_{0} : \\frac{6^{\\frac{1}{3}} {\\left(s_{7}^{4}\\right)}^{\\frac{2}{3}}}{6 \\, s_{7}^{2}}, d_{2} : \\frac{3 \\cdot 6^{\\frac{1}{3}} {\\left(s_{7}^{4}\\right)}^{\\frac{2}{3}}}{4 \\, s_{7}^{2}}, d_{5} : \\frac{6^{\\frac{1}{3}} {\\left(s_{7}^{4}\\right)}^{\\frac{2}{3}}}{s_{7}^{2}}, s_{1} : \\frac{3^{\\frac{1}{6}} 2^{\\frac{2}{3}} {\\left(s_{7}^{4}\\right)}^{\\frac{1}{3}}}{2 \\, s_{7}}, s_{4} : -\\frac{1}{3} \\cdot 3^{\\frac{5}{6}} 2^{\\frac{1}{3}} {\\left(s_{7}^{4}\\right)}^{\\frac{1}{6}}\\right\\}</script></html>"
      ],
      "text/latex": [
       "$$\\newcommand{\\Bold}[1]{\\mathbf{#1}}\\left\\{c : -\\frac{6^{\\frac{1}{3}} {\\left(s_{7}^{4}\\right)}^{\\frac{2}{3}}}{s_{7}^{2}}, d_{0} : \\frac{6^{\\frac{1}{3}} {\\left(s_{7}^{4}\\right)}^{\\frac{2}{3}}}{6 \\, s_{7}^{2}}, d_{2} : \\frac{3 \\cdot 6^{\\frac{1}{3}} {\\left(s_{7}^{4}\\right)}^{\\frac{2}{3}}}{4 \\, s_{7}^{2}}, d_{5} : \\frac{6^{\\frac{1}{3}} {\\left(s_{7}^{4}\\right)}^{\\frac{2}{3}}}{s_{7}^{2}}, s_{1} : \\frac{3^{\\frac{1}{6}} 2^{\\frac{2}{3}} {\\left(s_{7}^{4}\\right)}^{\\frac{1}{3}}}{2 \\, s_{7}}, s_{4} : -\\frac{1}{3} \\cdot 3^{\\frac{5}{6}} 2^{\\frac{1}{3}} {\\left(s_{7}^{4}\\right)}^{\\frac{1}{6}}\\right\\}$$"
      ],
      "text/plain": [
       "{c: -6^(1/3)*(s7^4)^(2/3)/s7^2,\n",
       " d0: 1/6*6^(1/3)*(s7^4)^(2/3)/s7^2,\n",
       " d2: 3/4*6^(1/3)*(s7^4)^(2/3)/s7^2,\n",
       " d5: 6^(1/3)*(s7^4)^(2/3)/s7^2,\n",
       " s1: 1/2*3^(1/6)*2^(2/3)*(s7^4)^(1/3)/s7,\n",
       " s4: -1/3*3^(5/6)*2^(1/3)*(s7^4)^(1/6)}"
      ]
     },
     "metadata": {},
     "output_type": "display_data"
    },
    {
     "data": {
      "text/html": [
       "<html><script type=\"math/tex; mode=display\">\\newcommand{\\Bold}[1]{\\mathbf{#1}}\\left\\{c : -\\frac{6^{\\frac{1}{3}} {\\left(s_{7}^{4}\\right)}^{\\frac{2}{3}}}{s_{7}^{2}}, d_{0} : \\frac{6^{\\frac{1}{3}} {\\left(s_{7}^{4}\\right)}^{\\frac{2}{3}}}{6 \\, s_{7}^{2}}, d_{2} : \\frac{3 \\cdot 6^{\\frac{1}{3}} {\\left(s_{7}^{4}\\right)}^{\\frac{2}{3}}}{4 \\, s_{7}^{2}}, d_{5} : \\frac{6^{\\frac{1}{3}} {\\left(s_{7}^{4}\\right)}^{\\frac{2}{3}}}{s_{7}^{2}}, s_{1} : \\frac{3^{\\frac{1}{6}} 2^{\\frac{2}{3}} {\\left(s_{7}^{4}\\right)}^{\\frac{1}{3}}}{2 \\, s_{7}}, s_{4} : \\frac{1}{3} \\cdot 3^{\\frac{5}{6}} 2^{\\frac{1}{3}} {\\left(s_{7}^{4}\\right)}^{\\frac{1}{6}}\\right\\}</script></html>"
      ],
      "text/latex": [
       "$$\\newcommand{\\Bold}[1]{\\mathbf{#1}}\\left\\{c : -\\frac{6^{\\frac{1}{3}} {\\left(s_{7}^{4}\\right)}^{\\frac{2}{3}}}{s_{7}^{2}}, d_{0} : \\frac{6^{\\frac{1}{3}} {\\left(s_{7}^{4}\\right)}^{\\frac{2}{3}}}{6 \\, s_{7}^{2}}, d_{2} : \\frac{3 \\cdot 6^{\\frac{1}{3}} {\\left(s_{7}^{4}\\right)}^{\\frac{2}{3}}}{4 \\, s_{7}^{2}}, d_{5} : \\frac{6^{\\frac{1}{3}} {\\left(s_{7}^{4}\\right)}^{\\frac{2}{3}}}{s_{7}^{2}}, s_{1} : \\frac{3^{\\frac{1}{6}} 2^{\\frac{2}{3}} {\\left(s_{7}^{4}\\right)}^{\\frac{1}{3}}}{2 \\, s_{7}}, s_{4} : \\frac{1}{3} \\cdot 3^{\\frac{5}{6}} 2^{\\frac{1}{3}} {\\left(s_{7}^{4}\\right)}^{\\frac{1}{6}}\\right\\}$$"
      ],
      "text/plain": [
       "{c: -6^(1/3)*(s7^4)^(2/3)/s7^2,\n",
       " d0: 1/6*6^(1/3)*(s7^4)^(2/3)/s7^2,\n",
       " d2: 3/4*6^(1/3)*(s7^4)^(2/3)/s7^2,\n",
       " d5: 6^(1/3)*(s7^4)^(2/3)/s7^2,\n",
       " s1: 1/2*3^(1/6)*2^(2/3)*(s7^4)^(1/3)/s7,\n",
       " s4: 1/3*3^(5/6)*2^(1/3)*(s7^4)^(1/6)}"
      ]
     },
     "metadata": {},
     "output_type": "display_data"
    },
    {
     "data": {
      "text/html": [
       "<html><script type=\"math/tex; mode=display\">\\newcommand{\\Bold}[1]{\\mathbf{#1}}\\left\\{c : \\frac{{\\left(s_{7}^{4}\\right)}^{\\frac{2}{3}} {\\left(-i \\cdot 3^{\\frac{5}{6}} 2^{\\frac{1}{3}} + 6^{\\frac{1}{3}}\\right)}}{2 \\, s_{7}^{2}}, d_{0} : \\frac{{\\left(s_{7}^{4}\\right)}^{\\frac{2}{3}} {\\left(i \\cdot 3^{\\frac{5}{6}} 2^{\\frac{1}{3}} - 6^{\\frac{1}{3}}\\right)}}{12 \\, s_{7}^{2}}, d_{2} : \\frac{3 \\, {\\left(s_{7}^{4}\\right)}^{\\frac{2}{3}} {\\left(i \\cdot 3^{\\frac{5}{6}} 2^{\\frac{1}{3}} - 6^{\\frac{1}{3}}\\right)}}{8 \\, s_{7}^{2}}, d_{5} : \\frac{{\\left(s_{7}^{4}\\right)}^{\\frac{2}{3}} {\\left(i \\cdot 3^{\\frac{5}{6}} 2^{\\frac{1}{3}} - 6^{\\frac{1}{3}}\\right)}}{2 \\, s_{7}^{2}}, s_{1} : \\frac{2^{\\frac{1}{6}} \\sqrt{{\\left(s_{7}^{4}\\right)}^{\\frac{2}{3}} {\\left(i \\cdot 3^{\\frac{5}{6}} - 3^{\\frac{1}{3}}\\right)}}}{2 \\, s_{7}}, s_{4} : -\\frac{1}{6} \\, {\\left(s_{7}^{4}\\right)}^{\\frac{1}{6}} {\\left(3^{\\frac{5}{6}} 2^{\\frac{1}{3}} - 3 i \\cdot 6^{\\frac{1}{3}}\\right)}\\right\\}</script></html>"
      ],
      "text/latex": [
       "$$\\newcommand{\\Bold}[1]{\\mathbf{#1}}\\left\\{c : \\frac{{\\left(s_{7}^{4}\\right)}^{\\frac{2}{3}} {\\left(-i \\cdot 3^{\\frac{5}{6}} 2^{\\frac{1}{3}} + 6^{\\frac{1}{3}}\\right)}}{2 \\, s_{7}^{2}}, d_{0} : \\frac{{\\left(s_{7}^{4}\\right)}^{\\frac{2}{3}} {\\left(i \\cdot 3^{\\frac{5}{6}} 2^{\\frac{1}{3}} - 6^{\\frac{1}{3}}\\right)}}{12 \\, s_{7}^{2}}, d_{2} : \\frac{3 \\, {\\left(s_{7}^{4}\\right)}^{\\frac{2}{3}} {\\left(i \\cdot 3^{\\frac{5}{6}} 2^{\\frac{1}{3}} - 6^{\\frac{1}{3}}\\right)}}{8 \\, s_{7}^{2}}, d_{5} : \\frac{{\\left(s_{7}^{4}\\right)}^{\\frac{2}{3}} {\\left(i \\cdot 3^{\\frac{5}{6}} 2^{\\frac{1}{3}} - 6^{\\frac{1}{3}}\\right)}}{2 \\, s_{7}^{2}}, s_{1} : \\frac{2^{\\frac{1}{6}} \\sqrt{{\\left(s_{7}^{4}\\right)}^{\\frac{2}{3}} {\\left(i \\cdot 3^{\\frac{5}{6}} - 3^{\\frac{1}{3}}\\right)}}}{2 \\, s_{7}}, s_{4} : -\\frac{1}{6} \\, {\\left(s_{7}^{4}\\right)}^{\\frac{1}{6}} {\\left(3^{\\frac{5}{6}} 2^{\\frac{1}{3}} - 3 i \\cdot 6^{\\frac{1}{3}}\\right)}\\right\\}$$"
      ],
      "text/plain": [
       "{c: 1/2*(s7^4)^(2/3)*(-I*3^(5/6)*2^(1/3) + 6^(1/3))/s7^2,\n",
       " d0: 1/12*(s7^4)^(2/3)*(I*3^(5/6)*2^(1/3) - 6^(1/3))/s7^2,\n",
       " d2: 3/8*(s7^4)^(2/3)*(I*3^(5/6)*2^(1/3) - 6^(1/3))/s7^2,\n",
       " d5: 1/2*(s7^4)^(2/3)*(I*3^(5/6)*2^(1/3) - 6^(1/3))/s7^2,\n",
       " s1: 1/2*2^(1/6)*sqrt((s7^4)^(2/3)*(I*3^(5/6) - 3^(1/3)))/s7,\n",
       " s4: -1/6*(s7^4)^(1/6)*(3^(5/6)*2^(1/3) - 3*I*6^(1/3))}"
      ]
     },
     "metadata": {},
     "output_type": "display_data"
    },
    {
     "data": {
      "text/html": [
       "<html><script type=\"math/tex; mode=display\">\\newcommand{\\Bold}[1]{\\mathbf{#1}}\\left\\{c : \\frac{{\\left(s_{7}^{4}\\right)}^{\\frac{2}{3}} {\\left(-i \\cdot 3^{\\frac{5}{6}} 2^{\\frac{1}{3}} + 6^{\\frac{1}{3}}\\right)}}{2 \\, s_{7}^{2}}, d_{0} : \\frac{{\\left(s_{7}^{4}\\right)}^{\\frac{2}{3}} {\\left(i \\cdot 3^{\\frac{5}{6}} 2^{\\frac{1}{3}} - 6^{\\frac{1}{3}}\\right)}}{12 \\, s_{7}^{2}}, d_{2} : \\frac{3 \\, {\\left(s_{7}^{4}\\right)}^{\\frac{2}{3}} {\\left(i \\cdot 3^{\\frac{5}{6}} 2^{\\frac{1}{3}} - 6^{\\frac{1}{3}}\\right)}}{8 \\, s_{7}^{2}}, d_{5} : \\frac{{\\left(s_{7}^{4}\\right)}^{\\frac{2}{3}} {\\left(i \\cdot 3^{\\frac{5}{6}} 2^{\\frac{1}{3}} - 6^{\\frac{1}{3}}\\right)}}{2 \\, s_{7}^{2}}, s_{1} : \\frac{2^{\\frac{1}{6}} \\sqrt{{\\left(s_{7}^{4}\\right)}^{\\frac{2}{3}} {\\left(i \\cdot 3^{\\frac{5}{6}} - 3^{\\frac{1}{3}}\\right)}}}{2 \\, s_{7}}, s_{4} : \\frac{1}{6} \\, {\\left(s_{7}^{4}\\right)}^{\\frac{1}{6}} {\\left(3^{\\frac{5}{6}} 2^{\\frac{1}{3}} - 3 i \\cdot 6^{\\frac{1}{3}}\\right)}\\right\\}</script></html>"
      ],
      "text/latex": [
       "$$\\newcommand{\\Bold}[1]{\\mathbf{#1}}\\left\\{c : \\frac{{\\left(s_{7}^{4}\\right)}^{\\frac{2}{3}} {\\left(-i \\cdot 3^{\\frac{5}{6}} 2^{\\frac{1}{3}} + 6^{\\frac{1}{3}}\\right)}}{2 \\, s_{7}^{2}}, d_{0} : \\frac{{\\left(s_{7}^{4}\\right)}^{\\frac{2}{3}} {\\left(i \\cdot 3^{\\frac{5}{6}} 2^{\\frac{1}{3}} - 6^{\\frac{1}{3}}\\right)}}{12 \\, s_{7}^{2}}, d_{2} : \\frac{3 \\, {\\left(s_{7}^{4}\\right)}^{\\frac{2}{3}} {\\left(i \\cdot 3^{\\frac{5}{6}} 2^{\\frac{1}{3}} - 6^{\\frac{1}{3}}\\right)}}{8 \\, s_{7}^{2}}, d_{5} : \\frac{{\\left(s_{7}^{4}\\right)}^{\\frac{2}{3}} {\\left(i \\cdot 3^{\\frac{5}{6}} 2^{\\frac{1}{3}} - 6^{\\frac{1}{3}}\\right)}}{2 \\, s_{7}^{2}}, s_{1} : \\frac{2^{\\frac{1}{6}} \\sqrt{{\\left(s_{7}^{4}\\right)}^{\\frac{2}{3}} {\\left(i \\cdot 3^{\\frac{5}{6}} - 3^{\\frac{1}{3}}\\right)}}}{2 \\, s_{7}}, s_{4} : \\frac{1}{6} \\, {\\left(s_{7}^{4}\\right)}^{\\frac{1}{6}} {\\left(3^{\\frac{5}{6}} 2^{\\frac{1}{3}} - 3 i \\cdot 6^{\\frac{1}{3}}\\right)}\\right\\}$$"
      ],
      "text/plain": [
       "{c: 1/2*(s7^4)^(2/3)*(-I*3^(5/6)*2^(1/3) + 6^(1/3))/s7^2,\n",
       " d0: 1/12*(s7^4)^(2/3)*(I*3^(5/6)*2^(1/3) - 6^(1/3))/s7^2,\n",
       " d2: 3/8*(s7^4)^(2/3)*(I*3^(5/6)*2^(1/3) - 6^(1/3))/s7^2,\n",
       " d5: 1/2*(s7^4)^(2/3)*(I*3^(5/6)*2^(1/3) - 6^(1/3))/s7^2,\n",
       " s1: 1/2*2^(1/6)*sqrt((s7^4)^(2/3)*(I*3^(5/6) - 3^(1/3)))/s7,\n",
       " s4: 1/6*(s7^4)^(1/6)*(3^(5/6)*2^(1/3) - 3*I*6^(1/3))}"
      ]
     },
     "metadata": {},
     "output_type": "display_data"
    },
    {
     "data": {
      "text/html": [
       "<html><script type=\"math/tex; mode=display\">\\newcommand{\\Bold}[1]{\\mathbf{#1}}\\left\\{c : \\frac{{\\left(s_{7}^{4}\\right)}^{\\frac{2}{3}} {\\left(-i \\cdot 3^{\\frac{5}{6}} 2^{\\frac{1}{3}} + 6^{\\frac{1}{3}}\\right)}}{2 \\, s_{7}^{2}}, d_{0} : \\frac{{\\left(s_{7}^{4}\\right)}^{\\frac{2}{3}} {\\left(i \\cdot 3^{\\frac{5}{6}} 2^{\\frac{1}{3}} - 6^{\\frac{1}{3}}\\right)}}{12 \\, s_{7}^{2}}, d_{2} : \\frac{3 \\, {\\left(s_{7}^{4}\\right)}^{\\frac{2}{3}} {\\left(i \\cdot 3^{\\frac{5}{6}} 2^{\\frac{1}{3}} - 6^{\\frac{1}{3}}\\right)}}{8 \\, s_{7}^{2}}, d_{5} : \\frac{{\\left(s_{7}^{4}\\right)}^{\\frac{2}{3}} {\\left(i \\cdot 3^{\\frac{5}{6}} 2^{\\frac{1}{3}} - 6^{\\frac{1}{3}}\\right)}}{2 \\, s_{7}^{2}}, s_{1} : -\\frac{2^{\\frac{1}{6}} \\sqrt{-{\\left(s_{7}^{4}\\right)}^{\\frac{2}{3}} {\\left(-i \\cdot 3^{\\frac{5}{6}} + 3^{\\frac{1}{3}}\\right)}}}{2 \\, s_{7}}, s_{4} : -\\frac{1}{6} \\, {\\left(s_{7}^{4}\\right)}^{\\frac{1}{6}} {\\left(3^{\\frac{5}{6}} 2^{\\frac{1}{3}} - 3 i \\cdot 6^{\\frac{1}{3}}\\right)}\\right\\}</script></html>"
      ],
      "text/latex": [
       "$$\\newcommand{\\Bold}[1]{\\mathbf{#1}}\\left\\{c : \\frac{{\\left(s_{7}^{4}\\right)}^{\\frac{2}{3}} {\\left(-i \\cdot 3^{\\frac{5}{6}} 2^{\\frac{1}{3}} + 6^{\\frac{1}{3}}\\right)}}{2 \\, s_{7}^{2}}, d_{0} : \\frac{{\\left(s_{7}^{4}\\right)}^{\\frac{2}{3}} {\\left(i \\cdot 3^{\\frac{5}{6}} 2^{\\frac{1}{3}} - 6^{\\frac{1}{3}}\\right)}}{12 \\, s_{7}^{2}}, d_{2} : \\frac{3 \\, {\\left(s_{7}^{4}\\right)}^{\\frac{2}{3}} {\\left(i \\cdot 3^{\\frac{5}{6}} 2^{\\frac{1}{3}} - 6^{\\frac{1}{3}}\\right)}}{8 \\, s_{7}^{2}}, d_{5} : \\frac{{\\left(s_{7}^{4}\\right)}^{\\frac{2}{3}} {\\left(i \\cdot 3^{\\frac{5}{6}} 2^{\\frac{1}{3}} - 6^{\\frac{1}{3}}\\right)}}{2 \\, s_{7}^{2}}, s_{1} : -\\frac{2^{\\frac{1}{6}} \\sqrt{-{\\left(s_{7}^{4}\\right)}^{\\frac{2}{3}} {\\left(-i \\cdot 3^{\\frac{5}{6}} + 3^{\\frac{1}{3}}\\right)}}}{2 \\, s_{7}}, s_{4} : -\\frac{1}{6} \\, {\\left(s_{7}^{4}\\right)}^{\\frac{1}{6}} {\\left(3^{\\frac{5}{6}} 2^{\\frac{1}{3}} - 3 i \\cdot 6^{\\frac{1}{3}}\\right)}\\right\\}$$"
      ],
      "text/plain": [
       "{c: 1/2*(s7^4)^(2/3)*(-I*3^(5/6)*2^(1/3) + 6^(1/3))/s7^2,\n",
       " d0: 1/12*(s7^4)^(2/3)*(I*3^(5/6)*2^(1/3) - 6^(1/3))/s7^2,\n",
       " d2: 3/8*(s7^4)^(2/3)*(I*3^(5/6)*2^(1/3) - 6^(1/3))/s7^2,\n",
       " d5: 1/2*(s7^4)^(2/3)*(I*3^(5/6)*2^(1/3) - 6^(1/3))/s7^2,\n",
       " s1: -1/2*2^(1/6)*sqrt(-(s7^4)^(2/3)*(-I*3^(5/6) + 3^(1/3)))/s7,\n",
       " s4: -1/6*(s7^4)^(1/6)*(3^(5/6)*2^(1/3) - 3*I*6^(1/3))}"
      ]
     },
     "metadata": {},
     "output_type": "display_data"
    },
    {
     "data": {
      "text/html": [
       "<html><script type=\"math/tex; mode=display\">\\newcommand{\\Bold}[1]{\\mathbf{#1}}\\left\\{c : \\frac{{\\left(s_{7}^{4}\\right)}^{\\frac{2}{3}} {\\left(-i \\cdot 3^{\\frac{5}{6}} 2^{\\frac{1}{3}} + 6^{\\frac{1}{3}}\\right)}}{2 \\, s_{7}^{2}}, d_{0} : \\frac{{\\left(s_{7}^{4}\\right)}^{\\frac{2}{3}} {\\left(i \\cdot 3^{\\frac{5}{6}} 2^{\\frac{1}{3}} - 6^{\\frac{1}{3}}\\right)}}{12 \\, s_{7}^{2}}, d_{2} : \\frac{3 \\, {\\left(s_{7}^{4}\\right)}^{\\frac{2}{3}} {\\left(i \\cdot 3^{\\frac{5}{6}} 2^{\\frac{1}{3}} - 6^{\\frac{1}{3}}\\right)}}{8 \\, s_{7}^{2}}, d_{5} : \\frac{{\\left(s_{7}^{4}\\right)}^{\\frac{2}{3}} {\\left(i \\cdot 3^{\\frac{5}{6}} 2^{\\frac{1}{3}} - 6^{\\frac{1}{3}}\\right)}}{2 \\, s_{7}^{2}}, s_{1} : -\\frac{2^{\\frac{1}{6}} \\sqrt{-{\\left(s_{7}^{4}\\right)}^{\\frac{2}{3}} {\\left(-i \\cdot 3^{\\frac{5}{6}} + 3^{\\frac{1}{3}}\\right)}}}{2 \\, s_{7}}, s_{4} : \\frac{1}{6} \\, {\\left(s_{7}^{4}\\right)}^{\\frac{1}{6}} {\\left(3^{\\frac{5}{6}} 2^{\\frac{1}{3}} - 3 i \\cdot 6^{\\frac{1}{3}}\\right)}\\right\\}</script></html>"
      ],
      "text/latex": [
       "$$\\newcommand{\\Bold}[1]{\\mathbf{#1}}\\left\\{c : \\frac{{\\left(s_{7}^{4}\\right)}^{\\frac{2}{3}} {\\left(-i \\cdot 3^{\\frac{5}{6}} 2^{\\frac{1}{3}} + 6^{\\frac{1}{3}}\\right)}}{2 \\, s_{7}^{2}}, d_{0} : \\frac{{\\left(s_{7}^{4}\\right)}^{\\frac{2}{3}} {\\left(i \\cdot 3^{\\frac{5}{6}} 2^{\\frac{1}{3}} - 6^{\\frac{1}{3}}\\right)}}{12 \\, s_{7}^{2}}, d_{2} : \\frac{3 \\, {\\left(s_{7}^{4}\\right)}^{\\frac{2}{3}} {\\left(i \\cdot 3^{\\frac{5}{6}} 2^{\\frac{1}{3}} - 6^{\\frac{1}{3}}\\right)}}{8 \\, s_{7}^{2}}, d_{5} : \\frac{{\\left(s_{7}^{4}\\right)}^{\\frac{2}{3}} {\\left(i \\cdot 3^{\\frac{5}{6}} 2^{\\frac{1}{3}} - 6^{\\frac{1}{3}}\\right)}}{2 \\, s_{7}^{2}}, s_{1} : -\\frac{2^{\\frac{1}{6}} \\sqrt{-{\\left(s_{7}^{4}\\right)}^{\\frac{2}{3}} {\\left(-i \\cdot 3^{\\frac{5}{6}} + 3^{\\frac{1}{3}}\\right)}}}{2 \\, s_{7}}, s_{4} : \\frac{1}{6} \\, {\\left(s_{7}^{4}\\right)}^{\\frac{1}{6}} {\\left(3^{\\frac{5}{6}} 2^{\\frac{1}{3}} - 3 i \\cdot 6^{\\frac{1}{3}}\\right)}\\right\\}$$"
      ],
      "text/plain": [
       "{c: 1/2*(s7^4)^(2/3)*(-I*3^(5/6)*2^(1/3) + 6^(1/3))/s7^2,\n",
       " d0: 1/12*(s7^4)^(2/3)*(I*3^(5/6)*2^(1/3) - 6^(1/3))/s7^2,\n",
       " d2: 3/8*(s7^4)^(2/3)*(I*3^(5/6)*2^(1/3) - 6^(1/3))/s7^2,\n",
       " d5: 1/2*(s7^4)^(2/3)*(I*3^(5/6)*2^(1/3) - 6^(1/3))/s7^2,\n",
       " s1: -1/2*2^(1/6)*sqrt(-(s7^4)^(2/3)*(-I*3^(5/6) + 3^(1/3)))/s7,\n",
       " s4: 1/6*(s7^4)^(1/6)*(3^(5/6)*2^(1/3) - 3*I*6^(1/3))}"
      ]
     },
     "metadata": {},
     "output_type": "display_data"
    },
    {
     "data": {
      "text/html": [
       "<html><script type=\"math/tex; mode=display\">\\newcommand{\\Bold}[1]{\\mathbf{#1}}\\left\\{c : \\frac{{\\left(s_{7}^{4}\\right)}^{\\frac{2}{3}} {\\left(i \\cdot 3^{\\frac{5}{6}} 2^{\\frac{1}{3}} + 6^{\\frac{1}{3}}\\right)}}{2 \\, s_{7}^{2}}, d_{0} : -\\frac{{\\left(s_{7}^{4}\\right)}^{\\frac{2}{3}} {\\left(i \\cdot 3^{\\frac{5}{6}} 2^{\\frac{1}{3}} + 6^{\\frac{1}{3}}\\right)}}{12 \\, s_{7}^{2}}, d_{2} : -\\frac{3 \\, {\\left(s_{7}^{4}\\right)}^{\\frac{2}{3}} {\\left(i \\cdot 3^{\\frac{5}{6}} 2^{\\frac{1}{3}} + 6^{\\frac{1}{3}}\\right)}}{8 \\, s_{7}^{2}}, d_{5} : -\\frac{{\\left(s_{7}^{4}\\right)}^{\\frac{2}{3}} {\\left(i \\cdot 3^{\\frac{5}{6}} 2^{\\frac{1}{3}} + 6^{\\frac{1}{3}}\\right)}}{2 \\, s_{7}^{2}}, s_{1} : -\\frac{\\sqrt{-{\\left(s_{7}^{4}\\right)}^{\\frac{2}{3}} {\\left(i \\cdot 3^{\\frac{5}{6}} 2^{\\frac{1}{3}} + 6^{\\frac{1}{3}}\\right)}}}{2 \\, s_{7}}, s_{4} : -\\frac{1}{6} \\, {\\left(s_{7}^{4}\\right)}^{\\frac{1}{6}} {\\left(3^{\\frac{5}{6}} 2^{\\frac{1}{3}} + 3 i \\cdot 6^{\\frac{1}{3}}\\right)}\\right\\}</script></html>"
      ],
      "text/latex": [
       "$$\\newcommand{\\Bold}[1]{\\mathbf{#1}}\\left\\{c : \\frac{{\\left(s_{7}^{4}\\right)}^{\\frac{2}{3}} {\\left(i \\cdot 3^{\\frac{5}{6}} 2^{\\frac{1}{3}} + 6^{\\frac{1}{3}}\\right)}}{2 \\, s_{7}^{2}}, d_{0} : -\\frac{{\\left(s_{7}^{4}\\right)}^{\\frac{2}{3}} {\\left(i \\cdot 3^{\\frac{5}{6}} 2^{\\frac{1}{3}} + 6^{\\frac{1}{3}}\\right)}}{12 \\, s_{7}^{2}}, d_{2} : -\\frac{3 \\, {\\left(s_{7}^{4}\\right)}^{\\frac{2}{3}} {\\left(i \\cdot 3^{\\frac{5}{6}} 2^{\\frac{1}{3}} + 6^{\\frac{1}{3}}\\right)}}{8 \\, s_{7}^{2}}, d_{5} : -\\frac{{\\left(s_{7}^{4}\\right)}^{\\frac{2}{3}} {\\left(i \\cdot 3^{\\frac{5}{6}} 2^{\\frac{1}{3}} + 6^{\\frac{1}{3}}\\right)}}{2 \\, s_{7}^{2}}, s_{1} : -\\frac{\\sqrt{-{\\left(s_{7}^{4}\\right)}^{\\frac{2}{3}} {\\left(i \\cdot 3^{\\frac{5}{6}} 2^{\\frac{1}{3}} + 6^{\\frac{1}{3}}\\right)}}}{2 \\, s_{7}}, s_{4} : -\\frac{1}{6} \\, {\\left(s_{7}^{4}\\right)}^{\\frac{1}{6}} {\\left(3^{\\frac{5}{6}} 2^{\\frac{1}{3}} + 3 i \\cdot 6^{\\frac{1}{3}}\\right)}\\right\\}$$"
      ],
      "text/plain": [
       "{c: 1/2*(s7^4)^(2/3)*(I*3^(5/6)*2^(1/3) + 6^(1/3))/s7^2,\n",
       " d0: -1/12*(s7^4)^(2/3)*(I*3^(5/6)*2^(1/3) + 6^(1/3))/s7^2,\n",
       " d2: -3/8*(s7^4)^(2/3)*(I*3^(5/6)*2^(1/3) + 6^(1/3))/s7^2,\n",
       " d5: -1/2*(s7^4)^(2/3)*(I*3^(5/6)*2^(1/3) + 6^(1/3))/s7^2,\n",
       " s1: -1/2*sqrt(-(s7^4)^(2/3)*(I*3^(5/6)*2^(1/3) + 6^(1/3)))/s7,\n",
       " s4: -1/6*(s7^4)^(1/6)*(3^(5/6)*2^(1/3) + 3*I*6^(1/3))}"
      ]
     },
     "metadata": {},
     "output_type": "display_data"
    },
    {
     "data": {
      "text/html": [
       "<html><script type=\"math/tex; mode=display\">\\newcommand{\\Bold}[1]{\\mathbf{#1}}\\left\\{c : \\frac{{\\left(s_{7}^{4}\\right)}^{\\frac{2}{3}} {\\left(i \\cdot 3^{\\frac{5}{6}} 2^{\\frac{1}{3}} + 6^{\\frac{1}{3}}\\right)}}{2 \\, s_{7}^{2}}, d_{0} : -\\frac{{\\left(s_{7}^{4}\\right)}^{\\frac{2}{3}} {\\left(i \\cdot 3^{\\frac{5}{6}} 2^{\\frac{1}{3}} + 6^{\\frac{1}{3}}\\right)}}{12 \\, s_{7}^{2}}, d_{2} : -\\frac{3 \\, {\\left(s_{7}^{4}\\right)}^{\\frac{2}{3}} {\\left(i \\cdot 3^{\\frac{5}{6}} 2^{\\frac{1}{3}} + 6^{\\frac{1}{3}}\\right)}}{8 \\, s_{7}^{2}}, d_{5} : -\\frac{{\\left(s_{7}^{4}\\right)}^{\\frac{2}{3}} {\\left(i \\cdot 3^{\\frac{5}{6}} 2^{\\frac{1}{3}} + 6^{\\frac{1}{3}}\\right)}}{2 \\, s_{7}^{2}}, s_{1} : -\\frac{\\sqrt{-{\\left(s_{7}^{4}\\right)}^{\\frac{2}{3}} {\\left(i \\cdot 3^{\\frac{5}{6}} 2^{\\frac{1}{3}} + 6^{\\frac{1}{3}}\\right)}}}{2 \\, s_{7}}, s_{4} : \\frac{1}{6} \\, {\\left(s_{7}^{4}\\right)}^{\\frac{1}{6}} {\\left(3^{\\frac{5}{6}} 2^{\\frac{1}{3}} + 3 i \\cdot 6^{\\frac{1}{3}}\\right)}\\right\\}</script></html>"
      ],
      "text/latex": [
       "$$\\newcommand{\\Bold}[1]{\\mathbf{#1}}\\left\\{c : \\frac{{\\left(s_{7}^{4}\\right)}^{\\frac{2}{3}} {\\left(i \\cdot 3^{\\frac{5}{6}} 2^{\\frac{1}{3}} + 6^{\\frac{1}{3}}\\right)}}{2 \\, s_{7}^{2}}, d_{0} : -\\frac{{\\left(s_{7}^{4}\\right)}^{\\frac{2}{3}} {\\left(i \\cdot 3^{\\frac{5}{6}} 2^{\\frac{1}{3}} + 6^{\\frac{1}{3}}\\right)}}{12 \\, s_{7}^{2}}, d_{2} : -\\frac{3 \\, {\\left(s_{7}^{4}\\right)}^{\\frac{2}{3}} {\\left(i \\cdot 3^{\\frac{5}{6}} 2^{\\frac{1}{3}} + 6^{\\frac{1}{3}}\\right)}}{8 \\, s_{7}^{2}}, d_{5} : -\\frac{{\\left(s_{7}^{4}\\right)}^{\\frac{2}{3}} {\\left(i \\cdot 3^{\\frac{5}{6}} 2^{\\frac{1}{3}} + 6^{\\frac{1}{3}}\\right)}}{2 \\, s_{7}^{2}}, s_{1} : -\\frac{\\sqrt{-{\\left(s_{7}^{4}\\right)}^{\\frac{2}{3}} {\\left(i \\cdot 3^{\\frac{5}{6}} 2^{\\frac{1}{3}} + 6^{\\frac{1}{3}}\\right)}}}{2 \\, s_{7}}, s_{4} : \\frac{1}{6} \\, {\\left(s_{7}^{4}\\right)}^{\\frac{1}{6}} {\\left(3^{\\frac{5}{6}} 2^{\\frac{1}{3}} + 3 i \\cdot 6^{\\frac{1}{3}}\\right)}\\right\\}$$"
      ],
      "text/plain": [
       "{c: 1/2*(s7^4)^(2/3)*(I*3^(5/6)*2^(1/3) + 6^(1/3))/s7^2,\n",
       " d0: -1/12*(s7^4)^(2/3)*(I*3^(5/6)*2^(1/3) + 6^(1/3))/s7^2,\n",
       " d2: -3/8*(s7^4)^(2/3)*(I*3^(5/6)*2^(1/3) + 6^(1/3))/s7^2,\n",
       " d5: -1/2*(s7^4)^(2/3)*(I*3^(5/6)*2^(1/3) + 6^(1/3))/s7^2,\n",
       " s1: -1/2*sqrt(-(s7^4)^(2/3)*(I*3^(5/6)*2^(1/3) + 6^(1/3)))/s7,\n",
       " s4: 1/6*(s7^4)^(1/6)*(3^(5/6)*2^(1/3) + 3*I*6^(1/3))}"
      ]
     },
     "metadata": {},
     "output_type": "display_data"
    },
    {
     "data": {
      "text/html": [
       "<html><script type=\"math/tex; mode=display\">\\newcommand{\\Bold}[1]{\\mathbf{#1}}\\left\\{c : \\frac{{\\left(s_{7}^{4}\\right)}^{\\frac{2}{3}} {\\left(i \\cdot 3^{\\frac{5}{6}} 2^{\\frac{1}{3}} + 6^{\\frac{1}{3}}\\right)}}{2 \\, s_{7}^{2}}, d_{0} : -\\frac{{\\left(s_{7}^{4}\\right)}^{\\frac{2}{3}} {\\left(i \\cdot 3^{\\frac{5}{6}} 2^{\\frac{1}{3}} + 6^{\\frac{1}{3}}\\right)}}{12 \\, s_{7}^{2}}, d_{2} : -\\frac{3 \\, {\\left(s_{7}^{4}\\right)}^{\\frac{2}{3}} {\\left(i \\cdot 3^{\\frac{5}{6}} 2^{\\frac{1}{3}} + 6^{\\frac{1}{3}}\\right)}}{8 \\, s_{7}^{2}}, d_{5} : -\\frac{{\\left(s_{7}^{4}\\right)}^{\\frac{2}{3}} {\\left(i \\cdot 3^{\\frac{5}{6}} 2^{\\frac{1}{3}} + 6^{\\frac{1}{3}}\\right)}}{2 \\, s_{7}^{2}}, s_{1} : \\frac{\\sqrt{-{\\left(s_{7}^{4}\\right)}^{\\frac{2}{3}} {\\left(i \\cdot 3^{\\frac{5}{6}} 2^{\\frac{1}{3}} + 6^{\\frac{1}{3}}\\right)}}}{2 \\, s_{7}}, s_{4} : -\\frac{1}{6} \\, {\\left(s_{7}^{4}\\right)}^{\\frac{1}{6}} {\\left(3^{\\frac{5}{6}} 2^{\\frac{1}{3}} + 3 i \\cdot 6^{\\frac{1}{3}}\\right)}\\right\\}</script></html>"
      ],
      "text/latex": [
       "$$\\newcommand{\\Bold}[1]{\\mathbf{#1}}\\left\\{c : \\frac{{\\left(s_{7}^{4}\\right)}^{\\frac{2}{3}} {\\left(i \\cdot 3^{\\frac{5}{6}} 2^{\\frac{1}{3}} + 6^{\\frac{1}{3}}\\right)}}{2 \\, s_{7}^{2}}, d_{0} : -\\frac{{\\left(s_{7}^{4}\\right)}^{\\frac{2}{3}} {\\left(i \\cdot 3^{\\frac{5}{6}} 2^{\\frac{1}{3}} + 6^{\\frac{1}{3}}\\right)}}{12 \\, s_{7}^{2}}, d_{2} : -\\frac{3 \\, {\\left(s_{7}^{4}\\right)}^{\\frac{2}{3}} {\\left(i \\cdot 3^{\\frac{5}{6}} 2^{\\frac{1}{3}} + 6^{\\frac{1}{3}}\\right)}}{8 \\, s_{7}^{2}}, d_{5} : -\\frac{{\\left(s_{7}^{4}\\right)}^{\\frac{2}{3}} {\\left(i \\cdot 3^{\\frac{5}{6}} 2^{\\frac{1}{3}} + 6^{\\frac{1}{3}}\\right)}}{2 \\, s_{7}^{2}}, s_{1} : \\frac{\\sqrt{-{\\left(s_{7}^{4}\\right)}^{\\frac{2}{3}} {\\left(i \\cdot 3^{\\frac{5}{6}} 2^{\\frac{1}{3}} + 6^{\\frac{1}{3}}\\right)}}}{2 \\, s_{7}}, s_{4} : -\\frac{1}{6} \\, {\\left(s_{7}^{4}\\right)}^{\\frac{1}{6}} {\\left(3^{\\frac{5}{6}} 2^{\\frac{1}{3}} + 3 i \\cdot 6^{\\frac{1}{3}}\\right)}\\right\\}$$"
      ],
      "text/plain": [
       "{c: 1/2*(s7^4)^(2/3)*(I*3^(5/6)*2^(1/3) + 6^(1/3))/s7^2,\n",
       " d0: -1/12*(s7^4)^(2/3)*(I*3^(5/6)*2^(1/3) + 6^(1/3))/s7^2,\n",
       " d2: -3/8*(s7^4)^(2/3)*(I*3^(5/6)*2^(1/3) + 6^(1/3))/s7^2,\n",
       " d5: -1/2*(s7^4)^(2/3)*(I*3^(5/6)*2^(1/3) + 6^(1/3))/s7^2,\n",
       " s1: 1/2*sqrt(-(s7^4)^(2/3)*(I*3^(5/6)*2^(1/3) + 6^(1/3)))/s7,\n",
       " s4: -1/6*(s7^4)^(1/6)*(3^(5/6)*2^(1/3) + 3*I*6^(1/3))}"
      ]
     },
     "metadata": {},
     "output_type": "display_data"
    },
    {
     "data": {
      "text/html": [
       "<html><script type=\"math/tex; mode=display\">\\newcommand{\\Bold}[1]{\\mathbf{#1}}\\left\\{c : \\frac{{\\left(s_{7}^{4}\\right)}^{\\frac{2}{3}} {\\left(i \\cdot 3^{\\frac{5}{6}} 2^{\\frac{1}{3}} + 6^{\\frac{1}{3}}\\right)}}{2 \\, s_{7}^{2}}, d_{0} : -\\frac{{\\left(s_{7}^{4}\\right)}^{\\frac{2}{3}} {\\left(i \\cdot 3^{\\frac{5}{6}} 2^{\\frac{1}{3}} + 6^{\\frac{1}{3}}\\right)}}{12 \\, s_{7}^{2}}, d_{2} : -\\frac{3 \\, {\\left(s_{7}^{4}\\right)}^{\\frac{2}{3}} {\\left(i \\cdot 3^{\\frac{5}{6}} 2^{\\frac{1}{3}} + 6^{\\frac{1}{3}}\\right)}}{8 \\, s_{7}^{2}}, d_{5} : -\\frac{{\\left(s_{7}^{4}\\right)}^{\\frac{2}{3}} {\\left(i \\cdot 3^{\\frac{5}{6}} 2^{\\frac{1}{3}} + 6^{\\frac{1}{3}}\\right)}}{2 \\, s_{7}^{2}}, s_{1} : \\frac{\\sqrt{-{\\left(s_{7}^{4}\\right)}^{\\frac{2}{3}} {\\left(i \\cdot 3^{\\frac{5}{6}} 2^{\\frac{1}{3}} + 6^{\\frac{1}{3}}\\right)}}}{2 \\, s_{7}}, s_{4} : \\frac{1}{6} \\, {\\left(s_{7}^{4}\\right)}^{\\frac{1}{6}} {\\left(3^{\\frac{5}{6}} 2^{\\frac{1}{3}} + 3 i \\cdot 6^{\\frac{1}{3}}\\right)}\\right\\}</script></html>"
      ],
      "text/latex": [
       "$$\\newcommand{\\Bold}[1]{\\mathbf{#1}}\\left\\{c : \\frac{{\\left(s_{7}^{4}\\right)}^{\\frac{2}{3}} {\\left(i \\cdot 3^{\\frac{5}{6}} 2^{\\frac{1}{3}} + 6^{\\frac{1}{3}}\\right)}}{2 \\, s_{7}^{2}}, d_{0} : -\\frac{{\\left(s_{7}^{4}\\right)}^{\\frac{2}{3}} {\\left(i \\cdot 3^{\\frac{5}{6}} 2^{\\frac{1}{3}} + 6^{\\frac{1}{3}}\\right)}}{12 \\, s_{7}^{2}}, d_{2} : -\\frac{3 \\, {\\left(s_{7}^{4}\\right)}^{\\frac{2}{3}} {\\left(i \\cdot 3^{\\frac{5}{6}} 2^{\\frac{1}{3}} + 6^{\\frac{1}{3}}\\right)}}{8 \\, s_{7}^{2}}, d_{5} : -\\frac{{\\left(s_{7}^{4}\\right)}^{\\frac{2}{3}} {\\left(i \\cdot 3^{\\frac{5}{6}} 2^{\\frac{1}{3}} + 6^{\\frac{1}{3}}\\right)}}{2 \\, s_{7}^{2}}, s_{1} : \\frac{\\sqrt{-{\\left(s_{7}^{4}\\right)}^{\\frac{2}{3}} {\\left(i \\cdot 3^{\\frac{5}{6}} 2^{\\frac{1}{3}} + 6^{\\frac{1}{3}}\\right)}}}{2 \\, s_{7}}, s_{4} : \\frac{1}{6} \\, {\\left(s_{7}^{4}\\right)}^{\\frac{1}{6}} {\\left(3^{\\frac{5}{6}} 2^{\\frac{1}{3}} + 3 i \\cdot 6^{\\frac{1}{3}}\\right)}\\right\\}$$"
      ],
      "text/plain": [
       "{c: 1/2*(s7^4)^(2/3)*(I*3^(5/6)*2^(1/3) + 6^(1/3))/s7^2,\n",
       " d0: -1/12*(s7^4)^(2/3)*(I*3^(5/6)*2^(1/3) + 6^(1/3))/s7^2,\n",
       " d2: -3/8*(s7^4)^(2/3)*(I*3^(5/6)*2^(1/3) + 6^(1/3))/s7^2,\n",
       " d5: -1/2*(s7^4)^(2/3)*(I*3^(5/6)*2^(1/3) + 6^(1/3))/s7^2,\n",
       " s1: 1/2*sqrt(-(s7^4)^(2/3)*(I*3^(5/6)*2^(1/3) + 6^(1/3)))/s7,\n",
       " s4: 1/6*(s7^4)^(1/6)*(3^(5/6)*2^(1/3) + 3*I*6^(1/3))}"
      ]
     },
     "metadata": {},
     "output_type": "display_data"
    }
   ],
   "source": [
    "g_diag_vars = list(set(Sigma.diagonal()) - {1})\n",
    "incg = [c] + der_vars_diag + g_diag_vars\n",
    "display(incg)\n",
    "%time nilsoliton_sols = solve(nilsoliton_eqs, incg, algorithm='sympy') # long time\n",
    "for sol in nilsoliton_sols:\n",
    "    display(sol)"
   ]
  },
  {
   "cell_type": "markdown",
   "metadata": {},
   "source": [
    "Since $g = g_\\sigma$ with $\\sigma \\in \\Sigma \\subset \\rm T_6^+$ the only meaningful solution is the fourth one. Warning: the place of the meaningful solution in `nilsoliton_sols` may vary."
   ]
  },
  {
   "cell_type": "code",
   "execution_count": 32,
   "metadata": {},
   "outputs": [
    {
     "data": {
      "text/html": [
       "<html><script type=\"math/tex; mode=display\">\\newcommand{\\Bold}[1]{\\mathbf{#1}}\\left(\\begin{array}{rrrrrr}\n",
       "1 & 0 & 0 & 0 & 0 & 0 \\\\\n",
       "0 & 1 & 0 & 0 & 0 & 0 \\\\\n",
       "0 & 0 & 1 & 0 & 0 & 0 \\\\\n",
       "0 & 0 & 0 & \\frac{1}{2} \\cdot 3^{\\frac{1}{3}} 2^{\\frac{1}{3}} s_{7}^{\\frac{2}{3}} & 0 & 0 \\\\\n",
       "0 & 0 & 0 & 0 & \\frac{1}{3} \\cdot 3^{\\frac{2}{3}} 2^{\\frac{2}{3}} s_{7}^{\\frac{4}{3}} & 0 \\\\\n",
       "0 & 0 & 0 & 0 & 0 & s_{7}^{2}\n",
       "\\end{array}\\right)</script></html>"
      ],
      "text/latex": [
       "$$\\newcommand{\\Bold}[1]{\\mathbf{#1}}\\left(\\begin{array}{rrrrrr}\n",
       "1 & 0 & 0 & 0 & 0 & 0 \\\\\n",
       "0 & 1 & 0 & 0 & 0 & 0 \\\\\n",
       "0 & 0 & 1 & 0 & 0 & 0 \\\\\n",
       "0 & 0 & 0 & \\frac{1}{2} \\cdot 3^{\\frac{1}{3}} 2^{\\frac{1}{3}} s_{7}^{\\frac{2}{3}} & 0 & 0 \\\\\n",
       "0 & 0 & 0 & 0 & \\frac{1}{3} \\cdot 3^{\\frac{2}{3}} 2^{\\frac{2}{3}} s_{7}^{\\frac{4}{3}} & 0 \\\\\n",
       "0 & 0 & 0 & 0 & 0 & s_{7}^{2}\n",
       "\\end{array}\\right)$$"
      ],
      "text/plain": [
       "[                           1                            0                            0                            0                            0                            0]\n",
       "[                           0                            1                            0                            0                            0                            0]\n",
       "[                           0                            0                            1                            0                            0                            0]\n",
       "[                           0                            0                            0 1/2*3^(1/3)*2^(1/3)*s7^(2/3)                            0                            0]\n",
       "[                           0                            0                            0                            0 1/3*3^(2/3)*2^(2/3)*s7^(4/3)                            0]\n",
       "[                           0                            0                            0                            0                            0                         s7^2]"
      ]
     },
     "execution_count": 32,
     "metadata": {},
     "output_type": "execute_result"
    }
   ],
   "source": [
    "g_nil = g_diag.subs(nilsoliton_sols[3]).canonicalize_radical()\n",
    "Sigma_nil = Sigma_diag.subs(nilsoliton_sols[3]).canonicalize_radical()\n",
    "ip_nil = inner_product_from_matrix(alg, g_nil)\n",
    "g_nil"
   ]
  },
  {
   "cell_type": "markdown",
   "metadata": {},
   "source": [
    "It follows from Theorem 6.5 that the nilsoliton metrics has nontrivial index of symmetry."
   ]
  },
  {
   "cell_type": "code",
   "execution_count": 33,
   "metadata": {},
   "outputs": [
    {
     "data": {
      "text/html": [
       "<html><script type=\"math/tex; mode=display\">\\newcommand{\\Bold}[1]{\\mathbf{#1}}\\left(\\left(\\begin{array}{rrrrrr}\n",
       "1 & 0 & 0 & 0 & 0 & 0 \\\\\n",
       "0 & 1 & 0 & 0 & 0 & 0 \\\\\n",
       "0 & 0 & 1 & 0 & 0 & 0 \\\\\n",
       "0 & 0 & s_{0} & s_{1} & 0 & 0 \\\\\n",
       "0 & 0 & s_{2} & s_{3} & s_{4} & 0 \\\\\n",
       "0 & 0 & 0 & s_{5} & s_{6} & s_{7}\n",
       "\\end{array}\\right), \\left(\\begin{array}{rrrrrr}\n",
       "1 & 0 & 0 & 0 & 0 & 0 \\\\\n",
       "0 & 1 & 0 & 0 & 0 & 0 \\\\\n",
       "0 & 0 & 1 & 0 & 0 & 0 \\\\\n",
       "0 & 0 & 0 & \\frac{1}{2} \\cdot 3^{\\frac{1}{6}} 2^{\\frac{2}{3}} s_{7}^{\\frac{1}{3}} & 0 & 0 \\\\\n",
       "0 & 0 & 0 & 0 & \\frac{1}{3} \\cdot 3^{\\frac{5}{6}} 2^{\\frac{1}{3}} s_{7}^{\\frac{2}{3}} & 0 \\\\\n",
       "0 & 0 & 0 & 0 & 0 & s_{7}\n",
       "\\end{array}\\right)\\right)</script></html>"
      ],
      "text/latex": [
       "$$\\newcommand{\\Bold}[1]{\\mathbf{#1}}\\left(\\left(\\begin{array}{rrrrrr}\n",
       "1 & 0 & 0 & 0 & 0 & 0 \\\\\n",
       "0 & 1 & 0 & 0 & 0 & 0 \\\\\n",
       "0 & 0 & 1 & 0 & 0 & 0 \\\\\n",
       "0 & 0 & s_{0} & s_{1} & 0 & 0 \\\\\n",
       "0 & 0 & s_{2} & s_{3} & s_{4} & 0 \\\\\n",
       "0 & 0 & 0 & s_{5} & s_{6} & s_{7}\n",
       "\\end{array}\\right), \\left(\\begin{array}{rrrrrr}\n",
       "1 & 0 & 0 & 0 & 0 & 0 \\\\\n",
       "0 & 1 & 0 & 0 & 0 & 0 \\\\\n",
       "0 & 0 & 1 & 0 & 0 & 0 \\\\\n",
       "0 & 0 & 0 & \\frac{1}{2} \\cdot 3^{\\frac{1}{6}} 2^{\\frac{2}{3}} s_{7}^{\\frac{1}{3}} & 0 & 0 \\\\\n",
       "0 & 0 & 0 & 0 & \\frac{1}{3} \\cdot 3^{\\frac{5}{6}} 2^{\\frac{1}{3}} s_{7}^{\\frac{2}{3}} & 0 \\\\\n",
       "0 & 0 & 0 & 0 & 0 & s_{7}\n",
       "\\end{array}\\right)\\right)$$"
      ],
      "text/plain": [
       "(\n",
       "[ 1  0  0  0  0  0]  [                           1                            0                            0                            0                            0                            0]\n",
       "[ 0  1  0  0  0  0]  [                           0                            1                            0                            0                            0                            0]\n",
       "[ 0  0  1  0  0  0]  [                           0                            0                            1                            0                            0                            0]\n",
       "[ 0  0 s0 s1  0  0]  [                           0                            0                            0 1/2*3^(1/6)*2^(2/3)*s7^(1/3)                            0                            0]\n",
       "[ 0  0 s2 s3 s4  0]  [                           0                            0                            0                            0 1/3*3^(5/6)*2^(1/3)*s7^(2/3)                            0]\n",
       "[ 0  0  0 s5 s6 s7], [                           0                            0                            0                            0                            0                           s7]\n",
       ")"
      ]
     },
     "execution_count": 33,
     "metadata": {},
     "output_type": "execute_result"
    }
   ],
   "source": [
    "Sigma, Sigma_nil"
   ]
  },
  {
   "cell_type": "markdown",
   "metadata": {},
   "source": [
    "### Isometry with the nilsoliton metric given in [Will11]\n",
    "\n",
    "The nilsoliton metric from the 2011 paper of Will which is isomorphic to $\\mathfrak h_{21}$ is the number $12$ given by $(0, 0, 0, 3^\\frac12 \\, \\mathbf{12}, 2 \\, \\mathbf{14}, 3^\\frac12 \\, \\mathbf{15})$."
   ]
  },
  {
   "cell_type": "code",
   "execution_count": 34,
   "metadata": {},
   "outputs": [
    {
     "name": "stdout",
     "output_type": "stream",
     "text": [
      "('x1', 'x2')  =  sqrt(3)*x4\n",
      "('x1', 'x4')  =  2*x5\n",
      "('x1', 'x5')  =  sqrt(3)*x6\n"
     ]
    }
   ],
   "source": [
    "d_h = {('x1', 'x2'): {'x4': sqrt(3)}, ('x1', 'x4'): {'x5': 2}, ('x1', 'x5'): {'x6': sqrt(3)}} \n",
    "hh_will.<x1,x2,x3,x4,x5,x6> = LieAlgebra(SR, d_h, nilpotent=True) \n",
    "for kk in hh_will.structure_coefficients().keys():\n",
    "    print(kk, \" = \", hh_will.structure_coefficients()[kk])"
   ]
  },
  {
   "cell_type": "markdown",
   "metadata": {},
   "source": [
    "Notice that the basis $x_1, \\ldots, x_6$ is orthonormal by definition. We propose the following isomorphism between `hh_will` and `alg`."
   ]
  },
  {
   "cell_type": "code",
   "execution_count": 33,
   "metadata": {},
   "outputs": [
    {
     "data": {
      "text/html": [
       "<html>\\(\\displaystyle \\begin{array}{l}\n",
       "\\verb|Lie|\\verb| |\\verb|algebra|\\verb| |\\verb|morphism:|\\\\\n",
       "\\verb|  |\\verb|From:|\\verb| |\\verb|Nilpotent|\\verb| |\\verb|Lie|\\verb| |\\verb|algebra|\\verb| |\\verb|on|\\verb| |\\verb|6|\\verb| |\\verb|generators|\\verb| |\\verb|(x1,|\\verb| |\\verb|x2,|\\verb| |\\verb|x3,|\\verb| |\\verb|x4,|\\verb| |\\verb|x5,|\\verb| |\\verb|x6)|\\verb| |\\verb|over|\\verb| |\\verb|Symbolic|\\verb| |\\verb|Ring|\\\\\n",
       "\\verb|  |\\verb|To:|\\verb|   |\\verb|Nilpotent|\\verb| |\\verb|Lie|\\verb| |\\verb|algebra|\\verb| |\\verb|on|\\verb| |\\verb|6|\\verb| |\\verb|generators|\\verb| |\\verb|(e1,|\\verb| |\\verb|e2,|\\verb| |\\verb|e3,|\\verb| |\\verb|e4,|\\verb| |\\verb|e5,|\\verb| |\\verb|e6)|\\verb| |\\verb|over|\\verb| |\\verb|Symbolic|\\verb| |\\verb|Ring|\\\\\n",
       "\\verb\"  \"\\verb\"Defn:\"\\verb\" \"\\verb\"x1\"\\verb\" \"\\verb\"|-->\"\\verb\" \"\\verb\"e1\"\\\\\n",
       "\\verb\"        \"\\verb\"x2\"\\verb\" \"\\verb\"|-->\"\\verb\" \"\\verb\"e2\"\\\\\n",
       "\\verb\"        \"\\verb\"x3\"\\verb\" \"\\verb\"|-->\"\\verb\" \"\\verb\"e3\"\\\\\n",
       "\\verb\"        \"\\verb\"x4\"\\verb\" \"\\verb\"|-->\"\\verb\" \"\\verb\"-1/3*sqrt(3)*e4\"\\\\\n",
       "\\verb\"        \"\\verb\"x5\"\\verb\" \"\\verb\"|-->\"\\verb\" \"\\verb\"1/6*sqrt(3)*e5\"\\\\\n",
       "\\verb\"        \"\\verb\"x6\"\\verb\" \"\\verb\"|-->\"\\verb\" \"\\verb\"-1/6*e6\"\n",
       "\\end{array}\\)</html>"
      ],
      "text/latex": [
       "$\\displaystyle \\begin{array}{l}\n",
       "\\verb|Lie|\\verb| |\\verb|algebra|\\verb| |\\verb|morphism:|\\\\\n",
       "\\verb|  |\\verb|From:|\\verb| |\\verb|Nilpotent|\\verb| |\\verb|Lie|\\verb| |\\verb|algebra|\\verb| |\\verb|on|\\verb| |\\verb|6|\\verb| |\\verb|generators|\\verb| |\\verb|(x1,|\\verb| |\\verb|x2,|\\verb| |\\verb|x3,|\\verb| |\\verb|x4,|\\verb| |\\verb|x5,|\\verb| |\\verb|x6)|\\verb| |\\verb|over|\\verb| |\\verb|Symbolic|\\verb| |\\verb|Ring|\\\\\n",
       "\\verb|  |\\verb|To:|\\verb|   |\\verb|Nilpotent|\\verb| |\\verb|Lie|\\verb| |\\verb|algebra|\\verb| |\\verb|on|\\verb| |\\verb|6|\\verb| |\\verb|generators|\\verb| |\\verb|(e1,|\\verb| |\\verb|e2,|\\verb| |\\verb|e3,|\\verb| |\\verb|e4,|\\verb| |\\verb|e5,|\\verb| |\\verb|e6)|\\verb| |\\verb|over|\\verb| |\\verb|Symbolic|\\verb| |\\verb|Ring|\\\\\n",
       "\\verb\"  \"\\verb\"Defn:\"\\verb\" \"\\verb\"x1\"\\verb\" \"\\verb\"|-->\"\\verb\" \"\\verb\"e1\"\\\\\n",
       "\\verb\"        \"\\verb\"x2\"\\verb\" \"\\verb\"|-->\"\\verb\" \"\\verb\"e2\"\\\\\n",
       "\\verb\"        \"\\verb\"x3\"\\verb\" \"\\verb\"|-->\"\\verb\" \"\\verb\"e3\"\\\\\n",
       "\\verb\"        \"\\verb\"x4\"\\verb\" \"\\verb\"|-->\"\\verb\" \"\\verb\"-1/3*sqrt(3)*e4\"\\\\\n",
       "\\verb\"        \"\\verb\"x5\"\\verb\" \"\\verb\"|-->\"\\verb\" \"\\verb\"1/6*sqrt(3)*e5\"\\\\\n",
       "\\verb\"        \"\\verb\"x6\"\\verb\" \"\\verb\"|-->\"\\verb\" \"\\verb\"-1/6*e6\"\n",
       "\\end{array}$"
      ],
      "text/plain": [
       "Lie algebra morphism:\n",
       "  From: Nilpotent Lie algebra on 6 generators (x1, x2, x3, x4, x5, x6) over Symbolic Ring\n",
       "  To:   Nilpotent Lie algebra on 6 generators (e1, e2, e3, e4, e5, e6) over Symbolic Ring\n",
       "  Defn: x1 |--> e1\n",
       "        x2 |--> e2\n",
       "        x3 |--> e3\n",
       "        x4 |--> -1/3*sqrt(3)*e4\n",
       "        x5 |--> 1/6*sqrt(3)*e5\n",
       "        x6 |--> -1/6*e6"
      ]
     },
     "execution_count": 33,
     "metadata": {},
     "output_type": "execute_result"
    }
   ],
   "source": [
    "e1, e2, e3, e4, e5, e6 = alg.basis()\n",
    "f1, f2, f3, f4, f5, f6 = e1, e2, e3, -1/sqrt(3) * e4, 1/(2 * sqrt(3)) * e5, -1/6 * e6\n",
    "hh_will.morphism({x1:f1, x2:f2, x3:f3, x4:f4, x5:f5, x6:f6})"
   ]
  },
  {
   "cell_type": "markdown",
   "metadata": {},
   "source": [
    "We choose $s_7$ in order to make this isomorphism and isometry. "
   ]
  },
  {
   "cell_type": "code",
   "execution_count": 35,
   "metadata": {},
   "outputs": [
    {
     "data": {
      "text/html": [
       "<html><script type=\"math/tex; mode=display\">\\newcommand{\\Bold}[1]{\\mathbf{#1}}\\left(\\begin{array}{rrrrrr}\n",
       "1 & 0 & 0 & 0 & 0 & 0 \\\\\n",
       "0 & 1 & 0 & 0 & 0 & 0 \\\\\n",
       "0 & 0 & 1 & 0 & 0 & 0 \\\\\n",
       "0 & 0 & 0 & \\frac{1}{4} \\cdot 3^{\\frac{1}{3}} 2^{\\frac{1}{3}} s_{7}^{\\frac{2}{3}} & 0 & 0 \\\\\n",
       "0 & 0 & 0 & 0 & \\frac{1}{3} \\cdot 3^{\\frac{2}{3}} 2^{\\frac{2}{3}} s_{7}^{\\frac{4}{3}} & 0 \\\\\n",
       "0 & 0 & 0 & 0 & 0 & \\frac{1}{4} \\, s_{7}^{2}\n",
       "\\end{array}\\right)</script></html>"
      ],
      "text/latex": [
       "$$\\newcommand{\\Bold}[1]{\\mathbf{#1}}\\left(\\begin{array}{rrrrrr}\n",
       "1 & 0 & 0 & 0 & 0 & 0 \\\\\n",
       "0 & 1 & 0 & 0 & 0 & 0 \\\\\n",
       "0 & 0 & 1 & 0 & 0 & 0 \\\\\n",
       "0 & 0 & 0 & \\frac{1}{4} \\cdot 3^{\\frac{1}{3}} 2^{\\frac{1}{3}} s_{7}^{\\frac{2}{3}} & 0 & 0 \\\\\n",
       "0 & 0 & 0 & 0 & \\frac{1}{3} \\cdot 3^{\\frac{2}{3}} 2^{\\frac{2}{3}} s_{7}^{\\frac{4}{3}} & 0 \\\\\n",
       "0 & 0 & 0 & 0 & 0 & \\frac{1}{4} \\, s_{7}^{2}\n",
       "\\end{array}\\right)$$"
      ],
      "text/plain": [
       "[                           1                            0                            0                            0                            0                            0]\n",
       "[                           0                            1                            0                            0                            0                            0]\n",
       "[                           0                            0                            1                            0                            0                            0]\n",
       "[                           0                            0                            0 1/4*3^(1/3)*2^(1/3)*s7^(2/3)                            0                            0]\n",
       "[                           0                            0                            0                            0 1/3*3^(2/3)*2^(2/3)*s7^(4/3)                            0]\n",
       "[                           0                            0                            0                            0                            0                     1/4*s7^2]"
      ]
     },
     "execution_count": 35,
     "metadata": {},
     "output_type": "execute_result"
    }
   ],
   "source": [
    "on_basis_nil = [f1, f2, f3, f4, f5, f6]\n",
    "matrix(6, 6, lambda i, j: ip_nil(on_basis_nil[i], on_basis_nil[j])).canonicalize_radical()"
   ]
  },
  {
   "cell_type": "markdown",
   "metadata": {},
   "source": [
    "So it follows that $s_7 = 6$. Indeed,"
   ]
  },
  {
   "cell_type": "code",
   "execution_count": 36,
   "metadata": {},
   "outputs": [
    {
     "data": {
      "text/html": [
       "<html><script type=\"math/tex; mode=display\">\\newcommand{\\Bold}[1]{\\mathbf{#1}}\\left(\\begin{array}{rrrrrr}\n",
       "1 & 0 & 0 & 0 & 0 & 0 \\\\\n",
       "0 & 1 & 0 & 0 & 0 & 0 \\\\\n",
       "0 & 0 & 1 & 0 & 0 & 0 \\\\\n",
       "0 & 0 & 0 & \\frac{3}{2} & 0 & 0 \\\\\n",
       "0 & 0 & 0 & 0 & 12 & 0 \\\\\n",
       "0 & 0 & 0 & 0 & 0 & 9\n",
       "\\end{array}\\right)</script></html>"
      ],
      "text/latex": [
       "$$\\newcommand{\\Bold}[1]{\\mathbf{#1}}\\left(\\begin{array}{rrrrrr}\n",
       "1 & 0 & 0 & 0 & 0 & 0 \\\\\n",
       "0 & 1 & 0 & 0 & 0 & 0 \\\\\n",
       "0 & 0 & 1 & 0 & 0 & 0 \\\\\n",
       "0 & 0 & 0 & \\frac{3}{2} & 0 & 0 \\\\\n",
       "0 & 0 & 0 & 0 & 12 & 0 \\\\\n",
       "0 & 0 & 0 & 0 & 0 & 9\n",
       "\\end{array}\\right)$$"
      ],
      "text/plain": [
       "[  1   0   0   0   0   0]\n",
       "[  0   1   0   0   0   0]\n",
       "[  0   0   1   0   0   0]\n",
       "[  0   0   0 3/2   0   0]\n",
       "[  0   0   0   0  12   0]\n",
       "[  0   0   0   0   0   9]"
      ]
     },
     "execution_count": 36,
     "metadata": {},
     "output_type": "execute_result"
    }
   ],
   "source": [
    "_.subs(s7=6).canonicalize_radical()"
   ]
  },
  {
   "cell_type": "markdown",
   "metadata": {},
   "source": [
    "So, the nilsoliton metric from Will's paper is"
   ]
  },
  {
   "cell_type": "code",
   "execution_count": 37,
   "metadata": {},
   "outputs": [
    {
     "data": {
      "text/html": [
       "<html><script type=\"math/tex; mode=display\">\\newcommand{\\Bold}[1]{\\mathbf{#1}}\\left(\\begin{array}{rrrrrr}\n",
       "1 & 0 & 0 & 0 & 0 & 0 \\\\\n",
       "0 & 1 & 0 & 0 & 0 & 0 \\\\\n",
       "0 & 0 & 1 & 0 & 0 & 0 \\\\\n",
       "0 & 0 & 0 & 3 & 0 & 0 \\\\\n",
       "0 & 0 & 0 & 0 & 12 & 0 \\\\\n",
       "0 & 0 & 0 & 0 & 0 & 36\n",
       "\\end{array}\\right)</script></html>"
      ],
      "text/latex": [
       "$$\\newcommand{\\Bold}[1]{\\mathbf{#1}}\\left(\\begin{array}{rrrrrr}\n",
       "1 & 0 & 0 & 0 & 0 & 0 \\\\\n",
       "0 & 1 & 0 & 0 & 0 & 0 \\\\\n",
       "0 & 0 & 1 & 0 & 0 & 0 \\\\\n",
       "0 & 0 & 0 & 3 & 0 & 0 \\\\\n",
       "0 & 0 & 0 & 0 & 12 & 0 \\\\\n",
       "0 & 0 & 0 & 0 & 0 & 36\n",
       "\\end{array}\\right)$$"
      ],
      "text/plain": [
       "[ 1  0  0  0  0  0]\n",
       "[ 0  1  0  0  0  0]\n",
       "[ 0  0  1  0  0  0]\n",
       "[ 0  0  0  3  0  0]\n",
       "[ 0  0  0  0 12  0]\n",
       "[ 0  0  0  0  0 36]"
      ]
     },
     "execution_count": 37,
     "metadata": {},
     "output_type": "execute_result"
    }
   ],
   "source": [
    "g_will = g_nil.subs(s7=6).canonicalize_radical()\n",
    "g_will"
   ]
  },
  {
   "cell_type": "markdown",
   "metadata": {},
   "source": [
    "## Case $\\mathfrak h_{22}$"
   ]
  },
  {
   "cell_type": "code",
   "execution_count": 38,
   "metadata": {},
   "outputs": [
    {
     "name": "stdout",
     "output_type": "stream",
     "text": [
      "CPU times: user 3.16 s, sys: 16 ms, total: 3.17 s\n",
      "Wall time: 3.04 s\n"
     ]
    },
    {
     "data": {
      "text/html": [
       "<html><script type=\"math/tex; mode=display\">\\newcommand{\\Bold}[1]{\\mathbf{#1}}\\left(\\left(\\begin{array}{rrrrrr}\n",
       "1 & 0 & 0 & 0 & 0 & 0 \\\\\n",
       "0 & s_{0}^{2} & 0 & 0 & 0 & 0 \\\\\n",
       "0 & 0 & s_{1}^{2} + s_{3}^{2} + 1 & s_{1} s_{2} + s_{3} s_{4} & s_{3} s_{5} & 0 \\\\\n",
       "0 & 0 & s_{1} s_{2} + s_{3} s_{4} & s_{2}^{2} + s_{4}^{2} + s_{6}^{2} & s_{4} s_{5} + s_{6} s_{7} & s_{6} s_{8} \\\\\n",
       "0 & 0 & s_{3} s_{5} & s_{4} s_{5} + s_{6} s_{7} & s_{5}^{2} + s_{7}^{2} & s_{7} s_{8} \\\\\n",
       "0 & 0 & 0 & s_{6} s_{8} & s_{7} s_{8} & s_{8}^{2}\n",
       "\\end{array}\\right), \\left(\\begin{array}{rrrrrr}\n",
       "1 & 0 & 0 & 0 & 0 & 0 \\\\\n",
       "0 & s_{0} & 0 & 0 & 0 & 0 \\\\\n",
       "0 & 0 & 1 & 0 & 0 & 0 \\\\\n",
       "0 & 0 & s_{1} & s_{2} & 0 & 0 \\\\\n",
       "0 & 0 & s_{3} & s_{4} & s_{5} & 0 \\\\\n",
       "0 & 0 & 0 & s_{6} & s_{7} & s_{8}\n",
       "\\end{array}\\right)\\right)</script></html>"
      ],
      "text/latex": [
       "$$\\newcommand{\\Bold}[1]{\\mathbf{#1}}\\left(\\left(\\begin{array}{rrrrrr}\n",
       "1 & 0 & 0 & 0 & 0 & 0 \\\\\n",
       "0 & s_{0}^{2} & 0 & 0 & 0 & 0 \\\\\n",
       "0 & 0 & s_{1}^{2} + s_{3}^{2} + 1 & s_{1} s_{2} + s_{3} s_{4} & s_{3} s_{5} & 0 \\\\\n",
       "0 & 0 & s_{1} s_{2} + s_{3} s_{4} & s_{2}^{2} + s_{4}^{2} + s_{6}^{2} & s_{4} s_{5} + s_{6} s_{7} & s_{6} s_{8} \\\\\n",
       "0 & 0 & s_{3} s_{5} & s_{4} s_{5} + s_{6} s_{7} & s_{5}^{2} + s_{7}^{2} & s_{7} s_{8} \\\\\n",
       "0 & 0 & 0 & s_{6} s_{8} & s_{7} s_{8} & s_{8}^{2}\n",
       "\\end{array}\\right), \\left(\\begin{array}{rrrrrr}\n",
       "1 & 0 & 0 & 0 & 0 & 0 \\\\\n",
       "0 & s_{0} & 0 & 0 & 0 & 0 \\\\\n",
       "0 & 0 & 1 & 0 & 0 & 0 \\\\\n",
       "0 & 0 & s_{1} & s_{2} & 0 & 0 \\\\\n",
       "0 & 0 & s_{3} & s_{4} & s_{5} & 0 \\\\\n",
       "0 & 0 & 0 & s_{6} & s_{7} & s_{8}\n",
       "\\end{array}\\right)\\right)$$"
      ],
      "text/plain": [
       "(\n",
       "[                 1                  0                  0                  0                  0                  0]\n",
       "[                 0               s0^2                  0                  0                  0                  0]\n",
       "[                 0                  0    s1^2 + s3^2 + 1      s1*s2 + s3*s4              s3*s5                  0]\n",
       "[                 0                  0      s1*s2 + s3*s4 s2^2 + s4^2 + s6^2      s4*s5 + s6*s7              s6*s8]\n",
       "[                 0                  0              s3*s5      s4*s5 + s6*s7        s5^2 + s7^2              s7*s8]\n",
       "[                 0                  0                  0              s6*s8              s7*s8               s8^2],\n",
       "\n",
       "[ 1  0  0  0  0  0]\n",
       "[ 0 s0  0  0  0  0]\n",
       "[ 0  0  1  0  0  0]\n",
       "[ 0  0 s1 s2  0  0]\n",
       "[ 0  0 s3 s4 s5  0]\n",
       "[ 0  0  0 s6 s7 s8]\n",
       ")"
      ]
     },
     "execution_count": 38,
     "metadata": {},
     "output_type": "execute_result"
    }
   ],
   "source": [
    "construct_the_algebra(\"h22\")\n",
    "%time generic_metric(alg_name) # long time\n",
    "g, Sigma"
   ]
  },
  {
   "cell_type": "markdown",
   "metadata": {},
   "source": [
    "We can avoid very long computations by working with diagonal metrics. "
   ]
  },
  {
   "cell_type": "code",
   "execution_count": 39,
   "metadata": {},
   "outputs": [
    {
     "data": {
      "text/html": [
       "<html><script type=\"math/tex; mode=display\">\\newcommand{\\Bold}[1]{\\mathbf{#1}}\\left(\\begin{array}{rrrrrr}\n",
       "1 & 0 & 0 & 0 & 0 & 0 \\\\\n",
       "0 & s_{0}^{2} & 0 & 0 & 0 & 0 \\\\\n",
       "0 & 0 & 1 & 0 & 0 & 0 \\\\\n",
       "0 & 0 & 0 & s_{2}^{2} & 0 & 0 \\\\\n",
       "0 & 0 & 0 & 0 & s_{5}^{2} & 0 \\\\\n",
       "0 & 0 & 0 & 0 & 0 & s_{8}^{2}\n",
       "\\end{array}\\right)</script></html>"
      ],
      "text/latex": [
       "$$\\newcommand{\\Bold}[1]{\\mathbf{#1}}\\left(\\begin{array}{rrrrrr}\n",
       "1 & 0 & 0 & 0 & 0 & 0 \\\\\n",
       "0 & s_{0}^{2} & 0 & 0 & 0 & 0 \\\\\n",
       "0 & 0 & 1 & 0 & 0 & 0 \\\\\n",
       "0 & 0 & 0 & s_{2}^{2} & 0 & 0 \\\\\n",
       "0 & 0 & 0 & 0 & s_{5}^{2} & 0 \\\\\n",
       "0 & 0 & 0 & 0 & 0 & s_{8}^{2}\n",
       "\\end{array}\\right)$$"
      ],
      "text/plain": [
       "[   1    0    0    0    0    0]\n",
       "[   0 s0^2    0    0    0    0]\n",
       "[   0    0    1    0    0    0]\n",
       "[   0    0    0 s2^2    0    0]\n",
       "[   0    0    0    0 s5^2    0]\n",
       "[   0    0    0    0    0 s8^2]"
      ]
     },
     "execution_count": 39,
     "metadata": {},
     "output_type": "execute_result"
    }
   ],
   "source": [
    "g_diag = g.subs(s1=0,s3=0,s4=0,s6=0,s7=0)\n",
    "Sigma_diag = Sigma.subs(s1=0,s3=0,s4=0,s6=0,s7=0)\n",
    "g_diag"
   ]
  },
  {
   "cell_type": "markdown",
   "metadata": {},
   "source": [
    "Now we compute the Ricci tensor."
   ]
  },
  {
   "cell_type": "code",
   "execution_count": 40,
   "metadata": {},
   "outputs": [
    {
     "data": {
      "text/html": [
       "<html><script type=\"math/tex; mode=display\">\\newcommand{\\Bold}[1]{\\mathbf{#1}}\\left[e1, \\frac{1}{s_{0}}e2, e3, \\frac{1}{s_{2}}e4, \\frac{1}{s_{5}}e5, \\frac{1}{s_{8}}e6\\right]</script></html>"
      ],
      "text/latex": [
       "$$\\newcommand{\\Bold}[1]{\\mathbf{#1}}\\left[e1, \\frac{1}{s_{0}}e2, e3, \\frac{1}{s_{2}}e4, \\frac{1}{s_{5}}e5, \\frac{1}{s_{8}}e6\\right]$$"
      ],
      "text/plain": [
       "[e1, 1/s0*e2, e3, 1/s2*e4, 1/s5*e5, 1/s8*e6]"
      ]
     },
     "metadata": {},
     "output_type": "display_data"
    },
    {
     "data": {
      "text/html": [
       "<html><script type=\"math/tex; mode=display\">\\newcommand{\\Bold}[1]{\\mathbf{#1}}\\left(\\begin{array}{rrrrrr}\n",
       "-\\frac{s_{2}^{4} s_{5}^{2} + s_{0}^{2} s_{5}^{4} + s_{0}^{2} s_{2}^{2} s_{8}^{2}}{2 \\, s_{0}^{2} s_{2}^{2} s_{5}^{2}} & 0 & 0 & 0 & 0 & 0 \\\\\n",
       "0 & -\\frac{s_{2}^{4} + s_{8}^{2}}{2 \\, s_{0}^{2} s_{2}^{2}} & 0 & 0 & 0 & 0 \\\\\n",
       "0 & 0 & 0 & 0 & 0 & 0 \\\\\n",
       "0 & 0 & 0 & \\frac{s_{2}^{4} - s_{0}^{2} s_{5}^{2} - s_{8}^{2}}{2 \\, s_{0}^{2} s_{2}^{2}} & 0 & 0 \\\\\n",
       "0 & 0 & 0 & 0 & \\frac{s_{5}^{4} - s_{2}^{2} s_{8}^{2}}{2 \\, s_{2}^{2} s_{5}^{2}} & 0 \\\\\n",
       "0 & 0 & 0 & 0 & 0 & \\frac{{\\left(s_{0}^{2} s_{2}^{2} + s_{5}^{2}\\right)} s_{8}^{2}}{2 \\, s_{0}^{2} s_{2}^{2} s_{5}^{2}}\n",
       "\\end{array}\\right)</script></html>"
      ],
      "text/latex": [
       "$$\\newcommand{\\Bold}[1]{\\mathbf{#1}}\\left(\\begin{array}{rrrrrr}\n",
       "-\\frac{s_{2}^{4} s_{5}^{2} + s_{0}^{2} s_{5}^{4} + s_{0}^{2} s_{2}^{2} s_{8}^{2}}{2 \\, s_{0}^{2} s_{2}^{2} s_{5}^{2}} & 0 & 0 & 0 & 0 & 0 \\\\\n",
       "0 & -\\frac{s_{2}^{4} + s_{8}^{2}}{2 \\, s_{0}^{2} s_{2}^{2}} & 0 & 0 & 0 & 0 \\\\\n",
       "0 & 0 & 0 & 0 & 0 & 0 \\\\\n",
       "0 & 0 & 0 & \\frac{s_{2}^{4} - s_{0}^{2} s_{5}^{2} - s_{8}^{2}}{2 \\, s_{0}^{2} s_{2}^{2}} & 0 & 0 \\\\\n",
       "0 & 0 & 0 & 0 & \\frac{s_{5}^{4} - s_{2}^{2} s_{8}^{2}}{2 \\, s_{2}^{2} s_{5}^{2}} & 0 \\\\\n",
       "0 & 0 & 0 & 0 & 0 & \\frac{{\\left(s_{0}^{2} s_{2}^{2} + s_{5}^{2}\\right)} s_{8}^{2}}{2 \\, s_{0}^{2} s_{2}^{2} s_{5}^{2}}\n",
       "\\end{array}\\right)$$"
      ],
      "text/plain": [
       "[-1/2*(s2^4*s5^2 + s0^2*s5^4 + s0^2*s2^2*s8^2)/(s0^2*s2^2*s5^2)                                                              0                                                              0                                                              0                                                              0                                                              0]\n",
       "[                                                             0                                 -1/2*(s2^4 + s8^2)/(s0^2*s2^2)                                                              0                                                              0                                                              0                                                              0]\n",
       "[                                                             0                                                              0                                                              0                                                              0                                                              0                                                              0]\n",
       "[                                                             0                                                              0                                                              0                      1/2*(s2^4 - s0^2*s5^2 - s8^2)/(s0^2*s2^2)                                                              0                                                              0]\n",
       "[                                                             0                                                              0                                                              0                                                              0                             1/2*(s5^4 - s2^2*s8^2)/(s2^2*s5^2)                                                              0]\n",
       "[                                                             0                                                              0                                                              0                                                              0                                                              0                   1/2*(s0^2*s2^2 + s5^2)*s8^2/(s0^2*s2^2*s5^2)]"
      ]
     },
     "execution_count": 40,
     "metadata": {},
     "output_type": "execute_result"
    }
   ],
   "source": [
    "ip = inner_product_from_matrix(alg, g_diag)\n",
    "on_basis = gram_schmidt(alg, ip)\n",
    "display(on_basis)\n",
    "Ric_on_basis = Ric_on(alg, g_diag, on_basis).simplify_full() # we need .simplify_full() otherwise computations take too long\n",
    "Ric_on_basis"
   ]
  },
  {
   "cell_type": "markdown",
   "metadata": {},
   "source": [
    "Now we solve equation $(*)$. Recall that the derivation $D$ can be assumed in diagonal form"
   ]
  },
  {
   "cell_type": "code",
   "execution_count": 41,
   "metadata": {},
   "outputs": [
    {
     "data": {
      "text/html": [
       "<html><script type=\"math/tex; mode=display\">\\newcommand{\\Bold}[1]{\\mathbf{#1}}\\left(\\begin{array}{rrrrrr}\n",
       "d_{0} & 0 & 0 & 0 & 0 & 0 \\\\\n",
       "0 & 2 \\, d_{0} & 0 & 0 & 0 & 0 \\\\\n",
       "0 & 0 & d_{4} & 0 & 0 & 0 \\\\\n",
       "0 & 0 & 0 & 3 \\, d_{0} & 0 & 0 \\\\\n",
       "0 & 0 & 0 & 0 & 4 \\, d_{0} & 0 \\\\\n",
       "0 & 0 & 0 & 0 & 0 & 5 \\, d_{0}\n",
       "\\end{array}\\right)</script></html>"
      ],
      "text/latex": [
       "$$\\newcommand{\\Bold}[1]{\\mathbf{#1}}\\left(\\begin{array}{rrrrrr}\n",
       "d_{0} & 0 & 0 & 0 & 0 & 0 \\\\\n",
       "0 & 2 \\, d_{0} & 0 & 0 & 0 & 0 \\\\\n",
       "0 & 0 & d_{4} & 0 & 0 & 0 \\\\\n",
       "0 & 0 & 0 & 3 \\, d_{0} & 0 & 0 \\\\\n",
       "0 & 0 & 0 & 0 & 4 \\, d_{0} & 0 \\\\\n",
       "0 & 0 & 0 & 0 & 0 & 5 \\, d_{0}\n",
       "\\end{array}\\right)$$"
      ],
      "text/plain": [
       "[  d0    0    0    0    0    0]\n",
       "[   0 2*d0    0    0    0    0]\n",
       "[   0    0   d4    0    0    0]\n",
       "[   0    0    0 3*d0    0    0]\n",
       "[   0    0    0    0 4*d0    0]\n",
       "[   0    0    0    0    0 5*d0]"
      ]
     },
     "metadata": {},
     "output_type": "display_data"
    },
    {
     "data": {
      "text/html": [
       "<html><script type=\"math/tex; mode=display\">\\newcommand{\\Bold}[1]{\\mathbf{#1}}\\left[-c - d_{0} - \\frac{s_{2}^{4} s_{5}^{2} + s_{0}^{2} s_{5}^{4} + s_{0}^{2} s_{2}^{2} s_{8}^{2}}{2 \\, s_{0}^{2} s_{2}^{2} s_{5}^{2}}, -c - 2 \\, d_{0} - \\frac{s_{2}^{4} + s_{8}^{2}}{2 \\, s_{0}^{2} s_{2}^{2}}, -c - d_{4}, -c - 3 \\, d_{0} + \\frac{s_{2}^{4} - s_{0}^{2} s_{5}^{2} - s_{8}^{2}}{2 \\, s_{0}^{2} s_{2}^{2}}, -c - 4 \\, d_{0} + \\frac{s_{5}^{4} - s_{2}^{2} s_{8}^{2}}{2 \\, s_{2}^{2} s_{5}^{2}}, -c - 5 \\, d_{0} + \\frac{{\\left(s_{0}^{2} s_{2}^{2} + s_{5}^{2}\\right)} s_{8}^{2}}{2 \\, s_{0}^{2} s_{2}^{2} s_{5}^{2}}\\right]</script></html>"
      ],
      "text/latex": [
       "$$\\newcommand{\\Bold}[1]{\\mathbf{#1}}\\left[-c - d_{0} - \\frac{s_{2}^{4} s_{5}^{2} + s_{0}^{2} s_{5}^{4} + s_{0}^{2} s_{2}^{2} s_{8}^{2}}{2 \\, s_{0}^{2} s_{2}^{2} s_{5}^{2}}, -c - 2 \\, d_{0} - \\frac{s_{2}^{4} + s_{8}^{2}}{2 \\, s_{0}^{2} s_{2}^{2}}, -c - d_{4}, -c - 3 \\, d_{0} + \\frac{s_{2}^{4} - s_{0}^{2} s_{5}^{2} - s_{8}^{2}}{2 \\, s_{0}^{2} s_{2}^{2}}, -c - 4 \\, d_{0} + \\frac{s_{5}^{4} - s_{2}^{2} s_{8}^{2}}{2 \\, s_{2}^{2} s_{5}^{2}}, -c - 5 \\, d_{0} + \\frac{{\\left(s_{0}^{2} s_{2}^{2} + s_{5}^{2}\\right)} s_{8}^{2}}{2 \\, s_{0}^{2} s_{2}^{2} s_{5}^{2}}\\right]$$"
      ],
      "text/plain": [
       "[-c - d0 - 1/2*(s2^4*s5^2 + s0^2*s5^4 + s0^2*s2^2*s8^2)/(s0^2*s2^2*s5^2),\n",
       " -c - 2*d0 - 1/2*(s2^4 + s8^2)/(s0^2*s2^2),\n",
       " -c - d4,\n",
       " -c - 3*d0 + 1/2*(s2^4 - s0^2*s5^2 - s8^2)/(s0^2*s2^2),\n",
       " -c - 4*d0 + 1/2*(s5^4 - s2^2*s8^2)/(s2^2*s5^2),\n",
       " -c - 5*d0 + 1/2*(s0^2*s2^2 + s5^2)*s8^2/(s0^2*s2^2*s5^2)]"
      ]
     },
     "execution_count": 41,
     "metadata": {},
     "output_type": "execute_result"
    }
   ],
   "source": [
    "c = var(\"c\")\n",
    "D = der_gen_diag\n",
    "display(D)\n",
    "nilsoliton_eqs = (Ric_on_basis - c * identity_matrix(alg.dimension()) - D).coefficients()\n",
    "nilsoliton_eqs"
   ]
  },
  {
   "cell_type": "code",
   "execution_count": 42,
   "metadata": {},
   "outputs": [
    {
     "data": {
      "text/html": [
       "<html><script type=\"math/tex; mode=display\">\\newcommand{\\Bold}[1]{\\mathbf{#1}}\\left[c, d_{0}, d_{4}, s_{5}, s_{8}, s_{0}, s_{2}\\right]</script></html>"
      ],
      "text/latex": [
       "$$\\newcommand{\\Bold}[1]{\\mathbf{#1}}\\left[c, d_{0}, d_{4}, s_{5}, s_{8}, s_{0}, s_{2}\\right]$$"
      ],
      "text/plain": [
       "[c, d0, d4, s5, s8, s0, s2]"
      ]
     },
     "metadata": {},
     "output_type": "display_data"
    },
    {
     "name": "stdout",
     "output_type": "stream",
     "text": [
      "CPU times: user 35.5 s, sys: 0 ns, total: 35.5 s\n",
      "Wall time: 35.5 s\n"
     ]
    },
    {
     "data": {
      "text/html": [
       "<html><script type=\"math/tex; mode=display\">\\newcommand{\\Bold}[1]{\\mathbf{#1}}\\left\\{c : -\\frac{11 \\cdot 3^{\\frac{1}{4}} 2^{\\frac{3}{4}} {\\left(s_{8}^{6}\\right)}^{\\frac{3}{4}}}{12 \\, s_{8}^{4}}, d_{0} : \\frac{3^{\\frac{1}{4}} 2^{\\frac{3}{4}} {\\left(s_{8}^{6}\\right)}^{\\frac{3}{4}}}{4 \\, s_{8}^{4}}, d_{4} : \\frac{11 \\cdot 3^{\\frac{1}{4}} 2^{\\frac{3}{4}} {\\left(s_{8}^{6}\\right)}^{\\frac{3}{4}}}{12 \\, s_{8}^{4}}, s_{0} : -\\frac{3^{\\frac{1}{8}} 2^{\\frac{7}{8}} {\\left(s_{8}^{6}\\right)}^{\\frac{3}{8}}}{2 \\, s_{8}^{2}}, s_{2} : -\\frac{3^{\\frac{1}{4}} 2^{\\frac{3}{4}} {\\left(s_{8}^{6}\\right)}^{\\frac{1}{4}}}{2 \\, s_{8}}, s_{5} : -\\frac{1}{2} \\cdot 3^{\\frac{3}{8}} 2^{\\frac{5}{8}} {\\left(s_{8}^{6}\\right)}^{\\frac{1}{8}}\\right\\}</script></html>"
      ],
      "text/latex": [
       "$$\\newcommand{\\Bold}[1]{\\mathbf{#1}}\\left\\{c : -\\frac{11 \\cdot 3^{\\frac{1}{4}} 2^{\\frac{3}{4}} {\\left(s_{8}^{6}\\right)}^{\\frac{3}{4}}}{12 \\, s_{8}^{4}}, d_{0} : \\frac{3^{\\frac{1}{4}} 2^{\\frac{3}{4}} {\\left(s_{8}^{6}\\right)}^{\\frac{3}{4}}}{4 \\, s_{8}^{4}}, d_{4} : \\frac{11 \\cdot 3^{\\frac{1}{4}} 2^{\\frac{3}{4}} {\\left(s_{8}^{6}\\right)}^{\\frac{3}{4}}}{12 \\, s_{8}^{4}}, s_{0} : -\\frac{3^{\\frac{1}{8}} 2^{\\frac{7}{8}} {\\left(s_{8}^{6}\\right)}^{\\frac{3}{8}}}{2 \\, s_{8}^{2}}, s_{2} : -\\frac{3^{\\frac{1}{4}} 2^{\\frac{3}{4}} {\\left(s_{8}^{6}\\right)}^{\\frac{1}{4}}}{2 \\, s_{8}}, s_{5} : -\\frac{1}{2} \\cdot 3^{\\frac{3}{8}} 2^{\\frac{5}{8}} {\\left(s_{8}^{6}\\right)}^{\\frac{1}{8}}\\right\\}$$"
      ],
      "text/plain": [
       "{c: -11/12*3^(1/4)*2^(3/4)*(s8^6)^(3/4)/s8^4,\n",
       " d0: 1/4*3^(1/4)*2^(3/4)*(s8^6)^(3/4)/s8^4,\n",
       " d4: 11/12*3^(1/4)*2^(3/4)*(s8^6)^(3/4)/s8^4,\n",
       " s0: -1/2*3^(1/8)*2^(7/8)*(s8^6)^(3/8)/s8^2,\n",
       " s2: -1/2*3^(1/4)*2^(3/4)*(s8^6)^(1/4)/s8,\n",
       " s5: -1/2*3^(3/8)*2^(5/8)*(s8^6)^(1/8)}"
      ]
     },
     "metadata": {},
     "output_type": "display_data"
    },
    {
     "data": {
      "text/html": [
       "<html><script type=\"math/tex; mode=display\">\\newcommand{\\Bold}[1]{\\mathbf{#1}}\\left\\{c : -\\frac{11 \\cdot 3^{\\frac{1}{4}} 2^{\\frac{3}{4}} {\\left(s_{8}^{6}\\right)}^{\\frac{3}{4}}}{12 \\, s_{8}^{4}}, d_{0} : \\frac{3^{\\frac{1}{4}} 2^{\\frac{3}{4}} {\\left(s_{8}^{6}\\right)}^{\\frac{3}{4}}}{4 \\, s_{8}^{4}}, d_{4} : \\frac{11 \\cdot 3^{\\frac{1}{4}} 2^{\\frac{3}{4}} {\\left(s_{8}^{6}\\right)}^{\\frac{3}{4}}}{12 \\, s_{8}^{4}}, s_{0} : -\\frac{3^{\\frac{1}{8}} 2^{\\frac{7}{8}} {\\left(s_{8}^{6}\\right)}^{\\frac{3}{8}}}{2 \\, s_{8}^{2}}, s_{2} : -\\frac{3^{\\frac{1}{4}} 2^{\\frac{3}{4}} {\\left(s_{8}^{6}\\right)}^{\\frac{1}{4}}}{2 \\, s_{8}}, s_{5} : \\frac{1}{2} \\cdot 3^{\\frac{3}{8}} 2^{\\frac{5}{8}} {\\left(s_{8}^{6}\\right)}^{\\frac{1}{8}}\\right\\}</script></html>"
      ],
      "text/latex": [
       "$$\\newcommand{\\Bold}[1]{\\mathbf{#1}}\\left\\{c : -\\frac{11 \\cdot 3^{\\frac{1}{4}} 2^{\\frac{3}{4}} {\\left(s_{8}^{6}\\right)}^{\\frac{3}{4}}}{12 \\, s_{8}^{4}}, d_{0} : \\frac{3^{\\frac{1}{4}} 2^{\\frac{3}{4}} {\\left(s_{8}^{6}\\right)}^{\\frac{3}{4}}}{4 \\, s_{8}^{4}}, d_{4} : \\frac{11 \\cdot 3^{\\frac{1}{4}} 2^{\\frac{3}{4}} {\\left(s_{8}^{6}\\right)}^{\\frac{3}{4}}}{12 \\, s_{8}^{4}}, s_{0} : -\\frac{3^{\\frac{1}{8}} 2^{\\frac{7}{8}} {\\left(s_{8}^{6}\\right)}^{\\frac{3}{8}}}{2 \\, s_{8}^{2}}, s_{2} : -\\frac{3^{\\frac{1}{4}} 2^{\\frac{3}{4}} {\\left(s_{8}^{6}\\right)}^{\\frac{1}{4}}}{2 \\, s_{8}}, s_{5} : \\frac{1}{2} \\cdot 3^{\\frac{3}{8}} 2^{\\frac{5}{8}} {\\left(s_{8}^{6}\\right)}^{\\frac{1}{8}}\\right\\}$$"
      ],
      "text/plain": [
       "{c: -11/12*3^(1/4)*2^(3/4)*(s8^6)^(3/4)/s8^4,\n",
       " d0: 1/4*3^(1/4)*2^(3/4)*(s8^6)^(3/4)/s8^4,\n",
       " d4: 11/12*3^(1/4)*2^(3/4)*(s8^6)^(3/4)/s8^4,\n",
       " s0: -1/2*3^(1/8)*2^(7/8)*(s8^6)^(3/8)/s8^2,\n",
       " s2: -1/2*3^(1/4)*2^(3/4)*(s8^6)^(1/4)/s8,\n",
       " s5: 1/2*3^(3/8)*2^(5/8)*(s8^6)^(1/8)}"
      ]
     },
     "metadata": {},
     "output_type": "display_data"
    },
    {
     "data": {
      "text/html": [
       "<html><script type=\"math/tex; mode=display\">\\newcommand{\\Bold}[1]{\\mathbf{#1}}\\left\\{c : -\\frac{11 \\cdot 3^{\\frac{1}{4}} 2^{\\frac{3}{4}} {\\left(s_{8}^{6}\\right)}^{\\frac{3}{4}}}{12 \\, s_{8}^{4}}, d_{0} : \\frac{3^{\\frac{1}{4}} 2^{\\frac{3}{4}} {\\left(s_{8}^{6}\\right)}^{\\frac{3}{4}}}{4 \\, s_{8}^{4}}, d_{4} : \\frac{11 \\cdot 3^{\\frac{1}{4}} 2^{\\frac{3}{4}} {\\left(s_{8}^{6}\\right)}^{\\frac{3}{4}}}{12 \\, s_{8}^{4}}, s_{0} : -\\frac{3^{\\frac{1}{8}} 2^{\\frac{7}{8}} {\\left(s_{8}^{6}\\right)}^{\\frac{3}{8}}}{2 \\, s_{8}^{2}}, s_{2} : \\frac{3^{\\frac{1}{4}} 2^{\\frac{3}{4}} {\\left(s_{8}^{6}\\right)}^{\\frac{1}{4}}}{2 \\, s_{8}}, s_{5} : -\\frac{1}{2} \\cdot 3^{\\frac{3}{8}} 2^{\\frac{5}{8}} {\\left(s_{8}^{6}\\right)}^{\\frac{1}{8}}\\right\\}</script></html>"
      ],
      "text/latex": [
       "$$\\newcommand{\\Bold}[1]{\\mathbf{#1}}\\left\\{c : -\\frac{11 \\cdot 3^{\\frac{1}{4}} 2^{\\frac{3}{4}} {\\left(s_{8}^{6}\\right)}^{\\frac{3}{4}}}{12 \\, s_{8}^{4}}, d_{0} : \\frac{3^{\\frac{1}{4}} 2^{\\frac{3}{4}} {\\left(s_{8}^{6}\\right)}^{\\frac{3}{4}}}{4 \\, s_{8}^{4}}, d_{4} : \\frac{11 \\cdot 3^{\\frac{1}{4}} 2^{\\frac{3}{4}} {\\left(s_{8}^{6}\\right)}^{\\frac{3}{4}}}{12 \\, s_{8}^{4}}, s_{0} : -\\frac{3^{\\frac{1}{8}} 2^{\\frac{7}{8}} {\\left(s_{8}^{6}\\right)}^{\\frac{3}{8}}}{2 \\, s_{8}^{2}}, s_{2} : \\frac{3^{\\frac{1}{4}} 2^{\\frac{3}{4}} {\\left(s_{8}^{6}\\right)}^{\\frac{1}{4}}}{2 \\, s_{8}}, s_{5} : -\\frac{1}{2} \\cdot 3^{\\frac{3}{8}} 2^{\\frac{5}{8}} {\\left(s_{8}^{6}\\right)}^{\\frac{1}{8}}\\right\\}$$"
      ],
      "text/plain": [
       "{c: -11/12*3^(1/4)*2^(3/4)*(s8^6)^(3/4)/s8^4,\n",
       " d0: 1/4*3^(1/4)*2^(3/4)*(s8^6)^(3/4)/s8^4,\n",
       " d4: 11/12*3^(1/4)*2^(3/4)*(s8^6)^(3/4)/s8^4,\n",
       " s0: -1/2*3^(1/8)*2^(7/8)*(s8^6)^(3/8)/s8^2,\n",
       " s2: 1/2*3^(1/4)*2^(3/4)*(s8^6)^(1/4)/s8,\n",
       " s5: -1/2*3^(3/8)*2^(5/8)*(s8^6)^(1/8)}"
      ]
     },
     "metadata": {},
     "output_type": "display_data"
    },
    {
     "data": {
      "text/html": [
       "<html><script type=\"math/tex; mode=display\">\\newcommand{\\Bold}[1]{\\mathbf{#1}}\\left\\{c : -\\frac{11 \\cdot 3^{\\frac{1}{4}} 2^{\\frac{3}{4}} {\\left(s_{8}^{6}\\right)}^{\\frac{3}{4}}}{12 \\, s_{8}^{4}}, d_{0} : \\frac{3^{\\frac{1}{4}} 2^{\\frac{3}{4}} {\\left(s_{8}^{6}\\right)}^{\\frac{3}{4}}}{4 \\, s_{8}^{4}}, d_{4} : \\frac{11 \\cdot 3^{\\frac{1}{4}} 2^{\\frac{3}{4}} {\\left(s_{8}^{6}\\right)}^{\\frac{3}{4}}}{12 \\, s_{8}^{4}}, s_{0} : -\\frac{3^{\\frac{1}{8}} 2^{\\frac{7}{8}} {\\left(s_{8}^{6}\\right)}^{\\frac{3}{8}}}{2 \\, s_{8}^{2}}, s_{2} : \\frac{3^{\\frac{1}{4}} 2^{\\frac{3}{4}} {\\left(s_{8}^{6}\\right)}^{\\frac{1}{4}}}{2 \\, s_{8}}, s_{5} : \\frac{1}{2} \\cdot 3^{\\frac{3}{8}} 2^{\\frac{5}{8}} {\\left(s_{8}^{6}\\right)}^{\\frac{1}{8}}\\right\\}</script></html>"
      ],
      "text/latex": [
       "$$\\newcommand{\\Bold}[1]{\\mathbf{#1}}\\left\\{c : -\\frac{11 \\cdot 3^{\\frac{1}{4}} 2^{\\frac{3}{4}} {\\left(s_{8}^{6}\\right)}^{\\frac{3}{4}}}{12 \\, s_{8}^{4}}, d_{0} : \\frac{3^{\\frac{1}{4}} 2^{\\frac{3}{4}} {\\left(s_{8}^{6}\\right)}^{\\frac{3}{4}}}{4 \\, s_{8}^{4}}, d_{4} : \\frac{11 \\cdot 3^{\\frac{1}{4}} 2^{\\frac{3}{4}} {\\left(s_{8}^{6}\\right)}^{\\frac{3}{4}}}{12 \\, s_{8}^{4}}, s_{0} : -\\frac{3^{\\frac{1}{8}} 2^{\\frac{7}{8}} {\\left(s_{8}^{6}\\right)}^{\\frac{3}{8}}}{2 \\, s_{8}^{2}}, s_{2} : \\frac{3^{\\frac{1}{4}} 2^{\\frac{3}{4}} {\\left(s_{8}^{6}\\right)}^{\\frac{1}{4}}}{2 \\, s_{8}}, s_{5} : \\frac{1}{2} \\cdot 3^{\\frac{3}{8}} 2^{\\frac{5}{8}} {\\left(s_{8}^{6}\\right)}^{\\frac{1}{8}}\\right\\}$$"
      ],
      "text/plain": [
       "{c: -11/12*3^(1/4)*2^(3/4)*(s8^6)^(3/4)/s8^4,\n",
       " d0: 1/4*3^(1/4)*2^(3/4)*(s8^6)^(3/4)/s8^4,\n",
       " d4: 11/12*3^(1/4)*2^(3/4)*(s8^6)^(3/4)/s8^4,\n",
       " s0: -1/2*3^(1/8)*2^(7/8)*(s8^6)^(3/8)/s8^2,\n",
       " s2: 1/2*3^(1/4)*2^(3/4)*(s8^6)^(1/4)/s8,\n",
       " s5: 1/2*3^(3/8)*2^(5/8)*(s8^6)^(1/8)}"
      ]
     },
     "metadata": {},
     "output_type": "display_data"
    },
    {
     "data": {
      "text/html": [
       "<html><script type=\"math/tex; mode=display\">\\newcommand{\\Bold}[1]{\\mathbf{#1}}\\left\\{c : -\\frac{11 \\cdot 3^{\\frac{1}{4}} 2^{\\frac{3}{4}} {\\left(s_{8}^{6}\\right)}^{\\frac{3}{4}}}{12 \\, s_{8}^{4}}, d_{0} : \\frac{3^{\\frac{1}{4}} 2^{\\frac{3}{4}} {\\left(s_{8}^{6}\\right)}^{\\frac{3}{4}}}{4 \\, s_{8}^{4}}, d_{4} : \\frac{11 \\cdot 3^{\\frac{1}{4}} 2^{\\frac{3}{4}} {\\left(s_{8}^{6}\\right)}^{\\frac{3}{4}}}{12 \\, s_{8}^{4}}, s_{0} : \\frac{3^{\\frac{1}{8}} 2^{\\frac{7}{8}} {\\left(s_{8}^{6}\\right)}^{\\frac{3}{8}}}{2 \\, s_{8}^{2}}, s_{2} : -\\frac{3^{\\frac{1}{4}} 2^{\\frac{3}{4}} {\\left(s_{8}^{6}\\right)}^{\\frac{1}{4}}}{2 \\, s_{8}}, s_{5} : -\\frac{1}{2} \\cdot 3^{\\frac{3}{8}} 2^{\\frac{5}{8}} {\\left(s_{8}^{6}\\right)}^{\\frac{1}{8}}\\right\\}</script></html>"
      ],
      "text/latex": [
       "$$\\newcommand{\\Bold}[1]{\\mathbf{#1}}\\left\\{c : -\\frac{11 \\cdot 3^{\\frac{1}{4}} 2^{\\frac{3}{4}} {\\left(s_{8}^{6}\\right)}^{\\frac{3}{4}}}{12 \\, s_{8}^{4}}, d_{0} : \\frac{3^{\\frac{1}{4}} 2^{\\frac{3}{4}} {\\left(s_{8}^{6}\\right)}^{\\frac{3}{4}}}{4 \\, s_{8}^{4}}, d_{4} : \\frac{11 \\cdot 3^{\\frac{1}{4}} 2^{\\frac{3}{4}} {\\left(s_{8}^{6}\\right)}^{\\frac{3}{4}}}{12 \\, s_{8}^{4}}, s_{0} : \\frac{3^{\\frac{1}{8}} 2^{\\frac{7}{8}} {\\left(s_{8}^{6}\\right)}^{\\frac{3}{8}}}{2 \\, s_{8}^{2}}, s_{2} : -\\frac{3^{\\frac{1}{4}} 2^{\\frac{3}{4}} {\\left(s_{8}^{6}\\right)}^{\\frac{1}{4}}}{2 \\, s_{8}}, s_{5} : -\\frac{1}{2} \\cdot 3^{\\frac{3}{8}} 2^{\\frac{5}{8}} {\\left(s_{8}^{6}\\right)}^{\\frac{1}{8}}\\right\\}$$"
      ],
      "text/plain": [
       "{c: -11/12*3^(1/4)*2^(3/4)*(s8^6)^(3/4)/s8^4,\n",
       " d0: 1/4*3^(1/4)*2^(3/4)*(s8^6)^(3/4)/s8^4,\n",
       " d4: 11/12*3^(1/4)*2^(3/4)*(s8^6)^(3/4)/s8^4,\n",
       " s0: 1/2*3^(1/8)*2^(7/8)*(s8^6)^(3/8)/s8^2,\n",
       " s2: -1/2*3^(1/4)*2^(3/4)*(s8^6)^(1/4)/s8,\n",
       " s5: -1/2*3^(3/8)*2^(5/8)*(s8^6)^(1/8)}"
      ]
     },
     "metadata": {},
     "output_type": "display_data"
    },
    {
     "data": {
      "text/html": [
       "<html><script type=\"math/tex; mode=display\">\\newcommand{\\Bold}[1]{\\mathbf{#1}}\\left\\{c : -\\frac{11 \\cdot 3^{\\frac{1}{4}} 2^{\\frac{3}{4}} {\\left(s_{8}^{6}\\right)}^{\\frac{3}{4}}}{12 \\, s_{8}^{4}}, d_{0} : \\frac{3^{\\frac{1}{4}} 2^{\\frac{3}{4}} {\\left(s_{8}^{6}\\right)}^{\\frac{3}{4}}}{4 \\, s_{8}^{4}}, d_{4} : \\frac{11 \\cdot 3^{\\frac{1}{4}} 2^{\\frac{3}{4}} {\\left(s_{8}^{6}\\right)}^{\\frac{3}{4}}}{12 \\, s_{8}^{4}}, s_{0} : \\frac{3^{\\frac{1}{8}} 2^{\\frac{7}{8}} {\\left(s_{8}^{6}\\right)}^{\\frac{3}{8}}}{2 \\, s_{8}^{2}}, s_{2} : -\\frac{3^{\\frac{1}{4}} 2^{\\frac{3}{4}} {\\left(s_{8}^{6}\\right)}^{\\frac{1}{4}}}{2 \\, s_{8}}, s_{5} : \\frac{1}{2} \\cdot 3^{\\frac{3}{8}} 2^{\\frac{5}{8}} {\\left(s_{8}^{6}\\right)}^{\\frac{1}{8}}\\right\\}</script></html>"
      ],
      "text/latex": [
       "$$\\newcommand{\\Bold}[1]{\\mathbf{#1}}\\left\\{c : -\\frac{11 \\cdot 3^{\\frac{1}{4}} 2^{\\frac{3}{4}} {\\left(s_{8}^{6}\\right)}^{\\frac{3}{4}}}{12 \\, s_{8}^{4}}, d_{0} : \\frac{3^{\\frac{1}{4}} 2^{\\frac{3}{4}} {\\left(s_{8}^{6}\\right)}^{\\frac{3}{4}}}{4 \\, s_{8}^{4}}, d_{4} : \\frac{11 \\cdot 3^{\\frac{1}{4}} 2^{\\frac{3}{4}} {\\left(s_{8}^{6}\\right)}^{\\frac{3}{4}}}{12 \\, s_{8}^{4}}, s_{0} : \\frac{3^{\\frac{1}{8}} 2^{\\frac{7}{8}} {\\left(s_{8}^{6}\\right)}^{\\frac{3}{8}}}{2 \\, s_{8}^{2}}, s_{2} : -\\frac{3^{\\frac{1}{4}} 2^{\\frac{3}{4}} {\\left(s_{8}^{6}\\right)}^{\\frac{1}{4}}}{2 \\, s_{8}}, s_{5} : \\frac{1}{2} \\cdot 3^{\\frac{3}{8}} 2^{\\frac{5}{8}} {\\left(s_{8}^{6}\\right)}^{\\frac{1}{8}}\\right\\}$$"
      ],
      "text/plain": [
       "{c: -11/12*3^(1/4)*2^(3/4)*(s8^6)^(3/4)/s8^4,\n",
       " d0: 1/4*3^(1/4)*2^(3/4)*(s8^6)^(3/4)/s8^4,\n",
       " d4: 11/12*3^(1/4)*2^(3/4)*(s8^6)^(3/4)/s8^4,\n",
       " s0: 1/2*3^(1/8)*2^(7/8)*(s8^6)^(3/8)/s8^2,\n",
       " s2: -1/2*3^(1/4)*2^(3/4)*(s8^6)^(1/4)/s8,\n",
       " s5: 1/2*3^(3/8)*2^(5/8)*(s8^6)^(1/8)}"
      ]
     },
     "metadata": {},
     "output_type": "display_data"
    },
    {
     "data": {
      "text/html": [
       "<html><script type=\"math/tex; mode=display\">\\newcommand{\\Bold}[1]{\\mathbf{#1}}\\left\\{c : -\\frac{11 \\cdot 3^{\\frac{1}{4}} 2^{\\frac{3}{4}} {\\left(s_{8}^{6}\\right)}^{\\frac{3}{4}}}{12 \\, s_{8}^{4}}, d_{0} : \\frac{3^{\\frac{1}{4}} 2^{\\frac{3}{4}} {\\left(s_{8}^{6}\\right)}^{\\frac{3}{4}}}{4 \\, s_{8}^{4}}, d_{4} : \\frac{11 \\cdot 3^{\\frac{1}{4}} 2^{\\frac{3}{4}} {\\left(s_{8}^{6}\\right)}^{\\frac{3}{4}}}{12 \\, s_{8}^{4}}, s_{0} : \\frac{3^{\\frac{1}{8}} 2^{\\frac{7}{8}} {\\left(s_{8}^{6}\\right)}^{\\frac{3}{8}}}{2 \\, s_{8}^{2}}, s_{2} : \\frac{3^{\\frac{1}{4}} 2^{\\frac{3}{4}} {\\left(s_{8}^{6}\\right)}^{\\frac{1}{4}}}{2 \\, s_{8}}, s_{5} : -\\frac{1}{2} \\cdot 3^{\\frac{3}{8}} 2^{\\frac{5}{8}} {\\left(s_{8}^{6}\\right)}^{\\frac{1}{8}}\\right\\}</script></html>"
      ],
      "text/latex": [
       "$$\\newcommand{\\Bold}[1]{\\mathbf{#1}}\\left\\{c : -\\frac{11 \\cdot 3^{\\frac{1}{4}} 2^{\\frac{3}{4}} {\\left(s_{8}^{6}\\right)}^{\\frac{3}{4}}}{12 \\, s_{8}^{4}}, d_{0} : \\frac{3^{\\frac{1}{4}} 2^{\\frac{3}{4}} {\\left(s_{8}^{6}\\right)}^{\\frac{3}{4}}}{4 \\, s_{8}^{4}}, d_{4} : \\frac{11 \\cdot 3^{\\frac{1}{4}} 2^{\\frac{3}{4}} {\\left(s_{8}^{6}\\right)}^{\\frac{3}{4}}}{12 \\, s_{8}^{4}}, s_{0} : \\frac{3^{\\frac{1}{8}} 2^{\\frac{7}{8}} {\\left(s_{8}^{6}\\right)}^{\\frac{3}{8}}}{2 \\, s_{8}^{2}}, s_{2} : \\frac{3^{\\frac{1}{4}} 2^{\\frac{3}{4}} {\\left(s_{8}^{6}\\right)}^{\\frac{1}{4}}}{2 \\, s_{8}}, s_{5} : -\\frac{1}{2} \\cdot 3^{\\frac{3}{8}} 2^{\\frac{5}{8}} {\\left(s_{8}^{6}\\right)}^{\\frac{1}{8}}\\right\\}$$"
      ],
      "text/plain": [
       "{c: -11/12*3^(1/4)*2^(3/4)*(s8^6)^(3/4)/s8^4,\n",
       " d0: 1/4*3^(1/4)*2^(3/4)*(s8^6)^(3/4)/s8^4,\n",
       " d4: 11/12*3^(1/4)*2^(3/4)*(s8^6)^(3/4)/s8^4,\n",
       " s0: 1/2*3^(1/8)*2^(7/8)*(s8^6)^(3/8)/s8^2,\n",
       " s2: 1/2*3^(1/4)*2^(3/4)*(s8^6)^(1/4)/s8,\n",
       " s5: -1/2*3^(3/8)*2^(5/8)*(s8^6)^(1/8)}"
      ]
     },
     "metadata": {},
     "output_type": "display_data"
    },
    {
     "data": {
      "text/html": [
       "<html><script type=\"math/tex; mode=display\">\\newcommand{\\Bold}[1]{\\mathbf{#1}}\\left\\{c : -\\frac{11 \\cdot 3^{\\frac{1}{4}} 2^{\\frac{3}{4}} {\\left(s_{8}^{6}\\right)}^{\\frac{3}{4}}}{12 \\, s_{8}^{4}}, d_{0} : \\frac{3^{\\frac{1}{4}} 2^{\\frac{3}{4}} {\\left(s_{8}^{6}\\right)}^{\\frac{3}{4}}}{4 \\, s_{8}^{4}}, d_{4} : \\frac{11 \\cdot 3^{\\frac{1}{4}} 2^{\\frac{3}{4}} {\\left(s_{8}^{6}\\right)}^{\\frac{3}{4}}}{12 \\, s_{8}^{4}}, s_{0} : \\frac{3^{\\frac{1}{8}} 2^{\\frac{7}{8}} {\\left(s_{8}^{6}\\right)}^{\\frac{3}{8}}}{2 \\, s_{8}^{2}}, s_{2} : \\frac{3^{\\frac{1}{4}} 2^{\\frac{3}{4}} {\\left(s_{8}^{6}\\right)}^{\\frac{1}{4}}}{2 \\, s_{8}}, s_{5} : \\frac{1}{2} \\cdot 3^{\\frac{3}{8}} 2^{\\frac{5}{8}} {\\left(s_{8}^{6}\\right)}^{\\frac{1}{8}}\\right\\}</script></html>"
      ],
      "text/latex": [
       "$$\\newcommand{\\Bold}[1]{\\mathbf{#1}}\\left\\{c : -\\frac{11 \\cdot 3^{\\frac{1}{4}} 2^{\\frac{3}{4}} {\\left(s_{8}^{6}\\right)}^{\\frac{3}{4}}}{12 \\, s_{8}^{4}}, d_{0} : \\frac{3^{\\frac{1}{4}} 2^{\\frac{3}{4}} {\\left(s_{8}^{6}\\right)}^{\\frac{3}{4}}}{4 \\, s_{8}^{4}}, d_{4} : \\frac{11 \\cdot 3^{\\frac{1}{4}} 2^{\\frac{3}{4}} {\\left(s_{8}^{6}\\right)}^{\\frac{3}{4}}}{12 \\, s_{8}^{4}}, s_{0} : \\frac{3^{\\frac{1}{8}} 2^{\\frac{7}{8}} {\\left(s_{8}^{6}\\right)}^{\\frac{3}{8}}}{2 \\, s_{8}^{2}}, s_{2} : \\frac{3^{\\frac{1}{4}} 2^{\\frac{3}{4}} {\\left(s_{8}^{6}\\right)}^{\\frac{1}{4}}}{2 \\, s_{8}}, s_{5} : \\frac{1}{2} \\cdot 3^{\\frac{3}{8}} 2^{\\frac{5}{8}} {\\left(s_{8}^{6}\\right)}^{\\frac{1}{8}}\\right\\}$$"
      ],
      "text/plain": [
       "{c: -11/12*3^(1/4)*2^(3/4)*(s8^6)^(3/4)/s8^4,\n",
       " d0: 1/4*3^(1/4)*2^(3/4)*(s8^6)^(3/4)/s8^4,\n",
       " d4: 11/12*3^(1/4)*2^(3/4)*(s8^6)^(3/4)/s8^4,\n",
       " s0: 1/2*3^(1/8)*2^(7/8)*(s8^6)^(3/8)/s8^2,\n",
       " s2: 1/2*3^(1/4)*2^(3/4)*(s8^6)^(1/4)/s8,\n",
       " s5: 1/2*3^(3/8)*2^(5/8)*(s8^6)^(1/8)}"
      ]
     },
     "metadata": {},
     "output_type": "display_data"
    },
    {
     "data": {
      "text/html": [
       "<html><script type=\"math/tex; mode=display\">\\newcommand{\\Bold}[1]{\\mathbf{#1}}\\left\\{c : \\frac{11 \\cdot 3^{\\frac{1}{4}} 2^{\\frac{3}{4}} {\\left(s_{8}^{6}\\right)}^{\\frac{3}{4}}}{12 \\, s_{8}^{4}}, d_{0} : -\\frac{3^{\\frac{1}{4}} 2^{\\frac{3}{4}} {\\left(s_{8}^{6}\\right)}^{\\frac{3}{4}}}{4 \\, s_{8}^{4}}, d_{4} : -\\frac{11 \\cdot 3^{\\frac{1}{4}} 2^{\\frac{3}{4}} {\\left(s_{8}^{6}\\right)}^{\\frac{3}{4}}}{12 \\, s_{8}^{4}}, s_{0} : -\\frac{3^{\\frac{1}{8}} 2^{\\frac{7}{8}} \\sqrt{-{\\left(s_{8}^{6}\\right)}^{\\frac{3}{4}}}}{2 \\, s_{8}^{2}}, s_{2} : -\\frac{3^{\\frac{1}{4}} 2^{\\frac{3}{4}} {\\left(s_{8}^{6}\\right)}^{\\frac{1}{4}}}{2 \\, s_{8}}, s_{5} : -\\frac{1}{2} i \\cdot 3^{\\frac{3}{8}} 2^{\\frac{5}{8}} {\\left(s_{8}^{6}\\right)}^{\\frac{1}{8}}\\right\\}</script></html>"
      ],
      "text/latex": [
       "$$\\newcommand{\\Bold}[1]{\\mathbf{#1}}\\left\\{c : \\frac{11 \\cdot 3^{\\frac{1}{4}} 2^{\\frac{3}{4}} {\\left(s_{8}^{6}\\right)}^{\\frac{3}{4}}}{12 \\, s_{8}^{4}}, d_{0} : -\\frac{3^{\\frac{1}{4}} 2^{\\frac{3}{4}} {\\left(s_{8}^{6}\\right)}^{\\frac{3}{4}}}{4 \\, s_{8}^{4}}, d_{4} : -\\frac{11 \\cdot 3^{\\frac{1}{4}} 2^{\\frac{3}{4}} {\\left(s_{8}^{6}\\right)}^{\\frac{3}{4}}}{12 \\, s_{8}^{4}}, s_{0} : -\\frac{3^{\\frac{1}{8}} 2^{\\frac{7}{8}} \\sqrt{-{\\left(s_{8}^{6}\\right)}^{\\frac{3}{4}}}}{2 \\, s_{8}^{2}}, s_{2} : -\\frac{3^{\\frac{1}{4}} 2^{\\frac{3}{4}} {\\left(s_{8}^{6}\\right)}^{\\frac{1}{4}}}{2 \\, s_{8}}, s_{5} : -\\frac{1}{2} i \\cdot 3^{\\frac{3}{8}} 2^{\\frac{5}{8}} {\\left(s_{8}^{6}\\right)}^{\\frac{1}{8}}\\right\\}$$"
      ],
      "text/plain": [
       "{c: 11/12*3^(1/4)*2^(3/4)*(s8^6)^(3/4)/s8^4,\n",
       " d0: -1/4*3^(1/4)*2^(3/4)*(s8^6)^(3/4)/s8^4,\n",
       " d4: -11/12*3^(1/4)*2^(3/4)*(s8^6)^(3/4)/s8^4,\n",
       " s0: -1/2*3^(1/8)*2^(7/8)*sqrt(-(s8^6)^(3/4))/s8^2,\n",
       " s2: -1/2*3^(1/4)*2^(3/4)*(s8^6)^(1/4)/s8,\n",
       " s5: -1/2*I*3^(3/8)*2^(5/8)*(s8^6)^(1/8)}"
      ]
     },
     "metadata": {},
     "output_type": "display_data"
    },
    {
     "data": {
      "text/html": [
       "<html><script type=\"math/tex; mode=display\">\\newcommand{\\Bold}[1]{\\mathbf{#1}}\\left\\{c : \\frac{11 \\cdot 3^{\\frac{1}{4}} 2^{\\frac{3}{4}} {\\left(s_{8}^{6}\\right)}^{\\frac{3}{4}}}{12 \\, s_{8}^{4}}, d_{0} : -\\frac{3^{\\frac{1}{4}} 2^{\\frac{3}{4}} {\\left(s_{8}^{6}\\right)}^{\\frac{3}{4}}}{4 \\, s_{8}^{4}}, d_{4} : -\\frac{11 \\cdot 3^{\\frac{1}{4}} 2^{\\frac{3}{4}} {\\left(s_{8}^{6}\\right)}^{\\frac{3}{4}}}{12 \\, s_{8}^{4}}, s_{0} : -\\frac{3^{\\frac{1}{8}} 2^{\\frac{7}{8}} \\sqrt{-{\\left(s_{8}^{6}\\right)}^{\\frac{3}{4}}}}{2 \\, s_{8}^{2}}, s_{2} : -\\frac{3^{\\frac{1}{4}} 2^{\\frac{3}{4}} {\\left(s_{8}^{6}\\right)}^{\\frac{1}{4}}}{2 \\, s_{8}}, s_{5} : \\frac{1}{2} i \\cdot 3^{\\frac{3}{8}} 2^{\\frac{5}{8}} {\\left(s_{8}^{6}\\right)}^{\\frac{1}{8}}\\right\\}</script></html>"
      ],
      "text/latex": [
       "$$\\newcommand{\\Bold}[1]{\\mathbf{#1}}\\left\\{c : \\frac{11 \\cdot 3^{\\frac{1}{4}} 2^{\\frac{3}{4}} {\\left(s_{8}^{6}\\right)}^{\\frac{3}{4}}}{12 \\, s_{8}^{4}}, d_{0} : -\\frac{3^{\\frac{1}{4}} 2^{\\frac{3}{4}} {\\left(s_{8}^{6}\\right)}^{\\frac{3}{4}}}{4 \\, s_{8}^{4}}, d_{4} : -\\frac{11 \\cdot 3^{\\frac{1}{4}} 2^{\\frac{3}{4}} {\\left(s_{8}^{6}\\right)}^{\\frac{3}{4}}}{12 \\, s_{8}^{4}}, s_{0} : -\\frac{3^{\\frac{1}{8}} 2^{\\frac{7}{8}} \\sqrt{-{\\left(s_{8}^{6}\\right)}^{\\frac{3}{4}}}}{2 \\, s_{8}^{2}}, s_{2} : -\\frac{3^{\\frac{1}{4}} 2^{\\frac{3}{4}} {\\left(s_{8}^{6}\\right)}^{\\frac{1}{4}}}{2 \\, s_{8}}, s_{5} : \\frac{1}{2} i \\cdot 3^{\\frac{3}{8}} 2^{\\frac{5}{8}} {\\left(s_{8}^{6}\\right)}^{\\frac{1}{8}}\\right\\}$$"
      ],
      "text/plain": [
       "{c: 11/12*3^(1/4)*2^(3/4)*(s8^6)^(3/4)/s8^4,\n",
       " d0: -1/4*3^(1/4)*2^(3/4)*(s8^6)^(3/4)/s8^4,\n",
       " d4: -11/12*3^(1/4)*2^(3/4)*(s8^6)^(3/4)/s8^4,\n",
       " s0: -1/2*3^(1/8)*2^(7/8)*sqrt(-(s8^6)^(3/4))/s8^2,\n",
       " s2: -1/2*3^(1/4)*2^(3/4)*(s8^6)^(1/4)/s8,\n",
       " s5: 1/2*I*3^(3/8)*2^(5/8)*(s8^6)^(1/8)}"
      ]
     },
     "metadata": {},
     "output_type": "display_data"
    },
    {
     "data": {
      "text/html": [
       "<html><script type=\"math/tex; mode=display\">\\newcommand{\\Bold}[1]{\\mathbf{#1}}\\left\\{c : \\frac{11 \\cdot 3^{\\frac{1}{4}} 2^{\\frac{3}{4}} {\\left(s_{8}^{6}\\right)}^{\\frac{3}{4}}}{12 \\, s_{8}^{4}}, d_{0} : -\\frac{3^{\\frac{1}{4}} 2^{\\frac{3}{4}} {\\left(s_{8}^{6}\\right)}^{\\frac{3}{4}}}{4 \\, s_{8}^{4}}, d_{4} : -\\frac{11 \\cdot 3^{\\frac{1}{4}} 2^{\\frac{3}{4}} {\\left(s_{8}^{6}\\right)}^{\\frac{3}{4}}}{12 \\, s_{8}^{4}}, s_{0} : -\\frac{3^{\\frac{1}{8}} 2^{\\frac{7}{8}} \\sqrt{-{\\left(s_{8}^{6}\\right)}^{\\frac{3}{4}}}}{2 \\, s_{8}^{2}}, s_{2} : \\frac{3^{\\frac{1}{4}} 2^{\\frac{3}{4}} {\\left(s_{8}^{6}\\right)}^{\\frac{1}{4}}}{2 \\, s_{8}}, s_{5} : -\\frac{1}{2} i \\cdot 3^{\\frac{3}{8}} 2^{\\frac{5}{8}} {\\left(s_{8}^{6}\\right)}^{\\frac{1}{8}}\\right\\}</script></html>"
      ],
      "text/latex": [
       "$$\\newcommand{\\Bold}[1]{\\mathbf{#1}}\\left\\{c : \\frac{11 \\cdot 3^{\\frac{1}{4}} 2^{\\frac{3}{4}} {\\left(s_{8}^{6}\\right)}^{\\frac{3}{4}}}{12 \\, s_{8}^{4}}, d_{0} : -\\frac{3^{\\frac{1}{4}} 2^{\\frac{3}{4}} {\\left(s_{8}^{6}\\right)}^{\\frac{3}{4}}}{4 \\, s_{8}^{4}}, d_{4} : -\\frac{11 \\cdot 3^{\\frac{1}{4}} 2^{\\frac{3}{4}} {\\left(s_{8}^{6}\\right)}^{\\frac{3}{4}}}{12 \\, s_{8}^{4}}, s_{0} : -\\frac{3^{\\frac{1}{8}} 2^{\\frac{7}{8}} \\sqrt{-{\\left(s_{8}^{6}\\right)}^{\\frac{3}{4}}}}{2 \\, s_{8}^{2}}, s_{2} : \\frac{3^{\\frac{1}{4}} 2^{\\frac{3}{4}} {\\left(s_{8}^{6}\\right)}^{\\frac{1}{4}}}{2 \\, s_{8}}, s_{5} : -\\frac{1}{2} i \\cdot 3^{\\frac{3}{8}} 2^{\\frac{5}{8}} {\\left(s_{8}^{6}\\right)}^{\\frac{1}{8}}\\right\\}$$"
      ],
      "text/plain": [
       "{c: 11/12*3^(1/4)*2^(3/4)*(s8^6)^(3/4)/s8^4,\n",
       " d0: -1/4*3^(1/4)*2^(3/4)*(s8^6)^(3/4)/s8^4,\n",
       " d4: -11/12*3^(1/4)*2^(3/4)*(s8^6)^(3/4)/s8^4,\n",
       " s0: -1/2*3^(1/8)*2^(7/8)*sqrt(-(s8^6)^(3/4))/s8^2,\n",
       " s2: 1/2*3^(1/4)*2^(3/4)*(s8^6)^(1/4)/s8,\n",
       " s5: -1/2*I*3^(3/8)*2^(5/8)*(s8^6)^(1/8)}"
      ]
     },
     "metadata": {},
     "output_type": "display_data"
    },
    {
     "data": {
      "text/html": [
       "<html><script type=\"math/tex; mode=display\">\\newcommand{\\Bold}[1]{\\mathbf{#1}}\\left\\{c : \\frac{11 \\cdot 3^{\\frac{1}{4}} 2^{\\frac{3}{4}} {\\left(s_{8}^{6}\\right)}^{\\frac{3}{4}}}{12 \\, s_{8}^{4}}, d_{0} : -\\frac{3^{\\frac{1}{4}} 2^{\\frac{3}{4}} {\\left(s_{8}^{6}\\right)}^{\\frac{3}{4}}}{4 \\, s_{8}^{4}}, d_{4} : -\\frac{11 \\cdot 3^{\\frac{1}{4}} 2^{\\frac{3}{4}} {\\left(s_{8}^{6}\\right)}^{\\frac{3}{4}}}{12 \\, s_{8}^{4}}, s_{0} : -\\frac{3^{\\frac{1}{8}} 2^{\\frac{7}{8}} \\sqrt{-{\\left(s_{8}^{6}\\right)}^{\\frac{3}{4}}}}{2 \\, s_{8}^{2}}, s_{2} : \\frac{3^{\\frac{1}{4}} 2^{\\frac{3}{4}} {\\left(s_{8}^{6}\\right)}^{\\frac{1}{4}}}{2 \\, s_{8}}, s_{5} : \\frac{1}{2} i \\cdot 3^{\\frac{3}{8}} 2^{\\frac{5}{8}} {\\left(s_{8}^{6}\\right)}^{\\frac{1}{8}}\\right\\}</script></html>"
      ],
      "text/latex": [
       "$$\\newcommand{\\Bold}[1]{\\mathbf{#1}}\\left\\{c : \\frac{11 \\cdot 3^{\\frac{1}{4}} 2^{\\frac{3}{4}} {\\left(s_{8}^{6}\\right)}^{\\frac{3}{4}}}{12 \\, s_{8}^{4}}, d_{0} : -\\frac{3^{\\frac{1}{4}} 2^{\\frac{3}{4}} {\\left(s_{8}^{6}\\right)}^{\\frac{3}{4}}}{4 \\, s_{8}^{4}}, d_{4} : -\\frac{11 \\cdot 3^{\\frac{1}{4}} 2^{\\frac{3}{4}} {\\left(s_{8}^{6}\\right)}^{\\frac{3}{4}}}{12 \\, s_{8}^{4}}, s_{0} : -\\frac{3^{\\frac{1}{8}} 2^{\\frac{7}{8}} \\sqrt{-{\\left(s_{8}^{6}\\right)}^{\\frac{3}{4}}}}{2 \\, s_{8}^{2}}, s_{2} : \\frac{3^{\\frac{1}{4}} 2^{\\frac{3}{4}} {\\left(s_{8}^{6}\\right)}^{\\frac{1}{4}}}{2 \\, s_{8}}, s_{5} : \\frac{1}{2} i \\cdot 3^{\\frac{3}{8}} 2^{\\frac{5}{8}} {\\left(s_{8}^{6}\\right)}^{\\frac{1}{8}}\\right\\}$$"
      ],
      "text/plain": [
       "{c: 11/12*3^(1/4)*2^(3/4)*(s8^6)^(3/4)/s8^4,\n",
       " d0: -1/4*3^(1/4)*2^(3/4)*(s8^6)^(3/4)/s8^4,\n",
       " d4: -11/12*3^(1/4)*2^(3/4)*(s8^6)^(3/4)/s8^4,\n",
       " s0: -1/2*3^(1/8)*2^(7/8)*sqrt(-(s8^6)^(3/4))/s8^2,\n",
       " s2: 1/2*3^(1/4)*2^(3/4)*(s8^6)^(1/4)/s8,\n",
       " s5: 1/2*I*3^(3/8)*2^(5/8)*(s8^6)^(1/8)}"
      ]
     },
     "metadata": {},
     "output_type": "display_data"
    },
    {
     "data": {
      "text/html": [
       "<html><script type=\"math/tex; mode=display\">\\newcommand{\\Bold}[1]{\\mathbf{#1}}\\left\\{c : \\frac{11 \\cdot 3^{\\frac{1}{4}} 2^{\\frac{3}{4}} {\\left(s_{8}^{6}\\right)}^{\\frac{3}{4}}}{12 \\, s_{8}^{4}}, d_{0} : -\\frac{3^{\\frac{1}{4}} 2^{\\frac{3}{4}} {\\left(s_{8}^{6}\\right)}^{\\frac{3}{4}}}{4 \\, s_{8}^{4}}, d_{4} : -\\frac{11 \\cdot 3^{\\frac{1}{4}} 2^{\\frac{3}{4}} {\\left(s_{8}^{6}\\right)}^{\\frac{3}{4}}}{12 \\, s_{8}^{4}}, s_{0} : \\frac{3^{\\frac{1}{8}} 2^{\\frac{7}{8}} \\sqrt{-{\\left(s_{8}^{6}\\right)}^{\\frac{3}{4}}}}{2 \\, s_{8}^{2}}, s_{2} : -\\frac{3^{\\frac{1}{4}} 2^{\\frac{3}{4}} {\\left(s_{8}^{6}\\right)}^{\\frac{1}{4}}}{2 \\, s_{8}}, s_{5} : -\\frac{1}{2} i \\cdot 3^{\\frac{3}{8}} 2^{\\frac{5}{8}} {\\left(s_{8}^{6}\\right)}^{\\frac{1}{8}}\\right\\}</script></html>"
      ],
      "text/latex": [
       "$$\\newcommand{\\Bold}[1]{\\mathbf{#1}}\\left\\{c : \\frac{11 \\cdot 3^{\\frac{1}{4}} 2^{\\frac{3}{4}} {\\left(s_{8}^{6}\\right)}^{\\frac{3}{4}}}{12 \\, s_{8}^{4}}, d_{0} : -\\frac{3^{\\frac{1}{4}} 2^{\\frac{3}{4}} {\\left(s_{8}^{6}\\right)}^{\\frac{3}{4}}}{4 \\, s_{8}^{4}}, d_{4} : -\\frac{11 \\cdot 3^{\\frac{1}{4}} 2^{\\frac{3}{4}} {\\left(s_{8}^{6}\\right)}^{\\frac{3}{4}}}{12 \\, s_{8}^{4}}, s_{0} : \\frac{3^{\\frac{1}{8}} 2^{\\frac{7}{8}} \\sqrt{-{\\left(s_{8}^{6}\\right)}^{\\frac{3}{4}}}}{2 \\, s_{8}^{2}}, s_{2} : -\\frac{3^{\\frac{1}{4}} 2^{\\frac{3}{4}} {\\left(s_{8}^{6}\\right)}^{\\frac{1}{4}}}{2 \\, s_{8}}, s_{5} : -\\frac{1}{2} i \\cdot 3^{\\frac{3}{8}} 2^{\\frac{5}{8}} {\\left(s_{8}^{6}\\right)}^{\\frac{1}{8}}\\right\\}$$"
      ],
      "text/plain": [
       "{c: 11/12*3^(1/4)*2^(3/4)*(s8^6)^(3/4)/s8^4,\n",
       " d0: -1/4*3^(1/4)*2^(3/4)*(s8^6)^(3/4)/s8^4,\n",
       " d4: -11/12*3^(1/4)*2^(3/4)*(s8^6)^(3/4)/s8^4,\n",
       " s0: 1/2*3^(1/8)*2^(7/8)*sqrt(-(s8^6)^(3/4))/s8^2,\n",
       " s2: -1/2*3^(1/4)*2^(3/4)*(s8^6)^(1/4)/s8,\n",
       " s5: -1/2*I*3^(3/8)*2^(5/8)*(s8^6)^(1/8)}"
      ]
     },
     "metadata": {},
     "output_type": "display_data"
    },
    {
     "data": {
      "text/html": [
       "<html><script type=\"math/tex; mode=display\">\\newcommand{\\Bold}[1]{\\mathbf{#1}}\\left\\{c : \\frac{11 \\cdot 3^{\\frac{1}{4}} 2^{\\frac{3}{4}} {\\left(s_{8}^{6}\\right)}^{\\frac{3}{4}}}{12 \\, s_{8}^{4}}, d_{0} : -\\frac{3^{\\frac{1}{4}} 2^{\\frac{3}{4}} {\\left(s_{8}^{6}\\right)}^{\\frac{3}{4}}}{4 \\, s_{8}^{4}}, d_{4} : -\\frac{11 \\cdot 3^{\\frac{1}{4}} 2^{\\frac{3}{4}} {\\left(s_{8}^{6}\\right)}^{\\frac{3}{4}}}{12 \\, s_{8}^{4}}, s_{0} : \\frac{3^{\\frac{1}{8}} 2^{\\frac{7}{8}} \\sqrt{-{\\left(s_{8}^{6}\\right)}^{\\frac{3}{4}}}}{2 \\, s_{8}^{2}}, s_{2} : -\\frac{3^{\\frac{1}{4}} 2^{\\frac{3}{4}} {\\left(s_{8}^{6}\\right)}^{\\frac{1}{4}}}{2 \\, s_{8}}, s_{5} : \\frac{1}{2} i \\cdot 3^{\\frac{3}{8}} 2^{\\frac{5}{8}} {\\left(s_{8}^{6}\\right)}^{\\frac{1}{8}}\\right\\}</script></html>"
      ],
      "text/latex": [
       "$$\\newcommand{\\Bold}[1]{\\mathbf{#1}}\\left\\{c : \\frac{11 \\cdot 3^{\\frac{1}{4}} 2^{\\frac{3}{4}} {\\left(s_{8}^{6}\\right)}^{\\frac{3}{4}}}{12 \\, s_{8}^{4}}, d_{0} : -\\frac{3^{\\frac{1}{4}} 2^{\\frac{3}{4}} {\\left(s_{8}^{6}\\right)}^{\\frac{3}{4}}}{4 \\, s_{8}^{4}}, d_{4} : -\\frac{11 \\cdot 3^{\\frac{1}{4}} 2^{\\frac{3}{4}} {\\left(s_{8}^{6}\\right)}^{\\frac{3}{4}}}{12 \\, s_{8}^{4}}, s_{0} : \\frac{3^{\\frac{1}{8}} 2^{\\frac{7}{8}} \\sqrt{-{\\left(s_{8}^{6}\\right)}^{\\frac{3}{4}}}}{2 \\, s_{8}^{2}}, s_{2} : -\\frac{3^{\\frac{1}{4}} 2^{\\frac{3}{4}} {\\left(s_{8}^{6}\\right)}^{\\frac{1}{4}}}{2 \\, s_{8}}, s_{5} : \\frac{1}{2} i \\cdot 3^{\\frac{3}{8}} 2^{\\frac{5}{8}} {\\left(s_{8}^{6}\\right)}^{\\frac{1}{8}}\\right\\}$$"
      ],
      "text/plain": [
       "{c: 11/12*3^(1/4)*2^(3/4)*(s8^6)^(3/4)/s8^4,\n",
       " d0: -1/4*3^(1/4)*2^(3/4)*(s8^6)^(3/4)/s8^4,\n",
       " d4: -11/12*3^(1/4)*2^(3/4)*(s8^6)^(3/4)/s8^4,\n",
       " s0: 1/2*3^(1/8)*2^(7/8)*sqrt(-(s8^6)^(3/4))/s8^2,\n",
       " s2: -1/2*3^(1/4)*2^(3/4)*(s8^6)^(1/4)/s8,\n",
       " s5: 1/2*I*3^(3/8)*2^(5/8)*(s8^6)^(1/8)}"
      ]
     },
     "metadata": {},
     "output_type": "display_data"
    },
    {
     "data": {
      "text/html": [
       "<html><script type=\"math/tex; mode=display\">\\newcommand{\\Bold}[1]{\\mathbf{#1}}\\left\\{c : \\frac{11 \\cdot 3^{\\frac{1}{4}} 2^{\\frac{3}{4}} {\\left(s_{8}^{6}\\right)}^{\\frac{3}{4}}}{12 \\, s_{8}^{4}}, d_{0} : -\\frac{3^{\\frac{1}{4}} 2^{\\frac{3}{4}} {\\left(s_{8}^{6}\\right)}^{\\frac{3}{4}}}{4 \\, s_{8}^{4}}, d_{4} : -\\frac{11 \\cdot 3^{\\frac{1}{4}} 2^{\\frac{3}{4}} {\\left(s_{8}^{6}\\right)}^{\\frac{3}{4}}}{12 \\, s_{8}^{4}}, s_{0} : \\frac{3^{\\frac{1}{8}} 2^{\\frac{7}{8}} \\sqrt{-{\\left(s_{8}^{6}\\right)}^{\\frac{3}{4}}}}{2 \\, s_{8}^{2}}, s_{2} : \\frac{3^{\\frac{1}{4}} 2^{\\frac{3}{4}} {\\left(s_{8}^{6}\\right)}^{\\frac{1}{4}}}{2 \\, s_{8}}, s_{5} : -\\frac{1}{2} i \\cdot 3^{\\frac{3}{8}} 2^{\\frac{5}{8}} {\\left(s_{8}^{6}\\right)}^{\\frac{1}{8}}\\right\\}</script></html>"
      ],
      "text/latex": [
       "$$\\newcommand{\\Bold}[1]{\\mathbf{#1}}\\left\\{c : \\frac{11 \\cdot 3^{\\frac{1}{4}} 2^{\\frac{3}{4}} {\\left(s_{8}^{6}\\right)}^{\\frac{3}{4}}}{12 \\, s_{8}^{4}}, d_{0} : -\\frac{3^{\\frac{1}{4}} 2^{\\frac{3}{4}} {\\left(s_{8}^{6}\\right)}^{\\frac{3}{4}}}{4 \\, s_{8}^{4}}, d_{4} : -\\frac{11 \\cdot 3^{\\frac{1}{4}} 2^{\\frac{3}{4}} {\\left(s_{8}^{6}\\right)}^{\\frac{3}{4}}}{12 \\, s_{8}^{4}}, s_{0} : \\frac{3^{\\frac{1}{8}} 2^{\\frac{7}{8}} \\sqrt{-{\\left(s_{8}^{6}\\right)}^{\\frac{3}{4}}}}{2 \\, s_{8}^{2}}, s_{2} : \\frac{3^{\\frac{1}{4}} 2^{\\frac{3}{4}} {\\left(s_{8}^{6}\\right)}^{\\frac{1}{4}}}{2 \\, s_{8}}, s_{5} : -\\frac{1}{2} i \\cdot 3^{\\frac{3}{8}} 2^{\\frac{5}{8}} {\\left(s_{8}^{6}\\right)}^{\\frac{1}{8}}\\right\\}$$"
      ],
      "text/plain": [
       "{c: 11/12*3^(1/4)*2^(3/4)*(s8^6)^(3/4)/s8^4,\n",
       " d0: -1/4*3^(1/4)*2^(3/4)*(s8^6)^(3/4)/s8^4,\n",
       " d4: -11/12*3^(1/4)*2^(3/4)*(s8^6)^(3/4)/s8^4,\n",
       " s0: 1/2*3^(1/8)*2^(7/8)*sqrt(-(s8^6)^(3/4))/s8^2,\n",
       " s2: 1/2*3^(1/4)*2^(3/4)*(s8^6)^(1/4)/s8,\n",
       " s5: -1/2*I*3^(3/8)*2^(5/8)*(s8^6)^(1/8)}"
      ]
     },
     "metadata": {},
     "output_type": "display_data"
    },
    {
     "data": {
      "text/html": [
       "<html><script type=\"math/tex; mode=display\">\\newcommand{\\Bold}[1]{\\mathbf{#1}}\\left\\{c : \\frac{11 \\cdot 3^{\\frac{1}{4}} 2^{\\frac{3}{4}} {\\left(s_{8}^{6}\\right)}^{\\frac{3}{4}}}{12 \\, s_{8}^{4}}, d_{0} : -\\frac{3^{\\frac{1}{4}} 2^{\\frac{3}{4}} {\\left(s_{8}^{6}\\right)}^{\\frac{3}{4}}}{4 \\, s_{8}^{4}}, d_{4} : -\\frac{11 \\cdot 3^{\\frac{1}{4}} 2^{\\frac{3}{4}} {\\left(s_{8}^{6}\\right)}^{\\frac{3}{4}}}{12 \\, s_{8}^{4}}, s_{0} : \\frac{3^{\\frac{1}{8}} 2^{\\frac{7}{8}} \\sqrt{-{\\left(s_{8}^{6}\\right)}^{\\frac{3}{4}}}}{2 \\, s_{8}^{2}}, s_{2} : \\frac{3^{\\frac{1}{4}} 2^{\\frac{3}{4}} {\\left(s_{8}^{6}\\right)}^{\\frac{1}{4}}}{2 \\, s_{8}}, s_{5} : \\frac{1}{2} i \\cdot 3^{\\frac{3}{8}} 2^{\\frac{5}{8}} {\\left(s_{8}^{6}\\right)}^{\\frac{1}{8}}\\right\\}</script></html>"
      ],
      "text/latex": [
       "$$\\newcommand{\\Bold}[1]{\\mathbf{#1}}\\left\\{c : \\frac{11 \\cdot 3^{\\frac{1}{4}} 2^{\\frac{3}{4}} {\\left(s_{8}^{6}\\right)}^{\\frac{3}{4}}}{12 \\, s_{8}^{4}}, d_{0} : -\\frac{3^{\\frac{1}{4}} 2^{\\frac{3}{4}} {\\left(s_{8}^{6}\\right)}^{\\frac{3}{4}}}{4 \\, s_{8}^{4}}, d_{4} : -\\frac{11 \\cdot 3^{\\frac{1}{4}} 2^{\\frac{3}{4}} {\\left(s_{8}^{6}\\right)}^{\\frac{3}{4}}}{12 \\, s_{8}^{4}}, s_{0} : \\frac{3^{\\frac{1}{8}} 2^{\\frac{7}{8}} \\sqrt{-{\\left(s_{8}^{6}\\right)}^{\\frac{3}{4}}}}{2 \\, s_{8}^{2}}, s_{2} : \\frac{3^{\\frac{1}{4}} 2^{\\frac{3}{4}} {\\left(s_{8}^{6}\\right)}^{\\frac{1}{4}}}{2 \\, s_{8}}, s_{5} : \\frac{1}{2} i \\cdot 3^{\\frac{3}{8}} 2^{\\frac{5}{8}} {\\left(s_{8}^{6}\\right)}^{\\frac{1}{8}}\\right\\}$$"
      ],
      "text/plain": [
       "{c: 11/12*3^(1/4)*2^(3/4)*(s8^6)^(3/4)/s8^4,\n",
       " d0: -1/4*3^(1/4)*2^(3/4)*(s8^6)^(3/4)/s8^4,\n",
       " d4: -11/12*3^(1/4)*2^(3/4)*(s8^6)^(3/4)/s8^4,\n",
       " s0: 1/2*3^(1/8)*2^(7/8)*sqrt(-(s8^6)^(3/4))/s8^2,\n",
       " s2: 1/2*3^(1/4)*2^(3/4)*(s8^6)^(1/4)/s8,\n",
       " s5: 1/2*I*3^(3/8)*2^(5/8)*(s8^6)^(1/8)}"
      ]
     },
     "metadata": {},
     "output_type": "display_data"
    },
    {
     "data": {
      "text/html": [
       "<html><script type=\"math/tex; mode=display\">\\newcommand{\\Bold}[1]{\\mathbf{#1}}\\left\\{c : -\\frac{11 i \\cdot 3^{\\frac{1}{4}} 2^{\\frac{3}{4}} {\\left(s_{8}^{6}\\right)}^{\\frac{3}{4}}}{12 \\, s_{8}^{4}}, d_{0} : \\frac{i \\cdot 3^{\\frac{1}{4}} 2^{\\frac{3}{4}} {\\left(s_{8}^{6}\\right)}^{\\frac{3}{4}}}{4 \\, s_{8}^{4}}, d_{4} : \\frac{11 i \\cdot 3^{\\frac{1}{4}} 2^{\\frac{3}{4}} {\\left(s_{8}^{6}\\right)}^{\\frac{3}{4}}}{12 \\, s_{8}^{4}}, s_{0} : -\\frac{3^{\\frac{1}{8}} 2^{\\frac{7}{8}} \\sqrt{i \\, {\\left(s_{8}^{6}\\right)}^{\\frac{3}{4}}}}{2 \\, s_{8}^{2}}, s_{2} : -\\frac{3^{\\frac{1}{4}} 2^{\\frac{3}{4}} \\sqrt{-\\sqrt{s_{8}^{6}}}}{2 \\, s_{8}}, s_{5} : -\\left(\\frac{1}{2} i - \\frac{1}{2}\\right) \\cdot 54^{\\frac{1}{8}} {\\left(s_{8}^{6}\\right)}^{\\frac{1}{8}}\\right\\}</script></html>"
      ],
      "text/latex": [
       "$$\\newcommand{\\Bold}[1]{\\mathbf{#1}}\\left\\{c : -\\frac{11 i \\cdot 3^{\\frac{1}{4}} 2^{\\frac{3}{4}} {\\left(s_{8}^{6}\\right)}^{\\frac{3}{4}}}{12 \\, s_{8}^{4}}, d_{0} : \\frac{i \\cdot 3^{\\frac{1}{4}} 2^{\\frac{3}{4}} {\\left(s_{8}^{6}\\right)}^{\\frac{3}{4}}}{4 \\, s_{8}^{4}}, d_{4} : \\frac{11 i \\cdot 3^{\\frac{1}{4}} 2^{\\frac{3}{4}} {\\left(s_{8}^{6}\\right)}^{\\frac{3}{4}}}{12 \\, s_{8}^{4}}, s_{0} : -\\frac{3^{\\frac{1}{8}} 2^{\\frac{7}{8}} \\sqrt{i \\, {\\left(s_{8}^{6}\\right)}^{\\frac{3}{4}}}}{2 \\, s_{8}^{2}}, s_{2} : -\\frac{3^{\\frac{1}{4}} 2^{\\frac{3}{4}} \\sqrt{-\\sqrt{s_{8}^{6}}}}{2 \\, s_{8}}, s_{5} : -\\left(\\frac{1}{2} i - \\frac{1}{2}\\right) \\cdot 54^{\\frac{1}{8}} {\\left(s_{8}^{6}\\right)}^{\\frac{1}{8}}\\right\\}$$"
      ],
      "text/plain": [
       "{c: -11/12*I*3^(1/4)*2^(3/4)*(s8^6)^(3/4)/s8^4,\n",
       " d0: 1/4*I*3^(1/4)*2^(3/4)*(s8^6)^(3/4)/s8^4,\n",
       " d4: 11/12*I*3^(1/4)*2^(3/4)*(s8^6)^(3/4)/s8^4,\n",
       " s0: -1/2*3^(1/8)*2^(7/8)*sqrt(I*(s8^6)^(3/4))/s8^2,\n",
       " s2: -1/2*3^(1/4)*2^(3/4)*sqrt(-sqrt(s8^6))/s8,\n",
       " s5: -(1/2*I - 1/2)*54^(1/8)*(s8^6)^(1/8)}"
      ]
     },
     "metadata": {},
     "output_type": "display_data"
    },
    {
     "data": {
      "text/html": [
       "<html><script type=\"math/tex; mode=display\">\\newcommand{\\Bold}[1]{\\mathbf{#1}}\\left\\{c : -\\frac{11 i \\cdot 3^{\\frac{1}{4}} 2^{\\frac{3}{4}} {\\left(s_{8}^{6}\\right)}^{\\frac{3}{4}}}{12 \\, s_{8}^{4}}, d_{0} : \\frac{i \\cdot 3^{\\frac{1}{4}} 2^{\\frac{3}{4}} {\\left(s_{8}^{6}\\right)}^{\\frac{3}{4}}}{4 \\, s_{8}^{4}}, d_{4} : \\frac{11 i \\cdot 3^{\\frac{1}{4}} 2^{\\frac{3}{4}} {\\left(s_{8}^{6}\\right)}^{\\frac{3}{4}}}{12 \\, s_{8}^{4}}, s_{0} : -\\frac{3^{\\frac{1}{8}} 2^{\\frac{7}{8}} \\sqrt{i \\, {\\left(s_{8}^{6}\\right)}^{\\frac{3}{4}}}}{2 \\, s_{8}^{2}}, s_{2} : -\\frac{3^{\\frac{1}{4}} 2^{\\frac{3}{4}} \\sqrt{-\\sqrt{s_{8}^{6}}}}{2 \\, s_{8}}, s_{5} : \\left(\\frac{1}{2} i - \\frac{1}{2}\\right) \\cdot 54^{\\frac{1}{8}} {\\left(s_{8}^{6}\\right)}^{\\frac{1}{8}}\\right\\}</script></html>"
      ],
      "text/latex": [
       "$$\\newcommand{\\Bold}[1]{\\mathbf{#1}}\\left\\{c : -\\frac{11 i \\cdot 3^{\\frac{1}{4}} 2^{\\frac{3}{4}} {\\left(s_{8}^{6}\\right)}^{\\frac{3}{4}}}{12 \\, s_{8}^{4}}, d_{0} : \\frac{i \\cdot 3^{\\frac{1}{4}} 2^{\\frac{3}{4}} {\\left(s_{8}^{6}\\right)}^{\\frac{3}{4}}}{4 \\, s_{8}^{4}}, d_{4} : \\frac{11 i \\cdot 3^{\\frac{1}{4}} 2^{\\frac{3}{4}} {\\left(s_{8}^{6}\\right)}^{\\frac{3}{4}}}{12 \\, s_{8}^{4}}, s_{0} : -\\frac{3^{\\frac{1}{8}} 2^{\\frac{7}{8}} \\sqrt{i \\, {\\left(s_{8}^{6}\\right)}^{\\frac{3}{4}}}}{2 \\, s_{8}^{2}}, s_{2} : -\\frac{3^{\\frac{1}{4}} 2^{\\frac{3}{4}} \\sqrt{-\\sqrt{s_{8}^{6}}}}{2 \\, s_{8}}, s_{5} : \\left(\\frac{1}{2} i - \\frac{1}{2}\\right) \\cdot 54^{\\frac{1}{8}} {\\left(s_{8}^{6}\\right)}^{\\frac{1}{8}}\\right\\}$$"
      ],
      "text/plain": [
       "{c: -11/12*I*3^(1/4)*2^(3/4)*(s8^6)^(3/4)/s8^4,\n",
       " d0: 1/4*I*3^(1/4)*2^(3/4)*(s8^6)^(3/4)/s8^4,\n",
       " d4: 11/12*I*3^(1/4)*2^(3/4)*(s8^6)^(3/4)/s8^4,\n",
       " s0: -1/2*3^(1/8)*2^(7/8)*sqrt(I*(s8^6)^(3/4))/s8^2,\n",
       " s2: -1/2*3^(1/4)*2^(3/4)*sqrt(-sqrt(s8^6))/s8,\n",
       " s5: (1/2*I - 1/2)*54^(1/8)*(s8^6)^(1/8)}"
      ]
     },
     "metadata": {},
     "output_type": "display_data"
    },
    {
     "data": {
      "text/html": [
       "<html><script type=\"math/tex; mode=display\">\\newcommand{\\Bold}[1]{\\mathbf{#1}}\\left\\{c : -\\frac{11 i \\cdot 3^{\\frac{1}{4}} 2^{\\frac{3}{4}} {\\left(s_{8}^{6}\\right)}^{\\frac{3}{4}}}{12 \\, s_{8}^{4}}, d_{0} : \\frac{i \\cdot 3^{\\frac{1}{4}} 2^{\\frac{3}{4}} {\\left(s_{8}^{6}\\right)}^{\\frac{3}{4}}}{4 \\, s_{8}^{4}}, d_{4} : \\frac{11 i \\cdot 3^{\\frac{1}{4}} 2^{\\frac{3}{4}} {\\left(s_{8}^{6}\\right)}^{\\frac{3}{4}}}{12 \\, s_{8}^{4}}, s_{0} : -\\frac{3^{\\frac{1}{8}} 2^{\\frac{7}{8}} \\sqrt{i \\, {\\left(s_{8}^{6}\\right)}^{\\frac{3}{4}}}}{2 \\, s_{8}^{2}}, s_{2} : \\frac{3^{\\frac{1}{4}} 2^{\\frac{3}{4}} \\sqrt{-\\sqrt{s_{8}^{6}}}}{2 \\, s_{8}}, s_{5} : -\\left(\\frac{1}{2} i - \\frac{1}{2}\\right) \\cdot 54^{\\frac{1}{8}} {\\left(s_{8}^{6}\\right)}^{\\frac{1}{8}}\\right\\}</script></html>"
      ],
      "text/latex": [
       "$$\\newcommand{\\Bold}[1]{\\mathbf{#1}}\\left\\{c : -\\frac{11 i \\cdot 3^{\\frac{1}{4}} 2^{\\frac{3}{4}} {\\left(s_{8}^{6}\\right)}^{\\frac{3}{4}}}{12 \\, s_{8}^{4}}, d_{0} : \\frac{i \\cdot 3^{\\frac{1}{4}} 2^{\\frac{3}{4}} {\\left(s_{8}^{6}\\right)}^{\\frac{3}{4}}}{4 \\, s_{8}^{4}}, d_{4} : \\frac{11 i \\cdot 3^{\\frac{1}{4}} 2^{\\frac{3}{4}} {\\left(s_{8}^{6}\\right)}^{\\frac{3}{4}}}{12 \\, s_{8}^{4}}, s_{0} : -\\frac{3^{\\frac{1}{8}} 2^{\\frac{7}{8}} \\sqrt{i \\, {\\left(s_{8}^{6}\\right)}^{\\frac{3}{4}}}}{2 \\, s_{8}^{2}}, s_{2} : \\frac{3^{\\frac{1}{4}} 2^{\\frac{3}{4}} \\sqrt{-\\sqrt{s_{8}^{6}}}}{2 \\, s_{8}}, s_{5} : -\\left(\\frac{1}{2} i - \\frac{1}{2}\\right) \\cdot 54^{\\frac{1}{8}} {\\left(s_{8}^{6}\\right)}^{\\frac{1}{8}}\\right\\}$$"
      ],
      "text/plain": [
       "{c: -11/12*I*3^(1/4)*2^(3/4)*(s8^6)^(3/4)/s8^4,\n",
       " d0: 1/4*I*3^(1/4)*2^(3/4)*(s8^6)^(3/4)/s8^4,\n",
       " d4: 11/12*I*3^(1/4)*2^(3/4)*(s8^6)^(3/4)/s8^4,\n",
       " s0: -1/2*3^(1/8)*2^(7/8)*sqrt(I*(s8^6)^(3/4))/s8^2,\n",
       " s2: 1/2*3^(1/4)*2^(3/4)*sqrt(-sqrt(s8^6))/s8,\n",
       " s5: -(1/2*I - 1/2)*54^(1/8)*(s8^6)^(1/8)}"
      ]
     },
     "metadata": {},
     "output_type": "display_data"
    },
    {
     "data": {
      "text/html": [
       "<html><script type=\"math/tex; mode=display\">\\newcommand{\\Bold}[1]{\\mathbf{#1}}\\left\\{c : -\\frac{11 i \\cdot 3^{\\frac{1}{4}} 2^{\\frac{3}{4}} {\\left(s_{8}^{6}\\right)}^{\\frac{3}{4}}}{12 \\, s_{8}^{4}}, d_{0} : \\frac{i \\cdot 3^{\\frac{1}{4}} 2^{\\frac{3}{4}} {\\left(s_{8}^{6}\\right)}^{\\frac{3}{4}}}{4 \\, s_{8}^{4}}, d_{4} : \\frac{11 i \\cdot 3^{\\frac{1}{4}} 2^{\\frac{3}{4}} {\\left(s_{8}^{6}\\right)}^{\\frac{3}{4}}}{12 \\, s_{8}^{4}}, s_{0} : -\\frac{3^{\\frac{1}{8}} 2^{\\frac{7}{8}} \\sqrt{i \\, {\\left(s_{8}^{6}\\right)}^{\\frac{3}{4}}}}{2 \\, s_{8}^{2}}, s_{2} : \\frac{3^{\\frac{1}{4}} 2^{\\frac{3}{4}} \\sqrt{-\\sqrt{s_{8}^{6}}}}{2 \\, s_{8}}, s_{5} : \\left(\\frac{1}{2} i - \\frac{1}{2}\\right) \\cdot 54^{\\frac{1}{8}} {\\left(s_{8}^{6}\\right)}^{\\frac{1}{8}}\\right\\}</script></html>"
      ],
      "text/latex": [
       "$$\\newcommand{\\Bold}[1]{\\mathbf{#1}}\\left\\{c : -\\frac{11 i \\cdot 3^{\\frac{1}{4}} 2^{\\frac{3}{4}} {\\left(s_{8}^{6}\\right)}^{\\frac{3}{4}}}{12 \\, s_{8}^{4}}, d_{0} : \\frac{i \\cdot 3^{\\frac{1}{4}} 2^{\\frac{3}{4}} {\\left(s_{8}^{6}\\right)}^{\\frac{3}{4}}}{4 \\, s_{8}^{4}}, d_{4} : \\frac{11 i \\cdot 3^{\\frac{1}{4}} 2^{\\frac{3}{4}} {\\left(s_{8}^{6}\\right)}^{\\frac{3}{4}}}{12 \\, s_{8}^{4}}, s_{0} : -\\frac{3^{\\frac{1}{8}} 2^{\\frac{7}{8}} \\sqrt{i \\, {\\left(s_{8}^{6}\\right)}^{\\frac{3}{4}}}}{2 \\, s_{8}^{2}}, s_{2} : \\frac{3^{\\frac{1}{4}} 2^{\\frac{3}{4}} \\sqrt{-\\sqrt{s_{8}^{6}}}}{2 \\, s_{8}}, s_{5} : \\left(\\frac{1}{2} i - \\frac{1}{2}\\right) \\cdot 54^{\\frac{1}{8}} {\\left(s_{8}^{6}\\right)}^{\\frac{1}{8}}\\right\\}$$"
      ],
      "text/plain": [
       "{c: -11/12*I*3^(1/4)*2^(3/4)*(s8^6)^(3/4)/s8^4,\n",
       " d0: 1/4*I*3^(1/4)*2^(3/4)*(s8^6)^(3/4)/s8^4,\n",
       " d4: 11/12*I*3^(1/4)*2^(3/4)*(s8^6)^(3/4)/s8^4,\n",
       " s0: -1/2*3^(1/8)*2^(7/8)*sqrt(I*(s8^6)^(3/4))/s8^2,\n",
       " s2: 1/2*3^(1/4)*2^(3/4)*sqrt(-sqrt(s8^6))/s8,\n",
       " s5: (1/2*I - 1/2)*54^(1/8)*(s8^6)^(1/8)}"
      ]
     },
     "metadata": {},
     "output_type": "display_data"
    },
    {
     "data": {
      "text/html": [
       "<html><script type=\"math/tex; mode=display\">\\newcommand{\\Bold}[1]{\\mathbf{#1}}\\left\\{c : -\\frac{11 i \\cdot 3^{\\frac{1}{4}} 2^{\\frac{3}{4}} {\\left(s_{8}^{6}\\right)}^{\\frac{3}{4}}}{12 \\, s_{8}^{4}}, d_{0} : \\frac{i \\cdot 3^{\\frac{1}{4}} 2^{\\frac{3}{4}} {\\left(s_{8}^{6}\\right)}^{\\frac{3}{4}}}{4 \\, s_{8}^{4}}, d_{4} : \\frac{11 i \\cdot 3^{\\frac{1}{4}} 2^{\\frac{3}{4}} {\\left(s_{8}^{6}\\right)}^{\\frac{3}{4}}}{12 \\, s_{8}^{4}}, s_{0} : \\frac{3^{\\frac{1}{8}} 2^{\\frac{7}{8}} \\sqrt{i \\, {\\left(s_{8}^{6}\\right)}^{\\frac{3}{4}}}}{2 \\, s_{8}^{2}}, s_{2} : -\\frac{3^{\\frac{1}{4}} 2^{\\frac{3}{4}} \\sqrt{-\\sqrt{s_{8}^{6}}}}{2 \\, s_{8}}, s_{5} : -\\left(\\frac{1}{2} i - \\frac{1}{2}\\right) \\cdot 54^{\\frac{1}{8}} {\\left(s_{8}^{6}\\right)}^{\\frac{1}{8}}\\right\\}</script></html>"
      ],
      "text/latex": [
       "$$\\newcommand{\\Bold}[1]{\\mathbf{#1}}\\left\\{c : -\\frac{11 i \\cdot 3^{\\frac{1}{4}} 2^{\\frac{3}{4}} {\\left(s_{8}^{6}\\right)}^{\\frac{3}{4}}}{12 \\, s_{8}^{4}}, d_{0} : \\frac{i \\cdot 3^{\\frac{1}{4}} 2^{\\frac{3}{4}} {\\left(s_{8}^{6}\\right)}^{\\frac{3}{4}}}{4 \\, s_{8}^{4}}, d_{4} : \\frac{11 i \\cdot 3^{\\frac{1}{4}} 2^{\\frac{3}{4}} {\\left(s_{8}^{6}\\right)}^{\\frac{3}{4}}}{12 \\, s_{8}^{4}}, s_{0} : \\frac{3^{\\frac{1}{8}} 2^{\\frac{7}{8}} \\sqrt{i \\, {\\left(s_{8}^{6}\\right)}^{\\frac{3}{4}}}}{2 \\, s_{8}^{2}}, s_{2} : -\\frac{3^{\\frac{1}{4}} 2^{\\frac{3}{4}} \\sqrt{-\\sqrt{s_{8}^{6}}}}{2 \\, s_{8}}, s_{5} : -\\left(\\frac{1}{2} i - \\frac{1}{2}\\right) \\cdot 54^{\\frac{1}{8}} {\\left(s_{8}^{6}\\right)}^{\\frac{1}{8}}\\right\\}$$"
      ],
      "text/plain": [
       "{c: -11/12*I*3^(1/4)*2^(3/4)*(s8^6)^(3/4)/s8^4,\n",
       " d0: 1/4*I*3^(1/4)*2^(3/4)*(s8^6)^(3/4)/s8^4,\n",
       " d4: 11/12*I*3^(1/4)*2^(3/4)*(s8^6)^(3/4)/s8^4,\n",
       " s0: 1/2*3^(1/8)*2^(7/8)*sqrt(I*(s8^6)^(3/4))/s8^2,\n",
       " s2: -1/2*3^(1/4)*2^(3/4)*sqrt(-sqrt(s8^6))/s8,\n",
       " s5: -(1/2*I - 1/2)*54^(1/8)*(s8^6)^(1/8)}"
      ]
     },
     "metadata": {},
     "output_type": "display_data"
    },
    {
     "data": {
      "text/html": [
       "<html><script type=\"math/tex; mode=display\">\\newcommand{\\Bold}[1]{\\mathbf{#1}}\\left\\{c : -\\frac{11 i \\cdot 3^{\\frac{1}{4}} 2^{\\frac{3}{4}} {\\left(s_{8}^{6}\\right)}^{\\frac{3}{4}}}{12 \\, s_{8}^{4}}, d_{0} : \\frac{i \\cdot 3^{\\frac{1}{4}} 2^{\\frac{3}{4}} {\\left(s_{8}^{6}\\right)}^{\\frac{3}{4}}}{4 \\, s_{8}^{4}}, d_{4} : \\frac{11 i \\cdot 3^{\\frac{1}{4}} 2^{\\frac{3}{4}} {\\left(s_{8}^{6}\\right)}^{\\frac{3}{4}}}{12 \\, s_{8}^{4}}, s_{0} : \\frac{3^{\\frac{1}{8}} 2^{\\frac{7}{8}} \\sqrt{i \\, {\\left(s_{8}^{6}\\right)}^{\\frac{3}{4}}}}{2 \\, s_{8}^{2}}, s_{2} : -\\frac{3^{\\frac{1}{4}} 2^{\\frac{3}{4}} \\sqrt{-\\sqrt{s_{8}^{6}}}}{2 \\, s_{8}}, s_{5} : \\left(\\frac{1}{2} i - \\frac{1}{2}\\right) \\cdot 54^{\\frac{1}{8}} {\\left(s_{8}^{6}\\right)}^{\\frac{1}{8}}\\right\\}</script></html>"
      ],
      "text/latex": [
       "$$\\newcommand{\\Bold}[1]{\\mathbf{#1}}\\left\\{c : -\\frac{11 i \\cdot 3^{\\frac{1}{4}} 2^{\\frac{3}{4}} {\\left(s_{8}^{6}\\right)}^{\\frac{3}{4}}}{12 \\, s_{8}^{4}}, d_{0} : \\frac{i \\cdot 3^{\\frac{1}{4}} 2^{\\frac{3}{4}} {\\left(s_{8}^{6}\\right)}^{\\frac{3}{4}}}{4 \\, s_{8}^{4}}, d_{4} : \\frac{11 i \\cdot 3^{\\frac{1}{4}} 2^{\\frac{3}{4}} {\\left(s_{8}^{6}\\right)}^{\\frac{3}{4}}}{12 \\, s_{8}^{4}}, s_{0} : \\frac{3^{\\frac{1}{8}} 2^{\\frac{7}{8}} \\sqrt{i \\, {\\left(s_{8}^{6}\\right)}^{\\frac{3}{4}}}}{2 \\, s_{8}^{2}}, s_{2} : -\\frac{3^{\\frac{1}{4}} 2^{\\frac{3}{4}} \\sqrt{-\\sqrt{s_{8}^{6}}}}{2 \\, s_{8}}, s_{5} : \\left(\\frac{1}{2} i - \\frac{1}{2}\\right) \\cdot 54^{\\frac{1}{8}} {\\left(s_{8}^{6}\\right)}^{\\frac{1}{8}}\\right\\}$$"
      ],
      "text/plain": [
       "{c: -11/12*I*3^(1/4)*2^(3/4)*(s8^6)^(3/4)/s8^4,\n",
       " d0: 1/4*I*3^(1/4)*2^(3/4)*(s8^6)^(3/4)/s8^4,\n",
       " d4: 11/12*I*3^(1/4)*2^(3/4)*(s8^6)^(3/4)/s8^4,\n",
       " s0: 1/2*3^(1/8)*2^(7/8)*sqrt(I*(s8^6)^(3/4))/s8^2,\n",
       " s2: -1/2*3^(1/4)*2^(3/4)*sqrt(-sqrt(s8^6))/s8,\n",
       " s5: (1/2*I - 1/2)*54^(1/8)*(s8^6)^(1/8)}"
      ]
     },
     "metadata": {},
     "output_type": "display_data"
    },
    {
     "data": {
      "text/html": [
       "<html><script type=\"math/tex; mode=display\">\\newcommand{\\Bold}[1]{\\mathbf{#1}}\\left\\{c : -\\frac{11 i \\cdot 3^{\\frac{1}{4}} 2^{\\frac{3}{4}} {\\left(s_{8}^{6}\\right)}^{\\frac{3}{4}}}{12 \\, s_{8}^{4}}, d_{0} : \\frac{i \\cdot 3^{\\frac{1}{4}} 2^{\\frac{3}{4}} {\\left(s_{8}^{6}\\right)}^{\\frac{3}{4}}}{4 \\, s_{8}^{4}}, d_{4} : \\frac{11 i \\cdot 3^{\\frac{1}{4}} 2^{\\frac{3}{4}} {\\left(s_{8}^{6}\\right)}^{\\frac{3}{4}}}{12 \\, s_{8}^{4}}, s_{0} : \\frac{3^{\\frac{1}{8}} 2^{\\frac{7}{8}} \\sqrt{i \\, {\\left(s_{8}^{6}\\right)}^{\\frac{3}{4}}}}{2 \\, s_{8}^{2}}, s_{2} : \\frac{3^{\\frac{1}{4}} 2^{\\frac{3}{4}} \\sqrt{-\\sqrt{s_{8}^{6}}}}{2 \\, s_{8}}, s_{5} : -\\left(\\frac{1}{2} i - \\frac{1}{2}\\right) \\cdot 54^{\\frac{1}{8}} {\\left(s_{8}^{6}\\right)}^{\\frac{1}{8}}\\right\\}</script></html>"
      ],
      "text/latex": [
       "$$\\newcommand{\\Bold}[1]{\\mathbf{#1}}\\left\\{c : -\\frac{11 i \\cdot 3^{\\frac{1}{4}} 2^{\\frac{3}{4}} {\\left(s_{8}^{6}\\right)}^{\\frac{3}{4}}}{12 \\, s_{8}^{4}}, d_{0} : \\frac{i \\cdot 3^{\\frac{1}{4}} 2^{\\frac{3}{4}} {\\left(s_{8}^{6}\\right)}^{\\frac{3}{4}}}{4 \\, s_{8}^{4}}, d_{4} : \\frac{11 i \\cdot 3^{\\frac{1}{4}} 2^{\\frac{3}{4}} {\\left(s_{8}^{6}\\right)}^{\\frac{3}{4}}}{12 \\, s_{8}^{4}}, s_{0} : \\frac{3^{\\frac{1}{8}} 2^{\\frac{7}{8}} \\sqrt{i \\, {\\left(s_{8}^{6}\\right)}^{\\frac{3}{4}}}}{2 \\, s_{8}^{2}}, s_{2} : \\frac{3^{\\frac{1}{4}} 2^{\\frac{3}{4}} \\sqrt{-\\sqrt{s_{8}^{6}}}}{2 \\, s_{8}}, s_{5} : -\\left(\\frac{1}{2} i - \\frac{1}{2}\\right) \\cdot 54^{\\frac{1}{8}} {\\left(s_{8}^{6}\\right)}^{\\frac{1}{8}}\\right\\}$$"
      ],
      "text/plain": [
       "{c: -11/12*I*3^(1/4)*2^(3/4)*(s8^6)^(3/4)/s8^4,\n",
       " d0: 1/4*I*3^(1/4)*2^(3/4)*(s8^6)^(3/4)/s8^4,\n",
       " d4: 11/12*I*3^(1/4)*2^(3/4)*(s8^6)^(3/4)/s8^4,\n",
       " s0: 1/2*3^(1/8)*2^(7/8)*sqrt(I*(s8^6)^(3/4))/s8^2,\n",
       " s2: 1/2*3^(1/4)*2^(3/4)*sqrt(-sqrt(s8^6))/s8,\n",
       " s5: -(1/2*I - 1/2)*54^(1/8)*(s8^6)^(1/8)}"
      ]
     },
     "metadata": {},
     "output_type": "display_data"
    },
    {
     "data": {
      "text/html": [
       "<html><script type=\"math/tex; mode=display\">\\newcommand{\\Bold}[1]{\\mathbf{#1}}\\left\\{c : -\\frac{11 i \\cdot 3^{\\frac{1}{4}} 2^{\\frac{3}{4}} {\\left(s_{8}^{6}\\right)}^{\\frac{3}{4}}}{12 \\, s_{8}^{4}}, d_{0} : \\frac{i \\cdot 3^{\\frac{1}{4}} 2^{\\frac{3}{4}} {\\left(s_{8}^{6}\\right)}^{\\frac{3}{4}}}{4 \\, s_{8}^{4}}, d_{4} : \\frac{11 i \\cdot 3^{\\frac{1}{4}} 2^{\\frac{3}{4}} {\\left(s_{8}^{6}\\right)}^{\\frac{3}{4}}}{12 \\, s_{8}^{4}}, s_{0} : \\frac{3^{\\frac{1}{8}} 2^{\\frac{7}{8}} \\sqrt{i \\, {\\left(s_{8}^{6}\\right)}^{\\frac{3}{4}}}}{2 \\, s_{8}^{2}}, s_{2} : \\frac{3^{\\frac{1}{4}} 2^{\\frac{3}{4}} \\sqrt{-\\sqrt{s_{8}^{6}}}}{2 \\, s_{8}}, s_{5} : \\left(\\frac{1}{2} i - \\frac{1}{2}\\right) \\cdot 54^{\\frac{1}{8}} {\\left(s_{8}^{6}\\right)}^{\\frac{1}{8}}\\right\\}</script></html>"
      ],
      "text/latex": [
       "$$\\newcommand{\\Bold}[1]{\\mathbf{#1}}\\left\\{c : -\\frac{11 i \\cdot 3^{\\frac{1}{4}} 2^{\\frac{3}{4}} {\\left(s_{8}^{6}\\right)}^{\\frac{3}{4}}}{12 \\, s_{8}^{4}}, d_{0} : \\frac{i \\cdot 3^{\\frac{1}{4}} 2^{\\frac{3}{4}} {\\left(s_{8}^{6}\\right)}^{\\frac{3}{4}}}{4 \\, s_{8}^{4}}, d_{4} : \\frac{11 i \\cdot 3^{\\frac{1}{4}} 2^{\\frac{3}{4}} {\\left(s_{8}^{6}\\right)}^{\\frac{3}{4}}}{12 \\, s_{8}^{4}}, s_{0} : \\frac{3^{\\frac{1}{8}} 2^{\\frac{7}{8}} \\sqrt{i \\, {\\left(s_{8}^{6}\\right)}^{\\frac{3}{4}}}}{2 \\, s_{8}^{2}}, s_{2} : \\frac{3^{\\frac{1}{4}} 2^{\\frac{3}{4}} \\sqrt{-\\sqrt{s_{8}^{6}}}}{2 \\, s_{8}}, s_{5} : \\left(\\frac{1}{2} i - \\frac{1}{2}\\right) \\cdot 54^{\\frac{1}{8}} {\\left(s_{8}^{6}\\right)}^{\\frac{1}{8}}\\right\\}$$"
      ],
      "text/plain": [
       "{c: -11/12*I*3^(1/4)*2^(3/4)*(s8^6)^(3/4)/s8^4,\n",
       " d0: 1/4*I*3^(1/4)*2^(3/4)*(s8^6)^(3/4)/s8^4,\n",
       " d4: 11/12*I*3^(1/4)*2^(3/4)*(s8^6)^(3/4)/s8^4,\n",
       " s0: 1/2*3^(1/8)*2^(7/8)*sqrt(I*(s8^6)^(3/4))/s8^2,\n",
       " s2: 1/2*3^(1/4)*2^(3/4)*sqrt(-sqrt(s8^6))/s8,\n",
       " s5: (1/2*I - 1/2)*54^(1/8)*(s8^6)^(1/8)}"
      ]
     },
     "metadata": {},
     "output_type": "display_data"
    },
    {
     "data": {
      "text/html": [
       "<html><script type=\"math/tex; mode=display\">\\newcommand{\\Bold}[1]{\\mathbf{#1}}\\left\\{c : \\frac{11 i \\cdot 3^{\\frac{1}{4}} 2^{\\frac{3}{4}} {\\left(s_{8}^{6}\\right)}^{\\frac{3}{4}}}{12 \\, s_{8}^{4}}, d_{0} : -\\frac{i \\cdot 3^{\\frac{1}{4}} 2^{\\frac{3}{4}} {\\left(s_{8}^{6}\\right)}^{\\frac{3}{4}}}{4 \\, s_{8}^{4}}, d_{4} : -\\frac{11 i \\cdot 3^{\\frac{1}{4}} 2^{\\frac{3}{4}} {\\left(s_{8}^{6}\\right)}^{\\frac{3}{4}}}{12 \\, s_{8}^{4}}, s_{0} : -\\frac{3^{\\frac{1}{8}} 2^{\\frac{7}{8}} \\sqrt{-i \\, {\\left(s_{8}^{6}\\right)}^{\\frac{3}{4}}}}{2 \\, s_{8}^{2}}, s_{2} : -\\frac{3^{\\frac{1}{4}} 2^{\\frac{3}{4}} \\sqrt{-\\sqrt{s_{8}^{6}}}}{2 \\, s_{8}}, s_{5} : -\\left(\\frac{1}{2} i + \\frac{1}{2}\\right) \\cdot 54^{\\frac{1}{8}} {\\left(s_{8}^{6}\\right)}^{\\frac{1}{8}}\\right\\}</script></html>"
      ],
      "text/latex": [
       "$$\\newcommand{\\Bold}[1]{\\mathbf{#1}}\\left\\{c : \\frac{11 i \\cdot 3^{\\frac{1}{4}} 2^{\\frac{3}{4}} {\\left(s_{8}^{6}\\right)}^{\\frac{3}{4}}}{12 \\, s_{8}^{4}}, d_{0} : -\\frac{i \\cdot 3^{\\frac{1}{4}} 2^{\\frac{3}{4}} {\\left(s_{8}^{6}\\right)}^{\\frac{3}{4}}}{4 \\, s_{8}^{4}}, d_{4} : -\\frac{11 i \\cdot 3^{\\frac{1}{4}} 2^{\\frac{3}{4}} {\\left(s_{8}^{6}\\right)}^{\\frac{3}{4}}}{12 \\, s_{8}^{4}}, s_{0} : -\\frac{3^{\\frac{1}{8}} 2^{\\frac{7}{8}} \\sqrt{-i \\, {\\left(s_{8}^{6}\\right)}^{\\frac{3}{4}}}}{2 \\, s_{8}^{2}}, s_{2} : -\\frac{3^{\\frac{1}{4}} 2^{\\frac{3}{4}} \\sqrt{-\\sqrt{s_{8}^{6}}}}{2 \\, s_{8}}, s_{5} : -\\left(\\frac{1}{2} i + \\frac{1}{2}\\right) \\cdot 54^{\\frac{1}{8}} {\\left(s_{8}^{6}\\right)}^{\\frac{1}{8}}\\right\\}$$"
      ],
      "text/plain": [
       "{c: 11/12*I*3^(1/4)*2^(3/4)*(s8^6)^(3/4)/s8^4,\n",
       " d0: -1/4*I*3^(1/4)*2^(3/4)*(s8^6)^(3/4)/s8^4,\n",
       " d4: -11/12*I*3^(1/4)*2^(3/4)*(s8^6)^(3/4)/s8^4,\n",
       " s0: -1/2*3^(1/8)*2^(7/8)*sqrt(-I*(s8^6)^(3/4))/s8^2,\n",
       " s2: -1/2*3^(1/4)*2^(3/4)*sqrt(-sqrt(s8^6))/s8,\n",
       " s5: -(1/2*I + 1/2)*54^(1/8)*(s8^6)^(1/8)}"
      ]
     },
     "metadata": {},
     "output_type": "display_data"
    },
    {
     "data": {
      "text/html": [
       "<html><script type=\"math/tex; mode=display\">\\newcommand{\\Bold}[1]{\\mathbf{#1}}\\left\\{c : \\frac{11 i \\cdot 3^{\\frac{1}{4}} 2^{\\frac{3}{4}} {\\left(s_{8}^{6}\\right)}^{\\frac{3}{4}}}{12 \\, s_{8}^{4}}, d_{0} : -\\frac{i \\cdot 3^{\\frac{1}{4}} 2^{\\frac{3}{4}} {\\left(s_{8}^{6}\\right)}^{\\frac{3}{4}}}{4 \\, s_{8}^{4}}, d_{4} : -\\frac{11 i \\cdot 3^{\\frac{1}{4}} 2^{\\frac{3}{4}} {\\left(s_{8}^{6}\\right)}^{\\frac{3}{4}}}{12 \\, s_{8}^{4}}, s_{0} : -\\frac{3^{\\frac{1}{8}} 2^{\\frac{7}{8}} \\sqrt{-i \\, {\\left(s_{8}^{6}\\right)}^{\\frac{3}{4}}}}{2 \\, s_{8}^{2}}, s_{2} : -\\frac{3^{\\frac{1}{4}} 2^{\\frac{3}{4}} \\sqrt{-\\sqrt{s_{8}^{6}}}}{2 \\, s_{8}}, s_{5} : \\left(\\frac{1}{2} i + \\frac{1}{2}\\right) \\cdot 54^{\\frac{1}{8}} {\\left(s_{8}^{6}\\right)}^{\\frac{1}{8}}\\right\\}</script></html>"
      ],
      "text/latex": [
       "$$\\newcommand{\\Bold}[1]{\\mathbf{#1}}\\left\\{c : \\frac{11 i \\cdot 3^{\\frac{1}{4}} 2^{\\frac{3}{4}} {\\left(s_{8}^{6}\\right)}^{\\frac{3}{4}}}{12 \\, s_{8}^{4}}, d_{0} : -\\frac{i \\cdot 3^{\\frac{1}{4}} 2^{\\frac{3}{4}} {\\left(s_{8}^{6}\\right)}^{\\frac{3}{4}}}{4 \\, s_{8}^{4}}, d_{4} : -\\frac{11 i \\cdot 3^{\\frac{1}{4}} 2^{\\frac{3}{4}} {\\left(s_{8}^{6}\\right)}^{\\frac{3}{4}}}{12 \\, s_{8}^{4}}, s_{0} : -\\frac{3^{\\frac{1}{8}} 2^{\\frac{7}{8}} \\sqrt{-i \\, {\\left(s_{8}^{6}\\right)}^{\\frac{3}{4}}}}{2 \\, s_{8}^{2}}, s_{2} : -\\frac{3^{\\frac{1}{4}} 2^{\\frac{3}{4}} \\sqrt{-\\sqrt{s_{8}^{6}}}}{2 \\, s_{8}}, s_{5} : \\left(\\frac{1}{2} i + \\frac{1}{2}\\right) \\cdot 54^{\\frac{1}{8}} {\\left(s_{8}^{6}\\right)}^{\\frac{1}{8}}\\right\\}$$"
      ],
      "text/plain": [
       "{c: 11/12*I*3^(1/4)*2^(3/4)*(s8^6)^(3/4)/s8^4,\n",
       " d0: -1/4*I*3^(1/4)*2^(3/4)*(s8^6)^(3/4)/s8^4,\n",
       " d4: -11/12*I*3^(1/4)*2^(3/4)*(s8^6)^(3/4)/s8^4,\n",
       " s0: -1/2*3^(1/8)*2^(7/8)*sqrt(-I*(s8^6)^(3/4))/s8^2,\n",
       " s2: -1/2*3^(1/4)*2^(3/4)*sqrt(-sqrt(s8^6))/s8,\n",
       " s5: (1/2*I + 1/2)*54^(1/8)*(s8^6)^(1/8)}"
      ]
     },
     "metadata": {},
     "output_type": "display_data"
    },
    {
     "data": {
      "text/html": [
       "<html><script type=\"math/tex; mode=display\">\\newcommand{\\Bold}[1]{\\mathbf{#1}}\\left\\{c : \\frac{11 i \\cdot 3^{\\frac{1}{4}} 2^{\\frac{3}{4}} {\\left(s_{8}^{6}\\right)}^{\\frac{3}{4}}}{12 \\, s_{8}^{4}}, d_{0} : -\\frac{i \\cdot 3^{\\frac{1}{4}} 2^{\\frac{3}{4}} {\\left(s_{8}^{6}\\right)}^{\\frac{3}{4}}}{4 \\, s_{8}^{4}}, d_{4} : -\\frac{11 i \\cdot 3^{\\frac{1}{4}} 2^{\\frac{3}{4}} {\\left(s_{8}^{6}\\right)}^{\\frac{3}{4}}}{12 \\, s_{8}^{4}}, s_{0} : -\\frac{3^{\\frac{1}{8}} 2^{\\frac{7}{8}} \\sqrt{-i \\, {\\left(s_{8}^{6}\\right)}^{\\frac{3}{4}}}}{2 \\, s_{8}^{2}}, s_{2} : \\frac{3^{\\frac{1}{4}} 2^{\\frac{3}{4}} \\sqrt{-\\sqrt{s_{8}^{6}}}}{2 \\, s_{8}}, s_{5} : -\\left(\\frac{1}{2} i + \\frac{1}{2}\\right) \\cdot 54^{\\frac{1}{8}} {\\left(s_{8}^{6}\\right)}^{\\frac{1}{8}}\\right\\}</script></html>"
      ],
      "text/latex": [
       "$$\\newcommand{\\Bold}[1]{\\mathbf{#1}}\\left\\{c : \\frac{11 i \\cdot 3^{\\frac{1}{4}} 2^{\\frac{3}{4}} {\\left(s_{8}^{6}\\right)}^{\\frac{3}{4}}}{12 \\, s_{8}^{4}}, d_{0} : -\\frac{i \\cdot 3^{\\frac{1}{4}} 2^{\\frac{3}{4}} {\\left(s_{8}^{6}\\right)}^{\\frac{3}{4}}}{4 \\, s_{8}^{4}}, d_{4} : -\\frac{11 i \\cdot 3^{\\frac{1}{4}} 2^{\\frac{3}{4}} {\\left(s_{8}^{6}\\right)}^{\\frac{3}{4}}}{12 \\, s_{8}^{4}}, s_{0} : -\\frac{3^{\\frac{1}{8}} 2^{\\frac{7}{8}} \\sqrt{-i \\, {\\left(s_{8}^{6}\\right)}^{\\frac{3}{4}}}}{2 \\, s_{8}^{2}}, s_{2} : \\frac{3^{\\frac{1}{4}} 2^{\\frac{3}{4}} \\sqrt{-\\sqrt{s_{8}^{6}}}}{2 \\, s_{8}}, s_{5} : -\\left(\\frac{1}{2} i + \\frac{1}{2}\\right) \\cdot 54^{\\frac{1}{8}} {\\left(s_{8}^{6}\\right)}^{\\frac{1}{8}}\\right\\}$$"
      ],
      "text/plain": [
       "{c: 11/12*I*3^(1/4)*2^(3/4)*(s8^6)^(3/4)/s8^4,\n",
       " d0: -1/4*I*3^(1/4)*2^(3/4)*(s8^6)^(3/4)/s8^4,\n",
       " d4: -11/12*I*3^(1/4)*2^(3/4)*(s8^6)^(3/4)/s8^4,\n",
       " s0: -1/2*3^(1/8)*2^(7/8)*sqrt(-I*(s8^6)^(3/4))/s8^2,\n",
       " s2: 1/2*3^(1/4)*2^(3/4)*sqrt(-sqrt(s8^6))/s8,\n",
       " s5: -(1/2*I + 1/2)*54^(1/8)*(s8^6)^(1/8)}"
      ]
     },
     "metadata": {},
     "output_type": "display_data"
    },
    {
     "data": {
      "text/html": [
       "<html><script type=\"math/tex; mode=display\">\\newcommand{\\Bold}[1]{\\mathbf{#1}}\\left\\{c : \\frac{11 i \\cdot 3^{\\frac{1}{4}} 2^{\\frac{3}{4}} {\\left(s_{8}^{6}\\right)}^{\\frac{3}{4}}}{12 \\, s_{8}^{4}}, d_{0} : -\\frac{i \\cdot 3^{\\frac{1}{4}} 2^{\\frac{3}{4}} {\\left(s_{8}^{6}\\right)}^{\\frac{3}{4}}}{4 \\, s_{8}^{4}}, d_{4} : -\\frac{11 i \\cdot 3^{\\frac{1}{4}} 2^{\\frac{3}{4}} {\\left(s_{8}^{6}\\right)}^{\\frac{3}{4}}}{12 \\, s_{8}^{4}}, s_{0} : -\\frac{3^{\\frac{1}{8}} 2^{\\frac{7}{8}} \\sqrt{-i \\, {\\left(s_{8}^{6}\\right)}^{\\frac{3}{4}}}}{2 \\, s_{8}^{2}}, s_{2} : \\frac{3^{\\frac{1}{4}} 2^{\\frac{3}{4}} \\sqrt{-\\sqrt{s_{8}^{6}}}}{2 \\, s_{8}}, s_{5} : \\left(\\frac{1}{2} i + \\frac{1}{2}\\right) \\cdot 54^{\\frac{1}{8}} {\\left(s_{8}^{6}\\right)}^{\\frac{1}{8}}\\right\\}</script></html>"
      ],
      "text/latex": [
       "$$\\newcommand{\\Bold}[1]{\\mathbf{#1}}\\left\\{c : \\frac{11 i \\cdot 3^{\\frac{1}{4}} 2^{\\frac{3}{4}} {\\left(s_{8}^{6}\\right)}^{\\frac{3}{4}}}{12 \\, s_{8}^{4}}, d_{0} : -\\frac{i \\cdot 3^{\\frac{1}{4}} 2^{\\frac{3}{4}} {\\left(s_{8}^{6}\\right)}^{\\frac{3}{4}}}{4 \\, s_{8}^{4}}, d_{4} : -\\frac{11 i \\cdot 3^{\\frac{1}{4}} 2^{\\frac{3}{4}} {\\left(s_{8}^{6}\\right)}^{\\frac{3}{4}}}{12 \\, s_{8}^{4}}, s_{0} : -\\frac{3^{\\frac{1}{8}} 2^{\\frac{7}{8}} \\sqrt{-i \\, {\\left(s_{8}^{6}\\right)}^{\\frac{3}{4}}}}{2 \\, s_{8}^{2}}, s_{2} : \\frac{3^{\\frac{1}{4}} 2^{\\frac{3}{4}} \\sqrt{-\\sqrt{s_{8}^{6}}}}{2 \\, s_{8}}, s_{5} : \\left(\\frac{1}{2} i + \\frac{1}{2}\\right) \\cdot 54^{\\frac{1}{8}} {\\left(s_{8}^{6}\\right)}^{\\frac{1}{8}}\\right\\}$$"
      ],
      "text/plain": [
       "{c: 11/12*I*3^(1/4)*2^(3/4)*(s8^6)^(3/4)/s8^4,\n",
       " d0: -1/4*I*3^(1/4)*2^(3/4)*(s8^6)^(3/4)/s8^4,\n",
       " d4: -11/12*I*3^(1/4)*2^(3/4)*(s8^6)^(3/4)/s8^4,\n",
       " s0: -1/2*3^(1/8)*2^(7/8)*sqrt(-I*(s8^6)^(3/4))/s8^2,\n",
       " s2: 1/2*3^(1/4)*2^(3/4)*sqrt(-sqrt(s8^6))/s8,\n",
       " s5: (1/2*I + 1/2)*54^(1/8)*(s8^6)^(1/8)}"
      ]
     },
     "metadata": {},
     "output_type": "display_data"
    },
    {
     "data": {
      "text/html": [
       "<html><script type=\"math/tex; mode=display\">\\newcommand{\\Bold}[1]{\\mathbf{#1}}\\left\\{c : \\frac{11 i \\cdot 3^{\\frac{1}{4}} 2^{\\frac{3}{4}} {\\left(s_{8}^{6}\\right)}^{\\frac{3}{4}}}{12 \\, s_{8}^{4}}, d_{0} : -\\frac{i \\cdot 3^{\\frac{1}{4}} 2^{\\frac{3}{4}} {\\left(s_{8}^{6}\\right)}^{\\frac{3}{4}}}{4 \\, s_{8}^{4}}, d_{4} : -\\frac{11 i \\cdot 3^{\\frac{1}{4}} 2^{\\frac{3}{4}} {\\left(s_{8}^{6}\\right)}^{\\frac{3}{4}}}{12 \\, s_{8}^{4}}, s_{0} : \\frac{3^{\\frac{1}{8}} 2^{\\frac{7}{8}} \\sqrt{-i \\, {\\left(s_{8}^{6}\\right)}^{\\frac{3}{4}}}}{2 \\, s_{8}^{2}}, s_{2} : -\\frac{3^{\\frac{1}{4}} 2^{\\frac{3}{4}} \\sqrt{-\\sqrt{s_{8}^{6}}}}{2 \\, s_{8}}, s_{5} : -\\left(\\frac{1}{2} i + \\frac{1}{2}\\right) \\cdot 54^{\\frac{1}{8}} {\\left(s_{8}^{6}\\right)}^{\\frac{1}{8}}\\right\\}</script></html>"
      ],
      "text/latex": [
       "$$\\newcommand{\\Bold}[1]{\\mathbf{#1}}\\left\\{c : \\frac{11 i \\cdot 3^{\\frac{1}{4}} 2^{\\frac{3}{4}} {\\left(s_{8}^{6}\\right)}^{\\frac{3}{4}}}{12 \\, s_{8}^{4}}, d_{0} : -\\frac{i \\cdot 3^{\\frac{1}{4}} 2^{\\frac{3}{4}} {\\left(s_{8}^{6}\\right)}^{\\frac{3}{4}}}{4 \\, s_{8}^{4}}, d_{4} : -\\frac{11 i \\cdot 3^{\\frac{1}{4}} 2^{\\frac{3}{4}} {\\left(s_{8}^{6}\\right)}^{\\frac{3}{4}}}{12 \\, s_{8}^{4}}, s_{0} : \\frac{3^{\\frac{1}{8}} 2^{\\frac{7}{8}} \\sqrt{-i \\, {\\left(s_{8}^{6}\\right)}^{\\frac{3}{4}}}}{2 \\, s_{8}^{2}}, s_{2} : -\\frac{3^{\\frac{1}{4}} 2^{\\frac{3}{4}} \\sqrt{-\\sqrt{s_{8}^{6}}}}{2 \\, s_{8}}, s_{5} : -\\left(\\frac{1}{2} i + \\frac{1}{2}\\right) \\cdot 54^{\\frac{1}{8}} {\\left(s_{8}^{6}\\right)}^{\\frac{1}{8}}\\right\\}$$"
      ],
      "text/plain": [
       "{c: 11/12*I*3^(1/4)*2^(3/4)*(s8^6)^(3/4)/s8^4,\n",
       " d0: -1/4*I*3^(1/4)*2^(3/4)*(s8^6)^(3/4)/s8^4,\n",
       " d4: -11/12*I*3^(1/4)*2^(3/4)*(s8^6)^(3/4)/s8^4,\n",
       " s0: 1/2*3^(1/8)*2^(7/8)*sqrt(-I*(s8^6)^(3/4))/s8^2,\n",
       " s2: -1/2*3^(1/4)*2^(3/4)*sqrt(-sqrt(s8^6))/s8,\n",
       " s5: -(1/2*I + 1/2)*54^(1/8)*(s8^6)^(1/8)}"
      ]
     },
     "metadata": {},
     "output_type": "display_data"
    },
    {
     "data": {
      "text/html": [
       "<html><script type=\"math/tex; mode=display\">\\newcommand{\\Bold}[1]{\\mathbf{#1}}\\left\\{c : \\frac{11 i \\cdot 3^{\\frac{1}{4}} 2^{\\frac{3}{4}} {\\left(s_{8}^{6}\\right)}^{\\frac{3}{4}}}{12 \\, s_{8}^{4}}, d_{0} : -\\frac{i \\cdot 3^{\\frac{1}{4}} 2^{\\frac{3}{4}} {\\left(s_{8}^{6}\\right)}^{\\frac{3}{4}}}{4 \\, s_{8}^{4}}, d_{4} : -\\frac{11 i \\cdot 3^{\\frac{1}{4}} 2^{\\frac{3}{4}} {\\left(s_{8}^{6}\\right)}^{\\frac{3}{4}}}{12 \\, s_{8}^{4}}, s_{0} : \\frac{3^{\\frac{1}{8}} 2^{\\frac{7}{8}} \\sqrt{-i \\, {\\left(s_{8}^{6}\\right)}^{\\frac{3}{4}}}}{2 \\, s_{8}^{2}}, s_{2} : -\\frac{3^{\\frac{1}{4}} 2^{\\frac{3}{4}} \\sqrt{-\\sqrt{s_{8}^{6}}}}{2 \\, s_{8}}, s_{5} : \\left(\\frac{1}{2} i + \\frac{1}{2}\\right) \\cdot 54^{\\frac{1}{8}} {\\left(s_{8}^{6}\\right)}^{\\frac{1}{8}}\\right\\}</script></html>"
      ],
      "text/latex": [
       "$$\\newcommand{\\Bold}[1]{\\mathbf{#1}}\\left\\{c : \\frac{11 i \\cdot 3^{\\frac{1}{4}} 2^{\\frac{3}{4}} {\\left(s_{8}^{6}\\right)}^{\\frac{3}{4}}}{12 \\, s_{8}^{4}}, d_{0} : -\\frac{i \\cdot 3^{\\frac{1}{4}} 2^{\\frac{3}{4}} {\\left(s_{8}^{6}\\right)}^{\\frac{3}{4}}}{4 \\, s_{8}^{4}}, d_{4} : -\\frac{11 i \\cdot 3^{\\frac{1}{4}} 2^{\\frac{3}{4}} {\\left(s_{8}^{6}\\right)}^{\\frac{3}{4}}}{12 \\, s_{8}^{4}}, s_{0} : \\frac{3^{\\frac{1}{8}} 2^{\\frac{7}{8}} \\sqrt{-i \\, {\\left(s_{8}^{6}\\right)}^{\\frac{3}{4}}}}{2 \\, s_{8}^{2}}, s_{2} : -\\frac{3^{\\frac{1}{4}} 2^{\\frac{3}{4}} \\sqrt{-\\sqrt{s_{8}^{6}}}}{2 \\, s_{8}}, s_{5} : \\left(\\frac{1}{2} i + \\frac{1}{2}\\right) \\cdot 54^{\\frac{1}{8}} {\\left(s_{8}^{6}\\right)}^{\\frac{1}{8}}\\right\\}$$"
      ],
      "text/plain": [
       "{c: 11/12*I*3^(1/4)*2^(3/4)*(s8^6)^(3/4)/s8^4,\n",
       " d0: -1/4*I*3^(1/4)*2^(3/4)*(s8^6)^(3/4)/s8^4,\n",
       " d4: -11/12*I*3^(1/4)*2^(3/4)*(s8^6)^(3/4)/s8^4,\n",
       " s0: 1/2*3^(1/8)*2^(7/8)*sqrt(-I*(s8^6)^(3/4))/s8^2,\n",
       " s2: -1/2*3^(1/4)*2^(3/4)*sqrt(-sqrt(s8^6))/s8,\n",
       " s5: (1/2*I + 1/2)*54^(1/8)*(s8^6)^(1/8)}"
      ]
     },
     "metadata": {},
     "output_type": "display_data"
    },
    {
     "data": {
      "text/html": [
       "<html><script type=\"math/tex; mode=display\">\\newcommand{\\Bold}[1]{\\mathbf{#1}}\\left\\{c : \\frac{11 i \\cdot 3^{\\frac{1}{4}} 2^{\\frac{3}{4}} {\\left(s_{8}^{6}\\right)}^{\\frac{3}{4}}}{12 \\, s_{8}^{4}}, d_{0} : -\\frac{i \\cdot 3^{\\frac{1}{4}} 2^{\\frac{3}{4}} {\\left(s_{8}^{6}\\right)}^{\\frac{3}{4}}}{4 \\, s_{8}^{4}}, d_{4} : -\\frac{11 i \\cdot 3^{\\frac{1}{4}} 2^{\\frac{3}{4}} {\\left(s_{8}^{6}\\right)}^{\\frac{3}{4}}}{12 \\, s_{8}^{4}}, s_{0} : \\frac{3^{\\frac{1}{8}} 2^{\\frac{7}{8}} \\sqrt{-i \\, {\\left(s_{8}^{6}\\right)}^{\\frac{3}{4}}}}{2 \\, s_{8}^{2}}, s_{2} : \\frac{3^{\\frac{1}{4}} 2^{\\frac{3}{4}} \\sqrt{-\\sqrt{s_{8}^{6}}}}{2 \\, s_{8}}, s_{5} : -\\left(\\frac{1}{2} i + \\frac{1}{2}\\right) \\cdot 54^{\\frac{1}{8}} {\\left(s_{8}^{6}\\right)}^{\\frac{1}{8}}\\right\\}</script></html>"
      ],
      "text/latex": [
       "$$\\newcommand{\\Bold}[1]{\\mathbf{#1}}\\left\\{c : \\frac{11 i \\cdot 3^{\\frac{1}{4}} 2^{\\frac{3}{4}} {\\left(s_{8}^{6}\\right)}^{\\frac{3}{4}}}{12 \\, s_{8}^{4}}, d_{0} : -\\frac{i \\cdot 3^{\\frac{1}{4}} 2^{\\frac{3}{4}} {\\left(s_{8}^{6}\\right)}^{\\frac{3}{4}}}{4 \\, s_{8}^{4}}, d_{4} : -\\frac{11 i \\cdot 3^{\\frac{1}{4}} 2^{\\frac{3}{4}} {\\left(s_{8}^{6}\\right)}^{\\frac{3}{4}}}{12 \\, s_{8}^{4}}, s_{0} : \\frac{3^{\\frac{1}{8}} 2^{\\frac{7}{8}} \\sqrt{-i \\, {\\left(s_{8}^{6}\\right)}^{\\frac{3}{4}}}}{2 \\, s_{8}^{2}}, s_{2} : \\frac{3^{\\frac{1}{4}} 2^{\\frac{3}{4}} \\sqrt{-\\sqrt{s_{8}^{6}}}}{2 \\, s_{8}}, s_{5} : -\\left(\\frac{1}{2} i + \\frac{1}{2}\\right) \\cdot 54^{\\frac{1}{8}} {\\left(s_{8}^{6}\\right)}^{\\frac{1}{8}}\\right\\}$$"
      ],
      "text/plain": [
       "{c: 11/12*I*3^(1/4)*2^(3/4)*(s8^6)^(3/4)/s8^4,\n",
       " d0: -1/4*I*3^(1/4)*2^(3/4)*(s8^6)^(3/4)/s8^4,\n",
       " d4: -11/12*I*3^(1/4)*2^(3/4)*(s8^6)^(3/4)/s8^4,\n",
       " s0: 1/2*3^(1/8)*2^(7/8)*sqrt(-I*(s8^6)^(3/4))/s8^2,\n",
       " s2: 1/2*3^(1/4)*2^(3/4)*sqrt(-sqrt(s8^6))/s8,\n",
       " s5: -(1/2*I + 1/2)*54^(1/8)*(s8^6)^(1/8)}"
      ]
     },
     "metadata": {},
     "output_type": "display_data"
    },
    {
     "data": {
      "text/html": [
       "<html><script type=\"math/tex; mode=display\">\\newcommand{\\Bold}[1]{\\mathbf{#1}}\\left\\{c : \\frac{11 i \\cdot 3^{\\frac{1}{4}} 2^{\\frac{3}{4}} {\\left(s_{8}^{6}\\right)}^{\\frac{3}{4}}}{12 \\, s_{8}^{4}}, d_{0} : -\\frac{i \\cdot 3^{\\frac{1}{4}} 2^{\\frac{3}{4}} {\\left(s_{8}^{6}\\right)}^{\\frac{3}{4}}}{4 \\, s_{8}^{4}}, d_{4} : -\\frac{11 i \\cdot 3^{\\frac{1}{4}} 2^{\\frac{3}{4}} {\\left(s_{8}^{6}\\right)}^{\\frac{3}{4}}}{12 \\, s_{8}^{4}}, s_{0} : \\frac{3^{\\frac{1}{8}} 2^{\\frac{7}{8}} \\sqrt{-i \\, {\\left(s_{8}^{6}\\right)}^{\\frac{3}{4}}}}{2 \\, s_{8}^{2}}, s_{2} : \\frac{3^{\\frac{1}{4}} 2^{\\frac{3}{4}} \\sqrt{-\\sqrt{s_{8}^{6}}}}{2 \\, s_{8}}, s_{5} : \\left(\\frac{1}{2} i + \\frac{1}{2}\\right) \\cdot 54^{\\frac{1}{8}} {\\left(s_{8}^{6}\\right)}^{\\frac{1}{8}}\\right\\}</script></html>"
      ],
      "text/latex": [
       "$$\\newcommand{\\Bold}[1]{\\mathbf{#1}}\\left\\{c : \\frac{11 i \\cdot 3^{\\frac{1}{4}} 2^{\\frac{3}{4}} {\\left(s_{8}^{6}\\right)}^{\\frac{3}{4}}}{12 \\, s_{8}^{4}}, d_{0} : -\\frac{i \\cdot 3^{\\frac{1}{4}} 2^{\\frac{3}{4}} {\\left(s_{8}^{6}\\right)}^{\\frac{3}{4}}}{4 \\, s_{8}^{4}}, d_{4} : -\\frac{11 i \\cdot 3^{\\frac{1}{4}} 2^{\\frac{3}{4}} {\\left(s_{8}^{6}\\right)}^{\\frac{3}{4}}}{12 \\, s_{8}^{4}}, s_{0} : \\frac{3^{\\frac{1}{8}} 2^{\\frac{7}{8}} \\sqrt{-i \\, {\\left(s_{8}^{6}\\right)}^{\\frac{3}{4}}}}{2 \\, s_{8}^{2}}, s_{2} : \\frac{3^{\\frac{1}{4}} 2^{\\frac{3}{4}} \\sqrt{-\\sqrt{s_{8}^{6}}}}{2 \\, s_{8}}, s_{5} : \\left(\\frac{1}{2} i + \\frac{1}{2}\\right) \\cdot 54^{\\frac{1}{8}} {\\left(s_{8}^{6}\\right)}^{\\frac{1}{8}}\\right\\}$$"
      ],
      "text/plain": [
       "{c: 11/12*I*3^(1/4)*2^(3/4)*(s8^6)^(3/4)/s8^4,\n",
       " d0: -1/4*I*3^(1/4)*2^(3/4)*(s8^6)^(3/4)/s8^4,\n",
       " d4: -11/12*I*3^(1/4)*2^(3/4)*(s8^6)^(3/4)/s8^4,\n",
       " s0: 1/2*3^(1/8)*2^(7/8)*sqrt(-I*(s8^6)^(3/4))/s8^2,\n",
       " s2: 1/2*3^(1/4)*2^(3/4)*sqrt(-sqrt(s8^6))/s8,\n",
       " s5: (1/2*I + 1/2)*54^(1/8)*(s8^6)^(1/8)}"
      ]
     },
     "metadata": {},
     "output_type": "display_data"
    }
   ],
   "source": [
    "g_diag_vars = list(set(Sigma.diagonal()) - {1})\n",
    "incg = [c] + der_vars_diag + g_diag_vars\n",
    "display(incg)\n",
    "%time nilsoliton_sols = solve(nilsoliton_eqs, incg, algorithm='sympy') # long time\n",
    "for sol in nilsoliton_sols:\n",
    "    display(sol)"
   ]
  },
  {
   "cell_type": "markdown",
   "metadata": {},
   "source": [
    "Since $g = g_\\sigma$ with $\\sigma \\in \\Sigma \\subset \\rm T_6^+$ the only meaningful solution is the seventh one. Warning: the place of the meaningful solution in `nilsoliton_sols` may vary."
   ]
  },
  {
   "cell_type": "code",
   "execution_count": 43,
   "metadata": {},
   "outputs": [
    {
     "data": {
      "text/html": [
       "<html><script type=\"math/tex; mode=display\">\\newcommand{\\Bold}[1]{\\mathbf{#1}}\\left(\\begin{array}{rrrrrr}\n",
       "1 & 0 & 0 & 0 & 0 & 0 \\\\\n",
       "0 & \\frac{1}{2} \\cdot 3^{\\frac{1}{4}} 2^{\\frac{3}{4}} \\sqrt{s_{8}} & 0 & 0 & 0 & 0 \\\\\n",
       "0 & 0 & 1 & 0 & 0 & 0 \\\\\n",
       "0 & 0 & 0 & \\frac{1}{2} \\, \\sqrt{3} \\sqrt{2} s_{8} & 0 & 0 \\\\\n",
       "0 & 0 & 0 & 0 & \\frac{1}{2} \\cdot 3^{\\frac{3}{4}} 2^{\\frac{1}{4}} s_{8}^{\\frac{3}{2}} & 0 \\\\\n",
       "0 & 0 & 0 & 0 & 0 & s_{8}^{2}\n",
       "\\end{array}\\right)</script></html>"
      ],
      "text/latex": [
       "$$\\newcommand{\\Bold}[1]{\\mathbf{#1}}\\left(\\begin{array}{rrrrrr}\n",
       "1 & 0 & 0 & 0 & 0 & 0 \\\\\n",
       "0 & \\frac{1}{2} \\cdot 3^{\\frac{1}{4}} 2^{\\frac{3}{4}} \\sqrt{s_{8}} & 0 & 0 & 0 & 0 \\\\\n",
       "0 & 0 & 1 & 0 & 0 & 0 \\\\\n",
       "0 & 0 & 0 & \\frac{1}{2} \\, \\sqrt{3} \\sqrt{2} s_{8} & 0 & 0 \\\\\n",
       "0 & 0 & 0 & 0 & \\frac{1}{2} \\cdot 3^{\\frac{3}{4}} 2^{\\frac{1}{4}} s_{8}^{\\frac{3}{2}} & 0 \\\\\n",
       "0 & 0 & 0 & 0 & 0 & s_{8}^{2}\n",
       "\\end{array}\\right)$$"
      ],
      "text/plain": [
       "[                           1                            0                            0                            0                            0                            0]\n",
       "[                           0 1/2*3^(1/4)*2^(3/4)*sqrt(s8)                            0                            0                            0                            0]\n",
       "[                           0                            0                            1                            0                            0                            0]\n",
       "[                           0                            0                            0       1/2*sqrt(3)*sqrt(2)*s8                            0                            0]\n",
       "[                           0                            0                            0                            0 1/2*3^(3/4)*2^(1/4)*s8^(3/2)                            0]\n",
       "[                           0                            0                            0                            0                            0                         s8^2]"
      ]
     },
     "execution_count": 43,
     "metadata": {},
     "output_type": "execute_result"
    }
   ],
   "source": [
    "g_nil = g_diag.subs(nilsoliton_sols[7]).canonicalize_radical()\n",
    "Sigma_nil = Sigma_diag.subs(nilsoliton_sols[7]).canonicalize_radical()\n",
    "ip_nil = inner_product_from_matrix(alg, g_nil)\n",
    "g_nil"
   ]
  },
  {
   "cell_type": "markdown",
   "metadata": {},
   "source": [
    "It follows from Theorem 6.3 that the nilsoliton metrics has nontrivial index of symmetry."
   ]
  },
  {
   "cell_type": "code",
   "execution_count": 44,
   "metadata": {},
   "outputs": [
    {
     "data": {
      "text/html": [
       "<html><script type=\"math/tex; mode=display\">\\newcommand{\\Bold}[1]{\\mathbf{#1}}\\left(\\left(\\begin{array}{rrrrrr}\n",
       "1 & 0 & 0 & 0 & 0 & 0 \\\\\n",
       "0 & s_{0} & 0 & 0 & 0 & 0 \\\\\n",
       "0 & 0 & 1 & 0 & 0 & 0 \\\\\n",
       "0 & 0 & s_{1} & s_{2} & 0 & 0 \\\\\n",
       "0 & 0 & s_{3} & s_{4} & s_{5} & 0 \\\\\n",
       "0 & 0 & 0 & s_{6} & s_{7} & s_{8}\n",
       "\\end{array}\\right), \\left(\\begin{array}{rrrrrr}\n",
       "1 & 0 & 0 & 0 & 0 & 0 \\\\\n",
       "0 & \\frac{1}{2} \\cdot 3^{\\frac{1}{8}} 2^{\\frac{7}{8}} s_{8}^{\\frac{1}{4}} & 0 & 0 & 0 & 0 \\\\\n",
       "0 & 0 & 1 & 0 & 0 & 0 \\\\\n",
       "0 & 0 & 0 & \\frac{1}{2} \\cdot 3^{\\frac{1}{4}} 2^{\\frac{3}{4}} \\sqrt{s_{8}} & 0 & 0 \\\\\n",
       "0 & 0 & 0 & 0 & \\frac{1}{2} \\cdot 3^{\\frac{3}{8}} 2^{\\frac{5}{8}} s_{8}^{\\frac{3}{4}} & 0 \\\\\n",
       "0 & 0 & 0 & 0 & 0 & s_{8}\n",
       "\\end{array}\\right)\\right)</script></html>"
      ],
      "text/latex": [
       "$$\\newcommand{\\Bold}[1]{\\mathbf{#1}}\\left(\\left(\\begin{array}{rrrrrr}\n",
       "1 & 0 & 0 & 0 & 0 & 0 \\\\\n",
       "0 & s_{0} & 0 & 0 & 0 & 0 \\\\\n",
       "0 & 0 & 1 & 0 & 0 & 0 \\\\\n",
       "0 & 0 & s_{1} & s_{2} & 0 & 0 \\\\\n",
       "0 & 0 & s_{3} & s_{4} & s_{5} & 0 \\\\\n",
       "0 & 0 & 0 & s_{6} & s_{7} & s_{8}\n",
       "\\end{array}\\right), \\left(\\begin{array}{rrrrrr}\n",
       "1 & 0 & 0 & 0 & 0 & 0 \\\\\n",
       "0 & \\frac{1}{2} \\cdot 3^{\\frac{1}{8}} 2^{\\frac{7}{8}} s_{8}^{\\frac{1}{4}} & 0 & 0 & 0 & 0 \\\\\n",
       "0 & 0 & 1 & 0 & 0 & 0 \\\\\n",
       "0 & 0 & 0 & \\frac{1}{2} \\cdot 3^{\\frac{1}{4}} 2^{\\frac{3}{4}} \\sqrt{s_{8}} & 0 & 0 \\\\\n",
       "0 & 0 & 0 & 0 & \\frac{1}{2} \\cdot 3^{\\frac{3}{8}} 2^{\\frac{5}{8}} s_{8}^{\\frac{3}{4}} & 0 \\\\\n",
       "0 & 0 & 0 & 0 & 0 & s_{8}\n",
       "\\end{array}\\right)\\right)$$"
      ],
      "text/plain": [
       "(\n",
       "[ 1  0  0  0  0  0]  [                           1                            0                            0                            0                            0                            0]\n",
       "[ 0 s0  0  0  0  0]  [                           0 1/2*3^(1/8)*2^(7/8)*s8^(1/4)                            0                            0                            0                            0]\n",
       "[ 0  0  1  0  0  0]  [                           0                            0                            1                            0                            0                            0]\n",
       "[ 0  0 s1 s2  0  0]  [                           0                            0                            0 1/2*3^(1/4)*2^(3/4)*sqrt(s8)                            0                            0]\n",
       "[ 0  0 s3 s4 s5  0]  [                           0                            0                            0                            0 1/2*3^(3/8)*2^(5/8)*s8^(3/4)                            0]\n",
       "[ 0  0  0 s6 s7 s8], [                           0                            0                            0                            0                            0                           s8]\n",
       ")"
      ]
     },
     "execution_count": 44,
     "metadata": {},
     "output_type": "execute_result"
    }
   ],
   "source": [
    "Sigma, Sigma_nil"
   ]
  },
  {
   "cell_type": "markdown",
   "metadata": {},
   "source": [
    "### Isometry with the nilsoliton metric given in [Will11]\n",
    "\n",
    "The nilsoliton metric from the 2011 paper of Will which is isomorphic to $\\mathfrak h_{22}$ is the number $12$ given by $(0, 0, 0, 3^\\frac12 \\mathbf{12}, 3^\\frac12 \\mathbf{14}, 2^\\frac12\\mathbf{15} + 2^\\frac12 \\mathbf{24})$."
   ]
  },
  {
   "cell_type": "code",
   "execution_count": 45,
   "metadata": {},
   "outputs": [
    {
     "name": "stdout",
     "output_type": "stream",
     "text": [
      "('x1', 'x2')  =  sqrt(3)*x4\n",
      "('x1', 'x4')  =  sqrt(3)*x5\n",
      "('x1', 'x5')  =  sqrt(2)*x6\n",
      "('x2', 'x4')  =  sqrt(2)*x6\n"
     ]
    }
   ],
   "source": [
    "d_h = {('x1', 'x2'): {'x4': sqrt(3)}, ('x1', 'x4'): {'x5': sqrt(3)}, ('x1', 'x5'): {'x6': sqrt(2)}, ('x2', 'x4'): {'x6': sqrt(2)}} \n",
    "hh_will.<x1,x2,x3,x4,x5,x6> = LieAlgebra(SR, d_h, nilpotent=True) \n",
    "for kk in hh_will.structure_coefficients().keys():\n",
    "    print(kk, \" = \", hh_will.structure_coefficients()[kk])"
   ]
  },
  {
   "cell_type": "markdown",
   "metadata": {},
   "source": [
    "Notice that the basis $x_1, \\ldots, x_6$ is orthonormal by definition. We propose the following isomorphism between `hh_will` and `alg`."
   ]
  },
  {
   "cell_type": "code",
   "execution_count": 46,
   "metadata": {},
   "outputs": [
    {
     "data": {
      "text/html": [
       "<html><script type=\"math/tex; mode=display\">\\newcommand{\\Bold}[1]{\\mathbf{#1}}\\begin{array}{l}\n",
       "\\verb|Lie|\\phantom{\\verb!x!}\\verb|algebra|\\phantom{\\verb!x!}\\verb|morphism:|\\\\\n",
       "\\phantom{\\verb!xx!}\\verb|From:|\\phantom{\\verb!x!}\\verb|Nilpotent|\\phantom{\\verb!x!}\\verb|Lie|\\phantom{\\verb!x!}\\verb|algebra|\\phantom{\\verb!x!}\\verb|on|\\phantom{\\verb!x!}\\verb|6|\\phantom{\\verb!x!}\\verb|generators|\\phantom{\\verb!x!}\\verb|(x1,|\\phantom{\\verb!x!}\\verb|x2,|\\phantom{\\verb!x!}\\verb|x3,|\\phantom{\\verb!x!}\\verb|x4,|\\phantom{\\verb!x!}\\verb|x5,|\\phantom{\\verb!x!}\\verb|x6)|\\phantom{\\verb!x!}\\verb|over|\\phantom{\\verb!x!}\\verb|Symbolic|\\phantom{\\verb!x!}\\verb|Ring|\\\\\n",
       "\\phantom{\\verb!xx!}\\verb|To:|\\phantom{\\verb!xxx!}\\verb|Nilpotent|\\phantom{\\verb!x!}\\verb|Lie|\\phantom{\\verb!x!}\\verb|algebra|\\phantom{\\verb!x!}\\verb|on|\\phantom{\\verb!x!}\\verb|6|\\phantom{\\verb!x!}\\verb|generators|\\phantom{\\verb!x!}\\verb|(e1,|\\phantom{\\verb!x!}\\verb|e2,|\\phantom{\\verb!x!}\\verb|e3,|\\phantom{\\verb!x!}\\verb|e4,|\\phantom{\\verb!x!}\\verb|e5,|\\phantom{\\verb!x!}\\verb|e6)|\\phantom{\\verb!x!}\\verb|over|\\phantom{\\verb!x!}\\verb|Symbolic|\\phantom{\\verb!x!}\\verb|Ring|\\\\\n",
       "\\phantom{\\verb!xx!}\\verb\"Defn:\"\\phantom{\\verb!x!}\\verb\"x1\"\\phantom{\\verb!x!}\\verb\"|-->\"\\phantom{\\verb!x!}\\verb\"e1\"\\\\\n",
       "\\phantom{\\verb!xxxxxxxx!}\\verb\"x2\"\\phantom{\\verb!x!}\\verb\"|-->\"\\phantom{\\verb!x!}\\verb\"-1/3*sqrt(3)*e2\"\\\\\n",
       "\\phantom{\\verb!xxxxxxxx!}\\verb\"x3\"\\phantom{\\verb!x!}\\verb\"|-->\"\\phantom{\\verb!x!}\\verb\"e3\"\\\\\n",
       "\\phantom{\\verb!xxxxxxxx!}\\verb\"x4\"\\phantom{\\verb!x!}\\verb\"|-->\"\\phantom{\\verb!x!}\\verb\"1/3*e4\"\\\\\n",
       "\\phantom{\\verb!xxxxxxxx!}\\verb\"x5\"\\phantom{\\verb!x!}\\verb\"|-->\"\\phantom{\\verb!x!}\\verb\"-1/9*sqrt(3)*e5\"\\\\\n",
       "\\phantom{\\verb!xxxxxxxx!}\\verb\"x6\"\\phantom{\\verb!x!}\\verb\"|-->\"\\phantom{\\verb!x!}\\verb\"1/18*sqrt(3)*sqrt(2)*e6\"\n",
       "\\end{array}</script></html>"
      ],
      "text/latex": [
       "$$\\newcommand{\\Bold}[1]{\\mathbf{#1}}\\begin{array}{l}\n",
       "\\verb|Lie|\\phantom{\\verb!x!}\\verb|algebra|\\phantom{\\verb!x!}\\verb|morphism:|\\\\\n",
       "\\phantom{\\verb!xx!}\\verb|From:|\\phantom{\\verb!x!}\\verb|Nilpotent|\\phantom{\\verb!x!}\\verb|Lie|\\phantom{\\verb!x!}\\verb|algebra|\\phantom{\\verb!x!}\\verb|on|\\phantom{\\verb!x!}\\verb|6|\\phantom{\\verb!x!}\\verb|generators|\\phantom{\\verb!x!}\\verb|(x1,|\\phantom{\\verb!x!}\\verb|x2,|\\phantom{\\verb!x!}\\verb|x3,|\\phantom{\\verb!x!}\\verb|x4,|\\phantom{\\verb!x!}\\verb|x5,|\\phantom{\\verb!x!}\\verb|x6)|\\phantom{\\verb!x!}\\verb|over|\\phantom{\\verb!x!}\\verb|Symbolic|\\phantom{\\verb!x!}\\verb|Ring|\\\\\n",
       "\\phantom{\\verb!xx!}\\verb|To:|\\phantom{\\verb!xxx!}\\verb|Nilpotent|\\phantom{\\verb!x!}\\verb|Lie|\\phantom{\\verb!x!}\\verb|algebra|\\phantom{\\verb!x!}\\verb|on|\\phantom{\\verb!x!}\\verb|6|\\phantom{\\verb!x!}\\verb|generators|\\phantom{\\verb!x!}\\verb|(e1,|\\phantom{\\verb!x!}\\verb|e2,|\\phantom{\\verb!x!}\\verb|e3,|\\phantom{\\verb!x!}\\verb|e4,|\\phantom{\\verb!x!}\\verb|e5,|\\phantom{\\verb!x!}\\verb|e6)|\\phantom{\\verb!x!}\\verb|over|\\phantom{\\verb!x!}\\verb|Symbolic|\\phantom{\\verb!x!}\\verb|Ring|\\\\\n",
       "\\phantom{\\verb!xx!}\\verb\"Defn:\"\\phantom{\\verb!x!}\\verb\"x1\"\\phantom{\\verb!x!}\\verb\"|-->\"\\phantom{\\verb!x!}\\verb\"e1\"\\\\\n",
       "\\phantom{\\verb!xxxxxxxx!}\\verb\"x2\"\\phantom{\\verb!x!}\\verb\"|-->\"\\phantom{\\verb!x!}\\verb\"-1/3*sqrt(3)*e2\"\\\\\n",
       "\\phantom{\\verb!xxxxxxxx!}\\verb\"x3\"\\phantom{\\verb!x!}\\verb\"|-->\"\\phantom{\\verb!x!}\\verb\"e3\"\\\\\n",
       "\\phantom{\\verb!xxxxxxxx!}\\verb\"x4\"\\phantom{\\verb!x!}\\verb\"|-->\"\\phantom{\\verb!x!}\\verb\"1/3*e4\"\\\\\n",
       "\\phantom{\\verb!xxxxxxxx!}\\verb\"x5\"\\phantom{\\verb!x!}\\verb\"|-->\"\\phantom{\\verb!x!}\\verb\"-1/9*sqrt(3)*e5\"\\\\\n",
       "\\phantom{\\verb!xxxxxxxx!}\\verb\"x6\"\\phantom{\\verb!x!}\\verb\"|-->\"\\phantom{\\verb!x!}\\verb\"1/18*sqrt(3)*sqrt(2)*e6\"\n",
       "\\end{array}$$"
      ],
      "text/plain": [
       "Lie algebra morphism:\n",
       "  From: Nilpotent Lie algebra on 6 generators (x1, x2, x3, x4, x5, x6) over Symbolic Ring\n",
       "  To:   Nilpotent Lie algebra on 6 generators (e1, e2, e3, e4, e5, e6) over Symbolic Ring\n",
       "  Defn: x1 |--> e1\n",
       "        x2 |--> -1/3*sqrt(3)*e2\n",
       "        x3 |--> e3\n",
       "        x4 |--> 1/3*e4\n",
       "        x5 |--> -1/9*sqrt(3)*e5\n",
       "        x6 |--> 1/18*sqrt(3)*sqrt(2)*e6"
      ]
     },
     "execution_count": 46,
     "metadata": {},
     "output_type": "execute_result"
    }
   ],
   "source": [
    "e1, e2, e3, e4, e5, e6 = alg.basis()\n",
    "f1, f2, f3, f4, f5, f6 = e1, -sqrt(3)/3*e2, e3, 1/3*e4, -1/9*sqrt(3)*e5, 1/18*sqrt(3)*sqrt(2)*e6\n",
    "hh_will.morphism({x1:f1, x2:f2, x3:f3, x4:f4, x5:f5, x6:f6})"
   ]
  },
  {
   "cell_type": "markdown",
   "metadata": {},
   "source": [
    "We choose $s_8$ in order to make this isomorphism and isometry. "
   ]
  },
  {
   "cell_type": "code",
   "execution_count": 47,
   "metadata": {},
   "outputs": [
    {
     "data": {
      "text/html": [
       "<html><script type=\"math/tex; mode=display\">\\newcommand{\\Bold}[1]{\\mathbf{#1}}\\left(\\begin{array}{rrrrrr}\n",
       "1 & 0 & 0 & 0 & 0 & 0 \\\\\n",
       "0 & \\frac{1}{6} \\cdot 3^{\\frac{1}{4}} 2^{\\frac{3}{4}} \\sqrt{s_{8}} & 0 & 0 & 0 & 0 \\\\\n",
       "0 & 0 & 1 & 0 & 0 & 0 \\\\\n",
       "0 & 0 & 0 & \\frac{1}{18} \\, \\sqrt{3} \\sqrt{2} s_{8} & 0 & 0 \\\\\n",
       "0 & 0 & 0 & 0 & \\frac{1}{54} \\cdot 3^{\\frac{3}{4}} 2^{\\frac{1}{4}} s_{8}^{\\frac{3}{2}} & 0 \\\\\n",
       "0 & 0 & 0 & 0 & 0 & \\frac{1}{54} \\, s_{8}^{2}\n",
       "\\end{array}\\right)</script></html>"
      ],
      "text/latex": [
       "$$\\newcommand{\\Bold}[1]{\\mathbf{#1}}\\left(\\begin{array}{rrrrrr}\n",
       "1 & 0 & 0 & 0 & 0 & 0 \\\\\n",
       "0 & \\frac{1}{6} \\cdot 3^{\\frac{1}{4}} 2^{\\frac{3}{4}} \\sqrt{s_{8}} & 0 & 0 & 0 & 0 \\\\\n",
       "0 & 0 & 1 & 0 & 0 & 0 \\\\\n",
       "0 & 0 & 0 & \\frac{1}{18} \\, \\sqrt{3} \\sqrt{2} s_{8} & 0 & 0 \\\\\n",
       "0 & 0 & 0 & 0 & \\frac{1}{54} \\cdot 3^{\\frac{3}{4}} 2^{\\frac{1}{4}} s_{8}^{\\frac{3}{2}} & 0 \\\\\n",
       "0 & 0 & 0 & 0 & 0 & \\frac{1}{54} \\, s_{8}^{2}\n",
       "\\end{array}\\right)$$"
      ],
      "text/plain": [
       "[                            1                             0                             0                             0                             0                             0]\n",
       "[                            0  1/6*3^(1/4)*2^(3/4)*sqrt(s8)                             0                             0                             0                             0]\n",
       "[                            0                             0                             1                             0                             0                             0]\n",
       "[                            0                             0                             0       1/18*sqrt(3)*sqrt(2)*s8                             0                             0]\n",
       "[                            0                             0                             0                             0 1/54*3^(3/4)*2^(1/4)*s8^(3/2)                             0]\n",
       "[                            0                             0                             0                             0                             0                     1/54*s8^2]"
      ]
     },
     "execution_count": 47,
     "metadata": {},
     "output_type": "execute_result"
    }
   ],
   "source": [
    "on_basis_nil = [f1, f2, f3, f4, f5, f6]\n",
    "matrix(6, 6, lambda i, j: ip_nil(on_basis_nil[i], on_basis_nil[j])).canonicalize_radical()"
   ]
  },
  {
   "cell_type": "markdown",
   "metadata": {},
   "source": [
    "So it follows that $s_8 = \\sqrt{54} = 3 \\sqrt 6$. Indeed,"
   ]
  },
  {
   "cell_type": "code",
   "execution_count": 48,
   "metadata": {},
   "outputs": [
    {
     "data": {
      "text/html": [
       "<html><script type=\"math/tex; mode=display\">\\newcommand{\\Bold}[1]{\\mathbf{#1}}\\left(\\begin{array}{rrrrrr}\n",
       "1 & 0 & 0 & 0 & 0 & 0 \\\\\n",
       "0 & 1 & 0 & 0 & 0 & 0 \\\\\n",
       "0 & 0 & 1 & 0 & 0 & 0 \\\\\n",
       "0 & 0 & 0 & 1 & 0 & 0 \\\\\n",
       "0 & 0 & 0 & 0 & 1 & 0 \\\\\n",
       "0 & 0 & 0 & 0 & 0 & 1\n",
       "\\end{array}\\right)</script></html>"
      ],
      "text/latex": [
       "$$\\newcommand{\\Bold}[1]{\\mathbf{#1}}\\left(\\begin{array}{rrrrrr}\n",
       "1 & 0 & 0 & 0 & 0 & 0 \\\\\n",
       "0 & 1 & 0 & 0 & 0 & 0 \\\\\n",
       "0 & 0 & 1 & 0 & 0 & 0 \\\\\n",
       "0 & 0 & 0 & 1 & 0 & 0 \\\\\n",
       "0 & 0 & 0 & 0 & 1 & 0 \\\\\n",
       "0 & 0 & 0 & 0 & 0 & 1\n",
       "\\end{array}\\right)$$"
      ],
      "text/plain": [
       "[1 0 0 0 0 0]\n",
       "[0 1 0 0 0 0]\n",
       "[0 0 1 0 0 0]\n",
       "[0 0 0 1 0 0]\n",
       "[0 0 0 0 1 0]\n",
       "[0 0 0 0 0 1]"
      ]
     },
     "execution_count": 48,
     "metadata": {},
     "output_type": "execute_result"
    }
   ],
   "source": [
    "_.subs(s8=3*sqrt(6)).canonicalize_radical()"
   ]
  },
  {
   "cell_type": "markdown",
   "metadata": {},
   "source": [
    "So, the nilsoliton metric from Will's paper is"
   ]
  },
  {
   "cell_type": "code",
   "execution_count": 49,
   "metadata": {},
   "outputs": [
    {
     "data": {
      "text/html": [
       "<html><script type=\"math/tex; mode=display\">\\newcommand{\\Bold}[1]{\\mathbf{#1}}\\left(\\begin{array}{rrrrrr}\n",
       "1 & 0 & 0 & 0 & 0 & 0 \\\\\n",
       "0 & 3 & 0 & 0 & 0 & 0 \\\\\n",
       "0 & 0 & 1 & 0 & 0 & 0 \\\\\n",
       "0 & 0 & 0 & 9 & 0 & 0 \\\\\n",
       "0 & 0 & 0 & 0 & 27 & 0 \\\\\n",
       "0 & 0 & 0 & 0 & 0 & 54\n",
       "\\end{array}\\right)</script></html>"
      ],
      "text/latex": [
       "$$\\newcommand{\\Bold}[1]{\\mathbf{#1}}\\left(\\begin{array}{rrrrrr}\n",
       "1 & 0 & 0 & 0 & 0 & 0 \\\\\n",
       "0 & 3 & 0 & 0 & 0 & 0 \\\\\n",
       "0 & 0 & 1 & 0 & 0 & 0 \\\\\n",
       "0 & 0 & 0 & 9 & 0 & 0 \\\\\n",
       "0 & 0 & 0 & 0 & 27 & 0 \\\\\n",
       "0 & 0 & 0 & 0 & 0 & 54\n",
       "\\end{array}\\right)$$"
      ],
      "text/plain": [
       "[ 1  0  0  0  0  0]\n",
       "[ 0  3  0  0  0  0]\n",
       "[ 0  0  1  0  0  0]\n",
       "[ 0  0  0  9  0  0]\n",
       "[ 0  0  0  0 27  0]\n",
       "[ 0  0  0  0  0 54]"
      ]
     },
     "execution_count": 49,
     "metadata": {},
     "output_type": "execute_result"
    }
   ],
   "source": [
    "g_will = g_nil.subs(s8=3*sqrt(6)).canonicalize_radical()\n",
    "g_will"
   ]
  },
  {
   "cell_type": "markdown",
   "metadata": {},
   "source": [
    "## Case $\\mathfrak h_{28}$"
   ]
  },
  {
   "cell_type": "code",
   "execution_count": 50,
   "metadata": {},
   "outputs": [
    {
     "name": "stdout",
     "output_type": "stream",
     "text": [
      "CPU times: user 4.14 s, sys: 79 ms, total: 4.22 s\n",
      "Wall time: 3.63 s\n"
     ]
    },
    {
     "data": {
      "text/html": [
       "<html><script type=\"math/tex; mode=display\">\\newcommand{\\Bold}[1]{\\mathbf{#1}}\\left(\\left(\\begin{array}{rrrrrr}\n",
       "1 & 0 & 0 & 0 & 0 & 0 \\\\\n",
       "0 & 1 & 0 & 0 & 0 & 0 \\\\\n",
       "0 & 0 & s_{0}^{2} + s_{1}^{2} + s_{3}^{2} + s_{6}^{2} & s_{1} s_{2} + s_{3} s_{4} + s_{6} s_{7} & s_{3} s_{5} + s_{6} s_{8} & s_{6} s_{9} \\\\\n",
       "0 & 0 & s_{1} s_{2} + s_{3} s_{4} + s_{6} s_{7} & s_{2}^{2} + s_{4}^{2} + s_{7}^{2} & s_{4} s_{5} + s_{7} s_{8} & s_{7} s_{9} \\\\\n",
       "0 & 0 & s_{3} s_{5} + s_{6} s_{8} & s_{4} s_{5} + s_{7} s_{8} & s_{5}^{2} + s_{8}^{2} & s_{8} s_{9} \\\\\n",
       "0 & 0 & s_{6} s_{9} & s_{7} s_{9} & s_{8} s_{9} & s_{9}^{2}\n",
       "\\end{array}\\right), \\left(\\begin{array}{rrrrrr}\n",
       "1 & 0 & 0 & 0 & 0 & 0 \\\\\n",
       "0 & 1 & 0 & 0 & 0 & 0 \\\\\n",
       "0 & 0 & s_{0} & 0 & 0 & 0 \\\\\n",
       "0 & 0 & s_{1} & s_{2} & 0 & 0 \\\\\n",
       "0 & 0 & s_{3} & s_{4} & s_{5} & 0 \\\\\n",
       "0 & 0 & s_{6} & s_{7} & s_{8} & s_{9}\n",
       "\\end{array}\\right)\\right)</script></html>"
      ],
      "text/latex": [
       "$$\\newcommand{\\Bold}[1]{\\mathbf{#1}}\\left(\\left(\\begin{array}{rrrrrr}\n",
       "1 & 0 & 0 & 0 & 0 & 0 \\\\\n",
       "0 & 1 & 0 & 0 & 0 & 0 \\\\\n",
       "0 & 0 & s_{0}^{2} + s_{1}^{2} + s_{3}^{2} + s_{6}^{2} & s_{1} s_{2} + s_{3} s_{4} + s_{6} s_{7} & s_{3} s_{5} + s_{6} s_{8} & s_{6} s_{9} \\\\\n",
       "0 & 0 & s_{1} s_{2} + s_{3} s_{4} + s_{6} s_{7} & s_{2}^{2} + s_{4}^{2} + s_{7}^{2} & s_{4} s_{5} + s_{7} s_{8} & s_{7} s_{9} \\\\\n",
       "0 & 0 & s_{3} s_{5} + s_{6} s_{8} & s_{4} s_{5} + s_{7} s_{8} & s_{5}^{2} + s_{8}^{2} & s_{8} s_{9} \\\\\n",
       "0 & 0 & s_{6} s_{9} & s_{7} s_{9} & s_{8} s_{9} & s_{9}^{2}\n",
       "\\end{array}\\right), \\left(\\begin{array}{rrrrrr}\n",
       "1 & 0 & 0 & 0 & 0 & 0 \\\\\n",
       "0 & 1 & 0 & 0 & 0 & 0 \\\\\n",
       "0 & 0 & s_{0} & 0 & 0 & 0 \\\\\n",
       "0 & 0 & s_{1} & s_{2} & 0 & 0 \\\\\n",
       "0 & 0 & s_{3} & s_{4} & s_{5} & 0 \\\\\n",
       "0 & 0 & s_{6} & s_{7} & s_{8} & s_{9}\n",
       "\\end{array}\\right)\\right)$$"
      ],
      "text/plain": [
       "(\n",
       "[                        1                         0                         0                         0                         0                         0]\n",
       "[                        0                         1                         0                         0                         0                         0]\n",
       "[                        0                         0 s0^2 + s1^2 + s3^2 + s6^2     s1*s2 + s3*s4 + s6*s7             s3*s5 + s6*s8                     s6*s9]\n",
       "[                        0                         0     s1*s2 + s3*s4 + s6*s7        s2^2 + s4^2 + s7^2             s4*s5 + s7*s8                     s7*s9]\n",
       "[                        0                         0             s3*s5 + s6*s8             s4*s5 + s7*s8               s5^2 + s8^2                     s8*s9]\n",
       "[                        0                         0                     s6*s9                     s7*s9                     s8*s9                      s9^2],\n",
       "\n",
       "[ 1  0  0  0  0  0]\n",
       "[ 0  1  0  0  0  0]\n",
       "[ 0  0 s0  0  0  0]\n",
       "[ 0  0 s1 s2  0  0]\n",
       "[ 0  0 s3 s4 s5  0]\n",
       "[ 0  0 s6 s7 s8 s9]\n",
       ")"
      ]
     },
     "execution_count": 50,
     "metadata": {},
     "output_type": "execute_result"
    }
   ],
   "source": [
    "construct_the_algebra(\"h28\")\n",
    "%time generic_metric(alg_name) # long time\n",
    "g, Sigma"
   ]
  },
  {
   "cell_type": "markdown",
   "metadata": {},
   "source": [
    "We can avoid very long computations by working with diagonal metrics. "
   ]
  },
  {
   "cell_type": "code",
   "execution_count": 51,
   "metadata": {},
   "outputs": [
    {
     "data": {
      "text/html": [
       "<html><script type=\"math/tex; mode=display\">\\newcommand{\\Bold}[1]{\\mathbf{#1}}\\left(\\begin{array}{rrrrrr}\n",
       "1 & 0 & 0 & 0 & 0 & 0 \\\\\n",
       "0 & 1 & 0 & 0 & 0 & 0 \\\\\n",
       "0 & 0 & s_{0}^{2} & 0 & 0 & 0 \\\\\n",
       "0 & 0 & 0 & s_{2}^{2} & 0 & 0 \\\\\n",
       "0 & 0 & 0 & 0 & s_{5}^{2} & 0 \\\\\n",
       "0 & 0 & 0 & 0 & 0 & s_{9}^{2}\n",
       "\\end{array}\\right)</script></html>"
      ],
      "text/latex": [
       "$$\\newcommand{\\Bold}[1]{\\mathbf{#1}}\\left(\\begin{array}{rrrrrr}\n",
       "1 & 0 & 0 & 0 & 0 & 0 \\\\\n",
       "0 & 1 & 0 & 0 & 0 & 0 \\\\\n",
       "0 & 0 & s_{0}^{2} & 0 & 0 & 0 \\\\\n",
       "0 & 0 & 0 & s_{2}^{2} & 0 & 0 \\\\\n",
       "0 & 0 & 0 & 0 & s_{5}^{2} & 0 \\\\\n",
       "0 & 0 & 0 & 0 & 0 & s_{9}^{2}\n",
       "\\end{array}\\right)$$"
      ],
      "text/plain": [
       "[   1    0    0    0    0    0]\n",
       "[   0    1    0    0    0    0]\n",
       "[   0    0 s0^2    0    0    0]\n",
       "[   0    0    0 s2^2    0    0]\n",
       "[   0    0    0    0 s5^2    0]\n",
       "[   0    0    0    0    0 s9^2]"
      ]
     },
     "execution_count": 51,
     "metadata": {},
     "output_type": "execute_result"
    }
   ],
   "source": [
    "g_diag = g.subs(s1=0,s3=0,s4=0,s6=0,s7=0,s8=0)\n",
    "Sigma_diag = Sigma.subs(s1=0,s3=0,s4=0,s6=0,s7=0,s8=0)\n",
    "g_diag"
   ]
  },
  {
   "cell_type": "markdown",
   "metadata": {},
   "source": [
    "Now we compute the Ricci tensor."
   ]
  },
  {
   "cell_type": "code",
   "execution_count": 52,
   "metadata": {},
   "outputs": [
    {
     "data": {
      "text/html": [
       "<html><script type=\"math/tex; mode=display\">\\newcommand{\\Bold}[1]{\\mathbf{#1}}\\left[e1, e2, \\frac{1}{s_{0}}e3, \\frac{1}{s_{2}}e4, \\frac{1}{s_{5}}e5, \\frac{1}{s_{9}}e6\\right]</script></html>"
      ],
      "text/latex": [
       "$$\\newcommand{\\Bold}[1]{\\mathbf{#1}}\\left[e1, e2, \\frac{1}{s_{0}}e3, \\frac{1}{s_{2}}e4, \\frac{1}{s_{5}}e5, \\frac{1}{s_{9}}e6\\right]$$"
      ],
      "text/plain": [
       "[e1, e2, 1/s0*e3, 1/s2*e4, 1/s5*e5, 1/s9*e6]"
      ]
     },
     "metadata": {},
     "output_type": "display_data"
    },
    {
     "data": {
      "text/html": [
       "<html><script type=\"math/tex; mode=display\">\\newcommand{\\Bold}[1]{\\mathbf{#1}}\\left(\\begin{array}{rrrrrr}\n",
       "-\\frac{s_{0}^{2} s_{5}^{4} + s_{0}^{2} s_{2}^{2} s_{9}^{2} + {\\left(s_{0}^{4} s_{2}^{2} + s_{2}^{4}\\right)} s_{5}^{2}}{2 \\, s_{0}^{2} s_{2}^{2} s_{5}^{2}} & 0 & 0 & 0 & 0 & 0 \\\\\n",
       "0 & -\\frac{1}{2} \\, s_{0}^{2} & 0 & 0 & 0 & 0 \\\\\n",
       "0 & 0 & \\frac{s_{0}^{4} - s_{2}^{2}}{2 \\, s_{0}^{2}} & 0 & 0 & 0 \\\\\n",
       "0 & 0 & 0 & \\frac{s_{2}^{4} - s_{0}^{2} s_{5}^{2}}{2 \\, s_{0}^{2} s_{2}^{2}} & 0 & 0 \\\\\n",
       "0 & 0 & 0 & 0 & \\frac{s_{5}^{4} - s_{2}^{2} s_{9}^{2}}{2 \\, s_{2}^{2} s_{5}^{2}} & 0 \\\\\n",
       "0 & 0 & 0 & 0 & 0 & \\frac{s_{9}^{2}}{2 \\, s_{5}^{2}}\n",
       "\\end{array}\\right)</script></html>"
      ],
      "text/latex": [
       "$$\\newcommand{\\Bold}[1]{\\mathbf{#1}}\\left(\\begin{array}{rrrrrr}\n",
       "-\\frac{s_{0}^{2} s_{5}^{4} + s_{0}^{2} s_{2}^{2} s_{9}^{2} + {\\left(s_{0}^{4} s_{2}^{2} + s_{2}^{4}\\right)} s_{5}^{2}}{2 \\, s_{0}^{2} s_{2}^{2} s_{5}^{2}} & 0 & 0 & 0 & 0 & 0 \\\\\n",
       "0 & -\\frac{1}{2} \\, s_{0}^{2} & 0 & 0 & 0 & 0 \\\\\n",
       "0 & 0 & \\frac{s_{0}^{4} - s_{2}^{2}}{2 \\, s_{0}^{2}} & 0 & 0 & 0 \\\\\n",
       "0 & 0 & 0 & \\frac{s_{2}^{4} - s_{0}^{2} s_{5}^{2}}{2 \\, s_{0}^{2} s_{2}^{2}} & 0 & 0 \\\\\n",
       "0 & 0 & 0 & 0 & \\frac{s_{5}^{4} - s_{2}^{2} s_{9}^{2}}{2 \\, s_{2}^{2} s_{5}^{2}} & 0 \\\\\n",
       "0 & 0 & 0 & 0 & 0 & \\frac{s_{9}^{2}}{2 \\, s_{5}^{2}}\n",
       "\\end{array}\\right)$$"
      ],
      "text/plain": [
       "[-1/2*(s0^2*s5^4 + s0^2*s2^2*s9^2 + (s0^4*s2^2 + s2^4)*s5^2)/(s0^2*s2^2*s5^2)                                                                            0                                                                            0                                                                            0                                                                            0                                                                            0]\n",
       "[                                                                           0                                                                    -1/2*s0^2                                                                            0                                                                            0                                                                            0                                                                            0]\n",
       "[                                                                           0                                                                            0                                                       1/2*(s0^4 - s2^2)/s0^2                                                                            0                                                                            0                                                                            0]\n",
       "[                                                                           0                                                                            0                                                                            0                                           1/2*(s2^4 - s0^2*s5^2)/(s0^2*s2^2)                                                                            0                                                                            0]\n",
       "[                                                                           0                                                                            0                                                                            0                                                                            0                                           1/2*(s5^4 - s2^2*s9^2)/(s2^2*s5^2)                                                                            0]\n",
       "[                                                                           0                                                                            0                                                                            0                                                                            0                                                                            0                                                                1/2*s9^2/s5^2]"
      ]
     },
     "execution_count": 52,
     "metadata": {},
     "output_type": "execute_result"
    }
   ],
   "source": [
    "ip = inner_product_from_matrix(alg, g_diag)\n",
    "on_basis = gram_schmidt(alg, ip)\n",
    "display(on_basis)\n",
    "Ric_on_basis = Ric_on(alg, g_diag, on_basis).simplify_full() # we need .simplify_full() otherwise computations take too long\n",
    "Ric_on_basis"
   ]
  },
  {
   "cell_type": "markdown",
   "metadata": {},
   "source": [
    "Now we solve equation $(*)$. Recall that the derivation $D$ can be assumed in diagonal form"
   ]
  },
  {
   "cell_type": "code",
   "execution_count": 53,
   "metadata": {},
   "outputs": [
    {
     "data": {
      "text/html": [
       "<html><script type=\"math/tex; mode=display\">\\newcommand{\\Bold}[1]{\\mathbf{#1}}\\left(\\begin{array}{rrrrrr}\n",
       "d_{0} & 0 & 0 & 0 & 0 & 0 \\\\\n",
       "0 & d_{2} & 0 & 0 & 0 & 0 \\\\\n",
       "0 & 0 & d_{0} + d_{2} & 0 & 0 & 0 \\\\\n",
       "0 & 0 & 0 & 2 \\, d_{0} + d_{2} & 0 & 0 \\\\\n",
       "0 & 0 & 0 & 0 & 3 \\, d_{0} + d_{2} & 0 \\\\\n",
       "0 & 0 & 0 & 0 & 0 & 4 \\, d_{0} + d_{2}\n",
       "\\end{array}\\right)</script></html>"
      ],
      "text/latex": [
       "$$\\newcommand{\\Bold}[1]{\\mathbf{#1}}\\left(\\begin{array}{rrrrrr}\n",
       "d_{0} & 0 & 0 & 0 & 0 & 0 \\\\\n",
       "0 & d_{2} & 0 & 0 & 0 & 0 \\\\\n",
       "0 & 0 & d_{0} + d_{2} & 0 & 0 & 0 \\\\\n",
       "0 & 0 & 0 & 2 \\, d_{0} + d_{2} & 0 & 0 \\\\\n",
       "0 & 0 & 0 & 0 & 3 \\, d_{0} + d_{2} & 0 \\\\\n",
       "0 & 0 & 0 & 0 & 0 & 4 \\, d_{0} + d_{2}\n",
       "\\end{array}\\right)$$"
      ],
      "text/plain": [
       "[       d0         0         0         0         0         0]\n",
       "[        0        d2         0         0         0         0]\n",
       "[        0         0   d0 + d2         0         0         0]\n",
       "[        0         0         0 2*d0 + d2         0         0]\n",
       "[        0         0         0         0 3*d0 + d2         0]\n",
       "[        0         0         0         0         0 4*d0 + d2]"
      ]
     },
     "metadata": {},
     "output_type": "display_data"
    },
    {
     "data": {
      "text/html": [
       "<html><script type=\"math/tex; mode=display\">\\newcommand{\\Bold}[1]{\\mathbf{#1}}\\left[-c - d_{0} - \\frac{s_{0}^{2} s_{5}^{4} + s_{0}^{2} s_{2}^{2} s_{9}^{2} + {\\left(s_{0}^{4} s_{2}^{2} + s_{2}^{4}\\right)} s_{5}^{2}}{2 \\, s_{0}^{2} s_{2}^{2} s_{5}^{2}}, -\\frac{1}{2} \\, s_{0}^{2} - c - d_{2}, -c - d_{0} - d_{2} + \\frac{s_{0}^{4} - s_{2}^{2}}{2 \\, s_{0}^{2}}, -c - 2 \\, d_{0} - d_{2} + \\frac{s_{2}^{4} - s_{0}^{2} s_{5}^{2}}{2 \\, s_{0}^{2} s_{2}^{2}}, -c - 3 \\, d_{0} - d_{2} + \\frac{s_{5}^{4} - s_{2}^{2} s_{9}^{2}}{2 \\, s_{2}^{2} s_{5}^{2}}, -c - 4 \\, d_{0} - d_{2} + \\frac{s_{9}^{2}}{2 \\, s_{5}^{2}}\\right]</script></html>"
      ],
      "text/latex": [
       "$$\\newcommand{\\Bold}[1]{\\mathbf{#1}}\\left[-c - d_{0} - \\frac{s_{0}^{2} s_{5}^{4} + s_{0}^{2} s_{2}^{2} s_{9}^{2} + {\\left(s_{0}^{4} s_{2}^{2} + s_{2}^{4}\\right)} s_{5}^{2}}{2 \\, s_{0}^{2} s_{2}^{2} s_{5}^{2}}, -\\frac{1}{2} \\, s_{0}^{2} - c - d_{2}, -c - d_{0} - d_{2} + \\frac{s_{0}^{4} - s_{2}^{2}}{2 \\, s_{0}^{2}}, -c - 2 \\, d_{0} - d_{2} + \\frac{s_{2}^{4} - s_{0}^{2} s_{5}^{2}}{2 \\, s_{0}^{2} s_{2}^{2}}, -c - 3 \\, d_{0} - d_{2} + \\frac{s_{5}^{4} - s_{2}^{2} s_{9}^{2}}{2 \\, s_{2}^{2} s_{5}^{2}}, -c - 4 \\, d_{0} - d_{2} + \\frac{s_{9}^{2}}{2 \\, s_{5}^{2}}\\right]$$"
      ],
      "text/plain": [
       "[-c - d0 - 1/2*(s0^2*s5^4 + s0^2*s2^2*s9^2 + (s0^4*s2^2 + s2^4)*s5^2)/(s0^2*s2^2*s5^2),\n",
       " -1/2*s0^2 - c - d2,\n",
       " -c - d0 - d2 + 1/2*(s0^4 - s2^2)/s0^2,\n",
       " -c - 2*d0 - d2 + 1/2*(s2^4 - s0^2*s5^2)/(s0^2*s2^2),\n",
       " -c - 3*d0 - d2 + 1/2*(s5^4 - s2^2*s9^2)/(s2^2*s5^2),\n",
       " -c - 4*d0 - d2 + 1/2*s9^2/s5^2]"
      ]
     },
     "execution_count": 53,
     "metadata": {},
     "output_type": "execute_result"
    }
   ],
   "source": [
    "c = var(\"c\")\n",
    "D = der_gen_diag\n",
    "display(D)\n",
    "nilsoliton_eqs = (Ric_on_basis - c * identity_matrix(alg.dimension()) - D).coefficients()\n",
    "nilsoliton_eqs"
   ]
  },
  {
   "cell_type": "code",
   "execution_count": 54,
   "metadata": {},
   "outputs": [
    {
     "data": {
      "text/html": [
       "<html><script type=\"math/tex; mode=display\">\\newcommand{\\Bold}[1]{\\mathbf{#1}}\\left[c, d_{0}, d_{2}, s_{5}, s_{0}, s_{9}, s_{2}\\right]</script></html>"
      ],
      "text/latex": [
       "$$\\newcommand{\\Bold}[1]{\\mathbf{#1}}\\left[c, d_{0}, d_{2}, s_{5}, s_{0}, s_{9}, s_{2}\\right]$$"
      ],
      "text/plain": [
       "[c, d0, d2, s5, s0, s9, s2]"
      ]
     },
     "metadata": {},
     "output_type": "display_data"
    },
    {
     "name": "stdout",
     "output_type": "stream",
     "text": [
      "CPU times: user 33.4 s, sys: 63 ms, total: 33.5 s\n",
      "Wall time: 33.6 s\n"
     ]
    },
    {
     "data": {
      "text/html": [
       "<html><script type=\"math/tex; mode=display\">\\newcommand{\\Bold}[1]{\\mathbf{#1}}\\left\\{c : -\\frac{11 \\, \\sqrt{6} {\\left(s_{9}^{6}\\right)}^{\\frac{3}{4}}}{12 \\, s_{9}^{4}}, d_{0} : \\frac{\\sqrt{6} {\\left(s_{9}^{6}\\right)}^{\\frac{3}{4}}}{12 \\, s_{9}^{4}}, d_{2} : \\frac{3 \\, \\sqrt{6} {\\left(s_{9}^{6}\\right)}^{\\frac{3}{4}}}{4 \\, s_{9}^{4}}, s_{0} : -\\frac{3^{\\frac{3}{4}} 2^{\\frac{1}{4}} {\\left(s_{9}^{6}\\right)}^{\\frac{3}{8}}}{3 \\, s_{9}^{2}}, s_{2} : -\\frac{{\\left(s_{9}^{6}\\right)}^{\\frac{1}{4}}}{s_{9}}, s_{5} : -\\frac{1}{2} \\cdot 3^{\\frac{1}{4}} 2^{\\frac{3}{4}} {\\left(s_{9}^{6}\\right)}^{\\frac{1}{8}}\\right\\}</script></html>"
      ],
      "text/latex": [
       "$$\\newcommand{\\Bold}[1]{\\mathbf{#1}}\\left\\{c : -\\frac{11 \\, \\sqrt{6} {\\left(s_{9}^{6}\\right)}^{\\frac{3}{4}}}{12 \\, s_{9}^{4}}, d_{0} : \\frac{\\sqrt{6} {\\left(s_{9}^{6}\\right)}^{\\frac{3}{4}}}{12 \\, s_{9}^{4}}, d_{2} : \\frac{3 \\, \\sqrt{6} {\\left(s_{9}^{6}\\right)}^{\\frac{3}{4}}}{4 \\, s_{9}^{4}}, s_{0} : -\\frac{3^{\\frac{3}{4}} 2^{\\frac{1}{4}} {\\left(s_{9}^{6}\\right)}^{\\frac{3}{8}}}{3 \\, s_{9}^{2}}, s_{2} : -\\frac{{\\left(s_{9}^{6}\\right)}^{\\frac{1}{4}}}{s_{9}}, s_{5} : -\\frac{1}{2} \\cdot 3^{\\frac{1}{4}} 2^{\\frac{3}{4}} {\\left(s_{9}^{6}\\right)}^{\\frac{1}{8}}\\right\\}$$"
      ],
      "text/plain": [
       "{c: -11/12*sqrt(6)*(s9^6)^(3/4)/s9^4,\n",
       " d0: 1/12*sqrt(6)*(s9^6)^(3/4)/s9^4,\n",
       " d2: 3/4*sqrt(6)*(s9^6)^(3/4)/s9^4,\n",
       " s0: -1/3*3^(3/4)*2^(1/4)*(s9^6)^(3/8)/s9^2,\n",
       " s2: -(s9^6)^(1/4)/s9,\n",
       " s5: -1/2*3^(1/4)*2^(3/4)*(s9^6)^(1/8)}"
      ]
     },
     "metadata": {},
     "output_type": "display_data"
    },
    {
     "data": {
      "text/html": [
       "<html><script type=\"math/tex; mode=display\">\\newcommand{\\Bold}[1]{\\mathbf{#1}}\\left\\{c : -\\frac{11 \\, \\sqrt{6} {\\left(s_{9}^{6}\\right)}^{\\frac{3}{4}}}{12 \\, s_{9}^{4}}, d_{0} : \\frac{\\sqrt{6} {\\left(s_{9}^{6}\\right)}^{\\frac{3}{4}}}{12 \\, s_{9}^{4}}, d_{2} : \\frac{3 \\, \\sqrt{6} {\\left(s_{9}^{6}\\right)}^{\\frac{3}{4}}}{4 \\, s_{9}^{4}}, s_{0} : -\\frac{3^{\\frac{3}{4}} 2^{\\frac{1}{4}} {\\left(s_{9}^{6}\\right)}^{\\frac{3}{8}}}{3 \\, s_{9}^{2}}, s_{2} : -\\frac{{\\left(s_{9}^{6}\\right)}^{\\frac{1}{4}}}{s_{9}}, s_{5} : \\frac{1}{2} \\cdot 3^{\\frac{1}{4}} 2^{\\frac{3}{4}} {\\left(s_{9}^{6}\\right)}^{\\frac{1}{8}}\\right\\}</script></html>"
      ],
      "text/latex": [
       "$$\\newcommand{\\Bold}[1]{\\mathbf{#1}}\\left\\{c : -\\frac{11 \\, \\sqrt{6} {\\left(s_{9}^{6}\\right)}^{\\frac{3}{4}}}{12 \\, s_{9}^{4}}, d_{0} : \\frac{\\sqrt{6} {\\left(s_{9}^{6}\\right)}^{\\frac{3}{4}}}{12 \\, s_{9}^{4}}, d_{2} : \\frac{3 \\, \\sqrt{6} {\\left(s_{9}^{6}\\right)}^{\\frac{3}{4}}}{4 \\, s_{9}^{4}}, s_{0} : -\\frac{3^{\\frac{3}{4}} 2^{\\frac{1}{4}} {\\left(s_{9}^{6}\\right)}^{\\frac{3}{8}}}{3 \\, s_{9}^{2}}, s_{2} : -\\frac{{\\left(s_{9}^{6}\\right)}^{\\frac{1}{4}}}{s_{9}}, s_{5} : \\frac{1}{2} \\cdot 3^{\\frac{1}{4}} 2^{\\frac{3}{4}} {\\left(s_{9}^{6}\\right)}^{\\frac{1}{8}}\\right\\}$$"
      ],
      "text/plain": [
       "{c: -11/12*sqrt(6)*(s9^6)^(3/4)/s9^4,\n",
       " d0: 1/12*sqrt(6)*(s9^6)^(3/4)/s9^4,\n",
       " d2: 3/4*sqrt(6)*(s9^6)^(3/4)/s9^4,\n",
       " s0: -1/3*3^(3/4)*2^(1/4)*(s9^6)^(3/8)/s9^2,\n",
       " s2: -(s9^6)^(1/4)/s9,\n",
       " s5: 1/2*3^(1/4)*2^(3/4)*(s9^6)^(1/8)}"
      ]
     },
     "metadata": {},
     "output_type": "display_data"
    },
    {
     "data": {
      "text/html": [
       "<html><script type=\"math/tex; mode=display\">\\newcommand{\\Bold}[1]{\\mathbf{#1}}\\left\\{c : -\\frac{11 \\, \\sqrt{6} {\\left(s_{9}^{6}\\right)}^{\\frac{3}{4}}}{12 \\, s_{9}^{4}}, d_{0} : \\frac{\\sqrt{6} {\\left(s_{9}^{6}\\right)}^{\\frac{3}{4}}}{12 \\, s_{9}^{4}}, d_{2} : \\frac{3 \\, \\sqrt{6} {\\left(s_{9}^{6}\\right)}^{\\frac{3}{4}}}{4 \\, s_{9}^{4}}, s_{0} : -\\frac{3^{\\frac{3}{4}} 2^{\\frac{1}{4}} {\\left(s_{9}^{6}\\right)}^{\\frac{3}{8}}}{3 \\, s_{9}^{2}}, s_{2} : \\frac{{\\left(s_{9}^{6}\\right)}^{\\frac{1}{4}}}{s_{9}}, s_{5} : -\\frac{1}{2} \\cdot 3^{\\frac{1}{4}} 2^{\\frac{3}{4}} {\\left(s_{9}^{6}\\right)}^{\\frac{1}{8}}\\right\\}</script></html>"
      ],
      "text/latex": [
       "$$\\newcommand{\\Bold}[1]{\\mathbf{#1}}\\left\\{c : -\\frac{11 \\, \\sqrt{6} {\\left(s_{9}^{6}\\right)}^{\\frac{3}{4}}}{12 \\, s_{9}^{4}}, d_{0} : \\frac{\\sqrt{6} {\\left(s_{9}^{6}\\right)}^{\\frac{3}{4}}}{12 \\, s_{9}^{4}}, d_{2} : \\frac{3 \\, \\sqrt{6} {\\left(s_{9}^{6}\\right)}^{\\frac{3}{4}}}{4 \\, s_{9}^{4}}, s_{0} : -\\frac{3^{\\frac{3}{4}} 2^{\\frac{1}{4}} {\\left(s_{9}^{6}\\right)}^{\\frac{3}{8}}}{3 \\, s_{9}^{2}}, s_{2} : \\frac{{\\left(s_{9}^{6}\\right)}^{\\frac{1}{4}}}{s_{9}}, s_{5} : -\\frac{1}{2} \\cdot 3^{\\frac{1}{4}} 2^{\\frac{3}{4}} {\\left(s_{9}^{6}\\right)}^{\\frac{1}{8}}\\right\\}$$"
      ],
      "text/plain": [
       "{c: -11/12*sqrt(6)*(s9^6)^(3/4)/s9^4,\n",
       " d0: 1/12*sqrt(6)*(s9^6)^(3/4)/s9^4,\n",
       " d2: 3/4*sqrt(6)*(s9^6)^(3/4)/s9^4,\n",
       " s0: -1/3*3^(3/4)*2^(1/4)*(s9^6)^(3/8)/s9^2,\n",
       " s2: (s9^6)^(1/4)/s9,\n",
       " s5: -1/2*3^(1/4)*2^(3/4)*(s9^6)^(1/8)}"
      ]
     },
     "metadata": {},
     "output_type": "display_data"
    },
    {
     "data": {
      "text/html": [
       "<html><script type=\"math/tex; mode=display\">\\newcommand{\\Bold}[1]{\\mathbf{#1}}\\left\\{c : -\\frac{11 \\, \\sqrt{6} {\\left(s_{9}^{6}\\right)}^{\\frac{3}{4}}}{12 \\, s_{9}^{4}}, d_{0} : \\frac{\\sqrt{6} {\\left(s_{9}^{6}\\right)}^{\\frac{3}{4}}}{12 \\, s_{9}^{4}}, d_{2} : \\frac{3 \\, \\sqrt{6} {\\left(s_{9}^{6}\\right)}^{\\frac{3}{4}}}{4 \\, s_{9}^{4}}, s_{0} : -\\frac{3^{\\frac{3}{4}} 2^{\\frac{1}{4}} {\\left(s_{9}^{6}\\right)}^{\\frac{3}{8}}}{3 \\, s_{9}^{2}}, s_{2} : \\frac{{\\left(s_{9}^{6}\\right)}^{\\frac{1}{4}}}{s_{9}}, s_{5} : \\frac{1}{2} \\cdot 3^{\\frac{1}{4}} 2^{\\frac{3}{4}} {\\left(s_{9}^{6}\\right)}^{\\frac{1}{8}}\\right\\}</script></html>"
      ],
      "text/latex": [
       "$$\\newcommand{\\Bold}[1]{\\mathbf{#1}}\\left\\{c : -\\frac{11 \\, \\sqrt{6} {\\left(s_{9}^{6}\\right)}^{\\frac{3}{4}}}{12 \\, s_{9}^{4}}, d_{0} : \\frac{\\sqrt{6} {\\left(s_{9}^{6}\\right)}^{\\frac{3}{4}}}{12 \\, s_{9}^{4}}, d_{2} : \\frac{3 \\, \\sqrt{6} {\\left(s_{9}^{6}\\right)}^{\\frac{3}{4}}}{4 \\, s_{9}^{4}}, s_{0} : -\\frac{3^{\\frac{3}{4}} 2^{\\frac{1}{4}} {\\left(s_{9}^{6}\\right)}^{\\frac{3}{8}}}{3 \\, s_{9}^{2}}, s_{2} : \\frac{{\\left(s_{9}^{6}\\right)}^{\\frac{1}{4}}}{s_{9}}, s_{5} : \\frac{1}{2} \\cdot 3^{\\frac{1}{4}} 2^{\\frac{3}{4}} {\\left(s_{9}^{6}\\right)}^{\\frac{1}{8}}\\right\\}$$"
      ],
      "text/plain": [
       "{c: -11/12*sqrt(6)*(s9^6)^(3/4)/s9^4,\n",
       " d0: 1/12*sqrt(6)*(s9^6)^(3/4)/s9^4,\n",
       " d2: 3/4*sqrt(6)*(s9^6)^(3/4)/s9^4,\n",
       " s0: -1/3*3^(3/4)*2^(1/4)*(s9^6)^(3/8)/s9^2,\n",
       " s2: (s9^6)^(1/4)/s9,\n",
       " s5: 1/2*3^(1/4)*2^(3/4)*(s9^6)^(1/8)}"
      ]
     },
     "metadata": {},
     "output_type": "display_data"
    },
    {
     "data": {
      "text/html": [
       "<html><script type=\"math/tex; mode=display\">\\newcommand{\\Bold}[1]{\\mathbf{#1}}\\left\\{c : -\\frac{11 \\, \\sqrt{6} {\\left(s_{9}^{6}\\right)}^{\\frac{3}{4}}}{12 \\, s_{9}^{4}}, d_{0} : \\frac{\\sqrt{6} {\\left(s_{9}^{6}\\right)}^{\\frac{3}{4}}}{12 \\, s_{9}^{4}}, d_{2} : \\frac{3 \\, \\sqrt{6} {\\left(s_{9}^{6}\\right)}^{\\frac{3}{4}}}{4 \\, s_{9}^{4}}, s_{0} : \\frac{3^{\\frac{3}{4}} 2^{\\frac{1}{4}} {\\left(s_{9}^{6}\\right)}^{\\frac{3}{8}}}{3 \\, s_{9}^{2}}, s_{2} : -\\frac{{\\left(s_{9}^{6}\\right)}^{\\frac{1}{4}}}{s_{9}}, s_{5} : -\\frac{1}{2} \\cdot 3^{\\frac{1}{4}} 2^{\\frac{3}{4}} {\\left(s_{9}^{6}\\right)}^{\\frac{1}{8}}\\right\\}</script></html>"
      ],
      "text/latex": [
       "$$\\newcommand{\\Bold}[1]{\\mathbf{#1}}\\left\\{c : -\\frac{11 \\, \\sqrt{6} {\\left(s_{9}^{6}\\right)}^{\\frac{3}{4}}}{12 \\, s_{9}^{4}}, d_{0} : \\frac{\\sqrt{6} {\\left(s_{9}^{6}\\right)}^{\\frac{3}{4}}}{12 \\, s_{9}^{4}}, d_{2} : \\frac{3 \\, \\sqrt{6} {\\left(s_{9}^{6}\\right)}^{\\frac{3}{4}}}{4 \\, s_{9}^{4}}, s_{0} : \\frac{3^{\\frac{3}{4}} 2^{\\frac{1}{4}} {\\left(s_{9}^{6}\\right)}^{\\frac{3}{8}}}{3 \\, s_{9}^{2}}, s_{2} : -\\frac{{\\left(s_{9}^{6}\\right)}^{\\frac{1}{4}}}{s_{9}}, s_{5} : -\\frac{1}{2} \\cdot 3^{\\frac{1}{4}} 2^{\\frac{3}{4}} {\\left(s_{9}^{6}\\right)}^{\\frac{1}{8}}\\right\\}$$"
      ],
      "text/plain": [
       "{c: -11/12*sqrt(6)*(s9^6)^(3/4)/s9^4,\n",
       " d0: 1/12*sqrt(6)*(s9^6)^(3/4)/s9^4,\n",
       " d2: 3/4*sqrt(6)*(s9^6)^(3/4)/s9^4,\n",
       " s0: 1/3*3^(3/4)*2^(1/4)*(s9^6)^(3/8)/s9^2,\n",
       " s2: -(s9^6)^(1/4)/s9,\n",
       " s5: -1/2*3^(1/4)*2^(3/4)*(s9^6)^(1/8)}"
      ]
     },
     "metadata": {},
     "output_type": "display_data"
    },
    {
     "data": {
      "text/html": [
       "<html><script type=\"math/tex; mode=display\">\\newcommand{\\Bold}[1]{\\mathbf{#1}}\\left\\{c : -\\frac{11 \\, \\sqrt{6} {\\left(s_{9}^{6}\\right)}^{\\frac{3}{4}}}{12 \\, s_{9}^{4}}, d_{0} : \\frac{\\sqrt{6} {\\left(s_{9}^{6}\\right)}^{\\frac{3}{4}}}{12 \\, s_{9}^{4}}, d_{2} : \\frac{3 \\, \\sqrt{6} {\\left(s_{9}^{6}\\right)}^{\\frac{3}{4}}}{4 \\, s_{9}^{4}}, s_{0} : \\frac{3^{\\frac{3}{4}} 2^{\\frac{1}{4}} {\\left(s_{9}^{6}\\right)}^{\\frac{3}{8}}}{3 \\, s_{9}^{2}}, s_{2} : -\\frac{{\\left(s_{9}^{6}\\right)}^{\\frac{1}{4}}}{s_{9}}, s_{5} : \\frac{1}{2} \\cdot 3^{\\frac{1}{4}} 2^{\\frac{3}{4}} {\\left(s_{9}^{6}\\right)}^{\\frac{1}{8}}\\right\\}</script></html>"
      ],
      "text/latex": [
       "$$\\newcommand{\\Bold}[1]{\\mathbf{#1}}\\left\\{c : -\\frac{11 \\, \\sqrt{6} {\\left(s_{9}^{6}\\right)}^{\\frac{3}{4}}}{12 \\, s_{9}^{4}}, d_{0} : \\frac{\\sqrt{6} {\\left(s_{9}^{6}\\right)}^{\\frac{3}{4}}}{12 \\, s_{9}^{4}}, d_{2} : \\frac{3 \\, \\sqrt{6} {\\left(s_{9}^{6}\\right)}^{\\frac{3}{4}}}{4 \\, s_{9}^{4}}, s_{0} : \\frac{3^{\\frac{3}{4}} 2^{\\frac{1}{4}} {\\left(s_{9}^{6}\\right)}^{\\frac{3}{8}}}{3 \\, s_{9}^{2}}, s_{2} : -\\frac{{\\left(s_{9}^{6}\\right)}^{\\frac{1}{4}}}{s_{9}}, s_{5} : \\frac{1}{2} \\cdot 3^{\\frac{1}{4}} 2^{\\frac{3}{4}} {\\left(s_{9}^{6}\\right)}^{\\frac{1}{8}}\\right\\}$$"
      ],
      "text/plain": [
       "{c: -11/12*sqrt(6)*(s9^6)^(3/4)/s9^4,\n",
       " d0: 1/12*sqrt(6)*(s9^6)^(3/4)/s9^4,\n",
       " d2: 3/4*sqrt(6)*(s9^6)^(3/4)/s9^4,\n",
       " s0: 1/3*3^(3/4)*2^(1/4)*(s9^6)^(3/8)/s9^2,\n",
       " s2: -(s9^6)^(1/4)/s9,\n",
       " s5: 1/2*3^(1/4)*2^(3/4)*(s9^6)^(1/8)}"
      ]
     },
     "metadata": {},
     "output_type": "display_data"
    },
    {
     "data": {
      "text/html": [
       "<html><script type=\"math/tex; mode=display\">\\newcommand{\\Bold}[1]{\\mathbf{#1}}\\left\\{c : -\\frac{11 \\, \\sqrt{6} {\\left(s_{9}^{6}\\right)}^{\\frac{3}{4}}}{12 \\, s_{9}^{4}}, d_{0} : \\frac{\\sqrt{6} {\\left(s_{9}^{6}\\right)}^{\\frac{3}{4}}}{12 \\, s_{9}^{4}}, d_{2} : \\frac{3 \\, \\sqrt{6} {\\left(s_{9}^{6}\\right)}^{\\frac{3}{4}}}{4 \\, s_{9}^{4}}, s_{0} : \\frac{3^{\\frac{3}{4}} 2^{\\frac{1}{4}} {\\left(s_{9}^{6}\\right)}^{\\frac{3}{8}}}{3 \\, s_{9}^{2}}, s_{2} : \\frac{{\\left(s_{9}^{6}\\right)}^{\\frac{1}{4}}}{s_{9}}, s_{5} : -\\frac{1}{2} \\cdot 3^{\\frac{1}{4}} 2^{\\frac{3}{4}} {\\left(s_{9}^{6}\\right)}^{\\frac{1}{8}}\\right\\}</script></html>"
      ],
      "text/latex": [
       "$$\\newcommand{\\Bold}[1]{\\mathbf{#1}}\\left\\{c : -\\frac{11 \\, \\sqrt{6} {\\left(s_{9}^{6}\\right)}^{\\frac{3}{4}}}{12 \\, s_{9}^{4}}, d_{0} : \\frac{\\sqrt{6} {\\left(s_{9}^{6}\\right)}^{\\frac{3}{4}}}{12 \\, s_{9}^{4}}, d_{2} : \\frac{3 \\, \\sqrt{6} {\\left(s_{9}^{6}\\right)}^{\\frac{3}{4}}}{4 \\, s_{9}^{4}}, s_{0} : \\frac{3^{\\frac{3}{4}} 2^{\\frac{1}{4}} {\\left(s_{9}^{6}\\right)}^{\\frac{3}{8}}}{3 \\, s_{9}^{2}}, s_{2} : \\frac{{\\left(s_{9}^{6}\\right)}^{\\frac{1}{4}}}{s_{9}}, s_{5} : -\\frac{1}{2} \\cdot 3^{\\frac{1}{4}} 2^{\\frac{3}{4}} {\\left(s_{9}^{6}\\right)}^{\\frac{1}{8}}\\right\\}$$"
      ],
      "text/plain": [
       "{c: -11/12*sqrt(6)*(s9^6)^(3/4)/s9^4,\n",
       " d0: 1/12*sqrt(6)*(s9^6)^(3/4)/s9^4,\n",
       " d2: 3/4*sqrt(6)*(s9^6)^(3/4)/s9^4,\n",
       " s0: 1/3*3^(3/4)*2^(1/4)*(s9^6)^(3/8)/s9^2,\n",
       " s2: (s9^6)^(1/4)/s9,\n",
       " s5: -1/2*3^(1/4)*2^(3/4)*(s9^6)^(1/8)}"
      ]
     },
     "metadata": {},
     "output_type": "display_data"
    },
    {
     "data": {
      "text/html": [
       "<html><script type=\"math/tex; mode=display\">\\newcommand{\\Bold}[1]{\\mathbf{#1}}\\left\\{c : -\\frac{11 \\, \\sqrt{6} {\\left(s_{9}^{6}\\right)}^{\\frac{3}{4}}}{12 \\, s_{9}^{4}}, d_{0} : \\frac{\\sqrt{6} {\\left(s_{9}^{6}\\right)}^{\\frac{3}{4}}}{12 \\, s_{9}^{4}}, d_{2} : \\frac{3 \\, \\sqrt{6} {\\left(s_{9}^{6}\\right)}^{\\frac{3}{4}}}{4 \\, s_{9}^{4}}, s_{0} : \\frac{3^{\\frac{3}{4}} 2^{\\frac{1}{4}} {\\left(s_{9}^{6}\\right)}^{\\frac{3}{8}}}{3 \\, s_{9}^{2}}, s_{2} : \\frac{{\\left(s_{9}^{6}\\right)}^{\\frac{1}{4}}}{s_{9}}, s_{5} : \\frac{1}{2} \\cdot 3^{\\frac{1}{4}} 2^{\\frac{3}{4}} {\\left(s_{9}^{6}\\right)}^{\\frac{1}{8}}\\right\\}</script></html>"
      ],
      "text/latex": [
       "$$\\newcommand{\\Bold}[1]{\\mathbf{#1}}\\left\\{c : -\\frac{11 \\, \\sqrt{6} {\\left(s_{9}^{6}\\right)}^{\\frac{3}{4}}}{12 \\, s_{9}^{4}}, d_{0} : \\frac{\\sqrt{6} {\\left(s_{9}^{6}\\right)}^{\\frac{3}{4}}}{12 \\, s_{9}^{4}}, d_{2} : \\frac{3 \\, \\sqrt{6} {\\left(s_{9}^{6}\\right)}^{\\frac{3}{4}}}{4 \\, s_{9}^{4}}, s_{0} : \\frac{3^{\\frac{3}{4}} 2^{\\frac{1}{4}} {\\left(s_{9}^{6}\\right)}^{\\frac{3}{8}}}{3 \\, s_{9}^{2}}, s_{2} : \\frac{{\\left(s_{9}^{6}\\right)}^{\\frac{1}{4}}}{s_{9}}, s_{5} : \\frac{1}{2} \\cdot 3^{\\frac{1}{4}} 2^{\\frac{3}{4}} {\\left(s_{9}^{6}\\right)}^{\\frac{1}{8}}\\right\\}$$"
      ],
      "text/plain": [
       "{c: -11/12*sqrt(6)*(s9^6)^(3/4)/s9^4,\n",
       " d0: 1/12*sqrt(6)*(s9^6)^(3/4)/s9^4,\n",
       " d2: 3/4*sqrt(6)*(s9^6)^(3/4)/s9^4,\n",
       " s0: 1/3*3^(3/4)*2^(1/4)*(s9^6)^(3/8)/s9^2,\n",
       " s2: (s9^6)^(1/4)/s9,\n",
       " s5: 1/2*3^(1/4)*2^(3/4)*(s9^6)^(1/8)}"
      ]
     },
     "metadata": {},
     "output_type": "display_data"
    },
    {
     "data": {
      "text/html": [
       "<html><script type=\"math/tex; mode=display\">\\newcommand{\\Bold}[1]{\\mathbf{#1}}\\left\\{c : \\frac{11 \\, \\sqrt{6} {\\left(s_{9}^{6}\\right)}^{\\frac{3}{4}}}{12 \\, s_{9}^{4}}, d_{0} : -\\frac{\\sqrt{6} {\\left(s_{9}^{6}\\right)}^{\\frac{3}{4}}}{12 \\, s_{9}^{4}}, d_{2} : -\\frac{3 \\, \\sqrt{6} {\\left(s_{9}^{6}\\right)}^{\\frac{3}{4}}}{4 \\, s_{9}^{4}}, s_{0} : -\\frac{3^{\\frac{3}{4}} 2^{\\frac{1}{4}} \\sqrt{-{\\left(s_{9}^{6}\\right)}^{\\frac{3}{4}}}}{3 \\, s_{9}^{2}}, s_{2} : -\\frac{{\\left(s_{9}^{6}\\right)}^{\\frac{1}{4}}}{s_{9}}, s_{5} : -\\frac{1}{2} i \\cdot 3^{\\frac{1}{4}} 2^{\\frac{3}{4}} {\\left(s_{9}^{6}\\right)}^{\\frac{1}{8}}\\right\\}</script></html>"
      ],
      "text/latex": [
       "$$\\newcommand{\\Bold}[1]{\\mathbf{#1}}\\left\\{c : \\frac{11 \\, \\sqrt{6} {\\left(s_{9}^{6}\\right)}^{\\frac{3}{4}}}{12 \\, s_{9}^{4}}, d_{0} : -\\frac{\\sqrt{6} {\\left(s_{9}^{6}\\right)}^{\\frac{3}{4}}}{12 \\, s_{9}^{4}}, d_{2} : -\\frac{3 \\, \\sqrt{6} {\\left(s_{9}^{6}\\right)}^{\\frac{3}{4}}}{4 \\, s_{9}^{4}}, s_{0} : -\\frac{3^{\\frac{3}{4}} 2^{\\frac{1}{4}} \\sqrt{-{\\left(s_{9}^{6}\\right)}^{\\frac{3}{4}}}}{3 \\, s_{9}^{2}}, s_{2} : -\\frac{{\\left(s_{9}^{6}\\right)}^{\\frac{1}{4}}}{s_{9}}, s_{5} : -\\frac{1}{2} i \\cdot 3^{\\frac{1}{4}} 2^{\\frac{3}{4}} {\\left(s_{9}^{6}\\right)}^{\\frac{1}{8}}\\right\\}$$"
      ],
      "text/plain": [
       "{c: 11/12*sqrt(6)*(s9^6)^(3/4)/s9^4,\n",
       " d0: -1/12*sqrt(6)*(s9^6)^(3/4)/s9^4,\n",
       " d2: -3/4*sqrt(6)*(s9^6)^(3/4)/s9^4,\n",
       " s0: -1/3*3^(3/4)*2^(1/4)*sqrt(-(s9^6)^(3/4))/s9^2,\n",
       " s2: -(s9^6)^(1/4)/s9,\n",
       " s5: -1/2*I*3^(1/4)*2^(3/4)*(s9^6)^(1/8)}"
      ]
     },
     "metadata": {},
     "output_type": "display_data"
    },
    {
     "data": {
      "text/html": [
       "<html><script type=\"math/tex; mode=display\">\\newcommand{\\Bold}[1]{\\mathbf{#1}}\\left\\{c : \\frac{11 \\, \\sqrt{6} {\\left(s_{9}^{6}\\right)}^{\\frac{3}{4}}}{12 \\, s_{9}^{4}}, d_{0} : -\\frac{\\sqrt{6} {\\left(s_{9}^{6}\\right)}^{\\frac{3}{4}}}{12 \\, s_{9}^{4}}, d_{2} : -\\frac{3 \\, \\sqrt{6} {\\left(s_{9}^{6}\\right)}^{\\frac{3}{4}}}{4 \\, s_{9}^{4}}, s_{0} : -\\frac{3^{\\frac{3}{4}} 2^{\\frac{1}{4}} \\sqrt{-{\\left(s_{9}^{6}\\right)}^{\\frac{3}{4}}}}{3 \\, s_{9}^{2}}, s_{2} : -\\frac{{\\left(s_{9}^{6}\\right)}^{\\frac{1}{4}}}{s_{9}}, s_{5} : \\frac{1}{2} i \\cdot 3^{\\frac{1}{4}} 2^{\\frac{3}{4}} {\\left(s_{9}^{6}\\right)}^{\\frac{1}{8}}\\right\\}</script></html>"
      ],
      "text/latex": [
       "$$\\newcommand{\\Bold}[1]{\\mathbf{#1}}\\left\\{c : \\frac{11 \\, \\sqrt{6} {\\left(s_{9}^{6}\\right)}^{\\frac{3}{4}}}{12 \\, s_{9}^{4}}, d_{0} : -\\frac{\\sqrt{6} {\\left(s_{9}^{6}\\right)}^{\\frac{3}{4}}}{12 \\, s_{9}^{4}}, d_{2} : -\\frac{3 \\, \\sqrt{6} {\\left(s_{9}^{6}\\right)}^{\\frac{3}{4}}}{4 \\, s_{9}^{4}}, s_{0} : -\\frac{3^{\\frac{3}{4}} 2^{\\frac{1}{4}} \\sqrt{-{\\left(s_{9}^{6}\\right)}^{\\frac{3}{4}}}}{3 \\, s_{9}^{2}}, s_{2} : -\\frac{{\\left(s_{9}^{6}\\right)}^{\\frac{1}{4}}}{s_{9}}, s_{5} : \\frac{1}{2} i \\cdot 3^{\\frac{1}{4}} 2^{\\frac{3}{4}} {\\left(s_{9}^{6}\\right)}^{\\frac{1}{8}}\\right\\}$$"
      ],
      "text/plain": [
       "{c: 11/12*sqrt(6)*(s9^6)^(3/4)/s9^4,\n",
       " d0: -1/12*sqrt(6)*(s9^6)^(3/4)/s9^4,\n",
       " d2: -3/4*sqrt(6)*(s9^6)^(3/4)/s9^4,\n",
       " s0: -1/3*3^(3/4)*2^(1/4)*sqrt(-(s9^6)^(3/4))/s9^2,\n",
       " s2: -(s9^6)^(1/4)/s9,\n",
       " s5: 1/2*I*3^(1/4)*2^(3/4)*(s9^6)^(1/8)}"
      ]
     },
     "metadata": {},
     "output_type": "display_data"
    },
    {
     "data": {
      "text/html": [
       "<html><script type=\"math/tex; mode=display\">\\newcommand{\\Bold}[1]{\\mathbf{#1}}\\left\\{c : \\frac{11 \\, \\sqrt{6} {\\left(s_{9}^{6}\\right)}^{\\frac{3}{4}}}{12 \\, s_{9}^{4}}, d_{0} : -\\frac{\\sqrt{6} {\\left(s_{9}^{6}\\right)}^{\\frac{3}{4}}}{12 \\, s_{9}^{4}}, d_{2} : -\\frac{3 \\, \\sqrt{6} {\\left(s_{9}^{6}\\right)}^{\\frac{3}{4}}}{4 \\, s_{9}^{4}}, s_{0} : -\\frac{3^{\\frac{3}{4}} 2^{\\frac{1}{4}} \\sqrt{-{\\left(s_{9}^{6}\\right)}^{\\frac{3}{4}}}}{3 \\, s_{9}^{2}}, s_{2} : \\frac{{\\left(s_{9}^{6}\\right)}^{\\frac{1}{4}}}{s_{9}}, s_{5} : -\\frac{1}{2} i \\cdot 3^{\\frac{1}{4}} 2^{\\frac{3}{4}} {\\left(s_{9}^{6}\\right)}^{\\frac{1}{8}}\\right\\}</script></html>"
      ],
      "text/latex": [
       "$$\\newcommand{\\Bold}[1]{\\mathbf{#1}}\\left\\{c : \\frac{11 \\, \\sqrt{6} {\\left(s_{9}^{6}\\right)}^{\\frac{3}{4}}}{12 \\, s_{9}^{4}}, d_{0} : -\\frac{\\sqrt{6} {\\left(s_{9}^{6}\\right)}^{\\frac{3}{4}}}{12 \\, s_{9}^{4}}, d_{2} : -\\frac{3 \\, \\sqrt{6} {\\left(s_{9}^{6}\\right)}^{\\frac{3}{4}}}{4 \\, s_{9}^{4}}, s_{0} : -\\frac{3^{\\frac{3}{4}} 2^{\\frac{1}{4}} \\sqrt{-{\\left(s_{9}^{6}\\right)}^{\\frac{3}{4}}}}{3 \\, s_{9}^{2}}, s_{2} : \\frac{{\\left(s_{9}^{6}\\right)}^{\\frac{1}{4}}}{s_{9}}, s_{5} : -\\frac{1}{2} i \\cdot 3^{\\frac{1}{4}} 2^{\\frac{3}{4}} {\\left(s_{9}^{6}\\right)}^{\\frac{1}{8}}\\right\\}$$"
      ],
      "text/plain": [
       "{c: 11/12*sqrt(6)*(s9^6)^(3/4)/s9^4,\n",
       " d0: -1/12*sqrt(6)*(s9^6)^(3/4)/s9^4,\n",
       " d2: -3/4*sqrt(6)*(s9^6)^(3/4)/s9^4,\n",
       " s0: -1/3*3^(3/4)*2^(1/4)*sqrt(-(s9^6)^(3/4))/s9^2,\n",
       " s2: (s9^6)^(1/4)/s9,\n",
       " s5: -1/2*I*3^(1/4)*2^(3/4)*(s9^6)^(1/8)}"
      ]
     },
     "metadata": {},
     "output_type": "display_data"
    },
    {
     "data": {
      "text/html": [
       "<html><script type=\"math/tex; mode=display\">\\newcommand{\\Bold}[1]{\\mathbf{#1}}\\left\\{c : \\frac{11 \\, \\sqrt{6} {\\left(s_{9}^{6}\\right)}^{\\frac{3}{4}}}{12 \\, s_{9}^{4}}, d_{0} : -\\frac{\\sqrt{6} {\\left(s_{9}^{6}\\right)}^{\\frac{3}{4}}}{12 \\, s_{9}^{4}}, d_{2} : -\\frac{3 \\, \\sqrt{6} {\\left(s_{9}^{6}\\right)}^{\\frac{3}{4}}}{4 \\, s_{9}^{4}}, s_{0} : -\\frac{3^{\\frac{3}{4}} 2^{\\frac{1}{4}} \\sqrt{-{\\left(s_{9}^{6}\\right)}^{\\frac{3}{4}}}}{3 \\, s_{9}^{2}}, s_{2} : \\frac{{\\left(s_{9}^{6}\\right)}^{\\frac{1}{4}}}{s_{9}}, s_{5} : \\frac{1}{2} i \\cdot 3^{\\frac{1}{4}} 2^{\\frac{3}{4}} {\\left(s_{9}^{6}\\right)}^{\\frac{1}{8}}\\right\\}</script></html>"
      ],
      "text/latex": [
       "$$\\newcommand{\\Bold}[1]{\\mathbf{#1}}\\left\\{c : \\frac{11 \\, \\sqrt{6} {\\left(s_{9}^{6}\\right)}^{\\frac{3}{4}}}{12 \\, s_{9}^{4}}, d_{0} : -\\frac{\\sqrt{6} {\\left(s_{9}^{6}\\right)}^{\\frac{3}{4}}}{12 \\, s_{9}^{4}}, d_{2} : -\\frac{3 \\, \\sqrt{6} {\\left(s_{9}^{6}\\right)}^{\\frac{3}{4}}}{4 \\, s_{9}^{4}}, s_{0} : -\\frac{3^{\\frac{3}{4}} 2^{\\frac{1}{4}} \\sqrt{-{\\left(s_{9}^{6}\\right)}^{\\frac{3}{4}}}}{3 \\, s_{9}^{2}}, s_{2} : \\frac{{\\left(s_{9}^{6}\\right)}^{\\frac{1}{4}}}{s_{9}}, s_{5} : \\frac{1}{2} i \\cdot 3^{\\frac{1}{4}} 2^{\\frac{3}{4}} {\\left(s_{9}^{6}\\right)}^{\\frac{1}{8}}\\right\\}$$"
      ],
      "text/plain": [
       "{c: 11/12*sqrt(6)*(s9^6)^(3/4)/s9^4,\n",
       " d0: -1/12*sqrt(6)*(s9^6)^(3/4)/s9^4,\n",
       " d2: -3/4*sqrt(6)*(s9^6)^(3/4)/s9^4,\n",
       " s0: -1/3*3^(3/4)*2^(1/4)*sqrt(-(s9^6)^(3/4))/s9^2,\n",
       " s2: (s9^6)^(1/4)/s9,\n",
       " s5: 1/2*I*3^(1/4)*2^(3/4)*(s9^6)^(1/8)}"
      ]
     },
     "metadata": {},
     "output_type": "display_data"
    },
    {
     "data": {
      "text/html": [
       "<html><script type=\"math/tex; mode=display\">\\newcommand{\\Bold}[1]{\\mathbf{#1}}\\left\\{c : \\frac{11 \\, \\sqrt{6} {\\left(s_{9}^{6}\\right)}^{\\frac{3}{4}}}{12 \\, s_{9}^{4}}, d_{0} : -\\frac{\\sqrt{6} {\\left(s_{9}^{6}\\right)}^{\\frac{3}{4}}}{12 \\, s_{9}^{4}}, d_{2} : -\\frac{3 \\, \\sqrt{6} {\\left(s_{9}^{6}\\right)}^{\\frac{3}{4}}}{4 \\, s_{9}^{4}}, s_{0} : \\frac{3^{\\frac{3}{4}} 2^{\\frac{1}{4}} \\sqrt{-{\\left(s_{9}^{6}\\right)}^{\\frac{3}{4}}}}{3 \\, s_{9}^{2}}, s_{2} : -\\frac{{\\left(s_{9}^{6}\\right)}^{\\frac{1}{4}}}{s_{9}}, s_{5} : -\\frac{1}{2} i \\cdot 3^{\\frac{1}{4}} 2^{\\frac{3}{4}} {\\left(s_{9}^{6}\\right)}^{\\frac{1}{8}}\\right\\}</script></html>"
      ],
      "text/latex": [
       "$$\\newcommand{\\Bold}[1]{\\mathbf{#1}}\\left\\{c : \\frac{11 \\, \\sqrt{6} {\\left(s_{9}^{6}\\right)}^{\\frac{3}{4}}}{12 \\, s_{9}^{4}}, d_{0} : -\\frac{\\sqrt{6} {\\left(s_{9}^{6}\\right)}^{\\frac{3}{4}}}{12 \\, s_{9}^{4}}, d_{2} : -\\frac{3 \\, \\sqrt{6} {\\left(s_{9}^{6}\\right)}^{\\frac{3}{4}}}{4 \\, s_{9}^{4}}, s_{0} : \\frac{3^{\\frac{3}{4}} 2^{\\frac{1}{4}} \\sqrt{-{\\left(s_{9}^{6}\\right)}^{\\frac{3}{4}}}}{3 \\, s_{9}^{2}}, s_{2} : -\\frac{{\\left(s_{9}^{6}\\right)}^{\\frac{1}{4}}}{s_{9}}, s_{5} : -\\frac{1}{2} i \\cdot 3^{\\frac{1}{4}} 2^{\\frac{3}{4}} {\\left(s_{9}^{6}\\right)}^{\\frac{1}{8}}\\right\\}$$"
      ],
      "text/plain": [
       "{c: 11/12*sqrt(6)*(s9^6)^(3/4)/s9^4,\n",
       " d0: -1/12*sqrt(6)*(s9^6)^(3/4)/s9^4,\n",
       " d2: -3/4*sqrt(6)*(s9^6)^(3/4)/s9^4,\n",
       " s0: 1/3*3^(3/4)*2^(1/4)*sqrt(-(s9^6)^(3/4))/s9^2,\n",
       " s2: -(s9^6)^(1/4)/s9,\n",
       " s5: -1/2*I*3^(1/4)*2^(3/4)*(s9^6)^(1/8)}"
      ]
     },
     "metadata": {},
     "output_type": "display_data"
    },
    {
     "data": {
      "text/html": [
       "<html><script type=\"math/tex; mode=display\">\\newcommand{\\Bold}[1]{\\mathbf{#1}}\\left\\{c : \\frac{11 \\, \\sqrt{6} {\\left(s_{9}^{6}\\right)}^{\\frac{3}{4}}}{12 \\, s_{9}^{4}}, d_{0} : -\\frac{\\sqrt{6} {\\left(s_{9}^{6}\\right)}^{\\frac{3}{4}}}{12 \\, s_{9}^{4}}, d_{2} : -\\frac{3 \\, \\sqrt{6} {\\left(s_{9}^{6}\\right)}^{\\frac{3}{4}}}{4 \\, s_{9}^{4}}, s_{0} : \\frac{3^{\\frac{3}{4}} 2^{\\frac{1}{4}} \\sqrt{-{\\left(s_{9}^{6}\\right)}^{\\frac{3}{4}}}}{3 \\, s_{9}^{2}}, s_{2} : -\\frac{{\\left(s_{9}^{6}\\right)}^{\\frac{1}{4}}}{s_{9}}, s_{5} : \\frac{1}{2} i \\cdot 3^{\\frac{1}{4}} 2^{\\frac{3}{4}} {\\left(s_{9}^{6}\\right)}^{\\frac{1}{8}}\\right\\}</script></html>"
      ],
      "text/latex": [
       "$$\\newcommand{\\Bold}[1]{\\mathbf{#1}}\\left\\{c : \\frac{11 \\, \\sqrt{6} {\\left(s_{9}^{6}\\right)}^{\\frac{3}{4}}}{12 \\, s_{9}^{4}}, d_{0} : -\\frac{\\sqrt{6} {\\left(s_{9}^{6}\\right)}^{\\frac{3}{4}}}{12 \\, s_{9}^{4}}, d_{2} : -\\frac{3 \\, \\sqrt{6} {\\left(s_{9}^{6}\\right)}^{\\frac{3}{4}}}{4 \\, s_{9}^{4}}, s_{0} : \\frac{3^{\\frac{3}{4}} 2^{\\frac{1}{4}} \\sqrt{-{\\left(s_{9}^{6}\\right)}^{\\frac{3}{4}}}}{3 \\, s_{9}^{2}}, s_{2} : -\\frac{{\\left(s_{9}^{6}\\right)}^{\\frac{1}{4}}}{s_{9}}, s_{5} : \\frac{1}{2} i \\cdot 3^{\\frac{1}{4}} 2^{\\frac{3}{4}} {\\left(s_{9}^{6}\\right)}^{\\frac{1}{8}}\\right\\}$$"
      ],
      "text/plain": [
       "{c: 11/12*sqrt(6)*(s9^6)^(3/4)/s9^4,\n",
       " d0: -1/12*sqrt(6)*(s9^6)^(3/4)/s9^4,\n",
       " d2: -3/4*sqrt(6)*(s9^6)^(3/4)/s9^4,\n",
       " s0: 1/3*3^(3/4)*2^(1/4)*sqrt(-(s9^6)^(3/4))/s9^2,\n",
       " s2: -(s9^6)^(1/4)/s9,\n",
       " s5: 1/2*I*3^(1/4)*2^(3/4)*(s9^6)^(1/8)}"
      ]
     },
     "metadata": {},
     "output_type": "display_data"
    },
    {
     "data": {
      "text/html": [
       "<html><script type=\"math/tex; mode=display\">\\newcommand{\\Bold}[1]{\\mathbf{#1}}\\left\\{c : \\frac{11 \\, \\sqrt{6} {\\left(s_{9}^{6}\\right)}^{\\frac{3}{4}}}{12 \\, s_{9}^{4}}, d_{0} : -\\frac{\\sqrt{6} {\\left(s_{9}^{6}\\right)}^{\\frac{3}{4}}}{12 \\, s_{9}^{4}}, d_{2} : -\\frac{3 \\, \\sqrt{6} {\\left(s_{9}^{6}\\right)}^{\\frac{3}{4}}}{4 \\, s_{9}^{4}}, s_{0} : \\frac{3^{\\frac{3}{4}} 2^{\\frac{1}{4}} \\sqrt{-{\\left(s_{9}^{6}\\right)}^{\\frac{3}{4}}}}{3 \\, s_{9}^{2}}, s_{2} : \\frac{{\\left(s_{9}^{6}\\right)}^{\\frac{1}{4}}}{s_{9}}, s_{5} : -\\frac{1}{2} i \\cdot 3^{\\frac{1}{4}} 2^{\\frac{3}{4}} {\\left(s_{9}^{6}\\right)}^{\\frac{1}{8}}\\right\\}</script></html>"
      ],
      "text/latex": [
       "$$\\newcommand{\\Bold}[1]{\\mathbf{#1}}\\left\\{c : \\frac{11 \\, \\sqrt{6} {\\left(s_{9}^{6}\\right)}^{\\frac{3}{4}}}{12 \\, s_{9}^{4}}, d_{0} : -\\frac{\\sqrt{6} {\\left(s_{9}^{6}\\right)}^{\\frac{3}{4}}}{12 \\, s_{9}^{4}}, d_{2} : -\\frac{3 \\, \\sqrt{6} {\\left(s_{9}^{6}\\right)}^{\\frac{3}{4}}}{4 \\, s_{9}^{4}}, s_{0} : \\frac{3^{\\frac{3}{4}} 2^{\\frac{1}{4}} \\sqrt{-{\\left(s_{9}^{6}\\right)}^{\\frac{3}{4}}}}{3 \\, s_{9}^{2}}, s_{2} : \\frac{{\\left(s_{9}^{6}\\right)}^{\\frac{1}{4}}}{s_{9}}, s_{5} : -\\frac{1}{2} i \\cdot 3^{\\frac{1}{4}} 2^{\\frac{3}{4}} {\\left(s_{9}^{6}\\right)}^{\\frac{1}{8}}\\right\\}$$"
      ],
      "text/plain": [
       "{c: 11/12*sqrt(6)*(s9^6)^(3/4)/s9^4,\n",
       " d0: -1/12*sqrt(6)*(s9^6)^(3/4)/s9^4,\n",
       " d2: -3/4*sqrt(6)*(s9^6)^(3/4)/s9^4,\n",
       " s0: 1/3*3^(3/4)*2^(1/4)*sqrt(-(s9^6)^(3/4))/s9^2,\n",
       " s2: (s9^6)^(1/4)/s9,\n",
       " s5: -1/2*I*3^(1/4)*2^(3/4)*(s9^6)^(1/8)}"
      ]
     },
     "metadata": {},
     "output_type": "display_data"
    },
    {
     "data": {
      "text/html": [
       "<html><script type=\"math/tex; mode=display\">\\newcommand{\\Bold}[1]{\\mathbf{#1}}\\left\\{c : \\frac{11 \\, \\sqrt{6} {\\left(s_{9}^{6}\\right)}^{\\frac{3}{4}}}{12 \\, s_{9}^{4}}, d_{0} : -\\frac{\\sqrt{6} {\\left(s_{9}^{6}\\right)}^{\\frac{3}{4}}}{12 \\, s_{9}^{4}}, d_{2} : -\\frac{3 \\, \\sqrt{6} {\\left(s_{9}^{6}\\right)}^{\\frac{3}{4}}}{4 \\, s_{9}^{4}}, s_{0} : \\frac{3^{\\frac{3}{4}} 2^{\\frac{1}{4}} \\sqrt{-{\\left(s_{9}^{6}\\right)}^{\\frac{3}{4}}}}{3 \\, s_{9}^{2}}, s_{2} : \\frac{{\\left(s_{9}^{6}\\right)}^{\\frac{1}{4}}}{s_{9}}, s_{5} : \\frac{1}{2} i \\cdot 3^{\\frac{1}{4}} 2^{\\frac{3}{4}} {\\left(s_{9}^{6}\\right)}^{\\frac{1}{8}}\\right\\}</script></html>"
      ],
      "text/latex": [
       "$$\\newcommand{\\Bold}[1]{\\mathbf{#1}}\\left\\{c : \\frac{11 \\, \\sqrt{6} {\\left(s_{9}^{6}\\right)}^{\\frac{3}{4}}}{12 \\, s_{9}^{4}}, d_{0} : -\\frac{\\sqrt{6} {\\left(s_{9}^{6}\\right)}^{\\frac{3}{4}}}{12 \\, s_{9}^{4}}, d_{2} : -\\frac{3 \\, \\sqrt{6} {\\left(s_{9}^{6}\\right)}^{\\frac{3}{4}}}{4 \\, s_{9}^{4}}, s_{0} : \\frac{3^{\\frac{3}{4}} 2^{\\frac{1}{4}} \\sqrt{-{\\left(s_{9}^{6}\\right)}^{\\frac{3}{4}}}}{3 \\, s_{9}^{2}}, s_{2} : \\frac{{\\left(s_{9}^{6}\\right)}^{\\frac{1}{4}}}{s_{9}}, s_{5} : \\frac{1}{2} i \\cdot 3^{\\frac{1}{4}} 2^{\\frac{3}{4}} {\\left(s_{9}^{6}\\right)}^{\\frac{1}{8}}\\right\\}$$"
      ],
      "text/plain": [
       "{c: 11/12*sqrt(6)*(s9^6)^(3/4)/s9^4,\n",
       " d0: -1/12*sqrt(6)*(s9^6)^(3/4)/s9^4,\n",
       " d2: -3/4*sqrt(6)*(s9^6)^(3/4)/s9^4,\n",
       " s0: 1/3*3^(3/4)*2^(1/4)*sqrt(-(s9^6)^(3/4))/s9^2,\n",
       " s2: (s9^6)^(1/4)/s9,\n",
       " s5: 1/2*I*3^(1/4)*2^(3/4)*(s9^6)^(1/8)}"
      ]
     },
     "metadata": {},
     "output_type": "display_data"
    },
    {
     "data": {
      "text/html": [
       "<html><script type=\"math/tex; mode=display\">\\newcommand{\\Bold}[1]{\\mathbf{#1}}\\left\\{c : -\\frac{11 i \\, \\sqrt{6} {\\left(s_{9}^{6}\\right)}^{\\frac{3}{4}}}{12 \\, s_{9}^{4}}, d_{0} : \\frac{i \\, \\sqrt{6} {\\left(s_{9}^{6}\\right)}^{\\frac{3}{4}}}{12 \\, s_{9}^{4}}, d_{2} : \\frac{3 i \\, \\sqrt{6} {\\left(s_{9}^{6}\\right)}^{\\frac{3}{4}}}{4 \\, s_{9}^{4}}, s_{0} : -\\frac{3^{\\frac{3}{4}} 2^{\\frac{1}{4}} \\sqrt{i \\, {\\left(s_{9}^{6}\\right)}^{\\frac{3}{4}}}}{3 \\, s_{9}^{2}}, s_{2} : -\\frac{\\sqrt{-\\sqrt{s_{9}^{6}}}}{s_{9}}, s_{5} : \\left(\\frac{1}{2} i - \\frac{1}{2}\\right) \\cdot 6^{\\frac{1}{4}} {\\left(s_{9}^{6}\\right)}^{\\frac{1}{8}}\\right\\}</script></html>"
      ],
      "text/latex": [
       "$$\\newcommand{\\Bold}[1]{\\mathbf{#1}}\\left\\{c : -\\frac{11 i \\, \\sqrt{6} {\\left(s_{9}^{6}\\right)}^{\\frac{3}{4}}}{12 \\, s_{9}^{4}}, d_{0} : \\frac{i \\, \\sqrt{6} {\\left(s_{9}^{6}\\right)}^{\\frac{3}{4}}}{12 \\, s_{9}^{4}}, d_{2} : \\frac{3 i \\, \\sqrt{6} {\\left(s_{9}^{6}\\right)}^{\\frac{3}{4}}}{4 \\, s_{9}^{4}}, s_{0} : -\\frac{3^{\\frac{3}{4}} 2^{\\frac{1}{4}} \\sqrt{i \\, {\\left(s_{9}^{6}\\right)}^{\\frac{3}{4}}}}{3 \\, s_{9}^{2}}, s_{2} : -\\frac{\\sqrt{-\\sqrt{s_{9}^{6}}}}{s_{9}}, s_{5} : \\left(\\frac{1}{2} i - \\frac{1}{2}\\right) \\cdot 6^{\\frac{1}{4}} {\\left(s_{9}^{6}\\right)}^{\\frac{1}{8}}\\right\\}$$"
      ],
      "text/plain": [
       "{c: -11/12*I*sqrt(6)*(s9^6)^(3/4)/s9^4,\n",
       " d0: 1/12*I*sqrt(6)*(s9^6)^(3/4)/s9^4,\n",
       " d2: 3/4*I*sqrt(6)*(s9^6)^(3/4)/s9^4,\n",
       " s0: -1/3*3^(3/4)*2^(1/4)*sqrt(I*(s9^6)^(3/4))/s9^2,\n",
       " s2: -sqrt(-sqrt(s9^6))/s9,\n",
       " s5: (1/2*I - 1/2)*6^(1/4)*(s9^6)^(1/8)}"
      ]
     },
     "metadata": {},
     "output_type": "display_data"
    },
    {
     "data": {
      "text/html": [
       "<html><script type=\"math/tex; mode=display\">\\newcommand{\\Bold}[1]{\\mathbf{#1}}\\left\\{c : -\\frac{11 i \\, \\sqrt{6} {\\left(s_{9}^{6}\\right)}^{\\frac{3}{4}}}{12 \\, s_{9}^{4}}, d_{0} : \\frac{i \\, \\sqrt{6} {\\left(s_{9}^{6}\\right)}^{\\frac{3}{4}}}{12 \\, s_{9}^{4}}, d_{2} : \\frac{3 i \\, \\sqrt{6} {\\left(s_{9}^{6}\\right)}^{\\frac{3}{4}}}{4 \\, s_{9}^{4}}, s_{0} : -\\frac{3^{\\frac{3}{4}} 2^{\\frac{1}{4}} \\sqrt{i \\, {\\left(s_{9}^{6}\\right)}^{\\frac{3}{4}}}}{3 \\, s_{9}^{2}}, s_{2} : -\\frac{\\sqrt{-\\sqrt{s_{9}^{6}}}}{s_{9}}, s_{5} : -\\left(\\frac{1}{2} i - \\frac{1}{2}\\right) \\cdot 6^{\\frac{1}{4}} {\\left(s_{9}^{6}\\right)}^{\\frac{1}{8}}\\right\\}</script></html>"
      ],
      "text/latex": [
       "$$\\newcommand{\\Bold}[1]{\\mathbf{#1}}\\left\\{c : -\\frac{11 i \\, \\sqrt{6} {\\left(s_{9}^{6}\\right)}^{\\frac{3}{4}}}{12 \\, s_{9}^{4}}, d_{0} : \\frac{i \\, \\sqrt{6} {\\left(s_{9}^{6}\\right)}^{\\frac{3}{4}}}{12 \\, s_{9}^{4}}, d_{2} : \\frac{3 i \\, \\sqrt{6} {\\left(s_{9}^{6}\\right)}^{\\frac{3}{4}}}{4 \\, s_{9}^{4}}, s_{0} : -\\frac{3^{\\frac{3}{4}} 2^{\\frac{1}{4}} \\sqrt{i \\, {\\left(s_{9}^{6}\\right)}^{\\frac{3}{4}}}}{3 \\, s_{9}^{2}}, s_{2} : -\\frac{\\sqrt{-\\sqrt{s_{9}^{6}}}}{s_{9}}, s_{5} : -\\left(\\frac{1}{2} i - \\frac{1}{2}\\right) \\cdot 6^{\\frac{1}{4}} {\\left(s_{9}^{6}\\right)}^{\\frac{1}{8}}\\right\\}$$"
      ],
      "text/plain": [
       "{c: -11/12*I*sqrt(6)*(s9^6)^(3/4)/s9^4,\n",
       " d0: 1/12*I*sqrt(6)*(s9^6)^(3/4)/s9^4,\n",
       " d2: 3/4*I*sqrt(6)*(s9^6)^(3/4)/s9^4,\n",
       " s0: -1/3*3^(3/4)*2^(1/4)*sqrt(I*(s9^6)^(3/4))/s9^2,\n",
       " s2: -sqrt(-sqrt(s9^6))/s9,\n",
       " s5: -(1/2*I - 1/2)*6^(1/4)*(s9^6)^(1/8)}"
      ]
     },
     "metadata": {},
     "output_type": "display_data"
    },
    {
     "data": {
      "text/html": [
       "<html><script type=\"math/tex; mode=display\">\\newcommand{\\Bold}[1]{\\mathbf{#1}}\\left\\{c : -\\frac{11 i \\, \\sqrt{6} {\\left(s_{9}^{6}\\right)}^{\\frac{3}{4}}}{12 \\, s_{9}^{4}}, d_{0} : \\frac{i \\, \\sqrt{6} {\\left(s_{9}^{6}\\right)}^{\\frac{3}{4}}}{12 \\, s_{9}^{4}}, d_{2} : \\frac{3 i \\, \\sqrt{6} {\\left(s_{9}^{6}\\right)}^{\\frac{3}{4}}}{4 \\, s_{9}^{4}}, s_{0} : -\\frac{3^{\\frac{3}{4}} 2^{\\frac{1}{4}} \\sqrt{i \\, {\\left(s_{9}^{6}\\right)}^{\\frac{3}{4}}}}{3 \\, s_{9}^{2}}, s_{2} : \\frac{\\sqrt{-\\sqrt{s_{9}^{6}}}}{s_{9}}, s_{5} : \\left(\\frac{1}{2} i - \\frac{1}{2}\\right) \\cdot 6^{\\frac{1}{4}} {\\left(s_{9}^{6}\\right)}^{\\frac{1}{8}}\\right\\}</script></html>"
      ],
      "text/latex": [
       "$$\\newcommand{\\Bold}[1]{\\mathbf{#1}}\\left\\{c : -\\frac{11 i \\, \\sqrt{6} {\\left(s_{9}^{6}\\right)}^{\\frac{3}{4}}}{12 \\, s_{9}^{4}}, d_{0} : \\frac{i \\, \\sqrt{6} {\\left(s_{9}^{6}\\right)}^{\\frac{3}{4}}}{12 \\, s_{9}^{4}}, d_{2} : \\frac{3 i \\, \\sqrt{6} {\\left(s_{9}^{6}\\right)}^{\\frac{3}{4}}}{4 \\, s_{9}^{4}}, s_{0} : -\\frac{3^{\\frac{3}{4}} 2^{\\frac{1}{4}} \\sqrt{i \\, {\\left(s_{9}^{6}\\right)}^{\\frac{3}{4}}}}{3 \\, s_{9}^{2}}, s_{2} : \\frac{\\sqrt{-\\sqrt{s_{9}^{6}}}}{s_{9}}, s_{5} : \\left(\\frac{1}{2} i - \\frac{1}{2}\\right) \\cdot 6^{\\frac{1}{4}} {\\left(s_{9}^{6}\\right)}^{\\frac{1}{8}}\\right\\}$$"
      ],
      "text/plain": [
       "{c: -11/12*I*sqrt(6)*(s9^6)^(3/4)/s9^4,\n",
       " d0: 1/12*I*sqrt(6)*(s9^6)^(3/4)/s9^4,\n",
       " d2: 3/4*I*sqrt(6)*(s9^6)^(3/4)/s9^4,\n",
       " s0: -1/3*3^(3/4)*2^(1/4)*sqrt(I*(s9^6)^(3/4))/s9^2,\n",
       " s2: sqrt(-sqrt(s9^6))/s9,\n",
       " s5: (1/2*I - 1/2)*6^(1/4)*(s9^6)^(1/8)}"
      ]
     },
     "metadata": {},
     "output_type": "display_data"
    },
    {
     "data": {
      "text/html": [
       "<html><script type=\"math/tex; mode=display\">\\newcommand{\\Bold}[1]{\\mathbf{#1}}\\left\\{c : -\\frac{11 i \\, \\sqrt{6} {\\left(s_{9}^{6}\\right)}^{\\frac{3}{4}}}{12 \\, s_{9}^{4}}, d_{0} : \\frac{i \\, \\sqrt{6} {\\left(s_{9}^{6}\\right)}^{\\frac{3}{4}}}{12 \\, s_{9}^{4}}, d_{2} : \\frac{3 i \\, \\sqrt{6} {\\left(s_{9}^{6}\\right)}^{\\frac{3}{4}}}{4 \\, s_{9}^{4}}, s_{0} : -\\frac{3^{\\frac{3}{4}} 2^{\\frac{1}{4}} \\sqrt{i \\, {\\left(s_{9}^{6}\\right)}^{\\frac{3}{4}}}}{3 \\, s_{9}^{2}}, s_{2} : \\frac{\\sqrt{-\\sqrt{s_{9}^{6}}}}{s_{9}}, s_{5} : -\\left(\\frac{1}{2} i - \\frac{1}{2}\\right) \\cdot 6^{\\frac{1}{4}} {\\left(s_{9}^{6}\\right)}^{\\frac{1}{8}}\\right\\}</script></html>"
      ],
      "text/latex": [
       "$$\\newcommand{\\Bold}[1]{\\mathbf{#1}}\\left\\{c : -\\frac{11 i \\, \\sqrt{6} {\\left(s_{9}^{6}\\right)}^{\\frac{3}{4}}}{12 \\, s_{9}^{4}}, d_{0} : \\frac{i \\, \\sqrt{6} {\\left(s_{9}^{6}\\right)}^{\\frac{3}{4}}}{12 \\, s_{9}^{4}}, d_{2} : \\frac{3 i \\, \\sqrt{6} {\\left(s_{9}^{6}\\right)}^{\\frac{3}{4}}}{4 \\, s_{9}^{4}}, s_{0} : -\\frac{3^{\\frac{3}{4}} 2^{\\frac{1}{4}} \\sqrt{i \\, {\\left(s_{9}^{6}\\right)}^{\\frac{3}{4}}}}{3 \\, s_{9}^{2}}, s_{2} : \\frac{\\sqrt{-\\sqrt{s_{9}^{6}}}}{s_{9}}, s_{5} : -\\left(\\frac{1}{2} i - \\frac{1}{2}\\right) \\cdot 6^{\\frac{1}{4}} {\\left(s_{9}^{6}\\right)}^{\\frac{1}{8}}\\right\\}$$"
      ],
      "text/plain": [
       "{c: -11/12*I*sqrt(6)*(s9^6)^(3/4)/s9^4,\n",
       " d0: 1/12*I*sqrt(6)*(s9^6)^(3/4)/s9^4,\n",
       " d2: 3/4*I*sqrt(6)*(s9^6)^(3/4)/s9^4,\n",
       " s0: -1/3*3^(3/4)*2^(1/4)*sqrt(I*(s9^6)^(3/4))/s9^2,\n",
       " s2: sqrt(-sqrt(s9^6))/s9,\n",
       " s5: -(1/2*I - 1/2)*6^(1/4)*(s9^6)^(1/8)}"
      ]
     },
     "metadata": {},
     "output_type": "display_data"
    },
    {
     "data": {
      "text/html": [
       "<html><script type=\"math/tex; mode=display\">\\newcommand{\\Bold}[1]{\\mathbf{#1}}\\left\\{c : -\\frac{11 i \\, \\sqrt{6} {\\left(s_{9}^{6}\\right)}^{\\frac{3}{4}}}{12 \\, s_{9}^{4}}, d_{0} : \\frac{i \\, \\sqrt{6} {\\left(s_{9}^{6}\\right)}^{\\frac{3}{4}}}{12 \\, s_{9}^{4}}, d_{2} : \\frac{3 i \\, \\sqrt{6} {\\left(s_{9}^{6}\\right)}^{\\frac{3}{4}}}{4 \\, s_{9}^{4}}, s_{0} : \\frac{3^{\\frac{3}{4}} 2^{\\frac{1}{4}} \\sqrt{i \\, {\\left(s_{9}^{6}\\right)}^{\\frac{3}{4}}}}{3 \\, s_{9}^{2}}, s_{2} : -\\frac{\\sqrt{-\\sqrt{s_{9}^{6}}}}{s_{9}}, s_{5} : \\left(\\frac{1}{2} i - \\frac{1}{2}\\right) \\cdot 6^{\\frac{1}{4}} {\\left(s_{9}^{6}\\right)}^{\\frac{1}{8}}\\right\\}</script></html>"
      ],
      "text/latex": [
       "$$\\newcommand{\\Bold}[1]{\\mathbf{#1}}\\left\\{c : -\\frac{11 i \\, \\sqrt{6} {\\left(s_{9}^{6}\\right)}^{\\frac{3}{4}}}{12 \\, s_{9}^{4}}, d_{0} : \\frac{i \\, \\sqrt{6} {\\left(s_{9}^{6}\\right)}^{\\frac{3}{4}}}{12 \\, s_{9}^{4}}, d_{2} : \\frac{3 i \\, \\sqrt{6} {\\left(s_{9}^{6}\\right)}^{\\frac{3}{4}}}{4 \\, s_{9}^{4}}, s_{0} : \\frac{3^{\\frac{3}{4}} 2^{\\frac{1}{4}} \\sqrt{i \\, {\\left(s_{9}^{6}\\right)}^{\\frac{3}{4}}}}{3 \\, s_{9}^{2}}, s_{2} : -\\frac{\\sqrt{-\\sqrt{s_{9}^{6}}}}{s_{9}}, s_{5} : \\left(\\frac{1}{2} i - \\frac{1}{2}\\right) \\cdot 6^{\\frac{1}{4}} {\\left(s_{9}^{6}\\right)}^{\\frac{1}{8}}\\right\\}$$"
      ],
      "text/plain": [
       "{c: -11/12*I*sqrt(6)*(s9^6)^(3/4)/s9^4,\n",
       " d0: 1/12*I*sqrt(6)*(s9^6)^(3/4)/s9^4,\n",
       " d2: 3/4*I*sqrt(6)*(s9^6)^(3/4)/s9^4,\n",
       " s0: 1/3*3^(3/4)*2^(1/4)*sqrt(I*(s9^6)^(3/4))/s9^2,\n",
       " s2: -sqrt(-sqrt(s9^6))/s9,\n",
       " s5: (1/2*I - 1/2)*6^(1/4)*(s9^6)^(1/8)}"
      ]
     },
     "metadata": {},
     "output_type": "display_data"
    },
    {
     "data": {
      "text/html": [
       "<html><script type=\"math/tex; mode=display\">\\newcommand{\\Bold}[1]{\\mathbf{#1}}\\left\\{c : -\\frac{11 i \\, \\sqrt{6} {\\left(s_{9}^{6}\\right)}^{\\frac{3}{4}}}{12 \\, s_{9}^{4}}, d_{0} : \\frac{i \\, \\sqrt{6} {\\left(s_{9}^{6}\\right)}^{\\frac{3}{4}}}{12 \\, s_{9}^{4}}, d_{2} : \\frac{3 i \\, \\sqrt{6} {\\left(s_{9}^{6}\\right)}^{\\frac{3}{4}}}{4 \\, s_{9}^{4}}, s_{0} : \\frac{3^{\\frac{3}{4}} 2^{\\frac{1}{4}} \\sqrt{i \\, {\\left(s_{9}^{6}\\right)}^{\\frac{3}{4}}}}{3 \\, s_{9}^{2}}, s_{2} : -\\frac{\\sqrt{-\\sqrt{s_{9}^{6}}}}{s_{9}}, s_{5} : -\\left(\\frac{1}{2} i - \\frac{1}{2}\\right) \\cdot 6^{\\frac{1}{4}} {\\left(s_{9}^{6}\\right)}^{\\frac{1}{8}}\\right\\}</script></html>"
      ],
      "text/latex": [
       "$$\\newcommand{\\Bold}[1]{\\mathbf{#1}}\\left\\{c : -\\frac{11 i \\, \\sqrt{6} {\\left(s_{9}^{6}\\right)}^{\\frac{3}{4}}}{12 \\, s_{9}^{4}}, d_{0} : \\frac{i \\, \\sqrt{6} {\\left(s_{9}^{6}\\right)}^{\\frac{3}{4}}}{12 \\, s_{9}^{4}}, d_{2} : \\frac{3 i \\, \\sqrt{6} {\\left(s_{9}^{6}\\right)}^{\\frac{3}{4}}}{4 \\, s_{9}^{4}}, s_{0} : \\frac{3^{\\frac{3}{4}} 2^{\\frac{1}{4}} \\sqrt{i \\, {\\left(s_{9}^{6}\\right)}^{\\frac{3}{4}}}}{3 \\, s_{9}^{2}}, s_{2} : -\\frac{\\sqrt{-\\sqrt{s_{9}^{6}}}}{s_{9}}, s_{5} : -\\left(\\frac{1}{2} i - \\frac{1}{2}\\right) \\cdot 6^{\\frac{1}{4}} {\\left(s_{9}^{6}\\right)}^{\\frac{1}{8}}\\right\\}$$"
      ],
      "text/plain": [
       "{c: -11/12*I*sqrt(6)*(s9^6)^(3/4)/s9^4,\n",
       " d0: 1/12*I*sqrt(6)*(s9^6)^(3/4)/s9^4,\n",
       " d2: 3/4*I*sqrt(6)*(s9^6)^(3/4)/s9^4,\n",
       " s0: 1/3*3^(3/4)*2^(1/4)*sqrt(I*(s9^6)^(3/4))/s9^2,\n",
       " s2: -sqrt(-sqrt(s9^6))/s9,\n",
       " s5: -(1/2*I - 1/2)*6^(1/4)*(s9^6)^(1/8)}"
      ]
     },
     "metadata": {},
     "output_type": "display_data"
    },
    {
     "data": {
      "text/html": [
       "<html><script type=\"math/tex; mode=display\">\\newcommand{\\Bold}[1]{\\mathbf{#1}}\\left\\{c : -\\frac{11 i \\, \\sqrt{6} {\\left(s_{9}^{6}\\right)}^{\\frac{3}{4}}}{12 \\, s_{9}^{4}}, d_{0} : \\frac{i \\, \\sqrt{6} {\\left(s_{9}^{6}\\right)}^{\\frac{3}{4}}}{12 \\, s_{9}^{4}}, d_{2} : \\frac{3 i \\, \\sqrt{6} {\\left(s_{9}^{6}\\right)}^{\\frac{3}{4}}}{4 \\, s_{9}^{4}}, s_{0} : \\frac{3^{\\frac{3}{4}} 2^{\\frac{1}{4}} \\sqrt{i \\, {\\left(s_{9}^{6}\\right)}^{\\frac{3}{4}}}}{3 \\, s_{9}^{2}}, s_{2} : \\frac{\\sqrt{-\\sqrt{s_{9}^{6}}}}{s_{9}}, s_{5} : \\left(\\frac{1}{2} i - \\frac{1}{2}\\right) \\cdot 6^{\\frac{1}{4}} {\\left(s_{9}^{6}\\right)}^{\\frac{1}{8}}\\right\\}</script></html>"
      ],
      "text/latex": [
       "$$\\newcommand{\\Bold}[1]{\\mathbf{#1}}\\left\\{c : -\\frac{11 i \\, \\sqrt{6} {\\left(s_{9}^{6}\\right)}^{\\frac{3}{4}}}{12 \\, s_{9}^{4}}, d_{0} : \\frac{i \\, \\sqrt{6} {\\left(s_{9}^{6}\\right)}^{\\frac{3}{4}}}{12 \\, s_{9}^{4}}, d_{2} : \\frac{3 i \\, \\sqrt{6} {\\left(s_{9}^{6}\\right)}^{\\frac{3}{4}}}{4 \\, s_{9}^{4}}, s_{0} : \\frac{3^{\\frac{3}{4}} 2^{\\frac{1}{4}} \\sqrt{i \\, {\\left(s_{9}^{6}\\right)}^{\\frac{3}{4}}}}{3 \\, s_{9}^{2}}, s_{2} : \\frac{\\sqrt{-\\sqrt{s_{9}^{6}}}}{s_{9}}, s_{5} : \\left(\\frac{1}{2} i - \\frac{1}{2}\\right) \\cdot 6^{\\frac{1}{4}} {\\left(s_{9}^{6}\\right)}^{\\frac{1}{8}}\\right\\}$$"
      ],
      "text/plain": [
       "{c: -11/12*I*sqrt(6)*(s9^6)^(3/4)/s9^4,\n",
       " d0: 1/12*I*sqrt(6)*(s9^6)^(3/4)/s9^4,\n",
       " d2: 3/4*I*sqrt(6)*(s9^6)^(3/4)/s9^4,\n",
       " s0: 1/3*3^(3/4)*2^(1/4)*sqrt(I*(s9^6)^(3/4))/s9^2,\n",
       " s2: sqrt(-sqrt(s9^6))/s9,\n",
       " s5: (1/2*I - 1/2)*6^(1/4)*(s9^6)^(1/8)}"
      ]
     },
     "metadata": {},
     "output_type": "display_data"
    },
    {
     "data": {
      "text/html": [
       "<html><script type=\"math/tex; mode=display\">\\newcommand{\\Bold}[1]{\\mathbf{#1}}\\left\\{c : -\\frac{11 i \\, \\sqrt{6} {\\left(s_{9}^{6}\\right)}^{\\frac{3}{4}}}{12 \\, s_{9}^{4}}, d_{0} : \\frac{i \\, \\sqrt{6} {\\left(s_{9}^{6}\\right)}^{\\frac{3}{4}}}{12 \\, s_{9}^{4}}, d_{2} : \\frac{3 i \\, \\sqrt{6} {\\left(s_{9}^{6}\\right)}^{\\frac{3}{4}}}{4 \\, s_{9}^{4}}, s_{0} : \\frac{3^{\\frac{3}{4}} 2^{\\frac{1}{4}} \\sqrt{i \\, {\\left(s_{9}^{6}\\right)}^{\\frac{3}{4}}}}{3 \\, s_{9}^{2}}, s_{2} : \\frac{\\sqrt{-\\sqrt{s_{9}^{6}}}}{s_{9}}, s_{5} : -\\left(\\frac{1}{2} i - \\frac{1}{2}\\right) \\cdot 6^{\\frac{1}{4}} {\\left(s_{9}^{6}\\right)}^{\\frac{1}{8}}\\right\\}</script></html>"
      ],
      "text/latex": [
       "$$\\newcommand{\\Bold}[1]{\\mathbf{#1}}\\left\\{c : -\\frac{11 i \\, \\sqrt{6} {\\left(s_{9}^{6}\\right)}^{\\frac{3}{4}}}{12 \\, s_{9}^{4}}, d_{0} : \\frac{i \\, \\sqrt{6} {\\left(s_{9}^{6}\\right)}^{\\frac{3}{4}}}{12 \\, s_{9}^{4}}, d_{2} : \\frac{3 i \\, \\sqrt{6} {\\left(s_{9}^{6}\\right)}^{\\frac{3}{4}}}{4 \\, s_{9}^{4}}, s_{0} : \\frac{3^{\\frac{3}{4}} 2^{\\frac{1}{4}} \\sqrt{i \\, {\\left(s_{9}^{6}\\right)}^{\\frac{3}{4}}}}{3 \\, s_{9}^{2}}, s_{2} : \\frac{\\sqrt{-\\sqrt{s_{9}^{6}}}}{s_{9}}, s_{5} : -\\left(\\frac{1}{2} i - \\frac{1}{2}\\right) \\cdot 6^{\\frac{1}{4}} {\\left(s_{9}^{6}\\right)}^{\\frac{1}{8}}\\right\\}$$"
      ],
      "text/plain": [
       "{c: -11/12*I*sqrt(6)*(s9^6)^(3/4)/s9^4,\n",
       " d0: 1/12*I*sqrt(6)*(s9^6)^(3/4)/s9^4,\n",
       " d2: 3/4*I*sqrt(6)*(s9^6)^(3/4)/s9^4,\n",
       " s0: 1/3*3^(3/4)*2^(1/4)*sqrt(I*(s9^6)^(3/4))/s9^2,\n",
       " s2: sqrt(-sqrt(s9^6))/s9,\n",
       " s5: -(1/2*I - 1/2)*6^(1/4)*(s9^6)^(1/8)}"
      ]
     },
     "metadata": {},
     "output_type": "display_data"
    },
    {
     "data": {
      "text/html": [
       "<html><script type=\"math/tex; mode=display\">\\newcommand{\\Bold}[1]{\\mathbf{#1}}\\left\\{c : \\frac{11 i \\, \\sqrt{6} {\\left(s_{9}^{6}\\right)}^{\\frac{3}{4}}}{12 \\, s_{9}^{4}}, d_{0} : -\\frac{i \\, \\sqrt{6} {\\left(s_{9}^{6}\\right)}^{\\frac{3}{4}}}{12 \\, s_{9}^{4}}, d_{2} : -\\frac{3 i \\, \\sqrt{6} {\\left(s_{9}^{6}\\right)}^{\\frac{3}{4}}}{4 \\, s_{9}^{4}}, s_{0} : -\\frac{3^{\\frac{3}{4}} 2^{\\frac{1}{4}} \\sqrt{-i \\, {\\left(s_{9}^{6}\\right)}^{\\frac{3}{4}}}}{3 \\, s_{9}^{2}}, s_{2} : -\\frac{\\sqrt{-\\sqrt{s_{9}^{6}}}}{s_{9}}, s_{5} : -\\left(\\frac{1}{2} i + \\frac{1}{2}\\right) \\cdot 6^{\\frac{1}{4}} {\\left(s_{9}^{6}\\right)}^{\\frac{1}{8}}\\right\\}</script></html>"
      ],
      "text/latex": [
       "$$\\newcommand{\\Bold}[1]{\\mathbf{#1}}\\left\\{c : \\frac{11 i \\, \\sqrt{6} {\\left(s_{9}^{6}\\right)}^{\\frac{3}{4}}}{12 \\, s_{9}^{4}}, d_{0} : -\\frac{i \\, \\sqrt{6} {\\left(s_{9}^{6}\\right)}^{\\frac{3}{4}}}{12 \\, s_{9}^{4}}, d_{2} : -\\frac{3 i \\, \\sqrt{6} {\\left(s_{9}^{6}\\right)}^{\\frac{3}{4}}}{4 \\, s_{9}^{4}}, s_{0} : -\\frac{3^{\\frac{3}{4}} 2^{\\frac{1}{4}} \\sqrt{-i \\, {\\left(s_{9}^{6}\\right)}^{\\frac{3}{4}}}}{3 \\, s_{9}^{2}}, s_{2} : -\\frac{\\sqrt{-\\sqrt{s_{9}^{6}}}}{s_{9}}, s_{5} : -\\left(\\frac{1}{2} i + \\frac{1}{2}\\right) \\cdot 6^{\\frac{1}{4}} {\\left(s_{9}^{6}\\right)}^{\\frac{1}{8}}\\right\\}$$"
      ],
      "text/plain": [
       "{c: 11/12*I*sqrt(6)*(s9^6)^(3/4)/s9^4,\n",
       " d0: -1/12*I*sqrt(6)*(s9^6)^(3/4)/s9^4,\n",
       " d2: -3/4*I*sqrt(6)*(s9^6)^(3/4)/s9^4,\n",
       " s0: -1/3*3^(3/4)*2^(1/4)*sqrt(-I*(s9^6)^(3/4))/s9^2,\n",
       " s2: -sqrt(-sqrt(s9^6))/s9,\n",
       " s5: -(1/2*I + 1/2)*6^(1/4)*(s9^6)^(1/8)}"
      ]
     },
     "metadata": {},
     "output_type": "display_data"
    },
    {
     "data": {
      "text/html": [
       "<html><script type=\"math/tex; mode=display\">\\newcommand{\\Bold}[1]{\\mathbf{#1}}\\left\\{c : \\frac{11 i \\, \\sqrt{6} {\\left(s_{9}^{6}\\right)}^{\\frac{3}{4}}}{12 \\, s_{9}^{4}}, d_{0} : -\\frac{i \\, \\sqrt{6} {\\left(s_{9}^{6}\\right)}^{\\frac{3}{4}}}{12 \\, s_{9}^{4}}, d_{2} : -\\frac{3 i \\, \\sqrt{6} {\\left(s_{9}^{6}\\right)}^{\\frac{3}{4}}}{4 \\, s_{9}^{4}}, s_{0} : -\\frac{3^{\\frac{3}{4}} 2^{\\frac{1}{4}} \\sqrt{-i \\, {\\left(s_{9}^{6}\\right)}^{\\frac{3}{4}}}}{3 \\, s_{9}^{2}}, s_{2} : -\\frac{\\sqrt{-\\sqrt{s_{9}^{6}}}}{s_{9}}, s_{5} : \\left(\\frac{1}{2} i + \\frac{1}{2}\\right) \\cdot 6^{\\frac{1}{4}} {\\left(s_{9}^{6}\\right)}^{\\frac{1}{8}}\\right\\}</script></html>"
      ],
      "text/latex": [
       "$$\\newcommand{\\Bold}[1]{\\mathbf{#1}}\\left\\{c : \\frac{11 i \\, \\sqrt{6} {\\left(s_{9}^{6}\\right)}^{\\frac{3}{4}}}{12 \\, s_{9}^{4}}, d_{0} : -\\frac{i \\, \\sqrt{6} {\\left(s_{9}^{6}\\right)}^{\\frac{3}{4}}}{12 \\, s_{9}^{4}}, d_{2} : -\\frac{3 i \\, \\sqrt{6} {\\left(s_{9}^{6}\\right)}^{\\frac{3}{4}}}{4 \\, s_{9}^{4}}, s_{0} : -\\frac{3^{\\frac{3}{4}} 2^{\\frac{1}{4}} \\sqrt{-i \\, {\\left(s_{9}^{6}\\right)}^{\\frac{3}{4}}}}{3 \\, s_{9}^{2}}, s_{2} : -\\frac{\\sqrt{-\\sqrt{s_{9}^{6}}}}{s_{9}}, s_{5} : \\left(\\frac{1}{2} i + \\frac{1}{2}\\right) \\cdot 6^{\\frac{1}{4}} {\\left(s_{9}^{6}\\right)}^{\\frac{1}{8}}\\right\\}$$"
      ],
      "text/plain": [
       "{c: 11/12*I*sqrt(6)*(s9^6)^(3/4)/s9^4,\n",
       " d0: -1/12*I*sqrt(6)*(s9^6)^(3/4)/s9^4,\n",
       " d2: -3/4*I*sqrt(6)*(s9^6)^(3/4)/s9^4,\n",
       " s0: -1/3*3^(3/4)*2^(1/4)*sqrt(-I*(s9^6)^(3/4))/s9^2,\n",
       " s2: -sqrt(-sqrt(s9^6))/s9,\n",
       " s5: (1/2*I + 1/2)*6^(1/4)*(s9^6)^(1/8)}"
      ]
     },
     "metadata": {},
     "output_type": "display_data"
    },
    {
     "data": {
      "text/html": [
       "<html><script type=\"math/tex; mode=display\">\\newcommand{\\Bold}[1]{\\mathbf{#1}}\\left\\{c : \\frac{11 i \\, \\sqrt{6} {\\left(s_{9}^{6}\\right)}^{\\frac{3}{4}}}{12 \\, s_{9}^{4}}, d_{0} : -\\frac{i \\, \\sqrt{6} {\\left(s_{9}^{6}\\right)}^{\\frac{3}{4}}}{12 \\, s_{9}^{4}}, d_{2} : -\\frac{3 i \\, \\sqrt{6} {\\left(s_{9}^{6}\\right)}^{\\frac{3}{4}}}{4 \\, s_{9}^{4}}, s_{0} : -\\frac{3^{\\frac{3}{4}} 2^{\\frac{1}{4}} \\sqrt{-i \\, {\\left(s_{9}^{6}\\right)}^{\\frac{3}{4}}}}{3 \\, s_{9}^{2}}, s_{2} : \\frac{\\sqrt{-\\sqrt{s_{9}^{6}}}}{s_{9}}, s_{5} : -\\left(\\frac{1}{2} i + \\frac{1}{2}\\right) \\cdot 6^{\\frac{1}{4}} {\\left(s_{9}^{6}\\right)}^{\\frac{1}{8}}\\right\\}</script></html>"
      ],
      "text/latex": [
       "$$\\newcommand{\\Bold}[1]{\\mathbf{#1}}\\left\\{c : \\frac{11 i \\, \\sqrt{6} {\\left(s_{9}^{6}\\right)}^{\\frac{3}{4}}}{12 \\, s_{9}^{4}}, d_{0} : -\\frac{i \\, \\sqrt{6} {\\left(s_{9}^{6}\\right)}^{\\frac{3}{4}}}{12 \\, s_{9}^{4}}, d_{2} : -\\frac{3 i \\, \\sqrt{6} {\\left(s_{9}^{6}\\right)}^{\\frac{3}{4}}}{4 \\, s_{9}^{4}}, s_{0} : -\\frac{3^{\\frac{3}{4}} 2^{\\frac{1}{4}} \\sqrt{-i \\, {\\left(s_{9}^{6}\\right)}^{\\frac{3}{4}}}}{3 \\, s_{9}^{2}}, s_{2} : \\frac{\\sqrt{-\\sqrt{s_{9}^{6}}}}{s_{9}}, s_{5} : -\\left(\\frac{1}{2} i + \\frac{1}{2}\\right) \\cdot 6^{\\frac{1}{4}} {\\left(s_{9}^{6}\\right)}^{\\frac{1}{8}}\\right\\}$$"
      ],
      "text/plain": [
       "{c: 11/12*I*sqrt(6)*(s9^6)^(3/4)/s9^4,\n",
       " d0: -1/12*I*sqrt(6)*(s9^6)^(3/4)/s9^4,\n",
       " d2: -3/4*I*sqrt(6)*(s9^6)^(3/4)/s9^4,\n",
       " s0: -1/3*3^(3/4)*2^(1/4)*sqrt(-I*(s9^6)^(3/4))/s9^2,\n",
       " s2: sqrt(-sqrt(s9^6))/s9,\n",
       " s5: -(1/2*I + 1/2)*6^(1/4)*(s9^6)^(1/8)}"
      ]
     },
     "metadata": {},
     "output_type": "display_data"
    },
    {
     "data": {
      "text/html": [
       "<html><script type=\"math/tex; mode=display\">\\newcommand{\\Bold}[1]{\\mathbf{#1}}\\left\\{c : \\frac{11 i \\, \\sqrt{6} {\\left(s_{9}^{6}\\right)}^{\\frac{3}{4}}}{12 \\, s_{9}^{4}}, d_{0} : -\\frac{i \\, \\sqrt{6} {\\left(s_{9}^{6}\\right)}^{\\frac{3}{4}}}{12 \\, s_{9}^{4}}, d_{2} : -\\frac{3 i \\, \\sqrt{6} {\\left(s_{9}^{6}\\right)}^{\\frac{3}{4}}}{4 \\, s_{9}^{4}}, s_{0} : -\\frac{3^{\\frac{3}{4}} 2^{\\frac{1}{4}} \\sqrt{-i \\, {\\left(s_{9}^{6}\\right)}^{\\frac{3}{4}}}}{3 \\, s_{9}^{2}}, s_{2} : \\frac{\\sqrt{-\\sqrt{s_{9}^{6}}}}{s_{9}}, s_{5} : \\left(\\frac{1}{2} i + \\frac{1}{2}\\right) \\cdot 6^{\\frac{1}{4}} {\\left(s_{9}^{6}\\right)}^{\\frac{1}{8}}\\right\\}</script></html>"
      ],
      "text/latex": [
       "$$\\newcommand{\\Bold}[1]{\\mathbf{#1}}\\left\\{c : \\frac{11 i \\, \\sqrt{6} {\\left(s_{9}^{6}\\right)}^{\\frac{3}{4}}}{12 \\, s_{9}^{4}}, d_{0} : -\\frac{i \\, \\sqrt{6} {\\left(s_{9}^{6}\\right)}^{\\frac{3}{4}}}{12 \\, s_{9}^{4}}, d_{2} : -\\frac{3 i \\, \\sqrt{6} {\\left(s_{9}^{6}\\right)}^{\\frac{3}{4}}}{4 \\, s_{9}^{4}}, s_{0} : -\\frac{3^{\\frac{3}{4}} 2^{\\frac{1}{4}} \\sqrt{-i \\, {\\left(s_{9}^{6}\\right)}^{\\frac{3}{4}}}}{3 \\, s_{9}^{2}}, s_{2} : \\frac{\\sqrt{-\\sqrt{s_{9}^{6}}}}{s_{9}}, s_{5} : \\left(\\frac{1}{2} i + \\frac{1}{2}\\right) \\cdot 6^{\\frac{1}{4}} {\\left(s_{9}^{6}\\right)}^{\\frac{1}{8}}\\right\\}$$"
      ],
      "text/plain": [
       "{c: 11/12*I*sqrt(6)*(s9^6)^(3/4)/s9^4,\n",
       " d0: -1/12*I*sqrt(6)*(s9^6)^(3/4)/s9^4,\n",
       " d2: -3/4*I*sqrt(6)*(s9^6)^(3/4)/s9^4,\n",
       " s0: -1/3*3^(3/4)*2^(1/4)*sqrt(-I*(s9^6)^(3/4))/s9^2,\n",
       " s2: sqrt(-sqrt(s9^6))/s9,\n",
       " s5: (1/2*I + 1/2)*6^(1/4)*(s9^6)^(1/8)}"
      ]
     },
     "metadata": {},
     "output_type": "display_data"
    },
    {
     "data": {
      "text/html": [
       "<html><script type=\"math/tex; mode=display\">\\newcommand{\\Bold}[1]{\\mathbf{#1}}\\left\\{c : \\frac{11 i \\, \\sqrt{6} {\\left(s_{9}^{6}\\right)}^{\\frac{3}{4}}}{12 \\, s_{9}^{4}}, d_{0} : -\\frac{i \\, \\sqrt{6} {\\left(s_{9}^{6}\\right)}^{\\frac{3}{4}}}{12 \\, s_{9}^{4}}, d_{2} : -\\frac{3 i \\, \\sqrt{6} {\\left(s_{9}^{6}\\right)}^{\\frac{3}{4}}}{4 \\, s_{9}^{4}}, s_{0} : \\frac{3^{\\frac{3}{4}} 2^{\\frac{1}{4}} \\sqrt{-i \\, {\\left(s_{9}^{6}\\right)}^{\\frac{3}{4}}}}{3 \\, s_{9}^{2}}, s_{2} : -\\frac{\\sqrt{-\\sqrt{s_{9}^{6}}}}{s_{9}}, s_{5} : -\\left(\\frac{1}{2} i + \\frac{1}{2}\\right) \\cdot 6^{\\frac{1}{4}} {\\left(s_{9}^{6}\\right)}^{\\frac{1}{8}}\\right\\}</script></html>"
      ],
      "text/latex": [
       "$$\\newcommand{\\Bold}[1]{\\mathbf{#1}}\\left\\{c : \\frac{11 i \\, \\sqrt{6} {\\left(s_{9}^{6}\\right)}^{\\frac{3}{4}}}{12 \\, s_{9}^{4}}, d_{0} : -\\frac{i \\, \\sqrt{6} {\\left(s_{9}^{6}\\right)}^{\\frac{3}{4}}}{12 \\, s_{9}^{4}}, d_{2} : -\\frac{3 i \\, \\sqrt{6} {\\left(s_{9}^{6}\\right)}^{\\frac{3}{4}}}{4 \\, s_{9}^{4}}, s_{0} : \\frac{3^{\\frac{3}{4}} 2^{\\frac{1}{4}} \\sqrt{-i \\, {\\left(s_{9}^{6}\\right)}^{\\frac{3}{4}}}}{3 \\, s_{9}^{2}}, s_{2} : -\\frac{\\sqrt{-\\sqrt{s_{9}^{6}}}}{s_{9}}, s_{5} : -\\left(\\frac{1}{2} i + \\frac{1}{2}\\right) \\cdot 6^{\\frac{1}{4}} {\\left(s_{9}^{6}\\right)}^{\\frac{1}{8}}\\right\\}$$"
      ],
      "text/plain": [
       "{c: 11/12*I*sqrt(6)*(s9^6)^(3/4)/s9^4,\n",
       " d0: -1/12*I*sqrt(6)*(s9^6)^(3/4)/s9^4,\n",
       " d2: -3/4*I*sqrt(6)*(s9^6)^(3/4)/s9^4,\n",
       " s0: 1/3*3^(3/4)*2^(1/4)*sqrt(-I*(s9^6)^(3/4))/s9^2,\n",
       " s2: -sqrt(-sqrt(s9^6))/s9,\n",
       " s5: -(1/2*I + 1/2)*6^(1/4)*(s9^6)^(1/8)}"
      ]
     },
     "metadata": {},
     "output_type": "display_data"
    },
    {
     "data": {
      "text/html": [
       "<html><script type=\"math/tex; mode=display\">\\newcommand{\\Bold}[1]{\\mathbf{#1}}\\left\\{c : \\frac{11 i \\, \\sqrt{6} {\\left(s_{9}^{6}\\right)}^{\\frac{3}{4}}}{12 \\, s_{9}^{4}}, d_{0} : -\\frac{i \\, \\sqrt{6} {\\left(s_{9}^{6}\\right)}^{\\frac{3}{4}}}{12 \\, s_{9}^{4}}, d_{2} : -\\frac{3 i \\, \\sqrt{6} {\\left(s_{9}^{6}\\right)}^{\\frac{3}{4}}}{4 \\, s_{9}^{4}}, s_{0} : \\frac{3^{\\frac{3}{4}} 2^{\\frac{1}{4}} \\sqrt{-i \\, {\\left(s_{9}^{6}\\right)}^{\\frac{3}{4}}}}{3 \\, s_{9}^{2}}, s_{2} : -\\frac{\\sqrt{-\\sqrt{s_{9}^{6}}}}{s_{9}}, s_{5} : \\left(\\frac{1}{2} i + \\frac{1}{2}\\right) \\cdot 6^{\\frac{1}{4}} {\\left(s_{9}^{6}\\right)}^{\\frac{1}{8}}\\right\\}</script></html>"
      ],
      "text/latex": [
       "$$\\newcommand{\\Bold}[1]{\\mathbf{#1}}\\left\\{c : \\frac{11 i \\, \\sqrt{6} {\\left(s_{9}^{6}\\right)}^{\\frac{3}{4}}}{12 \\, s_{9}^{4}}, d_{0} : -\\frac{i \\, \\sqrt{6} {\\left(s_{9}^{6}\\right)}^{\\frac{3}{4}}}{12 \\, s_{9}^{4}}, d_{2} : -\\frac{3 i \\, \\sqrt{6} {\\left(s_{9}^{6}\\right)}^{\\frac{3}{4}}}{4 \\, s_{9}^{4}}, s_{0} : \\frac{3^{\\frac{3}{4}} 2^{\\frac{1}{4}} \\sqrt{-i \\, {\\left(s_{9}^{6}\\right)}^{\\frac{3}{4}}}}{3 \\, s_{9}^{2}}, s_{2} : -\\frac{\\sqrt{-\\sqrt{s_{9}^{6}}}}{s_{9}}, s_{5} : \\left(\\frac{1}{2} i + \\frac{1}{2}\\right) \\cdot 6^{\\frac{1}{4}} {\\left(s_{9}^{6}\\right)}^{\\frac{1}{8}}\\right\\}$$"
      ],
      "text/plain": [
       "{c: 11/12*I*sqrt(6)*(s9^6)^(3/4)/s9^4,\n",
       " d0: -1/12*I*sqrt(6)*(s9^6)^(3/4)/s9^4,\n",
       " d2: -3/4*I*sqrt(6)*(s9^6)^(3/4)/s9^4,\n",
       " s0: 1/3*3^(3/4)*2^(1/4)*sqrt(-I*(s9^6)^(3/4))/s9^2,\n",
       " s2: -sqrt(-sqrt(s9^6))/s9,\n",
       " s5: (1/2*I + 1/2)*6^(1/4)*(s9^6)^(1/8)}"
      ]
     },
     "metadata": {},
     "output_type": "display_data"
    },
    {
     "data": {
      "text/html": [
       "<html><script type=\"math/tex; mode=display\">\\newcommand{\\Bold}[1]{\\mathbf{#1}}\\left\\{c : \\frac{11 i \\, \\sqrt{6} {\\left(s_{9}^{6}\\right)}^{\\frac{3}{4}}}{12 \\, s_{9}^{4}}, d_{0} : -\\frac{i \\, \\sqrt{6} {\\left(s_{9}^{6}\\right)}^{\\frac{3}{4}}}{12 \\, s_{9}^{4}}, d_{2} : -\\frac{3 i \\, \\sqrt{6} {\\left(s_{9}^{6}\\right)}^{\\frac{3}{4}}}{4 \\, s_{9}^{4}}, s_{0} : \\frac{3^{\\frac{3}{4}} 2^{\\frac{1}{4}} \\sqrt{-i \\, {\\left(s_{9}^{6}\\right)}^{\\frac{3}{4}}}}{3 \\, s_{9}^{2}}, s_{2} : \\frac{\\sqrt{-\\sqrt{s_{9}^{6}}}}{s_{9}}, s_{5} : -\\left(\\frac{1}{2} i + \\frac{1}{2}\\right) \\cdot 6^{\\frac{1}{4}} {\\left(s_{9}^{6}\\right)}^{\\frac{1}{8}}\\right\\}</script></html>"
      ],
      "text/latex": [
       "$$\\newcommand{\\Bold}[1]{\\mathbf{#1}}\\left\\{c : \\frac{11 i \\, \\sqrt{6} {\\left(s_{9}^{6}\\right)}^{\\frac{3}{4}}}{12 \\, s_{9}^{4}}, d_{0} : -\\frac{i \\, \\sqrt{6} {\\left(s_{9}^{6}\\right)}^{\\frac{3}{4}}}{12 \\, s_{9}^{4}}, d_{2} : -\\frac{3 i \\, \\sqrt{6} {\\left(s_{9}^{6}\\right)}^{\\frac{3}{4}}}{4 \\, s_{9}^{4}}, s_{0} : \\frac{3^{\\frac{3}{4}} 2^{\\frac{1}{4}} \\sqrt{-i \\, {\\left(s_{9}^{6}\\right)}^{\\frac{3}{4}}}}{3 \\, s_{9}^{2}}, s_{2} : \\frac{\\sqrt{-\\sqrt{s_{9}^{6}}}}{s_{9}}, s_{5} : -\\left(\\frac{1}{2} i + \\frac{1}{2}\\right) \\cdot 6^{\\frac{1}{4}} {\\left(s_{9}^{6}\\right)}^{\\frac{1}{8}}\\right\\}$$"
      ],
      "text/plain": [
       "{c: 11/12*I*sqrt(6)*(s9^6)^(3/4)/s9^4,\n",
       " d0: -1/12*I*sqrt(6)*(s9^6)^(3/4)/s9^4,\n",
       " d2: -3/4*I*sqrt(6)*(s9^6)^(3/4)/s9^4,\n",
       " s0: 1/3*3^(3/4)*2^(1/4)*sqrt(-I*(s9^6)^(3/4))/s9^2,\n",
       " s2: sqrt(-sqrt(s9^6))/s9,\n",
       " s5: -(1/2*I + 1/2)*6^(1/4)*(s9^6)^(1/8)}"
      ]
     },
     "metadata": {},
     "output_type": "display_data"
    },
    {
     "data": {
      "text/html": [
       "<html><script type=\"math/tex; mode=display\">\\newcommand{\\Bold}[1]{\\mathbf{#1}}\\left\\{c : \\frac{11 i \\, \\sqrt{6} {\\left(s_{9}^{6}\\right)}^{\\frac{3}{4}}}{12 \\, s_{9}^{4}}, d_{0} : -\\frac{i \\, \\sqrt{6} {\\left(s_{9}^{6}\\right)}^{\\frac{3}{4}}}{12 \\, s_{9}^{4}}, d_{2} : -\\frac{3 i \\, \\sqrt{6} {\\left(s_{9}^{6}\\right)}^{\\frac{3}{4}}}{4 \\, s_{9}^{4}}, s_{0} : \\frac{3^{\\frac{3}{4}} 2^{\\frac{1}{4}} \\sqrt{-i \\, {\\left(s_{9}^{6}\\right)}^{\\frac{3}{4}}}}{3 \\, s_{9}^{2}}, s_{2} : \\frac{\\sqrt{-\\sqrt{s_{9}^{6}}}}{s_{9}}, s_{5} : \\left(\\frac{1}{2} i + \\frac{1}{2}\\right) \\cdot 6^{\\frac{1}{4}} {\\left(s_{9}^{6}\\right)}^{\\frac{1}{8}}\\right\\}</script></html>"
      ],
      "text/latex": [
       "$$\\newcommand{\\Bold}[1]{\\mathbf{#1}}\\left\\{c : \\frac{11 i \\, \\sqrt{6} {\\left(s_{9}^{6}\\right)}^{\\frac{3}{4}}}{12 \\, s_{9}^{4}}, d_{0} : -\\frac{i \\, \\sqrt{6} {\\left(s_{9}^{6}\\right)}^{\\frac{3}{4}}}{12 \\, s_{9}^{4}}, d_{2} : -\\frac{3 i \\, \\sqrt{6} {\\left(s_{9}^{6}\\right)}^{\\frac{3}{4}}}{4 \\, s_{9}^{4}}, s_{0} : \\frac{3^{\\frac{3}{4}} 2^{\\frac{1}{4}} \\sqrt{-i \\, {\\left(s_{9}^{6}\\right)}^{\\frac{3}{4}}}}{3 \\, s_{9}^{2}}, s_{2} : \\frac{\\sqrt{-\\sqrt{s_{9}^{6}}}}{s_{9}}, s_{5} : \\left(\\frac{1}{2} i + \\frac{1}{2}\\right) \\cdot 6^{\\frac{1}{4}} {\\left(s_{9}^{6}\\right)}^{\\frac{1}{8}}\\right\\}$$"
      ],
      "text/plain": [
       "{c: 11/12*I*sqrt(6)*(s9^6)^(3/4)/s9^4,\n",
       " d0: -1/12*I*sqrt(6)*(s9^6)^(3/4)/s9^4,\n",
       " d2: -3/4*I*sqrt(6)*(s9^6)^(3/4)/s9^4,\n",
       " s0: 1/3*3^(3/4)*2^(1/4)*sqrt(-I*(s9^6)^(3/4))/s9^2,\n",
       " s2: sqrt(-sqrt(s9^6))/s9,\n",
       " s5: (1/2*I + 1/2)*6^(1/4)*(s9^6)^(1/8)}"
      ]
     },
     "metadata": {},
     "output_type": "display_data"
    }
   ],
   "source": [
    "g_diag_vars = list(set(Sigma.diagonal()) - {1})\n",
    "incg = [c] + der_vars_diag + g_diag_vars\n",
    "display(incg)\n",
    "%time nilsoliton_sols = solve(nilsoliton_eqs, incg, algorithm='sympy') # long time\n",
    "for sol in nilsoliton_sols:\n",
    "    display(sol)"
   ]
  },
  {
   "cell_type": "markdown",
   "metadata": {},
   "source": [
    "Since $g = g_\\sigma$ with $\\sigma \\in \\Sigma \\subset \\rm T_6^+$ the only meaningful solution is the seventh one. Warning: the place of the meaningful solution in `nilsoliton_sols` may vary."
   ]
  },
  {
   "cell_type": "code",
   "execution_count": 55,
   "metadata": {},
   "outputs": [
    {
     "data": {
      "text/html": [
       "<html><script type=\"math/tex; mode=display\">\\newcommand{\\Bold}[1]{\\mathbf{#1}}\\left(\\begin{array}{rrrrrr}\n",
       "1 & 0 & 0 & 0 & 0 & 0 \\\\\n",
       "0 & 1 & 0 & 0 & 0 & 0 \\\\\n",
       "0 & 0 & \\frac{1}{3} \\, \\sqrt{3} \\sqrt{2} \\sqrt{s_{9}} & 0 & 0 & 0 \\\\\n",
       "0 & 0 & 0 & s_{9} & 0 & 0 \\\\\n",
       "0 & 0 & 0 & 0 & \\frac{1}{2} \\, \\sqrt{3} \\sqrt{2} s_{9}^{\\frac{3}{2}} & 0 \\\\\n",
       "0 & 0 & 0 & 0 & 0 & s_{9}^{2}\n",
       "\\end{array}\\right)</script></html>"
      ],
      "text/latex": [
       "$$\\newcommand{\\Bold}[1]{\\mathbf{#1}}\\left(\\begin{array}{rrrrrr}\n",
       "1 & 0 & 0 & 0 & 0 & 0 \\\\\n",
       "0 & 1 & 0 & 0 & 0 & 0 \\\\\n",
       "0 & 0 & \\frac{1}{3} \\, \\sqrt{3} \\sqrt{2} \\sqrt{s_{9}} & 0 & 0 & 0 \\\\\n",
       "0 & 0 & 0 & s_{9} & 0 & 0 \\\\\n",
       "0 & 0 & 0 & 0 & \\frac{1}{2} \\, \\sqrt{3} \\sqrt{2} s_{9}^{\\frac{3}{2}} & 0 \\\\\n",
       "0 & 0 & 0 & 0 & 0 & s_{9}^{2}\n",
       "\\end{array}\\right)$$"
      ],
      "text/plain": [
       "[                           1                            0                            0                            0                            0                            0]\n",
       "[                           0                            1                            0                            0                            0                            0]\n",
       "[                           0                            0 1/3*sqrt(3)*sqrt(2)*sqrt(s9)                            0                            0                            0]\n",
       "[                           0                            0                            0                           s9                            0                            0]\n",
       "[                           0                            0                            0                            0 1/2*sqrt(3)*sqrt(2)*s9^(3/2)                            0]\n",
       "[                           0                            0                            0                            0                            0                         s9^2]"
      ]
     },
     "execution_count": 55,
     "metadata": {},
     "output_type": "execute_result"
    }
   ],
   "source": [
    "g_nil = g_diag.subs(nilsoliton_sols[7]).canonicalize_radical()\n",
    "Sigma_nil = Sigma_diag.subs(nilsoliton_sols[7]).canonicalize_radical()\n",
    "ip_nil = inner_product_from_matrix(alg, g_nil)\n",
    "g_nil"
   ]
  },
  {
   "cell_type": "markdown",
   "metadata": {},
   "source": [
    "It follows from Theorem 6.7 that the nilsoliton metrics has nontrivial index of symmetry."
   ]
  },
  {
   "cell_type": "code",
   "execution_count": 56,
   "metadata": {},
   "outputs": [
    {
     "data": {
      "text/html": [
       "<html><script type=\"math/tex; mode=display\">\\newcommand{\\Bold}[1]{\\mathbf{#1}}\\left(\\left(\\begin{array}{rrrrrr}\n",
       "1 & 0 & 0 & 0 & 0 & 0 \\\\\n",
       "0 & 1 & 0 & 0 & 0 & 0 \\\\\n",
       "0 & 0 & s_{0} & 0 & 0 & 0 \\\\\n",
       "0 & 0 & s_{1} & s_{2} & 0 & 0 \\\\\n",
       "0 & 0 & s_{3} & s_{4} & s_{5} & 0 \\\\\n",
       "0 & 0 & s_{6} & s_{7} & s_{8} & s_{9}\n",
       "\\end{array}\\right), \\left(\\begin{array}{rrrrrr}\n",
       "1 & 0 & 0 & 0 & 0 & 0 \\\\\n",
       "0 & 1 & 0 & 0 & 0 & 0 \\\\\n",
       "0 & 0 & \\frac{1}{3} \\cdot 3^{\\frac{3}{4}} 2^{\\frac{1}{4}} s_{9}^{\\frac{1}{4}} & 0 & 0 & 0 \\\\\n",
       "0 & 0 & 0 & \\sqrt{s_{9}} & 0 & 0 \\\\\n",
       "0 & 0 & 0 & 0 & \\frac{1}{2} \\cdot 3^{\\frac{1}{4}} 2^{\\frac{3}{4}} s_{9}^{\\frac{3}{4}} & 0 \\\\\n",
       "0 & 0 & 0 & 0 & 0 & s_{9}\n",
       "\\end{array}\\right)\\right)</script></html>"
      ],
      "text/latex": [
       "$$\\newcommand{\\Bold}[1]{\\mathbf{#1}}\\left(\\left(\\begin{array}{rrrrrr}\n",
       "1 & 0 & 0 & 0 & 0 & 0 \\\\\n",
       "0 & 1 & 0 & 0 & 0 & 0 \\\\\n",
       "0 & 0 & s_{0} & 0 & 0 & 0 \\\\\n",
       "0 & 0 & s_{1} & s_{2} & 0 & 0 \\\\\n",
       "0 & 0 & s_{3} & s_{4} & s_{5} & 0 \\\\\n",
       "0 & 0 & s_{6} & s_{7} & s_{8} & s_{9}\n",
       "\\end{array}\\right), \\left(\\begin{array}{rrrrrr}\n",
       "1 & 0 & 0 & 0 & 0 & 0 \\\\\n",
       "0 & 1 & 0 & 0 & 0 & 0 \\\\\n",
       "0 & 0 & \\frac{1}{3} \\cdot 3^{\\frac{3}{4}} 2^{\\frac{1}{4}} s_{9}^{\\frac{1}{4}} & 0 & 0 & 0 \\\\\n",
       "0 & 0 & 0 & \\sqrt{s_{9}} & 0 & 0 \\\\\n",
       "0 & 0 & 0 & 0 & \\frac{1}{2} \\cdot 3^{\\frac{1}{4}} 2^{\\frac{3}{4}} s_{9}^{\\frac{3}{4}} & 0 \\\\\n",
       "0 & 0 & 0 & 0 & 0 & s_{9}\n",
       "\\end{array}\\right)\\right)$$"
      ],
      "text/plain": [
       "(\n",
       "[ 1  0  0  0  0  0]  [                           1                            0                            0                            0                            0                            0]\n",
       "[ 0  1  0  0  0  0]  [                           0                            1                            0                            0                            0                            0]\n",
       "[ 0  0 s0  0  0  0]  [                           0                            0 1/3*3^(3/4)*2^(1/4)*s9^(1/4)                            0                            0                            0]\n",
       "[ 0  0 s1 s2  0  0]  [                           0                            0                            0                     sqrt(s9)                            0                            0]\n",
       "[ 0  0 s3 s4 s5  0]  [                           0                            0                            0                            0 1/2*3^(1/4)*2^(3/4)*s9^(3/4)                            0]\n",
       "[ 0  0 s6 s7 s8 s9], [                           0                            0                            0                            0                            0                           s9]\n",
       ")"
      ]
     },
     "execution_count": 56,
     "metadata": {},
     "output_type": "execute_result"
    }
   ],
   "source": [
    "Sigma, Sigma_nil"
   ]
  },
  {
   "cell_type": "markdown",
   "metadata": {},
   "source": [
    "### Isometry with the nilsoliton metric given in [Will11]\n",
    "\n",
    "The nilsoliton metric from the 2011 paper of Will which is isomorphic to $\\mathfrak h_{28}$ is the number $3$ given by $(0, 0, 2 \\, \\mathbf{12}, 6^\\frac12 \\, \\mathbf{13}, 6^\\frac12 \\, \\mathbf{14}, 2 \\, \\mathbf{15})$."
   ]
  },
  {
   "cell_type": "code",
   "execution_count": 57,
   "metadata": {},
   "outputs": [
    {
     "name": "stdout",
     "output_type": "stream",
     "text": [
      "('x1', 'x2')  =  2*x3\n",
      "('x1', 'x3')  =  sqrt(6)*x4\n",
      "('x1', 'x4')  =  sqrt(6)*x5\n",
      "('x1', 'x5')  =  2*x6\n"
     ]
    }
   ],
   "source": [
    "d_h = {('x1', 'x2'): {'x3': 2}, ('x1', 'x3'): {'x4': sqrt(6)}, ('x1', 'x4'): {'x5': sqrt(6)}, ('x1', 'x5'): {'x6': 2}} \n",
    "hh_will.<x1,x2,x3,x4,x5,x6> = LieAlgebra(SR, d_h, nilpotent=True) \n",
    "for kk in hh_will.structure_coefficients().keys():\n",
    "    print(kk, \" = \", hh_will.structure_coefficients()[kk])"
   ]
  },
  {
   "cell_type": "markdown",
   "metadata": {},
   "source": [
    "Notice that the basis $x_1, \\ldots, x_6$ is orthonormal by definition. We propose the following isomorphism between `hh_will` and `alg`."
   ]
  },
  {
   "cell_type": "code",
   "execution_count": 58,
   "metadata": {},
   "outputs": [
    {
     "data": {
      "text/html": [
       "<html><script type=\"math/tex; mode=display\">\\newcommand{\\Bold}[1]{\\mathbf{#1}}\\begin{array}{l}\n",
       "\\verb|Lie|\\phantom{\\verb!x!}\\verb|algebra|\\phantom{\\verb!x!}\\verb|morphism:|\\\\\n",
       "\\phantom{\\verb!xx!}\\verb|From:|\\phantom{\\verb!x!}\\verb|Nilpotent|\\phantom{\\verb!x!}\\verb|Lie|\\phantom{\\verb!x!}\\verb|algebra|\\phantom{\\verb!x!}\\verb|on|\\phantom{\\verb!x!}\\verb|6|\\phantom{\\verb!x!}\\verb|generators|\\phantom{\\verb!x!}\\verb|(x1,|\\phantom{\\verb!x!}\\verb|x2,|\\phantom{\\verb!x!}\\verb|x3,|\\phantom{\\verb!x!}\\verb|x4,|\\phantom{\\verb!x!}\\verb|x5,|\\phantom{\\verb!x!}\\verb|x6)|\\phantom{\\verb!x!}\\verb|over|\\phantom{\\verb!x!}\\verb|Symbolic|\\phantom{\\verb!x!}\\verb|Ring|\\\\\n",
       "\\phantom{\\verb!xx!}\\verb|To:|\\phantom{\\verb!xxx!}\\verb|Nilpotent|\\phantom{\\verb!x!}\\verb|Lie|\\phantom{\\verb!x!}\\verb|algebra|\\phantom{\\verb!x!}\\verb|on|\\phantom{\\verb!x!}\\verb|6|\\phantom{\\verb!x!}\\verb|generators|\\phantom{\\verb!x!}\\verb|(e1,|\\phantom{\\verb!x!}\\verb|e2,|\\phantom{\\verb!x!}\\verb|e3,|\\phantom{\\verb!x!}\\verb|e4,|\\phantom{\\verb!x!}\\verb|e5,|\\phantom{\\verb!x!}\\verb|e6)|\\phantom{\\verb!x!}\\verb|over|\\phantom{\\verb!x!}\\verb|Symbolic|\\phantom{\\verb!x!}\\verb|Ring|\\\\\n",
       "\\phantom{\\verb!xx!}\\verb\"Defn:\"\\phantom{\\verb!x!}\\verb\"x1\"\\phantom{\\verb!x!}\\verb\"|-->\"\\phantom{\\verb!x!}\\verb\"e1\"\\\\\n",
       "\\phantom{\\verb!xxxxxxxx!}\\verb\"x2\"\\phantom{\\verb!x!}\\verb\"|-->\"\\phantom{\\verb!x!}\\verb\"e2\"\\\\\n",
       "\\phantom{\\verb!xxxxxxxx!}\\verb\"x3\"\\phantom{\\verb!x!}\\verb\"|-->\"\\phantom{\\verb!x!}\\verb\"-1/2*e3\"\\\\\n",
       "\\phantom{\\verb!xxxxxxxx!}\\verb\"x4\"\\phantom{\\verb!x!}\\verb\"|-->\"\\phantom{\\verb!x!}\\verb\"1/12*sqrt(6)*e4\"\\\\\n",
       "\\phantom{\\verb!xxxxxxxx!}\\verb\"x5\"\\phantom{\\verb!x!}\\verb\"|-->\"\\phantom{\\verb!x!}\\verb\"-1/12*e5\"\\\\\n",
       "\\phantom{\\verb!xxxxxxxx!}\\verb\"x6\"\\phantom{\\verb!x!}\\verb\"|-->\"\\phantom{\\verb!x!}\\verb\"1/24*e6\"\n",
       "\\end{array}</script></html>"
      ],
      "text/latex": [
       "$$\\newcommand{\\Bold}[1]{\\mathbf{#1}}\\begin{array}{l}\n",
       "\\verb|Lie|\\phantom{\\verb!x!}\\verb|algebra|\\phantom{\\verb!x!}\\verb|morphism:|\\\\\n",
       "\\phantom{\\verb!xx!}\\verb|From:|\\phantom{\\verb!x!}\\verb|Nilpotent|\\phantom{\\verb!x!}\\verb|Lie|\\phantom{\\verb!x!}\\verb|algebra|\\phantom{\\verb!x!}\\verb|on|\\phantom{\\verb!x!}\\verb|6|\\phantom{\\verb!x!}\\verb|generators|\\phantom{\\verb!x!}\\verb|(x1,|\\phantom{\\verb!x!}\\verb|x2,|\\phantom{\\verb!x!}\\verb|x3,|\\phantom{\\verb!x!}\\verb|x4,|\\phantom{\\verb!x!}\\verb|x5,|\\phantom{\\verb!x!}\\verb|x6)|\\phantom{\\verb!x!}\\verb|over|\\phantom{\\verb!x!}\\verb|Symbolic|\\phantom{\\verb!x!}\\verb|Ring|\\\\\n",
       "\\phantom{\\verb!xx!}\\verb|To:|\\phantom{\\verb!xxx!}\\verb|Nilpotent|\\phantom{\\verb!x!}\\verb|Lie|\\phantom{\\verb!x!}\\verb|algebra|\\phantom{\\verb!x!}\\verb|on|\\phantom{\\verb!x!}\\verb|6|\\phantom{\\verb!x!}\\verb|generators|\\phantom{\\verb!x!}\\verb|(e1,|\\phantom{\\verb!x!}\\verb|e2,|\\phantom{\\verb!x!}\\verb|e3,|\\phantom{\\verb!x!}\\verb|e4,|\\phantom{\\verb!x!}\\verb|e5,|\\phantom{\\verb!x!}\\verb|e6)|\\phantom{\\verb!x!}\\verb|over|\\phantom{\\verb!x!}\\verb|Symbolic|\\phantom{\\verb!x!}\\verb|Ring|\\\\\n",
       "\\phantom{\\verb!xx!}\\verb\"Defn:\"\\phantom{\\verb!x!}\\verb\"x1\"\\phantom{\\verb!x!}\\verb\"|-->\"\\phantom{\\verb!x!}\\verb\"e1\"\\\\\n",
       "\\phantom{\\verb!xxxxxxxx!}\\verb\"x2\"\\phantom{\\verb!x!}\\verb\"|-->\"\\phantom{\\verb!x!}\\verb\"e2\"\\\\\n",
       "\\phantom{\\verb!xxxxxxxx!}\\verb\"x3\"\\phantom{\\verb!x!}\\verb\"|-->\"\\phantom{\\verb!x!}\\verb\"-1/2*e3\"\\\\\n",
       "\\phantom{\\verb!xxxxxxxx!}\\verb\"x4\"\\phantom{\\verb!x!}\\verb\"|-->\"\\phantom{\\verb!x!}\\verb\"1/12*sqrt(6)*e4\"\\\\\n",
       "\\phantom{\\verb!xxxxxxxx!}\\verb\"x5\"\\phantom{\\verb!x!}\\verb\"|-->\"\\phantom{\\verb!x!}\\verb\"-1/12*e5\"\\\\\n",
       "\\phantom{\\verb!xxxxxxxx!}\\verb\"x6\"\\phantom{\\verb!x!}\\verb\"|-->\"\\phantom{\\verb!x!}\\verb\"1/24*e6\"\n",
       "\\end{array}$$"
      ],
      "text/plain": [
       "Lie algebra morphism:\n",
       "  From: Nilpotent Lie algebra on 6 generators (x1, x2, x3, x4, x5, x6) over Symbolic Ring\n",
       "  To:   Nilpotent Lie algebra on 6 generators (e1, e2, e3, e4, e5, e6) over Symbolic Ring\n",
       "  Defn: x1 |--> e1\n",
       "        x2 |--> e2\n",
       "        x3 |--> -1/2*e3\n",
       "        x4 |--> 1/12*sqrt(6)*e4\n",
       "        x5 |--> -1/12*e5\n",
       "        x6 |--> 1/24*e6"
      ]
     },
     "execution_count": 58,
     "metadata": {},
     "output_type": "execute_result"
    }
   ],
   "source": [
    "e1, e2, e3, e4, e5, e6 = alg.basis()\n",
    "f1, f2, f3, f4, f5, f6 = e1, e2, -1/2 * e3, 1/(2*sqrt(6)) * e4, -1/12 * e5, 1/24 * e6\n",
    "hh_will.morphism({x1:f1, x2:f2, x3:f3, x4:f4, x5:f5, x6:f6})"
   ]
  },
  {
   "cell_type": "markdown",
   "metadata": {},
   "source": [
    "We choose $s_9$ in order to make this isomorphism and isometry. "
   ]
  },
  {
   "cell_type": "code",
   "execution_count": 59,
   "metadata": {},
   "outputs": [
    {
     "data": {
      "text/html": [
       "<html><script type=\"math/tex; mode=display\">\\newcommand{\\Bold}[1]{\\mathbf{#1}}\\left(\\begin{array}{rrrrrr}\n",
       "1 & 0 & 0 & 0 & 0 & 0 \\\\\n",
       "0 & 1 & 0 & 0 & 0 & 0 \\\\\n",
       "0 & 0 & \\frac{1}{12} \\, \\sqrt{3} \\sqrt{2} \\sqrt{s_{9}} & 0 & 0 & 0 \\\\\n",
       "0 & 0 & 0 & \\frac{1}{24} \\, s_{9} & 0 & 0 \\\\\n",
       "0 & 0 & 0 & 0 & \\frac{1}{288} \\, \\sqrt{3} \\sqrt{2} s_{9}^{\\frac{3}{2}} & 0 \\\\\n",
       "0 & 0 & 0 & 0 & 0 & \\frac{1}{576} \\, s_{9}^{2}\n",
       "\\end{array}\\right)</script></html>"
      ],
      "text/latex": [
       "$$\\newcommand{\\Bold}[1]{\\mathbf{#1}}\\left(\\begin{array}{rrrrrr}\n",
       "1 & 0 & 0 & 0 & 0 & 0 \\\\\n",
       "0 & 1 & 0 & 0 & 0 & 0 \\\\\n",
       "0 & 0 & \\frac{1}{12} \\, \\sqrt{3} \\sqrt{2} \\sqrt{s_{9}} & 0 & 0 & 0 \\\\\n",
       "0 & 0 & 0 & \\frac{1}{24} \\, s_{9} & 0 & 0 \\\\\n",
       "0 & 0 & 0 & 0 & \\frac{1}{288} \\, \\sqrt{3} \\sqrt{2} s_{9}^{\\frac{3}{2}} & 0 \\\\\n",
       "0 & 0 & 0 & 0 & 0 & \\frac{1}{576} \\, s_{9}^{2}\n",
       "\\end{array}\\right)$$"
      ],
      "text/plain": [
       "[                             1                              0                              0                              0                              0                              0]\n",
       "[                             0                              1                              0                              0                              0                              0]\n",
       "[                             0                              0  1/12*sqrt(3)*sqrt(2)*sqrt(s9)                              0                              0                              0]\n",
       "[                             0                              0                              0                        1/24*s9                              0                              0]\n",
       "[                             0                              0                              0                              0 1/288*sqrt(3)*sqrt(2)*s9^(3/2)                              0]\n",
       "[                             0                              0                              0                              0                              0                     1/576*s9^2]"
      ]
     },
     "execution_count": 59,
     "metadata": {},
     "output_type": "execute_result"
    }
   ],
   "source": [
    "on_basis_nil = [f1, f2, f3, f4, f5, f6]\n",
    "matrix(6, 6, lambda i, j: ip_nil(on_basis_nil[i], on_basis_nil[j])).canonicalize_radical()"
   ]
  },
  {
   "cell_type": "markdown",
   "metadata": {},
   "source": [
    "So it follows that $s_9 = 24$. Indeed,"
   ]
  },
  {
   "cell_type": "code",
   "execution_count": 60,
   "metadata": {},
   "outputs": [
    {
     "data": {
      "text/html": [
       "<html><script type=\"math/tex; mode=display\">\\newcommand{\\Bold}[1]{\\mathbf{#1}}\\left(\\begin{array}{rrrrrr}\n",
       "1 & 0 & 0 & 0 & 0 & 0 \\\\\n",
       "0 & 1 & 0 & 0 & 0 & 0 \\\\\n",
       "0 & 0 & 1 & 0 & 0 & 0 \\\\\n",
       "0 & 0 & 0 & 1 & 0 & 0 \\\\\n",
       "0 & 0 & 0 & 0 & 1 & 0 \\\\\n",
       "0 & 0 & 0 & 0 & 0 & 1\n",
       "\\end{array}\\right)</script></html>"
      ],
      "text/latex": [
       "$$\\newcommand{\\Bold}[1]{\\mathbf{#1}}\\left(\\begin{array}{rrrrrr}\n",
       "1 & 0 & 0 & 0 & 0 & 0 \\\\\n",
       "0 & 1 & 0 & 0 & 0 & 0 \\\\\n",
       "0 & 0 & 1 & 0 & 0 & 0 \\\\\n",
       "0 & 0 & 0 & 1 & 0 & 0 \\\\\n",
       "0 & 0 & 0 & 0 & 1 & 0 \\\\\n",
       "0 & 0 & 0 & 0 & 0 & 1\n",
       "\\end{array}\\right)$$"
      ],
      "text/plain": [
       "[1 0 0 0 0 0]\n",
       "[0 1 0 0 0 0]\n",
       "[0 0 1 0 0 0]\n",
       "[0 0 0 1 0 0]\n",
       "[0 0 0 0 1 0]\n",
       "[0 0 0 0 0 1]"
      ]
     },
     "execution_count": 60,
     "metadata": {},
     "output_type": "execute_result"
    }
   ],
   "source": [
    "_.subs(s9=24).canonicalize_radical()"
   ]
  },
  {
   "cell_type": "markdown",
   "metadata": {},
   "source": [
    "So, the nilsoliton metric from Will's paper is"
   ]
  },
  {
   "cell_type": "code",
   "execution_count": 61,
   "metadata": {},
   "outputs": [
    {
     "data": {
      "text/html": [
       "<html><script type=\"math/tex; mode=display\">\\newcommand{\\Bold}[1]{\\mathbf{#1}}\\left(\\begin{array}{rrrrrr}\n",
       "1 & 0 & 0 & 0 & 0 & 0 \\\\\n",
       "0 & 1 & 0 & 0 & 0 & 0 \\\\\n",
       "0 & 0 & 4 & 0 & 0 & 0 \\\\\n",
       "0 & 0 & 0 & 24 & 0 & 0 \\\\\n",
       "0 & 0 & 0 & 0 & 144 & 0 \\\\\n",
       "0 & 0 & 0 & 0 & 0 & 576\n",
       "\\end{array}\\right)</script></html>"
      ],
      "text/latex": [
       "$$\\newcommand{\\Bold}[1]{\\mathbf{#1}}\\left(\\begin{array}{rrrrrr}\n",
       "1 & 0 & 0 & 0 & 0 & 0 \\\\\n",
       "0 & 1 & 0 & 0 & 0 & 0 \\\\\n",
       "0 & 0 & 4 & 0 & 0 & 0 \\\\\n",
       "0 & 0 & 0 & 24 & 0 & 0 \\\\\n",
       "0 & 0 & 0 & 0 & 144 & 0 \\\\\n",
       "0 & 0 & 0 & 0 & 0 & 576\n",
       "\\end{array}\\right)$$"
      ],
      "text/plain": [
       "[  1   0   0   0   0   0]\n",
       "[  0   1   0   0   0   0]\n",
       "[  0   0   4   0   0   0]\n",
       "[  0   0   0  24   0   0]\n",
       "[  0   0   0   0 144   0]\n",
       "[  0   0   0   0   0 576]"
      ]
     },
     "execution_count": 61,
     "metadata": {},
     "output_type": "execute_result"
    }
   ],
   "source": [
    "g_will = g_nil.subs(s9=24).canonicalize_radical()\n",
    "g_will"
   ]
  },
  {
   "cell_type": "markdown",
   "metadata": {},
   "source": [
    "---\n",
    "\n",
    "This notebook corresponds to the article \"The moduli space of left-invariant metrics on six-dimensional characteristically solvable nilmanifolds\" by I. Cardoso, A. Cosgaya, and S. Reggiani (2024)."
   ]
  }
 ],
 "metadata": {
  "kernelspec": {
   "display_name": "SageMath 9.3",
   "language": "sage",
   "name": "sagemath"
  },
  "language_info": {
   "codemirror_mode": {
    "name": "ipython",
    "version": 3
   },
   "file_extension": ".py",
   "mimetype": "text/x-python",
   "name": "python",
   "nbconvert_exporter": "python",
   "pygments_lexer": "ipython3",
   "version": "3.7.10"
  }
 },
 "nbformat": 4,
 "nbformat_minor": 5
}
